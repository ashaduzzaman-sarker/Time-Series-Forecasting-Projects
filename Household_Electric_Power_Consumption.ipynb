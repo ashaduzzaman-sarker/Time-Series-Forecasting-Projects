{
  "nbformat": 4,
  "nbformat_minor": 0,
  "metadata": {
    "colab": {
      "provenance": [],
      "collapsed_sections": [
        "gz-m37XUSsDf",
        "m14AnWFkRleK",
        "AOJCA5n2Rjvi",
        "4G6PUoRM_97g",
        "gh7VVwmGACi4",
        "S6rUYzSqAKTL",
        "lkpyRi_JAOj7",
        "BFW0wGn073IJ",
        "pclZsgB20voQ",
        "XRzBRU2W0e8L",
        "xrV6YuXf5NEF",
        "SCM2IM9J-L60",
        "RRiI8O2_BZPV",
        "rFDqtIRlColJ",
        "0UOFGYTlDi06",
        "-tjGHbcrHSTM",
        "aR91dKoMHBZq",
        "wXoS8CgaHrjE",
        "-8aVMRlyJJwn",
        "7sddbhvTG2Z2",
        "2kLxy5KTH13B",
        "1T9TUCRZIfBP",
        "IRMp965eKKox",
        "--bOqu4qscOb",
        "w0Z67FLotfxd",
        "e47QDQn6tv8c",
        "QX4qBS9_u1K7",
        "Zw7m7Uk2vsQN",
        "mpV0R-edwuBQ",
        "hbHU1PtM6n-Z",
        "c4hKU4kn7TE_",
        "pUd20mi_7km4",
        "uZ0WJRlj99pZ",
        "vqGBlcLk_Aga",
        "WTx3u9AgAPTU",
        "pOYrHCFfA5yC",
        "6urlsXcf2TX0",
        "vzzG3iCXAh4O",
        "hKOIKw6OESL8",
        "uE6wkVjjJbYn",
        "HWLmaZnCKrvU",
        "rrkD41h2MPuS",
        "Wz11V5XMCgL7",
        "PAdAXNowJ2Y0",
        "HgjSxAcyVMFf"
      ],
      "gpuType": "T4",
      "machine_shape": "hm"
    },
    "kernelspec": {
      "name": "python3",
      "display_name": "Python 3"
    },
    "language_info": {
      "name": "python"
    },
    "accelerator": "GPU"
  },
  "cells": [
    {
      "cell_type": "markdown",
      "source": [
        "# Household Electric Power Consumption Analysis & Forecasting with ARIMA, SARIMA, Prophet, RNN, LSTM, GRU Models\n",
        "---"
      ],
      "metadata": {
        "id": "oz8RCC5bQWND"
      }
    },
    {
      "cell_type": "markdown",
      "source": [
        "## Problem Definition"
      ],
      "metadata": {
        "id": "gz-m37XUSsDf"
      }
    },
    {
      "cell_type": "markdown",
      "source": [
        "Predict how much energy will have to be produced in December 2010 to serve customers.\n",
        "\n",
        "We have data from the year of December 2006 to the year of November 2010. The column Global_active_power is the target."
      ],
      "metadata": {
        "id": "YaihFijPStpN"
      }
    },
    {
      "cell_type": "markdown",
      "source": [
        "## About Dataset"
      ],
      "metadata": {
        "id": "m14AnWFkRleK"
      }
    },
    {
      "cell_type": "markdown",
      "source": [
        "**Data Set Information:**\n",
        "\n",
        "This archive contains 2075259 measurements gathered between December 2006 and November 2010 (47 months).\n",
        "Notes:\n",
        "\n",
        "- 1. (global_active_power*1000/60 - sub_metering_1 - sub_metering_2 - sub_metering_3) represents the active energy consumed every minute (in watt hour) in the household by electrical equipment not measured in sub-meterings 1, 2 and 3.\n",
        "\n",
        "- 2. The dataset contains some missing values in the measurements (nearly 1,25% of the rows). All calendar timestamps are present in the dataset but for some timestamps, the measurement values are missing: a missing value is represented by the absence of value between two consecutive semi-colon attribute separators. For instance, the dataset shows missing values on April 28, 2007.\n",
        "\n",
        "**Attribute Information:**\n",
        "- 1. date: Date in format dd/mm/yyyy\n",
        "\n",
        "- 2. time: time in format hh:mm:ss\n",
        "\n",
        "- 3. global_active_power: household global minute-averaged active power (in kilowatt)\n",
        "\n",
        "- 4. global_reactive_power: household global minute-averaged reactive power (in kilowatt)\n",
        "\n",
        "- 5. voltage: minute-averaged voltage (in volt)\n",
        "\n",
        "- 6. global_intensity: household global minute-averaged current intensity (in ampere)\n",
        "\n",
        "- 7. sub_metering_1: energy sub-metering No. 1 (in watt-hour of active energy). It corresponds to the kitchen, containing mainly a dishwasher, an oven and a microwave (hot plates are not electric but gas powered).\n",
        "\n",
        "- 8. sub_metering_2: energy sub-metering No. 2 (in watt-hour of active energy). It corresponds to the laundry room, containing a washing-machine, a tumble-drier, a refrigerator and a light.\n",
        "\n",
        "- 9. sub_metering_3: energy sub-metering No. 3 (in watt-hour of active energy). It corresponds to an electric water-heater and an air-conditioner."
      ],
      "metadata": {
        "id": "eE-E18epRriy"
      }
    },
    {
      "cell_type": "markdown",
      "source": [
        "## Data Preparation"
      ],
      "metadata": {
        "id": "AOJCA5n2Rjvi"
      }
    },
    {
      "cell_type": "markdown",
      "source": [
        "### Import Libraries"
      ],
      "metadata": {
        "id": "4G6PUoRM_97g"
      }
    },
    {
      "cell_type": "code",
      "source": [
        "import numpy as np\n",
        "import pandas as pd\n",
        "import matplotlib.pyplot as plt\n",
        "import seaborn as sns\n",
        "import datetime as dt\n",
        "\n",
        "import plotly.express as px\n",
        "import plotly.graph_objects as go\n",
        "import cufflinks as cf\n",
        "\n",
        "import warnings\n",
        "\n",
        "# Suppress warnings\n",
        "warnings.filterwarnings(\"ignore\")\n",
        "\n",
        "# Set default figure size for matplotlib\n",
        "plt.rcParams[\"figure.figsize\"] = (10, 6)\n",
        "\n",
        "# Set Seaborn style\n",
        "sns.set_style(\"whitegrid\")\n",
        "\n",
        "# Set pandas display options\n",
        "pd.set_option('display.float_format', lambda x: '%.3f' % x)\n",
        "pd.set_option('display.max_columns', None)  # Display all columns in the dataframe\n",
        "\n",
        "# Uncomment the line below if you want to display all rows in the dataframe\n",
        "# pd.set_option('display.max_rows', None)\n",
        "\n",
        "# Garbage collection for memory management\n",
        "import gc"
      ],
      "metadata": {
        "id": "XjXS0OX7o_X6"
      },
      "execution_count": null,
      "outputs": []
    },
    {
      "cell_type": "markdown",
      "source": [
        "### Load Data"
      ],
      "metadata": {
        "id": "gh7VVwmGACi4"
      }
    },
    {
      "cell_type": "code",
      "source": [
        "# Install Kaggle package\n",
        "!pip install -q kaggle\n",
        "\n",
        "# Create the Kaggle directory if it doesn't exist\n",
        "import os\n",
        "\n",
        "kaggle_dir = os.path.expanduser('~/.kaggle')\n",
        "if not os.path.exists(kaggle_dir):\n",
        "    os.makedirs(kaggle_dir)\n",
        "\n",
        "# Copy the kaggle.json file into the Kaggle directory\n",
        "!cp kaggle.json ~/.kaggle/\n",
        "\n",
        "# Set permissions for the kaggle.json file\n",
        "!chmod 600 ~/.kaggle/kaggle.json\n",
        "\n",
        "# Download the dataset from Kaggle\n",
        "!kaggle datasets download -d uciml/electric-power-consumption-data-set"
      ],
      "metadata": {
        "colab": {
          "base_uri": "https://localhost:8080/"
        },
        "id": "vGGp0tNQRjFC",
        "outputId": "57cfbc9d-c0f5-4807-a403-ef765580e263"
      },
      "execution_count": null,
      "outputs": [
        {
          "output_type": "stream",
          "name": "stdout",
          "text": [
            "cp: cannot stat 'kaggle.json': No such file or directory\n",
            "chmod: cannot access '/root/.kaggle/kaggle.json': No such file or directory\n",
            "Dataset URL: https://www.kaggle.com/datasets/uciml/electric-power-consumption-data-set\n",
            "License(s): DbCL-1.0\n",
            "Downloading electric-power-consumption-data-set.zip to /content\n",
            " 26% 5.00M/19.4M [00:00<00:00, 29.7MB/s]\n",
            "100% 19.4M/19.4M [00:00<00:00, 78.1MB/s]\n"
          ]
        }
      ]
    },
    {
      "cell_type": "code",
      "execution_count": null,
      "metadata": {
        "id": "4swB12f7PymE"
      },
      "outputs": [],
      "source": [
        "# Unzip the downloaded dataset\n",
        "!unzip -q '/content/electric-power-consumption-data-set.zip' -d '/content/dataset/'"
      ]
    },
    {
      "cell_type": "code",
      "source": [
        "# Path to the dataset\n",
        "file_path = '/content/dataset/household_power_consumption.txt'\n",
        "\n",
        "# Read the CSV file, parse 'date' column as datetime, and set it as index\n",
        "df = pd.read_csv(file_path,\n",
        "                sep=';',\n",
        "                parse_dates={'Date_time' : ['Date', 'Time']},  # Convert 'date_hora' column to datetime\n",
        "                # index_col='Date_time',     # Set 'date' column as index\n",
        "                infer_datetime_format=True,\n",
        "                low_memory=False,\n",
        "                na_values=['nan', '?'])"
      ],
      "metadata": {
        "collapsed": true,
        "id": "Yzc5Xp3Sg1aO"
      },
      "execution_count": null,
      "outputs": []
    },
    {
      "cell_type": "markdown",
      "source": [
        "### Explore Data"
      ],
      "metadata": {
        "id": "S6rUYzSqAKTL"
      }
    },
    {
      "cell_type": "code",
      "source": [
        "# Display the dataframe\n",
        "df"
      ],
      "metadata": {
        "colab": {
          "base_uri": "https://localhost:8080/"
        },
        "id": "C1rd9C_UsBgZ",
        "outputId": "cb786baa-3c0a-4853-9358-e1df49c0e89d"
      },
      "execution_count": null,
      "outputs": [
        {
          "output_type": "execute_result",
          "data": {
            "text/plain": [
              "                  Date_time  Global_active_power  Global_reactive_power  \\\n",
              "0       2006-12-16 17:24:00                4.216                  0.418   \n",
              "1       2006-12-16 17:25:00                5.360                  0.436   \n",
              "2       2006-12-16 17:26:00                5.374                  0.498   \n",
              "3       2006-12-16 17:27:00                5.388                  0.502   \n",
              "4       2006-12-16 17:28:00                3.666                  0.528   \n",
              "...                     ...                  ...                    ...   \n",
              "2075254 2010-11-26 20:58:00                0.946                  0.000   \n",
              "2075255 2010-11-26 20:59:00                0.944                  0.000   \n",
              "2075256 2010-11-26 21:00:00                0.938                  0.000   \n",
              "2075257 2010-11-26 21:01:00                0.934                  0.000   \n",
              "2075258 2010-11-26 21:02:00                0.932                  0.000   \n",
              "\n",
              "         Voltage  Global_intensity  Sub_metering_1  Sub_metering_2  \\\n",
              "0        234.840            18.400           0.000           1.000   \n",
              "1        233.630            23.000           0.000           1.000   \n",
              "2        233.290            23.000           0.000           2.000   \n",
              "3        233.740            23.000           0.000           1.000   \n",
              "4        235.680            15.800           0.000           1.000   \n",
              "...          ...               ...             ...             ...   \n",
              "2075254  240.430             4.000           0.000           0.000   \n",
              "2075255  240.000             4.000           0.000           0.000   \n",
              "2075256  239.820             3.800           0.000           0.000   \n",
              "2075257  239.700             3.800           0.000           0.000   \n",
              "2075258  239.550             3.800           0.000           0.000   \n",
              "\n",
              "         Sub_metering_3  \n",
              "0                17.000  \n",
              "1                16.000  \n",
              "2                17.000  \n",
              "3                17.000  \n",
              "4                17.000  \n",
              "...                 ...  \n",
              "2075254           0.000  \n",
              "2075255           0.000  \n",
              "2075256           0.000  \n",
              "2075257           0.000  \n",
              "2075258           0.000  \n",
              "\n",
              "[2075259 rows x 8 columns]"
            ],
            "text/html": [
              "\n",
              "  <div id=\"df-a58b66f0-013a-46a7-ad5c-7b0583dab2fa\" class=\"colab-df-container\">\n",
              "    <div>\n",
              "<style scoped>\n",
              "    .dataframe tbody tr th:only-of-type {\n",
              "        vertical-align: middle;\n",
              "    }\n",
              "\n",
              "    .dataframe tbody tr th {\n",
              "        vertical-align: top;\n",
              "    }\n",
              "\n",
              "    .dataframe thead th {\n",
              "        text-align: right;\n",
              "    }\n",
              "</style>\n",
              "<table border=\"1\" class=\"dataframe\">\n",
              "  <thead>\n",
              "    <tr style=\"text-align: right;\">\n",
              "      <th></th>\n",
              "      <th>Date_time</th>\n",
              "      <th>Global_active_power</th>\n",
              "      <th>Global_reactive_power</th>\n",
              "      <th>Voltage</th>\n",
              "      <th>Global_intensity</th>\n",
              "      <th>Sub_metering_1</th>\n",
              "      <th>Sub_metering_2</th>\n",
              "      <th>Sub_metering_3</th>\n",
              "    </tr>\n",
              "  </thead>\n",
              "  <tbody>\n",
              "    <tr>\n",
              "      <th>0</th>\n",
              "      <td>2006-12-16 17:24:00</td>\n",
              "      <td>4.216</td>\n",
              "      <td>0.418</td>\n",
              "      <td>234.840</td>\n",
              "      <td>18.400</td>\n",
              "      <td>0.000</td>\n",
              "      <td>1.000</td>\n",
              "      <td>17.000</td>\n",
              "    </tr>\n",
              "    <tr>\n",
              "      <th>1</th>\n",
              "      <td>2006-12-16 17:25:00</td>\n",
              "      <td>5.360</td>\n",
              "      <td>0.436</td>\n",
              "      <td>233.630</td>\n",
              "      <td>23.000</td>\n",
              "      <td>0.000</td>\n",
              "      <td>1.000</td>\n",
              "      <td>16.000</td>\n",
              "    </tr>\n",
              "    <tr>\n",
              "      <th>2</th>\n",
              "      <td>2006-12-16 17:26:00</td>\n",
              "      <td>5.374</td>\n",
              "      <td>0.498</td>\n",
              "      <td>233.290</td>\n",
              "      <td>23.000</td>\n",
              "      <td>0.000</td>\n",
              "      <td>2.000</td>\n",
              "      <td>17.000</td>\n",
              "    </tr>\n",
              "    <tr>\n",
              "      <th>3</th>\n",
              "      <td>2006-12-16 17:27:00</td>\n",
              "      <td>5.388</td>\n",
              "      <td>0.502</td>\n",
              "      <td>233.740</td>\n",
              "      <td>23.000</td>\n",
              "      <td>0.000</td>\n",
              "      <td>1.000</td>\n",
              "      <td>17.000</td>\n",
              "    </tr>\n",
              "    <tr>\n",
              "      <th>4</th>\n",
              "      <td>2006-12-16 17:28:00</td>\n",
              "      <td>3.666</td>\n",
              "      <td>0.528</td>\n",
              "      <td>235.680</td>\n",
              "      <td>15.800</td>\n",
              "      <td>0.000</td>\n",
              "      <td>1.000</td>\n",
              "      <td>17.000</td>\n",
              "    </tr>\n",
              "    <tr>\n",
              "      <th>...</th>\n",
              "      <td>...</td>\n",
              "      <td>...</td>\n",
              "      <td>...</td>\n",
              "      <td>...</td>\n",
              "      <td>...</td>\n",
              "      <td>...</td>\n",
              "      <td>...</td>\n",
              "      <td>...</td>\n",
              "    </tr>\n",
              "    <tr>\n",
              "      <th>2075254</th>\n",
              "      <td>2010-11-26 20:58:00</td>\n",
              "      <td>0.946</td>\n",
              "      <td>0.000</td>\n",
              "      <td>240.430</td>\n",
              "      <td>4.000</td>\n",
              "      <td>0.000</td>\n",
              "      <td>0.000</td>\n",
              "      <td>0.000</td>\n",
              "    </tr>\n",
              "    <tr>\n",
              "      <th>2075255</th>\n",
              "      <td>2010-11-26 20:59:00</td>\n",
              "      <td>0.944</td>\n",
              "      <td>0.000</td>\n",
              "      <td>240.000</td>\n",
              "      <td>4.000</td>\n",
              "      <td>0.000</td>\n",
              "      <td>0.000</td>\n",
              "      <td>0.000</td>\n",
              "    </tr>\n",
              "    <tr>\n",
              "      <th>2075256</th>\n",
              "      <td>2010-11-26 21:00:00</td>\n",
              "      <td>0.938</td>\n",
              "      <td>0.000</td>\n",
              "      <td>239.820</td>\n",
              "      <td>3.800</td>\n",
              "      <td>0.000</td>\n",
              "      <td>0.000</td>\n",
              "      <td>0.000</td>\n",
              "    </tr>\n",
              "    <tr>\n",
              "      <th>2075257</th>\n",
              "      <td>2010-11-26 21:01:00</td>\n",
              "      <td>0.934</td>\n",
              "      <td>0.000</td>\n",
              "      <td>239.700</td>\n",
              "      <td>3.800</td>\n",
              "      <td>0.000</td>\n",
              "      <td>0.000</td>\n",
              "      <td>0.000</td>\n",
              "    </tr>\n",
              "    <tr>\n",
              "      <th>2075258</th>\n",
              "      <td>2010-11-26 21:02:00</td>\n",
              "      <td>0.932</td>\n",
              "      <td>0.000</td>\n",
              "      <td>239.550</td>\n",
              "      <td>3.800</td>\n",
              "      <td>0.000</td>\n",
              "      <td>0.000</td>\n",
              "      <td>0.000</td>\n",
              "    </tr>\n",
              "  </tbody>\n",
              "</table>\n",
              "<p>2075259 rows × 8 columns</p>\n",
              "</div>\n",
              "    <div class=\"colab-df-buttons\">\n",
              "\n",
              "  <div class=\"colab-df-container\">\n",
              "    <button class=\"colab-df-convert\" onclick=\"convertToInteractive('df-a58b66f0-013a-46a7-ad5c-7b0583dab2fa')\"\n",
              "            title=\"Convert this dataframe to an interactive table.\"\n",
              "            style=\"display:none;\">\n",
              "\n",
              "  <svg xmlns=\"http://www.w3.org/2000/svg\" height=\"24px\" viewBox=\"0 -960 960 960\">\n",
              "    <path d=\"M120-120v-720h720v720H120Zm60-500h600v-160H180v160Zm220 220h160v-160H400v160Zm0 220h160v-160H400v160ZM180-400h160v-160H180v160Zm440 0h160v-160H620v160ZM180-180h160v-160H180v160Zm440 0h160v-160H620v160Z\"/>\n",
              "  </svg>\n",
              "    </button>\n",
              "\n",
              "  <style>\n",
              "    .colab-df-container {\n",
              "      display:flex;\n",
              "      gap: 12px;\n",
              "    }\n",
              "\n",
              "    .colab-df-convert {\n",
              "      background-color: #E8F0FE;\n",
              "      border: none;\n",
              "      border-radius: 50%;\n",
              "      cursor: pointer;\n",
              "      display: none;\n",
              "      fill: #1967D2;\n",
              "      height: 32px;\n",
              "      padding: 0 0 0 0;\n",
              "      width: 32px;\n",
              "    }\n",
              "\n",
              "    .colab-df-convert:hover {\n",
              "      background-color: #E2EBFA;\n",
              "      box-shadow: 0px 1px 2px rgba(60, 64, 67, 0.3), 0px 1px 3px 1px rgba(60, 64, 67, 0.15);\n",
              "      fill: #174EA6;\n",
              "    }\n",
              "\n",
              "    .colab-df-buttons div {\n",
              "      margin-bottom: 4px;\n",
              "    }\n",
              "\n",
              "    [theme=dark] .colab-df-convert {\n",
              "      background-color: #3B4455;\n",
              "      fill: #D2E3FC;\n",
              "    }\n",
              "\n",
              "    [theme=dark] .colab-df-convert:hover {\n",
              "      background-color: #434B5C;\n",
              "      box-shadow: 0px 1px 3px 1px rgba(0, 0, 0, 0.15);\n",
              "      filter: drop-shadow(0px 1px 2px rgba(0, 0, 0, 0.3));\n",
              "      fill: #FFFFFF;\n",
              "    }\n",
              "  </style>\n",
              "\n",
              "    <script>\n",
              "      const buttonEl =\n",
              "        document.querySelector('#df-a58b66f0-013a-46a7-ad5c-7b0583dab2fa button.colab-df-convert');\n",
              "      buttonEl.style.display =\n",
              "        google.colab.kernel.accessAllowed ? 'block' : 'none';\n",
              "\n",
              "      async function convertToInteractive(key) {\n",
              "        const element = document.querySelector('#df-a58b66f0-013a-46a7-ad5c-7b0583dab2fa');\n",
              "        const dataTable =\n",
              "          await google.colab.kernel.invokeFunction('convertToInteractive',\n",
              "                                                    [key], {});\n",
              "        if (!dataTable) return;\n",
              "\n",
              "        const docLinkHtml = 'Like what you see? Visit the ' +\n",
              "          '<a target=\"_blank\" href=https://colab.research.google.com/notebooks/data_table.ipynb>data table notebook</a>'\n",
              "          + ' to learn more about interactive tables.';\n",
              "        element.innerHTML = '';\n",
              "        dataTable['output_type'] = 'display_data';\n",
              "        await google.colab.output.renderOutput(dataTable, element);\n",
              "        const docLink = document.createElement('div');\n",
              "        docLink.innerHTML = docLinkHtml;\n",
              "        element.appendChild(docLink);\n",
              "      }\n",
              "    </script>\n",
              "  </div>\n",
              "\n",
              "\n",
              "<div id=\"df-7394535b-2124-4cd2-b51a-66dca4820482\">\n",
              "  <button class=\"colab-df-quickchart\" onclick=\"quickchart('df-7394535b-2124-4cd2-b51a-66dca4820482')\"\n",
              "            title=\"Suggest charts\"\n",
              "            style=\"display:none;\">\n",
              "\n",
              "<svg xmlns=\"http://www.w3.org/2000/svg\" height=\"24px\"viewBox=\"0 0 24 24\"\n",
              "     width=\"24px\">\n",
              "    <g>\n",
              "        <path d=\"M19 3H5c-1.1 0-2 .9-2 2v14c0 1.1.9 2 2 2h14c1.1 0 2-.9 2-2V5c0-1.1-.9-2-2-2zM9 17H7v-7h2v7zm4 0h-2V7h2v10zm4 0h-2v-4h2v4z\"/>\n",
              "    </g>\n",
              "</svg>\n",
              "  </button>\n",
              "\n",
              "<style>\n",
              "  .colab-df-quickchart {\n",
              "      --bg-color: #E8F0FE;\n",
              "      --fill-color: #1967D2;\n",
              "      --hover-bg-color: #E2EBFA;\n",
              "      --hover-fill-color: #174EA6;\n",
              "      --disabled-fill-color: #AAA;\n",
              "      --disabled-bg-color: #DDD;\n",
              "  }\n",
              "\n",
              "  [theme=dark] .colab-df-quickchart {\n",
              "      --bg-color: #3B4455;\n",
              "      --fill-color: #D2E3FC;\n",
              "      --hover-bg-color: #434B5C;\n",
              "      --hover-fill-color: #FFFFFF;\n",
              "      --disabled-bg-color: #3B4455;\n",
              "      --disabled-fill-color: #666;\n",
              "  }\n",
              "\n",
              "  .colab-df-quickchart {\n",
              "    background-color: var(--bg-color);\n",
              "    border: none;\n",
              "    border-radius: 50%;\n",
              "    cursor: pointer;\n",
              "    display: none;\n",
              "    fill: var(--fill-color);\n",
              "    height: 32px;\n",
              "    padding: 0;\n",
              "    width: 32px;\n",
              "  }\n",
              "\n",
              "  .colab-df-quickchart:hover {\n",
              "    background-color: var(--hover-bg-color);\n",
              "    box-shadow: 0 1px 2px rgba(60, 64, 67, 0.3), 0 1px 3px 1px rgba(60, 64, 67, 0.15);\n",
              "    fill: var(--button-hover-fill-color);\n",
              "  }\n",
              "\n",
              "  .colab-df-quickchart-complete:disabled,\n",
              "  .colab-df-quickchart-complete:disabled:hover {\n",
              "    background-color: var(--disabled-bg-color);\n",
              "    fill: var(--disabled-fill-color);\n",
              "    box-shadow: none;\n",
              "  }\n",
              "\n",
              "  .colab-df-spinner {\n",
              "    border: 2px solid var(--fill-color);\n",
              "    border-color: transparent;\n",
              "    border-bottom-color: var(--fill-color);\n",
              "    animation:\n",
              "      spin 1s steps(1) infinite;\n",
              "  }\n",
              "\n",
              "  @keyframes spin {\n",
              "    0% {\n",
              "      border-color: transparent;\n",
              "      border-bottom-color: var(--fill-color);\n",
              "      border-left-color: var(--fill-color);\n",
              "    }\n",
              "    20% {\n",
              "      border-color: transparent;\n",
              "      border-left-color: var(--fill-color);\n",
              "      border-top-color: var(--fill-color);\n",
              "    }\n",
              "    30% {\n",
              "      border-color: transparent;\n",
              "      border-left-color: var(--fill-color);\n",
              "      border-top-color: var(--fill-color);\n",
              "      border-right-color: var(--fill-color);\n",
              "    }\n",
              "    40% {\n",
              "      border-color: transparent;\n",
              "      border-right-color: var(--fill-color);\n",
              "      border-top-color: var(--fill-color);\n",
              "    }\n",
              "    60% {\n",
              "      border-color: transparent;\n",
              "      border-right-color: var(--fill-color);\n",
              "    }\n",
              "    80% {\n",
              "      border-color: transparent;\n",
              "      border-right-color: var(--fill-color);\n",
              "      border-bottom-color: var(--fill-color);\n",
              "    }\n",
              "    90% {\n",
              "      border-color: transparent;\n",
              "      border-bottom-color: var(--fill-color);\n",
              "    }\n",
              "  }\n",
              "</style>\n",
              "\n",
              "  <script>\n",
              "    async function quickchart(key) {\n",
              "      const quickchartButtonEl =\n",
              "        document.querySelector('#' + key + ' button');\n",
              "      quickchartButtonEl.disabled = true;  // To prevent multiple clicks.\n",
              "      quickchartButtonEl.classList.add('colab-df-spinner');\n",
              "      try {\n",
              "        const charts = await google.colab.kernel.invokeFunction(\n",
              "            'suggestCharts', [key], {});\n",
              "      } catch (error) {\n",
              "        console.error('Error during call to suggestCharts:', error);\n",
              "      }\n",
              "      quickchartButtonEl.classList.remove('colab-df-spinner');\n",
              "      quickchartButtonEl.classList.add('colab-df-quickchart-complete');\n",
              "    }\n",
              "    (() => {\n",
              "      let quickchartButtonEl =\n",
              "        document.querySelector('#df-7394535b-2124-4cd2-b51a-66dca4820482 button');\n",
              "      quickchartButtonEl.style.display =\n",
              "        google.colab.kernel.accessAllowed ? 'block' : 'none';\n",
              "    })();\n",
              "  </script>\n",
              "</div>\n",
              "    </div>\n",
              "  </div>\n"
            ],
            "application/vnd.google.colaboratory.intrinsic+json": {
              "type": "dataframe",
              "variable_name": "df"
            }
          },
          "metadata": {},
          "execution_count": 6
        }
      ]
    },
    {
      "cell_type": "code",
      "source": [
        "print(df.info())"
      ],
      "metadata": {
        "colab": {
          "base_uri": "https://localhost:8080/"
        },
        "id": "Im5_1Qltsc7C",
        "outputId": "f7439622-e2ad-4b8e-96c8-620a7b57dcf3"
      },
      "execution_count": null,
      "outputs": [
        {
          "output_type": "stream",
          "name": "stdout",
          "text": [
            "<class 'pandas.core.frame.DataFrame'>\n",
            "RangeIndex: 2075259 entries, 0 to 2075258\n",
            "Data columns (total 8 columns):\n",
            " #   Column                 Dtype         \n",
            "---  ------                 -----         \n",
            " 0   Date_time              datetime64[ns]\n",
            " 1   Global_active_power    float64       \n",
            " 2   Global_reactive_power  float64       \n",
            " 3   Voltage                float64       \n",
            " 4   Global_intensity       float64       \n",
            " 5   Sub_metering_1         float64       \n",
            " 6   Sub_metering_2         float64       \n",
            " 7   Sub_metering_3         float64       \n",
            "dtypes: datetime64[ns](1), float64(7)\n",
            "memory usage: 126.7 MB\n",
            "None\n"
          ]
        }
      ]
    },
    {
      "cell_type": "code",
      "source": [
        "# Display descriptive statistics of the dataframe, transposed for better readability\n",
        "print(df.describe().T)"
      ],
      "metadata": {
        "colab": {
          "base_uri": "https://localhost:8080/"
        },
        "id": "3Ddr1RQ-sedL",
        "outputId": "c92a4d57-ec5e-446e-b667-31d0a0c426c7"
      },
      "execution_count": null,
      "outputs": [
        {
          "output_type": "stream",
          "name": "stdout",
          "text": [
            "                            count                           mean  \\\n",
            "Date_time                 2075259  2008-12-06 07:12:59.999994112   \n",
            "Global_active_power   2049280.000                          1.092   \n",
            "Global_reactive_power 2049280.000                          0.124   \n",
            "Voltage               2049280.000                        240.840   \n",
            "Global_intensity      2049280.000                          4.628   \n",
            "Sub_metering_1        2049280.000                          1.122   \n",
            "Sub_metering_2        2049280.000                          1.299   \n",
            "Sub_metering_3        2049280.000                          6.458   \n",
            "\n",
            "                                       min                  25%  \\\n",
            "Date_time              2006-12-16 17:24:00  2007-12-12 00:18:30   \n",
            "Global_active_power                  0.076                0.308   \n",
            "Global_reactive_power                0.000                0.048   \n",
            "Voltage                            223.200              238.990   \n",
            "Global_intensity                     0.200                1.400   \n",
            "Sub_metering_1                       0.000                0.000   \n",
            "Sub_metering_2                       0.000                0.000   \n",
            "Sub_metering_3                       0.000                0.000   \n",
            "\n",
            "                                       50%                  75%  \\\n",
            "Date_time              2008-12-06 07:13:00  2009-12-01 14:07:30   \n",
            "Global_active_power                  0.602                1.528   \n",
            "Global_reactive_power                0.100                0.194   \n",
            "Voltage                            241.010              242.890   \n",
            "Global_intensity                     2.600                6.400   \n",
            "Sub_metering_1                       0.000                0.000   \n",
            "Sub_metering_2                       0.000                1.000   \n",
            "Sub_metering_3                       1.000               17.000   \n",
            "\n",
            "                                       max   std  \n",
            "Date_time              2010-11-26 21:02:00   NaN  \n",
            "Global_active_power                 11.122 1.057  \n",
            "Global_reactive_power                1.390 0.113  \n",
            "Voltage                            254.150 3.240  \n",
            "Global_intensity                    48.400 4.444  \n",
            "Sub_metering_1                      88.000 6.153  \n",
            "Sub_metering_2                      80.000 5.822  \n",
            "Sub_metering_3                      31.000 8.437  \n"
          ]
        }
      ]
    },
    {
      "cell_type": "code",
      "source": [
        "print(df.head())"
      ],
      "metadata": {
        "colab": {
          "base_uri": "https://localhost:8080/"
        },
        "id": "fUdFM5K6smka",
        "outputId": "83289d2c-07b5-4f4f-9ec1-7cac1455a1fb"
      },
      "execution_count": null,
      "outputs": [
        {
          "output_type": "stream",
          "name": "stdout",
          "text": [
            "            Date_time  Global_active_power  Global_reactive_power  Voltage  \\\n",
            "0 2006-12-16 17:24:00                4.216                  0.418  234.840   \n",
            "1 2006-12-16 17:25:00                5.360                  0.436  233.630   \n",
            "2 2006-12-16 17:26:00                5.374                  0.498  233.290   \n",
            "3 2006-12-16 17:27:00                5.388                  0.502  233.740   \n",
            "4 2006-12-16 17:28:00                3.666                  0.528  235.680   \n",
            "\n",
            "   Global_intensity  Sub_metering_1  Sub_metering_2  Sub_metering_3  \n",
            "0            18.400           0.000           1.000          17.000  \n",
            "1            23.000           0.000           1.000          16.000  \n",
            "2            23.000           0.000           2.000          17.000  \n",
            "3            23.000           0.000           1.000          17.000  \n",
            "4            15.800           0.000           1.000          17.000  \n"
          ]
        }
      ]
    },
    {
      "cell_type": "markdown",
      "source": [
        "### Create new features based on the datetime index"
      ],
      "metadata": {
        "id": "lkpyRi_JAOj7"
      }
    },
    {
      "cell_type": "code",
      "source": [
        "data = df.copy()"
      ],
      "metadata": {
        "id": "_Vmx0offw2p_"
      },
      "execution_count": null,
      "outputs": []
    },
    {
      "cell_type": "code",
      "execution_count": null,
      "metadata": {
        "id": "ssO4DW5kjQkc"
      },
      "outputs": [],
      "source": [
        "# Convert Time column to datetime\n",
        "data['Date_time'] = pd.to_datetime(data['Date_time'], format='%Y%m%d:%H%M')"
      ]
    },
    {
      "cell_type": "code",
      "source": [
        "# Create new features based on the datetime index\n",
        "data['Year'] = data['Date_time'].dt.year\n",
        "data['Month'] = data['Date_time'].dt.month\n",
        "data['Day'] = data['Date_time'].dt.day\n",
        "data['Hour'] = data['Date_time'].dt.hour\n",
        "data['DayOfWeek'] = data['Date_time'].dt.dayofweek\n",
        "data['Month'] = data['Date_time'].dt.month"
      ],
      "metadata": {
        "id": "kfrtvTWpxcHX"
      },
      "execution_count": null,
      "outputs": []
    },
    {
      "cell_type": "code",
      "source": [
        "# Display the first few rows of the dataframe with new features\n",
        "data.head()"
      ],
      "metadata": {
        "id": "MtxMYgIbstlT",
        "colab": {
          "base_uri": "https://localhost:8080/"
        },
        "outputId": "efa0fc34-51c4-4e30-f13e-d11eabfd35ca"
      },
      "execution_count": null,
      "outputs": [
        {
          "output_type": "execute_result",
          "data": {
            "text/plain": [
              "            Date_time  Global_active_power  Global_reactive_power  Voltage  \\\n",
              "0 2006-12-16 17:24:00                4.216                  0.418  234.840   \n",
              "1 2006-12-16 17:25:00                5.360                  0.436  233.630   \n",
              "2 2006-12-16 17:26:00                5.374                  0.498  233.290   \n",
              "3 2006-12-16 17:27:00                5.388                  0.502  233.740   \n",
              "4 2006-12-16 17:28:00                3.666                  0.528  235.680   \n",
              "\n",
              "   Global_intensity  Sub_metering_1  Sub_metering_2  Sub_metering_3  Year  \\\n",
              "0            18.400           0.000           1.000          17.000  2006   \n",
              "1            23.000           0.000           1.000          16.000  2006   \n",
              "2            23.000           0.000           2.000          17.000  2006   \n",
              "3            23.000           0.000           1.000          17.000  2006   \n",
              "4            15.800           0.000           1.000          17.000  2006   \n",
              "\n",
              "   Month  Day  Hour  DayOfWeek  \n",
              "0     12   16    17          5  \n",
              "1     12   16    17          5  \n",
              "2     12   16    17          5  \n",
              "3     12   16    17          5  \n",
              "4     12   16    17          5  "
            ],
            "text/html": [
              "\n",
              "  <div id=\"df-ea9922eb-351a-4f02-bd8b-a05dacf9b46c\" class=\"colab-df-container\">\n",
              "    <div>\n",
              "<style scoped>\n",
              "    .dataframe tbody tr th:only-of-type {\n",
              "        vertical-align: middle;\n",
              "    }\n",
              "\n",
              "    .dataframe tbody tr th {\n",
              "        vertical-align: top;\n",
              "    }\n",
              "\n",
              "    .dataframe thead th {\n",
              "        text-align: right;\n",
              "    }\n",
              "</style>\n",
              "<table border=\"1\" class=\"dataframe\">\n",
              "  <thead>\n",
              "    <tr style=\"text-align: right;\">\n",
              "      <th></th>\n",
              "      <th>Date_time</th>\n",
              "      <th>Global_active_power</th>\n",
              "      <th>Global_reactive_power</th>\n",
              "      <th>Voltage</th>\n",
              "      <th>Global_intensity</th>\n",
              "      <th>Sub_metering_1</th>\n",
              "      <th>Sub_metering_2</th>\n",
              "      <th>Sub_metering_3</th>\n",
              "      <th>Year</th>\n",
              "      <th>Month</th>\n",
              "      <th>Day</th>\n",
              "      <th>Hour</th>\n",
              "      <th>DayOfWeek</th>\n",
              "    </tr>\n",
              "  </thead>\n",
              "  <tbody>\n",
              "    <tr>\n",
              "      <th>0</th>\n",
              "      <td>2006-12-16 17:24:00</td>\n",
              "      <td>4.216</td>\n",
              "      <td>0.418</td>\n",
              "      <td>234.840</td>\n",
              "      <td>18.400</td>\n",
              "      <td>0.000</td>\n",
              "      <td>1.000</td>\n",
              "      <td>17.000</td>\n",
              "      <td>2006</td>\n",
              "      <td>12</td>\n",
              "      <td>16</td>\n",
              "      <td>17</td>\n",
              "      <td>5</td>\n",
              "    </tr>\n",
              "    <tr>\n",
              "      <th>1</th>\n",
              "      <td>2006-12-16 17:25:00</td>\n",
              "      <td>5.360</td>\n",
              "      <td>0.436</td>\n",
              "      <td>233.630</td>\n",
              "      <td>23.000</td>\n",
              "      <td>0.000</td>\n",
              "      <td>1.000</td>\n",
              "      <td>16.000</td>\n",
              "      <td>2006</td>\n",
              "      <td>12</td>\n",
              "      <td>16</td>\n",
              "      <td>17</td>\n",
              "      <td>5</td>\n",
              "    </tr>\n",
              "    <tr>\n",
              "      <th>2</th>\n",
              "      <td>2006-12-16 17:26:00</td>\n",
              "      <td>5.374</td>\n",
              "      <td>0.498</td>\n",
              "      <td>233.290</td>\n",
              "      <td>23.000</td>\n",
              "      <td>0.000</td>\n",
              "      <td>2.000</td>\n",
              "      <td>17.000</td>\n",
              "      <td>2006</td>\n",
              "      <td>12</td>\n",
              "      <td>16</td>\n",
              "      <td>17</td>\n",
              "      <td>5</td>\n",
              "    </tr>\n",
              "    <tr>\n",
              "      <th>3</th>\n",
              "      <td>2006-12-16 17:27:00</td>\n",
              "      <td>5.388</td>\n",
              "      <td>0.502</td>\n",
              "      <td>233.740</td>\n",
              "      <td>23.000</td>\n",
              "      <td>0.000</td>\n",
              "      <td>1.000</td>\n",
              "      <td>17.000</td>\n",
              "      <td>2006</td>\n",
              "      <td>12</td>\n",
              "      <td>16</td>\n",
              "      <td>17</td>\n",
              "      <td>5</td>\n",
              "    </tr>\n",
              "    <tr>\n",
              "      <th>4</th>\n",
              "      <td>2006-12-16 17:28:00</td>\n",
              "      <td>3.666</td>\n",
              "      <td>0.528</td>\n",
              "      <td>235.680</td>\n",
              "      <td>15.800</td>\n",
              "      <td>0.000</td>\n",
              "      <td>1.000</td>\n",
              "      <td>17.000</td>\n",
              "      <td>2006</td>\n",
              "      <td>12</td>\n",
              "      <td>16</td>\n",
              "      <td>17</td>\n",
              "      <td>5</td>\n",
              "    </tr>\n",
              "  </tbody>\n",
              "</table>\n",
              "</div>\n",
              "    <div class=\"colab-df-buttons\">\n",
              "\n",
              "  <div class=\"colab-df-container\">\n",
              "    <button class=\"colab-df-convert\" onclick=\"convertToInteractive('df-ea9922eb-351a-4f02-bd8b-a05dacf9b46c')\"\n",
              "            title=\"Convert this dataframe to an interactive table.\"\n",
              "            style=\"display:none;\">\n",
              "\n",
              "  <svg xmlns=\"http://www.w3.org/2000/svg\" height=\"24px\" viewBox=\"0 -960 960 960\">\n",
              "    <path d=\"M120-120v-720h720v720H120Zm60-500h600v-160H180v160Zm220 220h160v-160H400v160Zm0 220h160v-160H400v160ZM180-400h160v-160H180v160Zm440 0h160v-160H620v160ZM180-180h160v-160H180v160Zm440 0h160v-160H620v160Z\"/>\n",
              "  </svg>\n",
              "    </button>\n",
              "\n",
              "  <style>\n",
              "    .colab-df-container {\n",
              "      display:flex;\n",
              "      gap: 12px;\n",
              "    }\n",
              "\n",
              "    .colab-df-convert {\n",
              "      background-color: #E8F0FE;\n",
              "      border: none;\n",
              "      border-radius: 50%;\n",
              "      cursor: pointer;\n",
              "      display: none;\n",
              "      fill: #1967D2;\n",
              "      height: 32px;\n",
              "      padding: 0 0 0 0;\n",
              "      width: 32px;\n",
              "    }\n",
              "\n",
              "    .colab-df-convert:hover {\n",
              "      background-color: #E2EBFA;\n",
              "      box-shadow: 0px 1px 2px rgba(60, 64, 67, 0.3), 0px 1px 3px 1px rgba(60, 64, 67, 0.15);\n",
              "      fill: #174EA6;\n",
              "    }\n",
              "\n",
              "    .colab-df-buttons div {\n",
              "      margin-bottom: 4px;\n",
              "    }\n",
              "\n",
              "    [theme=dark] .colab-df-convert {\n",
              "      background-color: #3B4455;\n",
              "      fill: #D2E3FC;\n",
              "    }\n",
              "\n",
              "    [theme=dark] .colab-df-convert:hover {\n",
              "      background-color: #434B5C;\n",
              "      box-shadow: 0px 1px 3px 1px rgba(0, 0, 0, 0.15);\n",
              "      filter: drop-shadow(0px 1px 2px rgba(0, 0, 0, 0.3));\n",
              "      fill: #FFFFFF;\n",
              "    }\n",
              "  </style>\n",
              "\n",
              "    <script>\n",
              "      const buttonEl =\n",
              "        document.querySelector('#df-ea9922eb-351a-4f02-bd8b-a05dacf9b46c button.colab-df-convert');\n",
              "      buttonEl.style.display =\n",
              "        google.colab.kernel.accessAllowed ? 'block' : 'none';\n",
              "\n",
              "      async function convertToInteractive(key) {\n",
              "        const element = document.querySelector('#df-ea9922eb-351a-4f02-bd8b-a05dacf9b46c');\n",
              "        const dataTable =\n",
              "          await google.colab.kernel.invokeFunction('convertToInteractive',\n",
              "                                                    [key], {});\n",
              "        if (!dataTable) return;\n",
              "\n",
              "        const docLinkHtml = 'Like what you see? Visit the ' +\n",
              "          '<a target=\"_blank\" href=https://colab.research.google.com/notebooks/data_table.ipynb>data table notebook</a>'\n",
              "          + ' to learn more about interactive tables.';\n",
              "        element.innerHTML = '';\n",
              "        dataTable['output_type'] = 'display_data';\n",
              "        await google.colab.output.renderOutput(dataTable, element);\n",
              "        const docLink = document.createElement('div');\n",
              "        docLink.innerHTML = docLinkHtml;\n",
              "        element.appendChild(docLink);\n",
              "      }\n",
              "    </script>\n",
              "  </div>\n",
              "\n",
              "\n",
              "<div id=\"df-0bc56c87-a919-4579-8bcd-a4346c996d48\">\n",
              "  <button class=\"colab-df-quickchart\" onclick=\"quickchart('df-0bc56c87-a919-4579-8bcd-a4346c996d48')\"\n",
              "            title=\"Suggest charts\"\n",
              "            style=\"display:none;\">\n",
              "\n",
              "<svg xmlns=\"http://www.w3.org/2000/svg\" height=\"24px\"viewBox=\"0 0 24 24\"\n",
              "     width=\"24px\">\n",
              "    <g>\n",
              "        <path d=\"M19 3H5c-1.1 0-2 .9-2 2v14c0 1.1.9 2 2 2h14c1.1 0 2-.9 2-2V5c0-1.1-.9-2-2-2zM9 17H7v-7h2v7zm4 0h-2V7h2v10zm4 0h-2v-4h2v4z\"/>\n",
              "    </g>\n",
              "</svg>\n",
              "  </button>\n",
              "\n",
              "<style>\n",
              "  .colab-df-quickchart {\n",
              "      --bg-color: #E8F0FE;\n",
              "      --fill-color: #1967D2;\n",
              "      --hover-bg-color: #E2EBFA;\n",
              "      --hover-fill-color: #174EA6;\n",
              "      --disabled-fill-color: #AAA;\n",
              "      --disabled-bg-color: #DDD;\n",
              "  }\n",
              "\n",
              "  [theme=dark] .colab-df-quickchart {\n",
              "      --bg-color: #3B4455;\n",
              "      --fill-color: #D2E3FC;\n",
              "      --hover-bg-color: #434B5C;\n",
              "      --hover-fill-color: #FFFFFF;\n",
              "      --disabled-bg-color: #3B4455;\n",
              "      --disabled-fill-color: #666;\n",
              "  }\n",
              "\n",
              "  .colab-df-quickchart {\n",
              "    background-color: var(--bg-color);\n",
              "    border: none;\n",
              "    border-radius: 50%;\n",
              "    cursor: pointer;\n",
              "    display: none;\n",
              "    fill: var(--fill-color);\n",
              "    height: 32px;\n",
              "    padding: 0;\n",
              "    width: 32px;\n",
              "  }\n",
              "\n",
              "  .colab-df-quickchart:hover {\n",
              "    background-color: var(--hover-bg-color);\n",
              "    box-shadow: 0 1px 2px rgba(60, 64, 67, 0.3), 0 1px 3px 1px rgba(60, 64, 67, 0.15);\n",
              "    fill: var(--button-hover-fill-color);\n",
              "  }\n",
              "\n",
              "  .colab-df-quickchart-complete:disabled,\n",
              "  .colab-df-quickchart-complete:disabled:hover {\n",
              "    background-color: var(--disabled-bg-color);\n",
              "    fill: var(--disabled-fill-color);\n",
              "    box-shadow: none;\n",
              "  }\n",
              "\n",
              "  .colab-df-spinner {\n",
              "    border: 2px solid var(--fill-color);\n",
              "    border-color: transparent;\n",
              "    border-bottom-color: var(--fill-color);\n",
              "    animation:\n",
              "      spin 1s steps(1) infinite;\n",
              "  }\n",
              "\n",
              "  @keyframes spin {\n",
              "    0% {\n",
              "      border-color: transparent;\n",
              "      border-bottom-color: var(--fill-color);\n",
              "      border-left-color: var(--fill-color);\n",
              "    }\n",
              "    20% {\n",
              "      border-color: transparent;\n",
              "      border-left-color: var(--fill-color);\n",
              "      border-top-color: var(--fill-color);\n",
              "    }\n",
              "    30% {\n",
              "      border-color: transparent;\n",
              "      border-left-color: var(--fill-color);\n",
              "      border-top-color: var(--fill-color);\n",
              "      border-right-color: var(--fill-color);\n",
              "    }\n",
              "    40% {\n",
              "      border-color: transparent;\n",
              "      border-right-color: var(--fill-color);\n",
              "      border-top-color: var(--fill-color);\n",
              "    }\n",
              "    60% {\n",
              "      border-color: transparent;\n",
              "      border-right-color: var(--fill-color);\n",
              "    }\n",
              "    80% {\n",
              "      border-color: transparent;\n",
              "      border-right-color: var(--fill-color);\n",
              "      border-bottom-color: var(--fill-color);\n",
              "    }\n",
              "    90% {\n",
              "      border-color: transparent;\n",
              "      border-bottom-color: var(--fill-color);\n",
              "    }\n",
              "  }\n",
              "</style>\n",
              "\n",
              "  <script>\n",
              "    async function quickchart(key) {\n",
              "      const quickchartButtonEl =\n",
              "        document.querySelector('#' + key + ' button');\n",
              "      quickchartButtonEl.disabled = true;  // To prevent multiple clicks.\n",
              "      quickchartButtonEl.classList.add('colab-df-spinner');\n",
              "      try {\n",
              "        const charts = await google.colab.kernel.invokeFunction(\n",
              "            'suggestCharts', [key], {});\n",
              "      } catch (error) {\n",
              "        console.error('Error during call to suggestCharts:', error);\n",
              "      }\n",
              "      quickchartButtonEl.classList.remove('colab-df-spinner');\n",
              "      quickchartButtonEl.classList.add('colab-df-quickchart-complete');\n",
              "    }\n",
              "    (() => {\n",
              "      let quickchartButtonEl =\n",
              "        document.querySelector('#df-0bc56c87-a919-4579-8bcd-a4346c996d48 button');\n",
              "      quickchartButtonEl.style.display =\n",
              "        google.colab.kernel.accessAllowed ? 'block' : 'none';\n",
              "    })();\n",
              "  </script>\n",
              "</div>\n",
              "    </div>\n",
              "  </div>\n"
            ],
            "application/vnd.google.colaboratory.intrinsic+json": {
              "type": "dataframe",
              "variable_name": "data"
            }
          },
          "metadata": {},
          "execution_count": 13
        }
      ]
    },
    {
      "cell_type": "code",
      "source": [
        "data.info()"
      ],
      "metadata": {
        "colab": {
          "base_uri": "https://localhost:8080/"
        },
        "id": "uBqBgeSP0sIZ",
        "outputId": "9fc2bc91-1be0-4240-86f5-aef4c71629d3"
      },
      "execution_count": null,
      "outputs": [
        {
          "output_type": "stream",
          "name": "stdout",
          "text": [
            "<class 'pandas.core.frame.DataFrame'>\n",
            "RangeIndex: 2075259 entries, 0 to 2075258\n",
            "Data columns (total 13 columns):\n",
            " #   Column                 Dtype         \n",
            "---  ------                 -----         \n",
            " 0   Date_time              datetime64[ns]\n",
            " 1   Global_active_power    float64       \n",
            " 2   Global_reactive_power  float64       \n",
            " 3   Voltage                float64       \n",
            " 4   Global_intensity       float64       \n",
            " 5   Sub_metering_1         float64       \n",
            " 6   Sub_metering_2         float64       \n",
            " 7   Sub_metering_3         float64       \n",
            " 8   Year                   int32         \n",
            " 9   Month                  int32         \n",
            " 10  Day                    int32         \n",
            " 11  Hour                   int32         \n",
            " 12  DayOfWeek              int32         \n",
            "dtypes: datetime64[ns](1), float64(7), int32(5)\n",
            "memory usage: 166.2 MB\n"
          ]
        }
      ]
    },
    {
      "cell_type": "code",
      "source": [
        "# Finding out if the day is the weekend\n",
        "def is_weekend(data):\n",
        "    if data.dayofweek == 5 or data.dayofweek == 6:\n",
        "        return 1 # weekened\n",
        "    else:\n",
        "        return 0 # working_day\n",
        "\n",
        "data['Weekend'] = data['Date_time'].apply(is_weekend)\n",
        "print(data.head())"
      ],
      "metadata": {
        "id": "O1NqjEcr06tA",
        "colab": {
          "base_uri": "https://localhost:8080/"
        },
        "outputId": "a79f991b-3a19-4f38-bf4a-dea7e66faf20"
      },
      "execution_count": null,
      "outputs": [
        {
          "output_type": "stream",
          "name": "stdout",
          "text": [
            "            Date_time  Global_active_power  Global_reactive_power  Voltage  \\\n",
            "0 2006-12-16 17:24:00                4.216                  0.418  234.840   \n",
            "1 2006-12-16 17:25:00                5.360                  0.436  233.630   \n",
            "2 2006-12-16 17:26:00                5.374                  0.498  233.290   \n",
            "3 2006-12-16 17:27:00                5.388                  0.502  233.740   \n",
            "4 2006-12-16 17:28:00                3.666                  0.528  235.680   \n",
            "\n",
            "   Global_intensity  Sub_metering_1  Sub_metering_2  Sub_metering_3  Year  \\\n",
            "0            18.400           0.000           1.000          17.000  2006   \n",
            "1            23.000           0.000           1.000          16.000  2006   \n",
            "2            23.000           0.000           2.000          17.000  2006   \n",
            "3            23.000           0.000           1.000          17.000  2006   \n",
            "4            15.800           0.000           1.000          17.000  2006   \n",
            "\n",
            "   Month  Day  Hour  DayOfWeek  Weekend  \n",
            "0     12   16    17          5        1  \n",
            "1     12   16    17          5        1  \n",
            "2     12   16    17          5        1  \n",
            "3     12   16    17          5        1  \n",
            "4     12   16    17          5        1  \n"
          ]
        }
      ]
    },
    {
      "cell_type": "code",
      "source": [
        "# Set Date_time as index number\n",
        "data = data.set_index('Date_time')\n",
        "print(data.head())"
      ],
      "metadata": {
        "id": "O8tPzMWpzHKZ",
        "colab": {
          "base_uri": "https://localhost:8080/"
        },
        "outputId": "0754b9b9-b2bf-4533-da61-adb43caf6ee2"
      },
      "execution_count": null,
      "outputs": [
        {
          "output_type": "stream",
          "name": "stdout",
          "text": [
            "                     Global_active_power  Global_reactive_power  Voltage  \\\n",
            "Date_time                                                                  \n",
            "2006-12-16 17:24:00                4.216                  0.418  234.840   \n",
            "2006-12-16 17:25:00                5.360                  0.436  233.630   \n",
            "2006-12-16 17:26:00                5.374                  0.498  233.290   \n",
            "2006-12-16 17:27:00                5.388                  0.502  233.740   \n",
            "2006-12-16 17:28:00                3.666                  0.528  235.680   \n",
            "\n",
            "                     Global_intensity  Sub_metering_1  Sub_metering_2  \\\n",
            "Date_time                                                               \n",
            "2006-12-16 17:24:00            18.400           0.000           1.000   \n",
            "2006-12-16 17:25:00            23.000           0.000           1.000   \n",
            "2006-12-16 17:26:00            23.000           0.000           2.000   \n",
            "2006-12-16 17:27:00            23.000           0.000           1.000   \n",
            "2006-12-16 17:28:00            15.800           0.000           1.000   \n",
            "\n",
            "                     Sub_metering_3  Year  Month  Day  Hour  DayOfWeek  \\\n",
            "Date_time                                                                \n",
            "2006-12-16 17:24:00          17.000  2006     12   16    17          5   \n",
            "2006-12-16 17:25:00          16.000  2006     12   16    17          5   \n",
            "2006-12-16 17:26:00          17.000  2006     12   16    17          5   \n",
            "2006-12-16 17:27:00          17.000  2006     12   16    17          5   \n",
            "2006-12-16 17:28:00          17.000  2006     12   16    17          5   \n",
            "\n",
            "                     Weekend  \n",
            "Date_time                     \n",
            "2006-12-16 17:24:00        1  \n",
            "2006-12-16 17:25:00        1  \n",
            "2006-12-16 17:26:00        1  \n",
            "2006-12-16 17:27:00        1  \n",
            "2006-12-16 17:28:00        1  \n"
          ]
        }
      ]
    },
    {
      "cell_type": "code",
      "source": [
        "print(data)"
      ],
      "metadata": {
        "colab": {
          "base_uri": "https://localhost:8080/"
        },
        "id": "iyU6bB3_zsyk",
        "outputId": "f3dbc31d-2cd0-4e08-ce39-f30603bd1c53"
      },
      "execution_count": null,
      "outputs": [
        {
          "output_type": "stream",
          "name": "stdout",
          "text": [
            "                     Global_active_power  Global_reactive_power  Voltage  \\\n",
            "Date_time                                                                  \n",
            "2006-12-16 17:24:00                4.216                  0.418  234.840   \n",
            "2006-12-16 17:25:00                5.360                  0.436  233.630   \n",
            "2006-12-16 17:26:00                5.374                  0.498  233.290   \n",
            "2006-12-16 17:27:00                5.388                  0.502  233.740   \n",
            "2006-12-16 17:28:00                3.666                  0.528  235.680   \n",
            "...                                  ...                    ...      ...   \n",
            "2010-11-26 20:58:00                0.946                  0.000  240.430   \n",
            "2010-11-26 20:59:00                0.944                  0.000  240.000   \n",
            "2010-11-26 21:00:00                0.938                  0.000  239.820   \n",
            "2010-11-26 21:01:00                0.934                  0.000  239.700   \n",
            "2010-11-26 21:02:00                0.932                  0.000  239.550   \n",
            "\n",
            "                     Global_intensity  Sub_metering_1  Sub_metering_2  \\\n",
            "Date_time                                                               \n",
            "2006-12-16 17:24:00            18.400           0.000           1.000   \n",
            "2006-12-16 17:25:00            23.000           0.000           1.000   \n",
            "2006-12-16 17:26:00            23.000           0.000           2.000   \n",
            "2006-12-16 17:27:00            23.000           0.000           1.000   \n",
            "2006-12-16 17:28:00            15.800           0.000           1.000   \n",
            "...                               ...             ...             ...   \n",
            "2010-11-26 20:58:00             4.000           0.000           0.000   \n",
            "2010-11-26 20:59:00             4.000           0.000           0.000   \n",
            "2010-11-26 21:00:00             3.800           0.000           0.000   \n",
            "2010-11-26 21:01:00             3.800           0.000           0.000   \n",
            "2010-11-26 21:02:00             3.800           0.000           0.000   \n",
            "\n",
            "                     Sub_metering_3  Year  Month  Day  Hour  DayOfWeek  \\\n",
            "Date_time                                                                \n",
            "2006-12-16 17:24:00          17.000  2006     12   16    17          5   \n",
            "2006-12-16 17:25:00          16.000  2006     12   16    17          5   \n",
            "2006-12-16 17:26:00          17.000  2006     12   16    17          5   \n",
            "2006-12-16 17:27:00          17.000  2006     12   16    17          5   \n",
            "2006-12-16 17:28:00          17.000  2006     12   16    17          5   \n",
            "...                             ...   ...    ...  ...   ...        ...   \n",
            "2010-11-26 20:58:00           0.000  2010     11   26    20          4   \n",
            "2010-11-26 20:59:00           0.000  2010     11   26    20          4   \n",
            "2010-11-26 21:00:00           0.000  2010     11   26    21          4   \n",
            "2010-11-26 21:01:00           0.000  2010     11   26    21          4   \n",
            "2010-11-26 21:02:00           0.000  2010     11   26    21          4   \n",
            "\n",
            "                     Weekend  \n",
            "Date_time                     \n",
            "2006-12-16 17:24:00        1  \n",
            "2006-12-16 17:25:00        1  \n",
            "2006-12-16 17:26:00        1  \n",
            "2006-12-16 17:27:00        1  \n",
            "2006-12-16 17:28:00        1  \n",
            "...                      ...  \n",
            "2010-11-26 20:58:00        0  \n",
            "2010-11-26 20:59:00        0  \n",
            "2010-11-26 21:00:00        0  \n",
            "2010-11-26 21:01:00        0  \n",
            "2010-11-26 21:02:00        0  \n",
            "\n",
            "[2075259 rows x 13 columns]\n"
          ]
        }
      ]
    },
    {
      "cell_type": "code",
      "source": [
        "data.columns"
      ],
      "metadata": {
        "colab": {
          "base_uri": "https://localhost:8080/"
        },
        "id": "EPAD5o3b0pJr",
        "outputId": "48532495-6754-4fc7-987d-e55ed437274a"
      },
      "execution_count": null,
      "outputs": [
        {
          "output_type": "execute_result",
          "data": {
            "text/plain": [
              "Index(['Global_active_power', 'Global_reactive_power', 'Voltage',\n",
              "       'Global_intensity', 'Sub_metering_1', 'Sub_metering_2',\n",
              "       'Sub_metering_3', 'Year', 'Month', 'Day', 'Hour', 'DayOfWeek',\n",
              "       'Weekend'],\n",
              "      dtype='object')"
            ]
          },
          "metadata": {},
          "execution_count": 18
        }
      ]
    },
    {
      "cell_type": "markdown",
      "source": [
        "### Dealing with missing values 'nan' with a test statistic"
      ],
      "metadata": {
        "id": "BFW0wGn073IJ"
      }
    },
    {
      "cell_type": "code",
      "source": [
        "# finding all columns that have 'nan'\n",
        "droping_list_all=[]\n",
        "for i in range(0,7):\n",
        "    if not data.iloc[:, i].notnull().all():\n",
        "        droping_list_all.append(i)\n",
        "        #print(data.iloc[:,i].unique())\n",
        "droping_list_all"
      ],
      "metadata": {
        "colab": {
          "base_uri": "https://localhost:8080/"
        },
        "id": "P6sD6sd-75pp",
        "outputId": "12d2b173-2752-4702-f03b-da27ad936d88"
      },
      "execution_count": null,
      "outputs": [
        {
          "output_type": "execute_result",
          "data": {
            "text/plain": [
              "[0, 1, 2, 3, 4, 5, 6]"
            ]
          },
          "metadata": {},
          "execution_count": 19
        }
      ]
    },
    {
      "cell_type": "code",
      "source": [
        "# filling nan with mean in any columns\n",
        "for i in range(0,7):\n",
        "        data.iloc[:,i]=data.iloc[:,i].fillna(data.iloc[:,i].mean())"
      ],
      "metadata": {
        "id": "QwfGVN178PGO"
      },
      "execution_count": null,
      "outputs": []
    },
    {
      "cell_type": "code",
      "source": [
        "# Check to make sure that there are not more any nan\n",
        "data.isnull().sum()"
      ],
      "metadata": {
        "colab": {
          "base_uri": "https://localhost:8080/"
        },
        "id": "5EFXILAR8mvG",
        "outputId": "116c280f-2108-4b75-9e14-2ec15f6b3428"
      },
      "execution_count": null,
      "outputs": [
        {
          "output_type": "execute_result",
          "data": {
            "text/plain": [
              "Global_active_power      0\n",
              "Global_reactive_power    0\n",
              "Voltage                  0\n",
              "Global_intensity         0\n",
              "Sub_metering_1           0\n",
              "Sub_metering_2           0\n",
              "Sub_metering_3           0\n",
              "Year                     0\n",
              "Month                    0\n",
              "Day                      0\n",
              "Hour                     0\n",
              "DayOfWeek                0\n",
              "Weekend                  0\n",
              "dtype: int64"
            ]
          },
          "metadata": {},
          "execution_count": 21
        }
      ]
    },
    {
      "cell_type": "markdown",
      "source": [
        "## Exploratory Data Analysis and Visualizations"
      ],
      "metadata": {
        "id": "pclZsgB20voQ"
      }
    },
    {
      "cell_type": "markdown",
      "source": [
        "### Plotting features over time (Daily)"
      ],
      "metadata": {
        "id": "XRzBRU2W0e8L"
      }
    },
    {
      "cell_type": "code",
      "source": [
        "# !pip install pandas numpy plotly\n",
        "import pandas as pd\n",
        "import plotly.express as px"
      ],
      "metadata": {
        "id": "ni-9CmQBV6bd"
      },
      "execution_count": null,
      "outputs": []
    },
    {
      "cell_type": "code",
      "source": [
        "# # Sample data creation based on the provided structure (for demonstration purposes)\n",
        "# dates = pd.date_range(start='2006-12-16 17:24:00', end='2010-11-26 21:02:00', freq='T')\n",
        "# data = pd.DataFrame({\n",
        "#     'Global_active_power': np.random.rand(len(dates)) * 5,\n",
        "#     'Global_reactive_power': np.random.rand(len(dates)) * 2,\n",
        "#     'Voltage': np.random.rand(len(dates)) * 240,\n",
        "#     'Global_intensity': np.random.rand(len(dates)) * 20,\n",
        "#     'Sub_metering_1': np.random.rand(len(dates)) * 1,\n",
        "#     'Sub_metering_2': np.random.rand(len(dates)) * 1,\n",
        "#     'Sub_metering_3': np.random.rand(len(dates)) * 1\n",
        "# }, index=dates)"
      ],
      "metadata": {
        "id": "SRohJzAs6oTN"
      },
      "execution_count": null,
      "outputs": []
    },
    {
      "cell_type": "code",
      "source": [
        "# Resampling to daily data for plotting (optional, for better visualization)\n",
        "data_resampled = data.resample('D').mean()\n",
        "\n",
        "# List of columns to plot\n",
        "columns_to_plot = [\n",
        "    'Global_active_power',\n",
        "    'Global_reactive_power',\n",
        "    'Voltage',\n",
        "    'Global_intensity',\n",
        "    'Sub_metering_1',\n",
        "    'Sub_metering_2',\n",
        "    'Sub_metering_3'\n",
        "]"
      ],
      "metadata": {
        "id": "FgR-45ai6wjl"
      },
      "execution_count": null,
      "outputs": []
    },
    {
      "cell_type": "code",
      "source": [
        "# Function to plot each column\n",
        "def plot_column(data, column_name):\n",
        "    fig = px.line(data, x=data.index, y=column_name, title=f'{column_name.replace(\"_\", \" \").title()} Over Time (Daily)')\n",
        "    fig.update_layout(\n",
        "        plot_bgcolor='rgb(35, 35, 35)',     # Dark gray plot background\n",
        "        paper_bgcolor='rgb(25, 25, 25)',    # Very dark gray background\n",
        "        font=dict(color='lightgray'),       # Light gray font color\n",
        "        title_x=0.5,                        # Title center alignment\n",
        "        xaxis_title=\"Date\",                 # X-axis title\n",
        "        yaxis_title=column_name.replace(\"_\", \" \").title()  # Y-axis title\n",
        "    )\n",
        "    fig.show()\n",
        "\n",
        "# Plot each column for the resampled data\n",
        "for column in columns_to_plot:\n",
        "    plot_column(data_resampled, column)"
      ],
      "metadata": {
        "colab": {
          "base_uri": "https://localhost:8080/",
          "height": 1000
        },
        "id": "g_fU_Okh61tF",
        "outputId": "72a6517d-8833-47aa-efbe-1038b5b65a31"
      },
      "execution_count": null,
      "outputs": [
        {
          "output_type": "display_data",
          "data": {
            "text/html": [
              "<html>\n",
              "<head><meta charset=\"utf-8\" /></head>\n",
              "<body>\n",
              "    <div>            <script src=\"https://cdnjs.cloudflare.com/ajax/libs/mathjax/2.7.5/MathJax.js?config=TeX-AMS-MML_SVG\"></script><script type=\"text/javascript\">if (window.MathJax && window.MathJax.Hub && window.MathJax.Hub.Config) {window.MathJax.Hub.Config({SVG: {font: \"STIX-Web\"}});}</script>                <script type=\"text/javascript\">window.PlotlyConfig = {MathJaxConfig: 'local'};</script>\n",
              "        <script charset=\"utf-8\" src=\"https://cdn.plot.ly/plotly-2.24.1.min.js\"></script>                <div id=\"2e78c687-02a9-47e5-9a76-965bb2329230\" class=\"plotly-graph-div\" style=\"height:525px; width:100%;\"></div>            <script type=\"text/javascript\">                                    window.PLOTLYENV=window.PLOTLYENV || {};                                    if (document.getElementById(\"2e78c687-02a9-47e5-9a76-965bb2329230\")) {                    Plotly.newPlot(                        \"2e78c687-02a9-47e5-9a76-965bb2329230\",                        [{\"hovertemplate\":\"Date_time=%{x}\\u003cbr\\u003eGlobal_active_power=%{y}\\u003cextra\\u003e\\u003c\\u002fextra\\u003e\",\"legendgroup\":\"\",\"line\":{\"color\":\"#636efa\",\"dash\":\"solid\"},\"marker\":{\"symbol\":\"circle\"},\"mode\":\"lines\",\"name\":\"\",\"showlegend\":false,\"x\":[\"2006-12-16T00:00:00\",\"2006-12-17T00:00:00\",\"2006-12-18T00:00:00\",\"2006-12-19T00:00:00\",\"2006-12-20T00:00:00\",\"2006-12-21T00:00:00\",\"2006-12-22T00:00:00\",\"2006-12-23T00:00:00\",\"2006-12-24T00:00:00\",\"2006-12-25T00:00:00\",\"2006-12-26T00:00:00\",\"2006-12-27T00:00:00\",\"2006-12-28T00:00:00\",\"2006-12-29T00:00:00\",\"2006-12-30T00:00:00\",\"2006-12-31T00:00:00\",\"2007-01-01T00:00:00\",\"2007-01-02T00:00:00\",\"2007-01-03T00:00:00\",\"2007-01-04T00:00:00\",\"2007-01-05T00:00:00\",\"2007-01-06T00:00:00\",\"2007-01-07T00:00:00\",\"2007-01-08T00:00:00\",\"2007-01-09T00:00:00\",\"2007-01-10T00:00:00\",\"2007-01-11T00:00:00\",\"2007-01-12T00:00:00\",\"2007-01-13T00:00:00\",\"2007-01-14T00:00:00\",\"2007-01-15T00:00:00\",\"2007-01-16T00:00:00\",\"2007-01-17T00:00:00\",\"2007-01-18T00:00:00\",\"2007-01-19T00:00:00\",\"2007-01-20T00:00:00\",\"2007-01-21T00:00:00\",\"2007-01-22T00:00:00\",\"2007-01-23T00:00:00\",\"2007-01-24T00:00:00\",\"2007-01-25T00:00:00\",\"2007-01-26T00:00:00\",\"2007-01-27T00:00:00\",\"2007-01-28T00:00:00\",\"2007-01-29T00:00:00\",\"2007-01-30T00:00:00\",\"2007-01-31T00:00:00\",\"2007-02-01T00:00:00\",\"2007-02-02T00:00:00\",\"2007-02-03T00:00:00\",\"2007-02-04T00:00:00\",\"2007-02-05T00:00:00\",\"2007-02-06T00:00:00\",\"2007-02-07T00:00:00\",\"2007-02-08T00:00:00\",\"2007-02-09T00:00:00\",\"2007-02-10T00:00:00\",\"2007-02-11T00:00:00\",\"2007-02-12T00:00:00\",\"2007-02-13T00:00:00\",\"2007-02-14T00:00:00\",\"2007-02-15T00:00:00\",\"2007-02-16T00:00:00\",\"2007-02-17T00:00:00\",\"2007-02-18T00:00:00\",\"2007-02-19T00:00:00\",\"2007-02-20T00:00:00\",\"2007-02-21T00:00:00\",\"2007-02-22T00:00:00\",\"2007-02-23T00:00:00\",\"2007-02-24T00:00:00\",\"2007-02-25T00:00:00\",\"2007-02-26T00:00:00\",\"2007-02-27T00:00:00\",\"2007-02-28T00:00:00\",\"2007-03-01T00:00:00\",\"2007-03-02T00:00:00\",\"2007-03-03T00:00:00\",\"2007-03-04T00:00:00\",\"2007-03-05T00:00:00\",\"2007-03-06T00:00:00\",\"2007-03-07T00:00:00\",\"2007-03-08T00:00:00\",\"2007-03-09T00:00:00\",\"2007-03-10T00:00:00\",\"2007-03-11T00:00:00\",\"2007-03-12T00:00:00\",\"2007-03-13T00:00:00\",\"2007-03-14T00:00:00\",\"2007-03-15T00:00:00\",\"2007-03-16T00:00:00\",\"2007-03-17T00:00:00\",\"2007-03-18T00:00:00\",\"2007-03-19T00:00:00\",\"2007-03-20T00:00:00\",\"2007-03-21T00:00:00\",\"2007-03-22T00:00:00\",\"2007-03-23T00:00:00\",\"2007-03-24T00:00:00\",\"2007-03-25T00:00:00\",\"2007-03-26T00:00:00\",\"2007-03-27T00:00:00\",\"2007-03-28T00:00:00\",\"2007-03-29T00:00:00\",\"2007-03-30T00:00:00\",\"2007-03-31T00:00:00\",\"2007-04-01T00:00:00\",\"2007-04-02T00:00:00\",\"2007-04-03T00:00:00\",\"2007-04-04T00:00:00\",\"2007-04-05T00:00:00\",\"2007-04-06T00:00:00\",\"2007-04-07T00:00:00\",\"2007-04-08T00:00:00\",\"2007-04-09T00:00:00\",\"2007-04-10T00:00:00\",\"2007-04-11T00:00:00\",\"2007-04-12T00:00:00\",\"2007-04-13T00:00:00\",\"2007-04-14T00:00:00\",\"2007-04-15T00:00:00\",\"2007-04-16T00:00:00\",\"2007-04-17T00:00:00\",\"2007-04-18T00:00:00\",\"2007-04-19T00:00:00\",\"2007-04-20T00:00:00\",\"2007-04-21T00:00:00\",\"2007-04-22T00:00:00\",\"2007-04-23T00:00:00\",\"2007-04-24T00:00:00\",\"2007-04-25T00:00:00\",\"2007-04-26T00:00:00\",\"2007-04-27T00:00:00\",\"2007-04-28T00:00:00\",\"2007-04-29T00:00:00\",\"2007-04-30T00:00:00\",\"2007-05-01T00:00:00\",\"2007-05-02T00:00:00\",\"2007-05-03T00:00:00\",\"2007-05-04T00:00:00\",\"2007-05-05T00:00:00\",\"2007-05-06T00:00:00\",\"2007-05-07T00:00:00\",\"2007-05-08T00:00:00\",\"2007-05-09T00:00:00\",\"2007-05-10T00:00:00\",\"2007-05-11T00:00:00\",\"2007-05-12T00:00:00\",\"2007-05-13T00:00:00\",\"2007-05-14T00:00:00\",\"2007-05-15T00:00:00\",\"2007-05-16T00:00:00\",\"2007-05-17T00:00:00\",\"2007-05-18T00:00:00\",\"2007-05-19T00:00:00\",\"2007-05-20T00:00:00\",\"2007-05-21T00:00:00\",\"2007-05-22T00:00:00\",\"2007-05-23T00:00:00\",\"2007-05-24T00:00:00\",\"2007-05-25T00:00:00\",\"2007-05-26T00:00:00\",\"2007-05-27T00:00:00\",\"2007-05-28T00:00:00\",\"2007-05-29T00:00:00\",\"2007-05-30T00:00:00\",\"2007-05-31T00:00:00\",\"2007-06-01T00:00:00\",\"2007-06-02T00:00:00\",\"2007-06-03T00:00:00\",\"2007-06-04T00:00:00\",\"2007-06-05T00:00:00\",\"2007-06-06T00:00:00\",\"2007-06-07T00:00:00\",\"2007-06-08T00:00:00\",\"2007-06-09T00:00:00\",\"2007-06-10T00:00:00\",\"2007-06-11T00:00:00\",\"2007-06-12T00:00:00\",\"2007-06-13T00:00:00\",\"2007-06-14T00:00:00\",\"2007-06-15T00:00:00\",\"2007-06-16T00:00:00\",\"2007-06-17T00:00:00\",\"2007-06-18T00:00:00\",\"2007-06-19T00:00:00\",\"2007-06-20T00:00:00\",\"2007-06-21T00:00:00\",\"2007-06-22T00:00:00\",\"2007-06-23T00:00:00\",\"2007-06-24T00:00:00\",\"2007-06-25T00:00:00\",\"2007-06-26T00:00:00\",\"2007-06-27T00:00:00\",\"2007-06-28T00:00:00\",\"2007-06-29T00:00:00\",\"2007-06-30T00:00:00\",\"2007-07-01T00:00:00\",\"2007-07-02T00:00:00\",\"2007-07-03T00:00:00\",\"2007-07-04T00:00:00\",\"2007-07-05T00:00:00\",\"2007-07-06T00:00:00\",\"2007-07-07T00:00:00\",\"2007-07-08T00:00:00\",\"2007-07-09T00:00:00\",\"2007-07-10T00:00:00\",\"2007-07-11T00:00:00\",\"2007-07-12T00:00:00\",\"2007-07-13T00:00:00\",\"2007-07-14T00:00:00\",\"2007-07-15T00:00:00\",\"2007-07-16T00:00:00\",\"2007-07-17T00:00:00\",\"2007-07-18T00:00:00\",\"2007-07-19T00:00:00\",\"2007-07-20T00:00:00\",\"2007-07-21T00:00:00\",\"2007-07-22T00:00:00\",\"2007-07-23T00:00:00\",\"2007-07-24T00:00:00\",\"2007-07-25T00:00:00\",\"2007-07-26T00:00:00\",\"2007-07-27T00:00:00\",\"2007-07-28T00:00:00\",\"2007-07-29T00:00:00\",\"2007-07-30T00:00:00\",\"2007-07-31T00:00:00\",\"2007-08-01T00:00:00\",\"2007-08-02T00:00:00\",\"2007-08-03T00:00:00\",\"2007-08-04T00:00:00\",\"2007-08-05T00:00:00\",\"2007-08-06T00:00:00\",\"2007-08-07T00:00:00\",\"2007-08-08T00:00:00\",\"2007-08-09T00:00:00\",\"2007-08-10T00:00:00\",\"2007-08-11T00:00:00\",\"2007-08-12T00:00:00\",\"2007-08-13T00:00:00\",\"2007-08-14T00:00:00\",\"2007-08-15T00:00:00\",\"2007-08-16T00:00:00\",\"2007-08-17T00:00:00\",\"2007-08-18T00:00:00\",\"2007-08-19T00:00:00\",\"2007-08-20T00:00:00\",\"2007-08-21T00:00:00\",\"2007-08-22T00:00:00\",\"2007-08-23T00:00:00\",\"2007-08-24T00:00:00\",\"2007-08-25T00:00:00\",\"2007-08-26T00:00:00\",\"2007-08-27T00:00:00\",\"2007-08-28T00:00:00\",\"2007-08-29T00:00:00\",\"2007-08-30T00:00:00\",\"2007-08-31T00:00:00\",\"2007-09-01T00:00:00\",\"2007-09-02T00:00:00\",\"2007-09-03T00:00:00\",\"2007-09-04T00:00:00\",\"2007-09-05T00:00:00\",\"2007-09-06T00:00:00\",\"2007-09-07T00:00:00\",\"2007-09-08T00:00:00\",\"2007-09-09T00:00:00\",\"2007-09-10T00:00:00\",\"2007-09-11T00:00:00\",\"2007-09-12T00:00:00\",\"2007-09-13T00:00:00\",\"2007-09-14T00:00:00\",\"2007-09-15T00:00:00\",\"2007-09-16T00:00:00\",\"2007-09-17T00:00:00\",\"2007-09-18T00:00:00\",\"2007-09-19T00:00:00\",\"2007-09-20T00:00:00\",\"2007-09-21T00:00:00\",\"2007-09-22T00:00:00\",\"2007-09-23T00:00:00\",\"2007-09-24T00:00:00\",\"2007-09-25T00:00:00\",\"2007-09-26T00:00:00\",\"2007-09-27T00:00:00\",\"2007-09-28T00:00:00\",\"2007-09-29T00:00:00\",\"2007-09-30T00:00:00\",\"2007-10-01T00:00:00\",\"2007-10-02T00:00:00\",\"2007-10-03T00:00:00\",\"2007-10-04T00:00:00\",\"2007-10-05T00:00:00\",\"2007-10-06T00:00:00\",\"2007-10-07T00:00:00\",\"2007-10-08T00:00:00\",\"2007-10-09T00:00:00\",\"2007-10-10T00:00:00\",\"2007-10-11T00:00:00\",\"2007-10-12T00:00:00\",\"2007-10-13T00:00:00\",\"2007-10-14T00:00:00\",\"2007-10-15T00:00:00\",\"2007-10-16T00:00:00\",\"2007-10-17T00:00:00\",\"2007-10-18T00:00:00\",\"2007-10-19T00:00:00\",\"2007-10-20T00:00:00\",\"2007-10-21T00:00:00\",\"2007-10-22T00:00:00\",\"2007-10-23T00:00:00\",\"2007-10-24T00:00:00\",\"2007-10-25T00:00:00\",\"2007-10-26T00:00:00\",\"2007-10-27T00:00:00\",\"2007-10-28T00:00:00\",\"2007-10-29T00:00:00\",\"2007-10-30T00:00:00\",\"2007-10-31T00:00:00\",\"2007-11-01T00:00:00\",\"2007-11-02T00:00:00\",\"2007-11-03T00:00:00\",\"2007-11-04T00:00:00\",\"2007-11-05T00:00:00\",\"2007-11-06T00:00:00\",\"2007-11-07T00:00:00\",\"2007-11-08T00:00:00\",\"2007-11-09T00:00:00\",\"2007-11-10T00:00:00\",\"2007-11-11T00:00:00\",\"2007-11-12T00:00:00\",\"2007-11-13T00:00:00\",\"2007-11-14T00:00:00\",\"2007-11-15T00:00:00\",\"2007-11-16T00:00:00\",\"2007-11-17T00:00:00\",\"2007-11-18T00:00:00\",\"2007-11-19T00:00:00\",\"2007-11-20T00:00:00\",\"2007-11-21T00:00:00\",\"2007-11-22T00:00:00\",\"2007-11-23T00:00:00\",\"2007-11-24T00:00:00\",\"2007-11-25T00:00:00\",\"2007-11-26T00:00:00\",\"2007-11-27T00:00:00\",\"2007-11-28T00:00:00\",\"2007-11-29T00:00:00\",\"2007-11-30T00:00:00\",\"2007-12-01T00:00:00\",\"2007-12-02T00:00:00\",\"2007-12-03T00:00:00\",\"2007-12-04T00:00:00\",\"2007-12-05T00:00:00\",\"2007-12-06T00:00:00\",\"2007-12-07T00:00:00\",\"2007-12-08T00:00:00\",\"2007-12-09T00:00:00\",\"2007-12-10T00:00:00\",\"2007-12-11T00:00:00\",\"2007-12-12T00:00:00\",\"2007-12-13T00:00:00\",\"2007-12-14T00:00:00\",\"2007-12-15T00:00:00\",\"2007-12-16T00:00:00\",\"2007-12-17T00:00:00\",\"2007-12-18T00:00:00\",\"2007-12-19T00:00:00\",\"2007-12-20T00:00:00\",\"2007-12-21T00:00:00\",\"2007-12-22T00:00:00\",\"2007-12-23T00:00:00\",\"2007-12-24T00:00:00\",\"2007-12-25T00:00:00\",\"2007-12-26T00:00:00\",\"2007-12-27T00:00:00\",\"2007-12-28T00:00:00\",\"2007-12-29T00:00:00\",\"2007-12-30T00:00:00\",\"2007-12-31T00:00:00\",\"2008-01-01T00:00:00\",\"2008-01-02T00:00:00\",\"2008-01-03T00:00:00\",\"2008-01-04T00:00:00\",\"2008-01-05T00:00:00\",\"2008-01-06T00:00:00\",\"2008-01-07T00:00:00\",\"2008-01-08T00:00:00\",\"2008-01-09T00:00:00\",\"2008-01-10T00:00:00\",\"2008-01-11T00:00:00\",\"2008-01-12T00:00:00\",\"2008-01-13T00:00:00\",\"2008-01-14T00:00:00\",\"2008-01-15T00:00:00\",\"2008-01-16T00:00:00\",\"2008-01-17T00:00:00\",\"2008-01-18T00:00:00\",\"2008-01-19T00:00:00\",\"2008-01-20T00:00:00\",\"2008-01-21T00:00:00\",\"2008-01-22T00:00:00\",\"2008-01-23T00:00:00\",\"2008-01-24T00:00:00\",\"2008-01-25T00:00:00\",\"2008-01-26T00:00:00\",\"2008-01-27T00:00:00\",\"2008-01-28T00:00:00\",\"2008-01-29T00:00:00\",\"2008-01-30T00:00:00\",\"2008-01-31T00:00:00\",\"2008-02-01T00:00:00\",\"2008-02-02T00:00:00\",\"2008-02-03T00:00:00\",\"2008-02-04T00:00:00\",\"2008-02-05T00:00:00\",\"2008-02-06T00:00:00\",\"2008-02-07T00:00:00\",\"2008-02-08T00:00:00\",\"2008-02-09T00:00:00\",\"2008-02-10T00:00:00\",\"2008-02-11T00:00:00\",\"2008-02-12T00:00:00\",\"2008-02-13T00:00:00\",\"2008-02-14T00:00:00\",\"2008-02-15T00:00:00\",\"2008-02-16T00:00:00\",\"2008-02-17T00:00:00\",\"2008-02-18T00:00:00\",\"2008-02-19T00:00:00\",\"2008-02-20T00:00:00\",\"2008-02-21T00:00:00\",\"2008-02-22T00:00:00\",\"2008-02-23T00:00:00\",\"2008-02-24T00:00:00\",\"2008-02-25T00:00:00\",\"2008-02-26T00:00:00\",\"2008-02-27T00:00:00\",\"2008-02-28T00:00:00\",\"2008-02-29T00:00:00\",\"2008-03-01T00:00:00\",\"2008-03-02T00:00:00\",\"2008-03-03T00:00:00\",\"2008-03-04T00:00:00\",\"2008-03-05T00:00:00\",\"2008-03-06T00:00:00\",\"2008-03-07T00:00:00\",\"2008-03-08T00:00:00\",\"2008-03-09T00:00:00\",\"2008-03-10T00:00:00\",\"2008-03-11T00:00:00\",\"2008-03-12T00:00:00\",\"2008-03-13T00:00:00\",\"2008-03-14T00:00:00\",\"2008-03-15T00:00:00\",\"2008-03-16T00:00:00\",\"2008-03-17T00:00:00\",\"2008-03-18T00:00:00\",\"2008-03-19T00:00:00\",\"2008-03-20T00:00:00\",\"2008-03-21T00:00:00\",\"2008-03-22T00:00:00\",\"2008-03-23T00:00:00\",\"2008-03-24T00:00:00\",\"2008-03-25T00:00:00\",\"2008-03-26T00:00:00\",\"2008-03-27T00:00:00\",\"2008-03-28T00:00:00\",\"2008-03-29T00:00:00\",\"2008-03-30T00:00:00\",\"2008-03-31T00:00:00\",\"2008-04-01T00:00:00\",\"2008-04-02T00:00:00\",\"2008-04-03T00:00:00\",\"2008-04-04T00:00:00\",\"2008-04-05T00:00:00\",\"2008-04-06T00:00:00\",\"2008-04-07T00:00:00\",\"2008-04-08T00:00:00\",\"2008-04-09T00:00:00\",\"2008-04-10T00:00:00\",\"2008-04-11T00:00:00\",\"2008-04-12T00:00:00\",\"2008-04-13T00:00:00\",\"2008-04-14T00:00:00\",\"2008-04-15T00:00:00\",\"2008-04-16T00:00:00\",\"2008-04-17T00:00:00\",\"2008-04-18T00:00:00\",\"2008-04-19T00:00:00\",\"2008-04-20T00:00:00\",\"2008-04-21T00:00:00\",\"2008-04-22T00:00:00\",\"2008-04-23T00:00:00\",\"2008-04-24T00:00:00\",\"2008-04-25T00:00:00\",\"2008-04-26T00:00:00\",\"2008-04-27T00:00:00\",\"2008-04-28T00:00:00\",\"2008-04-29T00:00:00\",\"2008-04-30T00:00:00\",\"2008-05-01T00:00:00\",\"2008-05-02T00:00:00\",\"2008-05-03T00:00:00\",\"2008-05-04T00:00:00\",\"2008-05-05T00:00:00\",\"2008-05-06T00:00:00\",\"2008-05-07T00:00:00\",\"2008-05-08T00:00:00\",\"2008-05-09T00:00:00\",\"2008-05-10T00:00:00\",\"2008-05-11T00:00:00\",\"2008-05-12T00:00:00\",\"2008-05-13T00:00:00\",\"2008-05-14T00:00:00\",\"2008-05-15T00:00:00\",\"2008-05-16T00:00:00\",\"2008-05-17T00:00:00\",\"2008-05-18T00:00:00\",\"2008-05-19T00:00:00\",\"2008-05-20T00:00:00\",\"2008-05-21T00:00:00\",\"2008-05-22T00:00:00\",\"2008-05-23T00:00:00\",\"2008-05-24T00:00:00\",\"2008-05-25T00:00:00\",\"2008-05-26T00:00:00\",\"2008-05-27T00:00:00\",\"2008-05-28T00:00:00\",\"2008-05-29T00:00:00\",\"2008-05-30T00:00:00\",\"2008-05-31T00:00:00\",\"2008-06-01T00:00:00\",\"2008-06-02T00:00:00\",\"2008-06-03T00:00:00\",\"2008-06-04T00:00:00\",\"2008-06-05T00:00:00\",\"2008-06-06T00:00:00\",\"2008-06-07T00:00:00\",\"2008-06-08T00:00:00\",\"2008-06-09T00:00:00\",\"2008-06-10T00:00:00\",\"2008-06-11T00:00:00\",\"2008-06-12T00:00:00\",\"2008-06-13T00:00:00\",\"2008-06-14T00:00:00\",\"2008-06-15T00:00:00\",\"2008-06-16T00:00:00\",\"2008-06-17T00:00:00\",\"2008-06-18T00:00:00\",\"2008-06-19T00:00:00\",\"2008-06-20T00:00:00\",\"2008-06-21T00:00:00\",\"2008-06-22T00:00:00\",\"2008-06-23T00:00:00\",\"2008-06-24T00:00:00\",\"2008-06-25T00:00:00\",\"2008-06-26T00:00:00\",\"2008-06-27T00:00:00\",\"2008-06-28T00:00:00\",\"2008-06-29T00:00:00\",\"2008-06-30T00:00:00\",\"2008-07-01T00:00:00\",\"2008-07-02T00:00:00\",\"2008-07-03T00:00:00\",\"2008-07-04T00:00:00\",\"2008-07-05T00:00:00\",\"2008-07-06T00:00:00\",\"2008-07-07T00:00:00\",\"2008-07-08T00:00:00\",\"2008-07-09T00:00:00\",\"2008-07-10T00:00:00\",\"2008-07-11T00:00:00\",\"2008-07-12T00:00:00\",\"2008-07-13T00:00:00\",\"2008-07-14T00:00:00\",\"2008-07-15T00:00:00\",\"2008-07-16T00:00:00\",\"2008-07-17T00:00:00\",\"2008-07-18T00:00:00\",\"2008-07-19T00:00:00\",\"2008-07-20T00:00:00\",\"2008-07-21T00:00:00\",\"2008-07-22T00:00:00\",\"2008-07-23T00:00:00\",\"2008-07-24T00:00:00\",\"2008-07-25T00:00:00\",\"2008-07-26T00:00:00\",\"2008-07-27T00:00:00\",\"2008-07-28T00:00:00\",\"2008-07-29T00:00:00\",\"2008-07-30T00:00:00\",\"2008-07-31T00:00:00\",\"2008-08-01T00:00:00\",\"2008-08-02T00:00:00\",\"2008-08-03T00:00:00\",\"2008-08-04T00:00:00\",\"2008-08-05T00:00:00\",\"2008-08-06T00:00:00\",\"2008-08-07T00:00:00\",\"2008-08-08T00:00:00\",\"2008-08-09T00:00:00\",\"2008-08-10T00:00:00\",\"2008-08-11T00:00:00\",\"2008-08-12T00:00:00\",\"2008-08-13T00:00:00\",\"2008-08-14T00:00:00\",\"2008-08-15T00:00:00\",\"2008-08-16T00:00:00\",\"2008-08-17T00:00:00\",\"2008-08-18T00:00:00\",\"2008-08-19T00:00:00\",\"2008-08-20T00:00:00\",\"2008-08-21T00:00:00\",\"2008-08-22T00:00:00\",\"2008-08-23T00:00:00\",\"2008-08-24T00:00:00\",\"2008-08-25T00:00:00\",\"2008-08-26T00:00:00\",\"2008-08-27T00:00:00\",\"2008-08-28T00:00:00\",\"2008-08-29T00:00:00\",\"2008-08-30T00:00:00\",\"2008-08-31T00:00:00\",\"2008-09-01T00:00:00\",\"2008-09-02T00:00:00\",\"2008-09-03T00:00:00\",\"2008-09-04T00:00:00\",\"2008-09-05T00:00:00\",\"2008-09-06T00:00:00\",\"2008-09-07T00:00:00\",\"2008-09-08T00:00:00\",\"2008-09-09T00:00:00\",\"2008-09-10T00:00:00\",\"2008-09-11T00:00:00\",\"2008-09-12T00:00:00\",\"2008-09-13T00:00:00\",\"2008-09-14T00:00:00\",\"2008-09-15T00:00:00\",\"2008-09-16T00:00:00\",\"2008-09-17T00:00:00\",\"2008-09-18T00:00:00\",\"2008-09-19T00:00:00\",\"2008-09-20T00:00:00\",\"2008-09-21T00:00:00\",\"2008-09-22T00:00:00\",\"2008-09-23T00:00:00\",\"2008-09-24T00:00:00\",\"2008-09-25T00:00:00\",\"2008-09-26T00:00:00\",\"2008-09-27T00:00:00\",\"2008-09-28T00:00:00\",\"2008-09-29T00:00:00\",\"2008-09-30T00:00:00\",\"2008-10-01T00:00:00\",\"2008-10-02T00:00:00\",\"2008-10-03T00:00:00\",\"2008-10-04T00:00:00\",\"2008-10-05T00:00:00\",\"2008-10-06T00:00:00\",\"2008-10-07T00:00:00\",\"2008-10-08T00:00:00\",\"2008-10-09T00:00:00\",\"2008-10-10T00:00:00\",\"2008-10-11T00:00:00\",\"2008-10-12T00:00:00\",\"2008-10-13T00:00:00\",\"2008-10-14T00:00:00\",\"2008-10-15T00:00:00\",\"2008-10-16T00:00:00\",\"2008-10-17T00:00:00\",\"2008-10-18T00:00:00\",\"2008-10-19T00:00:00\",\"2008-10-20T00:00:00\",\"2008-10-21T00:00:00\",\"2008-10-22T00:00:00\",\"2008-10-23T00:00:00\",\"2008-10-24T00:00:00\",\"2008-10-25T00:00:00\",\"2008-10-26T00:00:00\",\"2008-10-27T00:00:00\",\"2008-10-28T00:00:00\",\"2008-10-29T00:00:00\",\"2008-10-30T00:00:00\",\"2008-10-31T00:00:00\",\"2008-11-01T00:00:00\",\"2008-11-02T00:00:00\",\"2008-11-03T00:00:00\",\"2008-11-04T00:00:00\",\"2008-11-05T00:00:00\",\"2008-11-06T00:00:00\",\"2008-11-07T00:00:00\",\"2008-11-08T00:00:00\",\"2008-11-09T00:00:00\",\"2008-11-10T00:00:00\",\"2008-11-11T00:00:00\",\"2008-11-12T00:00:00\",\"2008-11-13T00:00:00\",\"2008-11-14T00:00:00\",\"2008-11-15T00:00:00\",\"2008-11-16T00:00:00\",\"2008-11-17T00:00:00\",\"2008-11-18T00:00:00\",\"2008-11-19T00:00:00\",\"2008-11-20T00:00:00\",\"2008-11-21T00:00:00\",\"2008-11-22T00:00:00\",\"2008-11-23T00:00:00\",\"2008-11-24T00:00:00\",\"2008-11-25T00:00:00\",\"2008-11-26T00:00:00\",\"2008-11-27T00:00:00\",\"2008-11-28T00:00:00\",\"2008-11-29T00:00:00\",\"2008-11-30T00:00:00\",\"2008-12-01T00:00:00\",\"2008-12-02T00:00:00\",\"2008-12-03T00:00:00\",\"2008-12-04T00:00:00\",\"2008-12-05T00:00:00\",\"2008-12-06T00:00:00\",\"2008-12-07T00:00:00\",\"2008-12-08T00:00:00\",\"2008-12-09T00:00:00\",\"2008-12-10T00:00:00\",\"2008-12-11T00:00:00\",\"2008-12-12T00:00:00\",\"2008-12-13T00:00:00\",\"2008-12-14T00:00:00\",\"2008-12-15T00:00:00\",\"2008-12-16T00:00:00\",\"2008-12-17T00:00:00\",\"2008-12-18T00:00:00\",\"2008-12-19T00:00:00\",\"2008-12-20T00:00:00\",\"2008-12-21T00:00:00\",\"2008-12-22T00:00:00\",\"2008-12-23T00:00:00\",\"2008-12-24T00:00:00\",\"2008-12-25T00:00:00\",\"2008-12-26T00:00:00\",\"2008-12-27T00:00:00\",\"2008-12-28T00:00:00\",\"2008-12-29T00:00:00\",\"2008-12-30T00:00:00\",\"2008-12-31T00:00:00\",\"2009-01-01T00:00:00\",\"2009-01-02T00:00:00\",\"2009-01-03T00:00:00\",\"2009-01-04T00:00:00\",\"2009-01-05T00:00:00\",\"2009-01-06T00:00:00\",\"2009-01-07T00:00:00\",\"2009-01-08T00:00:00\",\"2009-01-09T00:00:00\",\"2009-01-10T00:00:00\",\"2009-01-11T00:00:00\",\"2009-01-12T00:00:00\",\"2009-01-13T00:00:00\",\"2009-01-14T00:00:00\",\"2009-01-15T00:00:00\",\"2009-01-16T00:00:00\",\"2009-01-17T00:00:00\",\"2009-01-18T00:00:00\",\"2009-01-19T00:00:00\",\"2009-01-20T00:00:00\",\"2009-01-21T00:00:00\",\"2009-01-22T00:00:00\",\"2009-01-23T00:00:00\",\"2009-01-24T00:00:00\",\"2009-01-25T00:00:00\",\"2009-01-26T00:00:00\",\"2009-01-27T00:00:00\",\"2009-01-28T00:00:00\",\"2009-01-29T00:00:00\",\"2009-01-30T00:00:00\",\"2009-01-31T00:00:00\",\"2009-02-01T00:00:00\",\"2009-02-02T00:00:00\",\"2009-02-03T00:00:00\",\"2009-02-04T00:00:00\",\"2009-02-05T00:00:00\",\"2009-02-06T00:00:00\",\"2009-02-07T00:00:00\",\"2009-02-08T00:00:00\",\"2009-02-09T00:00:00\",\"2009-02-10T00:00:00\",\"2009-02-11T00:00:00\",\"2009-02-12T00:00:00\",\"2009-02-13T00:00:00\",\"2009-02-14T00:00:00\",\"2009-02-15T00:00:00\",\"2009-02-16T00:00:00\",\"2009-02-17T00:00:00\",\"2009-02-18T00:00:00\",\"2009-02-19T00:00:00\",\"2009-02-20T00:00:00\",\"2009-02-21T00:00:00\",\"2009-02-22T00:00:00\",\"2009-02-23T00:00:00\",\"2009-02-24T00:00:00\",\"2009-02-25T00:00:00\",\"2009-02-26T00:00:00\",\"2009-02-27T00:00:00\",\"2009-02-28T00:00:00\",\"2009-03-01T00:00:00\",\"2009-03-02T00:00:00\",\"2009-03-03T00:00:00\",\"2009-03-04T00:00:00\",\"2009-03-05T00:00:00\",\"2009-03-06T00:00:00\",\"2009-03-07T00:00:00\",\"2009-03-08T00:00:00\",\"2009-03-09T00:00:00\",\"2009-03-10T00:00:00\",\"2009-03-11T00:00:00\",\"2009-03-12T00:00:00\",\"2009-03-13T00:00:00\",\"2009-03-14T00:00:00\",\"2009-03-15T00:00:00\",\"2009-03-16T00:00:00\",\"2009-03-17T00:00:00\",\"2009-03-18T00:00:00\",\"2009-03-19T00:00:00\",\"2009-03-20T00:00:00\",\"2009-03-21T00:00:00\",\"2009-03-22T00:00:00\",\"2009-03-23T00:00:00\",\"2009-03-24T00:00:00\",\"2009-03-25T00:00:00\",\"2009-03-26T00:00:00\",\"2009-03-27T00:00:00\",\"2009-03-28T00:00:00\",\"2009-03-29T00:00:00\",\"2009-03-30T00:00:00\",\"2009-03-31T00:00:00\",\"2009-04-01T00:00:00\",\"2009-04-02T00:00:00\",\"2009-04-03T00:00:00\",\"2009-04-04T00:00:00\",\"2009-04-05T00:00:00\",\"2009-04-06T00:00:00\",\"2009-04-07T00:00:00\",\"2009-04-08T00:00:00\",\"2009-04-09T00:00:00\",\"2009-04-10T00:00:00\",\"2009-04-11T00:00:00\",\"2009-04-12T00:00:00\",\"2009-04-13T00:00:00\",\"2009-04-14T00:00:00\",\"2009-04-15T00:00:00\",\"2009-04-16T00:00:00\",\"2009-04-17T00:00:00\",\"2009-04-18T00:00:00\",\"2009-04-19T00:00:00\",\"2009-04-20T00:00:00\",\"2009-04-21T00:00:00\",\"2009-04-22T00:00:00\",\"2009-04-23T00:00:00\",\"2009-04-24T00:00:00\",\"2009-04-25T00:00:00\",\"2009-04-26T00:00:00\",\"2009-04-27T00:00:00\",\"2009-04-28T00:00:00\",\"2009-04-29T00:00:00\",\"2009-04-30T00:00:00\",\"2009-05-01T00:00:00\",\"2009-05-02T00:00:00\",\"2009-05-03T00:00:00\",\"2009-05-04T00:00:00\",\"2009-05-05T00:00:00\",\"2009-05-06T00:00:00\",\"2009-05-07T00:00:00\",\"2009-05-08T00:00:00\",\"2009-05-09T00:00:00\",\"2009-05-10T00:00:00\",\"2009-05-11T00:00:00\",\"2009-05-12T00:00:00\",\"2009-05-13T00:00:00\",\"2009-05-14T00:00:00\",\"2009-05-15T00:00:00\",\"2009-05-16T00:00:00\",\"2009-05-17T00:00:00\",\"2009-05-18T00:00:00\",\"2009-05-19T00:00:00\",\"2009-05-20T00:00:00\",\"2009-05-21T00:00:00\",\"2009-05-22T00:00:00\",\"2009-05-23T00:00:00\",\"2009-05-24T00:00:00\",\"2009-05-25T00:00:00\",\"2009-05-26T00:00:00\",\"2009-05-27T00:00:00\",\"2009-05-28T00:00:00\",\"2009-05-29T00:00:00\",\"2009-05-30T00:00:00\",\"2009-05-31T00:00:00\",\"2009-06-01T00:00:00\",\"2009-06-02T00:00:00\",\"2009-06-03T00:00:00\",\"2009-06-04T00:00:00\",\"2009-06-05T00:00:00\",\"2009-06-06T00:00:00\",\"2009-06-07T00:00:00\",\"2009-06-08T00:00:00\",\"2009-06-09T00:00:00\",\"2009-06-10T00:00:00\",\"2009-06-11T00:00:00\",\"2009-06-12T00:00:00\",\"2009-06-13T00:00:00\",\"2009-06-14T00:00:00\",\"2009-06-15T00:00:00\",\"2009-06-16T00:00:00\",\"2009-06-17T00:00:00\",\"2009-06-18T00:00:00\",\"2009-06-19T00:00:00\",\"2009-06-20T00:00:00\",\"2009-06-21T00:00:00\",\"2009-06-22T00:00:00\",\"2009-06-23T00:00:00\",\"2009-06-24T00:00:00\",\"2009-06-25T00:00:00\",\"2009-06-26T00:00:00\",\"2009-06-27T00:00:00\",\"2009-06-28T00:00:00\",\"2009-06-29T00:00:00\",\"2009-06-30T00:00:00\",\"2009-07-01T00:00:00\",\"2009-07-02T00:00:00\",\"2009-07-03T00:00:00\",\"2009-07-04T00:00:00\",\"2009-07-05T00:00:00\",\"2009-07-06T00:00:00\",\"2009-07-07T00:00:00\",\"2009-07-08T00:00:00\",\"2009-07-09T00:00:00\",\"2009-07-10T00:00:00\",\"2009-07-11T00:00:00\",\"2009-07-12T00:00:00\",\"2009-07-13T00:00:00\",\"2009-07-14T00:00:00\",\"2009-07-15T00:00:00\",\"2009-07-16T00:00:00\",\"2009-07-17T00:00:00\",\"2009-07-18T00:00:00\",\"2009-07-19T00:00:00\",\"2009-07-20T00:00:00\",\"2009-07-21T00:00:00\",\"2009-07-22T00:00:00\",\"2009-07-23T00:00:00\",\"2009-07-24T00:00:00\",\"2009-07-25T00:00:00\",\"2009-07-26T00:00:00\",\"2009-07-27T00:00:00\",\"2009-07-28T00:00:00\",\"2009-07-29T00:00:00\",\"2009-07-30T00:00:00\",\"2009-07-31T00:00:00\",\"2009-08-01T00:00:00\",\"2009-08-02T00:00:00\",\"2009-08-03T00:00:00\",\"2009-08-04T00:00:00\",\"2009-08-05T00:00:00\",\"2009-08-06T00:00:00\",\"2009-08-07T00:00:00\",\"2009-08-08T00:00:00\",\"2009-08-09T00:00:00\",\"2009-08-10T00:00:00\",\"2009-08-11T00:00:00\",\"2009-08-12T00:00:00\",\"2009-08-13T00:00:00\",\"2009-08-14T00:00:00\",\"2009-08-15T00:00:00\",\"2009-08-16T00:00:00\",\"2009-08-17T00:00:00\",\"2009-08-18T00:00:00\",\"2009-08-19T00:00:00\",\"2009-08-20T00:00:00\",\"2009-08-21T00:00:00\",\"2009-08-22T00:00:00\",\"2009-08-23T00:00:00\",\"2009-08-24T00:00:00\",\"2009-08-25T00:00:00\",\"2009-08-26T00:00:00\",\"2009-08-27T00:00:00\",\"2009-08-28T00:00:00\",\"2009-08-29T00:00:00\",\"2009-08-30T00:00:00\",\"2009-08-31T00:00:00\",\"2009-09-01T00:00:00\",\"2009-09-02T00:00:00\",\"2009-09-03T00:00:00\",\"2009-09-04T00:00:00\",\"2009-09-05T00:00:00\",\"2009-09-06T00:00:00\",\"2009-09-07T00:00:00\",\"2009-09-08T00:00:00\",\"2009-09-09T00:00:00\",\"2009-09-10T00:00:00\",\"2009-09-11T00:00:00\",\"2009-09-12T00:00:00\",\"2009-09-13T00:00:00\",\"2009-09-14T00:00:00\",\"2009-09-15T00:00:00\",\"2009-09-16T00:00:00\",\"2009-09-17T00:00:00\",\"2009-09-18T00:00:00\",\"2009-09-19T00:00:00\",\"2009-09-20T00:00:00\",\"2009-09-21T00:00:00\",\"2009-09-22T00:00:00\",\"2009-09-23T00:00:00\",\"2009-09-24T00:00:00\",\"2009-09-25T00:00:00\",\"2009-09-26T00:00:00\",\"2009-09-27T00:00:00\",\"2009-09-28T00:00:00\",\"2009-09-29T00:00:00\",\"2009-09-30T00:00:00\",\"2009-10-01T00:00:00\",\"2009-10-02T00:00:00\",\"2009-10-03T00:00:00\",\"2009-10-04T00:00:00\",\"2009-10-05T00:00:00\",\"2009-10-06T00:00:00\",\"2009-10-07T00:00:00\",\"2009-10-08T00:00:00\",\"2009-10-09T00:00:00\",\"2009-10-10T00:00:00\",\"2009-10-11T00:00:00\",\"2009-10-12T00:00:00\",\"2009-10-13T00:00:00\",\"2009-10-14T00:00:00\",\"2009-10-15T00:00:00\",\"2009-10-16T00:00:00\",\"2009-10-17T00:00:00\",\"2009-10-18T00:00:00\",\"2009-10-19T00:00:00\",\"2009-10-20T00:00:00\",\"2009-10-21T00:00:00\",\"2009-10-22T00:00:00\",\"2009-10-23T00:00:00\",\"2009-10-24T00:00:00\",\"2009-10-25T00:00:00\",\"2009-10-26T00:00:00\",\"2009-10-27T00:00:00\",\"2009-10-28T00:00:00\",\"2009-10-29T00:00:00\",\"2009-10-30T00:00:00\",\"2009-10-31T00:00:00\",\"2009-11-01T00:00:00\",\"2009-11-02T00:00:00\",\"2009-11-03T00:00:00\",\"2009-11-04T00:00:00\",\"2009-11-05T00:00:00\",\"2009-11-06T00:00:00\",\"2009-11-07T00:00:00\",\"2009-11-08T00:00:00\",\"2009-11-09T00:00:00\",\"2009-11-10T00:00:00\",\"2009-11-11T00:00:00\",\"2009-11-12T00:00:00\",\"2009-11-13T00:00:00\",\"2009-11-14T00:00:00\",\"2009-11-15T00:00:00\",\"2009-11-16T00:00:00\",\"2009-11-17T00:00:00\",\"2009-11-18T00:00:00\",\"2009-11-19T00:00:00\",\"2009-11-20T00:00:00\",\"2009-11-21T00:00:00\",\"2009-11-22T00:00:00\",\"2009-11-23T00:00:00\",\"2009-11-24T00:00:00\",\"2009-11-25T00:00:00\",\"2009-11-26T00:00:00\",\"2009-11-27T00:00:00\",\"2009-11-28T00:00:00\",\"2009-11-29T00:00:00\",\"2009-11-30T00:00:00\",\"2009-12-01T00:00:00\",\"2009-12-02T00:00:00\",\"2009-12-03T00:00:00\",\"2009-12-04T00:00:00\",\"2009-12-05T00:00:00\",\"2009-12-06T00:00:00\",\"2009-12-07T00:00:00\",\"2009-12-08T00:00:00\",\"2009-12-09T00:00:00\",\"2009-12-10T00:00:00\",\"2009-12-11T00:00:00\",\"2009-12-12T00:00:00\",\"2009-12-13T00:00:00\",\"2009-12-14T00:00:00\",\"2009-12-15T00:00:00\",\"2009-12-16T00:00:00\",\"2009-12-17T00:00:00\",\"2009-12-18T00:00:00\",\"2009-12-19T00:00:00\",\"2009-12-20T00:00:00\",\"2009-12-21T00:00:00\",\"2009-12-22T00:00:00\",\"2009-12-23T00:00:00\",\"2009-12-24T00:00:00\",\"2009-12-25T00:00:00\",\"2009-12-26T00:00:00\",\"2009-12-27T00:00:00\",\"2009-12-28T00:00:00\",\"2009-12-29T00:00:00\",\"2009-12-30T00:00:00\",\"2009-12-31T00:00:00\",\"2010-01-01T00:00:00\",\"2010-01-02T00:00:00\",\"2010-01-03T00:00:00\",\"2010-01-04T00:00:00\",\"2010-01-05T00:00:00\",\"2010-01-06T00:00:00\",\"2010-01-07T00:00:00\",\"2010-01-08T00:00:00\",\"2010-01-09T00:00:00\",\"2010-01-10T00:00:00\",\"2010-01-11T00:00:00\",\"2010-01-12T00:00:00\",\"2010-01-13T00:00:00\",\"2010-01-14T00:00:00\",\"2010-01-15T00:00:00\",\"2010-01-16T00:00:00\",\"2010-01-17T00:00:00\",\"2010-01-18T00:00:00\",\"2010-01-19T00:00:00\",\"2010-01-20T00:00:00\",\"2010-01-21T00:00:00\",\"2010-01-22T00:00:00\",\"2010-01-23T00:00:00\",\"2010-01-24T00:00:00\",\"2010-01-25T00:00:00\",\"2010-01-26T00:00:00\",\"2010-01-27T00:00:00\",\"2010-01-28T00:00:00\",\"2010-01-29T00:00:00\",\"2010-01-30T00:00:00\",\"2010-01-31T00:00:00\",\"2010-02-01T00:00:00\",\"2010-02-02T00:00:00\",\"2010-02-03T00:00:00\",\"2010-02-04T00:00:00\",\"2010-02-05T00:00:00\",\"2010-02-06T00:00:00\",\"2010-02-07T00:00:00\",\"2010-02-08T00:00:00\",\"2010-02-09T00:00:00\",\"2010-02-10T00:00:00\",\"2010-02-11T00:00:00\",\"2010-02-12T00:00:00\",\"2010-02-13T00:00:00\",\"2010-02-14T00:00:00\",\"2010-02-15T00:00:00\",\"2010-02-16T00:00:00\",\"2010-02-17T00:00:00\",\"2010-02-18T00:00:00\",\"2010-02-19T00:00:00\",\"2010-02-20T00:00:00\",\"2010-02-21T00:00:00\",\"2010-02-22T00:00:00\",\"2010-02-23T00:00:00\",\"2010-02-24T00:00:00\",\"2010-02-25T00:00:00\",\"2010-02-26T00:00:00\",\"2010-02-27T00:00:00\",\"2010-02-28T00:00:00\",\"2010-03-01T00:00:00\",\"2010-03-02T00:00:00\",\"2010-03-03T00:00:00\",\"2010-03-04T00:00:00\",\"2010-03-05T00:00:00\",\"2010-03-06T00:00:00\",\"2010-03-07T00:00:00\",\"2010-03-08T00:00:00\",\"2010-03-09T00:00:00\",\"2010-03-10T00:00:00\",\"2010-03-11T00:00:00\",\"2010-03-12T00:00:00\",\"2010-03-13T00:00:00\",\"2010-03-14T00:00:00\",\"2010-03-15T00:00:00\",\"2010-03-16T00:00:00\",\"2010-03-17T00:00:00\",\"2010-03-18T00:00:00\",\"2010-03-19T00:00:00\",\"2010-03-20T00:00:00\",\"2010-03-21T00:00:00\",\"2010-03-22T00:00:00\",\"2010-03-23T00:00:00\",\"2010-03-24T00:00:00\",\"2010-03-25T00:00:00\",\"2010-03-26T00:00:00\",\"2010-03-27T00:00:00\",\"2010-03-28T00:00:00\",\"2010-03-29T00:00:00\",\"2010-03-30T00:00:00\",\"2010-03-31T00:00:00\",\"2010-04-01T00:00:00\",\"2010-04-02T00:00:00\",\"2010-04-03T00:00:00\",\"2010-04-04T00:00:00\",\"2010-04-05T00:00:00\",\"2010-04-06T00:00:00\",\"2010-04-07T00:00:00\",\"2010-04-08T00:00:00\",\"2010-04-09T00:00:00\",\"2010-04-10T00:00:00\",\"2010-04-11T00:00:00\",\"2010-04-12T00:00:00\",\"2010-04-13T00:00:00\",\"2010-04-14T00:00:00\",\"2010-04-15T00:00:00\",\"2010-04-16T00:00:00\",\"2010-04-17T00:00:00\",\"2010-04-18T00:00:00\",\"2010-04-19T00:00:00\",\"2010-04-20T00:00:00\",\"2010-04-21T00:00:00\",\"2010-04-22T00:00:00\",\"2010-04-23T00:00:00\",\"2010-04-24T00:00:00\",\"2010-04-25T00:00:00\",\"2010-04-26T00:00:00\",\"2010-04-27T00:00:00\",\"2010-04-28T00:00:00\",\"2010-04-29T00:00:00\",\"2010-04-30T00:00:00\",\"2010-05-01T00:00:00\",\"2010-05-02T00:00:00\",\"2010-05-03T00:00:00\",\"2010-05-04T00:00:00\",\"2010-05-05T00:00:00\",\"2010-05-06T00:00:00\",\"2010-05-07T00:00:00\",\"2010-05-08T00:00:00\",\"2010-05-09T00:00:00\",\"2010-05-10T00:00:00\",\"2010-05-11T00:00:00\",\"2010-05-12T00:00:00\",\"2010-05-13T00:00:00\",\"2010-05-14T00:00:00\",\"2010-05-15T00:00:00\",\"2010-05-16T00:00:00\",\"2010-05-17T00:00:00\",\"2010-05-18T00:00:00\",\"2010-05-19T00:00:00\",\"2010-05-20T00:00:00\",\"2010-05-21T00:00:00\",\"2010-05-22T00:00:00\",\"2010-05-23T00:00:00\",\"2010-05-24T00:00:00\",\"2010-05-25T00:00:00\",\"2010-05-26T00:00:00\",\"2010-05-27T00:00:00\",\"2010-05-28T00:00:00\",\"2010-05-29T00:00:00\",\"2010-05-30T00:00:00\",\"2010-05-31T00:00:00\",\"2010-06-01T00:00:00\",\"2010-06-02T00:00:00\",\"2010-06-03T00:00:00\",\"2010-06-04T00:00:00\",\"2010-06-05T00:00:00\",\"2010-06-06T00:00:00\",\"2010-06-07T00:00:00\",\"2010-06-08T00:00:00\",\"2010-06-09T00:00:00\",\"2010-06-10T00:00:00\",\"2010-06-11T00:00:00\",\"2010-06-12T00:00:00\",\"2010-06-13T00:00:00\",\"2010-06-14T00:00:00\",\"2010-06-15T00:00:00\",\"2010-06-16T00:00:00\",\"2010-06-17T00:00:00\",\"2010-06-18T00:00:00\",\"2010-06-19T00:00:00\",\"2010-06-20T00:00:00\",\"2010-06-21T00:00:00\",\"2010-06-22T00:00:00\",\"2010-06-23T00:00:00\",\"2010-06-24T00:00:00\",\"2010-06-25T00:00:00\",\"2010-06-26T00:00:00\",\"2010-06-27T00:00:00\",\"2010-06-28T00:00:00\",\"2010-06-29T00:00:00\",\"2010-06-30T00:00:00\",\"2010-07-01T00:00:00\",\"2010-07-02T00:00:00\",\"2010-07-03T00:00:00\",\"2010-07-04T00:00:00\",\"2010-07-05T00:00:00\",\"2010-07-06T00:00:00\",\"2010-07-07T00:00:00\",\"2010-07-08T00:00:00\",\"2010-07-09T00:00:00\",\"2010-07-10T00:00:00\",\"2010-07-11T00:00:00\",\"2010-07-12T00:00:00\",\"2010-07-13T00:00:00\",\"2010-07-14T00:00:00\",\"2010-07-15T00:00:00\",\"2010-07-16T00:00:00\",\"2010-07-17T00:00:00\",\"2010-07-18T00:00:00\",\"2010-07-19T00:00:00\",\"2010-07-20T00:00:00\",\"2010-07-21T00:00:00\",\"2010-07-22T00:00:00\",\"2010-07-23T00:00:00\",\"2010-07-24T00:00:00\",\"2010-07-25T00:00:00\",\"2010-07-26T00:00:00\",\"2010-07-27T00:00:00\",\"2010-07-28T00:00:00\",\"2010-07-29T00:00:00\",\"2010-07-30T00:00:00\",\"2010-07-31T00:00:00\",\"2010-08-01T00:00:00\",\"2010-08-02T00:00:00\",\"2010-08-03T00:00:00\",\"2010-08-04T00:00:00\",\"2010-08-05T00:00:00\",\"2010-08-06T00:00:00\",\"2010-08-07T00:00:00\",\"2010-08-08T00:00:00\",\"2010-08-09T00:00:00\",\"2010-08-10T00:00:00\",\"2010-08-11T00:00:00\",\"2010-08-12T00:00:00\",\"2010-08-13T00:00:00\",\"2010-08-14T00:00:00\",\"2010-08-15T00:00:00\",\"2010-08-16T00:00:00\",\"2010-08-17T00:00:00\",\"2010-08-18T00:00:00\",\"2010-08-19T00:00:00\",\"2010-08-20T00:00:00\",\"2010-08-21T00:00:00\",\"2010-08-22T00:00:00\",\"2010-08-23T00:00:00\",\"2010-08-24T00:00:00\",\"2010-08-25T00:00:00\",\"2010-08-26T00:00:00\",\"2010-08-27T00:00:00\",\"2010-08-28T00:00:00\",\"2010-08-29T00:00:00\",\"2010-08-30T00:00:00\",\"2010-08-31T00:00:00\",\"2010-09-01T00:00:00\",\"2010-09-02T00:00:00\",\"2010-09-03T00:00:00\",\"2010-09-04T00:00:00\",\"2010-09-05T00:00:00\",\"2010-09-06T00:00:00\",\"2010-09-07T00:00:00\",\"2010-09-08T00:00:00\",\"2010-09-09T00:00:00\",\"2010-09-10T00:00:00\",\"2010-09-11T00:00:00\",\"2010-09-12T00:00:00\",\"2010-09-13T00:00:00\",\"2010-09-14T00:00:00\",\"2010-09-15T00:00:00\",\"2010-09-16T00:00:00\",\"2010-09-17T00:00:00\",\"2010-09-18T00:00:00\",\"2010-09-19T00:00:00\",\"2010-09-20T00:00:00\",\"2010-09-21T00:00:00\",\"2010-09-22T00:00:00\",\"2010-09-23T00:00:00\",\"2010-09-24T00:00:00\",\"2010-09-25T00:00:00\",\"2010-09-26T00:00:00\",\"2010-09-27T00:00:00\",\"2010-09-28T00:00:00\",\"2010-09-29T00:00:00\",\"2010-09-30T00:00:00\",\"2010-10-01T00:00:00\",\"2010-10-02T00:00:00\",\"2010-10-03T00:00:00\",\"2010-10-04T00:00:00\",\"2010-10-05T00:00:00\",\"2010-10-06T00:00:00\",\"2010-10-07T00:00:00\",\"2010-10-08T00:00:00\",\"2010-10-09T00:00:00\",\"2010-10-10T00:00:00\",\"2010-10-11T00:00:00\",\"2010-10-12T00:00:00\",\"2010-10-13T00:00:00\",\"2010-10-14T00:00:00\",\"2010-10-15T00:00:00\",\"2010-10-16T00:00:00\",\"2010-10-17T00:00:00\",\"2010-10-18T00:00:00\",\"2010-10-19T00:00:00\",\"2010-10-20T00:00:00\",\"2010-10-21T00:00:00\",\"2010-10-22T00:00:00\",\"2010-10-23T00:00:00\",\"2010-10-24T00:00:00\",\"2010-10-25T00:00:00\",\"2010-10-26T00:00:00\",\"2010-10-27T00:00:00\",\"2010-10-28T00:00:00\",\"2010-10-29T00:00:00\",\"2010-10-30T00:00:00\",\"2010-10-31T00:00:00\",\"2010-11-01T00:00:00\",\"2010-11-02T00:00:00\",\"2010-11-03T00:00:00\",\"2010-11-04T00:00:00\",\"2010-11-05T00:00:00\",\"2010-11-06T00:00:00\",\"2010-11-07T00:00:00\",\"2010-11-08T00:00:00\",\"2010-11-09T00:00:00\",\"2010-11-10T00:00:00\",\"2010-11-11T00:00:00\",\"2010-11-12T00:00:00\",\"2010-11-13T00:00:00\",\"2010-11-14T00:00:00\",\"2010-11-15T00:00:00\",\"2010-11-16T00:00:00\",\"2010-11-17T00:00:00\",\"2010-11-18T00:00:00\",\"2010-11-19T00:00:00\",\"2010-11-20T00:00:00\",\"2010-11-21T00:00:00\",\"2010-11-22T00:00:00\",\"2010-11-23T00:00:00\",\"2010-11-24T00:00:00\",\"2010-11-25T00:00:00\",\"2010-11-26T00:00:00\"],\"xaxis\":\"x\",\"y\":[3.0534747474747475,2.354486111111111,1.5304347222222223,1.1570791666666667,1.5456583333333334,1.1936161319951397,1.6259291666666669,3.314851388888889,1.7708416666666669,1.9049444444444443,2.7320208333333333,1.0616388888888888,1.4393319444444443,2.204438888888889,1.9385314097729176,2.426525,1.9090305555555556,0.8814138888888889,0.7042041666666666,2.2634805555555553,1.8842805555555555,1.047484722222222,1.6997361111111111,1.5565,1.2979541666666667,1.496388888888889,1.5661069444444444,1.014788888888889,2.2130652777777775,2.089519177108681,1.4921375,1.1711138888888888,1.977561111111111,1.2649041666666667,1.0280833333333335,2.1762027777777777,2.366154166666667,1.5142319444444445,1.2344722222222222,2.074898611111111,1.1085722222222223,1.1235916666666665,1.4194944444444444,2.14673306599757,1.37685,1.1859708333333334,1.6414944444444444,1.2671944444444445,1.15815,2.7984180555555556,2.4971805555555555,1.1425555555555555,0.8843611111111112,1.6166791666666667,1.2509819444444443,1.1251375000000001,1.964811111111111,2.4800194444444443,1.3038958333333333,0.9823236111111111,1.735188888888889,1.3787125,1.182311111111111,1.4423,2.6595569444444447,1.5184819444444444,2.18745,1.4394958333333332,2.3414314097729174,0.9121388888888889,0.4964736111111111,0.3484305555555556,0.3947805555555556,0.35979999999999995,0.36164861111111113,0.3594194444444444,0.35811666666666664,0.5688347222222222,1.4518749999999998,1.8474527777777776,0.865625,1.6494486111111113,1.0917583333333334,0.8837583333333334,1.7254944444444444,2.417108333333333,1.3546305555555556,0.8959333333333334,1.2453916666666667,1.3088986111111112,1.1819819444444446,1.4083958333333333,1.6465597222222221,1.4948041666666667,1.4487694444444446,1.487563888888889,1.010401388888889,0.9090333333333334,2.0614097222222223,2.3175108437753478,0.9833902777777779,0.7674583333333334,1.6207625,1.1044486111111111,0.9738847222222222,2.4371597222222223,1.9346888888888887,1.3616513888888888,1.1408472222222221,1.4249083333333332,1.2806097222222221,1.111902777777778,1.079113888888889,1.1172333333333333,0.6950833333333333,0.5398361111111112,0.6163069444444444,0.37340694444444444,0.3826541666666667,0.38490833333333335,0.5042805555555555,0.6613819444444444,0.8498152777777778,0.6932263888888889,0.7143458333333332,0.5712361111111112,1.162261111111111,1.5511902777777777,0.7323375,0.716736111111111,0.8778902777777778,0.8857402777777778,0.7599527777777778,1.0914859283294347,1.0916150365006245,0.9472065219003748,1.1554569444444445,0.6968652777777777,0.7571097222222223,0.6931444444444445,1.0854527777777778,1.4597944444444444,1.1414333333333333,1.2425638888888888,1.1567611111111111,0.4915861111111111,0.6799680555555555,1.0010875000000001,1.1352347222222223,1.0192930555555555,0.62805,1.1756555555555555,0.8554277777777778,1.1330069444444444,0.9926680555555556,1.3668944444444444,0.7778208333333333,0.7867027777777779,1.0173166666666666,0.8016583333333333,1.1209861111111112,1.0501722222222223,1.4957,1.1371305555555555,0.7370416666666666,1.1179625,0.6517708333333333,0.7263955659975699,1.0308069444444445,1.4639069444444444,0.6330680555555556,1.0131194444444445,1.17689556599757,0.6840291666666667,1.491698611111111,0.7647884523520999,0.9311194444444444,0.5518430555555556,0.6380319444444444,0.643938888888889,0.8743638888888889,0.687225,1.4012236111111112,1.3521458333333334,0.47116250000000004,0.586488354217362,0.7460319444444445,0.5603791666666667,0.3932597222222222,0.33164305555555557,0.49628888888888884,0.7445847222222223,0.6561861111111111,1.0283513888888889,0.8996097222222222,0.9064511215531255,0.9273013888888889,0.7129611111111112,0.67155,0.73605,0.6968125,0.7342291666666666,0.7427250000000001,0.943198611111111,0.7563055555555555,0.8195541666666666,0.6307805555555556,0.5016333333333333,0.7427652777777779,0.5516541666666667,0.8945625,0.7353708019063063,0.5928291666666666,0.49974444444444444,0.5257513888888888,0.47075416666666664,0.771126388888889,0.7362833333333334,0.956156677108681,0.6882069444444444,0.5731138888888889,0.32816666666666666,0.6420138888888889,0.8350791666666666,1.1262930555555557,0.2229972222222222,0.3241777777777778,0.5641194444444444,0.7522652192823007,0.7079277777777778,0.7384472222222223,0.7951319444444445,0.5465958333333333,0.75675,1.0302638888888889,0.7815847222222222,0.7442222222222222,0.7138958333333333,0.7580902777777778,0.8624333333333334,0.8007027777777778,0.6536041666666667,0.8276805555555555,0.6656222222222222,0.7013138888888888,0.24163888888888888,0.9877041666666667,0.929751388888889,0.44621944444444445,0.8401444444444445,0.7724388888888888,1.150906677108681,0.7992222222222223,0.9131291666666667,0.8414791666666667,0.6923638888888889,0.5194388888888889,0.8350402777777778,0.8887652777777777,1.1815875,1.1544916666666667,0.7214736111111111,1.1006555555555555,0.8587305555555554,0.6260236111111112,0.9281222222222223,1.020661111111111,1.1663208333333333,0.7759555555555555,0.6830361111111111,0.8942805555555555,0.7960986111111111,0.7885208333333333,0.7606333333333333,1.1473777777777778,1.0147125,0.8107777777777778,0.9018638888888889,0.8718972222222222,0.8602638888888888,0.8167861111111111,0.9847013888888889,0.9406458333333333,1.2252375,1.266977243106251,0.9670833333333333,1.1670125,1.5948069444444444,1.0529791666666666,1.1950847222222223,1.526988888888889,0.8892041666666667,1.0544847222222222,0.9681194444444445,1.2196111111111112,1.4625791666666668,0.7605847222222222,1.172123611111111,0.8103972222222222,1.2030874999999999,1.3295166666666667,1.3380055555555557,1.431425,0.8793958333333333,1.3641958333333333,1.0950902777777778,1.054534722222222,1.4483666666666668,1.1529486111111111,1.3485694444444445,1.1478444444444444,1.3589105764395841,1.2955805555555555,1.2874430555555554,0.9983111111111111,1.2400611111111113,0.3556652777777778,0.37876944444444444,0.5632,0.8911180555555556,0.3445944444444444,1.002501388888889,0.3420486111111111,1.0317263888888888,1.0420777777777779,1.4460958333333334,1.2810819444444446,1.0424027777777778,1.5077958333333334,1.813611111111111,1.3105027777777778,1.4973236111111112,1.537776388888889,1.4222180555555555,1.0361027777777778,1.6039958333333333,1.8125652777777779,1.5165680555555556,1.1969819444444445,1.4554555555555557,1.2173108437753477,1.3419291666666666,1.7518180555555556,1.3187875,0.9691652777777777,1.0900805555555555,1.9451472222222224,1.1423194444444444,1.194667788219792,1.6192555555555557,2.1770430555555556,2.045963888888889,1.2236527777777777,1.4358583333333332,1.4952222222222222,1.7277319444444446,1.2284833333333334,1.5370861111111112,1.5795722222222222,1.2213569444444443,1.6007666666666664,1.1028208333333334,1.2831569444444446,1.3713944444444444,1.9006083333333335,1.9182069444444443,1.2487205659975698,1.8216625,1.5250361111111113,1.353998611111111,1.3767888888888888,1.8133777777777778,1.67295,1.56795,1.8715055555555555,1.7918611111111113,1.7584708333333332,2.1618416666666667,2.290941666666667,1.777025,1.5392652777777778,1.916484722222222,1.1417402777777779,1.048686111111111,1.5915638888888888,1.5161444444444445,1.2674888888888889,1.177648611111111,1.4191319444444443,1.2419722222222223,1.3153305555555557,1.1845958333333333,1.9940333333333333,2.00190806599757,1.4062027777777777,1.865911111111111,1.4832305555555554,1.0918625,1.5187416666666667,1.3752125,1.208588888888889,1.2909708333333334,1.6145958333333335,1.3071583333333334,1.142376388888889,1.5554555555555558,1.9687416666666666,1.6540041666666667,1.6029138888888887,1.85835,1.1393375,1.3568902777777778,1.0657305555555556,2.03967056599757,1.4476166666666668,1.130651388888889,1.7169833333333335,1.1594027777777778,1.0543819444444444,1.3545583333333333,1.4599138888888887,1.5171625,1.1750111111111112,1.3804152777777778,1.319790277777778,1.1143208333333334,1.3925055555555557,1.6298249999999999,1.3426166666666666,1.0516694444444445,1.477025,1.5651319444444445,1.1346180555555554,1.2031694444444445,1.2751064097729174,0.8770888888888889,0.35033888888888887,0.3521666666666667,0.39355555555555555,0.35359999999999997,0.9259361111111111,0.7929694444444444,0.8071013888888889,0.7226041666666666,1.1590208333333334,1.4147277777777778,1.7383388888888889,1.2937194444444444,1.5615694444444443,1.083651388888889,1.1240875,1.5278069444444444,1.2321055555555556,1.1635513888888889,1.5348749999999998,1.0946527777777777,1.2513611111111111,1.1853597222222223,1.3316430555555556,0.9086444444444445,0.8703291666666667,1.4350291666666666,1.4260527777777778,1.6152708333333332,1.372055288219792,1.3999,1.1343555555555556,0.9519597222222222,1.3093222222222223,1.716076388888889,1.4905499999999998,0.9566458333333333,1.4785083333333335,1.1747722222222223,0.7838583333333334,1.1332763888888888,1.3685847222222223,1.1779986111111111,1.0686375,1.8454972222222223,0.8464250000000001,1.0262125,1.3039333333333334,1.9444541666666668,1.5506847222222222,1.1038763888888887,1.1600041666666667,1.0340722222222223,0.9693486111111111,1.293326388888889,1.565076388888889,1.2440402777777777,0.8084416666666666,1.1303305555555556,0.9425888888888889,0.7248416666666666,0.8803708333333333,0.6271986111111112,0.7001666666666667,0.457675,1.3698722222222222,0.7650874999999999,0.40000972222222225,1.0401166666666666,0.8955555555555554,1.0215069444444445,0.9492583333333333,1.2430416666666666,0.81685,1.4699291666666665,1.2133833333333333,1.3257833333333333,1.1186944444444444,1.058475,1.0256208333333334,1.1001819444444445,0.8074777777777778,1.1459814097729175,1.1510097222222222,1.2527486111111112,0.7154597222222222,1.0981486111111112,0.9195222222222222,0.6783805555555555,1.0311916666666667,1.0973444444444445,1.4225722222222221,0.8956319444444445,1.1865972222222223,0.7738694444444445,0.7882472222222222,0.9703083333333333,1.1399097222222223,1.2839416666666668,0.7458416666666666,1.1095944444444445,1.1034111111111111,0.7778319444444445,0.8456347222222221,1.3072805555555556,1.0710569444444444,0.9206236111111111,0.7410347222222222,0.7800041666666666,0.8745361111111112,1.3023413993309032,0.9617500000000001,1.5896541666666666,0.9048916666666668,0.7951972222222222,1.3150055555555555,1.1028347222222221,1.1639611111111112,1.2043430555555554,1.087788888888889,0.8693027777777778,1.2183694444444444,0.8762291666666666,0.7333472222222223,1.2188555555555556,0.8394444444444444,0.5203833333333333,0.5584694444444445,0.8439166666666666,0.7966680555555555,0.7627499999999999,0.6541805555555555,1.0202,1.2535166666666666,0.6829097222222222,0.7820930555555555,0.6384152777777777,0.8689416666666667,0.8709833333333332,0.9228138888888889,0.8721786319951398,0.7902263888888889,0.8026805555555555,0.7479597222222222,0.9160569444444445,0.8761,0.9333430555555555,0.6538430555555556,0.8031097222222223,0.5140569444444444,0.6546041666666667,0.7593402777777778,0.6010652777777777,0.5664472222222222,0.7968027777777777,0.573475,0.8101097222222222,0.9027138888888888,0.9671097222222221,0.5135944444444445,0.35123333333333334,0.35054305555555554,0.7826469548864587,0.5743875,0.22646666666666668,0.23255833333333334,0.2098611111111111,0.24925277777777777,0.24446666666666667,0.258275,0.20068333333333332,0.19623888888888888,0.18767916666666665,0.1900375,0.19084305555555556,0.19083055555555556,0.19010972222222222,0.19075833333333334,0.18643888888888888,0.18145694444444443,0.1855027777777778,0.1768347222222222,0.1768861111111111,0.17381805555555555,0.1788638888888889,0.17924583333333333,0.18628194444444443,0.18582500000000002,0.18779444444444443,1.0428511215531253,0.8663263888888889,0.9612180555555555,0.964226388888889,0.8508472222222222,0.6069166666666667,1.2976208333333334,0.9532333333333333,0.9092527777777778,0.8053152777777778,0.9033083333333333,0.7143847222222222,0.9671958333333333,1.1329416666666665,1.0946708333333333,1.178963888888889,0.8485152777777778,1.0550069444444445,1.0453402777777778,1.0547541666666667,0.9059722222222222,1.0646319444444443,0.9434472222222223,0.8561027777777778,1.193298611111111,0.7855694444444444,0.9940625000000001,1.4773930555555554,1.2021555555555556,1.0428736111111112,0.9548652777777779,1.3002527777777777,0.9342652777777778,1.1198472222222222,1.4586777777777777,1.0763541666666667,0.9887374999999999,1.1990055555555554,1.2920666666666667,1.3775569444444444,1.0544013888888888,1.1592958333333334,1.3249583333333335,1.015261111111111,1.1174,1.4978444444444445,1.0997777777777777,1.296448611111111,1.5549930555555556,1.3693986111111112,1.158023611111111,1.433136111111111,1.1430625,1.2711763888888887,1.4814069444444444,1.090344060117727,0.36353611111111106,0.36381388888888894,0.9217291666666666,1.1198444444444444,0.7629166666666666,0.892938888888889,0.5767347222222222,0.6323708333333333,0.5886111111111111,1.0849416666666667,2.177034722222222,1.1030819444444444,1.1244333333333334,1.2035680555555555,1.7906513888888889,1.4572428404298636,1.7055208333333332,1.519914743106251,0.8600416666666667,1.1262069444444445,2.105297222222222,1.642661111111111,1.0580805555555555,1.2146180555555555,1.2779430555555555,1.1752333333333334,1.162451388888889,1.18845,2.3655663993309033,2.231248611111111,1.8769791666666666,1.0527458333333333,1.6404291666666666,1.3096972222222223,1.6907416666666668,1.6676305555555555,1.1225958333333332,1.2454472222222222,1.218863888888889,1.2073874999999998,1.4295958333333334,1.7526638888888888,1.7130138888888888,1.297663888888889,1.3910722222222223,1.5190507309410024,0.9948069444444444,1.2607875,1.2677597222222223,1.390361111111111,1.2468402777777778,1.2479791666666666,1.4574902777777778,1.2062083333333333,1.3070222222222223,1.5580511215531254,1.8358402777777778,1.3998666666666666,1.2486722222222222,0.8816930555555555,0.7368874999999999,0.8498138888888889,2.064002777777778,1.0907236111111112,0.38560972222222223,0.8300263888888889,1.3640194444444445,0.9768694444444445,1.616326388888889,1.3288166666666668,1.3472180555555555,1.113888888888889,1.1735152777777778,1.4446333333333332,1.1342152777777779,1.2421541666666667,1.4603805555555556,1.3722138888888888,1.1036652777777778,1.5156944444444445,1.2342872326642367,1.0861583333333333,1.9212180555555556,2.304041666666667,2.1904125,1.1804625,1.206963888888889,1.2079402777777777,0.859275,1.326761111111111,1.5283125,1.9747666666666668,1.1628277777777778,0.9896041666666666,1.8900930555555555,1.0928458333333333,1.4298875,2.3005916666666666,1.283987063463211,1.1134027777777777,1.2974930555555557,1.708975,1.1452,1.4224972222222223,2.1746777777777777,1.5158791666666667,1.1851652777777777,1.349876388888889,1.8329097222222221,1.3671250000000001,1.173626388888889,1.6213730764395842,1.1014111111111111,0.9159680555555555,0.5610394172750104,0.5739236111111111,0.5119916666666667,1.3060666666666667,0.9140166666666667,1.5544986111111112,1.8983722222222221,1.2382944444444444,0.8123916666666667,0.8033694444444445,1.4089708333333333,1.1324652777777777,1.7143872326642366,1.0260013888888888,1.2839944444444444,1.2792569444444446,1.0012583333333334,1.238523611111111,1.1781013888888887,1.6369208333333334,1.170525,1.2751458333333334,1.6707666666666667,1.3105972222222222,1.0038333333333334,1.4923805555555554,1.3486541666666665,0.927655288219792,1.3416041666666667,1.0074166666666666,0.8274527777777777,1.016601388888889,1.3402930555555554,1.1730347222222224,0.9003125000000001,1.1539666666666666,1.2769263888888889,0.8409749999999999,1.1902263888888889,1.5701222222222222,1.5393402777777778,1.0260083333333334,1.2663069444444444,1.1396805555555556,1.1418986111111111,0.9467083333333334,1.5216888888888889,0.9553583333333333,1.0087736111111112,1.0000638888888889,1.0656944444444443,1.3128277777777777,1.2792458333333334,1.7100319444444443,1.486813888888889,1.1116716875506953,1.0427347222222223,0.8444875,1.0864749999999999,1.4186180555555554,1.0501847222222223,0.8933805555555556,1.0322986111111112,1.3156930555555555,1.0390263888888889,0.7926805555555556,0.8292,1.404363888888889,1.2372402777777778,0.9386305555555555,1.1849902777777777,1.1560277777777779,1.2741402777777777,1.0505569444444445,0.9679930555555556,1.1172763888888888,1.158251388888889,1.2024124999999999,0.9374319444444444,0.7032277777777778,1.2896916666666667,0.8759388888888889,1.366419177108681,1.0535944444444445,1.1291361111111111,0.8655541666666666,1.115961111111111,0.9876569444444445,1.3940124999999999,1.0720583333333333,0.8402124999999999,1.1231555555555557,0.907751388888889,1.0938541666666668,0.7463930555555556,1.0629152777777777,0.8942958333333334,0.9403444444444444,0.9312144757704874,1.072425,0.8192611111111112,0.8630875,1.1521569444444444,0.6645069444444445,1.0022638888888888,0.7573875,0.9420680555555555,0.7192083333333333,0.8544166666666666,1.0246180555555555,0.8384666666666667,0.8185944444444445,0.9255902777777777,1.1131916666666668,0.9032291666666667,0.7650916666666666,1.0787466676846393,1.0916150365006245,0.8809672511165167,1.047772222222222,0.6861222222222222,0.8095138888888889,0.7547680555555556,0.7688194444444444,0.5938486111111112,0.7597902777777777,0.7216763888888889,1.0658847222222223,0.5356680555555555,0.8870291666666665,1.1868416666666666,0.7356902777777777,0.7014819444444444,0.8280875,0.8460708333333334,0.8629013888888889,0.6001027777777778,0.8601166666666666,0.9796777777777779,0.6626805555555555,0.7709277777777778,0.8572222222222223,0.587675,0.8274197639902795,0.6902555555555555,0.3565819444444444,0.3449625,0.6329374999999999,0.49866249999999995,0.41635694444444443,0.5082,0.6711180555555555,0.8358638888888889,0.4600597222222222,0.5651125,0.5135638888888889,0.7152777777777778,0.39009583333333336,0.3727,0.3770944444444444,0.4781708333333334,0.6269791666666666,0.6263888888888889,0.5502263888888889,0.6776597222222223,0.4909486111111111,0.3400861111111111,0.3474291666666667,0.3533972222222222,0.360175,0.36991111111111113,0.37451111111111113,0.3656055555555555,0.6932180555555556,0.7426097222222222,0.6603847222222222,0.5725250000000001,1.096854859390317,0.5199138888888889,1.0514319444444444,0.8456333333333333,0.5457694444444444,0.7504152777777777,0.6116263888888889,0.5386958333333334,0.8067680555555556,1.0755125,0.7407694444444445,0.8696208333333333,0.6552847222222222,0.7892680555555556,0.5204625,0.7769736111111112,0.9641763888888889,1.1585708333333333,0.8788347222222221,0.6809277777777777,0.8491763888888889,0.8688805555555557,0.7113805555555555,1.0512958333333333,0.8532152777777778,0.8482347222222223,0.7543430555555555,1.056488888888889,0.7724680555555555,0.8431569444444444,1.4335819444444446,1.09124556599757,1.0936513888888888,1.0116708333333333,1.2105291666666667,0.8496013888888888,0.9541888888888889,1.4831319444444444,1.4134222222222221,0.9846305555555556,0.86565,1.1365347222222222,0.9904569444444444,0.8062611111111112,1.0807319444444443,0.9794944444444444,0.9024,0.7961097222222222,1.2325827986618063,0.893925,0.8004638888888889,1.1921805555555556,1.1257680555555556,0.8857791666666667,0.9919777777777778,1.2651625,1.0952541666666666,0.9387930555555556,1.3977472222222223,1.3467886215531255,0.938613888888889,1.0063194444444443,1.18835,1.0347055555555555,1.053375,1.9042222222222223,1.0806694444444445,0.9507694444444444,1.1963944444444445,1.3677125,0.9720208333333333,1.2204513888888888,1.815561111111111,1.6712055555555556,0.7724611111111112,0.775525,0.8810472222222223,1.3760000000000001,1.0370541666666666,1.3027375,1.2799777777777777,1.0446013888888888,1.5740888888888889,1.25125,1.0836569444444444,0.9655902777777778,1.0813722222222222,1.7416680555555555,0.9762802882197921,1.1154055555555555,1.417,1.0160180555555556,1.0645319444444443,1.7780944444444446,1.366186111111111,1.0517138888888888,1.186315277777778,1.8327597222222223,1.0242,1.3618166666666667,1.733927777777778,1.7020666666666668,1.0216125,1.4783722222222224,1.3750902777777778,1.110851388888889,0.9583513888888889,1.2909375,1.1465013888888889,1.2119375000000001,1.2197069444444444,1.6289361111111111,1.0275611111111111,1.1883986111111111,1.6331680555555557,1.651588888888889,1.2101652777777778,1.3936694444444444,1.2516361111111112,1.4281036319951397,1.2392097222222223,1.2613750000000001,1.4852874999999999,1.2464319444444445,1.3473027777777777,0.9686625,1.1924875,1.2116013888888888,1.5307875,0.7945597222222222,1.4131708333333333,1.3111263888888889,1.0105555555555557,2.0179819444444442,1.4775333333333334,1.5164013888888888,1.5246194444444443,1.4542347222222223,1.4222000000000001,1.7021597222222222,1.536036111111111,0.850175,0.9096719548864587,1.4468430555555556,1.1139805555555555,1.541513888888889,1.2341527777777779,1.2287791666666668,1.248061111111111,1.6228472222222223,1.7419902777777776,1.0546416666666667,1.3053134895596123,1.0916150365006245,1.2952169247803564,1.525527777777778,1.4931333333333334,1.3239972222222223,1.3063180555555556,1.689936111111111,1.6331444444444445,1.484622222222222,1.2434902777777777,1.8122233437753477,1.575986111111111,1.3406319444444443,1.4358083333333331,1.9172930555555556,1.4654402777777777,1.4534652777777777,1.9741166666666667,1.2494416666666666,1.1762347222222223,1.4982166666666665,2.0159819444444445,1.6085208333333334,1.4575638888888887,1.8840180555555555,1.1289638888888889,1.7932208333333333,1.6812027777777776,1.3511344548864588,0.9512277777777778,1.3145819444444444,1.633025,1.1720761215531255,1.4563416666666666,1.2484416666666667,1.4267777777777777,1.223025,1.3566472222222221,1.377588888888889,1.9029958333333332,1.0236361111111112,1.0147777777777778,1.3293597222222222,1.3056972222222223,1.4723305555555555,1.2257333333333333,0.49421250000000005,0.9018944444444444,0.5325736111111111,0.6498847222222222,0.4742222222222222,0.7873097222222223,0.5518833333333333,0.9531055555555555,1.7757625,1.2223000000000002,1.2657166666666666,1.3549236111111111,1.1426555555555555,1.6548680555555555,1.0879958333333333,1.2443402777777777,1.0712847222222224,1.3952291666666665,1.0851958333333334,1.1551277777777778,1.0072242806199685,1.2578574408986192,1.1240208333333332,1.265390277777778,1.3852444444444445,1.166586111111111,1.146725,1.2833125,1.2487597222222222,1.126901388888889,1.3239263888888888,1.3359736111111111,1.1718333333333333,1.1448763888888889,1.2536652777777777,1.1738805555555556,0.7769583333333333,1.267952777777778,1.1090152777777778,1.1452916666666666,0.8564930555555554,0.8265333333333333,1.1138205659975697,0.9996013888888888,1.0504888888888888,1.1530305555555556,1.3001236111111112,1.0847652777777776,1.0817444444444444,1.0250736111111112,1.186523611111111,1.2733527777777778,1.0971625,1.0145166666666667,0.8198166666666667,1.0544569444444443,1.071348611111111,0.751886111111111,0.8687083333333334,0.6026791666666667,0.7664749999999999,0.776825,0.9167763888888888,1.5193819444444443,0.9800708333333332,1.0534444444444444,1.253686111111111,0.9022569444444445,1.1416694444444444,1.0648763888888888,1.0878541666666666,1.0193694444444446,1.0912277777777777,1.4134847222222222,1.078880288219792,1.1959347222222223,1.3505361111111112,1.4586291666666666,1.1306819444444445,0.9869333333333333,0.9908,0.8013180555555555,0.898886111111111,1.4553972222222222,1.033025,0.9314805555555556,0.8323791666666667,0.9638083333333334,0.9189875000000001,0.9709472222222222,1.4234777777777778,1.1567361111111112,0.9308763888888889,0.8812249999999999,0.6811791666666667,0.9681847222222222,0.9864958333333333,1.3955861111111112,1.21305,0.7028347222222222,0.9458569444444446,1.065751388888889,0.8438819444444445,1.0213,1.3709719548864587,1.1627472222222222,0.8458222222222221,0.8499763888888888,1.2278416666666667,0.7139013888888889,0.9252194444444445,0.9834861111111112,1.1614930555555556,1.1533958333333334,1.055963888888889,1.0014333333333334,0.7609583333333333,0.7634986111111112,0.6816805555555555,0.7916416666666666,1.021763888888889,0.950269177108681,0.9612055555555555,0.9368069444444445,0.7923111111111112,0.7778291666666667,1.0681166666666666,0.7736041666666666,0.6985652777777778,0.5797138888888889,0.8421194444444444,0.7524152777777778,0.8017388888888888,0.8288694444444445,0.7705375000000001,0.9598013888888889,0.9788,1.1348983437753477,0.5694833333333333,0.5599666666666666,0.5639152777777778,0.5563597222222222,0.5943222222222222,0.7390041666666666,0.8086430555555555,0.8167763888888888,0.6400472222222222,0.7850069444444445,0.6139930555555555,0.6613611111111111,0.5990652777777777,0.38132222222222223,0.38281944444444443,0.38515,0.38587777777777776,0.38158472222222223,0.42723055555555556,0.37733055555555556,0.37046944444444446,0.36440694444444444,0.36630277777777775,0.3669861111111111,0.3715722222222222,0.3783041666666667,0.3763902777777777,0.3678458333333333,0.37103749999999996,0.3849097222222222,0.7333236111111112,0.7845347222222222,0.8142426920118827,1.0916150365006245,1.0916150365006245,1.0916150365006245,1.0916150365006245,1.0412070604255586,0.5317069444444444,0.5020472222222222,0.6808388888888889,0.5258694444444444,1.4101736111111112,1.0019833333333332,1.1586666666666667,1.0380569444444443,0.9479902777777778,1.1064708333333333,0.9670083333333334,0.9350097222222222,1.2109999999999999,0.9187625,0.9881083333333334,1.0082319444444445,0.9054249999999999,0.8602180555555555,0.9222972222222222,1.0161875,1.1195083333333333,0.7474444444444444,0.993526388888889,0.6847875,0.9303736111111112,1.0400055555555556,0.8666291666666666,0.6386111111111111,1.1686333333333334,0.7717888888888889,1.0488847222222222,1.0068486111111112,0.9222166666666667,0.986326738851911,1.0916150365006245,1.0916150365006245,1.2007348174202916,1.1697402777777777,0.8668597222222222,1.045013888888889,1.3355930555555555,1.2713083333333333,1.2333055555555557,1.2879333333333334,0.913511111111111,1.2569124999999999,1.0489277777777777,1.1192916666666666,1.3881277777777778,1.126798611111111,1.0970083333333334,1.4401986111111111,1.482723611111111,1.1085583333333333,0.6944541666666667,0.7273486111111112,1.8846416666666668,1.3374847222222224,1.199975,0.9411097222222223,1.1589527777777777,1.592525,1.6608608437753478,0.8078416666666666,0.6568777777777778,0.8751930555555556,1.0161986111111112,0.8364041666666667,1.4949305555555554,1.025298611111111,0.9605416666666667,0.8271402777777779,0.8981236111111112,1.7744069444444446,1.2056166666666666,1.2537555555555555,1.1623722222222221,1.2677361111111112,1.4042347222222222,1.3517597222222224,1.231661111111111,1.2755708333333333,1.4049819444444445,1.41555,1.2134597222222223,1.0484361111111111,1.0986333333333334,1.1473277777777777,1.0905555555555557,1.525698611111111,0.6256319444444445,1.4177333333333333,1.095511111111111,1.2473944444444445,0.9938638888888889,1.1782296120348377],\"yaxis\":\"y\",\"type\":\"scattergl\"}],                        {\"template\":{\"data\":{\"histogram2dcontour\":[{\"type\":\"histogram2dcontour\",\"colorbar\":{\"outlinewidth\":0,\"ticks\":\"\"},\"colorscale\":[[0.0,\"#0d0887\"],[0.1111111111111111,\"#46039f\"],[0.2222222222222222,\"#7201a8\"],[0.3333333333333333,\"#9c179e\"],[0.4444444444444444,\"#bd3786\"],[0.5555555555555556,\"#d8576b\"],[0.6666666666666666,\"#ed7953\"],[0.7777777777777778,\"#fb9f3a\"],[0.8888888888888888,\"#fdca26\"],[1.0,\"#f0f921\"]]}],\"choropleth\":[{\"type\":\"choropleth\",\"colorbar\":{\"outlinewidth\":0,\"ticks\":\"\"}}],\"histogram2d\":[{\"type\":\"histogram2d\",\"colorbar\":{\"outlinewidth\":0,\"ticks\":\"\"},\"colorscale\":[[0.0,\"#0d0887\"],[0.1111111111111111,\"#46039f\"],[0.2222222222222222,\"#7201a8\"],[0.3333333333333333,\"#9c179e\"],[0.4444444444444444,\"#bd3786\"],[0.5555555555555556,\"#d8576b\"],[0.6666666666666666,\"#ed7953\"],[0.7777777777777778,\"#fb9f3a\"],[0.8888888888888888,\"#fdca26\"],[1.0,\"#f0f921\"]]}],\"heatmap\":[{\"type\":\"heatmap\",\"colorbar\":{\"outlinewidth\":0,\"ticks\":\"\"},\"colorscale\":[[0.0,\"#0d0887\"],[0.1111111111111111,\"#46039f\"],[0.2222222222222222,\"#7201a8\"],[0.3333333333333333,\"#9c179e\"],[0.4444444444444444,\"#bd3786\"],[0.5555555555555556,\"#d8576b\"],[0.6666666666666666,\"#ed7953\"],[0.7777777777777778,\"#fb9f3a\"],[0.8888888888888888,\"#fdca26\"],[1.0,\"#f0f921\"]]}],\"heatmapgl\":[{\"type\":\"heatmapgl\",\"colorbar\":{\"outlinewidth\":0,\"ticks\":\"\"},\"colorscale\":[[0.0,\"#0d0887\"],[0.1111111111111111,\"#46039f\"],[0.2222222222222222,\"#7201a8\"],[0.3333333333333333,\"#9c179e\"],[0.4444444444444444,\"#bd3786\"],[0.5555555555555556,\"#d8576b\"],[0.6666666666666666,\"#ed7953\"],[0.7777777777777778,\"#fb9f3a\"],[0.8888888888888888,\"#fdca26\"],[1.0,\"#f0f921\"]]}],\"contourcarpet\":[{\"type\":\"contourcarpet\",\"colorbar\":{\"outlinewidth\":0,\"ticks\":\"\"}}],\"contour\":[{\"type\":\"contour\",\"colorbar\":{\"outlinewidth\":0,\"ticks\":\"\"},\"colorscale\":[[0.0,\"#0d0887\"],[0.1111111111111111,\"#46039f\"],[0.2222222222222222,\"#7201a8\"],[0.3333333333333333,\"#9c179e\"],[0.4444444444444444,\"#bd3786\"],[0.5555555555555556,\"#d8576b\"],[0.6666666666666666,\"#ed7953\"],[0.7777777777777778,\"#fb9f3a\"],[0.8888888888888888,\"#fdca26\"],[1.0,\"#f0f921\"]]}],\"surface\":[{\"type\":\"surface\",\"colorbar\":{\"outlinewidth\":0,\"ticks\":\"\"},\"colorscale\":[[0.0,\"#0d0887\"],[0.1111111111111111,\"#46039f\"],[0.2222222222222222,\"#7201a8\"],[0.3333333333333333,\"#9c179e\"],[0.4444444444444444,\"#bd3786\"],[0.5555555555555556,\"#d8576b\"],[0.6666666666666666,\"#ed7953\"],[0.7777777777777778,\"#fb9f3a\"],[0.8888888888888888,\"#fdca26\"],[1.0,\"#f0f921\"]]}],\"mesh3d\":[{\"type\":\"mesh3d\",\"colorbar\":{\"outlinewidth\":0,\"ticks\":\"\"}}],\"scatter\":[{\"fillpattern\":{\"fillmode\":\"overlay\",\"size\":10,\"solidity\":0.2},\"type\":\"scatter\"}],\"parcoords\":[{\"type\":\"parcoords\",\"line\":{\"colorbar\":{\"outlinewidth\":0,\"ticks\":\"\"}}}],\"scatterpolargl\":[{\"type\":\"scatterpolargl\",\"marker\":{\"colorbar\":{\"outlinewidth\":0,\"ticks\":\"\"}}}],\"bar\":[{\"error_x\":{\"color\":\"#2a3f5f\"},\"error_y\":{\"color\":\"#2a3f5f\"},\"marker\":{\"line\":{\"color\":\"#E5ECF6\",\"width\":0.5},\"pattern\":{\"fillmode\":\"overlay\",\"size\":10,\"solidity\":0.2}},\"type\":\"bar\"}],\"scattergeo\":[{\"type\":\"scattergeo\",\"marker\":{\"colorbar\":{\"outlinewidth\":0,\"ticks\":\"\"}}}],\"scatterpolar\":[{\"type\":\"scatterpolar\",\"marker\":{\"colorbar\":{\"outlinewidth\":0,\"ticks\":\"\"}}}],\"histogram\":[{\"marker\":{\"pattern\":{\"fillmode\":\"overlay\",\"size\":10,\"solidity\":0.2}},\"type\":\"histogram\"}],\"scattergl\":[{\"type\":\"scattergl\",\"marker\":{\"colorbar\":{\"outlinewidth\":0,\"ticks\":\"\"}}}],\"scatter3d\":[{\"type\":\"scatter3d\",\"line\":{\"colorbar\":{\"outlinewidth\":0,\"ticks\":\"\"}},\"marker\":{\"colorbar\":{\"outlinewidth\":0,\"ticks\":\"\"}}}],\"scattermapbox\":[{\"type\":\"scattermapbox\",\"marker\":{\"colorbar\":{\"outlinewidth\":0,\"ticks\":\"\"}}}],\"scatterternary\":[{\"type\":\"scatterternary\",\"marker\":{\"colorbar\":{\"outlinewidth\":0,\"ticks\":\"\"}}}],\"scattercarpet\":[{\"type\":\"scattercarpet\",\"marker\":{\"colorbar\":{\"outlinewidth\":0,\"ticks\":\"\"}}}],\"carpet\":[{\"aaxis\":{\"endlinecolor\":\"#2a3f5f\",\"gridcolor\":\"white\",\"linecolor\":\"white\",\"minorgridcolor\":\"white\",\"startlinecolor\":\"#2a3f5f\"},\"baxis\":{\"endlinecolor\":\"#2a3f5f\",\"gridcolor\":\"white\",\"linecolor\":\"white\",\"minorgridcolor\":\"white\",\"startlinecolor\":\"#2a3f5f\"},\"type\":\"carpet\"}],\"table\":[{\"cells\":{\"fill\":{\"color\":\"#EBF0F8\"},\"line\":{\"color\":\"white\"}},\"header\":{\"fill\":{\"color\":\"#C8D4E3\"},\"line\":{\"color\":\"white\"}},\"type\":\"table\"}],\"barpolar\":[{\"marker\":{\"line\":{\"color\":\"#E5ECF6\",\"width\":0.5},\"pattern\":{\"fillmode\":\"overlay\",\"size\":10,\"solidity\":0.2}},\"type\":\"barpolar\"}],\"pie\":[{\"automargin\":true,\"type\":\"pie\"}]},\"layout\":{\"autotypenumbers\":\"strict\",\"colorway\":[\"#636efa\",\"#EF553B\",\"#00cc96\",\"#ab63fa\",\"#FFA15A\",\"#19d3f3\",\"#FF6692\",\"#B6E880\",\"#FF97FF\",\"#FECB52\"],\"font\":{\"color\":\"#2a3f5f\"},\"hovermode\":\"closest\",\"hoverlabel\":{\"align\":\"left\"},\"paper_bgcolor\":\"white\",\"plot_bgcolor\":\"#E5ECF6\",\"polar\":{\"bgcolor\":\"#E5ECF6\",\"angularaxis\":{\"gridcolor\":\"white\",\"linecolor\":\"white\",\"ticks\":\"\"},\"radialaxis\":{\"gridcolor\":\"white\",\"linecolor\":\"white\",\"ticks\":\"\"}},\"ternary\":{\"bgcolor\":\"#E5ECF6\",\"aaxis\":{\"gridcolor\":\"white\",\"linecolor\":\"white\",\"ticks\":\"\"},\"baxis\":{\"gridcolor\":\"white\",\"linecolor\":\"white\",\"ticks\":\"\"},\"caxis\":{\"gridcolor\":\"white\",\"linecolor\":\"white\",\"ticks\":\"\"}},\"coloraxis\":{\"colorbar\":{\"outlinewidth\":0,\"ticks\":\"\"}},\"colorscale\":{\"sequential\":[[0.0,\"#0d0887\"],[0.1111111111111111,\"#46039f\"],[0.2222222222222222,\"#7201a8\"],[0.3333333333333333,\"#9c179e\"],[0.4444444444444444,\"#bd3786\"],[0.5555555555555556,\"#d8576b\"],[0.6666666666666666,\"#ed7953\"],[0.7777777777777778,\"#fb9f3a\"],[0.8888888888888888,\"#fdca26\"],[1.0,\"#f0f921\"]],\"sequentialminus\":[[0.0,\"#0d0887\"],[0.1111111111111111,\"#46039f\"],[0.2222222222222222,\"#7201a8\"],[0.3333333333333333,\"#9c179e\"],[0.4444444444444444,\"#bd3786\"],[0.5555555555555556,\"#d8576b\"],[0.6666666666666666,\"#ed7953\"],[0.7777777777777778,\"#fb9f3a\"],[0.8888888888888888,\"#fdca26\"],[1.0,\"#f0f921\"]],\"diverging\":[[0,\"#8e0152\"],[0.1,\"#c51b7d\"],[0.2,\"#de77ae\"],[0.3,\"#f1b6da\"],[0.4,\"#fde0ef\"],[0.5,\"#f7f7f7\"],[0.6,\"#e6f5d0\"],[0.7,\"#b8e186\"],[0.8,\"#7fbc41\"],[0.9,\"#4d9221\"],[1,\"#276419\"]]},\"xaxis\":{\"gridcolor\":\"white\",\"linecolor\":\"white\",\"ticks\":\"\",\"title\":{\"standoff\":15},\"zerolinecolor\":\"white\",\"automargin\":true,\"zerolinewidth\":2},\"yaxis\":{\"gridcolor\":\"white\",\"linecolor\":\"white\",\"ticks\":\"\",\"title\":{\"standoff\":15},\"zerolinecolor\":\"white\",\"automargin\":true,\"zerolinewidth\":2},\"scene\":{\"xaxis\":{\"backgroundcolor\":\"#E5ECF6\",\"gridcolor\":\"white\",\"linecolor\":\"white\",\"showbackground\":true,\"ticks\":\"\",\"zerolinecolor\":\"white\",\"gridwidth\":2},\"yaxis\":{\"backgroundcolor\":\"#E5ECF6\",\"gridcolor\":\"white\",\"linecolor\":\"white\",\"showbackground\":true,\"ticks\":\"\",\"zerolinecolor\":\"white\",\"gridwidth\":2},\"zaxis\":{\"backgroundcolor\":\"#E5ECF6\",\"gridcolor\":\"white\",\"linecolor\":\"white\",\"showbackground\":true,\"ticks\":\"\",\"zerolinecolor\":\"white\",\"gridwidth\":2}},\"shapedefaults\":{\"line\":{\"color\":\"#2a3f5f\"}},\"annotationdefaults\":{\"arrowcolor\":\"#2a3f5f\",\"arrowhead\":0,\"arrowwidth\":1},\"geo\":{\"bgcolor\":\"white\",\"landcolor\":\"#E5ECF6\",\"subunitcolor\":\"white\",\"showland\":true,\"showlakes\":true,\"lakecolor\":\"white\"},\"title\":{\"x\":0.05},\"mapbox\":{\"style\":\"light\"}}},\"xaxis\":{\"anchor\":\"y\",\"domain\":[0.0,1.0],\"title\":{\"text\":\"Date\"}},\"yaxis\":{\"anchor\":\"x\",\"domain\":[0.0,1.0],\"title\":{\"text\":\"Global Active Power\"}},\"legend\":{\"tracegroupgap\":0},\"title\":{\"text\":\"Global Active Power Over Time (Daily)\",\"x\":0.5},\"font\":{\"color\":\"lightgray\"},\"plot_bgcolor\":\"rgb(35, 35, 35)\",\"paper_bgcolor\":\"rgb(25, 25, 25)\"},                        {\"responsive\": true}                    ).then(function(){\n",
              "                            \n",
              "var gd = document.getElementById('2e78c687-02a9-47e5-9a76-965bb2329230');\n",
              "var x = new MutationObserver(function (mutations, observer) {{\n",
              "        var display = window.getComputedStyle(gd).display;\n",
              "        if (!display || display === 'none') {{\n",
              "            console.log([gd, 'removed!']);\n",
              "            Plotly.purge(gd);\n",
              "            observer.disconnect();\n",
              "        }}\n",
              "}});\n",
              "\n",
              "// Listen for the removal of the full notebook cells\n",
              "var notebookContainer = gd.closest('#notebook-container');\n",
              "if (notebookContainer) {{\n",
              "    x.observe(notebookContainer, {childList: true});\n",
              "}}\n",
              "\n",
              "// Listen for the clearing of the current output cell\n",
              "var outputEl = gd.closest('.output');\n",
              "if (outputEl) {{\n",
              "    x.observe(outputEl, {childList: true});\n",
              "}}\n",
              "\n",
              "                        })                };                            </script>        </div>\n",
              "</body>\n",
              "</html>"
            ]
          },
          "metadata": {}
        },
        {
          "output_type": "display_data",
          "data": {
            "text/html": [
              "<html>\n",
              "<head><meta charset=\"utf-8\" /></head>\n",
              "<body>\n",
              "    <div>            <script src=\"https://cdnjs.cloudflare.com/ajax/libs/mathjax/2.7.5/MathJax.js?config=TeX-AMS-MML_SVG\"></script><script type=\"text/javascript\">if (window.MathJax && window.MathJax.Hub && window.MathJax.Hub.Config) {window.MathJax.Hub.Config({SVG: {font: \"STIX-Web\"}});}</script>                <script type=\"text/javascript\">window.PlotlyConfig = {MathJaxConfig: 'local'};</script>\n",
              "        <script charset=\"utf-8\" src=\"https://cdn.plot.ly/plotly-2.24.1.min.js\"></script>                <div id=\"30d9b8ee-8d7c-44c4-bb77-626b8c34a7b0\" class=\"plotly-graph-div\" style=\"height:525px; width:100%;\"></div>            <script type=\"text/javascript\">                                    window.PLOTLYENV=window.PLOTLYENV || {};                                    if (document.getElementById(\"30d9b8ee-8d7c-44c4-bb77-626b8c34a7b0\")) {                    Plotly.newPlot(                        \"30d9b8ee-8d7c-44c4-bb77-626b8c34a7b0\",                        [{\"hovertemplate\":\"Date_time=%{x}\\u003cbr\\u003eGlobal_reactive_power=%{y}\\u003cextra\\u003e\\u003c\\u002fextra\\u003e\",\"legendgroup\":\"\",\"line\":{\"color\":\"#636efa\",\"dash\":\"solid\"},\"marker\":{\"symbol\":\"circle\"},\"mode\":\"lines\",\"name\":\"\",\"showlegend\":false,\"x\":[\"2006-12-16T00:00:00\",\"2006-12-17T00:00:00\",\"2006-12-18T00:00:00\",\"2006-12-19T00:00:00\",\"2006-12-20T00:00:00\",\"2006-12-21T00:00:00\",\"2006-12-22T00:00:00\",\"2006-12-23T00:00:00\",\"2006-12-24T00:00:00\",\"2006-12-25T00:00:00\",\"2006-12-26T00:00:00\",\"2006-12-27T00:00:00\",\"2006-12-28T00:00:00\",\"2006-12-29T00:00:00\",\"2006-12-30T00:00:00\",\"2006-12-31T00:00:00\",\"2007-01-01T00:00:00\",\"2007-01-02T00:00:00\",\"2007-01-03T00:00:00\",\"2007-01-04T00:00:00\",\"2007-01-05T00:00:00\",\"2007-01-06T00:00:00\",\"2007-01-07T00:00:00\",\"2007-01-08T00:00:00\",\"2007-01-09T00:00:00\",\"2007-01-10T00:00:00\",\"2007-01-11T00:00:00\",\"2007-01-12T00:00:00\",\"2007-01-13T00:00:00\",\"2007-01-14T00:00:00\",\"2007-01-15T00:00:00\",\"2007-01-16T00:00:00\",\"2007-01-17T00:00:00\",\"2007-01-18T00:00:00\",\"2007-01-19T00:00:00\",\"2007-01-20T00:00:00\",\"2007-01-21T00:00:00\",\"2007-01-22T00:00:00\",\"2007-01-23T00:00:00\",\"2007-01-24T00:00:00\",\"2007-01-25T00:00:00\",\"2007-01-26T00:00:00\",\"2007-01-27T00:00:00\",\"2007-01-28T00:00:00\",\"2007-01-29T00:00:00\",\"2007-01-30T00:00:00\",\"2007-01-31T00:00:00\",\"2007-02-01T00:00:00\",\"2007-02-02T00:00:00\",\"2007-02-03T00:00:00\",\"2007-02-04T00:00:00\",\"2007-02-05T00:00:00\",\"2007-02-06T00:00:00\",\"2007-02-07T00:00:00\",\"2007-02-08T00:00:00\",\"2007-02-09T00:00:00\",\"2007-02-10T00:00:00\",\"2007-02-11T00:00:00\",\"2007-02-12T00:00:00\",\"2007-02-13T00:00:00\",\"2007-02-14T00:00:00\",\"2007-02-15T00:00:00\",\"2007-02-16T00:00:00\",\"2007-02-17T00:00:00\",\"2007-02-18T00:00:00\",\"2007-02-19T00:00:00\",\"2007-02-20T00:00:00\",\"2007-02-21T00:00:00\",\"2007-02-22T00:00:00\",\"2007-02-23T00:00:00\",\"2007-02-24T00:00:00\",\"2007-02-25T00:00:00\",\"2007-02-26T00:00:00\",\"2007-02-27T00:00:00\",\"2007-02-28T00:00:00\",\"2007-03-01T00:00:00\",\"2007-03-02T00:00:00\",\"2007-03-03T00:00:00\",\"2007-03-04T00:00:00\",\"2007-03-05T00:00:00\",\"2007-03-06T00:00:00\",\"2007-03-07T00:00:00\",\"2007-03-08T00:00:00\",\"2007-03-09T00:00:00\",\"2007-03-10T00:00:00\",\"2007-03-11T00:00:00\",\"2007-03-12T00:00:00\",\"2007-03-13T00:00:00\",\"2007-03-14T00:00:00\",\"2007-03-15T00:00:00\",\"2007-03-16T00:00:00\",\"2007-03-17T00:00:00\",\"2007-03-18T00:00:00\",\"2007-03-19T00:00:00\",\"2007-03-20T00:00:00\",\"2007-03-21T00:00:00\",\"2007-03-22T00:00:00\",\"2007-03-23T00:00:00\",\"2007-03-24T00:00:00\",\"2007-03-25T00:00:00\",\"2007-03-26T00:00:00\",\"2007-03-27T00:00:00\",\"2007-03-28T00:00:00\",\"2007-03-29T00:00:00\",\"2007-03-30T00:00:00\",\"2007-03-31T00:00:00\",\"2007-04-01T00:00:00\",\"2007-04-02T00:00:00\",\"2007-04-03T00:00:00\",\"2007-04-04T00:00:00\",\"2007-04-05T00:00:00\",\"2007-04-06T00:00:00\",\"2007-04-07T00:00:00\",\"2007-04-08T00:00:00\",\"2007-04-09T00:00:00\",\"2007-04-10T00:00:00\",\"2007-04-11T00:00:00\",\"2007-04-12T00:00:00\",\"2007-04-13T00:00:00\",\"2007-04-14T00:00:00\",\"2007-04-15T00:00:00\",\"2007-04-16T00:00:00\",\"2007-04-17T00:00:00\",\"2007-04-18T00:00:00\",\"2007-04-19T00:00:00\",\"2007-04-20T00:00:00\",\"2007-04-21T00:00:00\",\"2007-04-22T00:00:00\",\"2007-04-23T00:00:00\",\"2007-04-24T00:00:00\",\"2007-04-25T00:00:00\",\"2007-04-26T00:00:00\",\"2007-04-27T00:00:00\",\"2007-04-28T00:00:00\",\"2007-04-29T00:00:00\",\"2007-04-30T00:00:00\",\"2007-05-01T00:00:00\",\"2007-05-02T00:00:00\",\"2007-05-03T00:00:00\",\"2007-05-04T00:00:00\",\"2007-05-05T00:00:00\",\"2007-05-06T00:00:00\",\"2007-05-07T00:00:00\",\"2007-05-08T00:00:00\",\"2007-05-09T00:00:00\",\"2007-05-10T00:00:00\",\"2007-05-11T00:00:00\",\"2007-05-12T00:00:00\",\"2007-05-13T00:00:00\",\"2007-05-14T00:00:00\",\"2007-05-15T00:00:00\",\"2007-05-16T00:00:00\",\"2007-05-17T00:00:00\",\"2007-05-18T00:00:00\",\"2007-05-19T00:00:00\",\"2007-05-20T00:00:00\",\"2007-05-21T00:00:00\",\"2007-05-22T00:00:00\",\"2007-05-23T00:00:00\",\"2007-05-24T00:00:00\",\"2007-05-25T00:00:00\",\"2007-05-26T00:00:00\",\"2007-05-27T00:00:00\",\"2007-05-28T00:00:00\",\"2007-05-29T00:00:00\",\"2007-05-30T00:00:00\",\"2007-05-31T00:00:00\",\"2007-06-01T00:00:00\",\"2007-06-02T00:00:00\",\"2007-06-03T00:00:00\",\"2007-06-04T00:00:00\",\"2007-06-05T00:00:00\",\"2007-06-06T00:00:00\",\"2007-06-07T00:00:00\",\"2007-06-08T00:00:00\",\"2007-06-09T00:00:00\",\"2007-06-10T00:00:00\",\"2007-06-11T00:00:00\",\"2007-06-12T00:00:00\",\"2007-06-13T00:00:00\",\"2007-06-14T00:00:00\",\"2007-06-15T00:00:00\",\"2007-06-16T00:00:00\",\"2007-06-17T00:00:00\",\"2007-06-18T00:00:00\",\"2007-06-19T00:00:00\",\"2007-06-20T00:00:00\",\"2007-06-21T00:00:00\",\"2007-06-22T00:00:00\",\"2007-06-23T00:00:00\",\"2007-06-24T00:00:00\",\"2007-06-25T00:00:00\",\"2007-06-26T00:00:00\",\"2007-06-27T00:00:00\",\"2007-06-28T00:00:00\",\"2007-06-29T00:00:00\",\"2007-06-30T00:00:00\",\"2007-07-01T00:00:00\",\"2007-07-02T00:00:00\",\"2007-07-03T00:00:00\",\"2007-07-04T00:00:00\",\"2007-07-05T00:00:00\",\"2007-07-06T00:00:00\",\"2007-07-07T00:00:00\",\"2007-07-08T00:00:00\",\"2007-07-09T00:00:00\",\"2007-07-10T00:00:00\",\"2007-07-11T00:00:00\",\"2007-07-12T00:00:00\",\"2007-07-13T00:00:00\",\"2007-07-14T00:00:00\",\"2007-07-15T00:00:00\",\"2007-07-16T00:00:00\",\"2007-07-17T00:00:00\",\"2007-07-18T00:00:00\",\"2007-07-19T00:00:00\",\"2007-07-20T00:00:00\",\"2007-07-21T00:00:00\",\"2007-07-22T00:00:00\",\"2007-07-23T00:00:00\",\"2007-07-24T00:00:00\",\"2007-07-25T00:00:00\",\"2007-07-26T00:00:00\",\"2007-07-27T00:00:00\",\"2007-07-28T00:00:00\",\"2007-07-29T00:00:00\",\"2007-07-30T00:00:00\",\"2007-07-31T00:00:00\",\"2007-08-01T00:00:00\",\"2007-08-02T00:00:00\",\"2007-08-03T00:00:00\",\"2007-08-04T00:00:00\",\"2007-08-05T00:00:00\",\"2007-08-06T00:00:00\",\"2007-08-07T00:00:00\",\"2007-08-08T00:00:00\",\"2007-08-09T00:00:00\",\"2007-08-10T00:00:00\",\"2007-08-11T00:00:00\",\"2007-08-12T00:00:00\",\"2007-08-13T00:00:00\",\"2007-08-14T00:00:00\",\"2007-08-15T00:00:00\",\"2007-08-16T00:00:00\",\"2007-08-17T00:00:00\",\"2007-08-18T00:00:00\",\"2007-08-19T00:00:00\",\"2007-08-20T00:00:00\",\"2007-08-21T00:00:00\",\"2007-08-22T00:00:00\",\"2007-08-23T00:00:00\",\"2007-08-24T00:00:00\",\"2007-08-25T00:00:00\",\"2007-08-26T00:00:00\",\"2007-08-27T00:00:00\",\"2007-08-28T00:00:00\",\"2007-08-29T00:00:00\",\"2007-08-30T00:00:00\",\"2007-08-31T00:00:00\",\"2007-09-01T00:00:00\",\"2007-09-02T00:00:00\",\"2007-09-03T00:00:00\",\"2007-09-04T00:00:00\",\"2007-09-05T00:00:00\",\"2007-09-06T00:00:00\",\"2007-09-07T00:00:00\",\"2007-09-08T00:00:00\",\"2007-09-09T00:00:00\",\"2007-09-10T00:00:00\",\"2007-09-11T00:00:00\",\"2007-09-12T00:00:00\",\"2007-09-13T00:00:00\",\"2007-09-14T00:00:00\",\"2007-09-15T00:00:00\",\"2007-09-16T00:00:00\",\"2007-09-17T00:00:00\",\"2007-09-18T00:00:00\",\"2007-09-19T00:00:00\",\"2007-09-20T00:00:00\",\"2007-09-21T00:00:00\",\"2007-09-22T00:00:00\",\"2007-09-23T00:00:00\",\"2007-09-24T00:00:00\",\"2007-09-25T00:00:00\",\"2007-09-26T00:00:00\",\"2007-09-27T00:00:00\",\"2007-09-28T00:00:00\",\"2007-09-29T00:00:00\",\"2007-09-30T00:00:00\",\"2007-10-01T00:00:00\",\"2007-10-02T00:00:00\",\"2007-10-03T00:00:00\",\"2007-10-04T00:00:00\",\"2007-10-05T00:00:00\",\"2007-10-06T00:00:00\",\"2007-10-07T00:00:00\",\"2007-10-08T00:00:00\",\"2007-10-09T00:00:00\",\"2007-10-10T00:00:00\",\"2007-10-11T00:00:00\",\"2007-10-12T00:00:00\",\"2007-10-13T00:00:00\",\"2007-10-14T00:00:00\",\"2007-10-15T00:00:00\",\"2007-10-16T00:00:00\",\"2007-10-17T00:00:00\",\"2007-10-18T00:00:00\",\"2007-10-19T00:00:00\",\"2007-10-20T00:00:00\",\"2007-10-21T00:00:00\",\"2007-10-22T00:00:00\",\"2007-10-23T00:00:00\",\"2007-10-24T00:00:00\",\"2007-10-25T00:00:00\",\"2007-10-26T00:00:00\",\"2007-10-27T00:00:00\",\"2007-10-28T00:00:00\",\"2007-10-29T00:00:00\",\"2007-10-30T00:00:00\",\"2007-10-31T00:00:00\",\"2007-11-01T00:00:00\",\"2007-11-02T00:00:00\",\"2007-11-03T00:00:00\",\"2007-11-04T00:00:00\",\"2007-11-05T00:00:00\",\"2007-11-06T00:00:00\",\"2007-11-07T00:00:00\",\"2007-11-08T00:00:00\",\"2007-11-09T00:00:00\",\"2007-11-10T00:00:00\",\"2007-11-11T00:00:00\",\"2007-11-12T00:00:00\",\"2007-11-13T00:00:00\",\"2007-11-14T00:00:00\",\"2007-11-15T00:00:00\",\"2007-11-16T00:00:00\",\"2007-11-17T00:00:00\",\"2007-11-18T00:00:00\",\"2007-11-19T00:00:00\",\"2007-11-20T00:00:00\",\"2007-11-21T00:00:00\",\"2007-11-22T00:00:00\",\"2007-11-23T00:00:00\",\"2007-11-24T00:00:00\",\"2007-11-25T00:00:00\",\"2007-11-26T00:00:00\",\"2007-11-27T00:00:00\",\"2007-11-28T00:00:00\",\"2007-11-29T00:00:00\",\"2007-11-30T00:00:00\",\"2007-12-01T00:00:00\",\"2007-12-02T00:00:00\",\"2007-12-03T00:00:00\",\"2007-12-04T00:00:00\",\"2007-12-05T00:00:00\",\"2007-12-06T00:00:00\",\"2007-12-07T00:00:00\",\"2007-12-08T00:00:00\",\"2007-12-09T00:00:00\",\"2007-12-10T00:00:00\",\"2007-12-11T00:00:00\",\"2007-12-12T00:00:00\",\"2007-12-13T00:00:00\",\"2007-12-14T00:00:00\",\"2007-12-15T00:00:00\",\"2007-12-16T00:00:00\",\"2007-12-17T00:00:00\",\"2007-12-18T00:00:00\",\"2007-12-19T00:00:00\",\"2007-12-20T00:00:00\",\"2007-12-21T00:00:00\",\"2007-12-22T00:00:00\",\"2007-12-23T00:00:00\",\"2007-12-24T00:00:00\",\"2007-12-25T00:00:00\",\"2007-12-26T00:00:00\",\"2007-12-27T00:00:00\",\"2007-12-28T00:00:00\",\"2007-12-29T00:00:00\",\"2007-12-30T00:00:00\",\"2007-12-31T00:00:00\",\"2008-01-01T00:00:00\",\"2008-01-02T00:00:00\",\"2008-01-03T00:00:00\",\"2008-01-04T00:00:00\",\"2008-01-05T00:00:00\",\"2008-01-06T00:00:00\",\"2008-01-07T00:00:00\",\"2008-01-08T00:00:00\",\"2008-01-09T00:00:00\",\"2008-01-10T00:00:00\",\"2008-01-11T00:00:00\",\"2008-01-12T00:00:00\",\"2008-01-13T00:00:00\",\"2008-01-14T00:00:00\",\"2008-01-15T00:00:00\",\"2008-01-16T00:00:00\",\"2008-01-17T00:00:00\",\"2008-01-18T00:00:00\",\"2008-01-19T00:00:00\",\"2008-01-20T00:00:00\",\"2008-01-21T00:00:00\",\"2008-01-22T00:00:00\",\"2008-01-23T00:00:00\",\"2008-01-24T00:00:00\",\"2008-01-25T00:00:00\",\"2008-01-26T00:00:00\",\"2008-01-27T00:00:00\",\"2008-01-28T00:00:00\",\"2008-01-29T00:00:00\",\"2008-01-30T00:00:00\",\"2008-01-31T00:00:00\",\"2008-02-01T00:00:00\",\"2008-02-02T00:00:00\",\"2008-02-03T00:00:00\",\"2008-02-04T00:00:00\",\"2008-02-05T00:00:00\",\"2008-02-06T00:00:00\",\"2008-02-07T00:00:00\",\"2008-02-08T00:00:00\",\"2008-02-09T00:00:00\",\"2008-02-10T00:00:00\",\"2008-02-11T00:00:00\",\"2008-02-12T00:00:00\",\"2008-02-13T00:00:00\",\"2008-02-14T00:00:00\",\"2008-02-15T00:00:00\",\"2008-02-16T00:00:00\",\"2008-02-17T00:00:00\",\"2008-02-18T00:00:00\",\"2008-02-19T00:00:00\",\"2008-02-20T00:00:00\",\"2008-02-21T00:00:00\",\"2008-02-22T00:00:00\",\"2008-02-23T00:00:00\",\"2008-02-24T00:00:00\",\"2008-02-25T00:00:00\",\"2008-02-26T00:00:00\",\"2008-02-27T00:00:00\",\"2008-02-28T00:00:00\",\"2008-02-29T00:00:00\",\"2008-03-01T00:00:00\",\"2008-03-02T00:00:00\",\"2008-03-03T00:00:00\",\"2008-03-04T00:00:00\",\"2008-03-05T00:00:00\",\"2008-03-06T00:00:00\",\"2008-03-07T00:00:00\",\"2008-03-08T00:00:00\",\"2008-03-09T00:00:00\",\"2008-03-10T00:00:00\",\"2008-03-11T00:00:00\",\"2008-03-12T00:00:00\",\"2008-03-13T00:00:00\",\"2008-03-14T00:00:00\",\"2008-03-15T00:00:00\",\"2008-03-16T00:00:00\",\"2008-03-17T00:00:00\",\"2008-03-18T00:00:00\",\"2008-03-19T00:00:00\",\"2008-03-20T00:00:00\",\"2008-03-21T00:00:00\",\"2008-03-22T00:00:00\",\"2008-03-23T00:00:00\",\"2008-03-24T00:00:00\",\"2008-03-25T00:00:00\",\"2008-03-26T00:00:00\",\"2008-03-27T00:00:00\",\"2008-03-28T00:00:00\",\"2008-03-29T00:00:00\",\"2008-03-30T00:00:00\",\"2008-03-31T00:00:00\",\"2008-04-01T00:00:00\",\"2008-04-02T00:00:00\",\"2008-04-03T00:00:00\",\"2008-04-04T00:00:00\",\"2008-04-05T00:00:00\",\"2008-04-06T00:00:00\",\"2008-04-07T00:00:00\",\"2008-04-08T00:00:00\",\"2008-04-09T00:00:00\",\"2008-04-10T00:00:00\",\"2008-04-11T00:00:00\",\"2008-04-12T00:00:00\",\"2008-04-13T00:00:00\",\"2008-04-14T00:00:00\",\"2008-04-15T00:00:00\",\"2008-04-16T00:00:00\",\"2008-04-17T00:00:00\",\"2008-04-18T00:00:00\",\"2008-04-19T00:00:00\",\"2008-04-20T00:00:00\",\"2008-04-21T00:00:00\",\"2008-04-22T00:00:00\",\"2008-04-23T00:00:00\",\"2008-04-24T00:00:00\",\"2008-04-25T00:00:00\",\"2008-04-26T00:00:00\",\"2008-04-27T00:00:00\",\"2008-04-28T00:00:00\",\"2008-04-29T00:00:00\",\"2008-04-30T00:00:00\",\"2008-05-01T00:00:00\",\"2008-05-02T00:00:00\",\"2008-05-03T00:00:00\",\"2008-05-04T00:00:00\",\"2008-05-05T00:00:00\",\"2008-05-06T00:00:00\",\"2008-05-07T00:00:00\",\"2008-05-08T00:00:00\",\"2008-05-09T00:00:00\",\"2008-05-10T00:00:00\",\"2008-05-11T00:00:00\",\"2008-05-12T00:00:00\",\"2008-05-13T00:00:00\",\"2008-05-14T00:00:00\",\"2008-05-15T00:00:00\",\"2008-05-16T00:00:00\",\"2008-05-17T00:00:00\",\"2008-05-18T00:00:00\",\"2008-05-19T00:00:00\",\"2008-05-20T00:00:00\",\"2008-05-21T00:00:00\",\"2008-05-22T00:00:00\",\"2008-05-23T00:00:00\",\"2008-05-24T00:00:00\",\"2008-05-25T00:00:00\",\"2008-05-26T00:00:00\",\"2008-05-27T00:00:00\",\"2008-05-28T00:00:00\",\"2008-05-29T00:00:00\",\"2008-05-30T00:00:00\",\"2008-05-31T00:00:00\",\"2008-06-01T00:00:00\",\"2008-06-02T00:00:00\",\"2008-06-03T00:00:00\",\"2008-06-04T00:00:00\",\"2008-06-05T00:00:00\",\"2008-06-06T00:00:00\",\"2008-06-07T00:00:00\",\"2008-06-08T00:00:00\",\"2008-06-09T00:00:00\",\"2008-06-10T00:00:00\",\"2008-06-11T00:00:00\",\"2008-06-12T00:00:00\",\"2008-06-13T00:00:00\",\"2008-06-14T00:00:00\",\"2008-06-15T00:00:00\",\"2008-06-16T00:00:00\",\"2008-06-17T00:00:00\",\"2008-06-18T00:00:00\",\"2008-06-19T00:00:00\",\"2008-06-20T00:00:00\",\"2008-06-21T00:00:00\",\"2008-06-22T00:00:00\",\"2008-06-23T00:00:00\",\"2008-06-24T00:00:00\",\"2008-06-25T00:00:00\",\"2008-06-26T00:00:00\",\"2008-06-27T00:00:00\",\"2008-06-28T00:00:00\",\"2008-06-29T00:00:00\",\"2008-06-30T00:00:00\",\"2008-07-01T00:00:00\",\"2008-07-02T00:00:00\",\"2008-07-03T00:00:00\",\"2008-07-04T00:00:00\",\"2008-07-05T00:00:00\",\"2008-07-06T00:00:00\",\"2008-07-07T00:00:00\",\"2008-07-08T00:00:00\",\"2008-07-09T00:00:00\",\"2008-07-10T00:00:00\",\"2008-07-11T00:00:00\",\"2008-07-12T00:00:00\",\"2008-07-13T00:00:00\",\"2008-07-14T00:00:00\",\"2008-07-15T00:00:00\",\"2008-07-16T00:00:00\",\"2008-07-17T00:00:00\",\"2008-07-18T00:00:00\",\"2008-07-19T00:00:00\",\"2008-07-20T00:00:00\",\"2008-07-21T00:00:00\",\"2008-07-22T00:00:00\",\"2008-07-23T00:00:00\",\"2008-07-24T00:00:00\",\"2008-07-25T00:00:00\",\"2008-07-26T00:00:00\",\"2008-07-27T00:00:00\",\"2008-07-28T00:00:00\",\"2008-07-29T00:00:00\",\"2008-07-30T00:00:00\",\"2008-07-31T00:00:00\",\"2008-08-01T00:00:00\",\"2008-08-02T00:00:00\",\"2008-08-03T00:00:00\",\"2008-08-04T00:00:00\",\"2008-08-05T00:00:00\",\"2008-08-06T00:00:00\",\"2008-08-07T00:00:00\",\"2008-08-08T00:00:00\",\"2008-08-09T00:00:00\",\"2008-08-10T00:00:00\",\"2008-08-11T00:00:00\",\"2008-08-12T00:00:00\",\"2008-08-13T00:00:00\",\"2008-08-14T00:00:00\",\"2008-08-15T00:00:00\",\"2008-08-16T00:00:00\",\"2008-08-17T00:00:00\",\"2008-08-18T00:00:00\",\"2008-08-19T00:00:00\",\"2008-08-20T00:00:00\",\"2008-08-21T00:00:00\",\"2008-08-22T00:00:00\",\"2008-08-23T00:00:00\",\"2008-08-24T00:00:00\",\"2008-08-25T00:00:00\",\"2008-08-26T00:00:00\",\"2008-08-27T00:00:00\",\"2008-08-28T00:00:00\",\"2008-08-29T00:00:00\",\"2008-08-30T00:00:00\",\"2008-08-31T00:00:00\",\"2008-09-01T00:00:00\",\"2008-09-02T00:00:00\",\"2008-09-03T00:00:00\",\"2008-09-04T00:00:00\",\"2008-09-05T00:00:00\",\"2008-09-06T00:00:00\",\"2008-09-07T00:00:00\",\"2008-09-08T00:00:00\",\"2008-09-09T00:00:00\",\"2008-09-10T00:00:00\",\"2008-09-11T00:00:00\",\"2008-09-12T00:00:00\",\"2008-09-13T00:00:00\",\"2008-09-14T00:00:00\",\"2008-09-15T00:00:00\",\"2008-09-16T00:00:00\",\"2008-09-17T00:00:00\",\"2008-09-18T00:00:00\",\"2008-09-19T00:00:00\",\"2008-09-20T00:00:00\",\"2008-09-21T00:00:00\",\"2008-09-22T00:00:00\",\"2008-09-23T00:00:00\",\"2008-09-24T00:00:00\",\"2008-09-25T00:00:00\",\"2008-09-26T00:00:00\",\"2008-09-27T00:00:00\",\"2008-09-28T00:00:00\",\"2008-09-29T00:00:00\",\"2008-09-30T00:00:00\",\"2008-10-01T00:00:00\",\"2008-10-02T00:00:00\",\"2008-10-03T00:00:00\",\"2008-10-04T00:00:00\",\"2008-10-05T00:00:00\",\"2008-10-06T00:00:00\",\"2008-10-07T00:00:00\",\"2008-10-08T00:00:00\",\"2008-10-09T00:00:00\",\"2008-10-10T00:00:00\",\"2008-10-11T00:00:00\",\"2008-10-12T00:00:00\",\"2008-10-13T00:00:00\",\"2008-10-14T00:00:00\",\"2008-10-15T00:00:00\",\"2008-10-16T00:00:00\",\"2008-10-17T00:00:00\",\"2008-10-18T00:00:00\",\"2008-10-19T00:00:00\",\"2008-10-20T00:00:00\",\"2008-10-21T00:00:00\",\"2008-10-22T00:00:00\",\"2008-10-23T00:00:00\",\"2008-10-24T00:00:00\",\"2008-10-25T00:00:00\",\"2008-10-26T00:00:00\",\"2008-10-27T00:00:00\",\"2008-10-28T00:00:00\",\"2008-10-29T00:00:00\",\"2008-10-30T00:00:00\",\"2008-10-31T00:00:00\",\"2008-11-01T00:00:00\",\"2008-11-02T00:00:00\",\"2008-11-03T00:00:00\",\"2008-11-04T00:00:00\",\"2008-11-05T00:00:00\",\"2008-11-06T00:00:00\",\"2008-11-07T00:00:00\",\"2008-11-08T00:00:00\",\"2008-11-09T00:00:00\",\"2008-11-10T00:00:00\",\"2008-11-11T00:00:00\",\"2008-11-12T00:00:00\",\"2008-11-13T00:00:00\",\"2008-11-14T00:00:00\",\"2008-11-15T00:00:00\",\"2008-11-16T00:00:00\",\"2008-11-17T00:00:00\",\"2008-11-18T00:00:00\",\"2008-11-19T00:00:00\",\"2008-11-20T00:00:00\",\"2008-11-21T00:00:00\",\"2008-11-22T00:00:00\",\"2008-11-23T00:00:00\",\"2008-11-24T00:00:00\",\"2008-11-25T00:00:00\",\"2008-11-26T00:00:00\",\"2008-11-27T00:00:00\",\"2008-11-28T00:00:00\",\"2008-11-29T00:00:00\",\"2008-11-30T00:00:00\",\"2008-12-01T00:00:00\",\"2008-12-02T00:00:00\",\"2008-12-03T00:00:00\",\"2008-12-04T00:00:00\",\"2008-12-05T00:00:00\",\"2008-12-06T00:00:00\",\"2008-12-07T00:00:00\",\"2008-12-08T00:00:00\",\"2008-12-09T00:00:00\",\"2008-12-10T00:00:00\",\"2008-12-11T00:00:00\",\"2008-12-12T00:00:00\",\"2008-12-13T00:00:00\",\"2008-12-14T00:00:00\",\"2008-12-15T00:00:00\",\"2008-12-16T00:00:00\",\"2008-12-17T00:00:00\",\"2008-12-18T00:00:00\",\"2008-12-19T00:00:00\",\"2008-12-20T00:00:00\",\"2008-12-21T00:00:00\",\"2008-12-22T00:00:00\",\"2008-12-23T00:00:00\",\"2008-12-24T00:00:00\",\"2008-12-25T00:00:00\",\"2008-12-26T00:00:00\",\"2008-12-27T00:00:00\",\"2008-12-28T00:00:00\",\"2008-12-29T00:00:00\",\"2008-12-30T00:00:00\",\"2008-12-31T00:00:00\",\"2009-01-01T00:00:00\",\"2009-01-02T00:00:00\",\"2009-01-03T00:00:00\",\"2009-01-04T00:00:00\",\"2009-01-05T00:00:00\",\"2009-01-06T00:00:00\",\"2009-01-07T00:00:00\",\"2009-01-08T00:00:00\",\"2009-01-09T00:00:00\",\"2009-01-10T00:00:00\",\"2009-01-11T00:00:00\",\"2009-01-12T00:00:00\",\"2009-01-13T00:00:00\",\"2009-01-14T00:00:00\",\"2009-01-15T00:00:00\",\"2009-01-16T00:00:00\",\"2009-01-17T00:00:00\",\"2009-01-18T00:00:00\",\"2009-01-19T00:00:00\",\"2009-01-20T00:00:00\",\"2009-01-21T00:00:00\",\"2009-01-22T00:00:00\",\"2009-01-23T00:00:00\",\"2009-01-24T00:00:00\",\"2009-01-25T00:00:00\",\"2009-01-26T00:00:00\",\"2009-01-27T00:00:00\",\"2009-01-28T00:00:00\",\"2009-01-29T00:00:00\",\"2009-01-30T00:00:00\",\"2009-01-31T00:00:00\",\"2009-02-01T00:00:00\",\"2009-02-02T00:00:00\",\"2009-02-03T00:00:00\",\"2009-02-04T00:00:00\",\"2009-02-05T00:00:00\",\"2009-02-06T00:00:00\",\"2009-02-07T00:00:00\",\"2009-02-08T00:00:00\",\"2009-02-09T00:00:00\",\"2009-02-10T00:00:00\",\"2009-02-11T00:00:00\",\"2009-02-12T00:00:00\",\"2009-02-13T00:00:00\",\"2009-02-14T00:00:00\",\"2009-02-15T00:00:00\",\"2009-02-16T00:00:00\",\"2009-02-17T00:00:00\",\"2009-02-18T00:00:00\",\"2009-02-19T00:00:00\",\"2009-02-20T00:00:00\",\"2009-02-21T00:00:00\",\"2009-02-22T00:00:00\",\"2009-02-23T00:00:00\",\"2009-02-24T00:00:00\",\"2009-02-25T00:00:00\",\"2009-02-26T00:00:00\",\"2009-02-27T00:00:00\",\"2009-02-28T00:00:00\",\"2009-03-01T00:00:00\",\"2009-03-02T00:00:00\",\"2009-03-03T00:00:00\",\"2009-03-04T00:00:00\",\"2009-03-05T00:00:00\",\"2009-03-06T00:00:00\",\"2009-03-07T00:00:00\",\"2009-03-08T00:00:00\",\"2009-03-09T00:00:00\",\"2009-03-10T00:00:00\",\"2009-03-11T00:00:00\",\"2009-03-12T00:00:00\",\"2009-03-13T00:00:00\",\"2009-03-14T00:00:00\",\"2009-03-15T00:00:00\",\"2009-03-16T00:00:00\",\"2009-03-17T00:00:00\",\"2009-03-18T00:00:00\",\"2009-03-19T00:00:00\",\"2009-03-20T00:00:00\",\"2009-03-21T00:00:00\",\"2009-03-22T00:00:00\",\"2009-03-23T00:00:00\",\"2009-03-24T00:00:00\",\"2009-03-25T00:00:00\",\"2009-03-26T00:00:00\",\"2009-03-27T00:00:00\",\"2009-03-28T00:00:00\",\"2009-03-29T00:00:00\",\"2009-03-30T00:00:00\",\"2009-03-31T00:00:00\",\"2009-04-01T00:00:00\",\"2009-04-02T00:00:00\",\"2009-04-03T00:00:00\",\"2009-04-04T00:00:00\",\"2009-04-05T00:00:00\",\"2009-04-06T00:00:00\",\"2009-04-07T00:00:00\",\"2009-04-08T00:00:00\",\"2009-04-09T00:00:00\",\"2009-04-10T00:00:00\",\"2009-04-11T00:00:00\",\"2009-04-12T00:00:00\",\"2009-04-13T00:00:00\",\"2009-04-14T00:00:00\",\"2009-04-15T00:00:00\",\"2009-04-16T00:00:00\",\"2009-04-17T00:00:00\",\"2009-04-18T00:00:00\",\"2009-04-19T00:00:00\",\"2009-04-20T00:00:00\",\"2009-04-21T00:00:00\",\"2009-04-22T00:00:00\",\"2009-04-23T00:00:00\",\"2009-04-24T00:00:00\",\"2009-04-25T00:00:00\",\"2009-04-26T00:00:00\",\"2009-04-27T00:00:00\",\"2009-04-28T00:00:00\",\"2009-04-29T00:00:00\",\"2009-04-30T00:00:00\",\"2009-05-01T00:00:00\",\"2009-05-02T00:00:00\",\"2009-05-03T00:00:00\",\"2009-05-04T00:00:00\",\"2009-05-05T00:00:00\",\"2009-05-06T00:00:00\",\"2009-05-07T00:00:00\",\"2009-05-08T00:00:00\",\"2009-05-09T00:00:00\",\"2009-05-10T00:00:00\",\"2009-05-11T00:00:00\",\"2009-05-12T00:00:00\",\"2009-05-13T00:00:00\",\"2009-05-14T00:00:00\",\"2009-05-15T00:00:00\",\"2009-05-16T00:00:00\",\"2009-05-17T00:00:00\",\"2009-05-18T00:00:00\",\"2009-05-19T00:00:00\",\"2009-05-20T00:00:00\",\"2009-05-21T00:00:00\",\"2009-05-22T00:00:00\",\"2009-05-23T00:00:00\",\"2009-05-24T00:00:00\",\"2009-05-25T00:00:00\",\"2009-05-26T00:00:00\",\"2009-05-27T00:00:00\",\"2009-05-28T00:00:00\",\"2009-05-29T00:00:00\",\"2009-05-30T00:00:00\",\"2009-05-31T00:00:00\",\"2009-06-01T00:00:00\",\"2009-06-02T00:00:00\",\"2009-06-03T00:00:00\",\"2009-06-04T00:00:00\",\"2009-06-05T00:00:00\",\"2009-06-06T00:00:00\",\"2009-06-07T00:00:00\",\"2009-06-08T00:00:00\",\"2009-06-09T00:00:00\",\"2009-06-10T00:00:00\",\"2009-06-11T00:00:00\",\"2009-06-12T00:00:00\",\"2009-06-13T00:00:00\",\"2009-06-14T00:00:00\",\"2009-06-15T00:00:00\",\"2009-06-16T00:00:00\",\"2009-06-17T00:00:00\",\"2009-06-18T00:00:00\",\"2009-06-19T00:00:00\",\"2009-06-20T00:00:00\",\"2009-06-21T00:00:00\",\"2009-06-22T00:00:00\",\"2009-06-23T00:00:00\",\"2009-06-24T00:00:00\",\"2009-06-25T00:00:00\",\"2009-06-26T00:00:00\",\"2009-06-27T00:00:00\",\"2009-06-28T00:00:00\",\"2009-06-29T00:00:00\",\"2009-06-30T00:00:00\",\"2009-07-01T00:00:00\",\"2009-07-02T00:00:00\",\"2009-07-03T00:00:00\",\"2009-07-04T00:00:00\",\"2009-07-05T00:00:00\",\"2009-07-06T00:00:00\",\"2009-07-07T00:00:00\",\"2009-07-08T00:00:00\",\"2009-07-09T00:00:00\",\"2009-07-10T00:00:00\",\"2009-07-11T00:00:00\",\"2009-07-12T00:00:00\",\"2009-07-13T00:00:00\",\"2009-07-14T00:00:00\",\"2009-07-15T00:00:00\",\"2009-07-16T00:00:00\",\"2009-07-17T00:00:00\",\"2009-07-18T00:00:00\",\"2009-07-19T00:00:00\",\"2009-07-20T00:00:00\",\"2009-07-21T00:00:00\",\"2009-07-22T00:00:00\",\"2009-07-23T00:00:00\",\"2009-07-24T00:00:00\",\"2009-07-25T00:00:00\",\"2009-07-26T00:00:00\",\"2009-07-27T00:00:00\",\"2009-07-28T00:00:00\",\"2009-07-29T00:00:00\",\"2009-07-30T00:00:00\",\"2009-07-31T00:00:00\",\"2009-08-01T00:00:00\",\"2009-08-02T00:00:00\",\"2009-08-03T00:00:00\",\"2009-08-04T00:00:00\",\"2009-08-05T00:00:00\",\"2009-08-06T00:00:00\",\"2009-08-07T00:00:00\",\"2009-08-08T00:00:00\",\"2009-08-09T00:00:00\",\"2009-08-10T00:00:00\",\"2009-08-11T00:00:00\",\"2009-08-12T00:00:00\",\"2009-08-13T00:00:00\",\"2009-08-14T00:00:00\",\"2009-08-15T00:00:00\",\"2009-08-16T00:00:00\",\"2009-08-17T00:00:00\",\"2009-08-18T00:00:00\",\"2009-08-19T00:00:00\",\"2009-08-20T00:00:00\",\"2009-08-21T00:00:00\",\"2009-08-22T00:00:00\",\"2009-08-23T00:00:00\",\"2009-08-24T00:00:00\",\"2009-08-25T00:00:00\",\"2009-08-26T00:00:00\",\"2009-08-27T00:00:00\",\"2009-08-28T00:00:00\",\"2009-08-29T00:00:00\",\"2009-08-30T00:00:00\",\"2009-08-31T00:00:00\",\"2009-09-01T00:00:00\",\"2009-09-02T00:00:00\",\"2009-09-03T00:00:00\",\"2009-09-04T00:00:00\",\"2009-09-05T00:00:00\",\"2009-09-06T00:00:00\",\"2009-09-07T00:00:00\",\"2009-09-08T00:00:00\",\"2009-09-09T00:00:00\",\"2009-09-10T00:00:00\",\"2009-09-11T00:00:00\",\"2009-09-12T00:00:00\",\"2009-09-13T00:00:00\",\"2009-09-14T00:00:00\",\"2009-09-15T00:00:00\",\"2009-09-16T00:00:00\",\"2009-09-17T00:00:00\",\"2009-09-18T00:00:00\",\"2009-09-19T00:00:00\",\"2009-09-20T00:00:00\",\"2009-09-21T00:00:00\",\"2009-09-22T00:00:00\",\"2009-09-23T00:00:00\",\"2009-09-24T00:00:00\",\"2009-09-25T00:00:00\",\"2009-09-26T00:00:00\",\"2009-09-27T00:00:00\",\"2009-09-28T00:00:00\",\"2009-09-29T00:00:00\",\"2009-09-30T00:00:00\",\"2009-10-01T00:00:00\",\"2009-10-02T00:00:00\",\"2009-10-03T00:00:00\",\"2009-10-04T00:00:00\",\"2009-10-05T00:00:00\",\"2009-10-06T00:00:00\",\"2009-10-07T00:00:00\",\"2009-10-08T00:00:00\",\"2009-10-09T00:00:00\",\"2009-10-10T00:00:00\",\"2009-10-11T00:00:00\",\"2009-10-12T00:00:00\",\"2009-10-13T00:00:00\",\"2009-10-14T00:00:00\",\"2009-10-15T00:00:00\",\"2009-10-16T00:00:00\",\"2009-10-17T00:00:00\",\"2009-10-18T00:00:00\",\"2009-10-19T00:00:00\",\"2009-10-20T00:00:00\",\"2009-10-21T00:00:00\",\"2009-10-22T00:00:00\",\"2009-10-23T00:00:00\",\"2009-10-24T00:00:00\",\"2009-10-25T00:00:00\",\"2009-10-26T00:00:00\",\"2009-10-27T00:00:00\",\"2009-10-28T00:00:00\",\"2009-10-29T00:00:00\",\"2009-10-30T00:00:00\",\"2009-10-31T00:00:00\",\"2009-11-01T00:00:00\",\"2009-11-02T00:00:00\",\"2009-11-03T00:00:00\",\"2009-11-04T00:00:00\",\"2009-11-05T00:00:00\",\"2009-11-06T00:00:00\",\"2009-11-07T00:00:00\",\"2009-11-08T00:00:00\",\"2009-11-09T00:00:00\",\"2009-11-10T00:00:00\",\"2009-11-11T00:00:00\",\"2009-11-12T00:00:00\",\"2009-11-13T00:00:00\",\"2009-11-14T00:00:00\",\"2009-11-15T00:00:00\",\"2009-11-16T00:00:00\",\"2009-11-17T00:00:00\",\"2009-11-18T00:00:00\",\"2009-11-19T00:00:00\",\"2009-11-20T00:00:00\",\"2009-11-21T00:00:00\",\"2009-11-22T00:00:00\",\"2009-11-23T00:00:00\",\"2009-11-24T00:00:00\",\"2009-11-25T00:00:00\",\"2009-11-26T00:00:00\",\"2009-11-27T00:00:00\",\"2009-11-28T00:00:00\",\"2009-11-29T00:00:00\",\"2009-11-30T00:00:00\",\"2009-12-01T00:00:00\",\"2009-12-02T00:00:00\",\"2009-12-03T00:00:00\",\"2009-12-04T00:00:00\",\"2009-12-05T00:00:00\",\"2009-12-06T00:00:00\",\"2009-12-07T00:00:00\",\"2009-12-08T00:00:00\",\"2009-12-09T00:00:00\",\"2009-12-10T00:00:00\",\"2009-12-11T00:00:00\",\"2009-12-12T00:00:00\",\"2009-12-13T00:00:00\",\"2009-12-14T00:00:00\",\"2009-12-15T00:00:00\",\"2009-12-16T00:00:00\",\"2009-12-17T00:00:00\",\"2009-12-18T00:00:00\",\"2009-12-19T00:00:00\",\"2009-12-20T00:00:00\",\"2009-12-21T00:00:00\",\"2009-12-22T00:00:00\",\"2009-12-23T00:00:00\",\"2009-12-24T00:00:00\",\"2009-12-25T00:00:00\",\"2009-12-26T00:00:00\",\"2009-12-27T00:00:00\",\"2009-12-28T00:00:00\",\"2009-12-29T00:00:00\",\"2009-12-30T00:00:00\",\"2009-12-31T00:00:00\",\"2010-01-01T00:00:00\",\"2010-01-02T00:00:00\",\"2010-01-03T00:00:00\",\"2010-01-04T00:00:00\",\"2010-01-05T00:00:00\",\"2010-01-06T00:00:00\",\"2010-01-07T00:00:00\",\"2010-01-08T00:00:00\",\"2010-01-09T00:00:00\",\"2010-01-10T00:00:00\",\"2010-01-11T00:00:00\",\"2010-01-12T00:00:00\",\"2010-01-13T00:00:00\",\"2010-01-14T00:00:00\",\"2010-01-15T00:00:00\",\"2010-01-16T00:00:00\",\"2010-01-17T00:00:00\",\"2010-01-18T00:00:00\",\"2010-01-19T00:00:00\",\"2010-01-20T00:00:00\",\"2010-01-21T00:00:00\",\"2010-01-22T00:00:00\",\"2010-01-23T00:00:00\",\"2010-01-24T00:00:00\",\"2010-01-25T00:00:00\",\"2010-01-26T00:00:00\",\"2010-01-27T00:00:00\",\"2010-01-28T00:00:00\",\"2010-01-29T00:00:00\",\"2010-01-30T00:00:00\",\"2010-01-31T00:00:00\",\"2010-02-01T00:00:00\",\"2010-02-02T00:00:00\",\"2010-02-03T00:00:00\",\"2010-02-04T00:00:00\",\"2010-02-05T00:00:00\",\"2010-02-06T00:00:00\",\"2010-02-07T00:00:00\",\"2010-02-08T00:00:00\",\"2010-02-09T00:00:00\",\"2010-02-10T00:00:00\",\"2010-02-11T00:00:00\",\"2010-02-12T00:00:00\",\"2010-02-13T00:00:00\",\"2010-02-14T00:00:00\",\"2010-02-15T00:00:00\",\"2010-02-16T00:00:00\",\"2010-02-17T00:00:00\",\"2010-02-18T00:00:00\",\"2010-02-19T00:00:00\",\"2010-02-20T00:00:00\",\"2010-02-21T00:00:00\",\"2010-02-22T00:00:00\",\"2010-02-23T00:00:00\",\"2010-02-24T00:00:00\",\"2010-02-25T00:00:00\",\"2010-02-26T00:00:00\",\"2010-02-27T00:00:00\",\"2010-02-28T00:00:00\",\"2010-03-01T00:00:00\",\"2010-03-02T00:00:00\",\"2010-03-03T00:00:00\",\"2010-03-04T00:00:00\",\"2010-03-05T00:00:00\",\"2010-03-06T00:00:00\",\"2010-03-07T00:00:00\",\"2010-03-08T00:00:00\",\"2010-03-09T00:00:00\",\"2010-03-10T00:00:00\",\"2010-03-11T00:00:00\",\"2010-03-12T00:00:00\",\"2010-03-13T00:00:00\",\"2010-03-14T00:00:00\",\"2010-03-15T00:00:00\",\"2010-03-16T00:00:00\",\"2010-03-17T00:00:00\",\"2010-03-18T00:00:00\",\"2010-03-19T00:00:00\",\"2010-03-20T00:00:00\",\"2010-03-21T00:00:00\",\"2010-03-22T00:00:00\",\"2010-03-23T00:00:00\",\"2010-03-24T00:00:00\",\"2010-03-25T00:00:00\",\"2010-03-26T00:00:00\",\"2010-03-27T00:00:00\",\"2010-03-28T00:00:00\",\"2010-03-29T00:00:00\",\"2010-03-30T00:00:00\",\"2010-03-31T00:00:00\",\"2010-04-01T00:00:00\",\"2010-04-02T00:00:00\",\"2010-04-03T00:00:00\",\"2010-04-04T00:00:00\",\"2010-04-05T00:00:00\",\"2010-04-06T00:00:00\",\"2010-04-07T00:00:00\",\"2010-04-08T00:00:00\",\"2010-04-09T00:00:00\",\"2010-04-10T00:00:00\",\"2010-04-11T00:00:00\",\"2010-04-12T00:00:00\",\"2010-04-13T00:00:00\",\"2010-04-14T00:00:00\",\"2010-04-15T00:00:00\",\"2010-04-16T00:00:00\",\"2010-04-17T00:00:00\",\"2010-04-18T00:00:00\",\"2010-04-19T00:00:00\",\"2010-04-20T00:00:00\",\"2010-04-21T00:00:00\",\"2010-04-22T00:00:00\",\"2010-04-23T00:00:00\",\"2010-04-24T00:00:00\",\"2010-04-25T00:00:00\",\"2010-04-26T00:00:00\",\"2010-04-27T00:00:00\",\"2010-04-28T00:00:00\",\"2010-04-29T00:00:00\",\"2010-04-30T00:00:00\",\"2010-05-01T00:00:00\",\"2010-05-02T00:00:00\",\"2010-05-03T00:00:00\",\"2010-05-04T00:00:00\",\"2010-05-05T00:00:00\",\"2010-05-06T00:00:00\",\"2010-05-07T00:00:00\",\"2010-05-08T00:00:00\",\"2010-05-09T00:00:00\",\"2010-05-10T00:00:00\",\"2010-05-11T00:00:00\",\"2010-05-12T00:00:00\",\"2010-05-13T00:00:00\",\"2010-05-14T00:00:00\",\"2010-05-15T00:00:00\",\"2010-05-16T00:00:00\",\"2010-05-17T00:00:00\",\"2010-05-18T00:00:00\",\"2010-05-19T00:00:00\",\"2010-05-20T00:00:00\",\"2010-05-21T00:00:00\",\"2010-05-22T00:00:00\",\"2010-05-23T00:00:00\",\"2010-05-24T00:00:00\",\"2010-05-25T00:00:00\",\"2010-05-26T00:00:00\",\"2010-05-27T00:00:00\",\"2010-05-28T00:00:00\",\"2010-05-29T00:00:00\",\"2010-05-30T00:00:00\",\"2010-05-31T00:00:00\",\"2010-06-01T00:00:00\",\"2010-06-02T00:00:00\",\"2010-06-03T00:00:00\",\"2010-06-04T00:00:00\",\"2010-06-05T00:00:00\",\"2010-06-06T00:00:00\",\"2010-06-07T00:00:00\",\"2010-06-08T00:00:00\",\"2010-06-09T00:00:00\",\"2010-06-10T00:00:00\",\"2010-06-11T00:00:00\",\"2010-06-12T00:00:00\",\"2010-06-13T00:00:00\",\"2010-06-14T00:00:00\",\"2010-06-15T00:00:00\",\"2010-06-16T00:00:00\",\"2010-06-17T00:00:00\",\"2010-06-18T00:00:00\",\"2010-06-19T00:00:00\",\"2010-06-20T00:00:00\",\"2010-06-21T00:00:00\",\"2010-06-22T00:00:00\",\"2010-06-23T00:00:00\",\"2010-06-24T00:00:00\",\"2010-06-25T00:00:00\",\"2010-06-26T00:00:00\",\"2010-06-27T00:00:00\",\"2010-06-28T00:00:00\",\"2010-06-29T00:00:00\",\"2010-06-30T00:00:00\",\"2010-07-01T00:00:00\",\"2010-07-02T00:00:00\",\"2010-07-03T00:00:00\",\"2010-07-04T00:00:00\",\"2010-07-05T00:00:00\",\"2010-07-06T00:00:00\",\"2010-07-07T00:00:00\",\"2010-07-08T00:00:00\",\"2010-07-09T00:00:00\",\"2010-07-10T00:00:00\",\"2010-07-11T00:00:00\",\"2010-07-12T00:00:00\",\"2010-07-13T00:00:00\",\"2010-07-14T00:00:00\",\"2010-07-15T00:00:00\",\"2010-07-16T00:00:00\",\"2010-07-17T00:00:00\",\"2010-07-18T00:00:00\",\"2010-07-19T00:00:00\",\"2010-07-20T00:00:00\",\"2010-07-21T00:00:00\",\"2010-07-22T00:00:00\",\"2010-07-23T00:00:00\",\"2010-07-24T00:00:00\",\"2010-07-25T00:00:00\",\"2010-07-26T00:00:00\",\"2010-07-27T00:00:00\",\"2010-07-28T00:00:00\",\"2010-07-29T00:00:00\",\"2010-07-30T00:00:00\",\"2010-07-31T00:00:00\",\"2010-08-01T00:00:00\",\"2010-08-02T00:00:00\",\"2010-08-03T00:00:00\",\"2010-08-04T00:00:00\",\"2010-08-05T00:00:00\",\"2010-08-06T00:00:00\",\"2010-08-07T00:00:00\",\"2010-08-08T00:00:00\",\"2010-08-09T00:00:00\",\"2010-08-10T00:00:00\",\"2010-08-11T00:00:00\",\"2010-08-12T00:00:00\",\"2010-08-13T00:00:00\",\"2010-08-14T00:00:00\",\"2010-08-15T00:00:00\",\"2010-08-16T00:00:00\",\"2010-08-17T00:00:00\",\"2010-08-18T00:00:00\",\"2010-08-19T00:00:00\",\"2010-08-20T00:00:00\",\"2010-08-21T00:00:00\",\"2010-08-22T00:00:00\",\"2010-08-23T00:00:00\",\"2010-08-24T00:00:00\",\"2010-08-25T00:00:00\",\"2010-08-26T00:00:00\",\"2010-08-27T00:00:00\",\"2010-08-28T00:00:00\",\"2010-08-29T00:00:00\",\"2010-08-30T00:00:00\",\"2010-08-31T00:00:00\",\"2010-09-01T00:00:00\",\"2010-09-02T00:00:00\",\"2010-09-03T00:00:00\",\"2010-09-04T00:00:00\",\"2010-09-05T00:00:00\",\"2010-09-06T00:00:00\",\"2010-09-07T00:00:00\",\"2010-09-08T00:00:00\",\"2010-09-09T00:00:00\",\"2010-09-10T00:00:00\",\"2010-09-11T00:00:00\",\"2010-09-12T00:00:00\",\"2010-09-13T00:00:00\",\"2010-09-14T00:00:00\",\"2010-09-15T00:00:00\",\"2010-09-16T00:00:00\",\"2010-09-17T00:00:00\",\"2010-09-18T00:00:00\",\"2010-09-19T00:00:00\",\"2010-09-20T00:00:00\",\"2010-09-21T00:00:00\",\"2010-09-22T00:00:00\",\"2010-09-23T00:00:00\",\"2010-09-24T00:00:00\",\"2010-09-25T00:00:00\",\"2010-09-26T00:00:00\",\"2010-09-27T00:00:00\",\"2010-09-28T00:00:00\",\"2010-09-29T00:00:00\",\"2010-09-30T00:00:00\",\"2010-10-01T00:00:00\",\"2010-10-02T00:00:00\",\"2010-10-03T00:00:00\",\"2010-10-04T00:00:00\",\"2010-10-05T00:00:00\",\"2010-10-06T00:00:00\",\"2010-10-07T00:00:00\",\"2010-10-08T00:00:00\",\"2010-10-09T00:00:00\",\"2010-10-10T00:00:00\",\"2010-10-11T00:00:00\",\"2010-10-12T00:00:00\",\"2010-10-13T00:00:00\",\"2010-10-14T00:00:00\",\"2010-10-15T00:00:00\",\"2010-10-16T00:00:00\",\"2010-10-17T00:00:00\",\"2010-10-18T00:00:00\",\"2010-10-19T00:00:00\",\"2010-10-20T00:00:00\",\"2010-10-21T00:00:00\",\"2010-10-22T00:00:00\",\"2010-10-23T00:00:00\",\"2010-10-24T00:00:00\",\"2010-10-25T00:00:00\",\"2010-10-26T00:00:00\",\"2010-10-27T00:00:00\",\"2010-10-28T00:00:00\",\"2010-10-29T00:00:00\",\"2010-10-30T00:00:00\",\"2010-10-31T00:00:00\",\"2010-11-01T00:00:00\",\"2010-11-02T00:00:00\",\"2010-11-03T00:00:00\",\"2010-11-04T00:00:00\",\"2010-11-05T00:00:00\",\"2010-11-06T00:00:00\",\"2010-11-07T00:00:00\",\"2010-11-08T00:00:00\",\"2010-11-09T00:00:00\",\"2010-11-10T00:00:00\",\"2010-11-11T00:00:00\",\"2010-11-12T00:00:00\",\"2010-11-13T00:00:00\",\"2010-11-14T00:00:00\",\"2010-11-15T00:00:00\",\"2010-11-16T00:00:00\",\"2010-11-17T00:00:00\",\"2010-11-18T00:00:00\",\"2010-11-19T00:00:00\",\"2010-11-20T00:00:00\",\"2010-11-21T00:00:00\",\"2010-11-22T00:00:00\",\"2010-11-23T00:00:00\",\"2010-11-24T00:00:00\",\"2010-11-25T00:00:00\",\"2010-11-26T00:00:00\"],\"xaxis\":\"x\",\"y\":[0.08818686868686867,0.1569486111111111,0.11235555555555556,0.10482083333333334,0.11180416666666666,0.10028710343931094,0.12979583333333333,0.15379861111111112,0.10409722222222223,0.1668611111111111,0.11465416666666667,0.12423749999999999,0.14505277777777778,0.13638472222222223,0.21678849232819986,0.10475833333333334,0.10289305555555556,0.13218194444444445,0.13661666666666666,0.1404875,0.12024583333333333,0.13346388888888888,0.17088472222222223,0.14414444444444446,0.14392222222222223,0.15864722222222222,0.1597361111111111,0.13829166666666665,0.2019,0.1578081350529888,0.12143055555555557,0.12876944444444444,0.13941111111111112,0.12341111111111111,0.11809166666666666,0.16552916666666667,0.15953888888888887,0.1171125,0.09602777777777778,0.12365277777777778,0.10011111111111111,0.09923749999999999,0.10294583333333332,0.10658035727521102,0.11506666666666666,0.1256486111111111,0.12915833333333332,0.10435000000000001,0.09690416666666667,0.17071111111111112,0.12950972222222223,0.10224166666666668,0.09900416666666667,0.12340833333333333,0.09645555555555554,0.10976805555555556,0.1340097222222222,0.1418847222222222,0.09493333333333334,0.09352638888888888,0.14062916666666667,0.11525277777777777,0.1053375,0.16595,0.17744583333333333,0.12262777777777778,0.1299708333333333,0.13185416666666666,0.09597321455042206,0.1037111111111111,0.0848625,0.07898333333333334,0.07519444444444444,0.07861388888888889,0.07873055555555555,0.07474166666666666,0.0743111111111111,0.09374444444444444,0.12200138888888888,0.14302499999999999,0.12926944444444444,0.11888888888888888,0.13014166666666666,0.08280416666666666,0.16911666666666667,0.12039861111111111,0.0933486111111111,0.08799861111111111,0.10939027777777777,0.11064305555555555,0.09042222222222222,0.08824166666666666,0.1676736111111111,0.10053055555555557,0.11449305555555556,0.09918750000000001,0.07904583333333333,0.08297777777777778,0.13265555555555555,0.16395535727521102,0.11178194444444445,0.10536527777777778,0.13647083333333335,0.13798333333333332,0.12578333333333333,0.16076666666666667,0.1406611111111111,0.12106666666666667,0.11719444444444443,0.11966527777777779,0.16981805555555557,0.09945416666666666,0.09634027777777777,0.0943625,0.1111875,0.10343055555555555,0.13364305555555556,0.10264722222222224,0.10530555555555554,0.1080625,0.11912777777777779,0.12921805555555557,0.15163472222222224,0.11473888888888888,0.10393055555555555,0.10114305555555557,0.14767916666666667,0.1855513888888889,0.09419444444444444,0.09393333333333334,0.11439999999999999,0.11361527777777777,0.11245,0.12389641796888555,0.12371447630387257,0.1240328524489902,0.12611666666666668,0.11117500000000001,0.10482083333333334,0.12134722222222223,0.12090416666666667,0.12662222222222222,0.11730416666666667,0.12611944444444445,0.12741944444444445,0.11688472222222222,0.09173333333333333,0.14525833333333332,0.15324305555555554,0.2073277777777778,0.07720972222222222,0.09437083333333333,0.09110277777777777,0.11892916666666667,0.11656805555555556,0.13023055555555557,0.08144444444444444,0.089525,0.11519305555555555,0.0941388888888889,0.12124166666666666,0.12100000000000001,0.15270416666666667,0.10493055555555555,0.07864166666666667,0.10212361111111111,0.08999027777777778,0.09951785727521102,0.11535277777777778,0.12670694444444444,0.15499444444444446,0.17756388888888888,0.1605442461640999,0.11967638888888889,0.1595361111111111,0.16066468756912997,0.1660361111111111,0.13516250000000002,0.1502888888888889,0.144625,0.1609,0.1748347222222222,0.21358194444444445,0.1665375,0.1255625,0.13071765899486648,0.1578486111111111,0.15454583333333333,0.14480972222222224,0.13411111111111113,0.12455694444444444,0.13699305555555558,0.12668055555555555,0.1437486111111111,0.15100416666666666,0.14327619060854435,0.1308013888888889,0.11975555555555556,0.1228638888888889,0.1252347222222222,0.1759263888888889,0.17133055555555557,0.1523263888888889,0.14864166666666667,0.13674999999999998,0.1197375,0.12239166666666666,0.10684444444444444,0.14520694444444446,0.14353749999999998,0.17947916666666666,0.1731006124440996,0.16247222222222224,0.12228333333333333,0.10869027777777779,0.12986944444444445,0.15494305555555554,0.1639986111111111,0.1516456350529888,0.09984027777777779,0.07834027777777777,0.0751625,0.079925,0.08365,0.12411805555555555,0.08234444444444444,0.08992499999999999,0.10124027777777778,0.10080139166832036,0.1006625,0.087075,0.09668472222222223,0.10503749999999999,0.10724583333333333,0.0910986111111111,0.08270555555555556,0.07602361111111111,0.08170555555555556,0.08039583333333333,0.08873333333333333,0.09093055555555556,0.09167361111111111,0.11094722222222222,0.09134166666666667,0.0884638888888889,0.08280555555555555,0.11112361111111112,0.10825,0.10924166666666667,0.10714444444444446,0.10969027777777779,0.18251091283076656,0.18926944444444443,0.2079083333333333,0.20769722222222223,0.12577361111111113,0.1218236111111111,0.13267222222222222,0.1300388888888889,0.20128194444444444,0.16083194444444446,0.1308486111111111,0.12474027777777778,0.10337777777777778,0.11946250000000001,0.12620694444444444,0.12939583333333335,0.14524444444444443,0.1232625,0.10539166666666668,0.1193013888888889,0.11524861111111111,0.12717083333333334,0.1281013888888889,0.13357777777777777,0.14049583333333332,0.102175,0.1054125,0.09229722222222221,0.10613472222222223,0.12738333333333332,0.16873194444444445,0.13723888888888888,0.09033194444444445,0.11727460343931093,0.10465972222222222,0.15466527777777778,0.12647361111111113,0.11360277777777777,0.10189861111111112,0.11238055555555555,0.10954027777777778,0.09614444444444445,0.10460833333333333,0.1293,0.10637361111111111,0.08465,0.1109736111111111,0.09218888888888889,0.106325,0.09582222222222223,0.08694722222222222,0.1042013888888889,0.08207083333333333,0.1287597222222222,0.09472222222222222,0.08506944444444445,0.08435972222222222,0.09690555555555556,0.10696388888888889,0.08084027777777777,0.0887023812170887,0.10193194444444445,0.09180555555555554,0.07616388888888889,0.07582361111111112,0.06409583333333334,0.06041527777777778,0.06238888888888889,0.07444444444444445,0.05905972222222223,0.06483472222222222,0.06119722222222222,0.09639027777777777,0.09121527777777777,0.13925416666666668,0.1343888888888889,0.09354027777777778,0.07864027777777778,0.1650361111111111,0.12889583333333335,0.09546388888888888,0.09788333333333334,0.0983263888888889,0.09240694444444444,0.08609583333333333,0.1166875,0.11233472222222222,0.07779861111111111,0.08668888888888888,0.09139146838632214,0.09938055555555556,0.09646666666666667,0.10452222222222222,0.08526111111111111,0.08128472222222222,0.09721805555555556,0.08016805555555556,0.08252341283076657,0.10227777777777777,0.20061944444444443,0.22575138888888888,0.09160694444444444,0.10070555555555555,0.1238875,0.11245555555555556,0.10252777777777777,0.10718055555555556,0.1395388888888889,0.08681388888888888,0.09284583333333334,0.08117083333333333,0.07742361111111111,0.1246875,0.1094625,0.08815138888888889,0.0730706350529888,0.10005555555555556,0.07592777777777777,0.08294027777777778,0.0739375,0.09813472222222222,0.12241111111111111,0.10399583333333333,0.105425,0.09744027777777778,0.1323486111111111,0.1436111111111111,0.13881388888888888,0.12391388888888889,0.10106666666666667,0.09896388888888889,0.07754583333333333,0.08415416666666667,0.09493472222222221,0.08990555555555556,0.08122083333333333,0.080675,0.08850833333333333,0.08703888888888889,0.08368333333333333,0.06630833333333333,0.11300277777777777,0.10027896838632214,0.08340972222222222,0.07857222222222222,0.08953472222222222,0.08105416666666666,0.08284027777777778,0.0937375,0.09625972222222222,0.085,0.09962638888888888,0.07498888888888888,0.07243472222222222,0.08307361111111111,0.11695972222222221,0.09774861111111112,0.07488611111111111,0.08137222222222222,0.08088194444444444,0.09553888888888888,0.12447916666666667,0.16048035727521104,0.10674166666666667,0.07224583333333334,0.10610138888888888,0.07934722222222222,0.07549027777777778,0.08270416666666666,0.10036666666666666,0.10537222222222221,0.07100416666666666,0.09093472222222222,0.08922083333333333,0.07892083333333333,0.07496666666666667,0.09652361111111112,0.08338611111111112,0.07081388888888888,0.09553333333333335,0.13213055555555556,0.07796805555555555,0.08450555555555556,0.09218849232819983,0.07453611111111111,0.06369444444444444,0.058743055555555555,0.05983888888888889,0.05781111111111111,0.06176944444444444,0.07302638888888889,0.10049305555555556,0.07939861111111111,0.07566527777777778,0.09784583333333333,0.07373888888888888,0.08985555555555555,0.1646388888888889,0.09414861111111111,0.08828055555555556,0.10493055555555555,0.09596805555555554,0.08921805555555555,0.11093611111111111,0.10723055555555557,0.12059166666666665,0.12171805555555555,0.10238888888888889,0.09895694444444444,0.08392638888888888,0.15543333333333334,0.12894444444444444,0.10586527777777778,0.09109285727521102,0.08877222222222222,0.0927763888888889,0.0808611111111111,0.09558333333333333,0.121575,0.12220138888888889,0.09087500000000001,0.11833055555555555,0.09898611111111111,0.08419166666666666,0.08701805555555556,0.14144722222222222,0.10456388888888889,0.09811111111111111,0.12789999999999999,0.09226666666666666,0.11366666666666667,0.0999236111111111,0.2724111111111111,0.14827361111111112,0.10760972222222222,0.12415416666666668,0.08743333333333334,0.10130416666666665,0.12822638888888888,0.1703361111111111,0.15823194444444447,0.12180555555555556,0.13413194444444446,0.13159861111111112,0.11939166666666667,0.11265555555555555,0.11715,0.13758194444444444,0.11605416666666667,0.14955277777777778,0.11913611111111112,0.10464999999999999,0.14275555555555555,0.14028055555555555,0.14543194444444443,0.12899305555555557,0.13860833333333333,0.13260833333333333,0.17586388888888888,0.15963472222222222,0.20125972222222224,0.1914597222222222,0.159125,0.16421388888888888,0.19262083333333335,0.1650861111111111,0.16350654788375538,0.19159444444444446,0.17673055555555556,0.12203888888888888,0.12783472222222222,0.13217083333333332,0.11792777777777778,0.1242763888888889,0.1982986111111111,0.2016777777777778,0.1532625,0.1440736111111111,0.16364166666666666,0.12974444444444444,0.12654027777777777,0.17355833333333334,0.1564861111111111,0.11469305555555555,0.12079027777777777,0.1058361111111111,0.1063236111111111,0.12119444444444445,0.12945416666666665,0.1308222222222222,0.12752777777777777,0.1500125,0.14886944444444444,0.13145277777777778,0.19579146838632214,0.23908333333333334,0.19514305555555558,0.14193194444444446,0.12185,0.18939166666666665,0.13154027777777777,0.15793055555555555,0.16599166666666665,0.20426666666666668,0.14649722222222222,0.17570972222222223,0.2018236111111111,0.15098194444444443,0.18195,0.14649583333333333,0.12754444444444443,0.1316152777777778,0.19290833333333335,0.18509583333333335,0.1484361111111111,0.13064722222222222,0.15609722222222222,0.1760986111111111,0.14084027777777777,0.13633194444444446,0.13314166666666666,0.1668347222222222,0.17433055555555554,0.18480833333333335,0.11608015899486648,0.14560277777777778,0.13259444444444446,0.14337638888888887,0.1663236111111111,0.1358375,0.1444652777777778,0.11984444444444443,0.11975694444444443,0.11189444444444445,0.11277222222222222,0.12908472222222223,0.12688472222222222,0.1481375,0.1619013888888889,0.13785694444444446,0.1447111111111111,0.1580111111111111,0.16908055555555557,0.1754888888888889,0.12381527777777779,0.11531388888888888,0.1345442461640999,0.1251722222222222,0.1489611111111111,0.1492638888888889,0.13642222222222222,0.13888194444444446,0.1313236111111111,0.13029166666666667,0.12989027777777779,0.1276638888888889,0.1235875,0.12373472222222222,0.12616527777777778,0.12466388888888888,0.12367916666666667,0.12543194444444444,0.12365555555555555,0.11734166666666668,0.12128749999999999,0.11765416666666667,0.11382638888888888,0.11379861111111111,0.11567083333333333,0.1151888888888889,0.12090138888888889,0.11887916666666667,0.12329999999999999,0.1462095239418777,0.12811527777777776,0.15599583333333333,0.12450555555555556,0.10546666666666665,0.10224722222222221,0.16548055555555555,0.12253055555555555,0.11150972222222223,0.12546527777777777,0.1155763888888889,0.13335972222222223,0.12381805555555556,0.1293,0.13454583333333334,0.09452638888888888,0.108375,0.12303333333333334,0.1315111111111111,0.11581111111111111,0.108475,0.1432375,0.105225,0.11467222222222223,0.12046666666666667,0.12067361111111112,0.146925,0.17850000000000002,0.11386666666666666,0.13849444444444445,0.10770277777777779,0.12587222222222222,0.10671944444444444,0.11013750000000001,0.15013888888888888,0.10159444444444445,0.08694722222222222,0.1300236111111111,0.10584027777777777,0.12631944444444446,0.10280833333333333,0.10753333333333334,0.11236527777777779,0.10270416666666667,0.1140875,0.1169875,0.09502777777777778,0.1066125,0.11293611111111113,0.12610833333333332,0.09570277777777779,0.10579444444444444,0.1037111111111111,0.11195,0.1166763888888889,0.08094286283407397,0.08022916666666667,0.08956805555555557,0.10074722222222222,0.09255694444444446,0.08543611111111112,0.07246388888888888,0.07893888888888889,0.0836611111111111,0.08003333333333333,0.08435833333333333,0.17904166666666665,0.12601944444444443,0.07638055555555555,0.09247777777777778,0.1464902777777778,0.10849464365126613,0.08894444444444445,0.11046071455042204,0.08710000000000001,0.08881527777777778,0.11469444444444445,0.11328472222222222,0.08255138888888888,0.09672361111111112,0.11559166666666666,0.08416111111111112,0.08857916666666667,0.08671388888888888,0.14379702394187768,0.08445694444444445,0.10455833333333332,0.08333055555555555,0.08765138888888889,0.0891847222222222,0.11563194444444444,0.11868333333333334,0.08241527777777778,0.10132499999999998,0.0866125,0.07915972222222221,0.08335138888888889,0.13065555555555555,0.12515555555555555,0.08387638888888889,0.092025,0.10115695370921603,0.07980277777777778,0.09676527777777778,0.11338749999999999,0.11389861111111112,0.07898888888888889,0.07958194444444444,0.09459444444444445,0.08199305555555556,0.09177361111111111,0.11167619060854436,0.09380000000000001,0.08671527777777778,0.10491666666666667,0.08008194444444444,0.08116805555555556,0.08626527777777777,0.08203611111111112,0.07795,0.0636375,0.07861527777777778,0.08977222222222221,0.07824166666666667,0.1421736111111111,0.12146666666666667,0.11620694444444445,0.08954027777777777,0.08024722222222222,0.09826666666666665,0.08637083333333333,0.08025833333333333,0.11231527777777778,0.09947222222222223,0.07807499999999999,0.09315416666666666,0.08387757949743324,0.08024027777777779,0.12494444444444444,0.11426666666666667,0.14572222222222223,0.08282916666666666,0.09297222222222222,0.08891944444444445,0.08027777777777777,0.08770694444444445,0.11803749999999999,0.10261527777777778,0.07866388888888888,0.09419166666666666,0.08056944444444444,0.07243472222222222,0.0833986111111111,0.1657722222222222,0.10714107645801886,0.07401944444444444,0.08542361111111112,0.10528055555555557,0.08485277777777778,0.08810555555555556,0.128225,0.09306944444444445,0.09347777777777778,0.08043888888888888,0.1662236111111111,0.08283611111111111,0.07582361111111112,0.08264960343931094,0.07918194444444444,0.07764305555555555,0.08031885238284232,0.07851666666666667,0.0690125,0.10210833333333333,0.10791805555555557,0.12210277777777778,0.0901388888888889,0.08565694444444445,0.07852083333333333,0.07819444444444444,0.14035833333333333,0.14763055555555554,0.13141369060854435,0.09400277777777778,0.08882222222222222,0.08988472222222223,0.07809861111111112,0.08955277777777777,0.10407361111111112,0.1348513888888889,0.09447222222222222,0.07979305555555556,0.09530833333333333,0.09359166666666666,0.09630833333333333,0.1078125,0.12343888888888889,0.08290396838632214,0.16318888888888888,0.08465694444444445,0.08084166666666667,0.09030416666666667,0.1372611111111111,0.09047222222222222,0.08341805555555555,0.10196944444444446,0.1347472222222222,0.08315972222222222,0.12574583333333333,0.19215277777777778,0.09520416666666666,0.09119722222222224,0.095825,0.0993388888888889,0.08664027777777777,0.09208194444444445,0.13870000000000002,0.12709166666666666,0.09134722222222222,0.10606388888888889,0.11204861111111111,0.12287222222222223,0.11513333333333334,0.17615694444444444,0.1956041666666667,0.13867182566153316,0.13095833333333334,0.13255972222222223,0.12431666666666666,0.11888750000000001,0.10205416666666667,0.10666944444444446,0.11770972222222223,0.12689722222222222,0.14160277777777777,0.12184305555555557,0.12556944444444443,0.16360555555555556,0.15945694444444444,0.11139444444444443,0.11136527777777779,0.09834444444444446,0.09587222222222223,0.13226527777777777,0.12473611111111112,0.12479027777777778,0.10142777777777778,0.09855138888888888,0.1016513888888889,0.09375555555555556,0.10755694444444444,0.12707222222222223,0.14237619060854437,0.11002777777777778,0.10418194444444444,0.11914305555555556,0.10549305555555555,0.09760138888888889,0.12951527777777777,0.1572638888888889,0.10733333333333334,0.13116944444444442,0.12665416666666668,0.14749722222222222,0.16475138888888888,0.13420138888888888,0.12305555555555554,0.12719583333333334,0.08787718293674418,0.0867375,0.08943472222222222,0.1021875,0.16228333333333333,0.13931666666666667,0.15963611111111112,0.15534444444444445,0.13953194444444444,0.11434861111111111,0.10899305555555555,0.16215000000000002,0.15203472222222222,0.08983333333333335,0.10721944444444444,0.11056111111111111,0.11106388888888888,0.10604444444444446,0.12385792471420856,0.12371447630387257,0.14591533799879308,0.14735277777777778,0.13393055555555555,0.11524583333333334,0.11406944444444443,0.12434444444444445,0.11217083333333334,0.11258611111111111,0.11380000000000001,0.13494583333333335,0.12775416666666667,0.16587916666666666,0.18862777777777778,0.19293333333333335,0.16390694444444445,0.19663194444444443,0.18454305555555556,0.1918875,0.17083055555555557,0.25965416666666663,0.266075,0.18817499999999998,0.17822083333333333,0.15360833333333332,0.13517500000000002,0.15119781798973297,0.17324444444444445,0.13297222222222221,0.13647638888888888,0.18512083333333335,0.13173055555555557,0.1800875,0.12439861111111113,0.1516236111111111,0.18003472222222222,0.15129444444444445,0.18520833333333334,0.1656111111111111,0.15202083333333333,0.14481666666666668,0.1357361111111111,0.16652638888888888,0.2235763888888889,0.17553194444444445,0.1287972222222222,0.13764305555555556,0.15850416666666667,0.16851527777777778,0.14270277777777776,0.1370138888888889,0.136375,0.14437083333333334,0.14915694444444444,0.1536736111111111,0.14865833333333334,0.19744861111111112,0.20711666666666667,0.21350694444444443,0.18927222222222223,0.15542749887968782,0.1675888888888889,0.26719583333333335,0.2840638888888889,0.17462638888888887,0.1713361111111111,0.1826347222222222,0.1811736111111111,0.18219583333333336,0.2901625,0.25821388888888885,0.19798888888888888,0.1922402777777778,0.18695416666666667,0.1744486111111111,0.1714513888888889,0.2191111111111111,0.204225,0.15230416666666668,0.15074444444444446,0.14434583333333334,0.14822083333333333,0.12573888888888887,0.1875472222222222,0.15314722222222224,0.139925,0.13903055555555557,0.15525833333333333,0.14055,0.12734583333333335,0.22583055555555556,0.18841369060854435,0.16643472222222222,0.12796944444444444,0.1373236111111111,0.11616805555555557,0.11750833333333333,0.18298055555555556,0.20534305555555557,0.1487263888888889,0.14392777777777777,0.1638638888888889,0.15560833333333332,0.14437222222222224,0.20002916666666665,0.16005833333333333,0.13416527777777779,0.13880416666666667,0.14758571455042205,0.1287611111111111,0.12719166666666668,0.17735833333333334,0.15639583333333335,0.11218055555555555,0.12449722222222223,0.14404305555555555,0.12959305555555556,0.13084583333333333,0.17751527777777779,0.18662341283076658,0.10952361111111111,0.11485555555555556,0.12159027777777778,0.09696666666666667,0.10096111111111113,0.18135555555555555,0.09905833333333333,0.09330416666666667,0.10524861111111111,0.13345138888888888,0.10822916666666667,0.1366,0.1517111111111111,0.16887638888888887,0.11126111111111112,0.12069305555555555,0.1145638888888889,0.1748902777777778,0.11703749999999999,0.11879027777777777,0.1540986111111111,0.1181125,0.1678902777777778,0.11974166666666666,0.11046111111111111,0.11760694444444446,0.13727777777777778,0.1574222222222222,0.1236095239418777,0.11618194444444443,0.15490833333333334,0.10638750000000001,0.10898055555555555,0.17072777777777778,0.14663055555555554,0.1091625,0.11640833333333335,0.14158333333333334,0.10350972222222223,0.10140694444444445,0.1467388888888889,0.15460972222222222,0.10301249999999999,0.10681944444444444,0.12185833333333333,0.09829305555555555,0.09239722222222221,0.15640138888888888,0.13267777777777778,0.10651527777777778,0.0985236111111111,0.11821527777777777,0.10084861111111111,0.1272375,0.19035555555555558,0.2027027777777778,0.11464444444444444,0.12443888888888889,0.1302736111111111,0.15511904788375538,0.15251666666666666,0.17272916666666666,0.15429861111111112,0.10554305555555556,0.11273888888888889,0.10724305555555556,0.10345138888888888,0.1114013888888889,0.09556111111111111,0.08479166666666667,0.11940833333333334,0.10650138888888888,0.09403888888888888,0.14143055555555556,0.1336,0.111725,0.1438638888888889,0.12615833333333334,0.1680902777777778,0.1852736111111111,0.12959166666666666,0.11481666666666668,0.1385692461640999,0.1330625,0.10861388888888888,0.10342777777777779,0.10561111111111111,0.07987777777777778,0.11095833333333334,0.13847222222222222,0.15775694444444446,0.10847638888888889,0.13888598509598493,0.12371447630387257,0.14690550829098784,0.15159027777777778,0.1684152777777778,0.13124027777777778,0.133175,0.11232916666666666,0.13879166666666667,0.12876388888888887,0.10892916666666667,0.18088869060854434,0.12169305555555555,0.1025513888888889,0.09092361111111112,0.10330694444444445,0.11008333333333334,0.1025513888888889,0.16388611111111112,0.11910833333333333,0.08665555555555556,0.0910888888888889,0.1275638888888889,0.09850555555555557,0.09929027777777778,0.20598194444444443,0.11282361111111111,0.09704861111111111,0.09702222222222222,0.0984345239418777,0.08621527777777778,0.09186250000000001,0.1005513888888889,0.0866206350529888,0.09115972222222223,0.08305972222222222,0.08302777777777778,0.09722222222222222,0.09385416666666667,0.10503333333333333,0.11629027777777777,0.11154444444444445,0.11670694444444443,0.10425555555555556,0.09088750000000001,0.09674305555555555,0.1058263888888889,0.09310277777777778,0.09033055555555555,0.09471944444444444,0.08398194444444444,0.08746805555555555,0.09403888888888888,0.09691527777777777,0.09301944444444445,0.17523472222222222,0.11672083333333333,0.09048472222222223,0.105825,0.10327083333333334,0.1842791666666667,0.13932777777777777,0.11410555555555556,0.11648333333333333,0.12899166666666667,0.11542638888888888,0.13158194444444446,0.119913255121582,0.13068899728671643,0.11913611111111112,0.12960694444444446,0.14552638888888889,0.12969305555555558,0.14297361111111112,0.13548055555555558,0.18085277777777778,0.14380694444444445,0.19494305555555558,0.13998472222222222,0.10032222222222222,0.10618472222222222,0.14350694444444445,0.16595555555555555,0.11487499999999999,0.11848194444444445,0.12814305555555555,0.11468194444444445,0.11283472222222223,0.12466666666666668,0.12161924616409991,0.10953472222222221,0.11884722222222222,0.12444305555555556,0.11620555555555556,0.11831944444444444,0.10407083333333333,0.10293888888888889,0.11555833333333333,0.12215416666666666,0.11000416666666667,0.12961805555555556,0.12303055555555555,0.21308194444444445,0.16596527777777778,0.11556944444444443,0.11269444444444444,0.1268638888888889,0.12063472222222223,0.14471805555555556,0.13369722222222222,0.1624861111111111,0.10638333333333334,0.10711111111111112,0.08972222222222222,0.08243333333333334,0.10080833333333332,0.12029305555555556,0.14262777777777777,0.10020694444444445,0.1057638888888889,0.11097083333333334,0.10694980171965547,0.11103055555555555,0.16176666666666667,0.11415416666666667,0.10234444444444445,0.10392499999999999,0.10503749999999999,0.09662499999999999,0.11645416666666666,0.14770694444444446,0.1757638888888889,0.15836111111111112,0.1415736111111111,0.16778472222222224,0.13599722222222224,0.11282638888888889,0.1427861111111111,0.12284166666666667,0.10130138888888889,0.09511805555555555,0.08974861111111111,0.11391388888888888,0.12864166666666665,0.20415972222222223,0.2022125,0.12785416666666669,0.13773194444444445,0.1267597222222222,0.12029583333333334,0.15178472222222222,0.1887470239418777,0.17619166666666666,0.12405555555555554,0.12437222222222223,0.12713750000000001,0.11685277777777778,0.11904027777777779,0.14639444444444444,0.10005555555555556,0.11783333333333333,0.14544027777777777,0.20589027777777777,0.1602652777777778,0.1518986111111111,0.20450694444444445,0.21160416666666665,0.1950611111111111,0.22419424616409991,0.16568611111111112,0.20031388888888887,0.20645694444444446,0.21868472222222224,0.19454583333333333,0.16239305555555555,0.1335361111111111,0.14551111111111112,0.17145416666666666,0.21810694444444445,0.1953347222222222,0.21015555555555557,0.19854999999999998,0.19980694444444444,0.17255555555555555,0.13364424616409992,0.13661666666666666,0.1259375,0.11800694444444446,0.13367916666666665,0.15170833333333333,0.1696152777777778,0.21616944444444444,0.1981111111111111,0.1985097222222222,0.17928194444444445,0.1235138888888889,0.12134027777777777,0.1269902777777778,0.12310138888888889,0.1200375,0.12620138888888888,0.12811805555555555,0.12725277777777777,0.12299722222222222,0.12460555555555555,0.12061111111111111,0.11429444444444445,0.11668472222222223,0.11673055555555556,0.11909166666666667,0.12625555555555554,0.12226666666666666,0.11742916666666668,0.11495694444444446,0.11146527777777777,0.14359027777777778,0.12848333333333334,0.11137303943200648,0.12371447630387257,0.12371447630387257,0.12371447630387257,0.12371447630387257,0.12777239269401935,0.14360833333333334,0.12184583333333333,0.11189722222222223,0.12367638888888889,0.21133194444444442,0.16493333333333332,0.13312083333333333,0.12545555555555557,0.11698611111111111,0.12512500000000001,0.11827222222222224,0.11708055555555556,0.15140555555555554,0.12986805555555556,0.11194722222222223,0.11664027777777777,0.11887638888888888,0.11663472222222222,0.138925,0.16363194444444445,0.13983194444444444,0.13180416666666667,0.13680833333333334,0.15247083333333333,0.11899305555555555,0.13655694444444444,0.11248472222222222,0.10236527777777778,0.13556527777777777,0.12480138888888889,0.13078472222222223,0.11454027777777777,0.12865,0.12324738157629346,0.12371447630387257,0.12371447630387257,0.11700193831830907,0.0968125,0.10641388888888888,0.10957222222222221,0.11533750000000001,0.14084305555555554,0.13026666666666667,0.14766805555555557,0.09761666666666667,0.12506666666666666,0.13931666666666667,0.1764027777777778,0.22739305555555558,0.18647916666666664,0.11824166666666666,0.11989166666666667,0.1499611111111111,0.13995833333333332,0.11662361111111111,0.12881527777777776,0.1813777777777778,0.15247916666666667,0.11289166666666667,0.12599583333333333,0.10314027777777778,0.14799444444444443,0.18704980171965546,0.11064444444444445,0.1203236111111111,0.10682777777777777,0.1300277777777778,0.13591666666666666,0.1356388888888889,0.1445013888888889,0.12992083333333335,0.1295277777777778,0.12240555555555556,0.17530416666666665,0.12534583333333332,0.13469305555555555,0.12151111111111111,0.10115,0.10740972222222221,0.10657777777777779,0.1056861111111111,0.10496111111111112,0.112625,0.14145416666666666,0.08799722222222221,0.0927763888888889,0.09855277777777778,0.14319166666666666,0.08536666666666666,0.10678333333333333,0.08307222222222221,0.09885694444444446,0.09545138888888888,0.09198611111111112,0.08064444444444445,0.09566587490102929],\"yaxis\":\"y\",\"type\":\"scattergl\"}],                        {\"template\":{\"data\":{\"histogram2dcontour\":[{\"type\":\"histogram2dcontour\",\"colorbar\":{\"outlinewidth\":0,\"ticks\":\"\"},\"colorscale\":[[0.0,\"#0d0887\"],[0.1111111111111111,\"#46039f\"],[0.2222222222222222,\"#7201a8\"],[0.3333333333333333,\"#9c179e\"],[0.4444444444444444,\"#bd3786\"],[0.5555555555555556,\"#d8576b\"],[0.6666666666666666,\"#ed7953\"],[0.7777777777777778,\"#fb9f3a\"],[0.8888888888888888,\"#fdca26\"],[1.0,\"#f0f921\"]]}],\"choropleth\":[{\"type\":\"choropleth\",\"colorbar\":{\"outlinewidth\":0,\"ticks\":\"\"}}],\"histogram2d\":[{\"type\":\"histogram2d\",\"colorbar\":{\"outlinewidth\":0,\"ticks\":\"\"},\"colorscale\":[[0.0,\"#0d0887\"],[0.1111111111111111,\"#46039f\"],[0.2222222222222222,\"#7201a8\"],[0.3333333333333333,\"#9c179e\"],[0.4444444444444444,\"#bd3786\"],[0.5555555555555556,\"#d8576b\"],[0.6666666666666666,\"#ed7953\"],[0.7777777777777778,\"#fb9f3a\"],[0.8888888888888888,\"#fdca26\"],[1.0,\"#f0f921\"]]}],\"heatmap\":[{\"type\":\"heatmap\",\"colorbar\":{\"outlinewidth\":0,\"ticks\":\"\"},\"colorscale\":[[0.0,\"#0d0887\"],[0.1111111111111111,\"#46039f\"],[0.2222222222222222,\"#7201a8\"],[0.3333333333333333,\"#9c179e\"],[0.4444444444444444,\"#bd3786\"],[0.5555555555555556,\"#d8576b\"],[0.6666666666666666,\"#ed7953\"],[0.7777777777777778,\"#fb9f3a\"],[0.8888888888888888,\"#fdca26\"],[1.0,\"#f0f921\"]]}],\"heatmapgl\":[{\"type\":\"heatmapgl\",\"colorbar\":{\"outlinewidth\":0,\"ticks\":\"\"},\"colorscale\":[[0.0,\"#0d0887\"],[0.1111111111111111,\"#46039f\"],[0.2222222222222222,\"#7201a8\"],[0.3333333333333333,\"#9c179e\"],[0.4444444444444444,\"#bd3786\"],[0.5555555555555556,\"#d8576b\"],[0.6666666666666666,\"#ed7953\"],[0.7777777777777778,\"#fb9f3a\"],[0.8888888888888888,\"#fdca26\"],[1.0,\"#f0f921\"]]}],\"contourcarpet\":[{\"type\":\"contourcarpet\",\"colorbar\":{\"outlinewidth\":0,\"ticks\":\"\"}}],\"contour\":[{\"type\":\"contour\",\"colorbar\":{\"outlinewidth\":0,\"ticks\":\"\"},\"colorscale\":[[0.0,\"#0d0887\"],[0.1111111111111111,\"#46039f\"],[0.2222222222222222,\"#7201a8\"],[0.3333333333333333,\"#9c179e\"],[0.4444444444444444,\"#bd3786\"],[0.5555555555555556,\"#d8576b\"],[0.6666666666666666,\"#ed7953\"],[0.7777777777777778,\"#fb9f3a\"],[0.8888888888888888,\"#fdca26\"],[1.0,\"#f0f921\"]]}],\"surface\":[{\"type\":\"surface\",\"colorbar\":{\"outlinewidth\":0,\"ticks\":\"\"},\"colorscale\":[[0.0,\"#0d0887\"],[0.1111111111111111,\"#46039f\"],[0.2222222222222222,\"#7201a8\"],[0.3333333333333333,\"#9c179e\"],[0.4444444444444444,\"#bd3786\"],[0.5555555555555556,\"#d8576b\"],[0.6666666666666666,\"#ed7953\"],[0.7777777777777778,\"#fb9f3a\"],[0.8888888888888888,\"#fdca26\"],[1.0,\"#f0f921\"]]}],\"mesh3d\":[{\"type\":\"mesh3d\",\"colorbar\":{\"outlinewidth\":0,\"ticks\":\"\"}}],\"scatter\":[{\"fillpattern\":{\"fillmode\":\"overlay\",\"size\":10,\"solidity\":0.2},\"type\":\"scatter\"}],\"parcoords\":[{\"type\":\"parcoords\",\"line\":{\"colorbar\":{\"outlinewidth\":0,\"ticks\":\"\"}}}],\"scatterpolargl\":[{\"type\":\"scatterpolargl\",\"marker\":{\"colorbar\":{\"outlinewidth\":0,\"ticks\":\"\"}}}],\"bar\":[{\"error_x\":{\"color\":\"#2a3f5f\"},\"error_y\":{\"color\":\"#2a3f5f\"},\"marker\":{\"line\":{\"color\":\"#E5ECF6\",\"width\":0.5},\"pattern\":{\"fillmode\":\"overlay\",\"size\":10,\"solidity\":0.2}},\"type\":\"bar\"}],\"scattergeo\":[{\"type\":\"scattergeo\",\"marker\":{\"colorbar\":{\"outlinewidth\":0,\"ticks\":\"\"}}}],\"scatterpolar\":[{\"type\":\"scatterpolar\",\"marker\":{\"colorbar\":{\"outlinewidth\":0,\"ticks\":\"\"}}}],\"histogram\":[{\"marker\":{\"pattern\":{\"fillmode\":\"overlay\",\"size\":10,\"solidity\":0.2}},\"type\":\"histogram\"}],\"scattergl\":[{\"type\":\"scattergl\",\"marker\":{\"colorbar\":{\"outlinewidth\":0,\"ticks\":\"\"}}}],\"scatter3d\":[{\"type\":\"scatter3d\",\"line\":{\"colorbar\":{\"outlinewidth\":0,\"ticks\":\"\"}},\"marker\":{\"colorbar\":{\"outlinewidth\":0,\"ticks\":\"\"}}}],\"scattermapbox\":[{\"type\":\"scattermapbox\",\"marker\":{\"colorbar\":{\"outlinewidth\":0,\"ticks\":\"\"}}}],\"scatterternary\":[{\"type\":\"scatterternary\",\"marker\":{\"colorbar\":{\"outlinewidth\":0,\"ticks\":\"\"}}}],\"scattercarpet\":[{\"type\":\"scattercarpet\",\"marker\":{\"colorbar\":{\"outlinewidth\":0,\"ticks\":\"\"}}}],\"carpet\":[{\"aaxis\":{\"endlinecolor\":\"#2a3f5f\",\"gridcolor\":\"white\",\"linecolor\":\"white\",\"minorgridcolor\":\"white\",\"startlinecolor\":\"#2a3f5f\"},\"baxis\":{\"endlinecolor\":\"#2a3f5f\",\"gridcolor\":\"white\",\"linecolor\":\"white\",\"minorgridcolor\":\"white\",\"startlinecolor\":\"#2a3f5f\"},\"type\":\"carpet\"}],\"table\":[{\"cells\":{\"fill\":{\"color\":\"#EBF0F8\"},\"line\":{\"color\":\"white\"}},\"header\":{\"fill\":{\"color\":\"#C8D4E3\"},\"line\":{\"color\":\"white\"}},\"type\":\"table\"}],\"barpolar\":[{\"marker\":{\"line\":{\"color\":\"#E5ECF6\",\"width\":0.5},\"pattern\":{\"fillmode\":\"overlay\",\"size\":10,\"solidity\":0.2}},\"type\":\"barpolar\"}],\"pie\":[{\"automargin\":true,\"type\":\"pie\"}]},\"layout\":{\"autotypenumbers\":\"strict\",\"colorway\":[\"#636efa\",\"#EF553B\",\"#00cc96\",\"#ab63fa\",\"#FFA15A\",\"#19d3f3\",\"#FF6692\",\"#B6E880\",\"#FF97FF\",\"#FECB52\"],\"font\":{\"color\":\"#2a3f5f\"},\"hovermode\":\"closest\",\"hoverlabel\":{\"align\":\"left\"},\"paper_bgcolor\":\"white\",\"plot_bgcolor\":\"#E5ECF6\",\"polar\":{\"bgcolor\":\"#E5ECF6\",\"angularaxis\":{\"gridcolor\":\"white\",\"linecolor\":\"white\",\"ticks\":\"\"},\"radialaxis\":{\"gridcolor\":\"white\",\"linecolor\":\"white\",\"ticks\":\"\"}},\"ternary\":{\"bgcolor\":\"#E5ECF6\",\"aaxis\":{\"gridcolor\":\"white\",\"linecolor\":\"white\",\"ticks\":\"\"},\"baxis\":{\"gridcolor\":\"white\",\"linecolor\":\"white\",\"ticks\":\"\"},\"caxis\":{\"gridcolor\":\"white\",\"linecolor\":\"white\",\"ticks\":\"\"}},\"coloraxis\":{\"colorbar\":{\"outlinewidth\":0,\"ticks\":\"\"}},\"colorscale\":{\"sequential\":[[0.0,\"#0d0887\"],[0.1111111111111111,\"#46039f\"],[0.2222222222222222,\"#7201a8\"],[0.3333333333333333,\"#9c179e\"],[0.4444444444444444,\"#bd3786\"],[0.5555555555555556,\"#d8576b\"],[0.6666666666666666,\"#ed7953\"],[0.7777777777777778,\"#fb9f3a\"],[0.8888888888888888,\"#fdca26\"],[1.0,\"#f0f921\"]],\"sequentialminus\":[[0.0,\"#0d0887\"],[0.1111111111111111,\"#46039f\"],[0.2222222222222222,\"#7201a8\"],[0.3333333333333333,\"#9c179e\"],[0.4444444444444444,\"#bd3786\"],[0.5555555555555556,\"#d8576b\"],[0.6666666666666666,\"#ed7953\"],[0.7777777777777778,\"#fb9f3a\"],[0.8888888888888888,\"#fdca26\"],[1.0,\"#f0f921\"]],\"diverging\":[[0,\"#8e0152\"],[0.1,\"#c51b7d\"],[0.2,\"#de77ae\"],[0.3,\"#f1b6da\"],[0.4,\"#fde0ef\"],[0.5,\"#f7f7f7\"],[0.6,\"#e6f5d0\"],[0.7,\"#b8e186\"],[0.8,\"#7fbc41\"],[0.9,\"#4d9221\"],[1,\"#276419\"]]},\"xaxis\":{\"gridcolor\":\"white\",\"linecolor\":\"white\",\"ticks\":\"\",\"title\":{\"standoff\":15},\"zerolinecolor\":\"white\",\"automargin\":true,\"zerolinewidth\":2},\"yaxis\":{\"gridcolor\":\"white\",\"linecolor\":\"white\",\"ticks\":\"\",\"title\":{\"standoff\":15},\"zerolinecolor\":\"white\",\"automargin\":true,\"zerolinewidth\":2},\"scene\":{\"xaxis\":{\"backgroundcolor\":\"#E5ECF6\",\"gridcolor\":\"white\",\"linecolor\":\"white\",\"showbackground\":true,\"ticks\":\"\",\"zerolinecolor\":\"white\",\"gridwidth\":2},\"yaxis\":{\"backgroundcolor\":\"#E5ECF6\",\"gridcolor\":\"white\",\"linecolor\":\"white\",\"showbackground\":true,\"ticks\":\"\",\"zerolinecolor\":\"white\",\"gridwidth\":2},\"zaxis\":{\"backgroundcolor\":\"#E5ECF6\",\"gridcolor\":\"white\",\"linecolor\":\"white\",\"showbackground\":true,\"ticks\":\"\",\"zerolinecolor\":\"white\",\"gridwidth\":2}},\"shapedefaults\":{\"line\":{\"color\":\"#2a3f5f\"}},\"annotationdefaults\":{\"arrowcolor\":\"#2a3f5f\",\"arrowhead\":0,\"arrowwidth\":1},\"geo\":{\"bgcolor\":\"white\",\"landcolor\":\"#E5ECF6\",\"subunitcolor\":\"white\",\"showland\":true,\"showlakes\":true,\"lakecolor\":\"white\"},\"title\":{\"x\":0.05},\"mapbox\":{\"style\":\"light\"}}},\"xaxis\":{\"anchor\":\"y\",\"domain\":[0.0,1.0],\"title\":{\"text\":\"Date\"}},\"yaxis\":{\"anchor\":\"x\",\"domain\":[0.0,1.0],\"title\":{\"text\":\"Global Reactive Power\"}},\"legend\":{\"tracegroupgap\":0},\"title\":{\"text\":\"Global Reactive Power Over Time (Daily)\",\"x\":0.5},\"font\":{\"color\":\"lightgray\"},\"plot_bgcolor\":\"rgb(35, 35, 35)\",\"paper_bgcolor\":\"rgb(25, 25, 25)\"},                        {\"responsive\": true}                    ).then(function(){\n",
              "                            \n",
              "var gd = document.getElementById('30d9b8ee-8d7c-44c4-bb77-626b8c34a7b0');\n",
              "var x = new MutationObserver(function (mutations, observer) {{\n",
              "        var display = window.getComputedStyle(gd).display;\n",
              "        if (!display || display === 'none') {{\n",
              "            console.log([gd, 'removed!']);\n",
              "            Plotly.purge(gd);\n",
              "            observer.disconnect();\n",
              "        }}\n",
              "}});\n",
              "\n",
              "// Listen for the removal of the full notebook cells\n",
              "var notebookContainer = gd.closest('#notebook-container');\n",
              "if (notebookContainer) {{\n",
              "    x.observe(notebookContainer, {childList: true});\n",
              "}}\n",
              "\n",
              "// Listen for the clearing of the current output cell\n",
              "var outputEl = gd.closest('.output');\n",
              "if (outputEl) {{\n",
              "    x.observe(outputEl, {childList: true});\n",
              "}}\n",
              "\n",
              "                        })                };                            </script>        </div>\n",
              "</body>\n",
              "</html>"
            ]
          },
          "metadata": {}
        },
        {
          "output_type": "display_data",
          "data": {
            "text/html": [
              "<html>\n",
              "<head><meta charset=\"utf-8\" /></head>\n",
              "<body>\n",
              "    <div>            <script src=\"https://cdnjs.cloudflare.com/ajax/libs/mathjax/2.7.5/MathJax.js?config=TeX-AMS-MML_SVG\"></script><script type=\"text/javascript\">if (window.MathJax && window.MathJax.Hub && window.MathJax.Hub.Config) {window.MathJax.Hub.Config({SVG: {font: \"STIX-Web\"}});}</script>                <script type=\"text/javascript\">window.PlotlyConfig = {MathJaxConfig: 'local'};</script>\n",
              "        <script charset=\"utf-8\" src=\"https://cdn.plot.ly/plotly-2.24.1.min.js\"></script>                <div id=\"f315cfa0-3b86-4856-9e0a-975c8a8874da\" class=\"plotly-graph-div\" style=\"height:525px; width:100%;\"></div>            <script type=\"text/javascript\">                                    window.PLOTLYENV=window.PLOTLYENV || {};                                    if (document.getElementById(\"f315cfa0-3b86-4856-9e0a-975c8a8874da\")) {                    Plotly.newPlot(                        \"f315cfa0-3b86-4856-9e0a-975c8a8874da\",                        [{\"hovertemplate\":\"Date_time=%{x}\\u003cbr\\u003eVoltage=%{y}\\u003cextra\\u003e\\u003c\\u002fextra\\u003e\",\"legendgroup\":\"\",\"line\":{\"color\":\"#636efa\",\"dash\":\"solid\"},\"marker\":{\"symbol\":\"circle\"},\"mode\":\"lines\",\"name\":\"\",\"showlegend\":false,\"x\":[\"2006-12-16T00:00:00\",\"2006-12-17T00:00:00\",\"2006-12-18T00:00:00\",\"2006-12-19T00:00:00\",\"2006-12-20T00:00:00\",\"2006-12-21T00:00:00\",\"2006-12-22T00:00:00\",\"2006-12-23T00:00:00\",\"2006-12-24T00:00:00\",\"2006-12-25T00:00:00\",\"2006-12-26T00:00:00\",\"2006-12-27T00:00:00\",\"2006-12-28T00:00:00\",\"2006-12-29T00:00:00\",\"2006-12-30T00:00:00\",\"2006-12-31T00:00:00\",\"2007-01-01T00:00:00\",\"2007-01-02T00:00:00\",\"2007-01-03T00:00:00\",\"2007-01-04T00:00:00\",\"2007-01-05T00:00:00\",\"2007-01-06T00:00:00\",\"2007-01-07T00:00:00\",\"2007-01-08T00:00:00\",\"2007-01-09T00:00:00\",\"2007-01-10T00:00:00\",\"2007-01-11T00:00:00\",\"2007-01-12T00:00:00\",\"2007-01-13T00:00:00\",\"2007-01-14T00:00:00\",\"2007-01-15T00:00:00\",\"2007-01-16T00:00:00\",\"2007-01-17T00:00:00\",\"2007-01-18T00:00:00\",\"2007-01-19T00:00:00\",\"2007-01-20T00:00:00\",\"2007-01-21T00:00:00\",\"2007-01-22T00:00:00\",\"2007-01-23T00:00:00\",\"2007-01-24T00:00:00\",\"2007-01-25T00:00:00\",\"2007-01-26T00:00:00\",\"2007-01-27T00:00:00\",\"2007-01-28T00:00:00\",\"2007-01-29T00:00:00\",\"2007-01-30T00:00:00\",\"2007-01-31T00:00:00\",\"2007-02-01T00:00:00\",\"2007-02-02T00:00:00\",\"2007-02-03T00:00:00\",\"2007-02-04T00:00:00\",\"2007-02-05T00:00:00\",\"2007-02-06T00:00:00\",\"2007-02-07T00:00:00\",\"2007-02-08T00:00:00\",\"2007-02-09T00:00:00\",\"2007-02-10T00:00:00\",\"2007-02-11T00:00:00\",\"2007-02-12T00:00:00\",\"2007-02-13T00:00:00\",\"2007-02-14T00:00:00\",\"2007-02-15T00:00:00\",\"2007-02-16T00:00:00\",\"2007-02-17T00:00:00\",\"2007-02-18T00:00:00\",\"2007-02-19T00:00:00\",\"2007-02-20T00:00:00\",\"2007-02-21T00:00:00\",\"2007-02-22T00:00:00\",\"2007-02-23T00:00:00\",\"2007-02-24T00:00:00\",\"2007-02-25T00:00:00\",\"2007-02-26T00:00:00\",\"2007-02-27T00:00:00\",\"2007-02-28T00:00:00\",\"2007-03-01T00:00:00\",\"2007-03-02T00:00:00\",\"2007-03-03T00:00:00\",\"2007-03-04T00:00:00\",\"2007-03-05T00:00:00\",\"2007-03-06T00:00:00\",\"2007-03-07T00:00:00\",\"2007-03-08T00:00:00\",\"2007-03-09T00:00:00\",\"2007-03-10T00:00:00\",\"2007-03-11T00:00:00\",\"2007-03-12T00:00:00\",\"2007-03-13T00:00:00\",\"2007-03-14T00:00:00\",\"2007-03-15T00:00:00\",\"2007-03-16T00:00:00\",\"2007-03-17T00:00:00\",\"2007-03-18T00:00:00\",\"2007-03-19T00:00:00\",\"2007-03-20T00:00:00\",\"2007-03-21T00:00:00\",\"2007-03-22T00:00:00\",\"2007-03-23T00:00:00\",\"2007-03-24T00:00:00\",\"2007-03-25T00:00:00\",\"2007-03-26T00:00:00\",\"2007-03-27T00:00:00\",\"2007-03-28T00:00:00\",\"2007-03-29T00:00:00\",\"2007-03-30T00:00:00\",\"2007-03-31T00:00:00\",\"2007-04-01T00:00:00\",\"2007-04-02T00:00:00\",\"2007-04-03T00:00:00\",\"2007-04-04T00:00:00\",\"2007-04-05T00:00:00\",\"2007-04-06T00:00:00\",\"2007-04-07T00:00:00\",\"2007-04-08T00:00:00\",\"2007-04-09T00:00:00\",\"2007-04-10T00:00:00\",\"2007-04-11T00:00:00\",\"2007-04-12T00:00:00\",\"2007-04-13T00:00:00\",\"2007-04-14T00:00:00\",\"2007-04-15T00:00:00\",\"2007-04-16T00:00:00\",\"2007-04-17T00:00:00\",\"2007-04-18T00:00:00\",\"2007-04-19T00:00:00\",\"2007-04-20T00:00:00\",\"2007-04-21T00:00:00\",\"2007-04-22T00:00:00\",\"2007-04-23T00:00:00\",\"2007-04-24T00:00:00\",\"2007-04-25T00:00:00\",\"2007-04-26T00:00:00\",\"2007-04-27T00:00:00\",\"2007-04-28T00:00:00\",\"2007-04-29T00:00:00\",\"2007-04-30T00:00:00\",\"2007-05-01T00:00:00\",\"2007-05-02T00:00:00\",\"2007-05-03T00:00:00\",\"2007-05-04T00:00:00\",\"2007-05-05T00:00:00\",\"2007-05-06T00:00:00\",\"2007-05-07T00:00:00\",\"2007-05-08T00:00:00\",\"2007-05-09T00:00:00\",\"2007-05-10T00:00:00\",\"2007-05-11T00:00:00\",\"2007-05-12T00:00:00\",\"2007-05-13T00:00:00\",\"2007-05-14T00:00:00\",\"2007-05-15T00:00:00\",\"2007-05-16T00:00:00\",\"2007-05-17T00:00:00\",\"2007-05-18T00:00:00\",\"2007-05-19T00:00:00\",\"2007-05-20T00:00:00\",\"2007-05-21T00:00:00\",\"2007-05-22T00:00:00\",\"2007-05-23T00:00:00\",\"2007-05-24T00:00:00\",\"2007-05-25T00:00:00\",\"2007-05-26T00:00:00\",\"2007-05-27T00:00:00\",\"2007-05-28T00:00:00\",\"2007-05-29T00:00:00\",\"2007-05-30T00:00:00\",\"2007-05-31T00:00:00\",\"2007-06-01T00:00:00\",\"2007-06-02T00:00:00\",\"2007-06-03T00:00:00\",\"2007-06-04T00:00:00\",\"2007-06-05T00:00:00\",\"2007-06-06T00:00:00\",\"2007-06-07T00:00:00\",\"2007-06-08T00:00:00\",\"2007-06-09T00:00:00\",\"2007-06-10T00:00:00\",\"2007-06-11T00:00:00\",\"2007-06-12T00:00:00\",\"2007-06-13T00:00:00\",\"2007-06-14T00:00:00\",\"2007-06-15T00:00:00\",\"2007-06-16T00:00:00\",\"2007-06-17T00:00:00\",\"2007-06-18T00:00:00\",\"2007-06-19T00:00:00\",\"2007-06-20T00:00:00\",\"2007-06-21T00:00:00\",\"2007-06-22T00:00:00\",\"2007-06-23T00:00:00\",\"2007-06-24T00:00:00\",\"2007-06-25T00:00:00\",\"2007-06-26T00:00:00\",\"2007-06-27T00:00:00\",\"2007-06-28T00:00:00\",\"2007-06-29T00:00:00\",\"2007-06-30T00:00:00\",\"2007-07-01T00:00:00\",\"2007-07-02T00:00:00\",\"2007-07-03T00:00:00\",\"2007-07-04T00:00:00\",\"2007-07-05T00:00:00\",\"2007-07-06T00:00:00\",\"2007-07-07T00:00:00\",\"2007-07-08T00:00:00\",\"2007-07-09T00:00:00\",\"2007-07-10T00:00:00\",\"2007-07-11T00:00:00\",\"2007-07-12T00:00:00\",\"2007-07-13T00:00:00\",\"2007-07-14T00:00:00\",\"2007-07-15T00:00:00\",\"2007-07-16T00:00:00\",\"2007-07-17T00:00:00\",\"2007-07-18T00:00:00\",\"2007-07-19T00:00:00\",\"2007-07-20T00:00:00\",\"2007-07-21T00:00:00\",\"2007-07-22T00:00:00\",\"2007-07-23T00:00:00\",\"2007-07-24T00:00:00\",\"2007-07-25T00:00:00\",\"2007-07-26T00:00:00\",\"2007-07-27T00:00:00\",\"2007-07-28T00:00:00\",\"2007-07-29T00:00:00\",\"2007-07-30T00:00:00\",\"2007-07-31T00:00:00\",\"2007-08-01T00:00:00\",\"2007-08-02T00:00:00\",\"2007-08-03T00:00:00\",\"2007-08-04T00:00:00\",\"2007-08-05T00:00:00\",\"2007-08-06T00:00:00\",\"2007-08-07T00:00:00\",\"2007-08-08T00:00:00\",\"2007-08-09T00:00:00\",\"2007-08-10T00:00:00\",\"2007-08-11T00:00:00\",\"2007-08-12T00:00:00\",\"2007-08-13T00:00:00\",\"2007-08-14T00:00:00\",\"2007-08-15T00:00:00\",\"2007-08-16T00:00:00\",\"2007-08-17T00:00:00\",\"2007-08-18T00:00:00\",\"2007-08-19T00:00:00\",\"2007-08-20T00:00:00\",\"2007-08-21T00:00:00\",\"2007-08-22T00:00:00\",\"2007-08-23T00:00:00\",\"2007-08-24T00:00:00\",\"2007-08-25T00:00:00\",\"2007-08-26T00:00:00\",\"2007-08-27T00:00:00\",\"2007-08-28T00:00:00\",\"2007-08-29T00:00:00\",\"2007-08-30T00:00:00\",\"2007-08-31T00:00:00\",\"2007-09-01T00:00:00\",\"2007-09-02T00:00:00\",\"2007-09-03T00:00:00\",\"2007-09-04T00:00:00\",\"2007-09-05T00:00:00\",\"2007-09-06T00:00:00\",\"2007-09-07T00:00:00\",\"2007-09-08T00:00:00\",\"2007-09-09T00:00:00\",\"2007-09-10T00:00:00\",\"2007-09-11T00:00:00\",\"2007-09-12T00:00:00\",\"2007-09-13T00:00:00\",\"2007-09-14T00:00:00\",\"2007-09-15T00:00:00\",\"2007-09-16T00:00:00\",\"2007-09-17T00:00:00\",\"2007-09-18T00:00:00\",\"2007-09-19T00:00:00\",\"2007-09-20T00:00:00\",\"2007-09-21T00:00:00\",\"2007-09-22T00:00:00\",\"2007-09-23T00:00:00\",\"2007-09-24T00:00:00\",\"2007-09-25T00:00:00\",\"2007-09-26T00:00:00\",\"2007-09-27T00:00:00\",\"2007-09-28T00:00:00\",\"2007-09-29T00:00:00\",\"2007-09-30T00:00:00\",\"2007-10-01T00:00:00\",\"2007-10-02T00:00:00\",\"2007-10-03T00:00:00\",\"2007-10-04T00:00:00\",\"2007-10-05T00:00:00\",\"2007-10-06T00:00:00\",\"2007-10-07T00:00:00\",\"2007-10-08T00:00:00\",\"2007-10-09T00:00:00\",\"2007-10-10T00:00:00\",\"2007-10-11T00:00:00\",\"2007-10-12T00:00:00\",\"2007-10-13T00:00:00\",\"2007-10-14T00:00:00\",\"2007-10-15T00:00:00\",\"2007-10-16T00:00:00\",\"2007-10-17T00:00:00\",\"2007-10-18T00:00:00\",\"2007-10-19T00:00:00\",\"2007-10-20T00:00:00\",\"2007-10-21T00:00:00\",\"2007-10-22T00:00:00\",\"2007-10-23T00:00:00\",\"2007-10-24T00:00:00\",\"2007-10-25T00:00:00\",\"2007-10-26T00:00:00\",\"2007-10-27T00:00:00\",\"2007-10-28T00:00:00\",\"2007-10-29T00:00:00\",\"2007-10-30T00:00:00\",\"2007-10-31T00:00:00\",\"2007-11-01T00:00:00\",\"2007-11-02T00:00:00\",\"2007-11-03T00:00:00\",\"2007-11-04T00:00:00\",\"2007-11-05T00:00:00\",\"2007-11-06T00:00:00\",\"2007-11-07T00:00:00\",\"2007-11-08T00:00:00\",\"2007-11-09T00:00:00\",\"2007-11-10T00:00:00\",\"2007-11-11T00:00:00\",\"2007-11-12T00:00:00\",\"2007-11-13T00:00:00\",\"2007-11-14T00:00:00\",\"2007-11-15T00:00:00\",\"2007-11-16T00:00:00\",\"2007-11-17T00:00:00\",\"2007-11-18T00:00:00\",\"2007-11-19T00:00:00\",\"2007-11-20T00:00:00\",\"2007-11-21T00:00:00\",\"2007-11-22T00:00:00\",\"2007-11-23T00:00:00\",\"2007-11-24T00:00:00\",\"2007-11-25T00:00:00\",\"2007-11-26T00:00:00\",\"2007-11-27T00:00:00\",\"2007-11-28T00:00:00\",\"2007-11-29T00:00:00\",\"2007-11-30T00:00:00\",\"2007-12-01T00:00:00\",\"2007-12-02T00:00:00\",\"2007-12-03T00:00:00\",\"2007-12-04T00:00:00\",\"2007-12-05T00:00:00\",\"2007-12-06T00:00:00\",\"2007-12-07T00:00:00\",\"2007-12-08T00:00:00\",\"2007-12-09T00:00:00\",\"2007-12-10T00:00:00\",\"2007-12-11T00:00:00\",\"2007-12-12T00:00:00\",\"2007-12-13T00:00:00\",\"2007-12-14T00:00:00\",\"2007-12-15T00:00:00\",\"2007-12-16T00:00:00\",\"2007-12-17T00:00:00\",\"2007-12-18T00:00:00\",\"2007-12-19T00:00:00\",\"2007-12-20T00:00:00\",\"2007-12-21T00:00:00\",\"2007-12-22T00:00:00\",\"2007-12-23T00:00:00\",\"2007-12-24T00:00:00\",\"2007-12-25T00:00:00\",\"2007-12-26T00:00:00\",\"2007-12-27T00:00:00\",\"2007-12-28T00:00:00\",\"2007-12-29T00:00:00\",\"2007-12-30T00:00:00\",\"2007-12-31T00:00:00\",\"2008-01-01T00:00:00\",\"2008-01-02T00:00:00\",\"2008-01-03T00:00:00\",\"2008-01-04T00:00:00\",\"2008-01-05T00:00:00\",\"2008-01-06T00:00:00\",\"2008-01-07T00:00:00\",\"2008-01-08T00:00:00\",\"2008-01-09T00:00:00\",\"2008-01-10T00:00:00\",\"2008-01-11T00:00:00\",\"2008-01-12T00:00:00\",\"2008-01-13T00:00:00\",\"2008-01-14T00:00:00\",\"2008-01-15T00:00:00\",\"2008-01-16T00:00:00\",\"2008-01-17T00:00:00\",\"2008-01-18T00:00:00\",\"2008-01-19T00:00:00\",\"2008-01-20T00:00:00\",\"2008-01-21T00:00:00\",\"2008-01-22T00:00:00\",\"2008-01-23T00:00:00\",\"2008-01-24T00:00:00\",\"2008-01-25T00:00:00\",\"2008-01-26T00:00:00\",\"2008-01-27T00:00:00\",\"2008-01-28T00:00:00\",\"2008-01-29T00:00:00\",\"2008-01-30T00:00:00\",\"2008-01-31T00:00:00\",\"2008-02-01T00:00:00\",\"2008-02-02T00:00:00\",\"2008-02-03T00:00:00\",\"2008-02-04T00:00:00\",\"2008-02-05T00:00:00\",\"2008-02-06T00:00:00\",\"2008-02-07T00:00:00\",\"2008-02-08T00:00:00\",\"2008-02-09T00:00:00\",\"2008-02-10T00:00:00\",\"2008-02-11T00:00:00\",\"2008-02-12T00:00:00\",\"2008-02-13T00:00:00\",\"2008-02-14T00:00:00\",\"2008-02-15T00:00:00\",\"2008-02-16T00:00:00\",\"2008-02-17T00:00:00\",\"2008-02-18T00:00:00\",\"2008-02-19T00:00:00\",\"2008-02-20T00:00:00\",\"2008-02-21T00:00:00\",\"2008-02-22T00:00:00\",\"2008-02-23T00:00:00\",\"2008-02-24T00:00:00\",\"2008-02-25T00:00:00\",\"2008-02-26T00:00:00\",\"2008-02-27T00:00:00\",\"2008-02-28T00:00:00\",\"2008-02-29T00:00:00\",\"2008-03-01T00:00:00\",\"2008-03-02T00:00:00\",\"2008-03-03T00:00:00\",\"2008-03-04T00:00:00\",\"2008-03-05T00:00:00\",\"2008-03-06T00:00:00\",\"2008-03-07T00:00:00\",\"2008-03-08T00:00:00\",\"2008-03-09T00:00:00\",\"2008-03-10T00:00:00\",\"2008-03-11T00:00:00\",\"2008-03-12T00:00:00\",\"2008-03-13T00:00:00\",\"2008-03-14T00:00:00\",\"2008-03-15T00:00:00\",\"2008-03-16T00:00:00\",\"2008-03-17T00:00:00\",\"2008-03-18T00:00:00\",\"2008-03-19T00:00:00\",\"2008-03-20T00:00:00\",\"2008-03-21T00:00:00\",\"2008-03-22T00:00:00\",\"2008-03-23T00:00:00\",\"2008-03-24T00:00:00\",\"2008-03-25T00:00:00\",\"2008-03-26T00:00:00\",\"2008-03-27T00:00:00\",\"2008-03-28T00:00:00\",\"2008-03-29T00:00:00\",\"2008-03-30T00:00:00\",\"2008-03-31T00:00:00\",\"2008-04-01T00:00:00\",\"2008-04-02T00:00:00\",\"2008-04-03T00:00:00\",\"2008-04-04T00:00:00\",\"2008-04-05T00:00:00\",\"2008-04-06T00:00:00\",\"2008-04-07T00:00:00\",\"2008-04-08T00:00:00\",\"2008-04-09T00:00:00\",\"2008-04-10T00:00:00\",\"2008-04-11T00:00:00\",\"2008-04-12T00:00:00\",\"2008-04-13T00:00:00\",\"2008-04-14T00:00:00\",\"2008-04-15T00:00:00\",\"2008-04-16T00:00:00\",\"2008-04-17T00:00:00\",\"2008-04-18T00:00:00\",\"2008-04-19T00:00:00\",\"2008-04-20T00:00:00\",\"2008-04-21T00:00:00\",\"2008-04-22T00:00:00\",\"2008-04-23T00:00:00\",\"2008-04-24T00:00:00\",\"2008-04-25T00:00:00\",\"2008-04-26T00:00:00\",\"2008-04-27T00:00:00\",\"2008-04-28T00:00:00\",\"2008-04-29T00:00:00\",\"2008-04-30T00:00:00\",\"2008-05-01T00:00:00\",\"2008-05-02T00:00:00\",\"2008-05-03T00:00:00\",\"2008-05-04T00:00:00\",\"2008-05-05T00:00:00\",\"2008-05-06T00:00:00\",\"2008-05-07T00:00:00\",\"2008-05-08T00:00:00\",\"2008-05-09T00:00:00\",\"2008-05-10T00:00:00\",\"2008-05-11T00:00:00\",\"2008-05-12T00:00:00\",\"2008-05-13T00:00:00\",\"2008-05-14T00:00:00\",\"2008-05-15T00:00:00\",\"2008-05-16T00:00:00\",\"2008-05-17T00:00:00\",\"2008-05-18T00:00:00\",\"2008-05-19T00:00:00\",\"2008-05-20T00:00:00\",\"2008-05-21T00:00:00\",\"2008-05-22T00:00:00\",\"2008-05-23T00:00:00\",\"2008-05-24T00:00:00\",\"2008-05-25T00:00:00\",\"2008-05-26T00:00:00\",\"2008-05-27T00:00:00\",\"2008-05-28T00:00:00\",\"2008-05-29T00:00:00\",\"2008-05-30T00:00:00\",\"2008-05-31T00:00:00\",\"2008-06-01T00:00:00\",\"2008-06-02T00:00:00\",\"2008-06-03T00:00:00\",\"2008-06-04T00:00:00\",\"2008-06-05T00:00:00\",\"2008-06-06T00:00:00\",\"2008-06-07T00:00:00\",\"2008-06-08T00:00:00\",\"2008-06-09T00:00:00\",\"2008-06-10T00:00:00\",\"2008-06-11T00:00:00\",\"2008-06-12T00:00:00\",\"2008-06-13T00:00:00\",\"2008-06-14T00:00:00\",\"2008-06-15T00:00:00\",\"2008-06-16T00:00:00\",\"2008-06-17T00:00:00\",\"2008-06-18T00:00:00\",\"2008-06-19T00:00:00\",\"2008-06-20T00:00:00\",\"2008-06-21T00:00:00\",\"2008-06-22T00:00:00\",\"2008-06-23T00:00:00\",\"2008-06-24T00:00:00\",\"2008-06-25T00:00:00\",\"2008-06-26T00:00:00\",\"2008-06-27T00:00:00\",\"2008-06-28T00:00:00\",\"2008-06-29T00:00:00\",\"2008-06-30T00:00:00\",\"2008-07-01T00:00:00\",\"2008-07-02T00:00:00\",\"2008-07-03T00:00:00\",\"2008-07-04T00:00:00\",\"2008-07-05T00:00:00\",\"2008-07-06T00:00:00\",\"2008-07-07T00:00:00\",\"2008-07-08T00:00:00\",\"2008-07-09T00:00:00\",\"2008-07-10T00:00:00\",\"2008-07-11T00:00:00\",\"2008-07-12T00:00:00\",\"2008-07-13T00:00:00\",\"2008-07-14T00:00:00\",\"2008-07-15T00:00:00\",\"2008-07-16T00:00:00\",\"2008-07-17T00:00:00\",\"2008-07-18T00:00:00\",\"2008-07-19T00:00:00\",\"2008-07-20T00:00:00\",\"2008-07-21T00:00:00\",\"2008-07-22T00:00:00\",\"2008-07-23T00:00:00\",\"2008-07-24T00:00:00\",\"2008-07-25T00:00:00\",\"2008-07-26T00:00:00\",\"2008-07-27T00:00:00\",\"2008-07-28T00:00:00\",\"2008-07-29T00:00:00\",\"2008-07-30T00:00:00\",\"2008-07-31T00:00:00\",\"2008-08-01T00:00:00\",\"2008-08-02T00:00:00\",\"2008-08-03T00:00:00\",\"2008-08-04T00:00:00\",\"2008-08-05T00:00:00\",\"2008-08-06T00:00:00\",\"2008-08-07T00:00:00\",\"2008-08-08T00:00:00\",\"2008-08-09T00:00:00\",\"2008-08-10T00:00:00\",\"2008-08-11T00:00:00\",\"2008-08-12T00:00:00\",\"2008-08-13T00:00:00\",\"2008-08-14T00:00:00\",\"2008-08-15T00:00:00\",\"2008-08-16T00:00:00\",\"2008-08-17T00:00:00\",\"2008-08-18T00:00:00\",\"2008-08-19T00:00:00\",\"2008-08-20T00:00:00\",\"2008-08-21T00:00:00\",\"2008-08-22T00:00:00\",\"2008-08-23T00:00:00\",\"2008-08-24T00:00:00\",\"2008-08-25T00:00:00\",\"2008-08-26T00:00:00\",\"2008-08-27T00:00:00\",\"2008-08-28T00:00:00\",\"2008-08-29T00:00:00\",\"2008-08-30T00:00:00\",\"2008-08-31T00:00:00\",\"2008-09-01T00:00:00\",\"2008-09-02T00:00:00\",\"2008-09-03T00:00:00\",\"2008-09-04T00:00:00\",\"2008-09-05T00:00:00\",\"2008-09-06T00:00:00\",\"2008-09-07T00:00:00\",\"2008-09-08T00:00:00\",\"2008-09-09T00:00:00\",\"2008-09-10T00:00:00\",\"2008-09-11T00:00:00\",\"2008-09-12T00:00:00\",\"2008-09-13T00:00:00\",\"2008-09-14T00:00:00\",\"2008-09-15T00:00:00\",\"2008-09-16T00:00:00\",\"2008-09-17T00:00:00\",\"2008-09-18T00:00:00\",\"2008-09-19T00:00:00\",\"2008-09-20T00:00:00\",\"2008-09-21T00:00:00\",\"2008-09-22T00:00:00\",\"2008-09-23T00:00:00\",\"2008-09-24T00:00:00\",\"2008-09-25T00:00:00\",\"2008-09-26T00:00:00\",\"2008-09-27T00:00:00\",\"2008-09-28T00:00:00\",\"2008-09-29T00:00:00\",\"2008-09-30T00:00:00\",\"2008-10-01T00:00:00\",\"2008-10-02T00:00:00\",\"2008-10-03T00:00:00\",\"2008-10-04T00:00:00\",\"2008-10-05T00:00:00\",\"2008-10-06T00:00:00\",\"2008-10-07T00:00:00\",\"2008-10-08T00:00:00\",\"2008-10-09T00:00:00\",\"2008-10-10T00:00:00\",\"2008-10-11T00:00:00\",\"2008-10-12T00:00:00\",\"2008-10-13T00:00:00\",\"2008-10-14T00:00:00\",\"2008-10-15T00:00:00\",\"2008-10-16T00:00:00\",\"2008-10-17T00:00:00\",\"2008-10-18T00:00:00\",\"2008-10-19T00:00:00\",\"2008-10-20T00:00:00\",\"2008-10-21T00:00:00\",\"2008-10-22T00:00:00\",\"2008-10-23T00:00:00\",\"2008-10-24T00:00:00\",\"2008-10-25T00:00:00\",\"2008-10-26T00:00:00\",\"2008-10-27T00:00:00\",\"2008-10-28T00:00:00\",\"2008-10-29T00:00:00\",\"2008-10-30T00:00:00\",\"2008-10-31T00:00:00\",\"2008-11-01T00:00:00\",\"2008-11-02T00:00:00\",\"2008-11-03T00:00:00\",\"2008-11-04T00:00:00\",\"2008-11-05T00:00:00\",\"2008-11-06T00:00:00\",\"2008-11-07T00:00:00\",\"2008-11-08T00:00:00\",\"2008-11-09T00:00:00\",\"2008-11-10T00:00:00\",\"2008-11-11T00:00:00\",\"2008-11-12T00:00:00\",\"2008-11-13T00:00:00\",\"2008-11-14T00:00:00\",\"2008-11-15T00:00:00\",\"2008-11-16T00:00:00\",\"2008-11-17T00:00:00\",\"2008-11-18T00:00:00\",\"2008-11-19T00:00:00\",\"2008-11-20T00:00:00\",\"2008-11-21T00:00:00\",\"2008-11-22T00:00:00\",\"2008-11-23T00:00:00\",\"2008-11-24T00:00:00\",\"2008-11-25T00:00:00\",\"2008-11-26T00:00:00\",\"2008-11-27T00:00:00\",\"2008-11-28T00:00:00\",\"2008-11-29T00:00:00\",\"2008-11-30T00:00:00\",\"2008-12-01T00:00:00\",\"2008-12-02T00:00:00\",\"2008-12-03T00:00:00\",\"2008-12-04T00:00:00\",\"2008-12-05T00:00:00\",\"2008-12-06T00:00:00\",\"2008-12-07T00:00:00\",\"2008-12-08T00:00:00\",\"2008-12-09T00:00:00\",\"2008-12-10T00:00:00\",\"2008-12-11T00:00:00\",\"2008-12-12T00:00:00\",\"2008-12-13T00:00:00\",\"2008-12-14T00:00:00\",\"2008-12-15T00:00:00\",\"2008-12-16T00:00:00\",\"2008-12-17T00:00:00\",\"2008-12-18T00:00:00\",\"2008-12-19T00:00:00\",\"2008-12-20T00:00:00\",\"2008-12-21T00:00:00\",\"2008-12-22T00:00:00\",\"2008-12-23T00:00:00\",\"2008-12-24T00:00:00\",\"2008-12-25T00:00:00\",\"2008-12-26T00:00:00\",\"2008-12-27T00:00:00\",\"2008-12-28T00:00:00\",\"2008-12-29T00:00:00\",\"2008-12-30T00:00:00\",\"2008-12-31T00:00:00\",\"2009-01-01T00:00:00\",\"2009-01-02T00:00:00\",\"2009-01-03T00:00:00\",\"2009-01-04T00:00:00\",\"2009-01-05T00:00:00\",\"2009-01-06T00:00:00\",\"2009-01-07T00:00:00\",\"2009-01-08T00:00:00\",\"2009-01-09T00:00:00\",\"2009-01-10T00:00:00\",\"2009-01-11T00:00:00\",\"2009-01-12T00:00:00\",\"2009-01-13T00:00:00\",\"2009-01-14T00:00:00\",\"2009-01-15T00:00:00\",\"2009-01-16T00:00:00\",\"2009-01-17T00:00:00\",\"2009-01-18T00:00:00\",\"2009-01-19T00:00:00\",\"2009-01-20T00:00:00\",\"2009-01-21T00:00:00\",\"2009-01-22T00:00:00\",\"2009-01-23T00:00:00\",\"2009-01-24T00:00:00\",\"2009-01-25T00:00:00\",\"2009-01-26T00:00:00\",\"2009-01-27T00:00:00\",\"2009-01-28T00:00:00\",\"2009-01-29T00:00:00\",\"2009-01-30T00:00:00\",\"2009-01-31T00:00:00\",\"2009-02-01T00:00:00\",\"2009-02-02T00:00:00\",\"2009-02-03T00:00:00\",\"2009-02-04T00:00:00\",\"2009-02-05T00:00:00\",\"2009-02-06T00:00:00\",\"2009-02-07T00:00:00\",\"2009-02-08T00:00:00\",\"2009-02-09T00:00:00\",\"2009-02-10T00:00:00\",\"2009-02-11T00:00:00\",\"2009-02-12T00:00:00\",\"2009-02-13T00:00:00\",\"2009-02-14T00:00:00\",\"2009-02-15T00:00:00\",\"2009-02-16T00:00:00\",\"2009-02-17T00:00:00\",\"2009-02-18T00:00:00\",\"2009-02-19T00:00:00\",\"2009-02-20T00:00:00\",\"2009-02-21T00:00:00\",\"2009-02-22T00:00:00\",\"2009-02-23T00:00:00\",\"2009-02-24T00:00:00\",\"2009-02-25T00:00:00\",\"2009-02-26T00:00:00\",\"2009-02-27T00:00:00\",\"2009-02-28T00:00:00\",\"2009-03-01T00:00:00\",\"2009-03-02T00:00:00\",\"2009-03-03T00:00:00\",\"2009-03-04T00:00:00\",\"2009-03-05T00:00:00\",\"2009-03-06T00:00:00\",\"2009-03-07T00:00:00\",\"2009-03-08T00:00:00\",\"2009-03-09T00:00:00\",\"2009-03-10T00:00:00\",\"2009-03-11T00:00:00\",\"2009-03-12T00:00:00\",\"2009-03-13T00:00:00\",\"2009-03-14T00:00:00\",\"2009-03-15T00:00:00\",\"2009-03-16T00:00:00\",\"2009-03-17T00:00:00\",\"2009-03-18T00:00:00\",\"2009-03-19T00:00:00\",\"2009-03-20T00:00:00\",\"2009-03-21T00:00:00\",\"2009-03-22T00:00:00\",\"2009-03-23T00:00:00\",\"2009-03-24T00:00:00\",\"2009-03-25T00:00:00\",\"2009-03-26T00:00:00\",\"2009-03-27T00:00:00\",\"2009-03-28T00:00:00\",\"2009-03-29T00:00:00\",\"2009-03-30T00:00:00\",\"2009-03-31T00:00:00\",\"2009-04-01T00:00:00\",\"2009-04-02T00:00:00\",\"2009-04-03T00:00:00\",\"2009-04-04T00:00:00\",\"2009-04-05T00:00:00\",\"2009-04-06T00:00:00\",\"2009-04-07T00:00:00\",\"2009-04-08T00:00:00\",\"2009-04-09T00:00:00\",\"2009-04-10T00:00:00\",\"2009-04-11T00:00:00\",\"2009-04-12T00:00:00\",\"2009-04-13T00:00:00\",\"2009-04-14T00:00:00\",\"2009-04-15T00:00:00\",\"2009-04-16T00:00:00\",\"2009-04-17T00:00:00\",\"2009-04-18T00:00:00\",\"2009-04-19T00:00:00\",\"2009-04-20T00:00:00\",\"2009-04-21T00:00:00\",\"2009-04-22T00:00:00\",\"2009-04-23T00:00:00\",\"2009-04-24T00:00:00\",\"2009-04-25T00:00:00\",\"2009-04-26T00:00:00\",\"2009-04-27T00:00:00\",\"2009-04-28T00:00:00\",\"2009-04-29T00:00:00\",\"2009-04-30T00:00:00\",\"2009-05-01T00:00:00\",\"2009-05-02T00:00:00\",\"2009-05-03T00:00:00\",\"2009-05-04T00:00:00\",\"2009-05-05T00:00:00\",\"2009-05-06T00:00:00\",\"2009-05-07T00:00:00\",\"2009-05-08T00:00:00\",\"2009-05-09T00:00:00\",\"2009-05-10T00:00:00\",\"2009-05-11T00:00:00\",\"2009-05-12T00:00:00\",\"2009-05-13T00:00:00\",\"2009-05-14T00:00:00\",\"2009-05-15T00:00:00\",\"2009-05-16T00:00:00\",\"2009-05-17T00:00:00\",\"2009-05-18T00:00:00\",\"2009-05-19T00:00:00\",\"2009-05-20T00:00:00\",\"2009-05-21T00:00:00\",\"2009-05-22T00:00:00\",\"2009-05-23T00:00:00\",\"2009-05-24T00:00:00\",\"2009-05-25T00:00:00\",\"2009-05-26T00:00:00\",\"2009-05-27T00:00:00\",\"2009-05-28T00:00:00\",\"2009-05-29T00:00:00\",\"2009-05-30T00:00:00\",\"2009-05-31T00:00:00\",\"2009-06-01T00:00:00\",\"2009-06-02T00:00:00\",\"2009-06-03T00:00:00\",\"2009-06-04T00:00:00\",\"2009-06-05T00:00:00\",\"2009-06-06T00:00:00\",\"2009-06-07T00:00:00\",\"2009-06-08T00:00:00\",\"2009-06-09T00:00:00\",\"2009-06-10T00:00:00\",\"2009-06-11T00:00:00\",\"2009-06-12T00:00:00\",\"2009-06-13T00:00:00\",\"2009-06-14T00:00:00\",\"2009-06-15T00:00:00\",\"2009-06-16T00:00:00\",\"2009-06-17T00:00:00\",\"2009-06-18T00:00:00\",\"2009-06-19T00:00:00\",\"2009-06-20T00:00:00\",\"2009-06-21T00:00:00\",\"2009-06-22T00:00:00\",\"2009-06-23T00:00:00\",\"2009-06-24T00:00:00\",\"2009-06-25T00:00:00\",\"2009-06-26T00:00:00\",\"2009-06-27T00:00:00\",\"2009-06-28T00:00:00\",\"2009-06-29T00:00:00\",\"2009-06-30T00:00:00\",\"2009-07-01T00:00:00\",\"2009-07-02T00:00:00\",\"2009-07-03T00:00:00\",\"2009-07-04T00:00:00\",\"2009-07-05T00:00:00\",\"2009-07-06T00:00:00\",\"2009-07-07T00:00:00\",\"2009-07-08T00:00:00\",\"2009-07-09T00:00:00\",\"2009-07-10T00:00:00\",\"2009-07-11T00:00:00\",\"2009-07-12T00:00:00\",\"2009-07-13T00:00:00\",\"2009-07-14T00:00:00\",\"2009-07-15T00:00:00\",\"2009-07-16T00:00:00\",\"2009-07-17T00:00:00\",\"2009-07-18T00:00:00\",\"2009-07-19T00:00:00\",\"2009-07-20T00:00:00\",\"2009-07-21T00:00:00\",\"2009-07-22T00:00:00\",\"2009-07-23T00:00:00\",\"2009-07-24T00:00:00\",\"2009-07-25T00:00:00\",\"2009-07-26T00:00:00\",\"2009-07-27T00:00:00\",\"2009-07-28T00:00:00\",\"2009-07-29T00:00:00\",\"2009-07-30T00:00:00\",\"2009-07-31T00:00:00\",\"2009-08-01T00:00:00\",\"2009-08-02T00:00:00\",\"2009-08-03T00:00:00\",\"2009-08-04T00:00:00\",\"2009-08-05T00:00:00\",\"2009-08-06T00:00:00\",\"2009-08-07T00:00:00\",\"2009-08-08T00:00:00\",\"2009-08-09T00:00:00\",\"2009-08-10T00:00:00\",\"2009-08-11T00:00:00\",\"2009-08-12T00:00:00\",\"2009-08-13T00:00:00\",\"2009-08-14T00:00:00\",\"2009-08-15T00:00:00\",\"2009-08-16T00:00:00\",\"2009-08-17T00:00:00\",\"2009-08-18T00:00:00\",\"2009-08-19T00:00:00\",\"2009-08-20T00:00:00\",\"2009-08-21T00:00:00\",\"2009-08-22T00:00:00\",\"2009-08-23T00:00:00\",\"2009-08-24T00:00:00\",\"2009-08-25T00:00:00\",\"2009-08-26T00:00:00\",\"2009-08-27T00:00:00\",\"2009-08-28T00:00:00\",\"2009-08-29T00:00:00\",\"2009-08-30T00:00:00\",\"2009-08-31T00:00:00\",\"2009-09-01T00:00:00\",\"2009-09-02T00:00:00\",\"2009-09-03T00:00:00\",\"2009-09-04T00:00:00\",\"2009-09-05T00:00:00\",\"2009-09-06T00:00:00\",\"2009-09-07T00:00:00\",\"2009-09-08T00:00:00\",\"2009-09-09T00:00:00\",\"2009-09-10T00:00:00\",\"2009-09-11T00:00:00\",\"2009-09-12T00:00:00\",\"2009-09-13T00:00:00\",\"2009-09-14T00:00:00\",\"2009-09-15T00:00:00\",\"2009-09-16T00:00:00\",\"2009-09-17T00:00:00\",\"2009-09-18T00:00:00\",\"2009-09-19T00:00:00\",\"2009-09-20T00:00:00\",\"2009-09-21T00:00:00\",\"2009-09-22T00:00:00\",\"2009-09-23T00:00:00\",\"2009-09-24T00:00:00\",\"2009-09-25T00:00:00\",\"2009-09-26T00:00:00\",\"2009-09-27T00:00:00\",\"2009-09-28T00:00:00\",\"2009-09-29T00:00:00\",\"2009-09-30T00:00:00\",\"2009-10-01T00:00:00\",\"2009-10-02T00:00:00\",\"2009-10-03T00:00:00\",\"2009-10-04T00:00:00\",\"2009-10-05T00:00:00\",\"2009-10-06T00:00:00\",\"2009-10-07T00:00:00\",\"2009-10-08T00:00:00\",\"2009-10-09T00:00:00\",\"2009-10-10T00:00:00\",\"2009-10-11T00:00:00\",\"2009-10-12T00:00:00\",\"2009-10-13T00:00:00\",\"2009-10-14T00:00:00\",\"2009-10-15T00:00:00\",\"2009-10-16T00:00:00\",\"2009-10-17T00:00:00\",\"2009-10-18T00:00:00\",\"2009-10-19T00:00:00\",\"2009-10-20T00:00:00\",\"2009-10-21T00:00:00\",\"2009-10-22T00:00:00\",\"2009-10-23T00:00:00\",\"2009-10-24T00:00:00\",\"2009-10-25T00:00:00\",\"2009-10-26T00:00:00\",\"2009-10-27T00:00:00\",\"2009-10-28T00:00:00\",\"2009-10-29T00:00:00\",\"2009-10-30T00:00:00\",\"2009-10-31T00:00:00\",\"2009-11-01T00:00:00\",\"2009-11-02T00:00:00\",\"2009-11-03T00:00:00\",\"2009-11-04T00:00:00\",\"2009-11-05T00:00:00\",\"2009-11-06T00:00:00\",\"2009-11-07T00:00:00\",\"2009-11-08T00:00:00\",\"2009-11-09T00:00:00\",\"2009-11-10T00:00:00\",\"2009-11-11T00:00:00\",\"2009-11-12T00:00:00\",\"2009-11-13T00:00:00\",\"2009-11-14T00:00:00\",\"2009-11-15T00:00:00\",\"2009-11-16T00:00:00\",\"2009-11-17T00:00:00\",\"2009-11-18T00:00:00\",\"2009-11-19T00:00:00\",\"2009-11-20T00:00:00\",\"2009-11-21T00:00:00\",\"2009-11-22T00:00:00\",\"2009-11-23T00:00:00\",\"2009-11-24T00:00:00\",\"2009-11-25T00:00:00\",\"2009-11-26T00:00:00\",\"2009-11-27T00:00:00\",\"2009-11-28T00:00:00\",\"2009-11-29T00:00:00\",\"2009-11-30T00:00:00\",\"2009-12-01T00:00:00\",\"2009-12-02T00:00:00\",\"2009-12-03T00:00:00\",\"2009-12-04T00:00:00\",\"2009-12-05T00:00:00\",\"2009-12-06T00:00:00\",\"2009-12-07T00:00:00\",\"2009-12-08T00:00:00\",\"2009-12-09T00:00:00\",\"2009-12-10T00:00:00\",\"2009-12-11T00:00:00\",\"2009-12-12T00:00:00\",\"2009-12-13T00:00:00\",\"2009-12-14T00:00:00\",\"2009-12-15T00:00:00\",\"2009-12-16T00:00:00\",\"2009-12-17T00:00:00\",\"2009-12-18T00:00:00\",\"2009-12-19T00:00:00\",\"2009-12-20T00:00:00\",\"2009-12-21T00:00:00\",\"2009-12-22T00:00:00\",\"2009-12-23T00:00:00\",\"2009-12-24T00:00:00\",\"2009-12-25T00:00:00\",\"2009-12-26T00:00:00\",\"2009-12-27T00:00:00\",\"2009-12-28T00:00:00\",\"2009-12-29T00:00:00\",\"2009-12-30T00:00:00\",\"2009-12-31T00:00:00\",\"2010-01-01T00:00:00\",\"2010-01-02T00:00:00\",\"2010-01-03T00:00:00\",\"2010-01-04T00:00:00\",\"2010-01-05T00:00:00\",\"2010-01-06T00:00:00\",\"2010-01-07T00:00:00\",\"2010-01-08T00:00:00\",\"2010-01-09T00:00:00\",\"2010-01-10T00:00:00\",\"2010-01-11T00:00:00\",\"2010-01-12T00:00:00\",\"2010-01-13T00:00:00\",\"2010-01-14T00:00:00\",\"2010-01-15T00:00:00\",\"2010-01-16T00:00:00\",\"2010-01-17T00:00:00\",\"2010-01-18T00:00:00\",\"2010-01-19T00:00:00\",\"2010-01-20T00:00:00\",\"2010-01-21T00:00:00\",\"2010-01-22T00:00:00\",\"2010-01-23T00:00:00\",\"2010-01-24T00:00:00\",\"2010-01-25T00:00:00\",\"2010-01-26T00:00:00\",\"2010-01-27T00:00:00\",\"2010-01-28T00:00:00\",\"2010-01-29T00:00:00\",\"2010-01-30T00:00:00\",\"2010-01-31T00:00:00\",\"2010-02-01T00:00:00\",\"2010-02-02T00:00:00\",\"2010-02-03T00:00:00\",\"2010-02-04T00:00:00\",\"2010-02-05T00:00:00\",\"2010-02-06T00:00:00\",\"2010-02-07T00:00:00\",\"2010-02-08T00:00:00\",\"2010-02-09T00:00:00\",\"2010-02-10T00:00:00\",\"2010-02-11T00:00:00\",\"2010-02-12T00:00:00\",\"2010-02-13T00:00:00\",\"2010-02-14T00:00:00\",\"2010-02-15T00:00:00\",\"2010-02-16T00:00:00\",\"2010-02-17T00:00:00\",\"2010-02-18T00:00:00\",\"2010-02-19T00:00:00\",\"2010-02-20T00:00:00\",\"2010-02-21T00:00:00\",\"2010-02-22T00:00:00\",\"2010-02-23T00:00:00\",\"2010-02-24T00:00:00\",\"2010-02-25T00:00:00\",\"2010-02-26T00:00:00\",\"2010-02-27T00:00:00\",\"2010-02-28T00:00:00\",\"2010-03-01T00:00:00\",\"2010-03-02T00:00:00\",\"2010-03-03T00:00:00\",\"2010-03-04T00:00:00\",\"2010-03-05T00:00:00\",\"2010-03-06T00:00:00\",\"2010-03-07T00:00:00\",\"2010-03-08T00:00:00\",\"2010-03-09T00:00:00\",\"2010-03-10T00:00:00\",\"2010-03-11T00:00:00\",\"2010-03-12T00:00:00\",\"2010-03-13T00:00:00\",\"2010-03-14T00:00:00\",\"2010-03-15T00:00:00\",\"2010-03-16T00:00:00\",\"2010-03-17T00:00:00\",\"2010-03-18T00:00:00\",\"2010-03-19T00:00:00\",\"2010-03-20T00:00:00\",\"2010-03-21T00:00:00\",\"2010-03-22T00:00:00\",\"2010-03-23T00:00:00\",\"2010-03-24T00:00:00\",\"2010-03-25T00:00:00\",\"2010-03-26T00:00:00\",\"2010-03-27T00:00:00\",\"2010-03-28T00:00:00\",\"2010-03-29T00:00:00\",\"2010-03-30T00:00:00\",\"2010-03-31T00:00:00\",\"2010-04-01T00:00:00\",\"2010-04-02T00:00:00\",\"2010-04-03T00:00:00\",\"2010-04-04T00:00:00\",\"2010-04-05T00:00:00\",\"2010-04-06T00:00:00\",\"2010-04-07T00:00:00\",\"2010-04-08T00:00:00\",\"2010-04-09T00:00:00\",\"2010-04-10T00:00:00\",\"2010-04-11T00:00:00\",\"2010-04-12T00:00:00\",\"2010-04-13T00:00:00\",\"2010-04-14T00:00:00\",\"2010-04-15T00:00:00\",\"2010-04-16T00:00:00\",\"2010-04-17T00:00:00\",\"2010-04-18T00:00:00\",\"2010-04-19T00:00:00\",\"2010-04-20T00:00:00\",\"2010-04-21T00:00:00\",\"2010-04-22T00:00:00\",\"2010-04-23T00:00:00\",\"2010-04-24T00:00:00\",\"2010-04-25T00:00:00\",\"2010-04-26T00:00:00\",\"2010-04-27T00:00:00\",\"2010-04-28T00:00:00\",\"2010-04-29T00:00:00\",\"2010-04-30T00:00:00\",\"2010-05-01T00:00:00\",\"2010-05-02T00:00:00\",\"2010-05-03T00:00:00\",\"2010-05-04T00:00:00\",\"2010-05-05T00:00:00\",\"2010-05-06T00:00:00\",\"2010-05-07T00:00:00\",\"2010-05-08T00:00:00\",\"2010-05-09T00:00:00\",\"2010-05-10T00:00:00\",\"2010-05-11T00:00:00\",\"2010-05-12T00:00:00\",\"2010-05-13T00:00:00\",\"2010-05-14T00:00:00\",\"2010-05-15T00:00:00\",\"2010-05-16T00:00:00\",\"2010-05-17T00:00:00\",\"2010-05-18T00:00:00\",\"2010-05-19T00:00:00\",\"2010-05-20T00:00:00\",\"2010-05-21T00:00:00\",\"2010-05-22T00:00:00\",\"2010-05-23T00:00:00\",\"2010-05-24T00:00:00\",\"2010-05-25T00:00:00\",\"2010-05-26T00:00:00\",\"2010-05-27T00:00:00\",\"2010-05-28T00:00:00\",\"2010-05-29T00:00:00\",\"2010-05-30T00:00:00\",\"2010-05-31T00:00:00\",\"2010-06-01T00:00:00\",\"2010-06-02T00:00:00\",\"2010-06-03T00:00:00\",\"2010-06-04T00:00:00\",\"2010-06-05T00:00:00\",\"2010-06-06T00:00:00\",\"2010-06-07T00:00:00\",\"2010-06-08T00:00:00\",\"2010-06-09T00:00:00\",\"2010-06-10T00:00:00\",\"2010-06-11T00:00:00\",\"2010-06-12T00:00:00\",\"2010-06-13T00:00:00\",\"2010-06-14T00:00:00\",\"2010-06-15T00:00:00\",\"2010-06-16T00:00:00\",\"2010-06-17T00:00:00\",\"2010-06-18T00:00:00\",\"2010-06-19T00:00:00\",\"2010-06-20T00:00:00\",\"2010-06-21T00:00:00\",\"2010-06-22T00:00:00\",\"2010-06-23T00:00:00\",\"2010-06-24T00:00:00\",\"2010-06-25T00:00:00\",\"2010-06-26T00:00:00\",\"2010-06-27T00:00:00\",\"2010-06-28T00:00:00\",\"2010-06-29T00:00:00\",\"2010-06-30T00:00:00\",\"2010-07-01T00:00:00\",\"2010-07-02T00:00:00\",\"2010-07-03T00:00:00\",\"2010-07-04T00:00:00\",\"2010-07-05T00:00:00\",\"2010-07-06T00:00:00\",\"2010-07-07T00:00:00\",\"2010-07-08T00:00:00\",\"2010-07-09T00:00:00\",\"2010-07-10T00:00:00\",\"2010-07-11T00:00:00\",\"2010-07-12T00:00:00\",\"2010-07-13T00:00:00\",\"2010-07-14T00:00:00\",\"2010-07-15T00:00:00\",\"2010-07-16T00:00:00\",\"2010-07-17T00:00:00\",\"2010-07-18T00:00:00\",\"2010-07-19T00:00:00\",\"2010-07-20T00:00:00\",\"2010-07-21T00:00:00\",\"2010-07-22T00:00:00\",\"2010-07-23T00:00:00\",\"2010-07-24T00:00:00\",\"2010-07-25T00:00:00\",\"2010-07-26T00:00:00\",\"2010-07-27T00:00:00\",\"2010-07-28T00:00:00\",\"2010-07-29T00:00:00\",\"2010-07-30T00:00:00\",\"2010-07-31T00:00:00\",\"2010-08-01T00:00:00\",\"2010-08-02T00:00:00\",\"2010-08-03T00:00:00\",\"2010-08-04T00:00:00\",\"2010-08-05T00:00:00\",\"2010-08-06T00:00:00\",\"2010-08-07T00:00:00\",\"2010-08-08T00:00:00\",\"2010-08-09T00:00:00\",\"2010-08-10T00:00:00\",\"2010-08-11T00:00:00\",\"2010-08-12T00:00:00\",\"2010-08-13T00:00:00\",\"2010-08-14T00:00:00\",\"2010-08-15T00:00:00\",\"2010-08-16T00:00:00\",\"2010-08-17T00:00:00\",\"2010-08-18T00:00:00\",\"2010-08-19T00:00:00\",\"2010-08-20T00:00:00\",\"2010-08-21T00:00:00\",\"2010-08-22T00:00:00\",\"2010-08-23T00:00:00\",\"2010-08-24T00:00:00\",\"2010-08-25T00:00:00\",\"2010-08-26T00:00:00\",\"2010-08-27T00:00:00\",\"2010-08-28T00:00:00\",\"2010-08-29T00:00:00\",\"2010-08-30T00:00:00\",\"2010-08-31T00:00:00\",\"2010-09-01T00:00:00\",\"2010-09-02T00:00:00\",\"2010-09-03T00:00:00\",\"2010-09-04T00:00:00\",\"2010-09-05T00:00:00\",\"2010-09-06T00:00:00\",\"2010-09-07T00:00:00\",\"2010-09-08T00:00:00\",\"2010-09-09T00:00:00\",\"2010-09-10T00:00:00\",\"2010-09-11T00:00:00\",\"2010-09-12T00:00:00\",\"2010-09-13T00:00:00\",\"2010-09-14T00:00:00\",\"2010-09-15T00:00:00\",\"2010-09-16T00:00:00\",\"2010-09-17T00:00:00\",\"2010-09-18T00:00:00\",\"2010-09-19T00:00:00\",\"2010-09-20T00:00:00\",\"2010-09-21T00:00:00\",\"2010-09-22T00:00:00\",\"2010-09-23T00:00:00\",\"2010-09-24T00:00:00\",\"2010-09-25T00:00:00\",\"2010-09-26T00:00:00\",\"2010-09-27T00:00:00\",\"2010-09-28T00:00:00\",\"2010-09-29T00:00:00\",\"2010-09-30T00:00:00\",\"2010-10-01T00:00:00\",\"2010-10-02T00:00:00\",\"2010-10-03T00:00:00\",\"2010-10-04T00:00:00\",\"2010-10-05T00:00:00\",\"2010-10-06T00:00:00\",\"2010-10-07T00:00:00\",\"2010-10-08T00:00:00\",\"2010-10-09T00:00:00\",\"2010-10-10T00:00:00\",\"2010-10-11T00:00:00\",\"2010-10-12T00:00:00\",\"2010-10-13T00:00:00\",\"2010-10-14T00:00:00\",\"2010-10-15T00:00:00\",\"2010-10-16T00:00:00\",\"2010-10-17T00:00:00\",\"2010-10-18T00:00:00\",\"2010-10-19T00:00:00\",\"2010-10-20T00:00:00\",\"2010-10-21T00:00:00\",\"2010-10-22T00:00:00\",\"2010-10-23T00:00:00\",\"2010-10-24T00:00:00\",\"2010-10-25T00:00:00\",\"2010-10-26T00:00:00\",\"2010-10-27T00:00:00\",\"2010-10-28T00:00:00\",\"2010-10-29T00:00:00\",\"2010-10-30T00:00:00\",\"2010-10-31T00:00:00\",\"2010-11-01T00:00:00\",\"2010-11-02T00:00:00\",\"2010-11-03T00:00:00\",\"2010-11-04T00:00:00\",\"2010-11-05T00:00:00\",\"2010-11-06T00:00:00\",\"2010-11-07T00:00:00\",\"2010-11-08T00:00:00\",\"2010-11-09T00:00:00\",\"2010-11-10T00:00:00\",\"2010-11-11T00:00:00\",\"2010-11-12T00:00:00\",\"2010-11-13T00:00:00\",\"2010-11-14T00:00:00\",\"2010-11-15T00:00:00\",\"2010-11-16T00:00:00\",\"2010-11-17T00:00:00\",\"2010-11-18T00:00:00\",\"2010-11-19T00:00:00\",\"2010-11-20T00:00:00\",\"2010-11-21T00:00:00\",\"2010-11-22T00:00:00\",\"2010-11-23T00:00:00\",\"2010-11-24T00:00:00\",\"2010-11-25T00:00:00\",\"2010-11-26T00:00:00\"],\"xaxis\":\"x\",\"y\":[236.24376262626262,240.0870277777778,241.23169444444446,241.9993125,242.30806249999998,241.0402706360757,241.1845486111111,240.1360763888889,241.6874375,243.39993055555558,241.6254375,243.76736111111111,243.26833333333335,240.87130555555555,240.54110396940902,239.8965763888889,240.12897916666665,241.94377777777777,243.5570902777778,239.7502986111111,240.49576388888892,239.67305555555555,240.90248611111113,239.5769513888889,240.48752083333335,241.02745138888892,241.1556875,241.53820833333336,239.28361111111113,238.82324990137118,241.2409097222222,241.94475694444446,241.00525,240.89359722222224,240.16094444444445,238.8674722222222,238.96811805555558,241.60313194444444,242.76255555555556,241.45769444444446,243.42436111111112,242.77179166666667,241.61656944444442,240.30515962359343,240.9295972222222,241.84087499999998,239.92113194444443,240.3921388888889,240.3343888888889,238.91019444444444,239.63333333333333,240.81031249999998,241.26415972222225,241.14969444444444,241.79730555555554,241.74044444444445,240.0368263888889,239.5061458333333,240.09850000000003,241.16685416666667,240.3753888888889,240.66922222222223,240.82094444444442,239.31603472222224,239.17080555555557,239.78958333333333,239.86544444444445,240.46096527777777,238.62661785829792,240.68596527777777,239.86310416666666,241.6815486111111,241.27359027777777,242.94427083333332,242.15959027777777,241.3214027777778,240.59159722222225,241.28808333333336,240.0297986111111,240.03090972222222,240.98806944444445,240.3235625,240.66542361111112,240.88846527777778,239.80283333333335,240.00729166666667,240.55871527777776,240.89796527777779,240.77729166666666,240.28049305555552,239.52713194444445,238.22465277777778,241.04781944444443,240.49709027777777,240.8156388888889,240.98664583333334,241.76352777777777,241.64547916666666,239.70447222222222,240.03331934581564,241.3368125,240.60197916666664,240.4446111111111,240.5366875,241.03922916666667,239.26077083333334,240.02448611111112,240.46011805555557,240.50495833333335,240.33178472222224,241.1731041666667,241.18445138888887,240.37859027777776,240.34918055555556,240.55048611111113,240.8137013888889,241.1548263888889,240.25606249999998,240.05048611111113,240.31314583333332,240.23668750000002,240.6571388888889,240.19566666666668,240.14677777777777,240.42984027777777,240.13289583333332,239.21323611111112,239.60888194444442,237.23564583333334,235.3449236111111,234.94111111111113,234.7872986111111,235.21616666666668,240.7399086568241,240.83985797450788,238.45192867359364,234.6787013888889,235.58207638888888,235.1348888888889,235.71019444444443,235.03502083333333,234.4096527777778,234.5369722222222,234.9062361111111,234.8737222222222,235.79625694444442,235.22975694444443,234.72290277777776,235.7087083333333,235.69006944444445,235.61199305555556,235.26081250000001,235.86845833333334,235.9945972222222,234.94472222222223,235.34811805555555,234.6919097222222,235.48057638888892,234.81249305555554,235.5460625,234.44720138888886,235.0698888888889,234.90843750000002,234.90657638888888,235.6943472222222,234.83139583333335,235.09652777777777,235.32715267914895,234.4690277777778,234.762375,234.7480694444444,234.6927638888889,234.62595129026008,234.47880555555554,236.19744444444444,240.7090031965495,240.84428472222223,240.85674999999998,240.2248958333333,240.39760416666667,239.84778472222223,240.46438194444445,239.50169444444444,240.21918055555554,240.77620138888886,240.27004841385346,240.15616666666668,240.57494444444444,240.83563194444443,240.31896527777778,241.1322152777778,240.4222638888889,240.09450694444448,239.7584097222222,239.4236666666667,240.18275684581565,240.01161111111108,240.06715277777778,240.6718125,240.1869375,240.65963194444444,240.44444444444446,240.5994513888889,239.91013888888887,240.33889583333334,240.6176458333333,239.98305555555555,241.0300347222222,240.76461805555556,240.85480555555554,241.29188194444444,240.61851495603196,236.5072361111111,234.74125694444442,231.08822916666665,234.26186111111113,235.56890277777777,234.25662499999999,235.96711795692673,234.50086805555554,235.36304166666667,235.6410486111111,234.94372222222225,235.55368055555556,235.5072361111111,235.71203472222223,235.5302291666667,234.9148125,235.09420626212827,234.85659027777777,234.4856041666667,235.25722222222223,235.11527083333334,234.70274305555557,234.55388194444447,234.512375,234.21438888888886,234.48881250000002,234.98018055555556,235.6648541666667,235.21656944444445,237.07638888888889,239.99340972222222,239.73765972222222,240.4940486111111,241.27963194444445,239.9536666666667,241.30069444444445,240.57305555555556,240.81731944444445,240.64730555555556,240.49488184581566,239.8598263888889,239.95091666666667,239.92358333333334,239.54987500000001,240.74499305555554,240.57317361111112,239.98570138888888,239.35574305555556,240.04533333333336,239.62034722222222,239.65966666666665,239.1481597222222,239.3400486111111,239.0317013888889,239.73044444444446,238.92214583333333,239.3886597222222,240.07199305555554,240.01505555555556,239.3098333333333,239.30189583333333,240.00197222222224,239.56046527777778,239.21479861111112,238.26067361111112,240.30520833333333,239.71498611111113,239.38146527777778,239.48303472222221,239.50043055555554,238.60060416666667,238.0996111111111,239.4265345249646,239.56705555555556,239.46243055555558,239.1401111111111,240.0647847222222,239.23991666666666,238.49379166666665,239.26106944444444,239.2050763888889,238.8271111111111,238.38071527777777,238.8262777777778,239.09654861111113,238.87914583333333,239.4211597222222,238.4441527777778,238.48131250000003,238.76540972222222,239.1010347222222,239.29270833333334,238.86261805555554,239.19213194444444,239.80028472222222,239.65217361111112,241.82481944444444,241.49074305555555,240.54540277777778,241.23131230274237,240.80827083333332,240.47263194444446,240.68085416666665,240.20120833333334,240.86605555555556,241.19330555555555,240.62592361111112,240.33897916666666,240.93840277777778,239.3489861111111,240.19050694444445,240.20552083333334,239.65911111111112,238.70195833333335,239.5649097222222,240.75264583333333,238.71543749999998,239.11040972222222,240.26026388888891,239.82559027777776,241.12297916666668,239.9460277777778,239.98499305555558,240.9835138888889,240.6034236111111,242.26045833333333,242.76635416666664,241.33882638888886,241.49630545692676,241.5650486111111,240.72236805555556,241.80274305555557,242.66115972222224,241.11649305555557,241.32109722222222,242.89480555555556,242.72972906803787,243.48774999999998,240.2660833333333,240.73000694444445,241.07959027777775,241.53597916666666,241.22788194444445,239.7100972222222,240.6710486111111,239.55993055555555,239.9150763888889,241.90383333333335,241.4602361111111,242.47632638888888,241.82734027777778,241.9859236111111,241.28064583333332,242.6849861111111,242.6245137902601,242.93998611111112,242.70109722222224,243.16793750000002,242.88163194444445,242.14553472222224,242.5579375,242.6504236111111,242.98086805555556,242.39239583333332,242.1116111111111,242.28447916666667,240.55066666666667,242.0991736111111,241.09479166666668,241.0366736111111,242.41745138888888,243.0774583333333,241.27338194444442,238.82294444444443,239.40729166666668,240.74393750000002,240.82180555555558,241.2586388888889,240.80713888888891,240.41004861111108,239.96018055555552,239.75195129026008,240.29900694444444,240.7094861111111,240.42214583333333,241.62799305555555,239.93293055555554,239.60592361111114,239.94454166666668,239.56475,240.09477777777778,240.90704861111112,240.77922916666668,240.70544444444445,239.76020833333334,241.3036736111111,240.46677777777776,240.62310416666668,241.61465277777776,241.88574999999997,240.36027083333332,240.2908957347045,240.34072222222224,240.25520833333334,240.97691666666668,238.41371527777778,241.07054861111112,240.43311805555555,241.76450694444446,241.2752013888889,241.69219444444445,239.50915277777779,241.20309722222223,240.76481944444447,241.89060416666663,241.08755555555555,242.46983333333333,242.06393055555554,241.01013194444445,241.66968749999998,240.7503888888889,241.43576388888889,239.67426369163124,240.37779861111113,239.77600694444445,239.5333263888889,239.5540208333333,239.80427083333336,238.03849305555556,239.4315138888889,239.74624305555557,240.3519861111111,241.02641666666665,241.06524305555556,240.4292291666667,240.81606944444445,241.59095138888887,240.74638194444444,241.72734722222222,240.4241527777778,241.05720833333334,240.802625,240.62736805555554,240.19799305555554,241.29466666666667,240.8052291666667,241.9289861111111,242.40221527777777,241.76258333333334,241.36990972222222,241.61215277777777,242.65262500000003,242.7059582347045,242.1382152777778,242.8097986111111,242.0955416666667,242.32334027777776,241.2535486111111,241.16375694444443,242.72704166666668,241.61580555555557,238.66715972222224,240.69424305555557,241.33105555555554,240.55802777777777,241.14960416666665,243.2283263888889,242.06658333333334,242.31770833333334,241.94904861111112,240.758375,241.0631736111111,240.4233263888889,242.31405555555554,241.23874305555555,241.74438888888886,241.40359722222223,240.6415763888889,241.14318055555555,241.43287500000002,241.99249305555557,240.95971527777778,241.51134027777778,240.60532638888887,241.00715277777778,240.79256249999997,240.90728472222222,240.97845833333332,240.70690277777777,241.43364583333334,241.4462638888889,241.64894444444442,240.8336875,241.38047916666667,240.73685416666666,240.29031944444444,241.0812638888889,239.85129166666667,240.47122222222222,240.08622916666667,240.48559722222222,241.041625,240.3740625,240.7085138888889,240.35039583333335,239.62193730274237,239.4728611111111,239.68268750000001,240.43187500000002,241.01960416666665,240.7605138888889,239.50019444444447,239.49885416666666,240.72490277777777,239.94564583333332,240.36368750000003,239.39086805555553,241.32269444444444,237.67515972222222,240.55369444444446,240.65420138888888,240.62318055555556,236.369875,234.15220833333333,234.70647222222223,235.16382638888888,239.7169375,238.98444444444442,239.96493750000002,239.43468055555556,239.97804861111112,240.1544722222222,239.69002083333334,238.88895823470452,240.01449305555556,239.45372916666668,240.43346527777777,240.35443055555555,239.73986805555555,239.2726875,239.9391875,239.46340972222222,239.04411805555557,238.93765277777777,237.91538888888888,238.89490277777776,239.3514027777778,238.9349861111111,239.14238194444445,240.16064583333335,240.37611805555554,239.5402916666667,238.96197916666668,239.63549305555554,240.1796527777778,239.56477083333334,240.59022916666666,239.63371527777778,239.700625,240.3295763888889,239.86775694444444,239.5169097222222,240.05927777777777,240.29197896940903,240.4941875,239.78144444444447,240.59338194444442,239.91703472222224,239.5771875,239.15111805555554,239.77769444444445,239.10169444444443,239.67030555555556,240.09611805555554,239.8837638888889,239.0572152777778,240.02869444444445,238.4711597222222,239.99369444444443,240.24888194444446,239.08559027777778,240.09567361111112,239.8054375,239.12872916666666,237.0544375,237.86552767914898,238.73645833333333,240.56582638888887,239.3123263888889,239.45654166666665,240.71045833333332,240.2648888888889,240.7183263888889,240.04828472222223,240.87151388888887,241.14088194444443,241.15816666666666,242.09534722222222,241.18345138888887,241.35584027777776,240.8947361111111,241.54370833333334,240.29566666666668,240.88224305555556,242.14265972222222,241.61341666666667,241.47397222222224,241.11954861111113,240.57646527777777,240.54265277777776,240.33545138888888,240.51399305555557,240.0182082347045,239.9159097222222,239.3289652777778,240.0294583333333,238.66349305555556,239.59059027777778,239.33977777777778,240.58868750000002,241.3818263888889,239.78166666666664,239.48058333333333,239.09980555555555,239.9683125,240.1245486111111,239.8889861111111,240.25590972222224,240.94875000000002,240.6566736111111,240.3271388888889,240.3571111111111,240.59411805555558,240.94015972222223,240.2091597222222,240.18336111111108,240.1257916666667,240.2903263888889,240.39362500000001,240.14647916666667,240.27841666666666,240.26402083333335,240.58377083333335,241.12861111111113,240.32824305555553,239.84200694444445,240.1744027777778,240.13754166666666,239.1190763888889,238.85286805555555,240.0490138888889,239.2754236111111,239.63485416666666,239.18261805555554,240.15154166666665,240.80942361111113,239.21572916666668,239.5067916666667,239.26284722222223,240.047625,239.83543055555558,240.04254861111113,240.43249305555554,239.7306875,240.8157638888889,240.39904166666668,240.41369444444442,240.95644020340544,242.12346527777777,242.22805555555558,241.32679166666668,241.78959722222223,242.08329166666667,241.32977083333333,241.8102361111111,242.15574305555558,241.76511805555558,240.80244444444446,239.48077083333334,240.39021527777777,239.75178472222223,239.30802777777777,238.45406944444443,239.65719385267155,239.87869444444445,240.38759008052014,241.59792361111113,241.02181944444445,238.63411805555555,240.4941388888889,241.13493055555554,239.90204166666666,240.53961805555554,239.81811805555557,239.9283333333333,239.7318125,239.15063879026007,240.3594861111111,240.93060416666668,242.40089583333332,241.4400138888889,243.06651388888892,241.24075694444446,242.3745625,243.4458402777778,243.37936805555555,243.38372916666668,243.46313888888886,242.9759097222222,241.13656250000003,242.23854166666666,243.73161805555557,243.5556527777778,243.37150004042746,243.41836111111112,243.04302083333334,241.5385486111111,241.62279861111114,243.0392013888889,243.87990277777777,243.3135138888889,242.8590625,241.8661736111111,242.5647985124823,241.72008333333332,241.86449305555556,241.77054861111114,243.960625,243.2330625,244.35365972222223,243.31189583333332,244.56038194444446,244.95475694444443,244.63816666666668,243.29661805555557,242.8360625,242.7048888888889,243.68145833333332,244.82243055555554,244.83077777777777,245.09266666666667,246.0406388888889,245.3507361111111,244.62240972222224,244.12048611111112,245.5315486111111,245.52706944444444,244.45834027777778,244.60681934581564,243.02127777777778,242.56897222222221,241.63154166666666,242.64408333333333,243.1261736111111,243.39985416666664,244.10518749999997,244.00635416666668,242.76895138888887,243.25075694444448,242.54399305555555,243.20027083333335,243.9376041666667,243.03222222222223,243.36284722222223,244.28983333333332,242.47138194444443,244.6612809743273,244.8748263888889,244.3027222222222,244.68669444444447,243.85506249999997,243.28893055555557,242.05092361111113,243.35456944444445,243.3219861111111,243.15777083333333,242.09756249999998,242.91152777777776,241.69333333333336,241.9525206360757,242.8439375,242.14300694444444,242.23814346624178,242.23109722222225,241.54959027777775,240.19070833333333,240.9543402777778,241.31630555555554,241.24088194444445,240.8879236111111,241.2019652777778,240.73236805555555,240.96568750000003,242.3972777777778,242.13837490137118,242.24184722222222,242.89735416666667,242.3844861111111,241.67960416666668,240.79331249999998,242.47164583333333,242.15979166666665,242.48230555555557,241.8284375,241.8211736111111,241.9984236111111,242.75730555555558,242.17880555555556,241.77111111111114,242.4107985124823,241.95642361111112,242.84061805555555,242.7762777777778,242.9164861111111,242.58272222222223,241.52761111111113,242.05365277777778,242.4840972222222,243.1130625,242.93575694444445,242.62864583333334,242.13561805555554,242.54856944444444,242.72852083333333,242.16790277777778,242.90603472222222,242.2396388888889,241.8118888888889,241.45065277777778,242.31370833333332,242.30114583333335,241.98941666666667,242.25972916666666,242.2968263888889,242.0344861111111,240.96925694444442,240.4032986111111,241.13104146940904,241.4923263888889,241.32070833333333,240.47604166666667,241.32772916666667,241.04625,242.6585347222222,241.90455555555556,240.64846527777777,241.27485416666664,241.49463888888891,241.7900833333333,240.50833333333333,241.8649236111111,241.0012291666667,241.990125,242.18654166666667,241.90433333333334,241.27309027777778,241.8829027777778,242.06633333333335,241.43522916666666,240.81849305555556,240.8967152777778,241.1735138888889,240.82481249999998,241.57422916666667,241.07171517914895,240.25132638888888,240.3767777777778,240.63597916666666,240.05952083333335,240.95720138888888,239.98875694444445,240.30072916666666,240.9586736111111,240.9929375,241.31970833333332,241.01910416666666,241.9665347222222,240.56841666666668,242.01796527777776,238.4309027777778,231.79940942633576,231.14297222222223,233.70236111111112,241.55870138888892,241.1634097222222,241.45614583333332,241.334125,241.6302986111111,240.40592361111112,240.0102013888889,239.86320833333335,240.58184027777776,241.01856249999997,240.0647291666667,240.9235138888889,240.7160833333333,241.17605555555556,240.9373402777778,240.90262482226123,240.83985797450788,240.73148984611188,240.83118055555556,241.29550694444447,241.2962222222222,241.31758333333335,241.48458333333332,241.28675694444445,241.20229166666667,241.21326388888886,240.53718055555555,241.17795138888889,240.54077083333334,241.81414583333333,241.83843055555556,241.89382638888887,241.94360416666666,241.80929861111113,241.96674305555555,241.92334722222222,241.14746527777777,241.4445763888889,241.76347222222225,241.64100694444443,241.60375000000002,242.59112499999998,242.24275654992917,242.21479166666666,242.3049375,242.5475138888889,242.2053888888889,241.92689583333333,242.11697916666668,241.59461805555554,242.00627777777777,242.04660416666667,241.84186111111114,242.522875,242.07941666666665,241.94331944444446,241.7508263888889,242.09706944444446,242.65740277777775,242.52809027777778,242.22140972222223,241.50047222222221,242.4390138888889,241.87106250000002,241.50300694444445,240.94159722222224,241.92006944444447,242.27648611111113,242.30757638888886,241.22875000000002,241.3577986111111,241.72709722222223,242.04941666666664,241.02849999999998,241.84149305555556,241.80827777777776,240.88028712172675,241.1795763888889,240.8963472222222,240.52084722222224,241.22044444444444,240.8264861111111,241.54156944444443,241.08561805555553,240.61175694444444,241.1232361111111,241.55547222222222,241.06553472222222,241.50986111111112,241.77745833333333,241.638125,240.8744375,240.97532638888887,241.08125694444445,238.7429027777778,241.22110416666666,241.81777083333336,241.33006944444443,242.01287499999998,240.86027777777778,241.86031944444443,241.71161805555553,241.35160416666668,241.30850694444445,241.2289513888889,241.14999305555554,240.70704861111113,240.25040267914895,241.47695833333333,240.99238194444447,240.23129166666666,241.3606527777778,241.09920138888887,240.35401388888891,241.29544444444446,241.2526875,241.18202777777776,240.74660416666666,240.38723611111112,241.42292361111112,241.17850694444445,241.22180555555556,241.72634027777778,240.8973472222222,240.75711785829793,241.52952083333335,240.75888194444443,240.63635416666665,240.6988611111111,241.22052083333332,241.18004861111112,241.2119583333333,241.06977777777777,240.81015277777777,239.76139583333332,240.64918045692676,240.22382638888888,240.24728472222225,239.7594652777778,241.12213194444445,240.24599999999998,238.8905625,240.7508402777778,242.26024305555555,242.52750694444444,242.30701388888886,242.4139583333333,241.09628472222224,239.8931875,239.92554861111108,241.53043055555557,241.2427638888889,241.40815277777776,240.3468611111111,241.48033333333333,240.51906250000002,240.92416666666665,241.28460416666667,241.14193055555555,242.07813194444446,241.6652777777778,242.56815972222225,241.87858333333332,243.25039583333333,243.5754582347045,242.50097916666664,242.37135416666666,242.2066736111111,241.23570833333332,240.22240277777777,240.32536805555557,241.884875,242.66059722222224,241.29666666666668,242.97506944444442,241.58236805555555,240.62086805555555,241.0777013888889,242.7427152777778,241.9765277777778,241.17878472222222,242.6434652777778,241.85881944444446,241.5964513888889,243.30872222222223,243.76430555555555,242.63315277777778,241.6693125,243.28409722222221,243.38570138888886,241.29875694444445,241.26927083333334,242.54359722222225,243.73107638888888,242.40731944444443,241.78068730274236,244.29111805555556,244.9389513888889,244.4975972222222,246.1488125,246.04318055555555,247.21586805555555,246.89413194444444,246.5948541666667,245.93454166666666,247.43500694444444,246.4092152777778,245.73843749999997,246.87896527777778,245.83511805555557,243.58829861111113,242.46571527777778,242.66604166666664,243.77761111111113,243.18301388888887,241.05222916666668,240.95881944444446,242.56572222222223,244.67451379026008,243.74452777777776,245.69911805555554,244.5210347222222,245.2348125,244.90856250000002,244.4048125,243.8697361111111,243.84061805555555,246.0691111111111,242.95537660559432,240.83985797450788,241.40781792145,243.72576388888888,243.0452361111111,242.54300694444444,243.63636805555555,243.02311111111112,242.76043750000002,242.95125,241.8501736111111,240.8283749013712,241.74617361111112,242.8986111111111,243.33947916666665,241.98610416666665,243.2490347222222,243.63280555555554,242.07939583333334,243.40263888888887,243.63174305555557,243.33281944444445,242.3880763888889,242.10079166666668,241.94126388888887,241.09206944444446,242.68447222222224,241.99677777777777,243.1503680555556,242.44894434581562,244.51238194444446,243.62629166666665,242.88909027777777,243.14193045692676,243.44677777777775,243.75376388888887,242.34681944444444,243.58819444444444,241.70740277777776,241.78896527777778,240.625375,240.57949305555553,241.98468055555557,241.4657986111111,240.98316666666668,240.42563194444443,241.54445833333335,242.56746527777779,241.82277777777776,241.75205555555556,241.2114375,242.9922916666667,243.4863125,243.03125694444446,243.55174305555556,243.77458333333334,243.52749999999997,243.56579166666666,242.68144444444445,243.0135347222222,241.99693750000003,241.9863125,242.29575,241.5400763888889,241.64133333333334,241.5022638888889,241.42446527777776,241.10237391194832,240.66034977855693,241.35879166666666,241.1662986111111,240.72467361111114,242.26515277777779,241.50402777777776,240.41256944444442,241.37355555555555,241.52158333333335,241.08461805555555,240.1941736111111,241.75415972222223,242.77352083333332,243.24993055555558,241.74743055555555,243.6551458333333,242.74411111111112,241.83122916666665,241.99483333333333,242.58288194444444,241.28286111111112,241.49181934581563,242.00644444444447,241.735125,241.3756111111111,240.8521875,241.99183333333332,241.30517361111112,240.68122916666664,241.25981944444445,240.77724999999998,241.93004166666668,240.74602083333335,241.61291666666665,241.51611805555558,240.66157638888888,241.23138194444445,242.07596527777778,242.51982638888887,242.2791736111111,241.81767361111113,240.64716666666666,240.38825,237.18724305555557,236.03702777777778,236.10560416666667,235.98911111111113,237.49589583333335,241.89702083333336,241.40132638888886,240.99840972222225,242.3830763888889,241.716625,242.95801379026008,242.06722916666666,242.10271527777775,240.97365277777777,241.36027083333332,241.520875,241.60104166666667,242.45078472222224,241.75904861111113,239.55310416666666,240.69034722222221,241.03509722222222,240.2630486111111,239.54319444444445,239.92095138888888,240.0395763888889,240.20170833333336,240.46701388888889,240.69020833333335,240.5402777777778,240.33645833333333,240.24450694444445,240.27963888888888,241.10038194444445,241.42161805555557,242.33104861111113,241.07685416666666,241.18673611111112,241.69444444444446,241.45329166666667,240.35416656803787,241.20292361111112,241.61683333333332,240.9032986111111,240.75138194444443,240.42709027777778,240.52340972222223,241.7036388888889,240.30783333333335,240.95399305555554,240.6849236111111,239.99858333333336,240.80948611111108,240.5305486111111,241.4948611111111,239.94747916666665,240.4290138888889,240.34012490137118,240.61095833333334,239.31421527777775,239.63011805555556,241.33627777777778,240.33446527777778,241.18256250000002,240.5297013888889,240.6574513888889,240.304125,240.79250694444445,240.06252083333337,239.7739513888889,240.2186458333333,240.49479166666666,240.34191666666666,240.37027073470455,241.15434722222224,241.18420833333334,241.45020138888887,241.84955555555555,241.6489861111111,241.72080555555556,241.1897847222222,239.8829166666667,240.29686805555554,240.27947916666668,240.93763194444443,239.63009722222225,240.30625694444444,240.3845347222222,240.04908333333333,239.68085416666665,239.80130555555556,240.89735416666667,241.5017013888889,241.39795138888888,241.8593888888889,240.9532361111111,241.32504861111113,240.7344652777778,241.06926388888888,241.95466666666664,240.54286805555554,240.79493055555557,240.99115972222222,241.165875,241.686625,241.07695833333335,240.97334355518223,240.83985797450788,240.83985797450788,240.83985797450788,240.83985797450788,241.03247018830984,242.0454236111111,241.6081597222222,241.11630555555556,241.8138125,240.85945833333332,242.56586111111113,241.00794444444443,241.37439583333332,241.19238888888887,241.26284027777777,240.94371527777778,240.5336736111111,241.10194444444443,242.14060416666663,241.84175,241.2751597222222,240.98400694444442,240.6032152777778,241.8182013888889,241.67075,241.61972222222224,241.15527083333336,240.94131944444445,241.29677777777778,240.41177083333335,240.814875,241.55907638888888,241.71130555555558,241.4937361111111,240.91864583333333,240.65502777777778,240.7245,240.58872222222223,240.82924930646357,240.83985797450788,240.83985797450788,240.72142794764417,241.22340972222224,242.30779166666665,240.80197916666665,240.70345833333332,241.93284027777776,240.62145833333335,239.91899999999998,241.27625,241.60523611111108,240.98219444444445,240.1984375,240.3423472222222,239.92619444444443,240.26067361111112,240.79931944444445,240.90321527777778,240.7949444444444,241.91749305555555,242.2758263888889,241.81618055555555,241.9127847222222,242.248125,243.47242361111108,242.79820138888888,242.24353472222222,243.0201249013712,242.40615277777778,244.89095833333332,246.1087083333333,246.25389583333333,245.74310416666668,243.26736805555555,245.49527777777777,246.37959722222223,245.78691666666666,244.27853472222225,243.15222916666667,243.77503472222222,238.43022222222223,238.4364861111111,237.7430625,237.78809027777777,239.08477083333335,238.72870833333334,238.83789583333333,239.33274305555557,239.2797986111111,239.54924305555554,241.19761111111112,241.45224305555556,241.01675,240.04675694444447,240.60833333333332,241.18019444444442,240.19711805555553,240.57552777777778,240.0309652777778,241.53625694444446,240.2910292953286],\"yaxis\":\"y\",\"type\":\"scattergl\"}],                        {\"template\":{\"data\":{\"histogram2dcontour\":[{\"type\":\"histogram2dcontour\",\"colorbar\":{\"outlinewidth\":0,\"ticks\":\"\"},\"colorscale\":[[0.0,\"#0d0887\"],[0.1111111111111111,\"#46039f\"],[0.2222222222222222,\"#7201a8\"],[0.3333333333333333,\"#9c179e\"],[0.4444444444444444,\"#bd3786\"],[0.5555555555555556,\"#d8576b\"],[0.6666666666666666,\"#ed7953\"],[0.7777777777777778,\"#fb9f3a\"],[0.8888888888888888,\"#fdca26\"],[1.0,\"#f0f921\"]]}],\"choropleth\":[{\"type\":\"choropleth\",\"colorbar\":{\"outlinewidth\":0,\"ticks\":\"\"}}],\"histogram2d\":[{\"type\":\"histogram2d\",\"colorbar\":{\"outlinewidth\":0,\"ticks\":\"\"},\"colorscale\":[[0.0,\"#0d0887\"],[0.1111111111111111,\"#46039f\"],[0.2222222222222222,\"#7201a8\"],[0.3333333333333333,\"#9c179e\"],[0.4444444444444444,\"#bd3786\"],[0.5555555555555556,\"#d8576b\"],[0.6666666666666666,\"#ed7953\"],[0.7777777777777778,\"#fb9f3a\"],[0.8888888888888888,\"#fdca26\"],[1.0,\"#f0f921\"]]}],\"heatmap\":[{\"type\":\"heatmap\",\"colorbar\":{\"outlinewidth\":0,\"ticks\":\"\"},\"colorscale\":[[0.0,\"#0d0887\"],[0.1111111111111111,\"#46039f\"],[0.2222222222222222,\"#7201a8\"],[0.3333333333333333,\"#9c179e\"],[0.4444444444444444,\"#bd3786\"],[0.5555555555555556,\"#d8576b\"],[0.6666666666666666,\"#ed7953\"],[0.7777777777777778,\"#fb9f3a\"],[0.8888888888888888,\"#fdca26\"],[1.0,\"#f0f921\"]]}],\"heatmapgl\":[{\"type\":\"heatmapgl\",\"colorbar\":{\"outlinewidth\":0,\"ticks\":\"\"},\"colorscale\":[[0.0,\"#0d0887\"],[0.1111111111111111,\"#46039f\"],[0.2222222222222222,\"#7201a8\"],[0.3333333333333333,\"#9c179e\"],[0.4444444444444444,\"#bd3786\"],[0.5555555555555556,\"#d8576b\"],[0.6666666666666666,\"#ed7953\"],[0.7777777777777778,\"#fb9f3a\"],[0.8888888888888888,\"#fdca26\"],[1.0,\"#f0f921\"]]}],\"contourcarpet\":[{\"type\":\"contourcarpet\",\"colorbar\":{\"outlinewidth\":0,\"ticks\":\"\"}}],\"contour\":[{\"type\":\"contour\",\"colorbar\":{\"outlinewidth\":0,\"ticks\":\"\"},\"colorscale\":[[0.0,\"#0d0887\"],[0.1111111111111111,\"#46039f\"],[0.2222222222222222,\"#7201a8\"],[0.3333333333333333,\"#9c179e\"],[0.4444444444444444,\"#bd3786\"],[0.5555555555555556,\"#d8576b\"],[0.6666666666666666,\"#ed7953\"],[0.7777777777777778,\"#fb9f3a\"],[0.8888888888888888,\"#fdca26\"],[1.0,\"#f0f921\"]]}],\"surface\":[{\"type\":\"surface\",\"colorbar\":{\"outlinewidth\":0,\"ticks\":\"\"},\"colorscale\":[[0.0,\"#0d0887\"],[0.1111111111111111,\"#46039f\"],[0.2222222222222222,\"#7201a8\"],[0.3333333333333333,\"#9c179e\"],[0.4444444444444444,\"#bd3786\"],[0.5555555555555556,\"#d8576b\"],[0.6666666666666666,\"#ed7953\"],[0.7777777777777778,\"#fb9f3a\"],[0.8888888888888888,\"#fdca26\"],[1.0,\"#f0f921\"]]}],\"mesh3d\":[{\"type\":\"mesh3d\",\"colorbar\":{\"outlinewidth\":0,\"ticks\":\"\"}}],\"scatter\":[{\"fillpattern\":{\"fillmode\":\"overlay\",\"size\":10,\"solidity\":0.2},\"type\":\"scatter\"}],\"parcoords\":[{\"type\":\"parcoords\",\"line\":{\"colorbar\":{\"outlinewidth\":0,\"ticks\":\"\"}}}],\"scatterpolargl\":[{\"type\":\"scatterpolargl\",\"marker\":{\"colorbar\":{\"outlinewidth\":0,\"ticks\":\"\"}}}],\"bar\":[{\"error_x\":{\"color\":\"#2a3f5f\"},\"error_y\":{\"color\":\"#2a3f5f\"},\"marker\":{\"line\":{\"color\":\"#E5ECF6\",\"width\":0.5},\"pattern\":{\"fillmode\":\"overlay\",\"size\":10,\"solidity\":0.2}},\"type\":\"bar\"}],\"scattergeo\":[{\"type\":\"scattergeo\",\"marker\":{\"colorbar\":{\"outlinewidth\":0,\"ticks\":\"\"}}}],\"scatterpolar\":[{\"type\":\"scatterpolar\",\"marker\":{\"colorbar\":{\"outlinewidth\":0,\"ticks\":\"\"}}}],\"histogram\":[{\"marker\":{\"pattern\":{\"fillmode\":\"overlay\",\"size\":10,\"solidity\":0.2}},\"type\":\"histogram\"}],\"scattergl\":[{\"type\":\"scattergl\",\"marker\":{\"colorbar\":{\"outlinewidth\":0,\"ticks\":\"\"}}}],\"scatter3d\":[{\"type\":\"scatter3d\",\"line\":{\"colorbar\":{\"outlinewidth\":0,\"ticks\":\"\"}},\"marker\":{\"colorbar\":{\"outlinewidth\":0,\"ticks\":\"\"}}}],\"scattermapbox\":[{\"type\":\"scattermapbox\",\"marker\":{\"colorbar\":{\"outlinewidth\":0,\"ticks\":\"\"}}}],\"scatterternary\":[{\"type\":\"scatterternary\",\"marker\":{\"colorbar\":{\"outlinewidth\":0,\"ticks\":\"\"}}}],\"scattercarpet\":[{\"type\":\"scattercarpet\",\"marker\":{\"colorbar\":{\"outlinewidth\":0,\"ticks\":\"\"}}}],\"carpet\":[{\"aaxis\":{\"endlinecolor\":\"#2a3f5f\",\"gridcolor\":\"white\",\"linecolor\":\"white\",\"minorgridcolor\":\"white\",\"startlinecolor\":\"#2a3f5f\"},\"baxis\":{\"endlinecolor\":\"#2a3f5f\",\"gridcolor\":\"white\",\"linecolor\":\"white\",\"minorgridcolor\":\"white\",\"startlinecolor\":\"#2a3f5f\"},\"type\":\"carpet\"}],\"table\":[{\"cells\":{\"fill\":{\"color\":\"#EBF0F8\"},\"line\":{\"color\":\"white\"}},\"header\":{\"fill\":{\"color\":\"#C8D4E3\"},\"line\":{\"color\":\"white\"}},\"type\":\"table\"}],\"barpolar\":[{\"marker\":{\"line\":{\"color\":\"#E5ECF6\",\"width\":0.5},\"pattern\":{\"fillmode\":\"overlay\",\"size\":10,\"solidity\":0.2}},\"type\":\"barpolar\"}],\"pie\":[{\"automargin\":true,\"type\":\"pie\"}]},\"layout\":{\"autotypenumbers\":\"strict\",\"colorway\":[\"#636efa\",\"#EF553B\",\"#00cc96\",\"#ab63fa\",\"#FFA15A\",\"#19d3f3\",\"#FF6692\",\"#B6E880\",\"#FF97FF\",\"#FECB52\"],\"font\":{\"color\":\"#2a3f5f\"},\"hovermode\":\"closest\",\"hoverlabel\":{\"align\":\"left\"},\"paper_bgcolor\":\"white\",\"plot_bgcolor\":\"#E5ECF6\",\"polar\":{\"bgcolor\":\"#E5ECF6\",\"angularaxis\":{\"gridcolor\":\"white\",\"linecolor\":\"white\",\"ticks\":\"\"},\"radialaxis\":{\"gridcolor\":\"white\",\"linecolor\":\"white\",\"ticks\":\"\"}},\"ternary\":{\"bgcolor\":\"#E5ECF6\",\"aaxis\":{\"gridcolor\":\"white\",\"linecolor\":\"white\",\"ticks\":\"\"},\"baxis\":{\"gridcolor\":\"white\",\"linecolor\":\"white\",\"ticks\":\"\"},\"caxis\":{\"gridcolor\":\"white\",\"linecolor\":\"white\",\"ticks\":\"\"}},\"coloraxis\":{\"colorbar\":{\"outlinewidth\":0,\"ticks\":\"\"}},\"colorscale\":{\"sequential\":[[0.0,\"#0d0887\"],[0.1111111111111111,\"#46039f\"],[0.2222222222222222,\"#7201a8\"],[0.3333333333333333,\"#9c179e\"],[0.4444444444444444,\"#bd3786\"],[0.5555555555555556,\"#d8576b\"],[0.6666666666666666,\"#ed7953\"],[0.7777777777777778,\"#fb9f3a\"],[0.8888888888888888,\"#fdca26\"],[1.0,\"#f0f921\"]],\"sequentialminus\":[[0.0,\"#0d0887\"],[0.1111111111111111,\"#46039f\"],[0.2222222222222222,\"#7201a8\"],[0.3333333333333333,\"#9c179e\"],[0.4444444444444444,\"#bd3786\"],[0.5555555555555556,\"#d8576b\"],[0.6666666666666666,\"#ed7953\"],[0.7777777777777778,\"#fb9f3a\"],[0.8888888888888888,\"#fdca26\"],[1.0,\"#f0f921\"]],\"diverging\":[[0,\"#8e0152\"],[0.1,\"#c51b7d\"],[0.2,\"#de77ae\"],[0.3,\"#f1b6da\"],[0.4,\"#fde0ef\"],[0.5,\"#f7f7f7\"],[0.6,\"#e6f5d0\"],[0.7,\"#b8e186\"],[0.8,\"#7fbc41\"],[0.9,\"#4d9221\"],[1,\"#276419\"]]},\"xaxis\":{\"gridcolor\":\"white\",\"linecolor\":\"white\",\"ticks\":\"\",\"title\":{\"standoff\":15},\"zerolinecolor\":\"white\",\"automargin\":true,\"zerolinewidth\":2},\"yaxis\":{\"gridcolor\":\"white\",\"linecolor\":\"white\",\"ticks\":\"\",\"title\":{\"standoff\":15},\"zerolinecolor\":\"white\",\"automargin\":true,\"zerolinewidth\":2},\"scene\":{\"xaxis\":{\"backgroundcolor\":\"#E5ECF6\",\"gridcolor\":\"white\",\"linecolor\":\"white\",\"showbackground\":true,\"ticks\":\"\",\"zerolinecolor\":\"white\",\"gridwidth\":2},\"yaxis\":{\"backgroundcolor\":\"#E5ECF6\",\"gridcolor\":\"white\",\"linecolor\":\"white\",\"showbackground\":true,\"ticks\":\"\",\"zerolinecolor\":\"white\",\"gridwidth\":2},\"zaxis\":{\"backgroundcolor\":\"#E5ECF6\",\"gridcolor\":\"white\",\"linecolor\":\"white\",\"showbackground\":true,\"ticks\":\"\",\"zerolinecolor\":\"white\",\"gridwidth\":2}},\"shapedefaults\":{\"line\":{\"color\":\"#2a3f5f\"}},\"annotationdefaults\":{\"arrowcolor\":\"#2a3f5f\",\"arrowhead\":0,\"arrowwidth\":1},\"geo\":{\"bgcolor\":\"white\",\"landcolor\":\"#E5ECF6\",\"subunitcolor\":\"white\",\"showland\":true,\"showlakes\":true,\"lakecolor\":\"white\"},\"title\":{\"x\":0.05},\"mapbox\":{\"style\":\"light\"}}},\"xaxis\":{\"anchor\":\"y\",\"domain\":[0.0,1.0],\"title\":{\"text\":\"Date\"}},\"yaxis\":{\"anchor\":\"x\",\"domain\":[0.0,1.0],\"title\":{\"text\":\"Voltage\"}},\"legend\":{\"tracegroupgap\":0},\"title\":{\"text\":\"Voltage Over Time (Daily)\",\"x\":0.5},\"font\":{\"color\":\"lightgray\"},\"plot_bgcolor\":\"rgb(35, 35, 35)\",\"paper_bgcolor\":\"rgb(25, 25, 25)\"},                        {\"responsive\": true}                    ).then(function(){\n",
              "                            \n",
              "var gd = document.getElementById('f315cfa0-3b86-4856-9e0a-975c8a8874da');\n",
              "var x = new MutationObserver(function (mutations, observer) {{\n",
              "        var display = window.getComputedStyle(gd).display;\n",
              "        if (!display || display === 'none') {{\n",
              "            console.log([gd, 'removed!']);\n",
              "            Plotly.purge(gd);\n",
              "            observer.disconnect();\n",
              "        }}\n",
              "}});\n",
              "\n",
              "// Listen for the removal of the full notebook cells\n",
              "var notebookContainer = gd.closest('#notebook-container');\n",
              "if (notebookContainer) {{\n",
              "    x.observe(notebookContainer, {childList: true});\n",
              "}}\n",
              "\n",
              "// Listen for the clearing of the current output cell\n",
              "var outputEl = gd.closest('.output');\n",
              "if (outputEl) {{\n",
              "    x.observe(outputEl, {childList: true});\n",
              "}}\n",
              "\n",
              "                        })                };                            </script>        </div>\n",
              "</body>\n",
              "</html>"
            ]
          },
          "metadata": {}
        },
        {
          "output_type": "display_data",
          "data": {
            "text/html": [
              "<html>\n",
              "<head><meta charset=\"utf-8\" /></head>\n",
              "<body>\n",
              "    <div>            <script src=\"https://cdnjs.cloudflare.com/ajax/libs/mathjax/2.7.5/MathJax.js?config=TeX-AMS-MML_SVG\"></script><script type=\"text/javascript\">if (window.MathJax && window.MathJax.Hub && window.MathJax.Hub.Config) {window.MathJax.Hub.Config({SVG: {font: \"STIX-Web\"}});}</script>                <script type=\"text/javascript\">window.PlotlyConfig = {MathJaxConfig: 'local'};</script>\n",
              "        <script charset=\"utf-8\" src=\"https://cdn.plot.ly/plotly-2.24.1.min.js\"></script>                <div id=\"b3bce557-0b33-4a14-9293-580be61443d7\" class=\"plotly-graph-div\" style=\"height:525px; width:100%;\"></div>            <script type=\"text/javascript\">                                    window.PLOTLYENV=window.PLOTLYENV || {};                                    if (document.getElementById(\"b3bce557-0b33-4a14-9293-580be61443d7\")) {                    Plotly.newPlot(                        \"b3bce557-0b33-4a14-9293-580be61443d7\",                        [{\"hovertemplate\":\"Date_time=%{x}\\u003cbr\\u003eGlobal_intensity=%{y}\\u003cextra\\u003e\\u003c\\u002fextra\\u003e\",\"legendgroup\":\"\",\"line\":{\"color\":\"#636efa\",\"dash\":\"solid\"},\"marker\":{\"symbol\":\"circle\"},\"mode\":\"lines\",\"name\":\"\",\"showlegend\":false,\"x\":[\"2006-12-16T00:00:00\",\"2006-12-17T00:00:00\",\"2006-12-18T00:00:00\",\"2006-12-19T00:00:00\",\"2006-12-20T00:00:00\",\"2006-12-21T00:00:00\",\"2006-12-22T00:00:00\",\"2006-12-23T00:00:00\",\"2006-12-24T00:00:00\",\"2006-12-25T00:00:00\",\"2006-12-26T00:00:00\",\"2006-12-27T00:00:00\",\"2006-12-28T00:00:00\",\"2006-12-29T00:00:00\",\"2006-12-30T00:00:00\",\"2006-12-31T00:00:00\",\"2007-01-01T00:00:00\",\"2007-01-02T00:00:00\",\"2007-01-03T00:00:00\",\"2007-01-04T00:00:00\",\"2007-01-05T00:00:00\",\"2007-01-06T00:00:00\",\"2007-01-07T00:00:00\",\"2007-01-08T00:00:00\",\"2007-01-09T00:00:00\",\"2007-01-10T00:00:00\",\"2007-01-11T00:00:00\",\"2007-01-12T00:00:00\",\"2007-01-13T00:00:00\",\"2007-01-14T00:00:00\",\"2007-01-15T00:00:00\",\"2007-01-16T00:00:00\",\"2007-01-17T00:00:00\",\"2007-01-18T00:00:00\",\"2007-01-19T00:00:00\",\"2007-01-20T00:00:00\",\"2007-01-21T00:00:00\",\"2007-01-22T00:00:00\",\"2007-01-23T00:00:00\",\"2007-01-24T00:00:00\",\"2007-01-25T00:00:00\",\"2007-01-26T00:00:00\",\"2007-01-27T00:00:00\",\"2007-01-28T00:00:00\",\"2007-01-29T00:00:00\",\"2007-01-30T00:00:00\",\"2007-01-31T00:00:00\",\"2007-02-01T00:00:00\",\"2007-02-02T00:00:00\",\"2007-02-03T00:00:00\",\"2007-02-04T00:00:00\",\"2007-02-05T00:00:00\",\"2007-02-06T00:00:00\",\"2007-02-07T00:00:00\",\"2007-02-08T00:00:00\",\"2007-02-09T00:00:00\",\"2007-02-10T00:00:00\",\"2007-02-11T00:00:00\",\"2007-02-12T00:00:00\",\"2007-02-13T00:00:00\",\"2007-02-14T00:00:00\",\"2007-02-15T00:00:00\",\"2007-02-16T00:00:00\",\"2007-02-17T00:00:00\",\"2007-02-18T00:00:00\",\"2007-02-19T00:00:00\",\"2007-02-20T00:00:00\",\"2007-02-21T00:00:00\",\"2007-02-22T00:00:00\",\"2007-02-23T00:00:00\",\"2007-02-24T00:00:00\",\"2007-02-25T00:00:00\",\"2007-02-26T00:00:00\",\"2007-02-27T00:00:00\",\"2007-02-28T00:00:00\",\"2007-03-01T00:00:00\",\"2007-03-02T00:00:00\",\"2007-03-03T00:00:00\",\"2007-03-04T00:00:00\",\"2007-03-05T00:00:00\",\"2007-03-06T00:00:00\",\"2007-03-07T00:00:00\",\"2007-03-08T00:00:00\",\"2007-03-09T00:00:00\",\"2007-03-10T00:00:00\",\"2007-03-11T00:00:00\",\"2007-03-12T00:00:00\",\"2007-03-13T00:00:00\",\"2007-03-14T00:00:00\",\"2007-03-15T00:00:00\",\"2007-03-16T00:00:00\",\"2007-03-17T00:00:00\",\"2007-03-18T00:00:00\",\"2007-03-19T00:00:00\",\"2007-03-20T00:00:00\",\"2007-03-21T00:00:00\",\"2007-03-22T00:00:00\",\"2007-03-23T00:00:00\",\"2007-03-24T00:00:00\",\"2007-03-25T00:00:00\",\"2007-03-26T00:00:00\",\"2007-03-27T00:00:00\",\"2007-03-28T00:00:00\",\"2007-03-29T00:00:00\",\"2007-03-30T00:00:00\",\"2007-03-31T00:00:00\",\"2007-04-01T00:00:00\",\"2007-04-02T00:00:00\",\"2007-04-03T00:00:00\",\"2007-04-04T00:00:00\",\"2007-04-05T00:00:00\",\"2007-04-06T00:00:00\",\"2007-04-07T00:00:00\",\"2007-04-08T00:00:00\",\"2007-04-09T00:00:00\",\"2007-04-10T00:00:00\",\"2007-04-11T00:00:00\",\"2007-04-12T00:00:00\",\"2007-04-13T00:00:00\",\"2007-04-14T00:00:00\",\"2007-04-15T00:00:00\",\"2007-04-16T00:00:00\",\"2007-04-17T00:00:00\",\"2007-04-18T00:00:00\",\"2007-04-19T00:00:00\",\"2007-04-20T00:00:00\",\"2007-04-21T00:00:00\",\"2007-04-22T00:00:00\",\"2007-04-23T00:00:00\",\"2007-04-24T00:00:00\",\"2007-04-25T00:00:00\",\"2007-04-26T00:00:00\",\"2007-04-27T00:00:00\",\"2007-04-28T00:00:00\",\"2007-04-29T00:00:00\",\"2007-04-30T00:00:00\",\"2007-05-01T00:00:00\",\"2007-05-02T00:00:00\",\"2007-05-03T00:00:00\",\"2007-05-04T00:00:00\",\"2007-05-05T00:00:00\",\"2007-05-06T00:00:00\",\"2007-05-07T00:00:00\",\"2007-05-08T00:00:00\",\"2007-05-09T00:00:00\",\"2007-05-10T00:00:00\",\"2007-05-11T00:00:00\",\"2007-05-12T00:00:00\",\"2007-05-13T00:00:00\",\"2007-05-14T00:00:00\",\"2007-05-15T00:00:00\",\"2007-05-16T00:00:00\",\"2007-05-17T00:00:00\",\"2007-05-18T00:00:00\",\"2007-05-19T00:00:00\",\"2007-05-20T00:00:00\",\"2007-05-21T00:00:00\",\"2007-05-22T00:00:00\",\"2007-05-23T00:00:00\",\"2007-05-24T00:00:00\",\"2007-05-25T00:00:00\",\"2007-05-26T00:00:00\",\"2007-05-27T00:00:00\",\"2007-05-28T00:00:00\",\"2007-05-29T00:00:00\",\"2007-05-30T00:00:00\",\"2007-05-31T00:00:00\",\"2007-06-01T00:00:00\",\"2007-06-02T00:00:00\",\"2007-06-03T00:00:00\",\"2007-06-04T00:00:00\",\"2007-06-05T00:00:00\",\"2007-06-06T00:00:00\",\"2007-06-07T00:00:00\",\"2007-06-08T00:00:00\",\"2007-06-09T00:00:00\",\"2007-06-10T00:00:00\",\"2007-06-11T00:00:00\",\"2007-06-12T00:00:00\",\"2007-06-13T00:00:00\",\"2007-06-14T00:00:00\",\"2007-06-15T00:00:00\",\"2007-06-16T00:00:00\",\"2007-06-17T00:00:00\",\"2007-06-18T00:00:00\",\"2007-06-19T00:00:00\",\"2007-06-20T00:00:00\",\"2007-06-21T00:00:00\",\"2007-06-22T00:00:00\",\"2007-06-23T00:00:00\",\"2007-06-24T00:00:00\",\"2007-06-25T00:00:00\",\"2007-06-26T00:00:00\",\"2007-06-27T00:00:00\",\"2007-06-28T00:00:00\",\"2007-06-29T00:00:00\",\"2007-06-30T00:00:00\",\"2007-07-01T00:00:00\",\"2007-07-02T00:00:00\",\"2007-07-03T00:00:00\",\"2007-07-04T00:00:00\",\"2007-07-05T00:00:00\",\"2007-07-06T00:00:00\",\"2007-07-07T00:00:00\",\"2007-07-08T00:00:00\",\"2007-07-09T00:00:00\",\"2007-07-10T00:00:00\",\"2007-07-11T00:00:00\",\"2007-07-12T00:00:00\",\"2007-07-13T00:00:00\",\"2007-07-14T00:00:00\",\"2007-07-15T00:00:00\",\"2007-07-16T00:00:00\",\"2007-07-17T00:00:00\",\"2007-07-18T00:00:00\",\"2007-07-19T00:00:00\",\"2007-07-20T00:00:00\",\"2007-07-21T00:00:00\",\"2007-07-22T00:00:00\",\"2007-07-23T00:00:00\",\"2007-07-24T00:00:00\",\"2007-07-25T00:00:00\",\"2007-07-26T00:00:00\",\"2007-07-27T00:00:00\",\"2007-07-28T00:00:00\",\"2007-07-29T00:00:00\",\"2007-07-30T00:00:00\",\"2007-07-31T00:00:00\",\"2007-08-01T00:00:00\",\"2007-08-02T00:00:00\",\"2007-08-03T00:00:00\",\"2007-08-04T00:00:00\",\"2007-08-05T00:00:00\",\"2007-08-06T00:00:00\",\"2007-08-07T00:00:00\",\"2007-08-08T00:00:00\",\"2007-08-09T00:00:00\",\"2007-08-10T00:00:00\",\"2007-08-11T00:00:00\",\"2007-08-12T00:00:00\",\"2007-08-13T00:00:00\",\"2007-08-14T00:00:00\",\"2007-08-15T00:00:00\",\"2007-08-16T00:00:00\",\"2007-08-17T00:00:00\",\"2007-08-18T00:00:00\",\"2007-08-19T00:00:00\",\"2007-08-20T00:00:00\",\"2007-08-21T00:00:00\",\"2007-08-22T00:00:00\",\"2007-08-23T00:00:00\",\"2007-08-24T00:00:00\",\"2007-08-25T00:00:00\",\"2007-08-26T00:00:00\",\"2007-08-27T00:00:00\",\"2007-08-28T00:00:00\",\"2007-08-29T00:00:00\",\"2007-08-30T00:00:00\",\"2007-08-31T00:00:00\",\"2007-09-01T00:00:00\",\"2007-09-02T00:00:00\",\"2007-09-03T00:00:00\",\"2007-09-04T00:00:00\",\"2007-09-05T00:00:00\",\"2007-09-06T00:00:00\",\"2007-09-07T00:00:00\",\"2007-09-08T00:00:00\",\"2007-09-09T00:00:00\",\"2007-09-10T00:00:00\",\"2007-09-11T00:00:00\",\"2007-09-12T00:00:00\",\"2007-09-13T00:00:00\",\"2007-09-14T00:00:00\",\"2007-09-15T00:00:00\",\"2007-09-16T00:00:00\",\"2007-09-17T00:00:00\",\"2007-09-18T00:00:00\",\"2007-09-19T00:00:00\",\"2007-09-20T00:00:00\",\"2007-09-21T00:00:00\",\"2007-09-22T00:00:00\",\"2007-09-23T00:00:00\",\"2007-09-24T00:00:00\",\"2007-09-25T00:00:00\",\"2007-09-26T00:00:00\",\"2007-09-27T00:00:00\",\"2007-09-28T00:00:00\",\"2007-09-29T00:00:00\",\"2007-09-30T00:00:00\",\"2007-10-01T00:00:00\",\"2007-10-02T00:00:00\",\"2007-10-03T00:00:00\",\"2007-10-04T00:00:00\",\"2007-10-05T00:00:00\",\"2007-10-06T00:00:00\",\"2007-10-07T00:00:00\",\"2007-10-08T00:00:00\",\"2007-10-09T00:00:00\",\"2007-10-10T00:00:00\",\"2007-10-11T00:00:00\",\"2007-10-12T00:00:00\",\"2007-10-13T00:00:00\",\"2007-10-14T00:00:00\",\"2007-10-15T00:00:00\",\"2007-10-16T00:00:00\",\"2007-10-17T00:00:00\",\"2007-10-18T00:00:00\",\"2007-10-19T00:00:00\",\"2007-10-20T00:00:00\",\"2007-10-21T00:00:00\",\"2007-10-22T00:00:00\",\"2007-10-23T00:00:00\",\"2007-10-24T00:00:00\",\"2007-10-25T00:00:00\",\"2007-10-26T00:00:00\",\"2007-10-27T00:00:00\",\"2007-10-28T00:00:00\",\"2007-10-29T00:00:00\",\"2007-10-30T00:00:00\",\"2007-10-31T00:00:00\",\"2007-11-01T00:00:00\",\"2007-11-02T00:00:00\",\"2007-11-03T00:00:00\",\"2007-11-04T00:00:00\",\"2007-11-05T00:00:00\",\"2007-11-06T00:00:00\",\"2007-11-07T00:00:00\",\"2007-11-08T00:00:00\",\"2007-11-09T00:00:00\",\"2007-11-10T00:00:00\",\"2007-11-11T00:00:00\",\"2007-11-12T00:00:00\",\"2007-11-13T00:00:00\",\"2007-11-14T00:00:00\",\"2007-11-15T00:00:00\",\"2007-11-16T00:00:00\",\"2007-11-17T00:00:00\",\"2007-11-18T00:00:00\",\"2007-11-19T00:00:00\",\"2007-11-20T00:00:00\",\"2007-11-21T00:00:00\",\"2007-11-22T00:00:00\",\"2007-11-23T00:00:00\",\"2007-11-24T00:00:00\",\"2007-11-25T00:00:00\",\"2007-11-26T00:00:00\",\"2007-11-27T00:00:00\",\"2007-11-28T00:00:00\",\"2007-11-29T00:00:00\",\"2007-11-30T00:00:00\",\"2007-12-01T00:00:00\",\"2007-12-02T00:00:00\",\"2007-12-03T00:00:00\",\"2007-12-04T00:00:00\",\"2007-12-05T00:00:00\",\"2007-12-06T00:00:00\",\"2007-12-07T00:00:00\",\"2007-12-08T00:00:00\",\"2007-12-09T00:00:00\",\"2007-12-10T00:00:00\",\"2007-12-11T00:00:00\",\"2007-12-12T00:00:00\",\"2007-12-13T00:00:00\",\"2007-12-14T00:00:00\",\"2007-12-15T00:00:00\",\"2007-12-16T00:00:00\",\"2007-12-17T00:00:00\",\"2007-12-18T00:00:00\",\"2007-12-19T00:00:00\",\"2007-12-20T00:00:00\",\"2007-12-21T00:00:00\",\"2007-12-22T00:00:00\",\"2007-12-23T00:00:00\",\"2007-12-24T00:00:00\",\"2007-12-25T00:00:00\",\"2007-12-26T00:00:00\",\"2007-12-27T00:00:00\",\"2007-12-28T00:00:00\",\"2007-12-29T00:00:00\",\"2007-12-30T00:00:00\",\"2007-12-31T00:00:00\",\"2008-01-01T00:00:00\",\"2008-01-02T00:00:00\",\"2008-01-03T00:00:00\",\"2008-01-04T00:00:00\",\"2008-01-05T00:00:00\",\"2008-01-06T00:00:00\",\"2008-01-07T00:00:00\",\"2008-01-08T00:00:00\",\"2008-01-09T00:00:00\",\"2008-01-10T00:00:00\",\"2008-01-11T00:00:00\",\"2008-01-12T00:00:00\",\"2008-01-13T00:00:00\",\"2008-01-14T00:00:00\",\"2008-01-15T00:00:00\",\"2008-01-16T00:00:00\",\"2008-01-17T00:00:00\",\"2008-01-18T00:00:00\",\"2008-01-19T00:00:00\",\"2008-01-20T00:00:00\",\"2008-01-21T00:00:00\",\"2008-01-22T00:00:00\",\"2008-01-23T00:00:00\",\"2008-01-24T00:00:00\",\"2008-01-25T00:00:00\",\"2008-01-26T00:00:00\",\"2008-01-27T00:00:00\",\"2008-01-28T00:00:00\",\"2008-01-29T00:00:00\",\"2008-01-30T00:00:00\",\"2008-01-31T00:00:00\",\"2008-02-01T00:00:00\",\"2008-02-02T00:00:00\",\"2008-02-03T00:00:00\",\"2008-02-04T00:00:00\",\"2008-02-05T00:00:00\",\"2008-02-06T00:00:00\",\"2008-02-07T00:00:00\",\"2008-02-08T00:00:00\",\"2008-02-09T00:00:00\",\"2008-02-10T00:00:00\",\"2008-02-11T00:00:00\",\"2008-02-12T00:00:00\",\"2008-02-13T00:00:00\",\"2008-02-14T00:00:00\",\"2008-02-15T00:00:00\",\"2008-02-16T00:00:00\",\"2008-02-17T00:00:00\",\"2008-02-18T00:00:00\",\"2008-02-19T00:00:00\",\"2008-02-20T00:00:00\",\"2008-02-21T00:00:00\",\"2008-02-22T00:00:00\",\"2008-02-23T00:00:00\",\"2008-02-24T00:00:00\",\"2008-02-25T00:00:00\",\"2008-02-26T00:00:00\",\"2008-02-27T00:00:00\",\"2008-02-28T00:00:00\",\"2008-02-29T00:00:00\",\"2008-03-01T00:00:00\",\"2008-03-02T00:00:00\",\"2008-03-03T00:00:00\",\"2008-03-04T00:00:00\",\"2008-03-05T00:00:00\",\"2008-03-06T00:00:00\",\"2008-03-07T00:00:00\",\"2008-03-08T00:00:00\",\"2008-03-09T00:00:00\",\"2008-03-10T00:00:00\",\"2008-03-11T00:00:00\",\"2008-03-12T00:00:00\",\"2008-03-13T00:00:00\",\"2008-03-14T00:00:00\",\"2008-03-15T00:00:00\",\"2008-03-16T00:00:00\",\"2008-03-17T00:00:00\",\"2008-03-18T00:00:00\",\"2008-03-19T00:00:00\",\"2008-03-20T00:00:00\",\"2008-03-21T00:00:00\",\"2008-03-22T00:00:00\",\"2008-03-23T00:00:00\",\"2008-03-24T00:00:00\",\"2008-03-25T00:00:00\",\"2008-03-26T00:00:00\",\"2008-03-27T00:00:00\",\"2008-03-28T00:00:00\",\"2008-03-29T00:00:00\",\"2008-03-30T00:00:00\",\"2008-03-31T00:00:00\",\"2008-04-01T00:00:00\",\"2008-04-02T00:00:00\",\"2008-04-03T00:00:00\",\"2008-04-04T00:00:00\",\"2008-04-05T00:00:00\",\"2008-04-06T00:00:00\",\"2008-04-07T00:00:00\",\"2008-04-08T00:00:00\",\"2008-04-09T00:00:00\",\"2008-04-10T00:00:00\",\"2008-04-11T00:00:00\",\"2008-04-12T00:00:00\",\"2008-04-13T00:00:00\",\"2008-04-14T00:00:00\",\"2008-04-15T00:00:00\",\"2008-04-16T00:00:00\",\"2008-04-17T00:00:00\",\"2008-04-18T00:00:00\",\"2008-04-19T00:00:00\",\"2008-04-20T00:00:00\",\"2008-04-21T00:00:00\",\"2008-04-22T00:00:00\",\"2008-04-23T00:00:00\",\"2008-04-24T00:00:00\",\"2008-04-25T00:00:00\",\"2008-04-26T00:00:00\",\"2008-04-27T00:00:00\",\"2008-04-28T00:00:00\",\"2008-04-29T00:00:00\",\"2008-04-30T00:00:00\",\"2008-05-01T00:00:00\",\"2008-05-02T00:00:00\",\"2008-05-03T00:00:00\",\"2008-05-04T00:00:00\",\"2008-05-05T00:00:00\",\"2008-05-06T00:00:00\",\"2008-05-07T00:00:00\",\"2008-05-08T00:00:00\",\"2008-05-09T00:00:00\",\"2008-05-10T00:00:00\",\"2008-05-11T00:00:00\",\"2008-05-12T00:00:00\",\"2008-05-13T00:00:00\",\"2008-05-14T00:00:00\",\"2008-05-15T00:00:00\",\"2008-05-16T00:00:00\",\"2008-05-17T00:00:00\",\"2008-05-18T00:00:00\",\"2008-05-19T00:00:00\",\"2008-05-20T00:00:00\",\"2008-05-21T00:00:00\",\"2008-05-22T00:00:00\",\"2008-05-23T00:00:00\",\"2008-05-24T00:00:00\",\"2008-05-25T00:00:00\",\"2008-05-26T00:00:00\",\"2008-05-27T00:00:00\",\"2008-05-28T00:00:00\",\"2008-05-29T00:00:00\",\"2008-05-30T00:00:00\",\"2008-05-31T00:00:00\",\"2008-06-01T00:00:00\",\"2008-06-02T00:00:00\",\"2008-06-03T00:00:00\",\"2008-06-04T00:00:00\",\"2008-06-05T00:00:00\",\"2008-06-06T00:00:00\",\"2008-06-07T00:00:00\",\"2008-06-08T00:00:00\",\"2008-06-09T00:00:00\",\"2008-06-10T00:00:00\",\"2008-06-11T00:00:00\",\"2008-06-12T00:00:00\",\"2008-06-13T00:00:00\",\"2008-06-14T00:00:00\",\"2008-06-15T00:00:00\",\"2008-06-16T00:00:00\",\"2008-06-17T00:00:00\",\"2008-06-18T00:00:00\",\"2008-06-19T00:00:00\",\"2008-06-20T00:00:00\",\"2008-06-21T00:00:00\",\"2008-06-22T00:00:00\",\"2008-06-23T00:00:00\",\"2008-06-24T00:00:00\",\"2008-06-25T00:00:00\",\"2008-06-26T00:00:00\",\"2008-06-27T00:00:00\",\"2008-06-28T00:00:00\",\"2008-06-29T00:00:00\",\"2008-06-30T00:00:00\",\"2008-07-01T00:00:00\",\"2008-07-02T00:00:00\",\"2008-07-03T00:00:00\",\"2008-07-04T00:00:00\",\"2008-07-05T00:00:00\",\"2008-07-06T00:00:00\",\"2008-07-07T00:00:00\",\"2008-07-08T00:00:00\",\"2008-07-09T00:00:00\",\"2008-07-10T00:00:00\",\"2008-07-11T00:00:00\",\"2008-07-12T00:00:00\",\"2008-07-13T00:00:00\",\"2008-07-14T00:00:00\",\"2008-07-15T00:00:00\",\"2008-07-16T00:00:00\",\"2008-07-17T00:00:00\",\"2008-07-18T00:00:00\",\"2008-07-19T00:00:00\",\"2008-07-20T00:00:00\",\"2008-07-21T00:00:00\",\"2008-07-22T00:00:00\",\"2008-07-23T00:00:00\",\"2008-07-24T00:00:00\",\"2008-07-25T00:00:00\",\"2008-07-26T00:00:00\",\"2008-07-27T00:00:00\",\"2008-07-28T00:00:00\",\"2008-07-29T00:00:00\",\"2008-07-30T00:00:00\",\"2008-07-31T00:00:00\",\"2008-08-01T00:00:00\",\"2008-08-02T00:00:00\",\"2008-08-03T00:00:00\",\"2008-08-04T00:00:00\",\"2008-08-05T00:00:00\",\"2008-08-06T00:00:00\",\"2008-08-07T00:00:00\",\"2008-08-08T00:00:00\",\"2008-08-09T00:00:00\",\"2008-08-10T00:00:00\",\"2008-08-11T00:00:00\",\"2008-08-12T00:00:00\",\"2008-08-13T00:00:00\",\"2008-08-14T00:00:00\",\"2008-08-15T00:00:00\",\"2008-08-16T00:00:00\",\"2008-08-17T00:00:00\",\"2008-08-18T00:00:00\",\"2008-08-19T00:00:00\",\"2008-08-20T00:00:00\",\"2008-08-21T00:00:00\",\"2008-08-22T00:00:00\",\"2008-08-23T00:00:00\",\"2008-08-24T00:00:00\",\"2008-08-25T00:00:00\",\"2008-08-26T00:00:00\",\"2008-08-27T00:00:00\",\"2008-08-28T00:00:00\",\"2008-08-29T00:00:00\",\"2008-08-30T00:00:00\",\"2008-08-31T00:00:00\",\"2008-09-01T00:00:00\",\"2008-09-02T00:00:00\",\"2008-09-03T00:00:00\",\"2008-09-04T00:00:00\",\"2008-09-05T00:00:00\",\"2008-09-06T00:00:00\",\"2008-09-07T00:00:00\",\"2008-09-08T00:00:00\",\"2008-09-09T00:00:00\",\"2008-09-10T00:00:00\",\"2008-09-11T00:00:00\",\"2008-09-12T00:00:00\",\"2008-09-13T00:00:00\",\"2008-09-14T00:00:00\",\"2008-09-15T00:00:00\",\"2008-09-16T00:00:00\",\"2008-09-17T00:00:00\",\"2008-09-18T00:00:00\",\"2008-09-19T00:00:00\",\"2008-09-20T00:00:00\",\"2008-09-21T00:00:00\",\"2008-09-22T00:00:00\",\"2008-09-23T00:00:00\",\"2008-09-24T00:00:00\",\"2008-09-25T00:00:00\",\"2008-09-26T00:00:00\",\"2008-09-27T00:00:00\",\"2008-09-28T00:00:00\",\"2008-09-29T00:00:00\",\"2008-09-30T00:00:00\",\"2008-10-01T00:00:00\",\"2008-10-02T00:00:00\",\"2008-10-03T00:00:00\",\"2008-10-04T00:00:00\",\"2008-10-05T00:00:00\",\"2008-10-06T00:00:00\",\"2008-10-07T00:00:00\",\"2008-10-08T00:00:00\",\"2008-10-09T00:00:00\",\"2008-10-10T00:00:00\",\"2008-10-11T00:00:00\",\"2008-10-12T00:00:00\",\"2008-10-13T00:00:00\",\"2008-10-14T00:00:00\",\"2008-10-15T00:00:00\",\"2008-10-16T00:00:00\",\"2008-10-17T00:00:00\",\"2008-10-18T00:00:00\",\"2008-10-19T00:00:00\",\"2008-10-20T00:00:00\",\"2008-10-21T00:00:00\",\"2008-10-22T00:00:00\",\"2008-10-23T00:00:00\",\"2008-10-24T00:00:00\",\"2008-10-25T00:00:00\",\"2008-10-26T00:00:00\",\"2008-10-27T00:00:00\",\"2008-10-28T00:00:00\",\"2008-10-29T00:00:00\",\"2008-10-30T00:00:00\",\"2008-10-31T00:00:00\",\"2008-11-01T00:00:00\",\"2008-11-02T00:00:00\",\"2008-11-03T00:00:00\",\"2008-11-04T00:00:00\",\"2008-11-05T00:00:00\",\"2008-11-06T00:00:00\",\"2008-11-07T00:00:00\",\"2008-11-08T00:00:00\",\"2008-11-09T00:00:00\",\"2008-11-10T00:00:00\",\"2008-11-11T00:00:00\",\"2008-11-12T00:00:00\",\"2008-11-13T00:00:00\",\"2008-11-14T00:00:00\",\"2008-11-15T00:00:00\",\"2008-11-16T00:00:00\",\"2008-11-17T00:00:00\",\"2008-11-18T00:00:00\",\"2008-11-19T00:00:00\",\"2008-11-20T00:00:00\",\"2008-11-21T00:00:00\",\"2008-11-22T00:00:00\",\"2008-11-23T00:00:00\",\"2008-11-24T00:00:00\",\"2008-11-25T00:00:00\",\"2008-11-26T00:00:00\",\"2008-11-27T00:00:00\",\"2008-11-28T00:00:00\",\"2008-11-29T00:00:00\",\"2008-11-30T00:00:00\",\"2008-12-01T00:00:00\",\"2008-12-02T00:00:00\",\"2008-12-03T00:00:00\",\"2008-12-04T00:00:00\",\"2008-12-05T00:00:00\",\"2008-12-06T00:00:00\",\"2008-12-07T00:00:00\",\"2008-12-08T00:00:00\",\"2008-12-09T00:00:00\",\"2008-12-10T00:00:00\",\"2008-12-11T00:00:00\",\"2008-12-12T00:00:00\",\"2008-12-13T00:00:00\",\"2008-12-14T00:00:00\",\"2008-12-15T00:00:00\",\"2008-12-16T00:00:00\",\"2008-12-17T00:00:00\",\"2008-12-18T00:00:00\",\"2008-12-19T00:00:00\",\"2008-12-20T00:00:00\",\"2008-12-21T00:00:00\",\"2008-12-22T00:00:00\",\"2008-12-23T00:00:00\",\"2008-12-24T00:00:00\",\"2008-12-25T00:00:00\",\"2008-12-26T00:00:00\",\"2008-12-27T00:00:00\",\"2008-12-28T00:00:00\",\"2008-12-29T00:00:00\",\"2008-12-30T00:00:00\",\"2008-12-31T00:00:00\",\"2009-01-01T00:00:00\",\"2009-01-02T00:00:00\",\"2009-01-03T00:00:00\",\"2009-01-04T00:00:00\",\"2009-01-05T00:00:00\",\"2009-01-06T00:00:00\",\"2009-01-07T00:00:00\",\"2009-01-08T00:00:00\",\"2009-01-09T00:00:00\",\"2009-01-10T00:00:00\",\"2009-01-11T00:00:00\",\"2009-01-12T00:00:00\",\"2009-01-13T00:00:00\",\"2009-01-14T00:00:00\",\"2009-01-15T00:00:00\",\"2009-01-16T00:00:00\",\"2009-01-17T00:00:00\",\"2009-01-18T00:00:00\",\"2009-01-19T00:00:00\",\"2009-01-20T00:00:00\",\"2009-01-21T00:00:00\",\"2009-01-22T00:00:00\",\"2009-01-23T00:00:00\",\"2009-01-24T00:00:00\",\"2009-01-25T00:00:00\",\"2009-01-26T00:00:00\",\"2009-01-27T00:00:00\",\"2009-01-28T00:00:00\",\"2009-01-29T00:00:00\",\"2009-01-30T00:00:00\",\"2009-01-31T00:00:00\",\"2009-02-01T00:00:00\",\"2009-02-02T00:00:00\",\"2009-02-03T00:00:00\",\"2009-02-04T00:00:00\",\"2009-02-05T00:00:00\",\"2009-02-06T00:00:00\",\"2009-02-07T00:00:00\",\"2009-02-08T00:00:00\",\"2009-02-09T00:00:00\",\"2009-02-10T00:00:00\",\"2009-02-11T00:00:00\",\"2009-02-12T00:00:00\",\"2009-02-13T00:00:00\",\"2009-02-14T00:00:00\",\"2009-02-15T00:00:00\",\"2009-02-16T00:00:00\",\"2009-02-17T00:00:00\",\"2009-02-18T00:00:00\",\"2009-02-19T00:00:00\",\"2009-02-20T00:00:00\",\"2009-02-21T00:00:00\",\"2009-02-22T00:00:00\",\"2009-02-23T00:00:00\",\"2009-02-24T00:00:00\",\"2009-02-25T00:00:00\",\"2009-02-26T00:00:00\",\"2009-02-27T00:00:00\",\"2009-02-28T00:00:00\",\"2009-03-01T00:00:00\",\"2009-03-02T00:00:00\",\"2009-03-03T00:00:00\",\"2009-03-04T00:00:00\",\"2009-03-05T00:00:00\",\"2009-03-06T00:00:00\",\"2009-03-07T00:00:00\",\"2009-03-08T00:00:00\",\"2009-03-09T00:00:00\",\"2009-03-10T00:00:00\",\"2009-03-11T00:00:00\",\"2009-03-12T00:00:00\",\"2009-03-13T00:00:00\",\"2009-03-14T00:00:00\",\"2009-03-15T00:00:00\",\"2009-03-16T00:00:00\",\"2009-03-17T00:00:00\",\"2009-03-18T00:00:00\",\"2009-03-19T00:00:00\",\"2009-03-20T00:00:00\",\"2009-03-21T00:00:00\",\"2009-03-22T00:00:00\",\"2009-03-23T00:00:00\",\"2009-03-24T00:00:00\",\"2009-03-25T00:00:00\",\"2009-03-26T00:00:00\",\"2009-03-27T00:00:00\",\"2009-03-28T00:00:00\",\"2009-03-29T00:00:00\",\"2009-03-30T00:00:00\",\"2009-03-31T00:00:00\",\"2009-04-01T00:00:00\",\"2009-04-02T00:00:00\",\"2009-04-03T00:00:00\",\"2009-04-04T00:00:00\",\"2009-04-05T00:00:00\",\"2009-04-06T00:00:00\",\"2009-04-07T00:00:00\",\"2009-04-08T00:00:00\",\"2009-04-09T00:00:00\",\"2009-04-10T00:00:00\",\"2009-04-11T00:00:00\",\"2009-04-12T00:00:00\",\"2009-04-13T00:00:00\",\"2009-04-14T00:00:00\",\"2009-04-15T00:00:00\",\"2009-04-16T00:00:00\",\"2009-04-17T00:00:00\",\"2009-04-18T00:00:00\",\"2009-04-19T00:00:00\",\"2009-04-20T00:00:00\",\"2009-04-21T00:00:00\",\"2009-04-22T00:00:00\",\"2009-04-23T00:00:00\",\"2009-04-24T00:00:00\",\"2009-04-25T00:00:00\",\"2009-04-26T00:00:00\",\"2009-04-27T00:00:00\",\"2009-04-28T00:00:00\",\"2009-04-29T00:00:00\",\"2009-04-30T00:00:00\",\"2009-05-01T00:00:00\",\"2009-05-02T00:00:00\",\"2009-05-03T00:00:00\",\"2009-05-04T00:00:00\",\"2009-05-05T00:00:00\",\"2009-05-06T00:00:00\",\"2009-05-07T00:00:00\",\"2009-05-08T00:00:00\",\"2009-05-09T00:00:00\",\"2009-05-10T00:00:00\",\"2009-05-11T00:00:00\",\"2009-05-12T00:00:00\",\"2009-05-13T00:00:00\",\"2009-05-14T00:00:00\",\"2009-05-15T00:00:00\",\"2009-05-16T00:00:00\",\"2009-05-17T00:00:00\",\"2009-05-18T00:00:00\",\"2009-05-19T00:00:00\",\"2009-05-20T00:00:00\",\"2009-05-21T00:00:00\",\"2009-05-22T00:00:00\",\"2009-05-23T00:00:00\",\"2009-05-24T00:00:00\",\"2009-05-25T00:00:00\",\"2009-05-26T00:00:00\",\"2009-05-27T00:00:00\",\"2009-05-28T00:00:00\",\"2009-05-29T00:00:00\",\"2009-05-30T00:00:00\",\"2009-05-31T00:00:00\",\"2009-06-01T00:00:00\",\"2009-06-02T00:00:00\",\"2009-06-03T00:00:00\",\"2009-06-04T00:00:00\",\"2009-06-05T00:00:00\",\"2009-06-06T00:00:00\",\"2009-06-07T00:00:00\",\"2009-06-08T00:00:00\",\"2009-06-09T00:00:00\",\"2009-06-10T00:00:00\",\"2009-06-11T00:00:00\",\"2009-06-12T00:00:00\",\"2009-06-13T00:00:00\",\"2009-06-14T00:00:00\",\"2009-06-15T00:00:00\",\"2009-06-16T00:00:00\",\"2009-06-17T00:00:00\",\"2009-06-18T00:00:00\",\"2009-06-19T00:00:00\",\"2009-06-20T00:00:00\",\"2009-06-21T00:00:00\",\"2009-06-22T00:00:00\",\"2009-06-23T00:00:00\",\"2009-06-24T00:00:00\",\"2009-06-25T00:00:00\",\"2009-06-26T00:00:00\",\"2009-06-27T00:00:00\",\"2009-06-28T00:00:00\",\"2009-06-29T00:00:00\",\"2009-06-30T00:00:00\",\"2009-07-01T00:00:00\",\"2009-07-02T00:00:00\",\"2009-07-03T00:00:00\",\"2009-07-04T00:00:00\",\"2009-07-05T00:00:00\",\"2009-07-06T00:00:00\",\"2009-07-07T00:00:00\",\"2009-07-08T00:00:00\",\"2009-07-09T00:00:00\",\"2009-07-10T00:00:00\",\"2009-07-11T00:00:00\",\"2009-07-12T00:00:00\",\"2009-07-13T00:00:00\",\"2009-07-14T00:00:00\",\"2009-07-15T00:00:00\",\"2009-07-16T00:00:00\",\"2009-07-17T00:00:00\",\"2009-07-18T00:00:00\",\"2009-07-19T00:00:00\",\"2009-07-20T00:00:00\",\"2009-07-21T00:00:00\",\"2009-07-22T00:00:00\",\"2009-07-23T00:00:00\",\"2009-07-24T00:00:00\",\"2009-07-25T00:00:00\",\"2009-07-26T00:00:00\",\"2009-07-27T00:00:00\",\"2009-07-28T00:00:00\",\"2009-07-29T00:00:00\",\"2009-07-30T00:00:00\",\"2009-07-31T00:00:00\",\"2009-08-01T00:00:00\",\"2009-08-02T00:00:00\",\"2009-08-03T00:00:00\",\"2009-08-04T00:00:00\",\"2009-08-05T00:00:00\",\"2009-08-06T00:00:00\",\"2009-08-07T00:00:00\",\"2009-08-08T00:00:00\",\"2009-08-09T00:00:00\",\"2009-08-10T00:00:00\",\"2009-08-11T00:00:00\",\"2009-08-12T00:00:00\",\"2009-08-13T00:00:00\",\"2009-08-14T00:00:00\",\"2009-08-15T00:00:00\",\"2009-08-16T00:00:00\",\"2009-08-17T00:00:00\",\"2009-08-18T00:00:00\",\"2009-08-19T00:00:00\",\"2009-08-20T00:00:00\",\"2009-08-21T00:00:00\",\"2009-08-22T00:00:00\",\"2009-08-23T00:00:00\",\"2009-08-24T00:00:00\",\"2009-08-25T00:00:00\",\"2009-08-26T00:00:00\",\"2009-08-27T00:00:00\",\"2009-08-28T00:00:00\",\"2009-08-29T00:00:00\",\"2009-08-30T00:00:00\",\"2009-08-31T00:00:00\",\"2009-09-01T00:00:00\",\"2009-09-02T00:00:00\",\"2009-09-03T00:00:00\",\"2009-09-04T00:00:00\",\"2009-09-05T00:00:00\",\"2009-09-06T00:00:00\",\"2009-09-07T00:00:00\",\"2009-09-08T00:00:00\",\"2009-09-09T00:00:00\",\"2009-09-10T00:00:00\",\"2009-09-11T00:00:00\",\"2009-09-12T00:00:00\",\"2009-09-13T00:00:00\",\"2009-09-14T00:00:00\",\"2009-09-15T00:00:00\",\"2009-09-16T00:00:00\",\"2009-09-17T00:00:00\",\"2009-09-18T00:00:00\",\"2009-09-19T00:00:00\",\"2009-09-20T00:00:00\",\"2009-09-21T00:00:00\",\"2009-09-22T00:00:00\",\"2009-09-23T00:00:00\",\"2009-09-24T00:00:00\",\"2009-09-25T00:00:00\",\"2009-09-26T00:00:00\",\"2009-09-27T00:00:00\",\"2009-09-28T00:00:00\",\"2009-09-29T00:00:00\",\"2009-09-30T00:00:00\",\"2009-10-01T00:00:00\",\"2009-10-02T00:00:00\",\"2009-10-03T00:00:00\",\"2009-10-04T00:00:00\",\"2009-10-05T00:00:00\",\"2009-10-06T00:00:00\",\"2009-10-07T00:00:00\",\"2009-10-08T00:00:00\",\"2009-10-09T00:00:00\",\"2009-10-10T00:00:00\",\"2009-10-11T00:00:00\",\"2009-10-12T00:00:00\",\"2009-10-13T00:00:00\",\"2009-10-14T00:00:00\",\"2009-10-15T00:00:00\",\"2009-10-16T00:00:00\",\"2009-10-17T00:00:00\",\"2009-10-18T00:00:00\",\"2009-10-19T00:00:00\",\"2009-10-20T00:00:00\",\"2009-10-21T00:00:00\",\"2009-10-22T00:00:00\",\"2009-10-23T00:00:00\",\"2009-10-24T00:00:00\",\"2009-10-25T00:00:00\",\"2009-10-26T00:00:00\",\"2009-10-27T00:00:00\",\"2009-10-28T00:00:00\",\"2009-10-29T00:00:00\",\"2009-10-30T00:00:00\",\"2009-10-31T00:00:00\",\"2009-11-01T00:00:00\",\"2009-11-02T00:00:00\",\"2009-11-03T00:00:00\",\"2009-11-04T00:00:00\",\"2009-11-05T00:00:00\",\"2009-11-06T00:00:00\",\"2009-11-07T00:00:00\",\"2009-11-08T00:00:00\",\"2009-11-09T00:00:00\",\"2009-11-10T00:00:00\",\"2009-11-11T00:00:00\",\"2009-11-12T00:00:00\",\"2009-11-13T00:00:00\",\"2009-11-14T00:00:00\",\"2009-11-15T00:00:00\",\"2009-11-16T00:00:00\",\"2009-11-17T00:00:00\",\"2009-11-18T00:00:00\",\"2009-11-19T00:00:00\",\"2009-11-20T00:00:00\",\"2009-11-21T00:00:00\",\"2009-11-22T00:00:00\",\"2009-11-23T00:00:00\",\"2009-11-24T00:00:00\",\"2009-11-25T00:00:00\",\"2009-11-26T00:00:00\",\"2009-11-27T00:00:00\",\"2009-11-28T00:00:00\",\"2009-11-29T00:00:00\",\"2009-11-30T00:00:00\",\"2009-12-01T00:00:00\",\"2009-12-02T00:00:00\",\"2009-12-03T00:00:00\",\"2009-12-04T00:00:00\",\"2009-12-05T00:00:00\",\"2009-12-06T00:00:00\",\"2009-12-07T00:00:00\",\"2009-12-08T00:00:00\",\"2009-12-09T00:00:00\",\"2009-12-10T00:00:00\",\"2009-12-11T00:00:00\",\"2009-12-12T00:00:00\",\"2009-12-13T00:00:00\",\"2009-12-14T00:00:00\",\"2009-12-15T00:00:00\",\"2009-12-16T00:00:00\",\"2009-12-17T00:00:00\",\"2009-12-18T00:00:00\",\"2009-12-19T00:00:00\",\"2009-12-20T00:00:00\",\"2009-12-21T00:00:00\",\"2009-12-22T00:00:00\",\"2009-12-23T00:00:00\",\"2009-12-24T00:00:00\",\"2009-12-25T00:00:00\",\"2009-12-26T00:00:00\",\"2009-12-27T00:00:00\",\"2009-12-28T00:00:00\",\"2009-12-29T00:00:00\",\"2009-12-30T00:00:00\",\"2009-12-31T00:00:00\",\"2010-01-01T00:00:00\",\"2010-01-02T00:00:00\",\"2010-01-03T00:00:00\",\"2010-01-04T00:00:00\",\"2010-01-05T00:00:00\",\"2010-01-06T00:00:00\",\"2010-01-07T00:00:00\",\"2010-01-08T00:00:00\",\"2010-01-09T00:00:00\",\"2010-01-10T00:00:00\",\"2010-01-11T00:00:00\",\"2010-01-12T00:00:00\",\"2010-01-13T00:00:00\",\"2010-01-14T00:00:00\",\"2010-01-15T00:00:00\",\"2010-01-16T00:00:00\",\"2010-01-17T00:00:00\",\"2010-01-18T00:00:00\",\"2010-01-19T00:00:00\",\"2010-01-20T00:00:00\",\"2010-01-21T00:00:00\",\"2010-01-22T00:00:00\",\"2010-01-23T00:00:00\",\"2010-01-24T00:00:00\",\"2010-01-25T00:00:00\",\"2010-01-26T00:00:00\",\"2010-01-27T00:00:00\",\"2010-01-28T00:00:00\",\"2010-01-29T00:00:00\",\"2010-01-30T00:00:00\",\"2010-01-31T00:00:00\",\"2010-02-01T00:00:00\",\"2010-02-02T00:00:00\",\"2010-02-03T00:00:00\",\"2010-02-04T00:00:00\",\"2010-02-05T00:00:00\",\"2010-02-06T00:00:00\",\"2010-02-07T00:00:00\",\"2010-02-08T00:00:00\",\"2010-02-09T00:00:00\",\"2010-02-10T00:00:00\",\"2010-02-11T00:00:00\",\"2010-02-12T00:00:00\",\"2010-02-13T00:00:00\",\"2010-02-14T00:00:00\",\"2010-02-15T00:00:00\",\"2010-02-16T00:00:00\",\"2010-02-17T00:00:00\",\"2010-02-18T00:00:00\",\"2010-02-19T00:00:00\",\"2010-02-20T00:00:00\",\"2010-02-21T00:00:00\",\"2010-02-22T00:00:00\",\"2010-02-23T00:00:00\",\"2010-02-24T00:00:00\",\"2010-02-25T00:00:00\",\"2010-02-26T00:00:00\",\"2010-02-27T00:00:00\",\"2010-02-28T00:00:00\",\"2010-03-01T00:00:00\",\"2010-03-02T00:00:00\",\"2010-03-03T00:00:00\",\"2010-03-04T00:00:00\",\"2010-03-05T00:00:00\",\"2010-03-06T00:00:00\",\"2010-03-07T00:00:00\",\"2010-03-08T00:00:00\",\"2010-03-09T00:00:00\",\"2010-03-10T00:00:00\",\"2010-03-11T00:00:00\",\"2010-03-12T00:00:00\",\"2010-03-13T00:00:00\",\"2010-03-14T00:00:00\",\"2010-03-15T00:00:00\",\"2010-03-16T00:00:00\",\"2010-03-17T00:00:00\",\"2010-03-18T00:00:00\",\"2010-03-19T00:00:00\",\"2010-03-20T00:00:00\",\"2010-03-21T00:00:00\",\"2010-03-22T00:00:00\",\"2010-03-23T00:00:00\",\"2010-03-24T00:00:00\",\"2010-03-25T00:00:00\",\"2010-03-26T00:00:00\",\"2010-03-27T00:00:00\",\"2010-03-28T00:00:00\",\"2010-03-29T00:00:00\",\"2010-03-30T00:00:00\",\"2010-03-31T00:00:00\",\"2010-04-01T00:00:00\",\"2010-04-02T00:00:00\",\"2010-04-03T00:00:00\",\"2010-04-04T00:00:00\",\"2010-04-05T00:00:00\",\"2010-04-06T00:00:00\",\"2010-04-07T00:00:00\",\"2010-04-08T00:00:00\",\"2010-04-09T00:00:00\",\"2010-04-10T00:00:00\",\"2010-04-11T00:00:00\",\"2010-04-12T00:00:00\",\"2010-04-13T00:00:00\",\"2010-04-14T00:00:00\",\"2010-04-15T00:00:00\",\"2010-04-16T00:00:00\",\"2010-04-17T00:00:00\",\"2010-04-18T00:00:00\",\"2010-04-19T00:00:00\",\"2010-04-20T00:00:00\",\"2010-04-21T00:00:00\",\"2010-04-22T00:00:00\",\"2010-04-23T00:00:00\",\"2010-04-24T00:00:00\",\"2010-04-25T00:00:00\",\"2010-04-26T00:00:00\",\"2010-04-27T00:00:00\",\"2010-04-28T00:00:00\",\"2010-04-29T00:00:00\",\"2010-04-30T00:00:00\",\"2010-05-01T00:00:00\",\"2010-05-02T00:00:00\",\"2010-05-03T00:00:00\",\"2010-05-04T00:00:00\",\"2010-05-05T00:00:00\",\"2010-05-06T00:00:00\",\"2010-05-07T00:00:00\",\"2010-05-08T00:00:00\",\"2010-05-09T00:00:00\",\"2010-05-10T00:00:00\",\"2010-05-11T00:00:00\",\"2010-05-12T00:00:00\",\"2010-05-13T00:00:00\",\"2010-05-14T00:00:00\",\"2010-05-15T00:00:00\",\"2010-05-16T00:00:00\",\"2010-05-17T00:00:00\",\"2010-05-18T00:00:00\",\"2010-05-19T00:00:00\",\"2010-05-20T00:00:00\",\"2010-05-21T00:00:00\",\"2010-05-22T00:00:00\",\"2010-05-23T00:00:00\",\"2010-05-24T00:00:00\",\"2010-05-25T00:00:00\",\"2010-05-26T00:00:00\",\"2010-05-27T00:00:00\",\"2010-05-28T00:00:00\",\"2010-05-29T00:00:00\",\"2010-05-30T00:00:00\",\"2010-05-31T00:00:00\",\"2010-06-01T00:00:00\",\"2010-06-02T00:00:00\",\"2010-06-03T00:00:00\",\"2010-06-04T00:00:00\",\"2010-06-05T00:00:00\",\"2010-06-06T00:00:00\",\"2010-06-07T00:00:00\",\"2010-06-08T00:00:00\",\"2010-06-09T00:00:00\",\"2010-06-10T00:00:00\",\"2010-06-11T00:00:00\",\"2010-06-12T00:00:00\",\"2010-06-13T00:00:00\",\"2010-06-14T00:00:00\",\"2010-06-15T00:00:00\",\"2010-06-16T00:00:00\",\"2010-06-17T00:00:00\",\"2010-06-18T00:00:00\",\"2010-06-19T00:00:00\",\"2010-06-20T00:00:00\",\"2010-06-21T00:00:00\",\"2010-06-22T00:00:00\",\"2010-06-23T00:00:00\",\"2010-06-24T00:00:00\",\"2010-06-25T00:00:00\",\"2010-06-26T00:00:00\",\"2010-06-27T00:00:00\",\"2010-06-28T00:00:00\",\"2010-06-29T00:00:00\",\"2010-06-30T00:00:00\",\"2010-07-01T00:00:00\",\"2010-07-02T00:00:00\",\"2010-07-03T00:00:00\",\"2010-07-04T00:00:00\",\"2010-07-05T00:00:00\",\"2010-07-06T00:00:00\",\"2010-07-07T00:00:00\",\"2010-07-08T00:00:00\",\"2010-07-09T00:00:00\",\"2010-07-10T00:00:00\",\"2010-07-11T00:00:00\",\"2010-07-12T00:00:00\",\"2010-07-13T00:00:00\",\"2010-07-14T00:00:00\",\"2010-07-15T00:00:00\",\"2010-07-16T00:00:00\",\"2010-07-17T00:00:00\",\"2010-07-18T00:00:00\",\"2010-07-19T00:00:00\",\"2010-07-20T00:00:00\",\"2010-07-21T00:00:00\",\"2010-07-22T00:00:00\",\"2010-07-23T00:00:00\",\"2010-07-24T00:00:00\",\"2010-07-25T00:00:00\",\"2010-07-26T00:00:00\",\"2010-07-27T00:00:00\",\"2010-07-28T00:00:00\",\"2010-07-29T00:00:00\",\"2010-07-30T00:00:00\",\"2010-07-31T00:00:00\",\"2010-08-01T00:00:00\",\"2010-08-02T00:00:00\",\"2010-08-03T00:00:00\",\"2010-08-04T00:00:00\",\"2010-08-05T00:00:00\",\"2010-08-06T00:00:00\",\"2010-08-07T00:00:00\",\"2010-08-08T00:00:00\",\"2010-08-09T00:00:00\",\"2010-08-10T00:00:00\",\"2010-08-11T00:00:00\",\"2010-08-12T00:00:00\",\"2010-08-13T00:00:00\",\"2010-08-14T00:00:00\",\"2010-08-15T00:00:00\",\"2010-08-16T00:00:00\",\"2010-08-17T00:00:00\",\"2010-08-18T00:00:00\",\"2010-08-19T00:00:00\",\"2010-08-20T00:00:00\",\"2010-08-21T00:00:00\",\"2010-08-22T00:00:00\",\"2010-08-23T00:00:00\",\"2010-08-24T00:00:00\",\"2010-08-25T00:00:00\",\"2010-08-26T00:00:00\",\"2010-08-27T00:00:00\",\"2010-08-28T00:00:00\",\"2010-08-29T00:00:00\",\"2010-08-30T00:00:00\",\"2010-08-31T00:00:00\",\"2010-09-01T00:00:00\",\"2010-09-02T00:00:00\",\"2010-09-03T00:00:00\",\"2010-09-04T00:00:00\",\"2010-09-05T00:00:00\",\"2010-09-06T00:00:00\",\"2010-09-07T00:00:00\",\"2010-09-08T00:00:00\",\"2010-09-09T00:00:00\",\"2010-09-10T00:00:00\",\"2010-09-11T00:00:00\",\"2010-09-12T00:00:00\",\"2010-09-13T00:00:00\",\"2010-09-14T00:00:00\",\"2010-09-15T00:00:00\",\"2010-09-16T00:00:00\",\"2010-09-17T00:00:00\",\"2010-09-18T00:00:00\",\"2010-09-19T00:00:00\",\"2010-09-20T00:00:00\",\"2010-09-21T00:00:00\",\"2010-09-22T00:00:00\",\"2010-09-23T00:00:00\",\"2010-09-24T00:00:00\",\"2010-09-25T00:00:00\",\"2010-09-26T00:00:00\",\"2010-09-27T00:00:00\",\"2010-09-28T00:00:00\",\"2010-09-29T00:00:00\",\"2010-09-30T00:00:00\",\"2010-10-01T00:00:00\",\"2010-10-02T00:00:00\",\"2010-10-03T00:00:00\",\"2010-10-04T00:00:00\",\"2010-10-05T00:00:00\",\"2010-10-06T00:00:00\",\"2010-10-07T00:00:00\",\"2010-10-08T00:00:00\",\"2010-10-09T00:00:00\",\"2010-10-10T00:00:00\",\"2010-10-11T00:00:00\",\"2010-10-12T00:00:00\",\"2010-10-13T00:00:00\",\"2010-10-14T00:00:00\",\"2010-10-15T00:00:00\",\"2010-10-16T00:00:00\",\"2010-10-17T00:00:00\",\"2010-10-18T00:00:00\",\"2010-10-19T00:00:00\",\"2010-10-20T00:00:00\",\"2010-10-21T00:00:00\",\"2010-10-22T00:00:00\",\"2010-10-23T00:00:00\",\"2010-10-24T00:00:00\",\"2010-10-25T00:00:00\",\"2010-10-26T00:00:00\",\"2010-10-27T00:00:00\",\"2010-10-28T00:00:00\",\"2010-10-29T00:00:00\",\"2010-10-30T00:00:00\",\"2010-10-31T00:00:00\",\"2010-11-01T00:00:00\",\"2010-11-02T00:00:00\",\"2010-11-03T00:00:00\",\"2010-11-04T00:00:00\",\"2010-11-05T00:00:00\",\"2010-11-06T00:00:00\",\"2010-11-07T00:00:00\",\"2010-11-08T00:00:00\",\"2010-11-09T00:00:00\",\"2010-11-10T00:00:00\",\"2010-11-11T00:00:00\",\"2010-11-12T00:00:00\",\"2010-11-13T00:00:00\",\"2010-11-14T00:00:00\",\"2010-11-15T00:00:00\",\"2010-11-16T00:00:00\",\"2010-11-17T00:00:00\",\"2010-11-18T00:00:00\",\"2010-11-19T00:00:00\",\"2010-11-20T00:00:00\",\"2010-11-21T00:00:00\",\"2010-11-22T00:00:00\",\"2010-11-23T00:00:00\",\"2010-11-24T00:00:00\",\"2010-11-25T00:00:00\",\"2010-11-26T00:00:00\"],\"xaxis\":\"x\",\"y\":[13.082828282828283,9.999027777777778,6.421666666666667,4.926388888888889,6.467361111111111,5.0332329990424824,6.872916666666667,14.028055555555557,7.640416666666667,7.951527777777779,11.347916666666666,4.5175,6.086250000000001,9.271388888888888,8.287121887931372,10.199583333333333,7.916944444444444,3.7140277777777775,3.0140277777777778,9.478194444444444,7.885138888888889,4.543888888888889,7.282638888888889,6.551666666666667,5.521111111111111,6.357777777777779,6.658333333333333,4.309166666666666,9.453055555555554,8.965297055076796,6.261527777777778,4.975972222222222,8.283888888888889,5.3425,4.37625,9.348055555555556,10.190694444444444,6.355277777777778,5.260833333333333,8.733611111111111,4.629305555555556,4.721388888888889,5.949861111111111,9.130574832854574,5.788888888888889,5.028194444444445,6.923611111111111,5.3325000000000005,4.870833333333334,11.815972222222221,10.565416666666668,4.820416666666667,3.7719444444444448,6.791666666666667,5.248333333333334,4.727222222222222,8.303749999999999,10.526805555555557,5.503472222222222,4.14375,7.315138888888888,5.820277777777778,5.0465277777777775,6.129166666666666,11.238888888888889,6.442222222222222,9.168472222222222,6.0744444444444445,9.86351077682026,3.825416666666667,2.0858333333333334,1.462222222222222,1.658888888888889,1.5245833333333334,1.5284722222222222,1.508888888888889,1.5068055555555557,2.401111111111111,6.158194444444444,7.840277777777778,3.6956944444444444,6.935,4.665138888888889,3.73125,7.341944444444445,10.121527777777779,5.728472222222222,3.8056944444444443,5.2675,5.523194444444444,4.992361111111111,5.946111111111111,7.007916666666667,6.281944444444444,6.151249999999999,6.237222222222223,4.223055555555556,3.80375,8.703333333333333,9.71876927729902,4.183055555555556,3.296527777777778,6.854583333333333,4.676805555555556,4.189583333333333,10.264722222222222,8.149444444444445,5.71263888888889,4.84625,5.98625,5.491527777777778,4.688611111111111,4.564583333333333,4.719861111111111,2.974583333333333,2.347361111111111,2.61875,1.5979166666666667,1.6433333333333333,1.6513888888888888,2.1865277777777776,2.8724999999999996,3.6908333333333334,2.9954166666666664,3.055833333333333,2.494861111111111,5.035694444444444,6.688472222222222,3.264166666666666,3.1448611111111116,3.858055555555556,3.92375,3.3125,4.627910042863293,4.627759310587133,4.072350030796724,5.073333333333333,3.1415277777777777,3.307638888888889,3.0780555555555553,4.736111111111111,6.409027777777778,4.980972222222222,5.356388888888889,5.056111111111111,2.2068055555555555,3.027638888888889,4.360555555555555,4.969166666666667,4.574166666666667,2.7333333333333334,5.071805555555556,3.720972222222222,4.876666666666666,4.319305555555555,5.941527777777777,3.338611111111111,3.3998611111111114,4.3975,3.462083333333333,4.863472222222222,4.562777777777778,6.5065277777777775,4.921944444444445,3.2072222222222218,4.8284722222222225,2.7918055555555554,3.136685943965685,4.474027777777778,6.352916666666667,2.8222222222222224,4.465138888888889,5.108491499521241,2.9823611111111115,6.448194444444444,3.292399204029383,4.005694444444444,2.4179166666666667,2.8586111111111108,2.8175,3.783333333333333,3.0662499999999997,5.975,5.7693055555555555,2.07875,2.563649665709149,3.3068055555555556,2.500833333333333,1.807361111111111,1.5356944444444445,2.207638888888889,3.25,2.877083333333333,4.429166666666666,3.8895833333333334,3.9429359439656855,3.9715277777777778,3.080694444444444,2.9277777777777776,3.2306944444444445,3.0954166666666665,3.2331944444444445,3.2686111111111114,4.034861111111111,3.289305555555556,3.51625,2.786111111111111,2.1994444444444445,3.2336111111111108,2.450833333333333,3.8940277777777776,3.2302838266502274,2.6605555555555553,2.27625,2.3868055555555556,2.1438888888888887,3.451666666666666,3.291527777777778,4.226824832854574,3.075972222222222,2.550972222222222,1.4793055555555554,2.8381944444444445,3.6233333333333335,4.941666666666666,1.0334722222222223,1.4672222222222224,2.5025,3.2734603788349514,3.087083333333333,3.2072222222222218,3.4523611111111108,2.4368055555555554,3.3170833333333336,4.425972222222222,3.3805555555555555,3.272361111111111,3.1297222222222225,3.2856944444444443,3.742777777777778,3.44875,2.8541666666666665,3.5420833333333337,2.843888888888889,2.9815277777777776,1.0788888888888888,4.2619444444444445,3.9633333333333334,1.961111111111111,3.57125,3.330277777777778,4.938352610632352,3.55375,4.012638888888889,3.6912499999999997,2.996111111111111,2.279583333333333,3.6043055555555554,3.788472222222222,5.065416666666667,5.017222222222222,3.1306944444444444,4.755972222222223,3.697638888888889,2.752222222222222,4.007222222222222,4.391944444444444,5.054027777777778,3.36375,2.9520833333333334,3.86,3.4644444444444447,3.444722222222222,3.278194444444445,4.96625,4.413472222222222,3.5127777777777776,3.8833333333333333,3.720972222222222,3.732638888888889,3.515138888888889,4.28,4.078749999999999,5.206388888888889,5.3760107768202605,4.0777777777777775,4.994166666666667,6.7931944444444445,4.452500000000001,5.0737499999999995,6.474027777777778,3.8,4.454583333333334,4.089722222222222,5.167638888888889,6.207916666666667,3.2311111111111113,4.9823611111111115,3.4886111111111116,5.1090277777777775,5.667083333333333,5.700694444444444,6.078749999999999,3.7219444444444445,5.823194444444444,4.6369444444444445,4.43375,6.103194444444445,4.814722222222222,5.701666666666666,4.805833333333333,5.710594110153593,5.473194444444444,5.413611111111111,4.365833333333334,5.309166666666666,1.485277777777778,1.5744444444444443,2.3513888888888888,3.7423611111111112,1.4359722222222224,4.202638888888889,1.4343055555555557,4.384027777777778,4.39625,6.149861111111111,5.481111111111111,4.435,6.367222222222222,7.706944444444445,5.540555555555556,6.271944444444444,6.4534722222222225,5.9406944444444445,4.396388888888889,6.718055555555556,7.598888888888888,6.3476388888888895,5.00625,6.090416666666667,5.114602610632352,5.65625,7.340694444444445,5.512638888888889,4.086666666666667,4.601388888888889,8.15625,4.775555555555556,5.0182137217434635,6.757222222222222,9.191527777777777,8.618611111111111,5.165555555555556,6.045138888888889,6.348194444444444,7.337916666666667,5.157916666666666,6.508055555555556,6.701527777777779,5.174583333333333,6.7122222222222225,4.591111111111111,5.419583333333334,5.757777777777778,7.98,7.992222222222222,5.189047055076797,7.602083333333334,6.334444444444444,5.613333333333333,5.713749999999999,7.593472222222222,6.982777777777779,6.549722222222223,7.790972222222222,7.426111111111111,7.395833333333333,9.030555555555555,9.56,7.465694444444445,6.455,7.978611111111111,4.770416666666667,4.401666666666666,6.715138888888888,6.446805555555556,5.390138888888889,4.915277777777778,5.99,5.231944444444444,5.5945833333333335,4.963472222222222,8.523888888888889,8.446685943965685,6.014583333333333,7.891249999999999,6.319583333333334,4.6450000000000005,6.432222222222222,5.828888888888889,5.148888888888889,5.519027777777778,6.92875,5.520277777777777,4.887916666666667,6.544027777777777,8.366666666666667,6.984861111111112,6.769583333333334,7.8422222222222215,4.826388888888889,5.793333333333333,4.5176388888888885,8.646685943965686,6.135694444444444,4.777222222222222,7.2105555555555565,4.9336111111111105,4.439305555555555,5.747222222222222,6.09,6.396805555555555,4.931805555555556,5.847083333333333,5.5801388888888885,4.68375,5.78125,6.893888888888889,5.654444444444445,4.37625,6.219722222222222,6.608333333333333,4.788472222222222,5.055277777777778,5.410455221264704,3.638888888888889,1.4555555555555555,1.4590277777777778,1.6341666666666665,1.4669444444444446,3.872638888888889,3.277638888888889,3.425,2.9775,4.867638888888889,5.970833333333333,7.214583333333334,5.441666666666666,6.588333333333334,4.591111111111111,4.7125,6.466944444444445,5.1722222222222225,4.941666666666666,6.44625,4.6506944444444445,5.298333333333334,5.006944444444445,5.571944444444445,3.825555555555556,3.6595833333333334,6.038194444444445,6.020277777777778,6.790555555555556,5.7571026106323515,5.870555555555556,4.763055555555556,3.9608333333333334,5.479027777777778,7.209305555555555,6.2775,4.005972222222223,6.202500000000001,5.007638888888889,3.2808333333333333,4.726388888888889,5.784861111111112,4.946388888888889,4.484166666666667,7.6994444444444445,3.5229166666666667,4.305416666666667,5.452638888888889,8.218194444444444,6.551805555555556,4.604305555555555,4.909583333333334,4.316111111111111,4.104305555555555,5.457638888888889,6.636111111111111,5.260555555555555,3.404166666666667,4.7725,3.9675,3.0580555555555557,3.7,2.634027777777778,2.96375,1.9506944444444445,5.770694444444444,3.218611111111111,1.7023611111111112,4.377777777777778,3.8009722222222218,4.3625,3.997777777777778,5.245972222222222,3.4575,6.178472222222222,5.136111111111111,5.636388888888889,4.804166666666666,4.519444444444445,4.391805555555555,4.713333333333333,3.5220833333333337,4.921844110153594,4.951527777777778,5.4094444444444445,3.0694444444444446,4.682222222222222,3.9166666666666665,2.9559722222222224,4.358611111111111,4.669027777777777,6.136527777777778,3.9297222222222223,5.1073611111111115,3.3505555555555557,3.4756944444444446,4.202916666666667,4.923055555555555,5.423194444444444,3.2180555555555554,4.844166666666667,4.8277777777777775,3.3976388888888893,3.6720833333333336,5.531944444444444,4.596111111111111,4.039722222222222,3.204861111111111,3.388472222222222,3.7993055555555557,5.605297055076797,4.207777777777777,6.773611111111111,3.9047222222222224,3.4345833333333333,5.711388888888889,4.737916666666667,5.008194444444444,5.134166666666666,4.674027777777778,3.7919444444444443,5.262222222222222,3.9109722222222225,3.2111111111111112,5.236666666666666,3.6859722222222224,2.3311111111111114,2.4791666666666665,3.74,3.569583333333333,3.3431944444444444,2.8283333333333336,4.386527777777778,5.359444444444445,2.968611111111111,3.371388888888889,2.7752777777777777,3.7434722222222225,3.782222222222222,4.050416666666667,3.770316332375815,3.431666666666667,3.435694444444444,3.2368055555555557,4.026666666666666,3.736944444444444,4.019722222222222,2.836388888888889,3.482083333333333,2.272638888888889,2.8494444444444444,3.2215277777777778,2.618333333333333,2.4944444444444445,3.5125,2.5743055555555556,3.6408333333333336,4.065138888888889,4.231805555555556,2.3279166666666664,1.5879166666666666,1.5766666666666667,3.4180748328545745,2.5059722222222223,1.0904166666666666,1.1206944444444444,1.0055555555555555,1.1602777777777777,1.1225,1.1706944444444445,0.9534722222222223,0.9315277777777778,0.885,0.8959722222222223,0.8994444444444445,0.8977777777777778,0.8943055555555556,0.9033333333333333,0.8833333333333333,0.8497222222222222,0.8720833333333333,0.8308333333333334,0.8263888888888888,0.8083333333333333,0.8372222222222222,0.8331944444444445,0.875,0.875,0.88625,4.450435943965686,3.7325,4.141527777777778,4.118611111111111,3.6547222222222224,2.6055555555555556,5.524444444444445,4.080833333333333,3.8533333333333335,3.4644444444444447,3.8575,3.080277777777778,4.144583333333333,4.820138888888889,4.734999999999999,5.071805555555556,3.6193055555555556,4.489722222222222,4.447361111111111,4.47875,3.8055555555555554,4.560277777777778,4.012638888888889,3.6841666666666666,5.031666666666667,3.34375,4.239583333333333,6.258611111111111,5.079583333333334,4.4094444444444445,4.0247222222222225,5.482083333333334,3.948611111111111,4.745694444444444,6.144861111111111,4.534166666666667,4.216388888888889,5.166111111111111,5.43125,5.812361111111111,4.436805555555556,4.905972222222222,5.615138888888889,4.254305555555556,4.730138888888889,6.328194444444445,4.66125,5.475833333333333,6.547083333333333,5.805277777777778,4.860277777777778,6.080833333333333,4.836944444444445,5.374583333333333,6.266944444444444,4.556940034968921,1.4991666666666668,1.5091666666666665,3.8531944444444446,4.604305555555555,3.2733333333333334,3.7663888888888892,2.6256944444444446,2.864027777777778,2.665,4.6523611111111105,9.239166666666666,4.726666666666667,4.754583333333334,5.104722222222223,7.620972222222223,6.171087886016335,7.183333333333334,6.346288554598037,3.627222222222222,4.7555555555555555,8.963194444444444,6.919027777777777,4.412083333333333,5.141805555555555,5.412916666666667,4.984444444444445,4.946527777777778,5.049583333333333,10.04738038841013,9.285416666666666,7.823888888888889,4.356388888888889,6.841111111111112,5.409583333333334,7.0536111111111115,6.955555555555556,4.758472222222222,5.215138888888889,5.069583333333333,5.02375,5.967638888888889,7.358333333333333,7.157361111111111,5.383194444444444,5.757638888888889,6.284821633153542,4.121944444444445,5.221666666666667,5.321805555555556,5.8815277777777775,5.190972222222222,5.192638888888888,6.080277777777778,4.989305555555556,5.480138888888889,6.498491499521241,7.662638888888889,5.857083333333334,5.250694444444444,3.6336111111111107,3.0386111111111114,3.5006944444444446,8.431805555555554,4.42,1.5788888888888888,3.4018055555555557,5.6876388888888885,4.149861111111111,6.737777777777778,5.530833333333333,5.633194444444444,4.6362499999999995,4.834027777777778,5.946805555555556,4.720694444444445,5.182083333333333,6.088888888888889,5.764722222222223,4.513888888888889,6.254305555555556,5.09988038841013,4.520555555555556,8.040555555555555,9.578888888888889,9.167638888888888,4.924444444444444,4.979722222222223,4.992916666666667,3.5900000000000003,5.530833333333333,6.391111111111112,8.151388888888889,4.834444444444444,4.167916666666667,7.830972222222223,4.532638888888889,5.917916666666666,9.633194444444444,5.3754547595849385,4.581111111111111,5.3438888888888885,7.041388888888889,4.7625,5.921666666666667,9.080972222222222,6.329583333333334,4.9655555555555555,5.5841666666666665,7.73125,5.682638888888889,4.891805555555555,6.726566332375815,4.501388888888889,3.8281944444444447,2.3376848773986745,2.3558333333333334,2.111527777777778,5.535,3.806666666666667,6.534722222222222,7.873055555555556,5.167638888888889,3.4125,3.3630555555555555,5.903472222222222,4.834305555555555,7.219880388410131,4.401111111111112,5.347083333333334,5.397222222222222,4.253333333333334,5.2636111111111115,4.935972222222222,6.881805555555555,4.904444444444445,5.340694444444445,7.027638888888888,5.457916666666667,4.171388888888889,6.186111111111111,5.69625,3.8486303884101303,5.649305555555555,4.181111111111111,3.4248611111111114,4.217777777777778,5.671805555555555,4.950555555555556,3.7894444444444444,4.8943055555555555,5.353055555555556,3.5016666666666665,5.015138888888889,6.603333333333333,6.418333333333333,4.304722222222223,5.309027777777778,4.807916666666666,4.761388888888889,3.982916666666666,6.396527777777778,4.112083333333333,4.225555555555555,4.23125,4.527916666666666,5.464583333333334,5.329166666666667,7.175277777777778,6.332777777777778,4.737677443486926,4.435,3.6109722222222222,4.6241666666666665,5.966944444444445,4.428055555555555,3.7484722222222224,4.333333333333333,5.535277777777778,4.372777777777778,3.402222222222222,3.529861111111111,5.936111111111111,5.242083333333333,4.004166666666666,5.059027777777778,4.858472222222222,5.323888888888889,4.424166666666666,4.077500000000001,4.7619444444444445,4.841388888888889,5.057222222222222,3.969722222222222,2.972777777777778,5.417777777777778,3.7644444444444445,5.843074832854574,4.4309722222222225,4.768888888888889,3.7073611111111116,4.805694444444445,4.182777777777778,5.885416666666667,4.605416666666667,3.518194444444444,4.701527777777778,3.8394444444444447,4.608472222222222,3.200972222222222,4.4944444444444445,3.7705555555555557,4.001805555555555,4.04589116523039,4.673472222222222,3.512916666666667,3.633472222222222,4.9030555555555555,2.8866666666666667,4.31125,3.367777777777778,4.076666666666666,3.083472222222222,3.65,4.414305555555556,3.628888888888889,3.5420833333333337,3.957777777777778,4.733888888888889,3.8533333333333335,3.265972222222222,4.57315321383879,4.627759310587133,3.7765489488313513,4.484861111111111,2.958888888888889,3.4075,3.208472222222222,3.2494444444444444,2.5322222222222224,3.2180555555555554,3.0751388888888886,4.516111111111111,2.313888888888889,3.8409722222222222,5.028194444444445,3.2090277777777776,3.026388888888889,3.6422222222222222,3.6469444444444448,3.7150000000000003,2.6351388888888887,3.8441666666666667,4.310277777777778,2.9018055555555557,3.4037499999999996,3.6909722222222223,2.6118055555555557,3.5235493314182973,3.018194444444444,1.6009722222222222,1.5625,2.8152777777777778,2.1675,1.876111111111111,2.1952777777777777,2.884861111111111,3.5258333333333334,2.0479166666666666,2.5005555555555556,2.2625,3.0527777777777776,1.756527777777778,1.6822222222222223,1.7173611111111111,2.1820833333333334,2.7680555555555557,2.711388888888889,2.4106944444444447,3.002222222222222,2.207361111111111,1.5684722222222223,1.5655555555555556,1.6094444444444445,1.6444444444444444,1.677361111111111,1.6958333333333333,1.6597222222222223,3.057222222222222,3.277083333333333,2.94875,2.5543055555555556,4.686620517870233,2.2831944444444447,4.605833333333333,3.7944444444444443,2.4170833333333333,3.2581944444444444,2.7259722222222225,2.4233333333333333,3.5033333333333334,4.760694444444444,3.330416666666667,3.7718055555555554,2.889166666666666,3.4327777777777775,2.317638888888889,3.3722222222222222,4.183472222222222,4.980277777777778,3.822361111111111,2.9940277777777777,3.6381944444444443,3.762083333333333,3.05625,4.530833333333333,3.665138888888889,3.6395833333333334,3.2243055555555555,4.49125,3.3091666666666666,3.565555555555555,6.1425,4.688074832854574,4.6575,4.285,5.1497222222222225,3.610833333333334,4.038611111111111,6.259444444444445,6.024027777777778,4.20125,3.6991666666666667,4.824722222222222,4.234999999999999,3.4836111111111108,4.585277777777778,4.200555555555556,3.795416666666666,3.3938888888888887,5.231705221264704,3.7866666666666666,3.386111111111111,5.050416666666667,4.815138888888889,3.698611111111111,4.170972222222222,5.339027777777778,4.583888888888889,3.953611111111111,5.927222222222222,5.74613038841013,3.968611111111111,4.249722222222222,5.004583333333334,4.324305555555555,4.415138888888889,8.045555555555556,4.500555555555556,3.9530555555555553,4.975,5.713333333333334,4.042361111111111,5.144861111111111,7.658472222222223,7.070277777777778,3.2391666666666663,3.27,3.6894444444444447,5.853333333333333,4.352083333333334,5.452638888888889,5.388333333333334,4.4006944444444445,6.631805555555555,5.230833333333333,4.538611111111111,4.030972222222222,4.510416666666667,7.242777777777778,4.094324832854574,4.648194444444444,5.974722222222223,4.253333333333334,4.456388888888889,7.4534722222222225,5.778472222222222,4.403194444444445,4.913472222222222,7.685833333333334,4.251111111111111,5.692222222222222,7.281111111111111,7.193194444444445,4.236666666666666,6.179861111111111,5.770277777777778,4.61125,3.9611111111111112,5.4061111111111115,4.776666666666666,5.022361111111111,5.078333333333333,6.819722222222222,4.293333333333333,4.985138888888889,6.922499999999999,6.983333333333333,5.065833333333334,5.790277777777778,5.2498611111111115,5.967121887931371,5.130833333333333,5.2612499999999995,6.164861111111111,5.122222222222222,5.514583333333333,3.993333333333333,4.84125,4.968333333333333,6.242916666666666,3.2444444444444445,5.778333333333332,5.365694444444444,4.121388888888889,8.29361111111111,6.127638888888888,6.30638888888889,6.364722222222222,6.033333333333333,5.912638888888889,7.168472222222222,6.401666666666666,3.537083333333333,3.8143248328545742,6.044166666666667,4.599444444444444,6.347083333333333,5.112083333333333,5.069722222222222,5.151388888888889,6.733472222222223,7.226388888888889,4.335138888888889,5.464016904785529,4.627759310587133,5.466875786590629,6.335,6.219722222222222,5.521527777777778,5.4215277777777775,7.004583333333334,6.810694444444445,6.161944444444445,5.183194444444444,7.663213721743464,6.605138888888889,5.55,5.903472222222222,7.990138888888889,6.0633333333333335,5.978611111111111,8.307222222222222,5.202222222222222,4.857777777777778,6.148333333333333,8.37,6.643888888888889,6.075416666666667,7.933194444444444,4.726805555555556,7.4075,6.920138888888889,5.608074832854574,3.9073611111111113,5.408055555555555,6.744027777777777,4.830574832854575,6.042361111111111,5.148333333333333,5.94125,5.038194444444445,5.654166666666667,5.745555555555556,8.038333333333334,4.315,4.254583333333334,5.523055555555556,5.405833333333333,6.139305555555556,5.150833333333333,2.06125,3.7577777777777777,2.2255555555555557,2.7330555555555556,2.0072222222222225,3.26625,2.3066666666666666,3.966666666666667,7.424444444444445,5.080694444444444,5.196944444444445,5.639444444444445,4.722222222222222,6.905,4.594861111111111,5.178333333333334,4.460972222222223,5.8277777777777775,4.547361111111111,4.8059722222222225,4.263842532770317,5.334260330118655,4.687083333333333,5.370416666666666,5.801944444444444,4.843194444444444,4.79875,5.393472222222223,5.323888888888889,4.726388888888889,5.636527777777778,5.662916666666667,4.879027777777778,4.733472222222222,5.170972222222222,4.925694444444445,3.26875,5.258888888888889,4.645416666666667,4.759027777777778,3.570555555555556,3.48625,4.735852610632352,4.164305555555556,4.392222222222222,4.8469444444444445,5.425416666666667,4.550694444444445,4.548055555555555,4.280833333333333,4.962916666666667,5.33125,4.556111111111111,4.2659722222222225,3.435277777777778,4.585416666666666,4.521527777777778,3.169166666666667,3.6158333333333337,2.551111111111111,3.1961111111111107,3.3229166666666665,3.9298611111111112,6.422499999999999,4.158888888888889,4.5025,5.365138888888889,3.8222222222222224,4.8156944444444445,4.485277777777778,4.638472222222222,4.260138888888889,4.54375,5.8902777777777775,4.478074832854574,4.981944444444444,5.709305555555555,6.154444444444445,4.723194444444444,4.118333333333333,4.1762500000000005,3.3552777777777782,3.7977777777777777,6.156527777777778,4.398055555555556,3.971111111111111,3.5909722222222222,4.185,3.91125,4.099027777777778,6.040555555555556,4.902083333333334,3.9730555555555553,3.7181944444444444,2.9158333333333335,4.154166666666667,4.203333333333333,6.095138888888889,5.288194444444445,3.0329166666666665,4.03375,4.544722222222222,3.591527777777778,4.4125,5.846824832854574,5.06,3.61375,3.622916666666667,5.18375,3.0509722222222218,3.945972222222222,4.214166666666666,4.924444444444444,4.947638888888889,4.581666666666667,4.383194444444444,3.274583333333333,3.3211111111111107,3.002638888888889,3.4852777777777777,4.3725,4.161963721743463,4.09375,4.051944444444445,3.495,3.42125,4.561805555555556,3.3313888888888887,3.0056944444444444,2.5466666666666664,3.6294444444444443,3.3231944444444443,3.510277777777778,3.6480555555555556,3.397222222222222,4.2404166666666665,4.260555555555555,4.78738038841013,2.4870833333333335,2.424166666666667,2.417638888888889,2.395,2.5684722222222223,3.204861111111111,3.5011111111111113,3.5233333333333334,2.786111111111111,3.3686111111111114,2.658333333333333,2.8269444444444445,2.583472222222222,1.6897222222222221,1.695138888888889,1.7159722222222222,1.7205555555555554,1.7008333333333332,1.8530555555555557,1.6722222222222223,1.6345833333333335,1.6036111111111109,1.6180555555555556,1.6234722222222224,1.6384722222222223,1.6648611111111111,1.6716666666666666,1.6237499999999998,1.6345833333333335,1.683472222222222,3.161388888888889,3.4175,3.45773691478091,4.627759310587133,4.627759310587133,4.627759310587133,4.627759310587133,4.424968050025158,2.3279166666666664,2.254861111111111,2.9448611111111114,2.3005555555555555,5.994027777777777,4.281805555555556,4.937777777777778,4.3825,4.103472222222222,4.691666666666666,4.08875,3.9734722222222225,5.173472222222222,3.96375,4.206944444444445,4.307083333333333,3.8720833333333333,3.701666666666666,3.921527777777778,4.311944444444444,4.755694444444444,3.241111111111111,4.237361111111111,2.9531944444444447,3.9340277777777777,4.427777777777778,3.662361111111111,2.7115277777777775,4.985972222222222,3.311527777777778,4.468055555555556,4.227777777777778,3.923611111111111,4.18765431246313,4.627759310587133,4.627759310587133,5.071115614657614,4.879166666666666,3.6041666666666665,4.372638888888889,5.584305555555555,5.398472222222223,5.197916666666667,5.422083333333333,3.815555555555555,5.287638888888889,4.433472222222222,4.740972222222222,5.9181944444444445,4.820416666666667,4.681388888888889,6.015833333333333,6.261111111111111,4.6883333333333335,2.936111111111111,3.0640277777777776,7.903333333333332,5.6530555555555555,5.033611111111111,3.9468055555555552,4.783194444444445,6.689722222222223,6.969185943965686,3.3922222222222222,2.7504166666666667,3.622916666666667,4.200138888888889,3.5119444444444445,6.229027777777778,4.235138888888889,3.937638888888889,3.4218055555555553,3.7595833333333335,7.4961111111111105,5.053333333333334,5.345138888888889,4.965972222222222,5.373194444444445,5.985972222222221,5.716666666666667,5.2555555555555555,5.434861111111111,5.919583333333334,6.032361111111111,5.125694444444444,4.403611111111111,4.63125,4.876944444444445,4.5784722222222225,6.472361111111112,2.6379166666666665,6.014166666666666,4.674444444444444,5.249583333333333,4.169444444444444,4.9562945368171025],\"yaxis\":\"y\",\"type\":\"scattergl\"}],                        {\"template\":{\"data\":{\"histogram2dcontour\":[{\"type\":\"histogram2dcontour\",\"colorbar\":{\"outlinewidth\":0,\"ticks\":\"\"},\"colorscale\":[[0.0,\"#0d0887\"],[0.1111111111111111,\"#46039f\"],[0.2222222222222222,\"#7201a8\"],[0.3333333333333333,\"#9c179e\"],[0.4444444444444444,\"#bd3786\"],[0.5555555555555556,\"#d8576b\"],[0.6666666666666666,\"#ed7953\"],[0.7777777777777778,\"#fb9f3a\"],[0.8888888888888888,\"#fdca26\"],[1.0,\"#f0f921\"]]}],\"choropleth\":[{\"type\":\"choropleth\",\"colorbar\":{\"outlinewidth\":0,\"ticks\":\"\"}}],\"histogram2d\":[{\"type\":\"histogram2d\",\"colorbar\":{\"outlinewidth\":0,\"ticks\":\"\"},\"colorscale\":[[0.0,\"#0d0887\"],[0.1111111111111111,\"#46039f\"],[0.2222222222222222,\"#7201a8\"],[0.3333333333333333,\"#9c179e\"],[0.4444444444444444,\"#bd3786\"],[0.5555555555555556,\"#d8576b\"],[0.6666666666666666,\"#ed7953\"],[0.7777777777777778,\"#fb9f3a\"],[0.8888888888888888,\"#fdca26\"],[1.0,\"#f0f921\"]]}],\"heatmap\":[{\"type\":\"heatmap\",\"colorbar\":{\"outlinewidth\":0,\"ticks\":\"\"},\"colorscale\":[[0.0,\"#0d0887\"],[0.1111111111111111,\"#46039f\"],[0.2222222222222222,\"#7201a8\"],[0.3333333333333333,\"#9c179e\"],[0.4444444444444444,\"#bd3786\"],[0.5555555555555556,\"#d8576b\"],[0.6666666666666666,\"#ed7953\"],[0.7777777777777778,\"#fb9f3a\"],[0.8888888888888888,\"#fdca26\"],[1.0,\"#f0f921\"]]}],\"heatmapgl\":[{\"type\":\"heatmapgl\",\"colorbar\":{\"outlinewidth\":0,\"ticks\":\"\"},\"colorscale\":[[0.0,\"#0d0887\"],[0.1111111111111111,\"#46039f\"],[0.2222222222222222,\"#7201a8\"],[0.3333333333333333,\"#9c179e\"],[0.4444444444444444,\"#bd3786\"],[0.5555555555555556,\"#d8576b\"],[0.6666666666666666,\"#ed7953\"],[0.7777777777777778,\"#fb9f3a\"],[0.8888888888888888,\"#fdca26\"],[1.0,\"#f0f921\"]]}],\"contourcarpet\":[{\"type\":\"contourcarpet\",\"colorbar\":{\"outlinewidth\":0,\"ticks\":\"\"}}],\"contour\":[{\"type\":\"contour\",\"colorbar\":{\"outlinewidth\":0,\"ticks\":\"\"},\"colorscale\":[[0.0,\"#0d0887\"],[0.1111111111111111,\"#46039f\"],[0.2222222222222222,\"#7201a8\"],[0.3333333333333333,\"#9c179e\"],[0.4444444444444444,\"#bd3786\"],[0.5555555555555556,\"#d8576b\"],[0.6666666666666666,\"#ed7953\"],[0.7777777777777778,\"#fb9f3a\"],[0.8888888888888888,\"#fdca26\"],[1.0,\"#f0f921\"]]}],\"surface\":[{\"type\":\"surface\",\"colorbar\":{\"outlinewidth\":0,\"ticks\":\"\"},\"colorscale\":[[0.0,\"#0d0887\"],[0.1111111111111111,\"#46039f\"],[0.2222222222222222,\"#7201a8\"],[0.3333333333333333,\"#9c179e\"],[0.4444444444444444,\"#bd3786\"],[0.5555555555555556,\"#d8576b\"],[0.6666666666666666,\"#ed7953\"],[0.7777777777777778,\"#fb9f3a\"],[0.8888888888888888,\"#fdca26\"],[1.0,\"#f0f921\"]]}],\"mesh3d\":[{\"type\":\"mesh3d\",\"colorbar\":{\"outlinewidth\":0,\"ticks\":\"\"}}],\"scatter\":[{\"fillpattern\":{\"fillmode\":\"overlay\",\"size\":10,\"solidity\":0.2},\"type\":\"scatter\"}],\"parcoords\":[{\"type\":\"parcoords\",\"line\":{\"colorbar\":{\"outlinewidth\":0,\"ticks\":\"\"}}}],\"scatterpolargl\":[{\"type\":\"scatterpolargl\",\"marker\":{\"colorbar\":{\"outlinewidth\":0,\"ticks\":\"\"}}}],\"bar\":[{\"error_x\":{\"color\":\"#2a3f5f\"},\"error_y\":{\"color\":\"#2a3f5f\"},\"marker\":{\"line\":{\"color\":\"#E5ECF6\",\"width\":0.5},\"pattern\":{\"fillmode\":\"overlay\",\"size\":10,\"solidity\":0.2}},\"type\":\"bar\"}],\"scattergeo\":[{\"type\":\"scattergeo\",\"marker\":{\"colorbar\":{\"outlinewidth\":0,\"ticks\":\"\"}}}],\"scatterpolar\":[{\"type\":\"scatterpolar\",\"marker\":{\"colorbar\":{\"outlinewidth\":0,\"ticks\":\"\"}}}],\"histogram\":[{\"marker\":{\"pattern\":{\"fillmode\":\"overlay\",\"size\":10,\"solidity\":0.2}},\"type\":\"histogram\"}],\"scattergl\":[{\"type\":\"scattergl\",\"marker\":{\"colorbar\":{\"outlinewidth\":0,\"ticks\":\"\"}}}],\"scatter3d\":[{\"type\":\"scatter3d\",\"line\":{\"colorbar\":{\"outlinewidth\":0,\"ticks\":\"\"}},\"marker\":{\"colorbar\":{\"outlinewidth\":0,\"ticks\":\"\"}}}],\"scattermapbox\":[{\"type\":\"scattermapbox\",\"marker\":{\"colorbar\":{\"outlinewidth\":0,\"ticks\":\"\"}}}],\"scatterternary\":[{\"type\":\"scatterternary\",\"marker\":{\"colorbar\":{\"outlinewidth\":0,\"ticks\":\"\"}}}],\"scattercarpet\":[{\"type\":\"scattercarpet\",\"marker\":{\"colorbar\":{\"outlinewidth\":0,\"ticks\":\"\"}}}],\"carpet\":[{\"aaxis\":{\"endlinecolor\":\"#2a3f5f\",\"gridcolor\":\"white\",\"linecolor\":\"white\",\"minorgridcolor\":\"white\",\"startlinecolor\":\"#2a3f5f\"},\"baxis\":{\"endlinecolor\":\"#2a3f5f\",\"gridcolor\":\"white\",\"linecolor\":\"white\",\"minorgridcolor\":\"white\",\"startlinecolor\":\"#2a3f5f\"},\"type\":\"carpet\"}],\"table\":[{\"cells\":{\"fill\":{\"color\":\"#EBF0F8\"},\"line\":{\"color\":\"white\"}},\"header\":{\"fill\":{\"color\":\"#C8D4E3\"},\"line\":{\"color\":\"white\"}},\"type\":\"table\"}],\"barpolar\":[{\"marker\":{\"line\":{\"color\":\"#E5ECF6\",\"width\":0.5},\"pattern\":{\"fillmode\":\"overlay\",\"size\":10,\"solidity\":0.2}},\"type\":\"barpolar\"}],\"pie\":[{\"automargin\":true,\"type\":\"pie\"}]},\"layout\":{\"autotypenumbers\":\"strict\",\"colorway\":[\"#636efa\",\"#EF553B\",\"#00cc96\",\"#ab63fa\",\"#FFA15A\",\"#19d3f3\",\"#FF6692\",\"#B6E880\",\"#FF97FF\",\"#FECB52\"],\"font\":{\"color\":\"#2a3f5f\"},\"hovermode\":\"closest\",\"hoverlabel\":{\"align\":\"left\"},\"paper_bgcolor\":\"white\",\"plot_bgcolor\":\"#E5ECF6\",\"polar\":{\"bgcolor\":\"#E5ECF6\",\"angularaxis\":{\"gridcolor\":\"white\",\"linecolor\":\"white\",\"ticks\":\"\"},\"radialaxis\":{\"gridcolor\":\"white\",\"linecolor\":\"white\",\"ticks\":\"\"}},\"ternary\":{\"bgcolor\":\"#E5ECF6\",\"aaxis\":{\"gridcolor\":\"white\",\"linecolor\":\"white\",\"ticks\":\"\"},\"baxis\":{\"gridcolor\":\"white\",\"linecolor\":\"white\",\"ticks\":\"\"},\"caxis\":{\"gridcolor\":\"white\",\"linecolor\":\"white\",\"ticks\":\"\"}},\"coloraxis\":{\"colorbar\":{\"outlinewidth\":0,\"ticks\":\"\"}},\"colorscale\":{\"sequential\":[[0.0,\"#0d0887\"],[0.1111111111111111,\"#46039f\"],[0.2222222222222222,\"#7201a8\"],[0.3333333333333333,\"#9c179e\"],[0.4444444444444444,\"#bd3786\"],[0.5555555555555556,\"#d8576b\"],[0.6666666666666666,\"#ed7953\"],[0.7777777777777778,\"#fb9f3a\"],[0.8888888888888888,\"#fdca26\"],[1.0,\"#f0f921\"]],\"sequentialminus\":[[0.0,\"#0d0887\"],[0.1111111111111111,\"#46039f\"],[0.2222222222222222,\"#7201a8\"],[0.3333333333333333,\"#9c179e\"],[0.4444444444444444,\"#bd3786\"],[0.5555555555555556,\"#d8576b\"],[0.6666666666666666,\"#ed7953\"],[0.7777777777777778,\"#fb9f3a\"],[0.8888888888888888,\"#fdca26\"],[1.0,\"#f0f921\"]],\"diverging\":[[0,\"#8e0152\"],[0.1,\"#c51b7d\"],[0.2,\"#de77ae\"],[0.3,\"#f1b6da\"],[0.4,\"#fde0ef\"],[0.5,\"#f7f7f7\"],[0.6,\"#e6f5d0\"],[0.7,\"#b8e186\"],[0.8,\"#7fbc41\"],[0.9,\"#4d9221\"],[1,\"#276419\"]]},\"xaxis\":{\"gridcolor\":\"white\",\"linecolor\":\"white\",\"ticks\":\"\",\"title\":{\"standoff\":15},\"zerolinecolor\":\"white\",\"automargin\":true,\"zerolinewidth\":2},\"yaxis\":{\"gridcolor\":\"white\",\"linecolor\":\"white\",\"ticks\":\"\",\"title\":{\"standoff\":15},\"zerolinecolor\":\"white\",\"automargin\":true,\"zerolinewidth\":2},\"scene\":{\"xaxis\":{\"backgroundcolor\":\"#E5ECF6\",\"gridcolor\":\"white\",\"linecolor\":\"white\",\"showbackground\":true,\"ticks\":\"\",\"zerolinecolor\":\"white\",\"gridwidth\":2},\"yaxis\":{\"backgroundcolor\":\"#E5ECF6\",\"gridcolor\":\"white\",\"linecolor\":\"white\",\"showbackground\":true,\"ticks\":\"\",\"zerolinecolor\":\"white\",\"gridwidth\":2},\"zaxis\":{\"backgroundcolor\":\"#E5ECF6\",\"gridcolor\":\"white\",\"linecolor\":\"white\",\"showbackground\":true,\"ticks\":\"\",\"zerolinecolor\":\"white\",\"gridwidth\":2}},\"shapedefaults\":{\"line\":{\"color\":\"#2a3f5f\"}},\"annotationdefaults\":{\"arrowcolor\":\"#2a3f5f\",\"arrowhead\":0,\"arrowwidth\":1},\"geo\":{\"bgcolor\":\"white\",\"landcolor\":\"#E5ECF6\",\"subunitcolor\":\"white\",\"showland\":true,\"showlakes\":true,\"lakecolor\":\"white\"},\"title\":{\"x\":0.05},\"mapbox\":{\"style\":\"light\"}}},\"xaxis\":{\"anchor\":\"y\",\"domain\":[0.0,1.0],\"title\":{\"text\":\"Date\"}},\"yaxis\":{\"anchor\":\"x\",\"domain\":[0.0,1.0],\"title\":{\"text\":\"Global Intensity\"}},\"legend\":{\"tracegroupgap\":0},\"title\":{\"text\":\"Global Intensity Over Time (Daily)\",\"x\":0.5},\"font\":{\"color\":\"lightgray\"},\"plot_bgcolor\":\"rgb(35, 35, 35)\",\"paper_bgcolor\":\"rgb(25, 25, 25)\"},                        {\"responsive\": true}                    ).then(function(){\n",
              "                            \n",
              "var gd = document.getElementById('b3bce557-0b33-4a14-9293-580be61443d7');\n",
              "var x = new MutationObserver(function (mutations, observer) {{\n",
              "        var display = window.getComputedStyle(gd).display;\n",
              "        if (!display || display === 'none') {{\n",
              "            console.log([gd, 'removed!']);\n",
              "            Plotly.purge(gd);\n",
              "            observer.disconnect();\n",
              "        }}\n",
              "}});\n",
              "\n",
              "// Listen for the removal of the full notebook cells\n",
              "var notebookContainer = gd.closest('#notebook-container');\n",
              "if (notebookContainer) {{\n",
              "    x.observe(notebookContainer, {childList: true});\n",
              "}}\n",
              "\n",
              "// Listen for the clearing of the current output cell\n",
              "var outputEl = gd.closest('.output');\n",
              "if (outputEl) {{\n",
              "    x.observe(outputEl, {childList: true});\n",
              "}}\n",
              "\n",
              "                        })                };                            </script>        </div>\n",
              "</body>\n",
              "</html>"
            ]
          },
          "metadata": {}
        },
        {
          "output_type": "display_data",
          "data": {
            "text/html": [
              "<html>\n",
              "<head><meta charset=\"utf-8\" /></head>\n",
              "<body>\n",
              "    <div>            <script src=\"https://cdnjs.cloudflare.com/ajax/libs/mathjax/2.7.5/MathJax.js?config=TeX-AMS-MML_SVG\"></script><script type=\"text/javascript\">if (window.MathJax && window.MathJax.Hub && window.MathJax.Hub.Config) {window.MathJax.Hub.Config({SVG: {font: \"STIX-Web\"}});}</script>                <script type=\"text/javascript\">window.PlotlyConfig = {MathJaxConfig: 'local'};</script>\n",
              "        <script charset=\"utf-8\" src=\"https://cdn.plot.ly/plotly-2.24.1.min.js\"></script>                <div id=\"60c826ee-5c39-48c7-b9f6-60c91de2959f\" class=\"plotly-graph-div\" style=\"height:525px; width:100%;\"></div>            <script type=\"text/javascript\">                                    window.PLOTLYENV=window.PLOTLYENV || {};                                    if (document.getElementById(\"60c826ee-5c39-48c7-b9f6-60c91de2959f\")) {                    Plotly.newPlot(                        \"60c826ee-5c39-48c7-b9f6-60c91de2959f\",                        [{\"hovertemplate\":\"Date_time=%{x}\\u003cbr\\u003eSub_metering_1=%{y}\\u003cextra\\u003e\\u003c\\u002fextra\\u003e\",\"legendgroup\":\"\",\"line\":{\"color\":\"#636efa\",\"dash\":\"solid\"},\"marker\":{\"symbol\":\"circle\"},\"mode\":\"lines\",\"name\":\"\",\"showlegend\":false,\"x\":[\"2006-12-16T00:00:00\",\"2006-12-17T00:00:00\",\"2006-12-18T00:00:00\",\"2006-12-19T00:00:00\",\"2006-12-20T00:00:00\",\"2006-12-21T00:00:00\",\"2006-12-22T00:00:00\",\"2006-12-23T00:00:00\",\"2006-12-24T00:00:00\",\"2006-12-25T00:00:00\",\"2006-12-26T00:00:00\",\"2006-12-27T00:00:00\",\"2006-12-28T00:00:00\",\"2006-12-29T00:00:00\",\"2006-12-30T00:00:00\",\"2006-12-31T00:00:00\",\"2007-01-01T00:00:00\",\"2007-01-02T00:00:00\",\"2007-01-03T00:00:00\",\"2007-01-04T00:00:00\",\"2007-01-05T00:00:00\",\"2007-01-06T00:00:00\",\"2007-01-07T00:00:00\",\"2007-01-08T00:00:00\",\"2007-01-09T00:00:00\",\"2007-01-10T00:00:00\",\"2007-01-11T00:00:00\",\"2007-01-12T00:00:00\",\"2007-01-13T00:00:00\",\"2007-01-14T00:00:00\",\"2007-01-15T00:00:00\",\"2007-01-16T00:00:00\",\"2007-01-17T00:00:00\",\"2007-01-18T00:00:00\",\"2007-01-19T00:00:00\",\"2007-01-20T00:00:00\",\"2007-01-21T00:00:00\",\"2007-01-22T00:00:00\",\"2007-01-23T00:00:00\",\"2007-01-24T00:00:00\",\"2007-01-25T00:00:00\",\"2007-01-26T00:00:00\",\"2007-01-27T00:00:00\",\"2007-01-28T00:00:00\",\"2007-01-29T00:00:00\",\"2007-01-30T00:00:00\",\"2007-01-31T00:00:00\",\"2007-02-01T00:00:00\",\"2007-02-02T00:00:00\",\"2007-02-03T00:00:00\",\"2007-02-04T00:00:00\",\"2007-02-05T00:00:00\",\"2007-02-06T00:00:00\",\"2007-02-07T00:00:00\",\"2007-02-08T00:00:00\",\"2007-02-09T00:00:00\",\"2007-02-10T00:00:00\",\"2007-02-11T00:00:00\",\"2007-02-12T00:00:00\",\"2007-02-13T00:00:00\",\"2007-02-14T00:00:00\",\"2007-02-15T00:00:00\",\"2007-02-16T00:00:00\",\"2007-02-17T00:00:00\",\"2007-02-18T00:00:00\",\"2007-02-19T00:00:00\",\"2007-02-20T00:00:00\",\"2007-02-21T00:00:00\",\"2007-02-22T00:00:00\",\"2007-02-23T00:00:00\",\"2007-02-24T00:00:00\",\"2007-02-25T00:00:00\",\"2007-02-26T00:00:00\",\"2007-02-27T00:00:00\",\"2007-02-28T00:00:00\",\"2007-03-01T00:00:00\",\"2007-03-02T00:00:00\",\"2007-03-03T00:00:00\",\"2007-03-04T00:00:00\",\"2007-03-05T00:00:00\",\"2007-03-06T00:00:00\",\"2007-03-07T00:00:00\",\"2007-03-08T00:00:00\",\"2007-03-09T00:00:00\",\"2007-03-10T00:00:00\",\"2007-03-11T00:00:00\",\"2007-03-12T00:00:00\",\"2007-03-13T00:00:00\",\"2007-03-14T00:00:00\",\"2007-03-15T00:00:00\",\"2007-03-16T00:00:00\",\"2007-03-17T00:00:00\",\"2007-03-18T00:00:00\",\"2007-03-19T00:00:00\",\"2007-03-20T00:00:00\",\"2007-03-21T00:00:00\",\"2007-03-22T00:00:00\",\"2007-03-23T00:00:00\",\"2007-03-24T00:00:00\",\"2007-03-25T00:00:00\",\"2007-03-26T00:00:00\",\"2007-03-27T00:00:00\",\"2007-03-28T00:00:00\",\"2007-03-29T00:00:00\",\"2007-03-30T00:00:00\",\"2007-03-31T00:00:00\",\"2007-04-01T00:00:00\",\"2007-04-02T00:00:00\",\"2007-04-03T00:00:00\",\"2007-04-04T00:00:00\",\"2007-04-05T00:00:00\",\"2007-04-06T00:00:00\",\"2007-04-07T00:00:00\",\"2007-04-08T00:00:00\",\"2007-04-09T00:00:00\",\"2007-04-10T00:00:00\",\"2007-04-11T00:00:00\",\"2007-04-12T00:00:00\",\"2007-04-13T00:00:00\",\"2007-04-14T00:00:00\",\"2007-04-15T00:00:00\",\"2007-04-16T00:00:00\",\"2007-04-17T00:00:00\",\"2007-04-18T00:00:00\",\"2007-04-19T00:00:00\",\"2007-04-20T00:00:00\",\"2007-04-21T00:00:00\",\"2007-04-22T00:00:00\",\"2007-04-23T00:00:00\",\"2007-04-24T00:00:00\",\"2007-04-25T00:00:00\",\"2007-04-26T00:00:00\",\"2007-04-27T00:00:00\",\"2007-04-28T00:00:00\",\"2007-04-29T00:00:00\",\"2007-04-30T00:00:00\",\"2007-05-01T00:00:00\",\"2007-05-02T00:00:00\",\"2007-05-03T00:00:00\",\"2007-05-04T00:00:00\",\"2007-05-05T00:00:00\",\"2007-05-06T00:00:00\",\"2007-05-07T00:00:00\",\"2007-05-08T00:00:00\",\"2007-05-09T00:00:00\",\"2007-05-10T00:00:00\",\"2007-05-11T00:00:00\",\"2007-05-12T00:00:00\",\"2007-05-13T00:00:00\",\"2007-05-14T00:00:00\",\"2007-05-15T00:00:00\",\"2007-05-16T00:00:00\",\"2007-05-17T00:00:00\",\"2007-05-18T00:00:00\",\"2007-05-19T00:00:00\",\"2007-05-20T00:00:00\",\"2007-05-21T00:00:00\",\"2007-05-22T00:00:00\",\"2007-05-23T00:00:00\",\"2007-05-24T00:00:00\",\"2007-05-25T00:00:00\",\"2007-05-26T00:00:00\",\"2007-05-27T00:00:00\",\"2007-05-28T00:00:00\",\"2007-05-29T00:00:00\",\"2007-05-30T00:00:00\",\"2007-05-31T00:00:00\",\"2007-06-01T00:00:00\",\"2007-06-02T00:00:00\",\"2007-06-03T00:00:00\",\"2007-06-04T00:00:00\",\"2007-06-05T00:00:00\",\"2007-06-06T00:00:00\",\"2007-06-07T00:00:00\",\"2007-06-08T00:00:00\",\"2007-06-09T00:00:00\",\"2007-06-10T00:00:00\",\"2007-06-11T00:00:00\",\"2007-06-12T00:00:00\",\"2007-06-13T00:00:00\",\"2007-06-14T00:00:00\",\"2007-06-15T00:00:00\",\"2007-06-16T00:00:00\",\"2007-06-17T00:00:00\",\"2007-06-18T00:00:00\",\"2007-06-19T00:00:00\",\"2007-06-20T00:00:00\",\"2007-06-21T00:00:00\",\"2007-06-22T00:00:00\",\"2007-06-23T00:00:00\",\"2007-06-24T00:00:00\",\"2007-06-25T00:00:00\",\"2007-06-26T00:00:00\",\"2007-06-27T00:00:00\",\"2007-06-28T00:00:00\",\"2007-06-29T00:00:00\",\"2007-06-30T00:00:00\",\"2007-07-01T00:00:00\",\"2007-07-02T00:00:00\",\"2007-07-03T00:00:00\",\"2007-07-04T00:00:00\",\"2007-07-05T00:00:00\",\"2007-07-06T00:00:00\",\"2007-07-07T00:00:00\",\"2007-07-08T00:00:00\",\"2007-07-09T00:00:00\",\"2007-07-10T00:00:00\",\"2007-07-11T00:00:00\",\"2007-07-12T00:00:00\",\"2007-07-13T00:00:00\",\"2007-07-14T00:00:00\",\"2007-07-15T00:00:00\",\"2007-07-16T00:00:00\",\"2007-07-17T00:00:00\",\"2007-07-18T00:00:00\",\"2007-07-19T00:00:00\",\"2007-07-20T00:00:00\",\"2007-07-21T00:00:00\",\"2007-07-22T00:00:00\",\"2007-07-23T00:00:00\",\"2007-07-24T00:00:00\",\"2007-07-25T00:00:00\",\"2007-07-26T00:00:00\",\"2007-07-27T00:00:00\",\"2007-07-28T00:00:00\",\"2007-07-29T00:00:00\",\"2007-07-30T00:00:00\",\"2007-07-31T00:00:00\",\"2007-08-01T00:00:00\",\"2007-08-02T00:00:00\",\"2007-08-03T00:00:00\",\"2007-08-04T00:00:00\",\"2007-08-05T00:00:00\",\"2007-08-06T00:00:00\",\"2007-08-07T00:00:00\",\"2007-08-08T00:00:00\",\"2007-08-09T00:00:00\",\"2007-08-10T00:00:00\",\"2007-08-11T00:00:00\",\"2007-08-12T00:00:00\",\"2007-08-13T00:00:00\",\"2007-08-14T00:00:00\",\"2007-08-15T00:00:00\",\"2007-08-16T00:00:00\",\"2007-08-17T00:00:00\",\"2007-08-18T00:00:00\",\"2007-08-19T00:00:00\",\"2007-08-20T00:00:00\",\"2007-08-21T00:00:00\",\"2007-08-22T00:00:00\",\"2007-08-23T00:00:00\",\"2007-08-24T00:00:00\",\"2007-08-25T00:00:00\",\"2007-08-26T00:00:00\",\"2007-08-27T00:00:00\",\"2007-08-28T00:00:00\",\"2007-08-29T00:00:00\",\"2007-08-30T00:00:00\",\"2007-08-31T00:00:00\",\"2007-09-01T00:00:00\",\"2007-09-02T00:00:00\",\"2007-09-03T00:00:00\",\"2007-09-04T00:00:00\",\"2007-09-05T00:00:00\",\"2007-09-06T00:00:00\",\"2007-09-07T00:00:00\",\"2007-09-08T00:00:00\",\"2007-09-09T00:00:00\",\"2007-09-10T00:00:00\",\"2007-09-11T00:00:00\",\"2007-09-12T00:00:00\",\"2007-09-13T00:00:00\",\"2007-09-14T00:00:00\",\"2007-09-15T00:00:00\",\"2007-09-16T00:00:00\",\"2007-09-17T00:00:00\",\"2007-09-18T00:00:00\",\"2007-09-19T00:00:00\",\"2007-09-20T00:00:00\",\"2007-09-21T00:00:00\",\"2007-09-22T00:00:00\",\"2007-09-23T00:00:00\",\"2007-09-24T00:00:00\",\"2007-09-25T00:00:00\",\"2007-09-26T00:00:00\",\"2007-09-27T00:00:00\",\"2007-09-28T00:00:00\",\"2007-09-29T00:00:00\",\"2007-09-30T00:00:00\",\"2007-10-01T00:00:00\",\"2007-10-02T00:00:00\",\"2007-10-03T00:00:00\",\"2007-10-04T00:00:00\",\"2007-10-05T00:00:00\",\"2007-10-06T00:00:00\",\"2007-10-07T00:00:00\",\"2007-10-08T00:00:00\",\"2007-10-09T00:00:00\",\"2007-10-10T00:00:00\",\"2007-10-11T00:00:00\",\"2007-10-12T00:00:00\",\"2007-10-13T00:00:00\",\"2007-10-14T00:00:00\",\"2007-10-15T00:00:00\",\"2007-10-16T00:00:00\",\"2007-10-17T00:00:00\",\"2007-10-18T00:00:00\",\"2007-10-19T00:00:00\",\"2007-10-20T00:00:00\",\"2007-10-21T00:00:00\",\"2007-10-22T00:00:00\",\"2007-10-23T00:00:00\",\"2007-10-24T00:00:00\",\"2007-10-25T00:00:00\",\"2007-10-26T00:00:00\",\"2007-10-27T00:00:00\",\"2007-10-28T00:00:00\",\"2007-10-29T00:00:00\",\"2007-10-30T00:00:00\",\"2007-10-31T00:00:00\",\"2007-11-01T00:00:00\",\"2007-11-02T00:00:00\",\"2007-11-03T00:00:00\",\"2007-11-04T00:00:00\",\"2007-11-05T00:00:00\",\"2007-11-06T00:00:00\",\"2007-11-07T00:00:00\",\"2007-11-08T00:00:00\",\"2007-11-09T00:00:00\",\"2007-11-10T00:00:00\",\"2007-11-11T00:00:00\",\"2007-11-12T00:00:00\",\"2007-11-13T00:00:00\",\"2007-11-14T00:00:00\",\"2007-11-15T00:00:00\",\"2007-11-16T00:00:00\",\"2007-11-17T00:00:00\",\"2007-11-18T00:00:00\",\"2007-11-19T00:00:00\",\"2007-11-20T00:00:00\",\"2007-11-21T00:00:00\",\"2007-11-22T00:00:00\",\"2007-11-23T00:00:00\",\"2007-11-24T00:00:00\",\"2007-11-25T00:00:00\",\"2007-11-26T00:00:00\",\"2007-11-27T00:00:00\",\"2007-11-28T00:00:00\",\"2007-11-29T00:00:00\",\"2007-11-30T00:00:00\",\"2007-12-01T00:00:00\",\"2007-12-02T00:00:00\",\"2007-12-03T00:00:00\",\"2007-12-04T00:00:00\",\"2007-12-05T00:00:00\",\"2007-12-06T00:00:00\",\"2007-12-07T00:00:00\",\"2007-12-08T00:00:00\",\"2007-12-09T00:00:00\",\"2007-12-10T00:00:00\",\"2007-12-11T00:00:00\",\"2007-12-12T00:00:00\",\"2007-12-13T00:00:00\",\"2007-12-14T00:00:00\",\"2007-12-15T00:00:00\",\"2007-12-16T00:00:00\",\"2007-12-17T00:00:00\",\"2007-12-18T00:00:00\",\"2007-12-19T00:00:00\",\"2007-12-20T00:00:00\",\"2007-12-21T00:00:00\",\"2007-12-22T00:00:00\",\"2007-12-23T00:00:00\",\"2007-12-24T00:00:00\",\"2007-12-25T00:00:00\",\"2007-12-26T00:00:00\",\"2007-12-27T00:00:00\",\"2007-12-28T00:00:00\",\"2007-12-29T00:00:00\",\"2007-12-30T00:00:00\",\"2007-12-31T00:00:00\",\"2008-01-01T00:00:00\",\"2008-01-02T00:00:00\",\"2008-01-03T00:00:00\",\"2008-01-04T00:00:00\",\"2008-01-05T00:00:00\",\"2008-01-06T00:00:00\",\"2008-01-07T00:00:00\",\"2008-01-08T00:00:00\",\"2008-01-09T00:00:00\",\"2008-01-10T00:00:00\",\"2008-01-11T00:00:00\",\"2008-01-12T00:00:00\",\"2008-01-13T00:00:00\",\"2008-01-14T00:00:00\",\"2008-01-15T00:00:00\",\"2008-01-16T00:00:00\",\"2008-01-17T00:00:00\",\"2008-01-18T00:00:00\",\"2008-01-19T00:00:00\",\"2008-01-20T00:00:00\",\"2008-01-21T00:00:00\",\"2008-01-22T00:00:00\",\"2008-01-23T00:00:00\",\"2008-01-24T00:00:00\",\"2008-01-25T00:00:00\",\"2008-01-26T00:00:00\",\"2008-01-27T00:00:00\",\"2008-01-28T00:00:00\",\"2008-01-29T00:00:00\",\"2008-01-30T00:00:00\",\"2008-01-31T00:00:00\",\"2008-02-01T00:00:00\",\"2008-02-02T00:00:00\",\"2008-02-03T00:00:00\",\"2008-02-04T00:00:00\",\"2008-02-05T00:00:00\",\"2008-02-06T00:00:00\",\"2008-02-07T00:00:00\",\"2008-02-08T00:00:00\",\"2008-02-09T00:00:00\",\"2008-02-10T00:00:00\",\"2008-02-11T00:00:00\",\"2008-02-12T00:00:00\",\"2008-02-13T00:00:00\",\"2008-02-14T00:00:00\",\"2008-02-15T00:00:00\",\"2008-02-16T00:00:00\",\"2008-02-17T00:00:00\",\"2008-02-18T00:00:00\",\"2008-02-19T00:00:00\",\"2008-02-20T00:00:00\",\"2008-02-21T00:00:00\",\"2008-02-22T00:00:00\",\"2008-02-23T00:00:00\",\"2008-02-24T00:00:00\",\"2008-02-25T00:00:00\",\"2008-02-26T00:00:00\",\"2008-02-27T00:00:00\",\"2008-02-28T00:00:00\",\"2008-02-29T00:00:00\",\"2008-03-01T00:00:00\",\"2008-03-02T00:00:00\",\"2008-03-03T00:00:00\",\"2008-03-04T00:00:00\",\"2008-03-05T00:00:00\",\"2008-03-06T00:00:00\",\"2008-03-07T00:00:00\",\"2008-03-08T00:00:00\",\"2008-03-09T00:00:00\",\"2008-03-10T00:00:00\",\"2008-03-11T00:00:00\",\"2008-03-12T00:00:00\",\"2008-03-13T00:00:00\",\"2008-03-14T00:00:00\",\"2008-03-15T00:00:00\",\"2008-03-16T00:00:00\",\"2008-03-17T00:00:00\",\"2008-03-18T00:00:00\",\"2008-03-19T00:00:00\",\"2008-03-20T00:00:00\",\"2008-03-21T00:00:00\",\"2008-03-22T00:00:00\",\"2008-03-23T00:00:00\",\"2008-03-24T00:00:00\",\"2008-03-25T00:00:00\",\"2008-03-26T00:00:00\",\"2008-03-27T00:00:00\",\"2008-03-28T00:00:00\",\"2008-03-29T00:00:00\",\"2008-03-30T00:00:00\",\"2008-03-31T00:00:00\",\"2008-04-01T00:00:00\",\"2008-04-02T00:00:00\",\"2008-04-03T00:00:00\",\"2008-04-04T00:00:00\",\"2008-04-05T00:00:00\",\"2008-04-06T00:00:00\",\"2008-04-07T00:00:00\",\"2008-04-08T00:00:00\",\"2008-04-09T00:00:00\",\"2008-04-10T00:00:00\",\"2008-04-11T00:00:00\",\"2008-04-12T00:00:00\",\"2008-04-13T00:00:00\",\"2008-04-14T00:00:00\",\"2008-04-15T00:00:00\",\"2008-04-16T00:00:00\",\"2008-04-17T00:00:00\",\"2008-04-18T00:00:00\",\"2008-04-19T00:00:00\",\"2008-04-20T00:00:00\",\"2008-04-21T00:00:00\",\"2008-04-22T00:00:00\",\"2008-04-23T00:00:00\",\"2008-04-24T00:00:00\",\"2008-04-25T00:00:00\",\"2008-04-26T00:00:00\",\"2008-04-27T00:00:00\",\"2008-04-28T00:00:00\",\"2008-04-29T00:00:00\",\"2008-04-30T00:00:00\",\"2008-05-01T00:00:00\",\"2008-05-02T00:00:00\",\"2008-05-03T00:00:00\",\"2008-05-04T00:00:00\",\"2008-05-05T00:00:00\",\"2008-05-06T00:00:00\",\"2008-05-07T00:00:00\",\"2008-05-08T00:00:00\",\"2008-05-09T00:00:00\",\"2008-05-10T00:00:00\",\"2008-05-11T00:00:00\",\"2008-05-12T00:00:00\",\"2008-05-13T00:00:00\",\"2008-05-14T00:00:00\",\"2008-05-15T00:00:00\",\"2008-05-16T00:00:00\",\"2008-05-17T00:00:00\",\"2008-05-18T00:00:00\",\"2008-05-19T00:00:00\",\"2008-05-20T00:00:00\",\"2008-05-21T00:00:00\",\"2008-05-22T00:00:00\",\"2008-05-23T00:00:00\",\"2008-05-24T00:00:00\",\"2008-05-25T00:00:00\",\"2008-05-26T00:00:00\",\"2008-05-27T00:00:00\",\"2008-05-28T00:00:00\",\"2008-05-29T00:00:00\",\"2008-05-30T00:00:00\",\"2008-05-31T00:00:00\",\"2008-06-01T00:00:00\",\"2008-06-02T00:00:00\",\"2008-06-03T00:00:00\",\"2008-06-04T00:00:00\",\"2008-06-05T00:00:00\",\"2008-06-06T00:00:00\",\"2008-06-07T00:00:00\",\"2008-06-08T00:00:00\",\"2008-06-09T00:00:00\",\"2008-06-10T00:00:00\",\"2008-06-11T00:00:00\",\"2008-06-12T00:00:00\",\"2008-06-13T00:00:00\",\"2008-06-14T00:00:00\",\"2008-06-15T00:00:00\",\"2008-06-16T00:00:00\",\"2008-06-17T00:00:00\",\"2008-06-18T00:00:00\",\"2008-06-19T00:00:00\",\"2008-06-20T00:00:00\",\"2008-06-21T00:00:00\",\"2008-06-22T00:00:00\",\"2008-06-23T00:00:00\",\"2008-06-24T00:00:00\",\"2008-06-25T00:00:00\",\"2008-06-26T00:00:00\",\"2008-06-27T00:00:00\",\"2008-06-28T00:00:00\",\"2008-06-29T00:00:00\",\"2008-06-30T00:00:00\",\"2008-07-01T00:00:00\",\"2008-07-02T00:00:00\",\"2008-07-03T00:00:00\",\"2008-07-04T00:00:00\",\"2008-07-05T00:00:00\",\"2008-07-06T00:00:00\",\"2008-07-07T00:00:00\",\"2008-07-08T00:00:00\",\"2008-07-09T00:00:00\",\"2008-07-10T00:00:00\",\"2008-07-11T00:00:00\",\"2008-07-12T00:00:00\",\"2008-07-13T00:00:00\",\"2008-07-14T00:00:00\",\"2008-07-15T00:00:00\",\"2008-07-16T00:00:00\",\"2008-07-17T00:00:00\",\"2008-07-18T00:00:00\",\"2008-07-19T00:00:00\",\"2008-07-20T00:00:00\",\"2008-07-21T00:00:00\",\"2008-07-22T00:00:00\",\"2008-07-23T00:00:00\",\"2008-07-24T00:00:00\",\"2008-07-25T00:00:00\",\"2008-07-26T00:00:00\",\"2008-07-27T00:00:00\",\"2008-07-28T00:00:00\",\"2008-07-29T00:00:00\",\"2008-07-30T00:00:00\",\"2008-07-31T00:00:00\",\"2008-08-01T00:00:00\",\"2008-08-02T00:00:00\",\"2008-08-03T00:00:00\",\"2008-08-04T00:00:00\",\"2008-08-05T00:00:00\",\"2008-08-06T00:00:00\",\"2008-08-07T00:00:00\",\"2008-08-08T00:00:00\",\"2008-08-09T00:00:00\",\"2008-08-10T00:00:00\",\"2008-08-11T00:00:00\",\"2008-08-12T00:00:00\",\"2008-08-13T00:00:00\",\"2008-08-14T00:00:00\",\"2008-08-15T00:00:00\",\"2008-08-16T00:00:00\",\"2008-08-17T00:00:00\",\"2008-08-18T00:00:00\",\"2008-08-19T00:00:00\",\"2008-08-20T00:00:00\",\"2008-08-21T00:00:00\",\"2008-08-22T00:00:00\",\"2008-08-23T00:00:00\",\"2008-08-24T00:00:00\",\"2008-08-25T00:00:00\",\"2008-08-26T00:00:00\",\"2008-08-27T00:00:00\",\"2008-08-28T00:00:00\",\"2008-08-29T00:00:00\",\"2008-08-30T00:00:00\",\"2008-08-31T00:00:00\",\"2008-09-01T00:00:00\",\"2008-09-02T00:00:00\",\"2008-09-03T00:00:00\",\"2008-09-04T00:00:00\",\"2008-09-05T00:00:00\",\"2008-09-06T00:00:00\",\"2008-09-07T00:00:00\",\"2008-09-08T00:00:00\",\"2008-09-09T00:00:00\",\"2008-09-10T00:00:00\",\"2008-09-11T00:00:00\",\"2008-09-12T00:00:00\",\"2008-09-13T00:00:00\",\"2008-09-14T00:00:00\",\"2008-09-15T00:00:00\",\"2008-09-16T00:00:00\",\"2008-09-17T00:00:00\",\"2008-09-18T00:00:00\",\"2008-09-19T00:00:00\",\"2008-09-20T00:00:00\",\"2008-09-21T00:00:00\",\"2008-09-22T00:00:00\",\"2008-09-23T00:00:00\",\"2008-09-24T00:00:00\",\"2008-09-25T00:00:00\",\"2008-09-26T00:00:00\",\"2008-09-27T00:00:00\",\"2008-09-28T00:00:00\",\"2008-09-29T00:00:00\",\"2008-09-30T00:00:00\",\"2008-10-01T00:00:00\",\"2008-10-02T00:00:00\",\"2008-10-03T00:00:00\",\"2008-10-04T00:00:00\",\"2008-10-05T00:00:00\",\"2008-10-06T00:00:00\",\"2008-10-07T00:00:00\",\"2008-10-08T00:00:00\",\"2008-10-09T00:00:00\",\"2008-10-10T00:00:00\",\"2008-10-11T00:00:00\",\"2008-10-12T00:00:00\",\"2008-10-13T00:00:00\",\"2008-10-14T00:00:00\",\"2008-10-15T00:00:00\",\"2008-10-16T00:00:00\",\"2008-10-17T00:00:00\",\"2008-10-18T00:00:00\",\"2008-10-19T00:00:00\",\"2008-10-20T00:00:00\",\"2008-10-21T00:00:00\",\"2008-10-22T00:00:00\",\"2008-10-23T00:00:00\",\"2008-10-24T00:00:00\",\"2008-10-25T00:00:00\",\"2008-10-26T00:00:00\",\"2008-10-27T00:00:00\",\"2008-10-28T00:00:00\",\"2008-10-29T00:00:00\",\"2008-10-30T00:00:00\",\"2008-10-31T00:00:00\",\"2008-11-01T00:00:00\",\"2008-11-02T00:00:00\",\"2008-11-03T00:00:00\",\"2008-11-04T00:00:00\",\"2008-11-05T00:00:00\",\"2008-11-06T00:00:00\",\"2008-11-07T00:00:00\",\"2008-11-08T00:00:00\",\"2008-11-09T00:00:00\",\"2008-11-10T00:00:00\",\"2008-11-11T00:00:00\",\"2008-11-12T00:00:00\",\"2008-11-13T00:00:00\",\"2008-11-14T00:00:00\",\"2008-11-15T00:00:00\",\"2008-11-16T00:00:00\",\"2008-11-17T00:00:00\",\"2008-11-18T00:00:00\",\"2008-11-19T00:00:00\",\"2008-11-20T00:00:00\",\"2008-11-21T00:00:00\",\"2008-11-22T00:00:00\",\"2008-11-23T00:00:00\",\"2008-11-24T00:00:00\",\"2008-11-25T00:00:00\",\"2008-11-26T00:00:00\",\"2008-11-27T00:00:00\",\"2008-11-28T00:00:00\",\"2008-11-29T00:00:00\",\"2008-11-30T00:00:00\",\"2008-12-01T00:00:00\",\"2008-12-02T00:00:00\",\"2008-12-03T00:00:00\",\"2008-12-04T00:00:00\",\"2008-12-05T00:00:00\",\"2008-12-06T00:00:00\",\"2008-12-07T00:00:00\",\"2008-12-08T00:00:00\",\"2008-12-09T00:00:00\",\"2008-12-10T00:00:00\",\"2008-12-11T00:00:00\",\"2008-12-12T00:00:00\",\"2008-12-13T00:00:00\",\"2008-12-14T00:00:00\",\"2008-12-15T00:00:00\",\"2008-12-16T00:00:00\",\"2008-12-17T00:00:00\",\"2008-12-18T00:00:00\",\"2008-12-19T00:00:00\",\"2008-12-20T00:00:00\",\"2008-12-21T00:00:00\",\"2008-12-22T00:00:00\",\"2008-12-23T00:00:00\",\"2008-12-24T00:00:00\",\"2008-12-25T00:00:00\",\"2008-12-26T00:00:00\",\"2008-12-27T00:00:00\",\"2008-12-28T00:00:00\",\"2008-12-29T00:00:00\",\"2008-12-30T00:00:00\",\"2008-12-31T00:00:00\",\"2009-01-01T00:00:00\",\"2009-01-02T00:00:00\",\"2009-01-03T00:00:00\",\"2009-01-04T00:00:00\",\"2009-01-05T00:00:00\",\"2009-01-06T00:00:00\",\"2009-01-07T00:00:00\",\"2009-01-08T00:00:00\",\"2009-01-09T00:00:00\",\"2009-01-10T00:00:00\",\"2009-01-11T00:00:00\",\"2009-01-12T00:00:00\",\"2009-01-13T00:00:00\",\"2009-01-14T00:00:00\",\"2009-01-15T00:00:00\",\"2009-01-16T00:00:00\",\"2009-01-17T00:00:00\",\"2009-01-18T00:00:00\",\"2009-01-19T00:00:00\",\"2009-01-20T00:00:00\",\"2009-01-21T00:00:00\",\"2009-01-22T00:00:00\",\"2009-01-23T00:00:00\",\"2009-01-24T00:00:00\",\"2009-01-25T00:00:00\",\"2009-01-26T00:00:00\",\"2009-01-27T00:00:00\",\"2009-01-28T00:00:00\",\"2009-01-29T00:00:00\",\"2009-01-30T00:00:00\",\"2009-01-31T00:00:00\",\"2009-02-01T00:00:00\",\"2009-02-02T00:00:00\",\"2009-02-03T00:00:00\",\"2009-02-04T00:00:00\",\"2009-02-05T00:00:00\",\"2009-02-06T00:00:00\",\"2009-02-07T00:00:00\",\"2009-02-08T00:00:00\",\"2009-02-09T00:00:00\",\"2009-02-10T00:00:00\",\"2009-02-11T00:00:00\",\"2009-02-12T00:00:00\",\"2009-02-13T00:00:00\",\"2009-02-14T00:00:00\",\"2009-02-15T00:00:00\",\"2009-02-16T00:00:00\",\"2009-02-17T00:00:00\",\"2009-02-18T00:00:00\",\"2009-02-19T00:00:00\",\"2009-02-20T00:00:00\",\"2009-02-21T00:00:00\",\"2009-02-22T00:00:00\",\"2009-02-23T00:00:00\",\"2009-02-24T00:00:00\",\"2009-02-25T00:00:00\",\"2009-02-26T00:00:00\",\"2009-02-27T00:00:00\",\"2009-02-28T00:00:00\",\"2009-03-01T00:00:00\",\"2009-03-02T00:00:00\",\"2009-03-03T00:00:00\",\"2009-03-04T00:00:00\",\"2009-03-05T00:00:00\",\"2009-03-06T00:00:00\",\"2009-03-07T00:00:00\",\"2009-03-08T00:00:00\",\"2009-03-09T00:00:00\",\"2009-03-10T00:00:00\",\"2009-03-11T00:00:00\",\"2009-03-12T00:00:00\",\"2009-03-13T00:00:00\",\"2009-03-14T00:00:00\",\"2009-03-15T00:00:00\",\"2009-03-16T00:00:00\",\"2009-03-17T00:00:00\",\"2009-03-18T00:00:00\",\"2009-03-19T00:00:00\",\"2009-03-20T00:00:00\",\"2009-03-21T00:00:00\",\"2009-03-22T00:00:00\",\"2009-03-23T00:00:00\",\"2009-03-24T00:00:00\",\"2009-03-25T00:00:00\",\"2009-03-26T00:00:00\",\"2009-03-27T00:00:00\",\"2009-03-28T00:00:00\",\"2009-03-29T00:00:00\",\"2009-03-30T00:00:00\",\"2009-03-31T00:00:00\",\"2009-04-01T00:00:00\",\"2009-04-02T00:00:00\",\"2009-04-03T00:00:00\",\"2009-04-04T00:00:00\",\"2009-04-05T00:00:00\",\"2009-04-06T00:00:00\",\"2009-04-07T00:00:00\",\"2009-04-08T00:00:00\",\"2009-04-09T00:00:00\",\"2009-04-10T00:00:00\",\"2009-04-11T00:00:00\",\"2009-04-12T00:00:00\",\"2009-04-13T00:00:00\",\"2009-04-14T00:00:00\",\"2009-04-15T00:00:00\",\"2009-04-16T00:00:00\",\"2009-04-17T00:00:00\",\"2009-04-18T00:00:00\",\"2009-04-19T00:00:00\",\"2009-04-20T00:00:00\",\"2009-04-21T00:00:00\",\"2009-04-22T00:00:00\",\"2009-04-23T00:00:00\",\"2009-04-24T00:00:00\",\"2009-04-25T00:00:00\",\"2009-04-26T00:00:00\",\"2009-04-27T00:00:00\",\"2009-04-28T00:00:00\",\"2009-04-29T00:00:00\",\"2009-04-30T00:00:00\",\"2009-05-01T00:00:00\",\"2009-05-02T00:00:00\",\"2009-05-03T00:00:00\",\"2009-05-04T00:00:00\",\"2009-05-05T00:00:00\",\"2009-05-06T00:00:00\",\"2009-05-07T00:00:00\",\"2009-05-08T00:00:00\",\"2009-05-09T00:00:00\",\"2009-05-10T00:00:00\",\"2009-05-11T00:00:00\",\"2009-05-12T00:00:00\",\"2009-05-13T00:00:00\",\"2009-05-14T00:00:00\",\"2009-05-15T00:00:00\",\"2009-05-16T00:00:00\",\"2009-05-17T00:00:00\",\"2009-05-18T00:00:00\",\"2009-05-19T00:00:00\",\"2009-05-20T00:00:00\",\"2009-05-21T00:00:00\",\"2009-05-22T00:00:00\",\"2009-05-23T00:00:00\",\"2009-05-24T00:00:00\",\"2009-05-25T00:00:00\",\"2009-05-26T00:00:00\",\"2009-05-27T00:00:00\",\"2009-05-28T00:00:00\",\"2009-05-29T00:00:00\",\"2009-05-30T00:00:00\",\"2009-05-31T00:00:00\",\"2009-06-01T00:00:00\",\"2009-06-02T00:00:00\",\"2009-06-03T00:00:00\",\"2009-06-04T00:00:00\",\"2009-06-05T00:00:00\",\"2009-06-06T00:00:00\",\"2009-06-07T00:00:00\",\"2009-06-08T00:00:00\",\"2009-06-09T00:00:00\",\"2009-06-10T00:00:00\",\"2009-06-11T00:00:00\",\"2009-06-12T00:00:00\",\"2009-06-13T00:00:00\",\"2009-06-14T00:00:00\",\"2009-06-15T00:00:00\",\"2009-06-16T00:00:00\",\"2009-06-17T00:00:00\",\"2009-06-18T00:00:00\",\"2009-06-19T00:00:00\",\"2009-06-20T00:00:00\",\"2009-06-21T00:00:00\",\"2009-06-22T00:00:00\",\"2009-06-23T00:00:00\",\"2009-06-24T00:00:00\",\"2009-06-25T00:00:00\",\"2009-06-26T00:00:00\",\"2009-06-27T00:00:00\",\"2009-06-28T00:00:00\",\"2009-06-29T00:00:00\",\"2009-06-30T00:00:00\",\"2009-07-01T00:00:00\",\"2009-07-02T00:00:00\",\"2009-07-03T00:00:00\",\"2009-07-04T00:00:00\",\"2009-07-05T00:00:00\",\"2009-07-06T00:00:00\",\"2009-07-07T00:00:00\",\"2009-07-08T00:00:00\",\"2009-07-09T00:00:00\",\"2009-07-10T00:00:00\",\"2009-07-11T00:00:00\",\"2009-07-12T00:00:00\",\"2009-07-13T00:00:00\",\"2009-07-14T00:00:00\",\"2009-07-15T00:00:00\",\"2009-07-16T00:00:00\",\"2009-07-17T00:00:00\",\"2009-07-18T00:00:00\",\"2009-07-19T00:00:00\",\"2009-07-20T00:00:00\",\"2009-07-21T00:00:00\",\"2009-07-22T00:00:00\",\"2009-07-23T00:00:00\",\"2009-07-24T00:00:00\",\"2009-07-25T00:00:00\",\"2009-07-26T00:00:00\",\"2009-07-27T00:00:00\",\"2009-07-28T00:00:00\",\"2009-07-29T00:00:00\",\"2009-07-30T00:00:00\",\"2009-07-31T00:00:00\",\"2009-08-01T00:00:00\",\"2009-08-02T00:00:00\",\"2009-08-03T00:00:00\",\"2009-08-04T00:00:00\",\"2009-08-05T00:00:00\",\"2009-08-06T00:00:00\",\"2009-08-07T00:00:00\",\"2009-08-08T00:00:00\",\"2009-08-09T00:00:00\",\"2009-08-10T00:00:00\",\"2009-08-11T00:00:00\",\"2009-08-12T00:00:00\",\"2009-08-13T00:00:00\",\"2009-08-14T00:00:00\",\"2009-08-15T00:00:00\",\"2009-08-16T00:00:00\",\"2009-08-17T00:00:00\",\"2009-08-18T00:00:00\",\"2009-08-19T00:00:00\",\"2009-08-20T00:00:00\",\"2009-08-21T00:00:00\",\"2009-08-22T00:00:00\",\"2009-08-23T00:00:00\",\"2009-08-24T00:00:00\",\"2009-08-25T00:00:00\",\"2009-08-26T00:00:00\",\"2009-08-27T00:00:00\",\"2009-08-28T00:00:00\",\"2009-08-29T00:00:00\",\"2009-08-30T00:00:00\",\"2009-08-31T00:00:00\",\"2009-09-01T00:00:00\",\"2009-09-02T00:00:00\",\"2009-09-03T00:00:00\",\"2009-09-04T00:00:00\",\"2009-09-05T00:00:00\",\"2009-09-06T00:00:00\",\"2009-09-07T00:00:00\",\"2009-09-08T00:00:00\",\"2009-09-09T00:00:00\",\"2009-09-10T00:00:00\",\"2009-09-11T00:00:00\",\"2009-09-12T00:00:00\",\"2009-09-13T00:00:00\",\"2009-09-14T00:00:00\",\"2009-09-15T00:00:00\",\"2009-09-16T00:00:00\",\"2009-09-17T00:00:00\",\"2009-09-18T00:00:00\",\"2009-09-19T00:00:00\",\"2009-09-20T00:00:00\",\"2009-09-21T00:00:00\",\"2009-09-22T00:00:00\",\"2009-09-23T00:00:00\",\"2009-09-24T00:00:00\",\"2009-09-25T00:00:00\",\"2009-09-26T00:00:00\",\"2009-09-27T00:00:00\",\"2009-09-28T00:00:00\",\"2009-09-29T00:00:00\",\"2009-09-30T00:00:00\",\"2009-10-01T00:00:00\",\"2009-10-02T00:00:00\",\"2009-10-03T00:00:00\",\"2009-10-04T00:00:00\",\"2009-10-05T00:00:00\",\"2009-10-06T00:00:00\",\"2009-10-07T00:00:00\",\"2009-10-08T00:00:00\",\"2009-10-09T00:00:00\",\"2009-10-10T00:00:00\",\"2009-10-11T00:00:00\",\"2009-10-12T00:00:00\",\"2009-10-13T00:00:00\",\"2009-10-14T00:00:00\",\"2009-10-15T00:00:00\",\"2009-10-16T00:00:00\",\"2009-10-17T00:00:00\",\"2009-10-18T00:00:00\",\"2009-10-19T00:00:00\",\"2009-10-20T00:00:00\",\"2009-10-21T00:00:00\",\"2009-10-22T00:00:00\",\"2009-10-23T00:00:00\",\"2009-10-24T00:00:00\",\"2009-10-25T00:00:00\",\"2009-10-26T00:00:00\",\"2009-10-27T00:00:00\",\"2009-10-28T00:00:00\",\"2009-10-29T00:00:00\",\"2009-10-30T00:00:00\",\"2009-10-31T00:00:00\",\"2009-11-01T00:00:00\",\"2009-11-02T00:00:00\",\"2009-11-03T00:00:00\",\"2009-11-04T00:00:00\",\"2009-11-05T00:00:00\",\"2009-11-06T00:00:00\",\"2009-11-07T00:00:00\",\"2009-11-08T00:00:00\",\"2009-11-09T00:00:00\",\"2009-11-10T00:00:00\",\"2009-11-11T00:00:00\",\"2009-11-12T00:00:00\",\"2009-11-13T00:00:00\",\"2009-11-14T00:00:00\",\"2009-11-15T00:00:00\",\"2009-11-16T00:00:00\",\"2009-11-17T00:00:00\",\"2009-11-18T00:00:00\",\"2009-11-19T00:00:00\",\"2009-11-20T00:00:00\",\"2009-11-21T00:00:00\",\"2009-11-22T00:00:00\",\"2009-11-23T00:00:00\",\"2009-11-24T00:00:00\",\"2009-11-25T00:00:00\",\"2009-11-26T00:00:00\",\"2009-11-27T00:00:00\",\"2009-11-28T00:00:00\",\"2009-11-29T00:00:00\",\"2009-11-30T00:00:00\",\"2009-12-01T00:00:00\",\"2009-12-02T00:00:00\",\"2009-12-03T00:00:00\",\"2009-12-04T00:00:00\",\"2009-12-05T00:00:00\",\"2009-12-06T00:00:00\",\"2009-12-07T00:00:00\",\"2009-12-08T00:00:00\",\"2009-12-09T00:00:00\",\"2009-12-10T00:00:00\",\"2009-12-11T00:00:00\",\"2009-12-12T00:00:00\",\"2009-12-13T00:00:00\",\"2009-12-14T00:00:00\",\"2009-12-15T00:00:00\",\"2009-12-16T00:00:00\",\"2009-12-17T00:00:00\",\"2009-12-18T00:00:00\",\"2009-12-19T00:00:00\",\"2009-12-20T00:00:00\",\"2009-12-21T00:00:00\",\"2009-12-22T00:00:00\",\"2009-12-23T00:00:00\",\"2009-12-24T00:00:00\",\"2009-12-25T00:00:00\",\"2009-12-26T00:00:00\",\"2009-12-27T00:00:00\",\"2009-12-28T00:00:00\",\"2009-12-29T00:00:00\",\"2009-12-30T00:00:00\",\"2009-12-31T00:00:00\",\"2010-01-01T00:00:00\",\"2010-01-02T00:00:00\",\"2010-01-03T00:00:00\",\"2010-01-04T00:00:00\",\"2010-01-05T00:00:00\",\"2010-01-06T00:00:00\",\"2010-01-07T00:00:00\",\"2010-01-08T00:00:00\",\"2010-01-09T00:00:00\",\"2010-01-10T00:00:00\",\"2010-01-11T00:00:00\",\"2010-01-12T00:00:00\",\"2010-01-13T00:00:00\",\"2010-01-14T00:00:00\",\"2010-01-15T00:00:00\",\"2010-01-16T00:00:00\",\"2010-01-17T00:00:00\",\"2010-01-18T00:00:00\",\"2010-01-19T00:00:00\",\"2010-01-20T00:00:00\",\"2010-01-21T00:00:00\",\"2010-01-22T00:00:00\",\"2010-01-23T00:00:00\",\"2010-01-24T00:00:00\",\"2010-01-25T00:00:00\",\"2010-01-26T00:00:00\",\"2010-01-27T00:00:00\",\"2010-01-28T00:00:00\",\"2010-01-29T00:00:00\",\"2010-01-30T00:00:00\",\"2010-01-31T00:00:00\",\"2010-02-01T00:00:00\",\"2010-02-02T00:00:00\",\"2010-02-03T00:00:00\",\"2010-02-04T00:00:00\",\"2010-02-05T00:00:00\",\"2010-02-06T00:00:00\",\"2010-02-07T00:00:00\",\"2010-02-08T00:00:00\",\"2010-02-09T00:00:00\",\"2010-02-10T00:00:00\",\"2010-02-11T00:00:00\",\"2010-02-12T00:00:00\",\"2010-02-13T00:00:00\",\"2010-02-14T00:00:00\",\"2010-02-15T00:00:00\",\"2010-02-16T00:00:00\",\"2010-02-17T00:00:00\",\"2010-02-18T00:00:00\",\"2010-02-19T00:00:00\",\"2010-02-20T00:00:00\",\"2010-02-21T00:00:00\",\"2010-02-22T00:00:00\",\"2010-02-23T00:00:00\",\"2010-02-24T00:00:00\",\"2010-02-25T00:00:00\",\"2010-02-26T00:00:00\",\"2010-02-27T00:00:00\",\"2010-02-28T00:00:00\",\"2010-03-01T00:00:00\",\"2010-03-02T00:00:00\",\"2010-03-03T00:00:00\",\"2010-03-04T00:00:00\",\"2010-03-05T00:00:00\",\"2010-03-06T00:00:00\",\"2010-03-07T00:00:00\",\"2010-03-08T00:00:00\",\"2010-03-09T00:00:00\",\"2010-03-10T00:00:00\",\"2010-03-11T00:00:00\",\"2010-03-12T00:00:00\",\"2010-03-13T00:00:00\",\"2010-03-14T00:00:00\",\"2010-03-15T00:00:00\",\"2010-03-16T00:00:00\",\"2010-03-17T00:00:00\",\"2010-03-18T00:00:00\",\"2010-03-19T00:00:00\",\"2010-03-20T00:00:00\",\"2010-03-21T00:00:00\",\"2010-03-22T00:00:00\",\"2010-03-23T00:00:00\",\"2010-03-24T00:00:00\",\"2010-03-25T00:00:00\",\"2010-03-26T00:00:00\",\"2010-03-27T00:00:00\",\"2010-03-28T00:00:00\",\"2010-03-29T00:00:00\",\"2010-03-30T00:00:00\",\"2010-03-31T00:00:00\",\"2010-04-01T00:00:00\",\"2010-04-02T00:00:00\",\"2010-04-03T00:00:00\",\"2010-04-04T00:00:00\",\"2010-04-05T00:00:00\",\"2010-04-06T00:00:00\",\"2010-04-07T00:00:00\",\"2010-04-08T00:00:00\",\"2010-04-09T00:00:00\",\"2010-04-10T00:00:00\",\"2010-04-11T00:00:00\",\"2010-04-12T00:00:00\",\"2010-04-13T00:00:00\",\"2010-04-14T00:00:00\",\"2010-04-15T00:00:00\",\"2010-04-16T00:00:00\",\"2010-04-17T00:00:00\",\"2010-04-18T00:00:00\",\"2010-04-19T00:00:00\",\"2010-04-20T00:00:00\",\"2010-04-21T00:00:00\",\"2010-04-22T00:00:00\",\"2010-04-23T00:00:00\",\"2010-04-24T00:00:00\",\"2010-04-25T00:00:00\",\"2010-04-26T00:00:00\",\"2010-04-27T00:00:00\",\"2010-04-28T00:00:00\",\"2010-04-29T00:00:00\",\"2010-04-30T00:00:00\",\"2010-05-01T00:00:00\",\"2010-05-02T00:00:00\",\"2010-05-03T00:00:00\",\"2010-05-04T00:00:00\",\"2010-05-05T00:00:00\",\"2010-05-06T00:00:00\",\"2010-05-07T00:00:00\",\"2010-05-08T00:00:00\",\"2010-05-09T00:00:00\",\"2010-05-10T00:00:00\",\"2010-05-11T00:00:00\",\"2010-05-12T00:00:00\",\"2010-05-13T00:00:00\",\"2010-05-14T00:00:00\",\"2010-05-15T00:00:00\",\"2010-05-16T00:00:00\",\"2010-05-17T00:00:00\",\"2010-05-18T00:00:00\",\"2010-05-19T00:00:00\",\"2010-05-20T00:00:00\",\"2010-05-21T00:00:00\",\"2010-05-22T00:00:00\",\"2010-05-23T00:00:00\",\"2010-05-24T00:00:00\",\"2010-05-25T00:00:00\",\"2010-05-26T00:00:00\",\"2010-05-27T00:00:00\",\"2010-05-28T00:00:00\",\"2010-05-29T00:00:00\",\"2010-05-30T00:00:00\",\"2010-05-31T00:00:00\",\"2010-06-01T00:00:00\",\"2010-06-02T00:00:00\",\"2010-06-03T00:00:00\",\"2010-06-04T00:00:00\",\"2010-06-05T00:00:00\",\"2010-06-06T00:00:00\",\"2010-06-07T00:00:00\",\"2010-06-08T00:00:00\",\"2010-06-09T00:00:00\",\"2010-06-10T00:00:00\",\"2010-06-11T00:00:00\",\"2010-06-12T00:00:00\",\"2010-06-13T00:00:00\",\"2010-06-14T00:00:00\",\"2010-06-15T00:00:00\",\"2010-06-16T00:00:00\",\"2010-06-17T00:00:00\",\"2010-06-18T00:00:00\",\"2010-06-19T00:00:00\",\"2010-06-20T00:00:00\",\"2010-06-21T00:00:00\",\"2010-06-22T00:00:00\",\"2010-06-23T00:00:00\",\"2010-06-24T00:00:00\",\"2010-06-25T00:00:00\",\"2010-06-26T00:00:00\",\"2010-06-27T00:00:00\",\"2010-06-28T00:00:00\",\"2010-06-29T00:00:00\",\"2010-06-30T00:00:00\",\"2010-07-01T00:00:00\",\"2010-07-02T00:00:00\",\"2010-07-03T00:00:00\",\"2010-07-04T00:00:00\",\"2010-07-05T00:00:00\",\"2010-07-06T00:00:00\",\"2010-07-07T00:00:00\",\"2010-07-08T00:00:00\",\"2010-07-09T00:00:00\",\"2010-07-10T00:00:00\",\"2010-07-11T00:00:00\",\"2010-07-12T00:00:00\",\"2010-07-13T00:00:00\",\"2010-07-14T00:00:00\",\"2010-07-15T00:00:00\",\"2010-07-16T00:00:00\",\"2010-07-17T00:00:00\",\"2010-07-18T00:00:00\",\"2010-07-19T00:00:00\",\"2010-07-20T00:00:00\",\"2010-07-21T00:00:00\",\"2010-07-22T00:00:00\",\"2010-07-23T00:00:00\",\"2010-07-24T00:00:00\",\"2010-07-25T00:00:00\",\"2010-07-26T00:00:00\",\"2010-07-27T00:00:00\",\"2010-07-28T00:00:00\",\"2010-07-29T00:00:00\",\"2010-07-30T00:00:00\",\"2010-07-31T00:00:00\",\"2010-08-01T00:00:00\",\"2010-08-02T00:00:00\",\"2010-08-03T00:00:00\",\"2010-08-04T00:00:00\",\"2010-08-05T00:00:00\",\"2010-08-06T00:00:00\",\"2010-08-07T00:00:00\",\"2010-08-08T00:00:00\",\"2010-08-09T00:00:00\",\"2010-08-10T00:00:00\",\"2010-08-11T00:00:00\",\"2010-08-12T00:00:00\",\"2010-08-13T00:00:00\",\"2010-08-14T00:00:00\",\"2010-08-15T00:00:00\",\"2010-08-16T00:00:00\",\"2010-08-17T00:00:00\",\"2010-08-18T00:00:00\",\"2010-08-19T00:00:00\",\"2010-08-20T00:00:00\",\"2010-08-21T00:00:00\",\"2010-08-22T00:00:00\",\"2010-08-23T00:00:00\",\"2010-08-24T00:00:00\",\"2010-08-25T00:00:00\",\"2010-08-26T00:00:00\",\"2010-08-27T00:00:00\",\"2010-08-28T00:00:00\",\"2010-08-29T00:00:00\",\"2010-08-30T00:00:00\",\"2010-08-31T00:00:00\",\"2010-09-01T00:00:00\",\"2010-09-02T00:00:00\",\"2010-09-03T00:00:00\",\"2010-09-04T00:00:00\",\"2010-09-05T00:00:00\",\"2010-09-06T00:00:00\",\"2010-09-07T00:00:00\",\"2010-09-08T00:00:00\",\"2010-09-09T00:00:00\",\"2010-09-10T00:00:00\",\"2010-09-11T00:00:00\",\"2010-09-12T00:00:00\",\"2010-09-13T00:00:00\",\"2010-09-14T00:00:00\",\"2010-09-15T00:00:00\",\"2010-09-16T00:00:00\",\"2010-09-17T00:00:00\",\"2010-09-18T00:00:00\",\"2010-09-19T00:00:00\",\"2010-09-20T00:00:00\",\"2010-09-21T00:00:00\",\"2010-09-22T00:00:00\",\"2010-09-23T00:00:00\",\"2010-09-24T00:00:00\",\"2010-09-25T00:00:00\",\"2010-09-26T00:00:00\",\"2010-09-27T00:00:00\",\"2010-09-28T00:00:00\",\"2010-09-29T00:00:00\",\"2010-09-30T00:00:00\",\"2010-10-01T00:00:00\",\"2010-10-02T00:00:00\",\"2010-10-03T00:00:00\",\"2010-10-04T00:00:00\",\"2010-10-05T00:00:00\",\"2010-10-06T00:00:00\",\"2010-10-07T00:00:00\",\"2010-10-08T00:00:00\",\"2010-10-09T00:00:00\",\"2010-10-10T00:00:00\",\"2010-10-11T00:00:00\",\"2010-10-12T00:00:00\",\"2010-10-13T00:00:00\",\"2010-10-14T00:00:00\",\"2010-10-15T00:00:00\",\"2010-10-16T00:00:00\",\"2010-10-17T00:00:00\",\"2010-10-18T00:00:00\",\"2010-10-19T00:00:00\",\"2010-10-20T00:00:00\",\"2010-10-21T00:00:00\",\"2010-10-22T00:00:00\",\"2010-10-23T00:00:00\",\"2010-10-24T00:00:00\",\"2010-10-25T00:00:00\",\"2010-10-26T00:00:00\",\"2010-10-27T00:00:00\",\"2010-10-28T00:00:00\",\"2010-10-29T00:00:00\",\"2010-10-30T00:00:00\",\"2010-10-31T00:00:00\",\"2010-11-01T00:00:00\",\"2010-11-02T00:00:00\",\"2010-11-03T00:00:00\",\"2010-11-04T00:00:00\",\"2010-11-05T00:00:00\",\"2010-11-06T00:00:00\",\"2010-11-07T00:00:00\",\"2010-11-08T00:00:00\",\"2010-11-09T00:00:00\",\"2010-11-10T00:00:00\",\"2010-11-11T00:00:00\",\"2010-11-12T00:00:00\",\"2010-11-13T00:00:00\",\"2010-11-14T00:00:00\",\"2010-11-15T00:00:00\",\"2010-11-16T00:00:00\",\"2010-11-17T00:00:00\",\"2010-11-18T00:00:00\",\"2010-11-19T00:00:00\",\"2010-11-20T00:00:00\",\"2010-11-21T00:00:00\",\"2010-11-22T00:00:00\",\"2010-11-23T00:00:00\",\"2010-11-24T00:00:00\",\"2010-11-25T00:00:00\",\"2010-11-26T00:00:00\"],\"xaxis\":\"x\",\"y\":[0.0,1.4118055555555555,0.7381944444444445,0.5826388888888889,0.0,1.227252671263403,2.1881944444444446,1.8534722222222222,1.1826388888888888,4.597222222222222,0.7541666666666667,0.0,1.5326388888888889,0.8694444444444445,2.1348915601522918,0.0,0.0,0.0,0.0,0.7298611111111111,1.0298611111111111,0.9277777777777778,1.3798611111111112,0.0,1.1722222222222223,0.5354166666666667,0.9569444444444445,0.0,5.420833333333333,1.234806891187257,0.7631944444444444,1.4326388888888888,2.4305555555555554,0.0,1.4604166666666667,3.0027777777777778,7.184722222222222,0.7319444444444444,0.0,2.4055555555555554,0.8041666666666667,0.8076388888888889,0.8125,2.407723557853924,0.7798611111111111,0.7798611111111111,0.0,0.8125,0.0,3.2958333333333334,2.354861111111111,0.6222222222222222,0.8229166666666666,2.2909722222222224,1.5458333333333334,0.0,3.5215277777777776,1.6875,1.5465277777777777,0.0,2.2881944444444446,0.0,0.7972222222222223,1.2256944444444444,4.240972222222222,1.1347222222222222,1.4291666666666667,2.4493055555555556,0.9800304490411809,0.0,0.0,0.0,0.0,0.0,0.0,0.0,0.0,0.0,1.025,3.9770833333333333,0.0,0.7472222222222222,1.5138888888888888,0.7590277777777777,2.8680555555555554,3.3402777777777777,0.9743055555555555,0.9375,2.420138888888889,0.0,0.7680555555555556,1.5333333333333334,4.558333333333334,1.1444444444444444,2.6006944444444446,1.2951388888888888,0.24513888888888888,0.7826388888888889,2.5743055555555556,3.216056891187257,0.7555555555555555,0.0,0.7791666666666667,0.8069444444444445,0.7597222222222222,1.8194444444444444,3.214583333333333,1.21875,2.5208333333333335,2.3847222222222224,0.7541666666666667,0.0,0.7826388888888889,0.0,1.8520833333333333,0.1451388888888889,0.0,0.0,0.0,0.0,0.0,0.6611111111111111,1.0638888888888889,1.0965277777777778,0.5090277777777777,0.7423611111111111,4.565972222222222,2.9611111111111112,0.9736111111111111,0.78125,0.0,0.9194444444444444,1.2305555555555556,1.105561928051153,1.1219233096502186,1.5162095413456866,2.78125,0.004861111111111111,1.323611111111111,1.56875,2.0229166666666667,2.232638888888889,0.6569444444444444,3.18125,2.095833333333333,0.6569444444444444,0.6430555555555556,1.5604166666666666,2.5083333333333333,2.2055555555555557,0.0,1.5368055555555555,0.7041666666666667,2.2708333333333335,3.252083333333333,3.763888888888889,0.0,0.6465277777777778,0.6638888888888889,0.6631944444444444,5.597222222222222,1.6479166666666667,3.0319444444444446,3.1625,0.0,1.5625,0.6493055555555556,0.0007791134094793184,2.7576388888888888,3.4618055555555554,1.1006944444444444,3.113888888888889,2.312584668965035,0.6840277777777778,1.94375,0.6212729762268807,2.9180555555555556,0.0,1.3069444444444445,0.6645833333333333,2.3069444444444445,1.5756944444444445,2.2840277777777778,2.863888888888889,0.0,0.6772526712634032,1.2229166666666667,0.6472222222222223,0.0,0.0,0.0,1.3784722222222223,0.6743055555555556,1.8076388888888888,0.0,3.03064022452059,2.1173611111111112,0.6729166666666667,0.7069444444444445,0.32430555555555557,1.617361111111111,2.029166666666667,1.9625,0.6923611111111111,1.2673611111111112,0.6409722222222223,0.04652777777777778,0.7048611111111112,0.7145833333333333,0.0,2.6215277777777777,0.6998958543434225,0.5763888888888888,0.5888888888888889,0.63125,0.7416666666666667,1.4659722222222222,0.2972222222222222,4.9250846689650345,1.2131944444444445,0.0,0.0,0.6770833333333334,1.2756944444444445,0.6298611111111111,0.0,0.0,2.2756944444444445,1.1156669371546213,0.3347222222222222,0.6652777777777777,0.38333333333333336,0.11736111111111111,0.7611111111111111,0.3034722222222222,0.7326388888888888,0.12638888888888888,0.23333333333333334,0.8194444444444444,0.7798611111111111,0.06458333333333334,0.6604166666666667,0.23472222222222222,0.6680555555555555,0.16944444444444445,0.0,0.7118055555555556,0.7166666666666667,0.0,2.1166666666666667,1.7375,1.3139735578539238,2.88125,1.070138888888889,1.6006944444444444,0.7208333333333333,0.6645833333333333,2.654166666666667,0.8333333333333334,1.7340277777777777,2.509027777777778,0.43125,2.033333333333333,0.0,0.0,2.522222222222222,2.31875,1.5166666666666666,0.6493055555555556,0.6548611111111111,0.0,0.8159722222222222,0.6256944444444444,0.0,2.165277777777778,4.61875,1.3111111111111111,0.0,0.7333333333333333,2.173611111111111,0.6555555555555556,1.9659722222222222,0.6451388888888889,0.6361111111111111,0.7362804490411808,0.7402777777777778,0.6916666666666667,2.8368055555555554,0.9756944444444444,1.0465277777777777,0.3527777777777778,0.6798611111111111,1.6666666666666667,0.0,3.361111111111111,1.7347222222222223,0.0,1.4125,1.29375,1.8263888888888888,0.7083333333333334,0.6729166666666667,2.0347222222222223,0.7368055555555556,0.0,0.7395833333333334,0.8069444444444445,0.9020833333333333,1.6409722222222223,2.577777777777778,0.0,0.7425304490411809,3.0965277777777778,1.0263888888888888,0.0,0.9541666666666667,0.0,0.0,0.0,0.0,0.0,0.9347222222222222,0.0,0.0,0.8784722222222222,0.7673611111111112,3.501388888888889,1.1909722222222223,0.0,2.567361111111111,2.392361111111111,0.7069444444444445,0.6791666666666667,0.7326388888888888,1.1152777777777778,1.382638888888889,1.7972222222222223,3.6118055555555557,0.75625,0.7048611111111112,0.7917513356317015,1.9909722222222221,1.5055555555555555,1.0923611111111111,2.4694444444444446,0.7555555555555555,0.7381944444444445,0.8208333333333333,1.4111957800761459,0.0,6.497222222222222,1.4513888888888888,0.7923611111111111,0.7027777777777777,2.376388888888889,3.2993055555555557,0.31875,0.7868055555555555,2.9,0.7652777777777777,0.7291666666666666,0.8,0.7659722222222223,0.6805555555555556,1.1847222222222222,2.3680555555555554,1.1368902245205903,0.7798611111111111,0.85625,1.2909722222222222,0.8270833333333333,2.652083333333333,1.36875,2.0729166666666665,3.186111111111111,0.7701388888888889,2.8625,1.375,3.3583333333333334,2.4965277777777777,0.0,1.7090277777777778,0.0,0.7847222222222222,0.8618055555555556,1.4673611111111111,1.3652777777777778,0.8944444444444445,1.5256944444444445,0.8069444444444445,0.9076388888888889,0.8756944444444444,3.8847222222222224,4.51814022452059,4.1097222222222225,0.5430555555555555,0.8069444444444445,0.6993055555555555,0.7180555555555556,1.7506944444444446,1.2326388888888888,0.0,3.2430555555555554,0.775,0.76875,0.0,3.420138888888889,2.5868055555555554,0.7930555555555555,1.0326388888888889,0.0,0.8090277777777778,0.23333333333333334,4.338973557853923,1.6104166666666666,0.80625,0.7625,1.4680555555555554,0.0,0.6527777777777778,1.4236111111111112,1.7791666666666666,0.7069444444444445,1.395138888888889,1.7569444444444444,0.9027777777777778,0.7701388888888889,0.7472222222222222,2.209722222222222,0.0,1.30625,2.5381944444444446,0.0,0.8104166666666667,1.1710026712634032,0.5236111111111111,0.0,0.0,0.0,0.0,0.0,0.0,0.0,0.0,0.8673611111111111,0.7951388888888888,0.7513888888888889,0.8576388888888888,4.365277777777778,1.8104166666666666,1.395138888888889,0.8826388888888889,0.7777777777777778,2.265972222222222,0.6805555555555556,1.7708333333333333,1.6625,0.1638888888888889,0.8027777777777778,1.4652777777777777,0.76875,1.507638888888889,2.3069444444444445,4.360416666666667,0.7861957800761459,1.5597222222222222,1.76875,0.0,1.6145833333333333,3.578472222222222,3.5034722222222223,0.7576388888888889,0.7493055555555556,0.7680555555555556,0.0,1.48125,2.0340277777777778,0.7805555555555556,1.6805555555555556,1.9111111111111112,0.0,2.2645833333333334,1.2513888888888889,4.913888888888889,1.773611111111111,0.0,0.8152777777777778,0.5819444444444445,1.19375,1.5097222222222222,2.9993055555555554,0.7152777777777778,0.0,0.6743055555555556,0.9583333333333334,0.8770833333333333,0.5722222222222222,0.0,0.48125,0.0,0.9736111111111111,0.7340277777777777,0.0,2.1625,0.6916666666666667,1.525,0.7,0.9402777777777778,0.7152777777777778,2.546527777777778,1.5479166666666666,4.826388888888889,0.3909722222222222,1.4458333333333333,0.5715277777777777,1.7131944444444445,0.6027777777777777,1.5487804490411807,1.4986111111111111,1.2326388888888888,0.7041666666666667,0.9388888888888889,1.38125,0.6916666666666667,0.0,0.7131944444444445,2.990972222222222,0.6840277777777778,0.0,2.1791666666666667,0.6972222222222222,0.0,1.225,1.323611111111111,0.6666666666666666,2.0118055555555556,1.0763888888888888,1.2131944444444445,0.7006944444444444,1.6520833333333333,1.761111111111111,1.3659722222222221,0.6298611111111111,0.6784722222222223,1.354861111111111,1.951473557853924,1.2930555555555556,4.49375,1.375,0.75,5.242361111111111,2.36875,2.047222222222222,0.6527777777777778,3.267361111111111,1.8055555555555556,1.929861111111111,1.9256944444444444,0.6395833333333333,2.8881944444444443,0.0,0.6631944444444444,0.0,2.40625,0.6680555555555555,0.6652777777777777,0.0,1.3020833333333333,2.9569444444444444,1.507638888888889,0.6881944444444444,0.6604166666666667,0.6819444444444445,0.5027777777777778,3.0805555555555557,1.1619748934856253,1.7805555555555554,0.6722222222222223,1.0673611111111112,0.7791666666666667,0.79375,2.042361111111111,1.3493055555555555,1.1791666666666667,0.0,0.85625,0.58125,0.8111111111111111,0.0,0.7381944444444445,0.0,1.0909722222222222,1.7694444444444444,1.0645833333333334,0.40694444444444444,0.0,0.0,0.4146680022983682,0.4409722222222222,0.0,0.0,0.0,0.0,0.0,0.0,0.0,0.0,0.0,0.0,0.0,0.0,0.0,0.0,0.0,0.0,0.0,0.0,0.0,0.0,0.0,0.0,0.0,0.0,0.0,1.4285568911872573,0.6597222222222222,2.967361111111111,0.9208333333333333,1.5451388888888888,0.26319444444444445,2.047222222222222,2.5083333333333333,0.51875,0.1638888888888889,0.7006944444444444,0.6979166666666666,1.2965277777777777,0.6458333333333334,3.245138888888889,0.6666666666666666,0.0,1.3263888888888888,2.9180555555555556,1.0895833333333333,0.0,2.7847222222222223,0.7041666666666667,0.0,1.4020833333333333,0.7027777777777777,0.8479166666666667,3.01875,1.3333333333333333,0.7041666666666667,0.6930555555555555,1.5618055555555554,0.0,3.3340277777777776,2.404166666666667,0.6875,0.6875,0.7055555555555556,0.725,0.7166666666666667,0.0,1.488888888888889,1.7784722222222222,0.7201388888888889,0.8173611111111111,1.3875,0.6604166666666667,1.413888888888889,0.5548611111111111,0.4847222222222222,0.5861111111111111,0.5951388888888889,0.4597222222222222,0.5659722222222222,5.48125,0.5453074321631662,0.0,0.0,1.5715277777777779,0.7201388888888889,0.0,0.0,0.0,0.0,0.66875,0.0,5.2756944444444445,0.7173611111111111,0.7166666666666667,0.7736111111111111,4.375694444444444,0.7150913471235425,1.71875,0.7418360045967365,0.0,1.4527777777777777,2.7444444444444445,3.3270833333333334,0.0,0.7493055555555556,1.20625,0.7180555555555556,0.7215277777777778,0.7590277777777777,2.5223068911872573,0.7381944444444445,2.0902777777777777,0.63125,1.729861111111111,0.7729166666666667,3.658333333333333,0.80625,0.7534722222222222,0.0,0.7895833333333333,0.7534722222222222,0.5770833333333333,2.78125,2.2875,0.7756944444444445,1.3784722222222223,0.8378712719968857,0.8055555555555556,0.8034722222222223,1.5180555555555555,2.598611111111111,0.8180555555555555,0.0,2.9520833333333334,0.78125,1.0680555555555555,0.7868902245205903,0.7631944444444444,1.4979166666666666,1.851388888888889,0.0,0.0,0.7784722222222222,0.0,1.35625,0.0,0.0,2.0659722222222223,0.53125,1.6784722222222221,4.472222222222222,1.0118055555555556,0.8659722222222223,0.0,1.8659722222222221,1.9256944444444444,1.2513888888888889,1.9638888888888888,3.1395833333333334,0.0,0.7916666666666666,1.5820291134094795,1.8965277777777778,4.035416666666666,1.7201388888888889,3.9229166666666666,0.7763888888888889,0.0,0.7972222222222223,0.0,1.4430555555555555,3.5388888888888888,2.7576388888888888,0.7784722222222222,0.6222222222222222,1.5979166666666667,0.0,1.1263888888888889,5.748611111111111,2.342106309560214,0.8048611111111111,0.48819444444444443,0.6048611111111111,0.7666666666666667,0.8090277777777778,4.7375,3.7090277777777776,0.7381944444444445,0.7833333333333333,2.0729166666666665,0.7701388888888889,0.7638888888888888,1.584891560152292,1.7118055555555556,0.0,0.018698721827503643,0.0,0.7263888888888889,2.0118055555555556,1.4659722222222222,2.65,0.8416666666666667,0.0,0.7583333333333333,0.0,0.8013888888888889,0.7951388888888888,7.76327911340948,1.0833333333333333,0.8048611111111111,1.5375,0.0,0.7944444444444444,0.7326388888888888,5.0368055555555555,1.3895833333333334,0.0,2.4138888888888888,0.0,0.7513888888888889,1.525,2.415277777777778,0.0007791134094793184,0.7708333333333334,0.7798611111111111,0.0,0.7520833333333333,3.763888888888889,1.4006944444444445,0.7486111111111111,1.1875,1.9305555555555556,0.0,0.7659722222222223,3.14375,1.11875,0.7534722222222222,1.5291666666666666,1.9493055555555556,0.7833333333333333,0.0,1.8743055555555554,2.661111111111111,0.5548611111111111,0.7659722222222223,1.479861111111111,1.8625,1.4284722222222221,2.542361111111111,5.206944444444445,0.7001693379300697,0.6166666666666667,1.3055555555555556,2.011111111111111,0.0,0.7138888888888889,1.5284722222222222,0.0,1.3368055555555556,0.7111111111111111,0.7416666666666667,0.0,1.39375,2.120138888888889,0.6909722222222222,1.4361111111111111,0.7243055555555555,0.7131944444444445,0.7409722222222223,0.9930555555555556,2.2270833333333333,0.6993055555555555,0.7284722222222222,0.7208333333333333,0.0,1.5458333333333334,1.4513888888888888,2.9868902245205904,0.71875,0.0,0.9854166666666667,0.0,0.9597222222222223,1.1840277777777777,1.7743055555555556,0.5298611111111111,2.259027777777778,0.7368055555555556,1.0784722222222223,0.6819444444444445,0.3333333333333333,0.03125,0.6388888888888888,0.8294206735617713,0.7305555555555555,1.0430555555555556,0.6979166666666666,1.9354166666666666,1.0180555555555555,1.9368055555555554,0.0,0.6527777777777778,1.323611111111111,0.0,1.2284722222222222,1.4423611111111112,0.7111111111111111,0.6944444444444444,0.7166666666666667,0.0,0.7006944444444444,1.0985499073658391,1.1219233096502186,0.990607712424201,2.071527777777778,0.6770833333333334,0.0,0.6729166666666667,0.0,0.7215277777777778,0.0,0.7013888888888888,2.1243055555555554,0.0,1.2680555555555555,1.8493055555555555,0.0,1.2458333333333333,0.4041666666666667,0.6868055555555556,0.4423611111111111,0.5944444444444444,1.4472222222222222,2.232638888888889,0.29791666666666666,0.8972222222222223,0.0,0.0,0.6892275647490284,0.68125,0.0,0.0,1.5993055555555555,0.6097222222222223,0.0,0.0,0.0,0.0,0.6347222222222222,0.0,0.0,0.6430555555555556,0.0,0.0,0.0,0.0,0.0,0.6034722222222222,0.0,0.6006944444444444,0.0,0.0,0.0,0.0,0.0,0.0,0.0,0.0,1.3777777777777778,0.0,0.5951388888888889,0.6333333333333333,1.5379400478460727,0.29791666666666666,2.3868055555555556,1.113888888888889,0.0006944444444444445,1.601388888888889,0.6222222222222222,0.0,2.1131944444444444,3.1555555555555554,0.6590277777777778,1.582638888888889,0.7916666666666666,1.479861111111111,0.0,1.2347222222222223,0.6284722222222222,1.8423611111111111,0.6666666666666666,0.0,0.6576388888888889,2.3048611111111112,0.0,2.075,0.6909722222222222,1.525,0.6958333333333333,0.6694444444444444,0.6444444444444445,0.0,6.654861111111111,2.8799457800761457,1.9743055555555555,1.2284722222222222,0.71875,0.0,1.3840277777777779,1.1159722222222221,3.147222222222222,0.6395833333333333,0.6506944444444445,1.4479166666666667,0.7298611111111111,0.0,1.3493055555555555,1.2618055555555556,0.0,0.7159722222222222,0.6751693379300698,0.6597222222222222,0.0,2.5305555555555554,2.214583333333333,0.6833333333333333,0.0006944444444444445,0.5097222222222222,1.4520833333333334,0.0,3.1319444444444446,2.8556402245205903,0.6923611111111111,0.6826388888888889,1.3895833333333334,1.13125,0.0,3.8125,0.49444444444444446,0.7666666666666667,0.5277777777777778,1.4104166666666667,0.0,2.2083333333333335,4.3069444444444445,2.0902777777777777,0.3298611111111111,0.40208333333333335,0.725,0.53125,1.2354166666666666,1.23125,1.3680555555555556,1.30625,1.395138888888889,0.7465277777777778,0.7673611111111112,0.0,1.51875,3.43125,0.7820291134094792,0.7763888888888889,1.6236111111111111,1.0319444444444446,1.288888888888889,2.895138888888889,0.6881944444444444,1.4034722222222222,0.0,4.175,0.0,0.5854166666666667,3.9541666666666666,4.704166666666667,0.0,1.729861111111111,0.5173611111111112,1.5708333333333333,0.0,2.2215277777777778,0.7451388888888889,0.75,0.0,0.79375,0.7215277777777778,0.8041666666666667,2.654166666666667,1.9791666666666667,0.7861111111111111,0.7694444444444445,1.426388888888889,1.9619748934856251,1.073611111111111,0.7548611111111111,2.7666666666666666,0.7569444444444444,0.7715277777777778,0.79375,0.0,0.8298611111111112,0.8090277777777778,0.8590277777777777,2.2868055555555555,0.0,0.79375,3.6,2.3409722222222222,0.8236111111111111,2.9291666666666667,1.5104166666666667,0.875,3.6694444444444443,0.0,1.6,0.5570291134094794,2.6680555555555556,0.0,1.2395833333333333,1.2020833333333334,0.8319444444444445,0.0,1.93125,2.475,0.86875,0.8095083683185206,1.1219233096502186,2.2022475136253816,1.3590277777777777,1.8090277777777777,1.3833333333333333,0.4284722222222222,1.4194444444444445,1.6090277777777777,0.6208333333333333,0.48541666666666666,2.191056891187257,2.4277777777777776,0.95,0.36527777777777776,1.4194444444444445,1.4111111111111112,1.0333333333333334,2.25,1.1909722222222223,0.7715277777777778,0.0,1.551388888888889,0.7458333333333333,0.6263888888888889,3.0027777777777778,1.9,0.80625,0.8430555555555556,0.847306891187257,0.0,0.8618055555555556,1.2763888888888888,0.8500846689650348,2.408333333333333,1.3506944444444444,1.5930555555555554,0.6701388888888888,1.475,2.602777777777778,4.100694444444445,0.9673611111111111,0.0,1.5694444444444444,0.0,0.7958333333333333,2.5993055555555555,0.0,1.2395833333333333,0.0,0.0,0.0,0.7694444444444445,0.0,0.0,2.926388888888889,0.5875,0.8104166666666667,1.4381944444444446,1.1743055555555555,1.9777777777777779,2.4055555555555554,0.5402777777777777,0.0,0.7888888888888889,0.7965277777777777,0.0,0.9411689986510167,1.7978161045857841,0.7930555555555555,2.0083333333333333,0.7465277777777778,0.0,0.7486111111111111,0.7409722222222223,0.7520833333333333,0.0,1.2222222222222223,0.7409722222222223,1.2361111111111112,0.0,1.2347222222222223,0.7618055555555555,1.21875,0.8013888888888889,0.7479166666666667,0.10069444444444445,0.7555555555555555,0.725,3.8195291134094793,0.4583333333333333,0.7618055555555555,0.7861111111111111,1.7541666666666667,1.9701388888888889,0.3840277777777778,0.7666666666666667,0.8541666666666666,0.9638888888888889,0.0,0.7375,0.0,3.0868055555555554,0.0,0.7208333333333333,0.0,0.0,0.008333333333333333,1.8715277777777777,1.3777777777777778,1.2902777777777779,0.6805555555555556,0.0,2.0618055555555554,0.0,0.73125,2.4784722222222224,2.0055555555555555,0.0,0.8027777777777778,0.7194444444444444,1.475084668965035,0.7256944444444444,2.3243055555555556,2.3340277777777776,0.7041666666666667,0.0,1.4736111111111112,0.0,0.7451388888888889,1.5819444444444444,0.6,1.3020833333333333,0.32916666666666666,0.6347222222222222,0.6472222222222223,0.7083333333333334,2.817361111111111,1.6701388888888888,1.1875,0.6736111111111112,0.0,2.025,1.1770833333333333,7.591666666666667,5.284027777777778,1.2645833333333334,1.0506944444444444,1.926388888888889,0.0,2.3881944444444443,1.8792513356317015,3.4180555555555556,0.6652777777777777,0.0,1.3020833333333333,0.0,0.6784722222222223,1.65625,0.7090277777777778,2.6555555555555554,0.6722222222222223,3.986111111111111,0.6756944444444445,0.0,0.6395833333333333,1.8506944444444444,0.0,1.2132791134094794,0.2763888888888889,0.6090277777777777,0.5708333333333333,0.0,0.5972222222222222,0.5840277777777778,0.0,0.6104166666666667,0.5951388888888889,0.0,0.6298611111111111,0.5888888888888889,1.1972222222222222,1.5784722222222223,0.7388888888888889,0.7445291134094792,0.0,0.0,0.0,0.0,0.00625,1.4097222222222223,0.0,0.6229166666666667,0.0,0.0,0.0,0.6298611111111111,0.55625,0.0,0.0,0.0,0.0,0.0,0.0,0.0,0.0,0.0,0.0,0.0,0.0,0.0,0.0,0.0,0.0,0.0,0.0,1.0625,0.7914599646650965,1.1219233096502186,1.1219233096502186,1.1219233096502186,1.1219233096502186,1.0034980714093622,0.0,0.0,0.6729166666666667,0.0,0.6458333333333334,1.448611111111111,2.0868055555555554,0.6527777777777778,1.457638888888889,1.3520833333333333,0.6451388888888889,0.6527777777777778,1.8090277777777777,1.117361111111111,2.1972222222222224,1.3395833333333333,0.0006944444444444445,1.2590277777777779,0.6708333333333333,0.6458333333333334,1.2534722222222223,0.9034722222222222,1.301388888888889,0.0,0.7208333333333333,1.3569444444444445,0.6819444444444445,0.0,2.307638888888889,0.0,1.7166666666666666,0.7090277777777778,1.207638888888889,0.9380525450130993,1.1219233096502186,1.1219233096502186,1.5538733166852097,1.0965277777777778,0.0,1.2166666666666666,2.7583333333333333,3.4722222222222223,1.1868055555555554,0.0,0.7055555555555556,1.4993055555555554,0.6694444444444444,0.6659722222222222,2.3090277777777777,0.6993055555555555,0.7666666666666667,1.3805555555555555,1.79375,0.49444444444444446,0.0,0.6909722222222222,1.551388888888889,0.7118055555555556,1.4958333333333333,0.5243055555555556,0.7680555555555556,2.595138888888889,1.377168002298368,0.0,0.0,0.0,0.7659722222222223,0.7465277777777778,1.6340277777777779,0.9930555555555556,0.0,0.0,0.7090277777777778,4.186805555555556,0.0,2.2604166666666665,0.7125,0.7548611111111111,1.45625,0.7125,2.3777777777777778,1.426388888888889,0.7298611111111111,3.7111111111111112,0.7465277777777778,0.0,0.8006944444444445,1.5104166666666667,0.0,3.032638888888889,0.0,3.3715277777777777,1.2993055555555555,0.7611111111111111,0.7472222222222222,0.8551068883610451],\"yaxis\":\"y\",\"type\":\"scattergl\"}],                        {\"template\":{\"data\":{\"histogram2dcontour\":[{\"type\":\"histogram2dcontour\",\"colorbar\":{\"outlinewidth\":0,\"ticks\":\"\"},\"colorscale\":[[0.0,\"#0d0887\"],[0.1111111111111111,\"#46039f\"],[0.2222222222222222,\"#7201a8\"],[0.3333333333333333,\"#9c179e\"],[0.4444444444444444,\"#bd3786\"],[0.5555555555555556,\"#d8576b\"],[0.6666666666666666,\"#ed7953\"],[0.7777777777777778,\"#fb9f3a\"],[0.8888888888888888,\"#fdca26\"],[1.0,\"#f0f921\"]]}],\"choropleth\":[{\"type\":\"choropleth\",\"colorbar\":{\"outlinewidth\":0,\"ticks\":\"\"}}],\"histogram2d\":[{\"type\":\"histogram2d\",\"colorbar\":{\"outlinewidth\":0,\"ticks\":\"\"},\"colorscale\":[[0.0,\"#0d0887\"],[0.1111111111111111,\"#46039f\"],[0.2222222222222222,\"#7201a8\"],[0.3333333333333333,\"#9c179e\"],[0.4444444444444444,\"#bd3786\"],[0.5555555555555556,\"#d8576b\"],[0.6666666666666666,\"#ed7953\"],[0.7777777777777778,\"#fb9f3a\"],[0.8888888888888888,\"#fdca26\"],[1.0,\"#f0f921\"]]}],\"heatmap\":[{\"type\":\"heatmap\",\"colorbar\":{\"outlinewidth\":0,\"ticks\":\"\"},\"colorscale\":[[0.0,\"#0d0887\"],[0.1111111111111111,\"#46039f\"],[0.2222222222222222,\"#7201a8\"],[0.3333333333333333,\"#9c179e\"],[0.4444444444444444,\"#bd3786\"],[0.5555555555555556,\"#d8576b\"],[0.6666666666666666,\"#ed7953\"],[0.7777777777777778,\"#fb9f3a\"],[0.8888888888888888,\"#fdca26\"],[1.0,\"#f0f921\"]]}],\"heatmapgl\":[{\"type\":\"heatmapgl\",\"colorbar\":{\"outlinewidth\":0,\"ticks\":\"\"},\"colorscale\":[[0.0,\"#0d0887\"],[0.1111111111111111,\"#46039f\"],[0.2222222222222222,\"#7201a8\"],[0.3333333333333333,\"#9c179e\"],[0.4444444444444444,\"#bd3786\"],[0.5555555555555556,\"#d8576b\"],[0.6666666666666666,\"#ed7953\"],[0.7777777777777778,\"#fb9f3a\"],[0.8888888888888888,\"#fdca26\"],[1.0,\"#f0f921\"]]}],\"contourcarpet\":[{\"type\":\"contourcarpet\",\"colorbar\":{\"outlinewidth\":0,\"ticks\":\"\"}}],\"contour\":[{\"type\":\"contour\",\"colorbar\":{\"outlinewidth\":0,\"ticks\":\"\"},\"colorscale\":[[0.0,\"#0d0887\"],[0.1111111111111111,\"#46039f\"],[0.2222222222222222,\"#7201a8\"],[0.3333333333333333,\"#9c179e\"],[0.4444444444444444,\"#bd3786\"],[0.5555555555555556,\"#d8576b\"],[0.6666666666666666,\"#ed7953\"],[0.7777777777777778,\"#fb9f3a\"],[0.8888888888888888,\"#fdca26\"],[1.0,\"#f0f921\"]]}],\"surface\":[{\"type\":\"surface\",\"colorbar\":{\"outlinewidth\":0,\"ticks\":\"\"},\"colorscale\":[[0.0,\"#0d0887\"],[0.1111111111111111,\"#46039f\"],[0.2222222222222222,\"#7201a8\"],[0.3333333333333333,\"#9c179e\"],[0.4444444444444444,\"#bd3786\"],[0.5555555555555556,\"#d8576b\"],[0.6666666666666666,\"#ed7953\"],[0.7777777777777778,\"#fb9f3a\"],[0.8888888888888888,\"#fdca26\"],[1.0,\"#f0f921\"]]}],\"mesh3d\":[{\"type\":\"mesh3d\",\"colorbar\":{\"outlinewidth\":0,\"ticks\":\"\"}}],\"scatter\":[{\"fillpattern\":{\"fillmode\":\"overlay\",\"size\":10,\"solidity\":0.2},\"type\":\"scatter\"}],\"parcoords\":[{\"type\":\"parcoords\",\"line\":{\"colorbar\":{\"outlinewidth\":0,\"ticks\":\"\"}}}],\"scatterpolargl\":[{\"type\":\"scatterpolargl\",\"marker\":{\"colorbar\":{\"outlinewidth\":0,\"ticks\":\"\"}}}],\"bar\":[{\"error_x\":{\"color\":\"#2a3f5f\"},\"error_y\":{\"color\":\"#2a3f5f\"},\"marker\":{\"line\":{\"color\":\"#E5ECF6\",\"width\":0.5},\"pattern\":{\"fillmode\":\"overlay\",\"size\":10,\"solidity\":0.2}},\"type\":\"bar\"}],\"scattergeo\":[{\"type\":\"scattergeo\",\"marker\":{\"colorbar\":{\"outlinewidth\":0,\"ticks\":\"\"}}}],\"scatterpolar\":[{\"type\":\"scatterpolar\",\"marker\":{\"colorbar\":{\"outlinewidth\":0,\"ticks\":\"\"}}}],\"histogram\":[{\"marker\":{\"pattern\":{\"fillmode\":\"overlay\",\"size\":10,\"solidity\":0.2}},\"type\":\"histogram\"}],\"scattergl\":[{\"type\":\"scattergl\",\"marker\":{\"colorbar\":{\"outlinewidth\":0,\"ticks\":\"\"}}}],\"scatter3d\":[{\"type\":\"scatter3d\",\"line\":{\"colorbar\":{\"outlinewidth\":0,\"ticks\":\"\"}},\"marker\":{\"colorbar\":{\"outlinewidth\":0,\"ticks\":\"\"}}}],\"scattermapbox\":[{\"type\":\"scattermapbox\",\"marker\":{\"colorbar\":{\"outlinewidth\":0,\"ticks\":\"\"}}}],\"scatterternary\":[{\"type\":\"scatterternary\",\"marker\":{\"colorbar\":{\"outlinewidth\":0,\"ticks\":\"\"}}}],\"scattercarpet\":[{\"type\":\"scattercarpet\",\"marker\":{\"colorbar\":{\"outlinewidth\":0,\"ticks\":\"\"}}}],\"carpet\":[{\"aaxis\":{\"endlinecolor\":\"#2a3f5f\",\"gridcolor\":\"white\",\"linecolor\":\"white\",\"minorgridcolor\":\"white\",\"startlinecolor\":\"#2a3f5f\"},\"baxis\":{\"endlinecolor\":\"#2a3f5f\",\"gridcolor\":\"white\",\"linecolor\":\"white\",\"minorgridcolor\":\"white\",\"startlinecolor\":\"#2a3f5f\"},\"type\":\"carpet\"}],\"table\":[{\"cells\":{\"fill\":{\"color\":\"#EBF0F8\"},\"line\":{\"color\":\"white\"}},\"header\":{\"fill\":{\"color\":\"#C8D4E3\"},\"line\":{\"color\":\"white\"}},\"type\":\"table\"}],\"barpolar\":[{\"marker\":{\"line\":{\"color\":\"#E5ECF6\",\"width\":0.5},\"pattern\":{\"fillmode\":\"overlay\",\"size\":10,\"solidity\":0.2}},\"type\":\"barpolar\"}],\"pie\":[{\"automargin\":true,\"type\":\"pie\"}]},\"layout\":{\"autotypenumbers\":\"strict\",\"colorway\":[\"#636efa\",\"#EF553B\",\"#00cc96\",\"#ab63fa\",\"#FFA15A\",\"#19d3f3\",\"#FF6692\",\"#B6E880\",\"#FF97FF\",\"#FECB52\"],\"font\":{\"color\":\"#2a3f5f\"},\"hovermode\":\"closest\",\"hoverlabel\":{\"align\":\"left\"},\"paper_bgcolor\":\"white\",\"plot_bgcolor\":\"#E5ECF6\",\"polar\":{\"bgcolor\":\"#E5ECF6\",\"angularaxis\":{\"gridcolor\":\"white\",\"linecolor\":\"white\",\"ticks\":\"\"},\"radialaxis\":{\"gridcolor\":\"white\",\"linecolor\":\"white\",\"ticks\":\"\"}},\"ternary\":{\"bgcolor\":\"#E5ECF6\",\"aaxis\":{\"gridcolor\":\"white\",\"linecolor\":\"white\",\"ticks\":\"\"},\"baxis\":{\"gridcolor\":\"white\",\"linecolor\":\"white\",\"ticks\":\"\"},\"caxis\":{\"gridcolor\":\"white\",\"linecolor\":\"white\",\"ticks\":\"\"}},\"coloraxis\":{\"colorbar\":{\"outlinewidth\":0,\"ticks\":\"\"}},\"colorscale\":{\"sequential\":[[0.0,\"#0d0887\"],[0.1111111111111111,\"#46039f\"],[0.2222222222222222,\"#7201a8\"],[0.3333333333333333,\"#9c179e\"],[0.4444444444444444,\"#bd3786\"],[0.5555555555555556,\"#d8576b\"],[0.6666666666666666,\"#ed7953\"],[0.7777777777777778,\"#fb9f3a\"],[0.8888888888888888,\"#fdca26\"],[1.0,\"#f0f921\"]],\"sequentialminus\":[[0.0,\"#0d0887\"],[0.1111111111111111,\"#46039f\"],[0.2222222222222222,\"#7201a8\"],[0.3333333333333333,\"#9c179e\"],[0.4444444444444444,\"#bd3786\"],[0.5555555555555556,\"#d8576b\"],[0.6666666666666666,\"#ed7953\"],[0.7777777777777778,\"#fb9f3a\"],[0.8888888888888888,\"#fdca26\"],[1.0,\"#f0f921\"]],\"diverging\":[[0,\"#8e0152\"],[0.1,\"#c51b7d\"],[0.2,\"#de77ae\"],[0.3,\"#f1b6da\"],[0.4,\"#fde0ef\"],[0.5,\"#f7f7f7\"],[0.6,\"#e6f5d0\"],[0.7,\"#b8e186\"],[0.8,\"#7fbc41\"],[0.9,\"#4d9221\"],[1,\"#276419\"]]},\"xaxis\":{\"gridcolor\":\"white\",\"linecolor\":\"white\",\"ticks\":\"\",\"title\":{\"standoff\":15},\"zerolinecolor\":\"white\",\"automargin\":true,\"zerolinewidth\":2},\"yaxis\":{\"gridcolor\":\"white\",\"linecolor\":\"white\",\"ticks\":\"\",\"title\":{\"standoff\":15},\"zerolinecolor\":\"white\",\"automargin\":true,\"zerolinewidth\":2},\"scene\":{\"xaxis\":{\"backgroundcolor\":\"#E5ECF6\",\"gridcolor\":\"white\",\"linecolor\":\"white\",\"showbackground\":true,\"ticks\":\"\",\"zerolinecolor\":\"white\",\"gridwidth\":2},\"yaxis\":{\"backgroundcolor\":\"#E5ECF6\",\"gridcolor\":\"white\",\"linecolor\":\"white\",\"showbackground\":true,\"ticks\":\"\",\"zerolinecolor\":\"white\",\"gridwidth\":2},\"zaxis\":{\"backgroundcolor\":\"#E5ECF6\",\"gridcolor\":\"white\",\"linecolor\":\"white\",\"showbackground\":true,\"ticks\":\"\",\"zerolinecolor\":\"white\",\"gridwidth\":2}},\"shapedefaults\":{\"line\":{\"color\":\"#2a3f5f\"}},\"annotationdefaults\":{\"arrowcolor\":\"#2a3f5f\",\"arrowhead\":0,\"arrowwidth\":1},\"geo\":{\"bgcolor\":\"white\",\"landcolor\":\"#E5ECF6\",\"subunitcolor\":\"white\",\"showland\":true,\"showlakes\":true,\"lakecolor\":\"white\"},\"title\":{\"x\":0.05},\"mapbox\":{\"style\":\"light\"}}},\"xaxis\":{\"anchor\":\"y\",\"domain\":[0.0,1.0],\"title\":{\"text\":\"Date\"}},\"yaxis\":{\"anchor\":\"x\",\"domain\":[0.0,1.0],\"title\":{\"text\":\"Sub Metering 1\"}},\"legend\":{\"tracegroupgap\":0},\"title\":{\"text\":\"Sub Metering 1 Over Time (Daily)\",\"x\":0.5},\"font\":{\"color\":\"lightgray\"},\"plot_bgcolor\":\"rgb(35, 35, 35)\",\"paper_bgcolor\":\"rgb(25, 25, 25)\"},                        {\"responsive\": true}                    ).then(function(){\n",
              "                            \n",
              "var gd = document.getElementById('60c826ee-5c39-48c7-b9f6-60c91de2959f');\n",
              "var x = new MutationObserver(function (mutations, observer) {{\n",
              "        var display = window.getComputedStyle(gd).display;\n",
              "        if (!display || display === 'none') {{\n",
              "            console.log([gd, 'removed!']);\n",
              "            Plotly.purge(gd);\n",
              "            observer.disconnect();\n",
              "        }}\n",
              "}});\n",
              "\n",
              "// Listen for the removal of the full notebook cells\n",
              "var notebookContainer = gd.closest('#notebook-container');\n",
              "if (notebookContainer) {{\n",
              "    x.observe(notebookContainer, {childList: true});\n",
              "}}\n",
              "\n",
              "// Listen for the clearing of the current output cell\n",
              "var outputEl = gd.closest('.output');\n",
              "if (outputEl) {{\n",
              "    x.observe(outputEl, {childList: true});\n",
              "}}\n",
              "\n",
              "                        })                };                            </script>        </div>\n",
              "</body>\n",
              "</html>"
            ]
          },
          "metadata": {}
        },
        {
          "output_type": "display_data",
          "data": {
            "text/html": [
              "<html>\n",
              "<head><meta charset=\"utf-8\" /></head>\n",
              "<body>\n",
              "    <div>            <script src=\"https://cdnjs.cloudflare.com/ajax/libs/mathjax/2.7.5/MathJax.js?config=TeX-AMS-MML_SVG\"></script><script type=\"text/javascript\">if (window.MathJax && window.MathJax.Hub && window.MathJax.Hub.Config) {window.MathJax.Hub.Config({SVG: {font: \"STIX-Web\"}});}</script>                <script type=\"text/javascript\">window.PlotlyConfig = {MathJaxConfig: 'local'};</script>\n",
              "        <script charset=\"utf-8\" src=\"https://cdn.plot.ly/plotly-2.24.1.min.js\"></script>                <div id=\"5ec431d9-427e-413c-a56d-ad7bf726c3f7\" class=\"plotly-graph-div\" style=\"height:525px; width:100%;\"></div>            <script type=\"text/javascript\">                                    window.PLOTLYENV=window.PLOTLYENV || {};                                    if (document.getElementById(\"5ec431d9-427e-413c-a56d-ad7bf726c3f7\")) {                    Plotly.newPlot(                        \"5ec431d9-427e-413c-a56d-ad7bf726c3f7\",                        [{\"hovertemplate\":\"Date_time=%{x}\\u003cbr\\u003eSub_metering_2=%{y}\\u003cextra\\u003e\\u003c\\u002fextra\\u003e\",\"legendgroup\":\"\",\"line\":{\"color\":\"#636efa\",\"dash\":\"solid\"},\"marker\":{\"symbol\":\"circle\"},\"mode\":\"lines\",\"name\":\"\",\"showlegend\":false,\"x\":[\"2006-12-16T00:00:00\",\"2006-12-17T00:00:00\",\"2006-12-18T00:00:00\",\"2006-12-19T00:00:00\",\"2006-12-20T00:00:00\",\"2006-12-21T00:00:00\",\"2006-12-22T00:00:00\",\"2006-12-23T00:00:00\",\"2006-12-24T00:00:00\",\"2006-12-25T00:00:00\",\"2006-12-26T00:00:00\",\"2006-12-27T00:00:00\",\"2006-12-28T00:00:00\",\"2006-12-29T00:00:00\",\"2006-12-30T00:00:00\",\"2006-12-31T00:00:00\",\"2007-01-01T00:00:00\",\"2007-01-02T00:00:00\",\"2007-01-03T00:00:00\",\"2007-01-04T00:00:00\",\"2007-01-05T00:00:00\",\"2007-01-06T00:00:00\",\"2007-01-07T00:00:00\",\"2007-01-08T00:00:00\",\"2007-01-09T00:00:00\",\"2007-01-10T00:00:00\",\"2007-01-11T00:00:00\",\"2007-01-12T00:00:00\",\"2007-01-13T00:00:00\",\"2007-01-14T00:00:00\",\"2007-01-15T00:00:00\",\"2007-01-16T00:00:00\",\"2007-01-17T00:00:00\",\"2007-01-18T00:00:00\",\"2007-01-19T00:00:00\",\"2007-01-20T00:00:00\",\"2007-01-21T00:00:00\",\"2007-01-22T00:00:00\",\"2007-01-23T00:00:00\",\"2007-01-24T00:00:00\",\"2007-01-25T00:00:00\",\"2007-01-26T00:00:00\",\"2007-01-27T00:00:00\",\"2007-01-28T00:00:00\",\"2007-01-29T00:00:00\",\"2007-01-30T00:00:00\",\"2007-01-31T00:00:00\",\"2007-02-01T00:00:00\",\"2007-02-02T00:00:00\",\"2007-02-03T00:00:00\",\"2007-02-04T00:00:00\",\"2007-02-05T00:00:00\",\"2007-02-06T00:00:00\",\"2007-02-07T00:00:00\",\"2007-02-08T00:00:00\",\"2007-02-09T00:00:00\",\"2007-02-10T00:00:00\",\"2007-02-11T00:00:00\",\"2007-02-12T00:00:00\",\"2007-02-13T00:00:00\",\"2007-02-14T00:00:00\",\"2007-02-15T00:00:00\",\"2007-02-16T00:00:00\",\"2007-02-17T00:00:00\",\"2007-02-18T00:00:00\",\"2007-02-19T00:00:00\",\"2007-02-20T00:00:00\",\"2007-02-21T00:00:00\",\"2007-02-22T00:00:00\",\"2007-02-23T00:00:00\",\"2007-02-24T00:00:00\",\"2007-02-25T00:00:00\",\"2007-02-26T00:00:00\",\"2007-02-27T00:00:00\",\"2007-02-28T00:00:00\",\"2007-03-01T00:00:00\",\"2007-03-02T00:00:00\",\"2007-03-03T00:00:00\",\"2007-03-04T00:00:00\",\"2007-03-05T00:00:00\",\"2007-03-06T00:00:00\",\"2007-03-07T00:00:00\",\"2007-03-08T00:00:00\",\"2007-03-09T00:00:00\",\"2007-03-10T00:00:00\",\"2007-03-11T00:00:00\",\"2007-03-12T00:00:00\",\"2007-03-13T00:00:00\",\"2007-03-14T00:00:00\",\"2007-03-15T00:00:00\",\"2007-03-16T00:00:00\",\"2007-03-17T00:00:00\",\"2007-03-18T00:00:00\",\"2007-03-19T00:00:00\",\"2007-03-20T00:00:00\",\"2007-03-21T00:00:00\",\"2007-03-22T00:00:00\",\"2007-03-23T00:00:00\",\"2007-03-24T00:00:00\",\"2007-03-25T00:00:00\",\"2007-03-26T00:00:00\",\"2007-03-27T00:00:00\",\"2007-03-28T00:00:00\",\"2007-03-29T00:00:00\",\"2007-03-30T00:00:00\",\"2007-03-31T00:00:00\",\"2007-04-01T00:00:00\",\"2007-04-02T00:00:00\",\"2007-04-03T00:00:00\",\"2007-04-04T00:00:00\",\"2007-04-05T00:00:00\",\"2007-04-06T00:00:00\",\"2007-04-07T00:00:00\",\"2007-04-08T00:00:00\",\"2007-04-09T00:00:00\",\"2007-04-10T00:00:00\",\"2007-04-11T00:00:00\",\"2007-04-12T00:00:00\",\"2007-04-13T00:00:00\",\"2007-04-14T00:00:00\",\"2007-04-15T00:00:00\",\"2007-04-16T00:00:00\",\"2007-04-17T00:00:00\",\"2007-04-18T00:00:00\",\"2007-04-19T00:00:00\",\"2007-04-20T00:00:00\",\"2007-04-21T00:00:00\",\"2007-04-22T00:00:00\",\"2007-04-23T00:00:00\",\"2007-04-24T00:00:00\",\"2007-04-25T00:00:00\",\"2007-04-26T00:00:00\",\"2007-04-27T00:00:00\",\"2007-04-28T00:00:00\",\"2007-04-29T00:00:00\",\"2007-04-30T00:00:00\",\"2007-05-01T00:00:00\",\"2007-05-02T00:00:00\",\"2007-05-03T00:00:00\",\"2007-05-04T00:00:00\",\"2007-05-05T00:00:00\",\"2007-05-06T00:00:00\",\"2007-05-07T00:00:00\",\"2007-05-08T00:00:00\",\"2007-05-09T00:00:00\",\"2007-05-10T00:00:00\",\"2007-05-11T00:00:00\",\"2007-05-12T00:00:00\",\"2007-05-13T00:00:00\",\"2007-05-14T00:00:00\",\"2007-05-15T00:00:00\",\"2007-05-16T00:00:00\",\"2007-05-17T00:00:00\",\"2007-05-18T00:00:00\",\"2007-05-19T00:00:00\",\"2007-05-20T00:00:00\",\"2007-05-21T00:00:00\",\"2007-05-22T00:00:00\",\"2007-05-23T00:00:00\",\"2007-05-24T00:00:00\",\"2007-05-25T00:00:00\",\"2007-05-26T00:00:00\",\"2007-05-27T00:00:00\",\"2007-05-28T00:00:00\",\"2007-05-29T00:00:00\",\"2007-05-30T00:00:00\",\"2007-05-31T00:00:00\",\"2007-06-01T00:00:00\",\"2007-06-02T00:00:00\",\"2007-06-03T00:00:00\",\"2007-06-04T00:00:00\",\"2007-06-05T00:00:00\",\"2007-06-06T00:00:00\",\"2007-06-07T00:00:00\",\"2007-06-08T00:00:00\",\"2007-06-09T00:00:00\",\"2007-06-10T00:00:00\",\"2007-06-11T00:00:00\",\"2007-06-12T00:00:00\",\"2007-06-13T00:00:00\",\"2007-06-14T00:00:00\",\"2007-06-15T00:00:00\",\"2007-06-16T00:00:00\",\"2007-06-17T00:00:00\",\"2007-06-18T00:00:00\",\"2007-06-19T00:00:00\",\"2007-06-20T00:00:00\",\"2007-06-21T00:00:00\",\"2007-06-22T00:00:00\",\"2007-06-23T00:00:00\",\"2007-06-24T00:00:00\",\"2007-06-25T00:00:00\",\"2007-06-26T00:00:00\",\"2007-06-27T00:00:00\",\"2007-06-28T00:00:00\",\"2007-06-29T00:00:00\",\"2007-06-30T00:00:00\",\"2007-07-01T00:00:00\",\"2007-07-02T00:00:00\",\"2007-07-03T00:00:00\",\"2007-07-04T00:00:00\",\"2007-07-05T00:00:00\",\"2007-07-06T00:00:00\",\"2007-07-07T00:00:00\",\"2007-07-08T00:00:00\",\"2007-07-09T00:00:00\",\"2007-07-10T00:00:00\",\"2007-07-11T00:00:00\",\"2007-07-12T00:00:00\",\"2007-07-13T00:00:00\",\"2007-07-14T00:00:00\",\"2007-07-15T00:00:00\",\"2007-07-16T00:00:00\",\"2007-07-17T00:00:00\",\"2007-07-18T00:00:00\",\"2007-07-19T00:00:00\",\"2007-07-20T00:00:00\",\"2007-07-21T00:00:00\",\"2007-07-22T00:00:00\",\"2007-07-23T00:00:00\",\"2007-07-24T00:00:00\",\"2007-07-25T00:00:00\",\"2007-07-26T00:00:00\",\"2007-07-27T00:00:00\",\"2007-07-28T00:00:00\",\"2007-07-29T00:00:00\",\"2007-07-30T00:00:00\",\"2007-07-31T00:00:00\",\"2007-08-01T00:00:00\",\"2007-08-02T00:00:00\",\"2007-08-03T00:00:00\",\"2007-08-04T00:00:00\",\"2007-08-05T00:00:00\",\"2007-08-06T00:00:00\",\"2007-08-07T00:00:00\",\"2007-08-08T00:00:00\",\"2007-08-09T00:00:00\",\"2007-08-10T00:00:00\",\"2007-08-11T00:00:00\",\"2007-08-12T00:00:00\",\"2007-08-13T00:00:00\",\"2007-08-14T00:00:00\",\"2007-08-15T00:00:00\",\"2007-08-16T00:00:00\",\"2007-08-17T00:00:00\",\"2007-08-18T00:00:00\",\"2007-08-19T00:00:00\",\"2007-08-20T00:00:00\",\"2007-08-21T00:00:00\",\"2007-08-22T00:00:00\",\"2007-08-23T00:00:00\",\"2007-08-24T00:00:00\",\"2007-08-25T00:00:00\",\"2007-08-26T00:00:00\",\"2007-08-27T00:00:00\",\"2007-08-28T00:00:00\",\"2007-08-29T00:00:00\",\"2007-08-30T00:00:00\",\"2007-08-31T00:00:00\",\"2007-09-01T00:00:00\",\"2007-09-02T00:00:00\",\"2007-09-03T00:00:00\",\"2007-09-04T00:00:00\",\"2007-09-05T00:00:00\",\"2007-09-06T00:00:00\",\"2007-09-07T00:00:00\",\"2007-09-08T00:00:00\",\"2007-09-09T00:00:00\",\"2007-09-10T00:00:00\",\"2007-09-11T00:00:00\",\"2007-09-12T00:00:00\",\"2007-09-13T00:00:00\",\"2007-09-14T00:00:00\",\"2007-09-15T00:00:00\",\"2007-09-16T00:00:00\",\"2007-09-17T00:00:00\",\"2007-09-18T00:00:00\",\"2007-09-19T00:00:00\",\"2007-09-20T00:00:00\",\"2007-09-21T00:00:00\",\"2007-09-22T00:00:00\",\"2007-09-23T00:00:00\",\"2007-09-24T00:00:00\",\"2007-09-25T00:00:00\",\"2007-09-26T00:00:00\",\"2007-09-27T00:00:00\",\"2007-09-28T00:00:00\",\"2007-09-29T00:00:00\",\"2007-09-30T00:00:00\",\"2007-10-01T00:00:00\",\"2007-10-02T00:00:00\",\"2007-10-03T00:00:00\",\"2007-10-04T00:00:00\",\"2007-10-05T00:00:00\",\"2007-10-06T00:00:00\",\"2007-10-07T00:00:00\",\"2007-10-08T00:00:00\",\"2007-10-09T00:00:00\",\"2007-10-10T00:00:00\",\"2007-10-11T00:00:00\",\"2007-10-12T00:00:00\",\"2007-10-13T00:00:00\",\"2007-10-14T00:00:00\",\"2007-10-15T00:00:00\",\"2007-10-16T00:00:00\",\"2007-10-17T00:00:00\",\"2007-10-18T00:00:00\",\"2007-10-19T00:00:00\",\"2007-10-20T00:00:00\",\"2007-10-21T00:00:00\",\"2007-10-22T00:00:00\",\"2007-10-23T00:00:00\",\"2007-10-24T00:00:00\",\"2007-10-25T00:00:00\",\"2007-10-26T00:00:00\",\"2007-10-27T00:00:00\",\"2007-10-28T00:00:00\",\"2007-10-29T00:00:00\",\"2007-10-30T00:00:00\",\"2007-10-31T00:00:00\",\"2007-11-01T00:00:00\",\"2007-11-02T00:00:00\",\"2007-11-03T00:00:00\",\"2007-11-04T00:00:00\",\"2007-11-05T00:00:00\",\"2007-11-06T00:00:00\",\"2007-11-07T00:00:00\",\"2007-11-08T00:00:00\",\"2007-11-09T00:00:00\",\"2007-11-10T00:00:00\",\"2007-11-11T00:00:00\",\"2007-11-12T00:00:00\",\"2007-11-13T00:00:00\",\"2007-11-14T00:00:00\",\"2007-11-15T00:00:00\",\"2007-11-16T00:00:00\",\"2007-11-17T00:00:00\",\"2007-11-18T00:00:00\",\"2007-11-19T00:00:00\",\"2007-11-20T00:00:00\",\"2007-11-21T00:00:00\",\"2007-11-22T00:00:00\",\"2007-11-23T00:00:00\",\"2007-11-24T00:00:00\",\"2007-11-25T00:00:00\",\"2007-11-26T00:00:00\",\"2007-11-27T00:00:00\",\"2007-11-28T00:00:00\",\"2007-11-29T00:00:00\",\"2007-11-30T00:00:00\",\"2007-12-01T00:00:00\",\"2007-12-02T00:00:00\",\"2007-12-03T00:00:00\",\"2007-12-04T00:00:00\",\"2007-12-05T00:00:00\",\"2007-12-06T00:00:00\",\"2007-12-07T00:00:00\",\"2007-12-08T00:00:00\",\"2007-12-09T00:00:00\",\"2007-12-10T00:00:00\",\"2007-12-11T00:00:00\",\"2007-12-12T00:00:00\",\"2007-12-13T00:00:00\",\"2007-12-14T00:00:00\",\"2007-12-15T00:00:00\",\"2007-12-16T00:00:00\",\"2007-12-17T00:00:00\",\"2007-12-18T00:00:00\",\"2007-12-19T00:00:00\",\"2007-12-20T00:00:00\",\"2007-12-21T00:00:00\",\"2007-12-22T00:00:00\",\"2007-12-23T00:00:00\",\"2007-12-24T00:00:00\",\"2007-12-25T00:00:00\",\"2007-12-26T00:00:00\",\"2007-12-27T00:00:00\",\"2007-12-28T00:00:00\",\"2007-12-29T00:00:00\",\"2007-12-30T00:00:00\",\"2007-12-31T00:00:00\",\"2008-01-01T00:00:00\",\"2008-01-02T00:00:00\",\"2008-01-03T00:00:00\",\"2008-01-04T00:00:00\",\"2008-01-05T00:00:00\",\"2008-01-06T00:00:00\",\"2008-01-07T00:00:00\",\"2008-01-08T00:00:00\",\"2008-01-09T00:00:00\",\"2008-01-10T00:00:00\",\"2008-01-11T00:00:00\",\"2008-01-12T00:00:00\",\"2008-01-13T00:00:00\",\"2008-01-14T00:00:00\",\"2008-01-15T00:00:00\",\"2008-01-16T00:00:00\",\"2008-01-17T00:00:00\",\"2008-01-18T00:00:00\",\"2008-01-19T00:00:00\",\"2008-01-20T00:00:00\",\"2008-01-21T00:00:00\",\"2008-01-22T00:00:00\",\"2008-01-23T00:00:00\",\"2008-01-24T00:00:00\",\"2008-01-25T00:00:00\",\"2008-01-26T00:00:00\",\"2008-01-27T00:00:00\",\"2008-01-28T00:00:00\",\"2008-01-29T00:00:00\",\"2008-01-30T00:00:00\",\"2008-01-31T00:00:00\",\"2008-02-01T00:00:00\",\"2008-02-02T00:00:00\",\"2008-02-03T00:00:00\",\"2008-02-04T00:00:00\",\"2008-02-05T00:00:00\",\"2008-02-06T00:00:00\",\"2008-02-07T00:00:00\",\"2008-02-08T00:00:00\",\"2008-02-09T00:00:00\",\"2008-02-10T00:00:00\",\"2008-02-11T00:00:00\",\"2008-02-12T00:00:00\",\"2008-02-13T00:00:00\",\"2008-02-14T00:00:00\",\"2008-02-15T00:00:00\",\"2008-02-16T00:00:00\",\"2008-02-17T00:00:00\",\"2008-02-18T00:00:00\",\"2008-02-19T00:00:00\",\"2008-02-20T00:00:00\",\"2008-02-21T00:00:00\",\"2008-02-22T00:00:00\",\"2008-02-23T00:00:00\",\"2008-02-24T00:00:00\",\"2008-02-25T00:00:00\",\"2008-02-26T00:00:00\",\"2008-02-27T00:00:00\",\"2008-02-28T00:00:00\",\"2008-02-29T00:00:00\",\"2008-03-01T00:00:00\",\"2008-03-02T00:00:00\",\"2008-03-03T00:00:00\",\"2008-03-04T00:00:00\",\"2008-03-05T00:00:00\",\"2008-03-06T00:00:00\",\"2008-03-07T00:00:00\",\"2008-03-08T00:00:00\",\"2008-03-09T00:00:00\",\"2008-03-10T00:00:00\",\"2008-03-11T00:00:00\",\"2008-03-12T00:00:00\",\"2008-03-13T00:00:00\",\"2008-03-14T00:00:00\",\"2008-03-15T00:00:00\",\"2008-03-16T00:00:00\",\"2008-03-17T00:00:00\",\"2008-03-18T00:00:00\",\"2008-03-19T00:00:00\",\"2008-03-20T00:00:00\",\"2008-03-21T00:00:00\",\"2008-03-22T00:00:00\",\"2008-03-23T00:00:00\",\"2008-03-24T00:00:00\",\"2008-03-25T00:00:00\",\"2008-03-26T00:00:00\",\"2008-03-27T00:00:00\",\"2008-03-28T00:00:00\",\"2008-03-29T00:00:00\",\"2008-03-30T00:00:00\",\"2008-03-31T00:00:00\",\"2008-04-01T00:00:00\",\"2008-04-02T00:00:00\",\"2008-04-03T00:00:00\",\"2008-04-04T00:00:00\",\"2008-04-05T00:00:00\",\"2008-04-06T00:00:00\",\"2008-04-07T00:00:00\",\"2008-04-08T00:00:00\",\"2008-04-09T00:00:00\",\"2008-04-10T00:00:00\",\"2008-04-11T00:00:00\",\"2008-04-12T00:00:00\",\"2008-04-13T00:00:00\",\"2008-04-14T00:00:00\",\"2008-04-15T00:00:00\",\"2008-04-16T00:00:00\",\"2008-04-17T00:00:00\",\"2008-04-18T00:00:00\",\"2008-04-19T00:00:00\",\"2008-04-20T00:00:00\",\"2008-04-21T00:00:00\",\"2008-04-22T00:00:00\",\"2008-04-23T00:00:00\",\"2008-04-24T00:00:00\",\"2008-04-25T00:00:00\",\"2008-04-26T00:00:00\",\"2008-04-27T00:00:00\",\"2008-04-28T00:00:00\",\"2008-04-29T00:00:00\",\"2008-04-30T00:00:00\",\"2008-05-01T00:00:00\",\"2008-05-02T00:00:00\",\"2008-05-03T00:00:00\",\"2008-05-04T00:00:00\",\"2008-05-05T00:00:00\",\"2008-05-06T00:00:00\",\"2008-05-07T00:00:00\",\"2008-05-08T00:00:00\",\"2008-05-09T00:00:00\",\"2008-05-10T00:00:00\",\"2008-05-11T00:00:00\",\"2008-05-12T00:00:00\",\"2008-05-13T00:00:00\",\"2008-05-14T00:00:00\",\"2008-05-15T00:00:00\",\"2008-05-16T00:00:00\",\"2008-05-17T00:00:00\",\"2008-05-18T00:00:00\",\"2008-05-19T00:00:00\",\"2008-05-20T00:00:00\",\"2008-05-21T00:00:00\",\"2008-05-22T00:00:00\",\"2008-05-23T00:00:00\",\"2008-05-24T00:00:00\",\"2008-05-25T00:00:00\",\"2008-05-26T00:00:00\",\"2008-05-27T00:00:00\",\"2008-05-28T00:00:00\",\"2008-05-29T00:00:00\",\"2008-05-30T00:00:00\",\"2008-05-31T00:00:00\",\"2008-06-01T00:00:00\",\"2008-06-02T00:00:00\",\"2008-06-03T00:00:00\",\"2008-06-04T00:00:00\",\"2008-06-05T00:00:00\",\"2008-06-06T00:00:00\",\"2008-06-07T00:00:00\",\"2008-06-08T00:00:00\",\"2008-06-09T00:00:00\",\"2008-06-10T00:00:00\",\"2008-06-11T00:00:00\",\"2008-06-12T00:00:00\",\"2008-06-13T00:00:00\",\"2008-06-14T00:00:00\",\"2008-06-15T00:00:00\",\"2008-06-16T00:00:00\",\"2008-06-17T00:00:00\",\"2008-06-18T00:00:00\",\"2008-06-19T00:00:00\",\"2008-06-20T00:00:00\",\"2008-06-21T00:00:00\",\"2008-06-22T00:00:00\",\"2008-06-23T00:00:00\",\"2008-06-24T00:00:00\",\"2008-06-25T00:00:00\",\"2008-06-26T00:00:00\",\"2008-06-27T00:00:00\",\"2008-06-28T00:00:00\",\"2008-06-29T00:00:00\",\"2008-06-30T00:00:00\",\"2008-07-01T00:00:00\",\"2008-07-02T00:00:00\",\"2008-07-03T00:00:00\",\"2008-07-04T00:00:00\",\"2008-07-05T00:00:00\",\"2008-07-06T00:00:00\",\"2008-07-07T00:00:00\",\"2008-07-08T00:00:00\",\"2008-07-09T00:00:00\",\"2008-07-10T00:00:00\",\"2008-07-11T00:00:00\",\"2008-07-12T00:00:00\",\"2008-07-13T00:00:00\",\"2008-07-14T00:00:00\",\"2008-07-15T00:00:00\",\"2008-07-16T00:00:00\",\"2008-07-17T00:00:00\",\"2008-07-18T00:00:00\",\"2008-07-19T00:00:00\",\"2008-07-20T00:00:00\",\"2008-07-21T00:00:00\",\"2008-07-22T00:00:00\",\"2008-07-23T00:00:00\",\"2008-07-24T00:00:00\",\"2008-07-25T00:00:00\",\"2008-07-26T00:00:00\",\"2008-07-27T00:00:00\",\"2008-07-28T00:00:00\",\"2008-07-29T00:00:00\",\"2008-07-30T00:00:00\",\"2008-07-31T00:00:00\",\"2008-08-01T00:00:00\",\"2008-08-02T00:00:00\",\"2008-08-03T00:00:00\",\"2008-08-04T00:00:00\",\"2008-08-05T00:00:00\",\"2008-08-06T00:00:00\",\"2008-08-07T00:00:00\",\"2008-08-08T00:00:00\",\"2008-08-09T00:00:00\",\"2008-08-10T00:00:00\",\"2008-08-11T00:00:00\",\"2008-08-12T00:00:00\",\"2008-08-13T00:00:00\",\"2008-08-14T00:00:00\",\"2008-08-15T00:00:00\",\"2008-08-16T00:00:00\",\"2008-08-17T00:00:00\",\"2008-08-18T00:00:00\",\"2008-08-19T00:00:00\",\"2008-08-20T00:00:00\",\"2008-08-21T00:00:00\",\"2008-08-22T00:00:00\",\"2008-08-23T00:00:00\",\"2008-08-24T00:00:00\",\"2008-08-25T00:00:00\",\"2008-08-26T00:00:00\",\"2008-08-27T00:00:00\",\"2008-08-28T00:00:00\",\"2008-08-29T00:00:00\",\"2008-08-30T00:00:00\",\"2008-08-31T00:00:00\",\"2008-09-01T00:00:00\",\"2008-09-02T00:00:00\",\"2008-09-03T00:00:00\",\"2008-09-04T00:00:00\",\"2008-09-05T00:00:00\",\"2008-09-06T00:00:00\",\"2008-09-07T00:00:00\",\"2008-09-08T00:00:00\",\"2008-09-09T00:00:00\",\"2008-09-10T00:00:00\",\"2008-09-11T00:00:00\",\"2008-09-12T00:00:00\",\"2008-09-13T00:00:00\",\"2008-09-14T00:00:00\",\"2008-09-15T00:00:00\",\"2008-09-16T00:00:00\",\"2008-09-17T00:00:00\",\"2008-09-18T00:00:00\",\"2008-09-19T00:00:00\",\"2008-09-20T00:00:00\",\"2008-09-21T00:00:00\",\"2008-09-22T00:00:00\",\"2008-09-23T00:00:00\",\"2008-09-24T00:00:00\",\"2008-09-25T00:00:00\",\"2008-09-26T00:00:00\",\"2008-09-27T00:00:00\",\"2008-09-28T00:00:00\",\"2008-09-29T00:00:00\",\"2008-09-30T00:00:00\",\"2008-10-01T00:00:00\",\"2008-10-02T00:00:00\",\"2008-10-03T00:00:00\",\"2008-10-04T00:00:00\",\"2008-10-05T00:00:00\",\"2008-10-06T00:00:00\",\"2008-10-07T00:00:00\",\"2008-10-08T00:00:00\",\"2008-10-09T00:00:00\",\"2008-10-10T00:00:00\",\"2008-10-11T00:00:00\",\"2008-10-12T00:00:00\",\"2008-10-13T00:00:00\",\"2008-10-14T00:00:00\",\"2008-10-15T00:00:00\",\"2008-10-16T00:00:00\",\"2008-10-17T00:00:00\",\"2008-10-18T00:00:00\",\"2008-10-19T00:00:00\",\"2008-10-20T00:00:00\",\"2008-10-21T00:00:00\",\"2008-10-22T00:00:00\",\"2008-10-23T00:00:00\",\"2008-10-24T00:00:00\",\"2008-10-25T00:00:00\",\"2008-10-26T00:00:00\",\"2008-10-27T00:00:00\",\"2008-10-28T00:00:00\",\"2008-10-29T00:00:00\",\"2008-10-30T00:00:00\",\"2008-10-31T00:00:00\",\"2008-11-01T00:00:00\",\"2008-11-02T00:00:00\",\"2008-11-03T00:00:00\",\"2008-11-04T00:00:00\",\"2008-11-05T00:00:00\",\"2008-11-06T00:00:00\",\"2008-11-07T00:00:00\",\"2008-11-08T00:00:00\",\"2008-11-09T00:00:00\",\"2008-11-10T00:00:00\",\"2008-11-11T00:00:00\",\"2008-11-12T00:00:00\",\"2008-11-13T00:00:00\",\"2008-11-14T00:00:00\",\"2008-11-15T00:00:00\",\"2008-11-16T00:00:00\",\"2008-11-17T00:00:00\",\"2008-11-18T00:00:00\",\"2008-11-19T00:00:00\",\"2008-11-20T00:00:00\",\"2008-11-21T00:00:00\",\"2008-11-22T00:00:00\",\"2008-11-23T00:00:00\",\"2008-11-24T00:00:00\",\"2008-11-25T00:00:00\",\"2008-11-26T00:00:00\",\"2008-11-27T00:00:00\",\"2008-11-28T00:00:00\",\"2008-11-29T00:00:00\",\"2008-11-30T00:00:00\",\"2008-12-01T00:00:00\",\"2008-12-02T00:00:00\",\"2008-12-03T00:00:00\",\"2008-12-04T00:00:00\",\"2008-12-05T00:00:00\",\"2008-12-06T00:00:00\",\"2008-12-07T00:00:00\",\"2008-12-08T00:00:00\",\"2008-12-09T00:00:00\",\"2008-12-10T00:00:00\",\"2008-12-11T00:00:00\",\"2008-12-12T00:00:00\",\"2008-12-13T00:00:00\",\"2008-12-14T00:00:00\",\"2008-12-15T00:00:00\",\"2008-12-16T00:00:00\",\"2008-12-17T00:00:00\",\"2008-12-18T00:00:00\",\"2008-12-19T00:00:00\",\"2008-12-20T00:00:00\",\"2008-12-21T00:00:00\",\"2008-12-22T00:00:00\",\"2008-12-23T00:00:00\",\"2008-12-24T00:00:00\",\"2008-12-25T00:00:00\",\"2008-12-26T00:00:00\",\"2008-12-27T00:00:00\",\"2008-12-28T00:00:00\",\"2008-12-29T00:00:00\",\"2008-12-30T00:00:00\",\"2008-12-31T00:00:00\",\"2009-01-01T00:00:00\",\"2009-01-02T00:00:00\",\"2009-01-03T00:00:00\",\"2009-01-04T00:00:00\",\"2009-01-05T00:00:00\",\"2009-01-06T00:00:00\",\"2009-01-07T00:00:00\",\"2009-01-08T00:00:00\",\"2009-01-09T00:00:00\",\"2009-01-10T00:00:00\",\"2009-01-11T00:00:00\",\"2009-01-12T00:00:00\",\"2009-01-13T00:00:00\",\"2009-01-14T00:00:00\",\"2009-01-15T00:00:00\",\"2009-01-16T00:00:00\",\"2009-01-17T00:00:00\",\"2009-01-18T00:00:00\",\"2009-01-19T00:00:00\",\"2009-01-20T00:00:00\",\"2009-01-21T00:00:00\",\"2009-01-22T00:00:00\",\"2009-01-23T00:00:00\",\"2009-01-24T00:00:00\",\"2009-01-25T00:00:00\",\"2009-01-26T00:00:00\",\"2009-01-27T00:00:00\",\"2009-01-28T00:00:00\",\"2009-01-29T00:00:00\",\"2009-01-30T00:00:00\",\"2009-01-31T00:00:00\",\"2009-02-01T00:00:00\",\"2009-02-02T00:00:00\",\"2009-02-03T00:00:00\",\"2009-02-04T00:00:00\",\"2009-02-05T00:00:00\",\"2009-02-06T00:00:00\",\"2009-02-07T00:00:00\",\"2009-02-08T00:00:00\",\"2009-02-09T00:00:00\",\"2009-02-10T00:00:00\",\"2009-02-11T00:00:00\",\"2009-02-12T00:00:00\",\"2009-02-13T00:00:00\",\"2009-02-14T00:00:00\",\"2009-02-15T00:00:00\",\"2009-02-16T00:00:00\",\"2009-02-17T00:00:00\",\"2009-02-18T00:00:00\",\"2009-02-19T00:00:00\",\"2009-02-20T00:00:00\",\"2009-02-21T00:00:00\",\"2009-02-22T00:00:00\",\"2009-02-23T00:00:00\",\"2009-02-24T00:00:00\",\"2009-02-25T00:00:00\",\"2009-02-26T00:00:00\",\"2009-02-27T00:00:00\",\"2009-02-28T00:00:00\",\"2009-03-01T00:00:00\",\"2009-03-02T00:00:00\",\"2009-03-03T00:00:00\",\"2009-03-04T00:00:00\",\"2009-03-05T00:00:00\",\"2009-03-06T00:00:00\",\"2009-03-07T00:00:00\",\"2009-03-08T00:00:00\",\"2009-03-09T00:00:00\",\"2009-03-10T00:00:00\",\"2009-03-11T00:00:00\",\"2009-03-12T00:00:00\",\"2009-03-13T00:00:00\",\"2009-03-14T00:00:00\",\"2009-03-15T00:00:00\",\"2009-03-16T00:00:00\",\"2009-03-17T00:00:00\",\"2009-03-18T00:00:00\",\"2009-03-19T00:00:00\",\"2009-03-20T00:00:00\",\"2009-03-21T00:00:00\",\"2009-03-22T00:00:00\",\"2009-03-23T00:00:00\",\"2009-03-24T00:00:00\",\"2009-03-25T00:00:00\",\"2009-03-26T00:00:00\",\"2009-03-27T00:00:00\",\"2009-03-28T00:00:00\",\"2009-03-29T00:00:00\",\"2009-03-30T00:00:00\",\"2009-03-31T00:00:00\",\"2009-04-01T00:00:00\",\"2009-04-02T00:00:00\",\"2009-04-03T00:00:00\",\"2009-04-04T00:00:00\",\"2009-04-05T00:00:00\",\"2009-04-06T00:00:00\",\"2009-04-07T00:00:00\",\"2009-04-08T00:00:00\",\"2009-04-09T00:00:00\",\"2009-04-10T00:00:00\",\"2009-04-11T00:00:00\",\"2009-04-12T00:00:00\",\"2009-04-13T00:00:00\",\"2009-04-14T00:00:00\",\"2009-04-15T00:00:00\",\"2009-04-16T00:00:00\",\"2009-04-17T00:00:00\",\"2009-04-18T00:00:00\",\"2009-04-19T00:00:00\",\"2009-04-20T00:00:00\",\"2009-04-21T00:00:00\",\"2009-04-22T00:00:00\",\"2009-04-23T00:00:00\",\"2009-04-24T00:00:00\",\"2009-04-25T00:00:00\",\"2009-04-26T00:00:00\",\"2009-04-27T00:00:00\",\"2009-04-28T00:00:00\",\"2009-04-29T00:00:00\",\"2009-04-30T00:00:00\",\"2009-05-01T00:00:00\",\"2009-05-02T00:00:00\",\"2009-05-03T00:00:00\",\"2009-05-04T00:00:00\",\"2009-05-05T00:00:00\",\"2009-05-06T00:00:00\",\"2009-05-07T00:00:00\",\"2009-05-08T00:00:00\",\"2009-05-09T00:00:00\",\"2009-05-10T00:00:00\",\"2009-05-11T00:00:00\",\"2009-05-12T00:00:00\",\"2009-05-13T00:00:00\",\"2009-05-14T00:00:00\",\"2009-05-15T00:00:00\",\"2009-05-16T00:00:00\",\"2009-05-17T00:00:00\",\"2009-05-18T00:00:00\",\"2009-05-19T00:00:00\",\"2009-05-20T00:00:00\",\"2009-05-21T00:00:00\",\"2009-05-22T00:00:00\",\"2009-05-23T00:00:00\",\"2009-05-24T00:00:00\",\"2009-05-25T00:00:00\",\"2009-05-26T00:00:00\",\"2009-05-27T00:00:00\",\"2009-05-28T00:00:00\",\"2009-05-29T00:00:00\",\"2009-05-30T00:00:00\",\"2009-05-31T00:00:00\",\"2009-06-01T00:00:00\",\"2009-06-02T00:00:00\",\"2009-06-03T00:00:00\",\"2009-06-04T00:00:00\",\"2009-06-05T00:00:00\",\"2009-06-06T00:00:00\",\"2009-06-07T00:00:00\",\"2009-06-08T00:00:00\",\"2009-06-09T00:00:00\",\"2009-06-10T00:00:00\",\"2009-06-11T00:00:00\",\"2009-06-12T00:00:00\",\"2009-06-13T00:00:00\",\"2009-06-14T00:00:00\",\"2009-06-15T00:00:00\",\"2009-06-16T00:00:00\",\"2009-06-17T00:00:00\",\"2009-06-18T00:00:00\",\"2009-06-19T00:00:00\",\"2009-06-20T00:00:00\",\"2009-06-21T00:00:00\",\"2009-06-22T00:00:00\",\"2009-06-23T00:00:00\",\"2009-06-24T00:00:00\",\"2009-06-25T00:00:00\",\"2009-06-26T00:00:00\",\"2009-06-27T00:00:00\",\"2009-06-28T00:00:00\",\"2009-06-29T00:00:00\",\"2009-06-30T00:00:00\",\"2009-07-01T00:00:00\",\"2009-07-02T00:00:00\",\"2009-07-03T00:00:00\",\"2009-07-04T00:00:00\",\"2009-07-05T00:00:00\",\"2009-07-06T00:00:00\",\"2009-07-07T00:00:00\",\"2009-07-08T00:00:00\",\"2009-07-09T00:00:00\",\"2009-07-10T00:00:00\",\"2009-07-11T00:00:00\",\"2009-07-12T00:00:00\",\"2009-07-13T00:00:00\",\"2009-07-14T00:00:00\",\"2009-07-15T00:00:00\",\"2009-07-16T00:00:00\",\"2009-07-17T00:00:00\",\"2009-07-18T00:00:00\",\"2009-07-19T00:00:00\",\"2009-07-20T00:00:00\",\"2009-07-21T00:00:00\",\"2009-07-22T00:00:00\",\"2009-07-23T00:00:00\",\"2009-07-24T00:00:00\",\"2009-07-25T00:00:00\",\"2009-07-26T00:00:00\",\"2009-07-27T00:00:00\",\"2009-07-28T00:00:00\",\"2009-07-29T00:00:00\",\"2009-07-30T00:00:00\",\"2009-07-31T00:00:00\",\"2009-08-01T00:00:00\",\"2009-08-02T00:00:00\",\"2009-08-03T00:00:00\",\"2009-08-04T00:00:00\",\"2009-08-05T00:00:00\",\"2009-08-06T00:00:00\",\"2009-08-07T00:00:00\",\"2009-08-08T00:00:00\",\"2009-08-09T00:00:00\",\"2009-08-10T00:00:00\",\"2009-08-11T00:00:00\",\"2009-08-12T00:00:00\",\"2009-08-13T00:00:00\",\"2009-08-14T00:00:00\",\"2009-08-15T00:00:00\",\"2009-08-16T00:00:00\",\"2009-08-17T00:00:00\",\"2009-08-18T00:00:00\",\"2009-08-19T00:00:00\",\"2009-08-20T00:00:00\",\"2009-08-21T00:00:00\",\"2009-08-22T00:00:00\",\"2009-08-23T00:00:00\",\"2009-08-24T00:00:00\",\"2009-08-25T00:00:00\",\"2009-08-26T00:00:00\",\"2009-08-27T00:00:00\",\"2009-08-28T00:00:00\",\"2009-08-29T00:00:00\",\"2009-08-30T00:00:00\",\"2009-08-31T00:00:00\",\"2009-09-01T00:00:00\",\"2009-09-02T00:00:00\",\"2009-09-03T00:00:00\",\"2009-09-04T00:00:00\",\"2009-09-05T00:00:00\",\"2009-09-06T00:00:00\",\"2009-09-07T00:00:00\",\"2009-09-08T00:00:00\",\"2009-09-09T00:00:00\",\"2009-09-10T00:00:00\",\"2009-09-11T00:00:00\",\"2009-09-12T00:00:00\",\"2009-09-13T00:00:00\",\"2009-09-14T00:00:00\",\"2009-09-15T00:00:00\",\"2009-09-16T00:00:00\",\"2009-09-17T00:00:00\",\"2009-09-18T00:00:00\",\"2009-09-19T00:00:00\",\"2009-09-20T00:00:00\",\"2009-09-21T00:00:00\",\"2009-09-22T00:00:00\",\"2009-09-23T00:00:00\",\"2009-09-24T00:00:00\",\"2009-09-25T00:00:00\",\"2009-09-26T00:00:00\",\"2009-09-27T00:00:00\",\"2009-09-28T00:00:00\",\"2009-09-29T00:00:00\",\"2009-09-30T00:00:00\",\"2009-10-01T00:00:00\",\"2009-10-02T00:00:00\",\"2009-10-03T00:00:00\",\"2009-10-04T00:00:00\",\"2009-10-05T00:00:00\",\"2009-10-06T00:00:00\",\"2009-10-07T00:00:00\",\"2009-10-08T00:00:00\",\"2009-10-09T00:00:00\",\"2009-10-10T00:00:00\",\"2009-10-11T00:00:00\",\"2009-10-12T00:00:00\",\"2009-10-13T00:00:00\",\"2009-10-14T00:00:00\",\"2009-10-15T00:00:00\",\"2009-10-16T00:00:00\",\"2009-10-17T00:00:00\",\"2009-10-18T00:00:00\",\"2009-10-19T00:00:00\",\"2009-10-20T00:00:00\",\"2009-10-21T00:00:00\",\"2009-10-22T00:00:00\",\"2009-10-23T00:00:00\",\"2009-10-24T00:00:00\",\"2009-10-25T00:00:00\",\"2009-10-26T00:00:00\",\"2009-10-27T00:00:00\",\"2009-10-28T00:00:00\",\"2009-10-29T00:00:00\",\"2009-10-30T00:00:00\",\"2009-10-31T00:00:00\",\"2009-11-01T00:00:00\",\"2009-11-02T00:00:00\",\"2009-11-03T00:00:00\",\"2009-11-04T00:00:00\",\"2009-11-05T00:00:00\",\"2009-11-06T00:00:00\",\"2009-11-07T00:00:00\",\"2009-11-08T00:00:00\",\"2009-11-09T00:00:00\",\"2009-11-10T00:00:00\",\"2009-11-11T00:00:00\",\"2009-11-12T00:00:00\",\"2009-11-13T00:00:00\",\"2009-11-14T00:00:00\",\"2009-11-15T00:00:00\",\"2009-11-16T00:00:00\",\"2009-11-17T00:00:00\",\"2009-11-18T00:00:00\",\"2009-11-19T00:00:00\",\"2009-11-20T00:00:00\",\"2009-11-21T00:00:00\",\"2009-11-22T00:00:00\",\"2009-11-23T00:00:00\",\"2009-11-24T00:00:00\",\"2009-11-25T00:00:00\",\"2009-11-26T00:00:00\",\"2009-11-27T00:00:00\",\"2009-11-28T00:00:00\",\"2009-11-29T00:00:00\",\"2009-11-30T00:00:00\",\"2009-12-01T00:00:00\",\"2009-12-02T00:00:00\",\"2009-12-03T00:00:00\",\"2009-12-04T00:00:00\",\"2009-12-05T00:00:00\",\"2009-12-06T00:00:00\",\"2009-12-07T00:00:00\",\"2009-12-08T00:00:00\",\"2009-12-09T00:00:00\",\"2009-12-10T00:00:00\",\"2009-12-11T00:00:00\",\"2009-12-12T00:00:00\",\"2009-12-13T00:00:00\",\"2009-12-14T00:00:00\",\"2009-12-15T00:00:00\",\"2009-12-16T00:00:00\",\"2009-12-17T00:00:00\",\"2009-12-18T00:00:00\",\"2009-12-19T00:00:00\",\"2009-12-20T00:00:00\",\"2009-12-21T00:00:00\",\"2009-12-22T00:00:00\",\"2009-12-23T00:00:00\",\"2009-12-24T00:00:00\",\"2009-12-25T00:00:00\",\"2009-12-26T00:00:00\",\"2009-12-27T00:00:00\",\"2009-12-28T00:00:00\",\"2009-12-29T00:00:00\",\"2009-12-30T00:00:00\",\"2009-12-31T00:00:00\",\"2010-01-01T00:00:00\",\"2010-01-02T00:00:00\",\"2010-01-03T00:00:00\",\"2010-01-04T00:00:00\",\"2010-01-05T00:00:00\",\"2010-01-06T00:00:00\",\"2010-01-07T00:00:00\",\"2010-01-08T00:00:00\",\"2010-01-09T00:00:00\",\"2010-01-10T00:00:00\",\"2010-01-11T00:00:00\",\"2010-01-12T00:00:00\",\"2010-01-13T00:00:00\",\"2010-01-14T00:00:00\",\"2010-01-15T00:00:00\",\"2010-01-16T00:00:00\",\"2010-01-17T00:00:00\",\"2010-01-18T00:00:00\",\"2010-01-19T00:00:00\",\"2010-01-20T00:00:00\",\"2010-01-21T00:00:00\",\"2010-01-22T00:00:00\",\"2010-01-23T00:00:00\",\"2010-01-24T00:00:00\",\"2010-01-25T00:00:00\",\"2010-01-26T00:00:00\",\"2010-01-27T00:00:00\",\"2010-01-28T00:00:00\",\"2010-01-29T00:00:00\",\"2010-01-30T00:00:00\",\"2010-01-31T00:00:00\",\"2010-02-01T00:00:00\",\"2010-02-02T00:00:00\",\"2010-02-03T00:00:00\",\"2010-02-04T00:00:00\",\"2010-02-05T00:00:00\",\"2010-02-06T00:00:00\",\"2010-02-07T00:00:00\",\"2010-02-08T00:00:00\",\"2010-02-09T00:00:00\",\"2010-02-10T00:00:00\",\"2010-02-11T00:00:00\",\"2010-02-12T00:00:00\",\"2010-02-13T00:00:00\",\"2010-02-14T00:00:00\",\"2010-02-15T00:00:00\",\"2010-02-16T00:00:00\",\"2010-02-17T00:00:00\",\"2010-02-18T00:00:00\",\"2010-02-19T00:00:00\",\"2010-02-20T00:00:00\",\"2010-02-21T00:00:00\",\"2010-02-22T00:00:00\",\"2010-02-23T00:00:00\",\"2010-02-24T00:00:00\",\"2010-02-25T00:00:00\",\"2010-02-26T00:00:00\",\"2010-02-27T00:00:00\",\"2010-02-28T00:00:00\",\"2010-03-01T00:00:00\",\"2010-03-02T00:00:00\",\"2010-03-03T00:00:00\",\"2010-03-04T00:00:00\",\"2010-03-05T00:00:00\",\"2010-03-06T00:00:00\",\"2010-03-07T00:00:00\",\"2010-03-08T00:00:00\",\"2010-03-09T00:00:00\",\"2010-03-10T00:00:00\",\"2010-03-11T00:00:00\",\"2010-03-12T00:00:00\",\"2010-03-13T00:00:00\",\"2010-03-14T00:00:00\",\"2010-03-15T00:00:00\",\"2010-03-16T00:00:00\",\"2010-03-17T00:00:00\",\"2010-03-18T00:00:00\",\"2010-03-19T00:00:00\",\"2010-03-20T00:00:00\",\"2010-03-21T00:00:00\",\"2010-03-22T00:00:00\",\"2010-03-23T00:00:00\",\"2010-03-24T00:00:00\",\"2010-03-25T00:00:00\",\"2010-03-26T00:00:00\",\"2010-03-27T00:00:00\",\"2010-03-28T00:00:00\",\"2010-03-29T00:00:00\",\"2010-03-30T00:00:00\",\"2010-03-31T00:00:00\",\"2010-04-01T00:00:00\",\"2010-04-02T00:00:00\",\"2010-04-03T00:00:00\",\"2010-04-04T00:00:00\",\"2010-04-05T00:00:00\",\"2010-04-06T00:00:00\",\"2010-04-07T00:00:00\",\"2010-04-08T00:00:00\",\"2010-04-09T00:00:00\",\"2010-04-10T00:00:00\",\"2010-04-11T00:00:00\",\"2010-04-12T00:00:00\",\"2010-04-13T00:00:00\",\"2010-04-14T00:00:00\",\"2010-04-15T00:00:00\",\"2010-04-16T00:00:00\",\"2010-04-17T00:00:00\",\"2010-04-18T00:00:00\",\"2010-04-19T00:00:00\",\"2010-04-20T00:00:00\",\"2010-04-21T00:00:00\",\"2010-04-22T00:00:00\",\"2010-04-23T00:00:00\",\"2010-04-24T00:00:00\",\"2010-04-25T00:00:00\",\"2010-04-26T00:00:00\",\"2010-04-27T00:00:00\",\"2010-04-28T00:00:00\",\"2010-04-29T00:00:00\",\"2010-04-30T00:00:00\",\"2010-05-01T00:00:00\",\"2010-05-02T00:00:00\",\"2010-05-03T00:00:00\",\"2010-05-04T00:00:00\",\"2010-05-05T00:00:00\",\"2010-05-06T00:00:00\",\"2010-05-07T00:00:00\",\"2010-05-08T00:00:00\",\"2010-05-09T00:00:00\",\"2010-05-10T00:00:00\",\"2010-05-11T00:00:00\",\"2010-05-12T00:00:00\",\"2010-05-13T00:00:00\",\"2010-05-14T00:00:00\",\"2010-05-15T00:00:00\",\"2010-05-16T00:00:00\",\"2010-05-17T00:00:00\",\"2010-05-18T00:00:00\",\"2010-05-19T00:00:00\",\"2010-05-20T00:00:00\",\"2010-05-21T00:00:00\",\"2010-05-22T00:00:00\",\"2010-05-23T00:00:00\",\"2010-05-24T00:00:00\",\"2010-05-25T00:00:00\",\"2010-05-26T00:00:00\",\"2010-05-27T00:00:00\",\"2010-05-28T00:00:00\",\"2010-05-29T00:00:00\",\"2010-05-30T00:00:00\",\"2010-05-31T00:00:00\",\"2010-06-01T00:00:00\",\"2010-06-02T00:00:00\",\"2010-06-03T00:00:00\",\"2010-06-04T00:00:00\",\"2010-06-05T00:00:00\",\"2010-06-06T00:00:00\",\"2010-06-07T00:00:00\",\"2010-06-08T00:00:00\",\"2010-06-09T00:00:00\",\"2010-06-10T00:00:00\",\"2010-06-11T00:00:00\",\"2010-06-12T00:00:00\",\"2010-06-13T00:00:00\",\"2010-06-14T00:00:00\",\"2010-06-15T00:00:00\",\"2010-06-16T00:00:00\",\"2010-06-17T00:00:00\",\"2010-06-18T00:00:00\",\"2010-06-19T00:00:00\",\"2010-06-20T00:00:00\",\"2010-06-21T00:00:00\",\"2010-06-22T00:00:00\",\"2010-06-23T00:00:00\",\"2010-06-24T00:00:00\",\"2010-06-25T00:00:00\",\"2010-06-26T00:00:00\",\"2010-06-27T00:00:00\",\"2010-06-28T00:00:00\",\"2010-06-29T00:00:00\",\"2010-06-30T00:00:00\",\"2010-07-01T00:00:00\",\"2010-07-02T00:00:00\",\"2010-07-03T00:00:00\",\"2010-07-04T00:00:00\",\"2010-07-05T00:00:00\",\"2010-07-06T00:00:00\",\"2010-07-07T00:00:00\",\"2010-07-08T00:00:00\",\"2010-07-09T00:00:00\",\"2010-07-10T00:00:00\",\"2010-07-11T00:00:00\",\"2010-07-12T00:00:00\",\"2010-07-13T00:00:00\",\"2010-07-14T00:00:00\",\"2010-07-15T00:00:00\",\"2010-07-16T00:00:00\",\"2010-07-17T00:00:00\",\"2010-07-18T00:00:00\",\"2010-07-19T00:00:00\",\"2010-07-20T00:00:00\",\"2010-07-21T00:00:00\",\"2010-07-22T00:00:00\",\"2010-07-23T00:00:00\",\"2010-07-24T00:00:00\",\"2010-07-25T00:00:00\",\"2010-07-26T00:00:00\",\"2010-07-27T00:00:00\",\"2010-07-28T00:00:00\",\"2010-07-29T00:00:00\",\"2010-07-30T00:00:00\",\"2010-07-31T00:00:00\",\"2010-08-01T00:00:00\",\"2010-08-02T00:00:00\",\"2010-08-03T00:00:00\",\"2010-08-04T00:00:00\",\"2010-08-05T00:00:00\",\"2010-08-06T00:00:00\",\"2010-08-07T00:00:00\",\"2010-08-08T00:00:00\",\"2010-08-09T00:00:00\",\"2010-08-10T00:00:00\",\"2010-08-11T00:00:00\",\"2010-08-12T00:00:00\",\"2010-08-13T00:00:00\",\"2010-08-14T00:00:00\",\"2010-08-15T00:00:00\",\"2010-08-16T00:00:00\",\"2010-08-17T00:00:00\",\"2010-08-18T00:00:00\",\"2010-08-19T00:00:00\",\"2010-08-20T00:00:00\",\"2010-08-21T00:00:00\",\"2010-08-22T00:00:00\",\"2010-08-23T00:00:00\",\"2010-08-24T00:00:00\",\"2010-08-25T00:00:00\",\"2010-08-26T00:00:00\",\"2010-08-27T00:00:00\",\"2010-08-28T00:00:00\",\"2010-08-29T00:00:00\",\"2010-08-30T00:00:00\",\"2010-08-31T00:00:00\",\"2010-09-01T00:00:00\",\"2010-09-02T00:00:00\",\"2010-09-03T00:00:00\",\"2010-09-04T00:00:00\",\"2010-09-05T00:00:00\",\"2010-09-06T00:00:00\",\"2010-09-07T00:00:00\",\"2010-09-08T00:00:00\",\"2010-09-09T00:00:00\",\"2010-09-10T00:00:00\",\"2010-09-11T00:00:00\",\"2010-09-12T00:00:00\",\"2010-09-13T00:00:00\",\"2010-09-14T00:00:00\",\"2010-09-15T00:00:00\",\"2010-09-16T00:00:00\",\"2010-09-17T00:00:00\",\"2010-09-18T00:00:00\",\"2010-09-19T00:00:00\",\"2010-09-20T00:00:00\",\"2010-09-21T00:00:00\",\"2010-09-22T00:00:00\",\"2010-09-23T00:00:00\",\"2010-09-24T00:00:00\",\"2010-09-25T00:00:00\",\"2010-09-26T00:00:00\",\"2010-09-27T00:00:00\",\"2010-09-28T00:00:00\",\"2010-09-29T00:00:00\",\"2010-09-30T00:00:00\",\"2010-10-01T00:00:00\",\"2010-10-02T00:00:00\",\"2010-10-03T00:00:00\",\"2010-10-04T00:00:00\",\"2010-10-05T00:00:00\",\"2010-10-06T00:00:00\",\"2010-10-07T00:00:00\",\"2010-10-08T00:00:00\",\"2010-10-09T00:00:00\",\"2010-10-10T00:00:00\",\"2010-10-11T00:00:00\",\"2010-10-12T00:00:00\",\"2010-10-13T00:00:00\",\"2010-10-14T00:00:00\",\"2010-10-15T00:00:00\",\"2010-10-16T00:00:00\",\"2010-10-17T00:00:00\",\"2010-10-18T00:00:00\",\"2010-10-19T00:00:00\",\"2010-10-20T00:00:00\",\"2010-10-21T00:00:00\",\"2010-10-22T00:00:00\",\"2010-10-23T00:00:00\",\"2010-10-24T00:00:00\",\"2010-10-25T00:00:00\",\"2010-10-26T00:00:00\",\"2010-10-27T00:00:00\",\"2010-10-28T00:00:00\",\"2010-10-29T00:00:00\",\"2010-10-30T00:00:00\",\"2010-10-31T00:00:00\",\"2010-11-01T00:00:00\",\"2010-11-02T00:00:00\",\"2010-11-03T00:00:00\",\"2010-11-04T00:00:00\",\"2010-11-05T00:00:00\",\"2010-11-06T00:00:00\",\"2010-11-07T00:00:00\",\"2010-11-08T00:00:00\",\"2010-11-09T00:00:00\",\"2010-11-10T00:00:00\",\"2010-11-11T00:00:00\",\"2010-11-12T00:00:00\",\"2010-11-13T00:00:00\",\"2010-11-14T00:00:00\",\"2010-11-15T00:00:00\",\"2010-11-16T00:00:00\",\"2010-11-17T00:00:00\",\"2010-11-18T00:00:00\",\"2010-11-19T00:00:00\",\"2010-11-20T00:00:00\",\"2010-11-21T00:00:00\",\"2010-11-22T00:00:00\",\"2010-11-23T00:00:00\",\"2010-11-24T00:00:00\",\"2010-11-25T00:00:00\",\"2010-11-26T00:00:00\"],\"xaxis\":\"x\",\"y\":[1.378787878787879,2.907638888888889,1.820138888888889,5.279166666666667,1.8388888888888888,1.8233312777333177,0.24305555555555555,0.2951388888888889,3.529166666666667,1.3625,1.7590277777777779,0.21805555555555556,3.06875,3.584722222222222,5.481664611066651,0.24097222222222223,0.24444444444444444,0.24166666666666667,0.2388888888888889,5.2756944444444445,0.26319444444444445,0.2791666666666667,5.678472222222222,0.32430555555555557,2.9631944444444445,3.0944444444444446,1.5069444444444444,0.30486111111111114,2.0659722222222223,2.9279850833111034,1.554861111111111,0.44722222222222224,3.984027777777778,0.23333333333333334,0.22916666666666666,3.626388888888889,3.865972222222222,2.071527777777778,0.7388888888888889,1.7222222222222223,0.18194444444444444,0.18125,2.7055555555555557,2.7765961944222144,0.20416666666666666,0.9888888888888889,4.131944444444445,0.26805555555555555,0.24722222222222223,3.1756944444444444,3.192361111111111,1.7805555555555554,0.28125,2.439583333333333,0.25416666666666665,2.1145833333333335,1.9659722222222222,3.3090277777777777,0.27708333333333335,1.9638888888888888,2.634027777777778,1.6409722222222223,0.5965277777777778,1.5458333333333334,5.557638888888889,2.013888888888889,3.604861111111111,1.6194444444444445,2.869164611066651,0.34930555555555554,0.2520833333333333,0.22847222222222222,0.2298611111111111,0.21805555555555556,0.2361111111111111,0.21944444444444444,0.2361111111111111,0.24097222222222223,6.049305555555556,8.409027777777778,1.2083333333333333,3.30625,2.3506944444444446,0.23958333333333334,3.765277777777778,2.375,1.9729166666666667,2.6798611111111112,0.3333333333333333,2.265972222222222,3.1972222222222224,0.24930555555555556,5.117361111111111,1.8652777777777778,1.9701388888888889,2.870138888888889,0.5111111111111111,0.5395833333333333,4.0256944444444445,2.50090174997777,0.2388888888888889,2.0965277777777778,5.9215277777777775,0.3194444444444444,0.325,5.352083333333334,3.7506944444444446,0.6736111111111112,0.7236111111111111,0.2916666666666667,2.970138888888889,3.7958333333333334,2.160416666666667,0.3368055555555556,0.35694444444444445,0.5152777777777777,0.7722222222222223,0.37569444444444444,0.3875,0.4013888888888889,0.7125,0.90625,0.2701388888888889,0.2465277777777778,1.1145833333333333,0.25,0.3215277777777778,1.5881944444444445,0.35138888888888886,0.3659722222222222,1.020138888888889,1.28125,0.3784722222222222,1.2920832184555877,1.2985199679887571,1.1263342030154766,0.6909722222222222,1.0347222222222223,1.1979166666666667,0.3736111111111111,1.73125,0.6590277777777778,3.4270833333333335,1.3965277777777778,3.910416666666667,0.37083333333333335,0.34097222222222223,0.7465277777777778,1.676388888888889,1.6784722222222221,0.2833333333333333,3.9972222222222222,1.4395833333333334,2.717361111111111,0.3680555555555556,1.2034722222222223,0.325,2.754166666666667,2.6333333333333333,2.8583333333333334,0.40694444444444444,1.9125,3.8430555555555554,0.3284722222222222,1.3243055555555556,4.1305555555555555,0.33125,0.3363184166444366,0.8680555555555556,5.228472222222222,0.5805555555555556,0.7131944444444445,0.5765961944222144,0.48541666666666666,7.944444444444445,0.44815538804414773,1.336111111111111,0.33819444444444446,0.3298611111111111,0.5951388888888889,1.4909722222222221,2.785416666666667,3.123611111111111,3.498611111111111,0.36736111111111114,0.3733312777333177,1.7972222222222223,1.6666666666666667,0.6604166666666667,0.5458333333333333,0.5493055555555556,2.5145833333333334,0.9263888888888889,4.479861111111111,3.033333333333333,0.46409619442221445,0.55,0.5111111111111111,3.667361111111111,2.2319444444444443,1.5402777777777779,0.5347222222222222,2.4743055555555555,2.115972222222222,1.9659722222222222,0.4125,1.5465277777777777,0.44930555555555557,1.7708333333333333,0.4395833333333333,1.3666666666666667,0.556116385998985,0.4826388888888889,0.48194444444444445,0.46597222222222223,0.48819444444444443,1.6791666666666667,0.35555555555555557,1.4842350833111033,0.8944444444444445,1.1159722222222221,0.10486111111111111,2.5229166666666667,0.034027777777777775,7.128472222222222,0.0,0.0,0.0,0.018936749533169376,0.0,0.0,0.2763888888888889,0.0,0.0,1.5055555555555555,0.7715277777777778,3.1354166666666665,1.8409722222222222,0.6319444444444444,0.8027777777777778,0.33055555555555555,0.4756944444444444,0.3527777777777778,0.0,0.0,0.0,6.188888888888889,4.836805555555555,0.02638888888888889,1.275,0.1798611111111111,2.627290638866659,1.5215277777777778,2.53125,0.8534722222222222,1.7138888888888888,0.3902777777777778,1.7916666666666667,0.4625,0.3951388888888889,1.1229166666666666,1.7465277777777777,2.43125,2.8777777777777778,2.7,0.38263888888888886,1.2506944444444446,3.0819444444444444,0.4131944444444444,0.3819444444444444,2.234027777777778,1.7520833333333334,0.46944444444444444,1.00625,2.1277777777777778,0.6430555555555556,1.4090277777777778,1.9048611111111111,0.33958333333333335,1.90625,0.9104166666666667,1.3395833333333333,2.732638888888889,1.5645833333333334,6.5399979443999845,0.4465277777777778,2.584722222222222,5.178472222222222,0.4041666666666667,4.598611111111111,5.570833333333334,3.488888888888889,0.30833333333333335,0.24375,0.24097222222222223,5.732638888888889,0.2916666666666667,1.4909722222222221,1.4701388888888889,0.2875,3.4916666666666667,2.6381944444444443,5.204166666666667,0.23541666666666666,5.465972222222222,0.3145833333333333,0.22013888888888888,2.1694444444444443,0.20555555555555555,3.0256944444444445,0.2076388888888889,3.603192388844429,0.25277777777777777,1.6895833333333334,0.24166666666666667,3.3722222222222222,0.19652777777777777,0.18680555555555556,1.34375,3.263888888888889,0.20347222222222222,1.46875,0.19583333333333333,3.046527777777778,0.27569444444444446,3.829861111111111,0.20902777777777778,0.21805555555555556,3.1756944444444444,0.2111111111111111,0.2222222222222222,2.892361111111111,3.4256944444444444,0.2048611111111111,0.39652777777777776,3.236111111111111,1.5270833333333333,1.45625,0.17569444444444443,2.745833333333333,0.38215174997777,0.20625,4.292361111111111,2.86875,0.19375,0.2,7.652777777777778,0.5340277777777778,0.19742952775554773,5.514583333333333,0.24513888888888888,4.802083333333333,0.2076388888888889,4.0472222222222225,0.2048611111111111,0.22083333333333333,2.576388888888889,1.6347222222222222,1.6861111111111111,0.19305555555555556,2.6506944444444445,0.1763888888888889,1.0055555555555555,2.6729166666666666,2.560416666666667,1.5840277777777778,0.16965174997776997,4.034722222222222,1.8458333333333334,0.19166666666666668,0.1388888888888889,3.1597222222222223,2.1465277777777776,1.6083333333333334,2.338888888888889,1.9256944444444444,1.0347222222222223,5.940277777777778,1.6902777777777778,2.497916666666667,2.4006944444444445,1.9020833333333333,2.1486111111111112,0.5875,3.698611111111111,0.1986111111111111,1.6979166666666667,0.19583333333333333,2.4381944444444446,0.19722222222222222,0.19791666666666666,0.2013888888888889,1.820138888888889,0.23701286108888106,0.23541666666666666,4.779861111111111,2.3819444444444446,0.24305555555555555,0.5875,4.204166666666667,0.2638888888888889,0.2611111111111111,5.305555555555555,0.26875,0.2222222222222222,1.68125,0.21597222222222223,2.651388888888889,0.19444444444444445,4.304861111111111,0.18125,0.18541666666666667,0.19444444444444445,1.9203461944222144,3.079861111111111,0.175,5.41875,0.24722222222222223,0.2048611111111111,1.3340277777777778,1.9708333333333334,2.0520833333333335,0.20625,1.288888888888889,2.5104166666666665,0.20208333333333334,1.1965277777777779,1.6388888888888888,1.5673611111111112,0.17430555555555555,3.2715277777777776,3.8305555555555557,0.21319444444444444,1.3784722222222223,1.56430349995554,0.23055555555555557,0.22291666666666668,0.2048611111111111,0.2263888888888889,0.1951388888888889,2.620138888888889,0.89375,3.6416666666666666,1.5326388888888889,1.6965277777777779,6.803472222222222,0.25833333333333336,2.410416666666667,0.24027777777777778,0.23125,0.25555555555555554,2.7090277777777776,1.648611111111111,2.4930555555555554,2.6951388888888888,0.3486111111111111,0.39305555555555555,4.61875,2.7909722222222224,0.28541666666666665,0.33194444444444443,3.3180555555555555,0.4083333333333333,1.4666666666666666,4.159235083311104,2.553472222222222,2.660416666666667,0.24722222222222223,2.5034722222222223,0.2604166666666667,0.9131944444444444,0.28541666666666665,4.622916666666667,2.551388888888889,0.29305555555555557,0.5381944444444444,0.6069444444444444,1.8159722222222223,0.4666666666666667,7.439583333333333,0.2611111111111111,0.3173611111111111,0.34097222222222223,1.7354166666666666,4.126388888888889,0.2951388888888889,2.776388888888889,0.2798611111111111,0.28958333333333336,2.661111111111111,1.70625,3.1555555555555554,1.85625,3.5368055555555555,0.3416666666666667,0.3625,1.3916666666666666,0.44027777777777777,0.4083333333333333,0.43125,3.7576388888888888,0.4097222222222222,0.3680555555555556,0.40555555555555556,0.37569444444444444,1.9944444444444445,0.2625,3.7569444444444446,0.29375,0.4875,0.29375,0.425,0.9305555555555556,0.7534722222222222,2.839583333333333,2.386111111111111,0.3958333333333333,1.78305349995554,0.6493055555555556,3.71875,0.3875,1.6881944444444446,0.32916666666666666,0.3055555555555556,0.9652777777777778,0.3951388888888889,6.11875,0.4625,3.716666666666667,0.35555555555555557,0.35208333333333336,2.0965277777777778,1.6166666666666667,0.3784722222222222,0.3875,1.8111111111111111,5.334722222222222,0.35138888888888886,0.35138888888888886,1.8131944444444446,2.1951388888888888,1.4479166666666667,0.40625,0.5847222222222223,0.39375,5.110623972199992,0.7020833333333333,4.723611111111111,0.32222222222222224,0.3,2.111111111111111,1.051388888888889,2.0381944444444446,4.04375,0.8159722222222222,0.40347222222222223,2.4229166666666666,0.3951388888888889,0.3972222222222222,1.6472222222222221,1.3888888888888888,0.3715277777777778,0.36180555555555555,0.4076388888888889,0.4513888888888889,1.7840277777777778,0.40902777777777777,4.690277777777778,3.6319444444444446,0.4111111111111111,0.34930555555555554,0.34652777777777777,0.38333333333333336,0.3875,1.8173611111111112,2.1990257221777623,1.3854166666666667,0.38333333333333336,1.94375,0.5020833333333333,0.38333333333333336,2.1847222222222222,0.7472222222222222,0.29930555555555555,0.2986111111111111,0.31527777777777777,0.33055555555555555,0.3416666666666667,0.6583333333333333,0.5958333333333333,0.35347222222222224,0.3680555555555556,0.5368055555555555,1.95,0.7986111111111112,0.35,0.34652777777777777,3.2488184166444367,0.35347222222222224,0.35625,0.36527777777777776,0.33402777777777776,0.33958333333333335,0.32222222222222224,0.33958333333333335,0.32083333333333336,0.31319444444444444,0.30625,0.30486111111111114,0.30694444444444446,0.3090277777777778,0.3055555555555556,0.30694444444444446,0.3034722222222222,0.3,0.30416666666666664,0.29097222222222224,0.28055555555555556,0.29305555555555557,0.2916666666666667,0.27708333333333335,0.3,0.2986111111111111,0.3020833333333333,2.5932628610888813,0.36180555555555555,0.8375,1.3208333333333333,0.28055555555555556,0.29930555555555555,4.513888888888889,1.1854166666666666,1.5923611111111111,0.3145833333333333,0.27708333333333335,0.28958333333333336,0.2791666666666667,3.7729166666666667,0.3090277777777778,0.25277777777777777,0.25555555555555554,2.5881944444444445,0.24791666666666667,0.24375,0.2569444444444444,1.6534722222222222,1.7,1.5055555555555555,3.2847222222222223,0.5215277777777778,0.2569444444444444,1.7944444444444445,0.2673611111111111,0.2520833333333333,0.25,4.027777777777778,0.2548611111111111,0.2423611111111111,0.43680555555555556,2.2618055555555556,0.1986111111111111,0.29097222222222224,3.5597222222222222,2.1277777777777778,0.2701388888888889,1.6215277777777777,4.043055555555555,0.3715277777777778,0.30694444444444446,4.8902777777777775,0.29791666666666666,2.2131944444444445,1.1493055555555556,5.5625,1.8388888888888888,1.8493055555555555,1.7652777777777777,0.9965277777777778,1.58125,0.3123863601552198,0.25,0.2791666666666667,0.2513888888888889,0.23958333333333334,0.23958333333333334,0.21666666666666667,0.2388888888888889,0.24027777777777778,0.24097222222222223,4.315277777777778,7.228472222222222,0.2986111111111111,0.2701388888888889,2.2715277777777776,0.45902777777777776,0.2519382776443976,1.5888888888888888,1.8851368332888734,0.23472222222222222,0.22569444444444445,2.6381944444444443,1.270138888888889,0.2625,0.25625,2.1013888888888888,0.24097222222222223,0.24166666666666667,0.6125,6.127985083311103,0.3541666666666667,0.23958333333333334,0.2111111111111111,0.22916666666666666,0.2048611111111111,1.6611111111111112,2.417361111111111,0.21458333333333332,0.2111111111111111,0.20972222222222223,0.1951388888888889,0.2152777777777778,3.9923611111111112,0.2152777777777778,0.20555555555555555,1.7729166666666667,2.940900276221676,0.18958333333333333,0.17708333333333334,0.18125,1.7340277777777777,0.175,0.17569444444444443,0.19722222222222222,0.17916666666666667,0.20555555555555555,4.500207305533325,6.38125,0.27152777777777776,1.46875,0.25277777777777777,0.19791666666666666,0.19375,0.16944444444444445,0.15069444444444444,0.15138888888888888,0.1701388888888889,0.17083333333333334,2.670138888888889,4.179166666666666,0.22777777777777777,3.6465277777777776,0.22361111111111112,0.1763888888888889,2.6527777777777777,0.2076388888888889,0.18888888888888888,2.977777777777778,3.68125,0.18125,0.22847222222222222,0.23145730553332552,0.2708333333333333,2.1930555555555555,2.1902777777777778,4.653472222222222,0.2611111111111111,0.19583333333333333,1.4993055555555554,0.23680555555555555,0.2048611111111111,3.1194444444444445,4.138888888888889,0.24166666666666667,0.19305555555555556,4.825694444444444,0.20416666666666666,0.19444444444444445,4.565972222222222,0.4662109435997033,0.16111111111111112,0.6097222222222223,4.834027777777778,0.18333333333333332,0.18958333333333333,3.1131944444444444,0.1798611111111111,0.15833333333333333,0.18263888888888888,7.2756944444444445,0.2076388888888889,0.1763888888888889,2.262914611066651,0.15694444444444444,0.18125,0.20636422168870153,0.20625,0.18194444444444444,0.20347222222222222,0.18194444444444444,5.955555555555556,2.6,1.1125,0.19027777777777777,0.18611111111111112,0.17083333333333334,3.720833333333333,1.9036795277555478,0.2152777777777778,0.18611111111111112,1.7847222222222223,0.18819444444444444,0.1840277777777778,0.5631944444444444,3.6527777777777777,0.25625,0.1951388888888889,5.061111111111111,0.25277777777777777,0.21597222222222223,0.19444444444444445,3.577777777777778,0.21340174997776995,2.7444444444444445,0.2604166666666667,0.21805555555555556,0.21388888888888888,0.4736111111111111,2.623611111111111,0.2152777777777778,0.24444444444444444,2.3020833333333335,0.21666666666666667,0.36527777777777776,0.22708333333333333,2.7944444444444443,0.2048611111111111,1.882638888888889,1.6416666666666666,0.225,0.2263888888888889,2.897222222222222,0.24791666666666667,0.23125,0.23472222222222222,1.9631944444444445,0.25416666666666665,1.9597222222222221,2.9763888888888888,1.0444444444444445,3.9240257221777624,1.6256944444444446,0.3215277777777778,0.27569444444444446,3.6277777777777778,1.8145833333333334,0.2611111111111111,1.836111111111111,0.2604166666666667,0.8354166666666667,0.2743055555555556,0.2659722222222222,2.7090277777777776,2.095138888888889,0.2611111111111111,0.25763888888888886,1.7305555555555556,0.2520833333333333,0.7305555555555555,0.25972222222222224,1.8006944444444444,0.28541666666666665,3.8465277777777778,1.2479166666666666,0.25972222222222224,0.5888888888888889,0.2652777777777778,4.632846194422214,0.3173611111111111,1.8840277777777779,0.3840277777777778,2.8229166666666665,0.34305555555555556,3.3472222222222223,1.3375,0.25972222222222224,0.55,1.3118055555555554,0.8875,0.8381944444444445,1.2805555555555554,0.30972222222222223,0.6708333333333333,0.5999274721555321,1.6354166666666667,0.2923611111111111,0.3013888888888889,1.1854166666666666,0.31805555555555554,0.32013888888888886,0.35138888888888886,0.9513888888888888,0.3159722222222222,0.31666666666666665,1.8972222222222221,1.1395833333333334,0.3,0.2875,3.295138888888889,0.3277777777777778,0.3194444444444444,1.2749396908778803,1.2985199679887571,0.6519629065520031,0.8479166666666667,0.42430555555555555,0.32013888888888886,0.3298611111111111,1.8451388888888889,0.2861111111111111,0.31180555555555556,0.8756944444444444,0.8604166666666667,0.34375,0.3736111111111111,1.6888888888888889,0.9868055555555556,0.4152777777777778,0.7180555555555556,0.4097222222222222,0.41875,0.44583333333333336,1.617361111111111,0.9986111111111111,0.5243055555555556,2.5131944444444443,2.4402777777777778,0.45555555555555555,1.8258292221333021,0.47430555555555554,0.40902777777777777,0.4125,0.42916666666666664,0.6472222222222223,1.1972222222222222,0.43472222222222223,0.46041666666666664,0.4152777777777778,0.5444444444444444,0.68125,0.47291666666666665,0.43194444444444446,0.4375,0.40069444444444446,0.7076388888888889,1.4319444444444445,3.402083333333333,0.5201388888888889,1.6,2.377083333333333,0.5861111111111111,0.4423611111111111,0.4201388888888889,0.4215277777777778,0.4305555555555556,0.4576388888888889,0.4638888888888889,0.4486111111111111,1.6527777777777777,2.582638888888889,1.01875,0.47847222222222224,3.3742925635263767,0.5902777777777778,1.2861111111111112,0.7597222222222222,0.5645833333333333,1.0,0.5638888888888889,0.6131944444444445,0.6159722222222223,2.2243055555555555,0.56875,0.5118055555555555,0.5243055555555556,1.0527777777777778,0.46111111111111114,0.78125,1.0298611111111111,0.9465277777777777,0.4708333333333333,0.4840277777777778,0.4576388888888889,2.152083333333333,0.44166666666666665,1.5611111111111111,0.4083333333333333,0.40069444444444446,0.40069444444444446,2.661111111111111,0.4166666666666667,0.43819444444444444,0.8347222222222223,0.42590174997776997,0.41875,0.3888888888888889,2.4097222222222223,0.3909722222222222,0.4527777777777778,2.8125,1.7125,0.41944444444444445,0.41458333333333336,0.6791666666666667,0.43125,0.4125,0.39652777777777776,3.1743055555555557,0.41875,0.41875,5.6129146110666515,0.41805555555555557,0.3958333333333333,0.6388888888888888,2.4298611111111112,0.3763888888888889,0.3770833333333333,3.0097222222222224,0.42986111111111114,0.38819444444444445,0.3958333333333333,4.482846194422215,0.3576388888888889,0.3680555555555556,2.1743055555555557,0.3215277777777778,0.3347222222222222,3.0305555555555554,0.34652777777777777,0.3173611111111111,0.3125,4.108333333333333,0.3416666666666667,0.34375,0.3597222222222222,4.292361111111111,0.325,0.31180555555555556,0.3215277777777778,2.8645833333333335,1.3923611111111112,1.7458333333333333,0.3263888888888889,0.32708333333333334,2.74375,2.783333333333333,0.36944444444444446,0.30694444444444446,0.2833333333333333,1.4409722222222223,0.2995128610888811,0.3,3.545138888888889,0.29791666666666666,0.2826388888888889,1.6743055555555555,3.665277777777778,0.3784722222222222,0.3145833333333333,5.315972222222222,0.33402777777777776,0.2826388888888889,1.3868055555555556,0.28541666666666665,0.2791666666666667,3.1798611111111112,3.529861111111111,0.2826388888888889,0.275,0.26805555555555555,2.1256944444444446,0.25069444444444444,0.24583333333333332,4.897222222222222,0.2791666666666667,0.24444444444444444,0.24375,2.8993055555555554,0.24861111111111112,0.24305555555555555,2.329861111111111,0.24416461106665108,0.2673611111111111,2.861111111111111,0.28958333333333336,1.5833333333333333,0.2722222222222222,2.04375,0.21388888888888888,0.2111111111111111,1.8486111111111112,0.21736111111111112,0.19583333333333333,0.19791666666666666,0.19722222222222222,3.8715277777777777,2.704861111111111,2.9819444444444443,0.22083333333333333,1.4326388888888888,0.24027777777777778,3.152083333333333,0.26875,0.22708333333333333,0.20784619442221441,3.4166666666666665,0.20277777777777778,0.20347222222222222,2.261111111111111,0.17708333333333334,0.6902777777777778,3.3715277777777777,1.4111111111111112,0.2361111111111111,2.9161739045068407,1.2985199679887571,1.0881318079466393,2.05,1.6770833333333333,0.20694444444444443,0.2048611111111111,0.4534722222222222,2.3201388888888888,0.31180555555555556,0.24444444444444444,2.83840174997777,1.9166666666666667,0.3159722222222222,0.2743055555555556,4.446527777777778,0.35,0.5909722222222222,5.238888888888889,0.9583333333333334,0.2548611111111111,0.2652777777777778,5.8493055555555555,0.36944444444444446,0.32916666666666666,1.5340277777777778,2.6645833333333333,0.29930555555555555,0.2847222222222222,2.067568416644437,0.22916666666666666,0.21666666666666667,3.675,0.22173508331110328,0.23055555555555557,0.22013888888888888,4.608333333333333,0.2673611111111111,0.27569444444444446,0.2652777777777778,5.654166666666667,1.5048611111111112,2.0840277777777776,1.1680555555555556,0.32916666666666666,1.7041666666666666,0.30625,0.33819444444444446,0.32708333333333334,0.29444444444444445,0.2951388888888889,0.30277777777777776,0.24375,0.29097222222222224,3.245833333333333,5.309027777777778,0.27569444444444446,0.2604166666666667,0.2222222222222222,0.28541666666666665,3.8430555555555554,0.6375,0.30277777777777776,0.3173611111111111,4.063194444444444,0.3958333333333333,0.41388888888888886,1.1066750842572353,2.687838787349161,0.38680555555555557,0.8006944444444445,4.05,0.42430555555555555,0.4736111111111111,2.138888888888889,5.482638888888889,0.44166666666666665,0.39652777777777776,4.384027777777778,0.3590277777777778,0.33541666666666664,0.45,0.5770833333333333,0.9972222222222222,0.42569444444444443,2.388888888888889,0.46458333333333335,0.39305555555555555,0.6666666666666666,0.3856239721999922,0.42430555555555555,0.4486111111111111,4.077083333333333,0.45694444444444443,0.4111111111111111,2.1694444444444443,0.42916666666666664,2.954861111111111,0.49930555555555556,0.4409722222222222,0.4534722222222222,0.4326388888888889,1.0298611111111111,1.6319444444444444,0.3194444444444444,0.3784722222222222,0.4013888888888889,0.47152777777777777,0.4576388888888889,3.392361111111111,5.531944444444444,0.37083333333333335,0.7069444444444445,1.523611111111111,0.20902777777777778,0.23055555555555557,1.6909722222222223,1.8305555555555555,0.2798611111111111,0.23958333333333334,3.0791666666666666,1.0265961944222144,0.23194444444444445,0.23333333333333334,2.723611111111111,0.2548611111111111,0.2569444444444444,0.4576388888888889,0.25625,0.26458333333333334,1.695138888888889,0.28888888888888886,1.7131944444444445,0.31319444444444444,3.125,0.3076388888888889,0.28680555555555554,0.2777777777777778,2.066666666666667,1.507638888888889,0.2777777777777778,0.45555555555555555,0.31319444444444444,0.27569444444444446,0.8701388888888889,0.39861111111111114,0.3388888888888889,0.5701388888888889,2.964583333333333,0.32916666666666666,0.325,2.5404850833111032,1.7472222222222222,0.3284722222222222,0.3388888888888889,3.4715277777777778,0.3388888888888889,0.31527777777777777,1.2520833333333334,2.9131944444444446,2.4479166666666665,4.288888888888889,1.0416666666666667,0.6131944444444445,0.47847222222222224,0.8479166666666667,0.5305555555555556,0.5618055555555556,1.374512861088881,0.5597222222222222,0.6395833333333333,0.6472222222222223,0.6722222222222223,0.5583333333333333,0.58125,0.5354166666666667,0.5277777777777778,0.9375,0.4340277777777778,0.8611111111111112,0.4125,0.4486111111111111,1.9625,0.4152777777777778,1.5140961944222144,0.39444444444444443,0.37569444444444444,0.3458333333333333,0.38125,0.3819444444444444,0.40625,1.49375,1.4625,1.4555555555555555,2.591666666666667,1.5597222222222222,0.36319444444444443,0.37777777777777777,0.3729166666666667,0.37083333333333335,0.38055555555555554,0.3875,0.37222222222222223,0.3659722222222222,0.36944444444444446,0.3590277777777778,0.35208333333333336,0.3611111111111111,0.36527777777777776,0.3576388888888889,0.3645833333333333,0.3763888888888889,0.35694444444444445,0.3527777777777778,0.35555555555555557,3.0284722222222222,0.3215277777777778,0.6750948293763881,1.2985199679887571,1.2985199679887571,1.2985199679887571,1.2985199679887571,1.1989539713677215,0.3923611111111111,0.37569444444444444,0.3625,0.3736111111111111,5.2659722222222225,0.38125,0.37083333333333335,1.0208333333333333,1.1965277777777779,0.8291666666666667,0.3472222222222222,0.36319444444444443,0.5097222222222222,1.8972222222222221,0.36944444444444446,0.6402777777777777,0.34375,1.4777777777777779,0.45416666666666666,0.9909722222222223,1.4444444444444444,0.5541666666666667,1.8784722222222223,0.6236111111111111,0.5131944444444444,3.816666666666667,0.5236111111111111,0.9076388888888889,0.5319444444444444,0.47152777777777777,0.8104166666666667,0.5243055555555556,0.5368055555555555,1.189873639901711,1.2985199679887571,1.2985199679887571,1.1654121688132202,0.45,0.5354166666666667,0.5027777777777778,0.5145833333333333,1.7805555555555554,0.5013888888888889,2.091666666666667,0.3659722222222222,0.3770833333333333,0.4930555555555556,1.1006944444444444,0.5368055555555555,3.4763888888888888,0.5416666666666666,0.42430555555555555,1.695138888888889,0.5743055555555555,0.4479166666666667,0.4625,7.095833333333333,2.8541666666666665,0.4791666666666667,0.4798611111111111,0.33194444444444443,2.696527777777778,5.237707305533325,0.37569444444444444,1.7277777777777779,1.4291666666666667,1.8243055555555556,0.5041666666666667,0.4263888888888889,0.4708333333333333,0.44027777777777777,0.39861111111111114,0.7694444444444445,7.772916666666666,0.5486111111111112,0.4722222222222222,0.43125,0.3854166666666667,0.4048611111111111,4.0680555555555555,1.538888888888889,0.33958333333333335,0.40902777777777777,0.38125,2.9319444444444445,0.33194444444444443,0.34097222222222223,0.33958333333333335,0.33541666666666664,2.046527777777778,0.35138888888888886,1.4652777777777777,0.31805555555555554,1.9777777777777779,0.29583333333333334,0.30482977038796516],\"yaxis\":\"y\",\"type\":\"scattergl\"}],                        {\"template\":{\"data\":{\"histogram2dcontour\":[{\"type\":\"histogram2dcontour\",\"colorbar\":{\"outlinewidth\":0,\"ticks\":\"\"},\"colorscale\":[[0.0,\"#0d0887\"],[0.1111111111111111,\"#46039f\"],[0.2222222222222222,\"#7201a8\"],[0.3333333333333333,\"#9c179e\"],[0.4444444444444444,\"#bd3786\"],[0.5555555555555556,\"#d8576b\"],[0.6666666666666666,\"#ed7953\"],[0.7777777777777778,\"#fb9f3a\"],[0.8888888888888888,\"#fdca26\"],[1.0,\"#f0f921\"]]}],\"choropleth\":[{\"type\":\"choropleth\",\"colorbar\":{\"outlinewidth\":0,\"ticks\":\"\"}}],\"histogram2d\":[{\"type\":\"histogram2d\",\"colorbar\":{\"outlinewidth\":0,\"ticks\":\"\"},\"colorscale\":[[0.0,\"#0d0887\"],[0.1111111111111111,\"#46039f\"],[0.2222222222222222,\"#7201a8\"],[0.3333333333333333,\"#9c179e\"],[0.4444444444444444,\"#bd3786\"],[0.5555555555555556,\"#d8576b\"],[0.6666666666666666,\"#ed7953\"],[0.7777777777777778,\"#fb9f3a\"],[0.8888888888888888,\"#fdca26\"],[1.0,\"#f0f921\"]]}],\"heatmap\":[{\"type\":\"heatmap\",\"colorbar\":{\"outlinewidth\":0,\"ticks\":\"\"},\"colorscale\":[[0.0,\"#0d0887\"],[0.1111111111111111,\"#46039f\"],[0.2222222222222222,\"#7201a8\"],[0.3333333333333333,\"#9c179e\"],[0.4444444444444444,\"#bd3786\"],[0.5555555555555556,\"#d8576b\"],[0.6666666666666666,\"#ed7953\"],[0.7777777777777778,\"#fb9f3a\"],[0.8888888888888888,\"#fdca26\"],[1.0,\"#f0f921\"]]}],\"heatmapgl\":[{\"type\":\"heatmapgl\",\"colorbar\":{\"outlinewidth\":0,\"ticks\":\"\"},\"colorscale\":[[0.0,\"#0d0887\"],[0.1111111111111111,\"#46039f\"],[0.2222222222222222,\"#7201a8\"],[0.3333333333333333,\"#9c179e\"],[0.4444444444444444,\"#bd3786\"],[0.5555555555555556,\"#d8576b\"],[0.6666666666666666,\"#ed7953\"],[0.7777777777777778,\"#fb9f3a\"],[0.8888888888888888,\"#fdca26\"],[1.0,\"#f0f921\"]]}],\"contourcarpet\":[{\"type\":\"contourcarpet\",\"colorbar\":{\"outlinewidth\":0,\"ticks\":\"\"}}],\"contour\":[{\"type\":\"contour\",\"colorbar\":{\"outlinewidth\":0,\"ticks\":\"\"},\"colorscale\":[[0.0,\"#0d0887\"],[0.1111111111111111,\"#46039f\"],[0.2222222222222222,\"#7201a8\"],[0.3333333333333333,\"#9c179e\"],[0.4444444444444444,\"#bd3786\"],[0.5555555555555556,\"#d8576b\"],[0.6666666666666666,\"#ed7953\"],[0.7777777777777778,\"#fb9f3a\"],[0.8888888888888888,\"#fdca26\"],[1.0,\"#f0f921\"]]}],\"surface\":[{\"type\":\"surface\",\"colorbar\":{\"outlinewidth\":0,\"ticks\":\"\"},\"colorscale\":[[0.0,\"#0d0887\"],[0.1111111111111111,\"#46039f\"],[0.2222222222222222,\"#7201a8\"],[0.3333333333333333,\"#9c179e\"],[0.4444444444444444,\"#bd3786\"],[0.5555555555555556,\"#d8576b\"],[0.6666666666666666,\"#ed7953\"],[0.7777777777777778,\"#fb9f3a\"],[0.8888888888888888,\"#fdca26\"],[1.0,\"#f0f921\"]]}],\"mesh3d\":[{\"type\":\"mesh3d\",\"colorbar\":{\"outlinewidth\":0,\"ticks\":\"\"}}],\"scatter\":[{\"fillpattern\":{\"fillmode\":\"overlay\",\"size\":10,\"solidity\":0.2},\"type\":\"scatter\"}],\"parcoords\":[{\"type\":\"parcoords\",\"line\":{\"colorbar\":{\"outlinewidth\":0,\"ticks\":\"\"}}}],\"scatterpolargl\":[{\"type\":\"scatterpolargl\",\"marker\":{\"colorbar\":{\"outlinewidth\":0,\"ticks\":\"\"}}}],\"bar\":[{\"error_x\":{\"color\":\"#2a3f5f\"},\"error_y\":{\"color\":\"#2a3f5f\"},\"marker\":{\"line\":{\"color\":\"#E5ECF6\",\"width\":0.5},\"pattern\":{\"fillmode\":\"overlay\",\"size\":10,\"solidity\":0.2}},\"type\":\"bar\"}],\"scattergeo\":[{\"type\":\"scattergeo\",\"marker\":{\"colorbar\":{\"outlinewidth\":0,\"ticks\":\"\"}}}],\"scatterpolar\":[{\"type\":\"scatterpolar\",\"marker\":{\"colorbar\":{\"outlinewidth\":0,\"ticks\":\"\"}}}],\"histogram\":[{\"marker\":{\"pattern\":{\"fillmode\":\"overlay\",\"size\":10,\"solidity\":0.2}},\"type\":\"histogram\"}],\"scattergl\":[{\"type\":\"scattergl\",\"marker\":{\"colorbar\":{\"outlinewidth\":0,\"ticks\":\"\"}}}],\"scatter3d\":[{\"type\":\"scatter3d\",\"line\":{\"colorbar\":{\"outlinewidth\":0,\"ticks\":\"\"}},\"marker\":{\"colorbar\":{\"outlinewidth\":0,\"ticks\":\"\"}}}],\"scattermapbox\":[{\"type\":\"scattermapbox\",\"marker\":{\"colorbar\":{\"outlinewidth\":0,\"ticks\":\"\"}}}],\"scatterternary\":[{\"type\":\"scatterternary\",\"marker\":{\"colorbar\":{\"outlinewidth\":0,\"ticks\":\"\"}}}],\"scattercarpet\":[{\"type\":\"scattercarpet\",\"marker\":{\"colorbar\":{\"outlinewidth\":0,\"ticks\":\"\"}}}],\"carpet\":[{\"aaxis\":{\"endlinecolor\":\"#2a3f5f\",\"gridcolor\":\"white\",\"linecolor\":\"white\",\"minorgridcolor\":\"white\",\"startlinecolor\":\"#2a3f5f\"},\"baxis\":{\"endlinecolor\":\"#2a3f5f\",\"gridcolor\":\"white\",\"linecolor\":\"white\",\"minorgridcolor\":\"white\",\"startlinecolor\":\"#2a3f5f\"},\"type\":\"carpet\"}],\"table\":[{\"cells\":{\"fill\":{\"color\":\"#EBF0F8\"},\"line\":{\"color\":\"white\"}},\"header\":{\"fill\":{\"color\":\"#C8D4E3\"},\"line\":{\"color\":\"white\"}},\"type\":\"table\"}],\"barpolar\":[{\"marker\":{\"line\":{\"color\":\"#E5ECF6\",\"width\":0.5},\"pattern\":{\"fillmode\":\"overlay\",\"size\":10,\"solidity\":0.2}},\"type\":\"barpolar\"}],\"pie\":[{\"automargin\":true,\"type\":\"pie\"}]},\"layout\":{\"autotypenumbers\":\"strict\",\"colorway\":[\"#636efa\",\"#EF553B\",\"#00cc96\",\"#ab63fa\",\"#FFA15A\",\"#19d3f3\",\"#FF6692\",\"#B6E880\",\"#FF97FF\",\"#FECB52\"],\"font\":{\"color\":\"#2a3f5f\"},\"hovermode\":\"closest\",\"hoverlabel\":{\"align\":\"left\"},\"paper_bgcolor\":\"white\",\"plot_bgcolor\":\"#E5ECF6\",\"polar\":{\"bgcolor\":\"#E5ECF6\",\"angularaxis\":{\"gridcolor\":\"white\",\"linecolor\":\"white\",\"ticks\":\"\"},\"radialaxis\":{\"gridcolor\":\"white\",\"linecolor\":\"white\",\"ticks\":\"\"}},\"ternary\":{\"bgcolor\":\"#E5ECF6\",\"aaxis\":{\"gridcolor\":\"white\",\"linecolor\":\"white\",\"ticks\":\"\"},\"baxis\":{\"gridcolor\":\"white\",\"linecolor\":\"white\",\"ticks\":\"\"},\"caxis\":{\"gridcolor\":\"white\",\"linecolor\":\"white\",\"ticks\":\"\"}},\"coloraxis\":{\"colorbar\":{\"outlinewidth\":0,\"ticks\":\"\"}},\"colorscale\":{\"sequential\":[[0.0,\"#0d0887\"],[0.1111111111111111,\"#46039f\"],[0.2222222222222222,\"#7201a8\"],[0.3333333333333333,\"#9c179e\"],[0.4444444444444444,\"#bd3786\"],[0.5555555555555556,\"#d8576b\"],[0.6666666666666666,\"#ed7953\"],[0.7777777777777778,\"#fb9f3a\"],[0.8888888888888888,\"#fdca26\"],[1.0,\"#f0f921\"]],\"sequentialminus\":[[0.0,\"#0d0887\"],[0.1111111111111111,\"#46039f\"],[0.2222222222222222,\"#7201a8\"],[0.3333333333333333,\"#9c179e\"],[0.4444444444444444,\"#bd3786\"],[0.5555555555555556,\"#d8576b\"],[0.6666666666666666,\"#ed7953\"],[0.7777777777777778,\"#fb9f3a\"],[0.8888888888888888,\"#fdca26\"],[1.0,\"#f0f921\"]],\"diverging\":[[0,\"#8e0152\"],[0.1,\"#c51b7d\"],[0.2,\"#de77ae\"],[0.3,\"#f1b6da\"],[0.4,\"#fde0ef\"],[0.5,\"#f7f7f7\"],[0.6,\"#e6f5d0\"],[0.7,\"#b8e186\"],[0.8,\"#7fbc41\"],[0.9,\"#4d9221\"],[1,\"#276419\"]]},\"xaxis\":{\"gridcolor\":\"white\",\"linecolor\":\"white\",\"ticks\":\"\",\"title\":{\"standoff\":15},\"zerolinecolor\":\"white\",\"automargin\":true,\"zerolinewidth\":2},\"yaxis\":{\"gridcolor\":\"white\",\"linecolor\":\"white\",\"ticks\":\"\",\"title\":{\"standoff\":15},\"zerolinecolor\":\"white\",\"automargin\":true,\"zerolinewidth\":2},\"scene\":{\"xaxis\":{\"backgroundcolor\":\"#E5ECF6\",\"gridcolor\":\"white\",\"linecolor\":\"white\",\"showbackground\":true,\"ticks\":\"\",\"zerolinecolor\":\"white\",\"gridwidth\":2},\"yaxis\":{\"backgroundcolor\":\"#E5ECF6\",\"gridcolor\":\"white\",\"linecolor\":\"white\",\"showbackground\":true,\"ticks\":\"\",\"zerolinecolor\":\"white\",\"gridwidth\":2},\"zaxis\":{\"backgroundcolor\":\"#E5ECF6\",\"gridcolor\":\"white\",\"linecolor\":\"white\",\"showbackground\":true,\"ticks\":\"\",\"zerolinecolor\":\"white\",\"gridwidth\":2}},\"shapedefaults\":{\"line\":{\"color\":\"#2a3f5f\"}},\"annotationdefaults\":{\"arrowcolor\":\"#2a3f5f\",\"arrowhead\":0,\"arrowwidth\":1},\"geo\":{\"bgcolor\":\"white\",\"landcolor\":\"#E5ECF6\",\"subunitcolor\":\"white\",\"showland\":true,\"showlakes\":true,\"lakecolor\":\"white\"},\"title\":{\"x\":0.05},\"mapbox\":{\"style\":\"light\"}}},\"xaxis\":{\"anchor\":\"y\",\"domain\":[0.0,1.0],\"title\":{\"text\":\"Date\"}},\"yaxis\":{\"anchor\":\"x\",\"domain\":[0.0,1.0],\"title\":{\"text\":\"Sub Metering 2\"}},\"legend\":{\"tracegroupgap\":0},\"title\":{\"text\":\"Sub Metering 2 Over Time (Daily)\",\"x\":0.5},\"font\":{\"color\":\"lightgray\"},\"plot_bgcolor\":\"rgb(35, 35, 35)\",\"paper_bgcolor\":\"rgb(25, 25, 25)\"},                        {\"responsive\": true}                    ).then(function(){\n",
              "                            \n",
              "var gd = document.getElementById('5ec431d9-427e-413c-a56d-ad7bf726c3f7');\n",
              "var x = new MutationObserver(function (mutations, observer) {{\n",
              "        var display = window.getComputedStyle(gd).display;\n",
              "        if (!display || display === 'none') {{\n",
              "            console.log([gd, 'removed!']);\n",
              "            Plotly.purge(gd);\n",
              "            observer.disconnect();\n",
              "        }}\n",
              "}});\n",
              "\n",
              "// Listen for the removal of the full notebook cells\n",
              "var notebookContainer = gd.closest('#notebook-container');\n",
              "if (notebookContainer) {{\n",
              "    x.observe(notebookContainer, {childList: true});\n",
              "}}\n",
              "\n",
              "// Listen for the clearing of the current output cell\n",
              "var outputEl = gd.closest('.output');\n",
              "if (outputEl) {{\n",
              "    x.observe(outputEl, {childList: true});\n",
              "}}\n",
              "\n",
              "                        })                };                            </script>        </div>\n",
              "</body>\n",
              "</html>"
            ]
          },
          "metadata": {}
        },
        {
          "output_type": "display_data",
          "data": {
            "text/html": [
              "<html>\n",
              "<head><meta charset=\"utf-8\" /></head>\n",
              "<body>\n",
              "    <div>            <script src=\"https://cdnjs.cloudflare.com/ajax/libs/mathjax/2.7.5/MathJax.js?config=TeX-AMS-MML_SVG\"></script><script type=\"text/javascript\">if (window.MathJax && window.MathJax.Hub && window.MathJax.Hub.Config) {window.MathJax.Hub.Config({SVG: {font: \"STIX-Web\"}});}</script>                <script type=\"text/javascript\">window.PlotlyConfig = {MathJaxConfig: 'local'};</script>\n",
              "        <script charset=\"utf-8\" src=\"https://cdn.plot.ly/plotly-2.24.1.min.js\"></script>                <div id=\"cafed401-1ec3-4cee-8dde-ac36c88f9ac4\" class=\"plotly-graph-div\" style=\"height:525px; width:100%;\"></div>            <script type=\"text/javascript\">                                    window.PLOTLYENV=window.PLOTLYENV || {};                                    if (document.getElementById(\"cafed401-1ec3-4cee-8dde-ac36c88f9ac4\")) {                    Plotly.newPlot(                        \"cafed401-1ec3-4cee-8dde-ac36c88f9ac4\",                        [{\"hovertemplate\":\"Date_time=%{x}\\u003cbr\\u003eSub_metering_3=%{y}\\u003cextra\\u003e\\u003c\\u002fextra\\u003e\",\"legendgroup\":\"\",\"line\":{\"color\":\"#636efa\",\"dash\":\"solid\"},\"marker\":{\"symbol\":\"circle\"},\"mode\":\"lines\",\"name\":\"\",\"showlegend\":false,\"x\":[\"2006-12-16T00:00:00\",\"2006-12-17T00:00:00\",\"2006-12-18T00:00:00\",\"2006-12-19T00:00:00\",\"2006-12-20T00:00:00\",\"2006-12-21T00:00:00\",\"2006-12-22T00:00:00\",\"2006-12-23T00:00:00\",\"2006-12-24T00:00:00\",\"2006-12-25T00:00:00\",\"2006-12-26T00:00:00\",\"2006-12-27T00:00:00\",\"2006-12-28T00:00:00\",\"2006-12-29T00:00:00\",\"2006-12-30T00:00:00\",\"2006-12-31T00:00:00\",\"2007-01-01T00:00:00\",\"2007-01-02T00:00:00\",\"2007-01-03T00:00:00\",\"2007-01-04T00:00:00\",\"2007-01-05T00:00:00\",\"2007-01-06T00:00:00\",\"2007-01-07T00:00:00\",\"2007-01-08T00:00:00\",\"2007-01-09T00:00:00\",\"2007-01-10T00:00:00\",\"2007-01-11T00:00:00\",\"2007-01-12T00:00:00\",\"2007-01-13T00:00:00\",\"2007-01-14T00:00:00\",\"2007-01-15T00:00:00\",\"2007-01-16T00:00:00\",\"2007-01-17T00:00:00\",\"2007-01-18T00:00:00\",\"2007-01-19T00:00:00\",\"2007-01-20T00:00:00\",\"2007-01-21T00:00:00\",\"2007-01-22T00:00:00\",\"2007-01-23T00:00:00\",\"2007-01-24T00:00:00\",\"2007-01-25T00:00:00\",\"2007-01-26T00:00:00\",\"2007-01-27T00:00:00\",\"2007-01-28T00:00:00\",\"2007-01-29T00:00:00\",\"2007-01-30T00:00:00\",\"2007-01-31T00:00:00\",\"2007-02-01T00:00:00\",\"2007-02-02T00:00:00\",\"2007-02-03T00:00:00\",\"2007-02-04T00:00:00\",\"2007-02-05T00:00:00\",\"2007-02-06T00:00:00\",\"2007-02-07T00:00:00\",\"2007-02-08T00:00:00\",\"2007-02-09T00:00:00\",\"2007-02-10T00:00:00\",\"2007-02-11T00:00:00\",\"2007-02-12T00:00:00\",\"2007-02-13T00:00:00\",\"2007-02-14T00:00:00\",\"2007-02-15T00:00:00\",\"2007-02-16T00:00:00\",\"2007-02-17T00:00:00\",\"2007-02-18T00:00:00\",\"2007-02-19T00:00:00\",\"2007-02-20T00:00:00\",\"2007-02-21T00:00:00\",\"2007-02-22T00:00:00\",\"2007-02-23T00:00:00\",\"2007-02-24T00:00:00\",\"2007-02-25T00:00:00\",\"2007-02-26T00:00:00\",\"2007-02-27T00:00:00\",\"2007-02-28T00:00:00\",\"2007-03-01T00:00:00\",\"2007-03-02T00:00:00\",\"2007-03-03T00:00:00\",\"2007-03-04T00:00:00\",\"2007-03-05T00:00:00\",\"2007-03-06T00:00:00\",\"2007-03-07T00:00:00\",\"2007-03-08T00:00:00\",\"2007-03-09T00:00:00\",\"2007-03-10T00:00:00\",\"2007-03-11T00:00:00\",\"2007-03-12T00:00:00\",\"2007-03-13T00:00:00\",\"2007-03-14T00:00:00\",\"2007-03-15T00:00:00\",\"2007-03-16T00:00:00\",\"2007-03-17T00:00:00\",\"2007-03-18T00:00:00\",\"2007-03-19T00:00:00\",\"2007-03-20T00:00:00\",\"2007-03-21T00:00:00\",\"2007-03-22T00:00:00\",\"2007-03-23T00:00:00\",\"2007-03-24T00:00:00\",\"2007-03-25T00:00:00\",\"2007-03-26T00:00:00\",\"2007-03-27T00:00:00\",\"2007-03-28T00:00:00\",\"2007-03-29T00:00:00\",\"2007-03-30T00:00:00\",\"2007-03-31T00:00:00\",\"2007-04-01T00:00:00\",\"2007-04-02T00:00:00\",\"2007-04-03T00:00:00\",\"2007-04-04T00:00:00\",\"2007-04-05T00:00:00\",\"2007-04-06T00:00:00\",\"2007-04-07T00:00:00\",\"2007-04-08T00:00:00\",\"2007-04-09T00:00:00\",\"2007-04-10T00:00:00\",\"2007-04-11T00:00:00\",\"2007-04-12T00:00:00\",\"2007-04-13T00:00:00\",\"2007-04-14T00:00:00\",\"2007-04-15T00:00:00\",\"2007-04-16T00:00:00\",\"2007-04-17T00:00:00\",\"2007-04-18T00:00:00\",\"2007-04-19T00:00:00\",\"2007-04-20T00:00:00\",\"2007-04-21T00:00:00\",\"2007-04-22T00:00:00\",\"2007-04-23T00:00:00\",\"2007-04-24T00:00:00\",\"2007-04-25T00:00:00\",\"2007-04-26T00:00:00\",\"2007-04-27T00:00:00\",\"2007-04-28T00:00:00\",\"2007-04-29T00:00:00\",\"2007-04-30T00:00:00\",\"2007-05-01T00:00:00\",\"2007-05-02T00:00:00\",\"2007-05-03T00:00:00\",\"2007-05-04T00:00:00\",\"2007-05-05T00:00:00\",\"2007-05-06T00:00:00\",\"2007-05-07T00:00:00\",\"2007-05-08T00:00:00\",\"2007-05-09T00:00:00\",\"2007-05-10T00:00:00\",\"2007-05-11T00:00:00\",\"2007-05-12T00:00:00\",\"2007-05-13T00:00:00\",\"2007-05-14T00:00:00\",\"2007-05-15T00:00:00\",\"2007-05-16T00:00:00\",\"2007-05-17T00:00:00\",\"2007-05-18T00:00:00\",\"2007-05-19T00:00:00\",\"2007-05-20T00:00:00\",\"2007-05-21T00:00:00\",\"2007-05-22T00:00:00\",\"2007-05-23T00:00:00\",\"2007-05-24T00:00:00\",\"2007-05-25T00:00:00\",\"2007-05-26T00:00:00\",\"2007-05-27T00:00:00\",\"2007-05-28T00:00:00\",\"2007-05-29T00:00:00\",\"2007-05-30T00:00:00\",\"2007-05-31T00:00:00\",\"2007-06-01T00:00:00\",\"2007-06-02T00:00:00\",\"2007-06-03T00:00:00\",\"2007-06-04T00:00:00\",\"2007-06-05T00:00:00\",\"2007-06-06T00:00:00\",\"2007-06-07T00:00:00\",\"2007-06-08T00:00:00\",\"2007-06-09T00:00:00\",\"2007-06-10T00:00:00\",\"2007-06-11T00:00:00\",\"2007-06-12T00:00:00\",\"2007-06-13T00:00:00\",\"2007-06-14T00:00:00\",\"2007-06-15T00:00:00\",\"2007-06-16T00:00:00\",\"2007-06-17T00:00:00\",\"2007-06-18T00:00:00\",\"2007-06-19T00:00:00\",\"2007-06-20T00:00:00\",\"2007-06-21T00:00:00\",\"2007-06-22T00:00:00\",\"2007-06-23T00:00:00\",\"2007-06-24T00:00:00\",\"2007-06-25T00:00:00\",\"2007-06-26T00:00:00\",\"2007-06-27T00:00:00\",\"2007-06-28T00:00:00\",\"2007-06-29T00:00:00\",\"2007-06-30T00:00:00\",\"2007-07-01T00:00:00\",\"2007-07-02T00:00:00\",\"2007-07-03T00:00:00\",\"2007-07-04T00:00:00\",\"2007-07-05T00:00:00\",\"2007-07-06T00:00:00\",\"2007-07-07T00:00:00\",\"2007-07-08T00:00:00\",\"2007-07-09T00:00:00\",\"2007-07-10T00:00:00\",\"2007-07-11T00:00:00\",\"2007-07-12T00:00:00\",\"2007-07-13T00:00:00\",\"2007-07-14T00:00:00\",\"2007-07-15T00:00:00\",\"2007-07-16T00:00:00\",\"2007-07-17T00:00:00\",\"2007-07-18T00:00:00\",\"2007-07-19T00:00:00\",\"2007-07-20T00:00:00\",\"2007-07-21T00:00:00\",\"2007-07-22T00:00:00\",\"2007-07-23T00:00:00\",\"2007-07-24T00:00:00\",\"2007-07-25T00:00:00\",\"2007-07-26T00:00:00\",\"2007-07-27T00:00:00\",\"2007-07-28T00:00:00\",\"2007-07-29T00:00:00\",\"2007-07-30T00:00:00\",\"2007-07-31T00:00:00\",\"2007-08-01T00:00:00\",\"2007-08-02T00:00:00\",\"2007-08-03T00:00:00\",\"2007-08-04T00:00:00\",\"2007-08-05T00:00:00\",\"2007-08-06T00:00:00\",\"2007-08-07T00:00:00\",\"2007-08-08T00:00:00\",\"2007-08-09T00:00:00\",\"2007-08-10T00:00:00\",\"2007-08-11T00:00:00\",\"2007-08-12T00:00:00\",\"2007-08-13T00:00:00\",\"2007-08-14T00:00:00\",\"2007-08-15T00:00:00\",\"2007-08-16T00:00:00\",\"2007-08-17T00:00:00\",\"2007-08-18T00:00:00\",\"2007-08-19T00:00:00\",\"2007-08-20T00:00:00\",\"2007-08-21T00:00:00\",\"2007-08-22T00:00:00\",\"2007-08-23T00:00:00\",\"2007-08-24T00:00:00\",\"2007-08-25T00:00:00\",\"2007-08-26T00:00:00\",\"2007-08-27T00:00:00\",\"2007-08-28T00:00:00\",\"2007-08-29T00:00:00\",\"2007-08-30T00:00:00\",\"2007-08-31T00:00:00\",\"2007-09-01T00:00:00\",\"2007-09-02T00:00:00\",\"2007-09-03T00:00:00\",\"2007-09-04T00:00:00\",\"2007-09-05T00:00:00\",\"2007-09-06T00:00:00\",\"2007-09-07T00:00:00\",\"2007-09-08T00:00:00\",\"2007-09-09T00:00:00\",\"2007-09-10T00:00:00\",\"2007-09-11T00:00:00\",\"2007-09-12T00:00:00\",\"2007-09-13T00:00:00\",\"2007-09-14T00:00:00\",\"2007-09-15T00:00:00\",\"2007-09-16T00:00:00\",\"2007-09-17T00:00:00\",\"2007-09-18T00:00:00\",\"2007-09-19T00:00:00\",\"2007-09-20T00:00:00\",\"2007-09-21T00:00:00\",\"2007-09-22T00:00:00\",\"2007-09-23T00:00:00\",\"2007-09-24T00:00:00\",\"2007-09-25T00:00:00\",\"2007-09-26T00:00:00\",\"2007-09-27T00:00:00\",\"2007-09-28T00:00:00\",\"2007-09-29T00:00:00\",\"2007-09-30T00:00:00\",\"2007-10-01T00:00:00\",\"2007-10-02T00:00:00\",\"2007-10-03T00:00:00\",\"2007-10-04T00:00:00\",\"2007-10-05T00:00:00\",\"2007-10-06T00:00:00\",\"2007-10-07T00:00:00\",\"2007-10-08T00:00:00\",\"2007-10-09T00:00:00\",\"2007-10-10T00:00:00\",\"2007-10-11T00:00:00\",\"2007-10-12T00:00:00\",\"2007-10-13T00:00:00\",\"2007-10-14T00:00:00\",\"2007-10-15T00:00:00\",\"2007-10-16T00:00:00\",\"2007-10-17T00:00:00\",\"2007-10-18T00:00:00\",\"2007-10-19T00:00:00\",\"2007-10-20T00:00:00\",\"2007-10-21T00:00:00\",\"2007-10-22T00:00:00\",\"2007-10-23T00:00:00\",\"2007-10-24T00:00:00\",\"2007-10-25T00:00:00\",\"2007-10-26T00:00:00\",\"2007-10-27T00:00:00\",\"2007-10-28T00:00:00\",\"2007-10-29T00:00:00\",\"2007-10-30T00:00:00\",\"2007-10-31T00:00:00\",\"2007-11-01T00:00:00\",\"2007-11-02T00:00:00\",\"2007-11-03T00:00:00\",\"2007-11-04T00:00:00\",\"2007-11-05T00:00:00\",\"2007-11-06T00:00:00\",\"2007-11-07T00:00:00\",\"2007-11-08T00:00:00\",\"2007-11-09T00:00:00\",\"2007-11-10T00:00:00\",\"2007-11-11T00:00:00\",\"2007-11-12T00:00:00\",\"2007-11-13T00:00:00\",\"2007-11-14T00:00:00\",\"2007-11-15T00:00:00\",\"2007-11-16T00:00:00\",\"2007-11-17T00:00:00\",\"2007-11-18T00:00:00\",\"2007-11-19T00:00:00\",\"2007-11-20T00:00:00\",\"2007-11-21T00:00:00\",\"2007-11-22T00:00:00\",\"2007-11-23T00:00:00\",\"2007-11-24T00:00:00\",\"2007-11-25T00:00:00\",\"2007-11-26T00:00:00\",\"2007-11-27T00:00:00\",\"2007-11-28T00:00:00\",\"2007-11-29T00:00:00\",\"2007-11-30T00:00:00\",\"2007-12-01T00:00:00\",\"2007-12-02T00:00:00\",\"2007-12-03T00:00:00\",\"2007-12-04T00:00:00\",\"2007-12-05T00:00:00\",\"2007-12-06T00:00:00\",\"2007-12-07T00:00:00\",\"2007-12-08T00:00:00\",\"2007-12-09T00:00:00\",\"2007-12-10T00:00:00\",\"2007-12-11T00:00:00\",\"2007-12-12T00:00:00\",\"2007-12-13T00:00:00\",\"2007-12-14T00:00:00\",\"2007-12-15T00:00:00\",\"2007-12-16T00:00:00\",\"2007-12-17T00:00:00\",\"2007-12-18T00:00:00\",\"2007-12-19T00:00:00\",\"2007-12-20T00:00:00\",\"2007-12-21T00:00:00\",\"2007-12-22T00:00:00\",\"2007-12-23T00:00:00\",\"2007-12-24T00:00:00\",\"2007-12-25T00:00:00\",\"2007-12-26T00:00:00\",\"2007-12-27T00:00:00\",\"2007-12-28T00:00:00\",\"2007-12-29T00:00:00\",\"2007-12-30T00:00:00\",\"2007-12-31T00:00:00\",\"2008-01-01T00:00:00\",\"2008-01-02T00:00:00\",\"2008-01-03T00:00:00\",\"2008-01-04T00:00:00\",\"2008-01-05T00:00:00\",\"2008-01-06T00:00:00\",\"2008-01-07T00:00:00\",\"2008-01-08T00:00:00\",\"2008-01-09T00:00:00\",\"2008-01-10T00:00:00\",\"2008-01-11T00:00:00\",\"2008-01-12T00:00:00\",\"2008-01-13T00:00:00\",\"2008-01-14T00:00:00\",\"2008-01-15T00:00:00\",\"2008-01-16T00:00:00\",\"2008-01-17T00:00:00\",\"2008-01-18T00:00:00\",\"2008-01-19T00:00:00\",\"2008-01-20T00:00:00\",\"2008-01-21T00:00:00\",\"2008-01-22T00:00:00\",\"2008-01-23T00:00:00\",\"2008-01-24T00:00:00\",\"2008-01-25T00:00:00\",\"2008-01-26T00:00:00\",\"2008-01-27T00:00:00\",\"2008-01-28T00:00:00\",\"2008-01-29T00:00:00\",\"2008-01-30T00:00:00\",\"2008-01-31T00:00:00\",\"2008-02-01T00:00:00\",\"2008-02-02T00:00:00\",\"2008-02-03T00:00:00\",\"2008-02-04T00:00:00\",\"2008-02-05T00:00:00\",\"2008-02-06T00:00:00\",\"2008-02-07T00:00:00\",\"2008-02-08T00:00:00\",\"2008-02-09T00:00:00\",\"2008-02-10T00:00:00\",\"2008-02-11T00:00:00\",\"2008-02-12T00:00:00\",\"2008-02-13T00:00:00\",\"2008-02-14T00:00:00\",\"2008-02-15T00:00:00\",\"2008-02-16T00:00:00\",\"2008-02-17T00:00:00\",\"2008-02-18T00:00:00\",\"2008-02-19T00:00:00\",\"2008-02-20T00:00:00\",\"2008-02-21T00:00:00\",\"2008-02-22T00:00:00\",\"2008-02-23T00:00:00\",\"2008-02-24T00:00:00\",\"2008-02-25T00:00:00\",\"2008-02-26T00:00:00\",\"2008-02-27T00:00:00\",\"2008-02-28T00:00:00\",\"2008-02-29T00:00:00\",\"2008-03-01T00:00:00\",\"2008-03-02T00:00:00\",\"2008-03-03T00:00:00\",\"2008-03-04T00:00:00\",\"2008-03-05T00:00:00\",\"2008-03-06T00:00:00\",\"2008-03-07T00:00:00\",\"2008-03-08T00:00:00\",\"2008-03-09T00:00:00\",\"2008-03-10T00:00:00\",\"2008-03-11T00:00:00\",\"2008-03-12T00:00:00\",\"2008-03-13T00:00:00\",\"2008-03-14T00:00:00\",\"2008-03-15T00:00:00\",\"2008-03-16T00:00:00\",\"2008-03-17T00:00:00\",\"2008-03-18T00:00:00\",\"2008-03-19T00:00:00\",\"2008-03-20T00:00:00\",\"2008-03-21T00:00:00\",\"2008-03-22T00:00:00\",\"2008-03-23T00:00:00\",\"2008-03-24T00:00:00\",\"2008-03-25T00:00:00\",\"2008-03-26T00:00:00\",\"2008-03-27T00:00:00\",\"2008-03-28T00:00:00\",\"2008-03-29T00:00:00\",\"2008-03-30T00:00:00\",\"2008-03-31T00:00:00\",\"2008-04-01T00:00:00\",\"2008-04-02T00:00:00\",\"2008-04-03T00:00:00\",\"2008-04-04T00:00:00\",\"2008-04-05T00:00:00\",\"2008-04-06T00:00:00\",\"2008-04-07T00:00:00\",\"2008-04-08T00:00:00\",\"2008-04-09T00:00:00\",\"2008-04-10T00:00:00\",\"2008-04-11T00:00:00\",\"2008-04-12T00:00:00\",\"2008-04-13T00:00:00\",\"2008-04-14T00:00:00\",\"2008-04-15T00:00:00\",\"2008-04-16T00:00:00\",\"2008-04-17T00:00:00\",\"2008-04-18T00:00:00\",\"2008-04-19T00:00:00\",\"2008-04-20T00:00:00\",\"2008-04-21T00:00:00\",\"2008-04-22T00:00:00\",\"2008-04-23T00:00:00\",\"2008-04-24T00:00:00\",\"2008-04-25T00:00:00\",\"2008-04-26T00:00:00\",\"2008-04-27T00:00:00\",\"2008-04-28T00:00:00\",\"2008-04-29T00:00:00\",\"2008-04-30T00:00:00\",\"2008-05-01T00:00:00\",\"2008-05-02T00:00:00\",\"2008-05-03T00:00:00\",\"2008-05-04T00:00:00\",\"2008-05-05T00:00:00\",\"2008-05-06T00:00:00\",\"2008-05-07T00:00:00\",\"2008-05-08T00:00:00\",\"2008-05-09T00:00:00\",\"2008-05-10T00:00:00\",\"2008-05-11T00:00:00\",\"2008-05-12T00:00:00\",\"2008-05-13T00:00:00\",\"2008-05-14T00:00:00\",\"2008-05-15T00:00:00\",\"2008-05-16T00:00:00\",\"2008-05-17T00:00:00\",\"2008-05-18T00:00:00\",\"2008-05-19T00:00:00\",\"2008-05-20T00:00:00\",\"2008-05-21T00:00:00\",\"2008-05-22T00:00:00\",\"2008-05-23T00:00:00\",\"2008-05-24T00:00:00\",\"2008-05-25T00:00:00\",\"2008-05-26T00:00:00\",\"2008-05-27T00:00:00\",\"2008-05-28T00:00:00\",\"2008-05-29T00:00:00\",\"2008-05-30T00:00:00\",\"2008-05-31T00:00:00\",\"2008-06-01T00:00:00\",\"2008-06-02T00:00:00\",\"2008-06-03T00:00:00\",\"2008-06-04T00:00:00\",\"2008-06-05T00:00:00\",\"2008-06-06T00:00:00\",\"2008-06-07T00:00:00\",\"2008-06-08T00:00:00\",\"2008-06-09T00:00:00\",\"2008-06-10T00:00:00\",\"2008-06-11T00:00:00\",\"2008-06-12T00:00:00\",\"2008-06-13T00:00:00\",\"2008-06-14T00:00:00\",\"2008-06-15T00:00:00\",\"2008-06-16T00:00:00\",\"2008-06-17T00:00:00\",\"2008-06-18T00:00:00\",\"2008-06-19T00:00:00\",\"2008-06-20T00:00:00\",\"2008-06-21T00:00:00\",\"2008-06-22T00:00:00\",\"2008-06-23T00:00:00\",\"2008-06-24T00:00:00\",\"2008-06-25T00:00:00\",\"2008-06-26T00:00:00\",\"2008-06-27T00:00:00\",\"2008-06-28T00:00:00\",\"2008-06-29T00:00:00\",\"2008-06-30T00:00:00\",\"2008-07-01T00:00:00\",\"2008-07-02T00:00:00\",\"2008-07-03T00:00:00\",\"2008-07-04T00:00:00\",\"2008-07-05T00:00:00\",\"2008-07-06T00:00:00\",\"2008-07-07T00:00:00\",\"2008-07-08T00:00:00\",\"2008-07-09T00:00:00\",\"2008-07-10T00:00:00\",\"2008-07-11T00:00:00\",\"2008-07-12T00:00:00\",\"2008-07-13T00:00:00\",\"2008-07-14T00:00:00\",\"2008-07-15T00:00:00\",\"2008-07-16T00:00:00\",\"2008-07-17T00:00:00\",\"2008-07-18T00:00:00\",\"2008-07-19T00:00:00\",\"2008-07-20T00:00:00\",\"2008-07-21T00:00:00\",\"2008-07-22T00:00:00\",\"2008-07-23T00:00:00\",\"2008-07-24T00:00:00\",\"2008-07-25T00:00:00\",\"2008-07-26T00:00:00\",\"2008-07-27T00:00:00\",\"2008-07-28T00:00:00\",\"2008-07-29T00:00:00\",\"2008-07-30T00:00:00\",\"2008-07-31T00:00:00\",\"2008-08-01T00:00:00\",\"2008-08-02T00:00:00\",\"2008-08-03T00:00:00\",\"2008-08-04T00:00:00\",\"2008-08-05T00:00:00\",\"2008-08-06T00:00:00\",\"2008-08-07T00:00:00\",\"2008-08-08T00:00:00\",\"2008-08-09T00:00:00\",\"2008-08-10T00:00:00\",\"2008-08-11T00:00:00\",\"2008-08-12T00:00:00\",\"2008-08-13T00:00:00\",\"2008-08-14T00:00:00\",\"2008-08-15T00:00:00\",\"2008-08-16T00:00:00\",\"2008-08-17T00:00:00\",\"2008-08-18T00:00:00\",\"2008-08-19T00:00:00\",\"2008-08-20T00:00:00\",\"2008-08-21T00:00:00\",\"2008-08-22T00:00:00\",\"2008-08-23T00:00:00\",\"2008-08-24T00:00:00\",\"2008-08-25T00:00:00\",\"2008-08-26T00:00:00\",\"2008-08-27T00:00:00\",\"2008-08-28T00:00:00\",\"2008-08-29T00:00:00\",\"2008-08-30T00:00:00\",\"2008-08-31T00:00:00\",\"2008-09-01T00:00:00\",\"2008-09-02T00:00:00\",\"2008-09-03T00:00:00\",\"2008-09-04T00:00:00\",\"2008-09-05T00:00:00\",\"2008-09-06T00:00:00\",\"2008-09-07T00:00:00\",\"2008-09-08T00:00:00\",\"2008-09-09T00:00:00\",\"2008-09-10T00:00:00\",\"2008-09-11T00:00:00\",\"2008-09-12T00:00:00\",\"2008-09-13T00:00:00\",\"2008-09-14T00:00:00\",\"2008-09-15T00:00:00\",\"2008-09-16T00:00:00\",\"2008-09-17T00:00:00\",\"2008-09-18T00:00:00\",\"2008-09-19T00:00:00\",\"2008-09-20T00:00:00\",\"2008-09-21T00:00:00\",\"2008-09-22T00:00:00\",\"2008-09-23T00:00:00\",\"2008-09-24T00:00:00\",\"2008-09-25T00:00:00\",\"2008-09-26T00:00:00\",\"2008-09-27T00:00:00\",\"2008-09-28T00:00:00\",\"2008-09-29T00:00:00\",\"2008-09-30T00:00:00\",\"2008-10-01T00:00:00\",\"2008-10-02T00:00:00\",\"2008-10-03T00:00:00\",\"2008-10-04T00:00:00\",\"2008-10-05T00:00:00\",\"2008-10-06T00:00:00\",\"2008-10-07T00:00:00\",\"2008-10-08T00:00:00\",\"2008-10-09T00:00:00\",\"2008-10-10T00:00:00\",\"2008-10-11T00:00:00\",\"2008-10-12T00:00:00\",\"2008-10-13T00:00:00\",\"2008-10-14T00:00:00\",\"2008-10-15T00:00:00\",\"2008-10-16T00:00:00\",\"2008-10-17T00:00:00\",\"2008-10-18T00:00:00\",\"2008-10-19T00:00:00\",\"2008-10-20T00:00:00\",\"2008-10-21T00:00:00\",\"2008-10-22T00:00:00\",\"2008-10-23T00:00:00\",\"2008-10-24T00:00:00\",\"2008-10-25T00:00:00\",\"2008-10-26T00:00:00\",\"2008-10-27T00:00:00\",\"2008-10-28T00:00:00\",\"2008-10-29T00:00:00\",\"2008-10-30T00:00:00\",\"2008-10-31T00:00:00\",\"2008-11-01T00:00:00\",\"2008-11-02T00:00:00\",\"2008-11-03T00:00:00\",\"2008-11-04T00:00:00\",\"2008-11-05T00:00:00\",\"2008-11-06T00:00:00\",\"2008-11-07T00:00:00\",\"2008-11-08T00:00:00\",\"2008-11-09T00:00:00\",\"2008-11-10T00:00:00\",\"2008-11-11T00:00:00\",\"2008-11-12T00:00:00\",\"2008-11-13T00:00:00\",\"2008-11-14T00:00:00\",\"2008-11-15T00:00:00\",\"2008-11-16T00:00:00\",\"2008-11-17T00:00:00\",\"2008-11-18T00:00:00\",\"2008-11-19T00:00:00\",\"2008-11-20T00:00:00\",\"2008-11-21T00:00:00\",\"2008-11-22T00:00:00\",\"2008-11-23T00:00:00\",\"2008-11-24T00:00:00\",\"2008-11-25T00:00:00\",\"2008-11-26T00:00:00\",\"2008-11-27T00:00:00\",\"2008-11-28T00:00:00\",\"2008-11-29T00:00:00\",\"2008-11-30T00:00:00\",\"2008-12-01T00:00:00\",\"2008-12-02T00:00:00\",\"2008-12-03T00:00:00\",\"2008-12-04T00:00:00\",\"2008-12-05T00:00:00\",\"2008-12-06T00:00:00\",\"2008-12-07T00:00:00\",\"2008-12-08T00:00:00\",\"2008-12-09T00:00:00\",\"2008-12-10T00:00:00\",\"2008-12-11T00:00:00\",\"2008-12-12T00:00:00\",\"2008-12-13T00:00:00\",\"2008-12-14T00:00:00\",\"2008-12-15T00:00:00\",\"2008-12-16T00:00:00\",\"2008-12-17T00:00:00\",\"2008-12-18T00:00:00\",\"2008-12-19T00:00:00\",\"2008-12-20T00:00:00\",\"2008-12-21T00:00:00\",\"2008-12-22T00:00:00\",\"2008-12-23T00:00:00\",\"2008-12-24T00:00:00\",\"2008-12-25T00:00:00\",\"2008-12-26T00:00:00\",\"2008-12-27T00:00:00\",\"2008-12-28T00:00:00\",\"2008-12-29T00:00:00\",\"2008-12-30T00:00:00\",\"2008-12-31T00:00:00\",\"2009-01-01T00:00:00\",\"2009-01-02T00:00:00\",\"2009-01-03T00:00:00\",\"2009-01-04T00:00:00\",\"2009-01-05T00:00:00\",\"2009-01-06T00:00:00\",\"2009-01-07T00:00:00\",\"2009-01-08T00:00:00\",\"2009-01-09T00:00:00\",\"2009-01-10T00:00:00\",\"2009-01-11T00:00:00\",\"2009-01-12T00:00:00\",\"2009-01-13T00:00:00\",\"2009-01-14T00:00:00\",\"2009-01-15T00:00:00\",\"2009-01-16T00:00:00\",\"2009-01-17T00:00:00\",\"2009-01-18T00:00:00\",\"2009-01-19T00:00:00\",\"2009-01-20T00:00:00\",\"2009-01-21T00:00:00\",\"2009-01-22T00:00:00\",\"2009-01-23T00:00:00\",\"2009-01-24T00:00:00\",\"2009-01-25T00:00:00\",\"2009-01-26T00:00:00\",\"2009-01-27T00:00:00\",\"2009-01-28T00:00:00\",\"2009-01-29T00:00:00\",\"2009-01-30T00:00:00\",\"2009-01-31T00:00:00\",\"2009-02-01T00:00:00\",\"2009-02-02T00:00:00\",\"2009-02-03T00:00:00\",\"2009-02-04T00:00:00\",\"2009-02-05T00:00:00\",\"2009-02-06T00:00:00\",\"2009-02-07T00:00:00\",\"2009-02-08T00:00:00\",\"2009-02-09T00:00:00\",\"2009-02-10T00:00:00\",\"2009-02-11T00:00:00\",\"2009-02-12T00:00:00\",\"2009-02-13T00:00:00\",\"2009-02-14T00:00:00\",\"2009-02-15T00:00:00\",\"2009-02-16T00:00:00\",\"2009-02-17T00:00:00\",\"2009-02-18T00:00:00\",\"2009-02-19T00:00:00\",\"2009-02-20T00:00:00\",\"2009-02-21T00:00:00\",\"2009-02-22T00:00:00\",\"2009-02-23T00:00:00\",\"2009-02-24T00:00:00\",\"2009-02-25T00:00:00\",\"2009-02-26T00:00:00\",\"2009-02-27T00:00:00\",\"2009-02-28T00:00:00\",\"2009-03-01T00:00:00\",\"2009-03-02T00:00:00\",\"2009-03-03T00:00:00\",\"2009-03-04T00:00:00\",\"2009-03-05T00:00:00\",\"2009-03-06T00:00:00\",\"2009-03-07T00:00:00\",\"2009-03-08T00:00:00\",\"2009-03-09T00:00:00\",\"2009-03-10T00:00:00\",\"2009-03-11T00:00:00\",\"2009-03-12T00:00:00\",\"2009-03-13T00:00:00\",\"2009-03-14T00:00:00\",\"2009-03-15T00:00:00\",\"2009-03-16T00:00:00\",\"2009-03-17T00:00:00\",\"2009-03-18T00:00:00\",\"2009-03-19T00:00:00\",\"2009-03-20T00:00:00\",\"2009-03-21T00:00:00\",\"2009-03-22T00:00:00\",\"2009-03-23T00:00:00\",\"2009-03-24T00:00:00\",\"2009-03-25T00:00:00\",\"2009-03-26T00:00:00\",\"2009-03-27T00:00:00\",\"2009-03-28T00:00:00\",\"2009-03-29T00:00:00\",\"2009-03-30T00:00:00\",\"2009-03-31T00:00:00\",\"2009-04-01T00:00:00\",\"2009-04-02T00:00:00\",\"2009-04-03T00:00:00\",\"2009-04-04T00:00:00\",\"2009-04-05T00:00:00\",\"2009-04-06T00:00:00\",\"2009-04-07T00:00:00\",\"2009-04-08T00:00:00\",\"2009-04-09T00:00:00\",\"2009-04-10T00:00:00\",\"2009-04-11T00:00:00\",\"2009-04-12T00:00:00\",\"2009-04-13T00:00:00\",\"2009-04-14T00:00:00\",\"2009-04-15T00:00:00\",\"2009-04-16T00:00:00\",\"2009-04-17T00:00:00\",\"2009-04-18T00:00:00\",\"2009-04-19T00:00:00\",\"2009-04-20T00:00:00\",\"2009-04-21T00:00:00\",\"2009-04-22T00:00:00\",\"2009-04-23T00:00:00\",\"2009-04-24T00:00:00\",\"2009-04-25T00:00:00\",\"2009-04-26T00:00:00\",\"2009-04-27T00:00:00\",\"2009-04-28T00:00:00\",\"2009-04-29T00:00:00\",\"2009-04-30T00:00:00\",\"2009-05-01T00:00:00\",\"2009-05-02T00:00:00\",\"2009-05-03T00:00:00\",\"2009-05-04T00:00:00\",\"2009-05-05T00:00:00\",\"2009-05-06T00:00:00\",\"2009-05-07T00:00:00\",\"2009-05-08T00:00:00\",\"2009-05-09T00:00:00\",\"2009-05-10T00:00:00\",\"2009-05-11T00:00:00\",\"2009-05-12T00:00:00\",\"2009-05-13T00:00:00\",\"2009-05-14T00:00:00\",\"2009-05-15T00:00:00\",\"2009-05-16T00:00:00\",\"2009-05-17T00:00:00\",\"2009-05-18T00:00:00\",\"2009-05-19T00:00:00\",\"2009-05-20T00:00:00\",\"2009-05-21T00:00:00\",\"2009-05-22T00:00:00\",\"2009-05-23T00:00:00\",\"2009-05-24T00:00:00\",\"2009-05-25T00:00:00\",\"2009-05-26T00:00:00\",\"2009-05-27T00:00:00\",\"2009-05-28T00:00:00\",\"2009-05-29T00:00:00\",\"2009-05-30T00:00:00\",\"2009-05-31T00:00:00\",\"2009-06-01T00:00:00\",\"2009-06-02T00:00:00\",\"2009-06-03T00:00:00\",\"2009-06-04T00:00:00\",\"2009-06-05T00:00:00\",\"2009-06-06T00:00:00\",\"2009-06-07T00:00:00\",\"2009-06-08T00:00:00\",\"2009-06-09T00:00:00\",\"2009-06-10T00:00:00\",\"2009-06-11T00:00:00\",\"2009-06-12T00:00:00\",\"2009-06-13T00:00:00\",\"2009-06-14T00:00:00\",\"2009-06-15T00:00:00\",\"2009-06-16T00:00:00\",\"2009-06-17T00:00:00\",\"2009-06-18T00:00:00\",\"2009-06-19T00:00:00\",\"2009-06-20T00:00:00\",\"2009-06-21T00:00:00\",\"2009-06-22T00:00:00\",\"2009-06-23T00:00:00\",\"2009-06-24T00:00:00\",\"2009-06-25T00:00:00\",\"2009-06-26T00:00:00\",\"2009-06-27T00:00:00\",\"2009-06-28T00:00:00\",\"2009-06-29T00:00:00\",\"2009-06-30T00:00:00\",\"2009-07-01T00:00:00\",\"2009-07-02T00:00:00\",\"2009-07-03T00:00:00\",\"2009-07-04T00:00:00\",\"2009-07-05T00:00:00\",\"2009-07-06T00:00:00\",\"2009-07-07T00:00:00\",\"2009-07-08T00:00:00\",\"2009-07-09T00:00:00\",\"2009-07-10T00:00:00\",\"2009-07-11T00:00:00\",\"2009-07-12T00:00:00\",\"2009-07-13T00:00:00\",\"2009-07-14T00:00:00\",\"2009-07-15T00:00:00\",\"2009-07-16T00:00:00\",\"2009-07-17T00:00:00\",\"2009-07-18T00:00:00\",\"2009-07-19T00:00:00\",\"2009-07-20T00:00:00\",\"2009-07-21T00:00:00\",\"2009-07-22T00:00:00\",\"2009-07-23T00:00:00\",\"2009-07-24T00:00:00\",\"2009-07-25T00:00:00\",\"2009-07-26T00:00:00\",\"2009-07-27T00:00:00\",\"2009-07-28T00:00:00\",\"2009-07-29T00:00:00\",\"2009-07-30T00:00:00\",\"2009-07-31T00:00:00\",\"2009-08-01T00:00:00\",\"2009-08-02T00:00:00\",\"2009-08-03T00:00:00\",\"2009-08-04T00:00:00\",\"2009-08-05T00:00:00\",\"2009-08-06T00:00:00\",\"2009-08-07T00:00:00\",\"2009-08-08T00:00:00\",\"2009-08-09T00:00:00\",\"2009-08-10T00:00:00\",\"2009-08-11T00:00:00\",\"2009-08-12T00:00:00\",\"2009-08-13T00:00:00\",\"2009-08-14T00:00:00\",\"2009-08-15T00:00:00\",\"2009-08-16T00:00:00\",\"2009-08-17T00:00:00\",\"2009-08-18T00:00:00\",\"2009-08-19T00:00:00\",\"2009-08-20T00:00:00\",\"2009-08-21T00:00:00\",\"2009-08-22T00:00:00\",\"2009-08-23T00:00:00\",\"2009-08-24T00:00:00\",\"2009-08-25T00:00:00\",\"2009-08-26T00:00:00\",\"2009-08-27T00:00:00\",\"2009-08-28T00:00:00\",\"2009-08-29T00:00:00\",\"2009-08-30T00:00:00\",\"2009-08-31T00:00:00\",\"2009-09-01T00:00:00\",\"2009-09-02T00:00:00\",\"2009-09-03T00:00:00\",\"2009-09-04T00:00:00\",\"2009-09-05T00:00:00\",\"2009-09-06T00:00:00\",\"2009-09-07T00:00:00\",\"2009-09-08T00:00:00\",\"2009-09-09T00:00:00\",\"2009-09-10T00:00:00\",\"2009-09-11T00:00:00\",\"2009-09-12T00:00:00\",\"2009-09-13T00:00:00\",\"2009-09-14T00:00:00\",\"2009-09-15T00:00:00\",\"2009-09-16T00:00:00\",\"2009-09-17T00:00:00\",\"2009-09-18T00:00:00\",\"2009-09-19T00:00:00\",\"2009-09-20T00:00:00\",\"2009-09-21T00:00:00\",\"2009-09-22T00:00:00\",\"2009-09-23T00:00:00\",\"2009-09-24T00:00:00\",\"2009-09-25T00:00:00\",\"2009-09-26T00:00:00\",\"2009-09-27T00:00:00\",\"2009-09-28T00:00:00\",\"2009-09-29T00:00:00\",\"2009-09-30T00:00:00\",\"2009-10-01T00:00:00\",\"2009-10-02T00:00:00\",\"2009-10-03T00:00:00\",\"2009-10-04T00:00:00\",\"2009-10-05T00:00:00\",\"2009-10-06T00:00:00\",\"2009-10-07T00:00:00\",\"2009-10-08T00:00:00\",\"2009-10-09T00:00:00\",\"2009-10-10T00:00:00\",\"2009-10-11T00:00:00\",\"2009-10-12T00:00:00\",\"2009-10-13T00:00:00\",\"2009-10-14T00:00:00\",\"2009-10-15T00:00:00\",\"2009-10-16T00:00:00\",\"2009-10-17T00:00:00\",\"2009-10-18T00:00:00\",\"2009-10-19T00:00:00\",\"2009-10-20T00:00:00\",\"2009-10-21T00:00:00\",\"2009-10-22T00:00:00\",\"2009-10-23T00:00:00\",\"2009-10-24T00:00:00\",\"2009-10-25T00:00:00\",\"2009-10-26T00:00:00\",\"2009-10-27T00:00:00\",\"2009-10-28T00:00:00\",\"2009-10-29T00:00:00\",\"2009-10-30T00:00:00\",\"2009-10-31T00:00:00\",\"2009-11-01T00:00:00\",\"2009-11-02T00:00:00\",\"2009-11-03T00:00:00\",\"2009-11-04T00:00:00\",\"2009-11-05T00:00:00\",\"2009-11-06T00:00:00\",\"2009-11-07T00:00:00\",\"2009-11-08T00:00:00\",\"2009-11-09T00:00:00\",\"2009-11-10T00:00:00\",\"2009-11-11T00:00:00\",\"2009-11-12T00:00:00\",\"2009-11-13T00:00:00\",\"2009-11-14T00:00:00\",\"2009-11-15T00:00:00\",\"2009-11-16T00:00:00\",\"2009-11-17T00:00:00\",\"2009-11-18T00:00:00\",\"2009-11-19T00:00:00\",\"2009-11-20T00:00:00\",\"2009-11-21T00:00:00\",\"2009-11-22T00:00:00\",\"2009-11-23T00:00:00\",\"2009-11-24T00:00:00\",\"2009-11-25T00:00:00\",\"2009-11-26T00:00:00\",\"2009-11-27T00:00:00\",\"2009-11-28T00:00:00\",\"2009-11-29T00:00:00\",\"2009-11-30T00:00:00\",\"2009-12-01T00:00:00\",\"2009-12-02T00:00:00\",\"2009-12-03T00:00:00\",\"2009-12-04T00:00:00\",\"2009-12-05T00:00:00\",\"2009-12-06T00:00:00\",\"2009-12-07T00:00:00\",\"2009-12-08T00:00:00\",\"2009-12-09T00:00:00\",\"2009-12-10T00:00:00\",\"2009-12-11T00:00:00\",\"2009-12-12T00:00:00\",\"2009-12-13T00:00:00\",\"2009-12-14T00:00:00\",\"2009-12-15T00:00:00\",\"2009-12-16T00:00:00\",\"2009-12-17T00:00:00\",\"2009-12-18T00:00:00\",\"2009-12-19T00:00:00\",\"2009-12-20T00:00:00\",\"2009-12-21T00:00:00\",\"2009-12-22T00:00:00\",\"2009-12-23T00:00:00\",\"2009-12-24T00:00:00\",\"2009-12-25T00:00:00\",\"2009-12-26T00:00:00\",\"2009-12-27T00:00:00\",\"2009-12-28T00:00:00\",\"2009-12-29T00:00:00\",\"2009-12-30T00:00:00\",\"2009-12-31T00:00:00\",\"2010-01-01T00:00:00\",\"2010-01-02T00:00:00\",\"2010-01-03T00:00:00\",\"2010-01-04T00:00:00\",\"2010-01-05T00:00:00\",\"2010-01-06T00:00:00\",\"2010-01-07T00:00:00\",\"2010-01-08T00:00:00\",\"2010-01-09T00:00:00\",\"2010-01-10T00:00:00\",\"2010-01-11T00:00:00\",\"2010-01-12T00:00:00\",\"2010-01-13T00:00:00\",\"2010-01-14T00:00:00\",\"2010-01-15T00:00:00\",\"2010-01-16T00:00:00\",\"2010-01-17T00:00:00\",\"2010-01-18T00:00:00\",\"2010-01-19T00:00:00\",\"2010-01-20T00:00:00\",\"2010-01-21T00:00:00\",\"2010-01-22T00:00:00\",\"2010-01-23T00:00:00\",\"2010-01-24T00:00:00\",\"2010-01-25T00:00:00\",\"2010-01-26T00:00:00\",\"2010-01-27T00:00:00\",\"2010-01-28T00:00:00\",\"2010-01-29T00:00:00\",\"2010-01-30T00:00:00\",\"2010-01-31T00:00:00\",\"2010-02-01T00:00:00\",\"2010-02-02T00:00:00\",\"2010-02-03T00:00:00\",\"2010-02-04T00:00:00\",\"2010-02-05T00:00:00\",\"2010-02-06T00:00:00\",\"2010-02-07T00:00:00\",\"2010-02-08T00:00:00\",\"2010-02-09T00:00:00\",\"2010-02-10T00:00:00\",\"2010-02-11T00:00:00\",\"2010-02-12T00:00:00\",\"2010-02-13T00:00:00\",\"2010-02-14T00:00:00\",\"2010-02-15T00:00:00\",\"2010-02-16T00:00:00\",\"2010-02-17T00:00:00\",\"2010-02-18T00:00:00\",\"2010-02-19T00:00:00\",\"2010-02-20T00:00:00\",\"2010-02-21T00:00:00\",\"2010-02-22T00:00:00\",\"2010-02-23T00:00:00\",\"2010-02-24T00:00:00\",\"2010-02-25T00:00:00\",\"2010-02-26T00:00:00\",\"2010-02-27T00:00:00\",\"2010-02-28T00:00:00\",\"2010-03-01T00:00:00\",\"2010-03-02T00:00:00\",\"2010-03-03T00:00:00\",\"2010-03-04T00:00:00\",\"2010-03-05T00:00:00\",\"2010-03-06T00:00:00\",\"2010-03-07T00:00:00\",\"2010-03-08T00:00:00\",\"2010-03-09T00:00:00\",\"2010-03-10T00:00:00\",\"2010-03-11T00:00:00\",\"2010-03-12T00:00:00\",\"2010-03-13T00:00:00\",\"2010-03-14T00:00:00\",\"2010-03-15T00:00:00\",\"2010-03-16T00:00:00\",\"2010-03-17T00:00:00\",\"2010-03-18T00:00:00\",\"2010-03-19T00:00:00\",\"2010-03-20T00:00:00\",\"2010-03-21T00:00:00\",\"2010-03-22T00:00:00\",\"2010-03-23T00:00:00\",\"2010-03-24T00:00:00\",\"2010-03-25T00:00:00\",\"2010-03-26T00:00:00\",\"2010-03-27T00:00:00\",\"2010-03-28T00:00:00\",\"2010-03-29T00:00:00\",\"2010-03-30T00:00:00\",\"2010-03-31T00:00:00\",\"2010-04-01T00:00:00\",\"2010-04-02T00:00:00\",\"2010-04-03T00:00:00\",\"2010-04-04T00:00:00\",\"2010-04-05T00:00:00\",\"2010-04-06T00:00:00\",\"2010-04-07T00:00:00\",\"2010-04-08T00:00:00\",\"2010-04-09T00:00:00\",\"2010-04-10T00:00:00\",\"2010-04-11T00:00:00\",\"2010-04-12T00:00:00\",\"2010-04-13T00:00:00\",\"2010-04-14T00:00:00\",\"2010-04-15T00:00:00\",\"2010-04-16T00:00:00\",\"2010-04-17T00:00:00\",\"2010-04-18T00:00:00\",\"2010-04-19T00:00:00\",\"2010-04-20T00:00:00\",\"2010-04-21T00:00:00\",\"2010-04-22T00:00:00\",\"2010-04-23T00:00:00\",\"2010-04-24T00:00:00\",\"2010-04-25T00:00:00\",\"2010-04-26T00:00:00\",\"2010-04-27T00:00:00\",\"2010-04-28T00:00:00\",\"2010-04-29T00:00:00\",\"2010-04-30T00:00:00\",\"2010-05-01T00:00:00\",\"2010-05-02T00:00:00\",\"2010-05-03T00:00:00\",\"2010-05-04T00:00:00\",\"2010-05-05T00:00:00\",\"2010-05-06T00:00:00\",\"2010-05-07T00:00:00\",\"2010-05-08T00:00:00\",\"2010-05-09T00:00:00\",\"2010-05-10T00:00:00\",\"2010-05-11T00:00:00\",\"2010-05-12T00:00:00\",\"2010-05-13T00:00:00\",\"2010-05-14T00:00:00\",\"2010-05-15T00:00:00\",\"2010-05-16T00:00:00\",\"2010-05-17T00:00:00\",\"2010-05-18T00:00:00\",\"2010-05-19T00:00:00\",\"2010-05-20T00:00:00\",\"2010-05-21T00:00:00\",\"2010-05-22T00:00:00\",\"2010-05-23T00:00:00\",\"2010-05-24T00:00:00\",\"2010-05-25T00:00:00\",\"2010-05-26T00:00:00\",\"2010-05-27T00:00:00\",\"2010-05-28T00:00:00\",\"2010-05-29T00:00:00\",\"2010-05-30T00:00:00\",\"2010-05-31T00:00:00\",\"2010-06-01T00:00:00\",\"2010-06-02T00:00:00\",\"2010-06-03T00:00:00\",\"2010-06-04T00:00:00\",\"2010-06-05T00:00:00\",\"2010-06-06T00:00:00\",\"2010-06-07T00:00:00\",\"2010-06-08T00:00:00\",\"2010-06-09T00:00:00\",\"2010-06-10T00:00:00\",\"2010-06-11T00:00:00\",\"2010-06-12T00:00:00\",\"2010-06-13T00:00:00\",\"2010-06-14T00:00:00\",\"2010-06-15T00:00:00\",\"2010-06-16T00:00:00\",\"2010-06-17T00:00:00\",\"2010-06-18T00:00:00\",\"2010-06-19T00:00:00\",\"2010-06-20T00:00:00\",\"2010-06-21T00:00:00\",\"2010-06-22T00:00:00\",\"2010-06-23T00:00:00\",\"2010-06-24T00:00:00\",\"2010-06-25T00:00:00\",\"2010-06-26T00:00:00\",\"2010-06-27T00:00:00\",\"2010-06-28T00:00:00\",\"2010-06-29T00:00:00\",\"2010-06-30T00:00:00\",\"2010-07-01T00:00:00\",\"2010-07-02T00:00:00\",\"2010-07-03T00:00:00\",\"2010-07-04T00:00:00\",\"2010-07-05T00:00:00\",\"2010-07-06T00:00:00\",\"2010-07-07T00:00:00\",\"2010-07-08T00:00:00\",\"2010-07-09T00:00:00\",\"2010-07-10T00:00:00\",\"2010-07-11T00:00:00\",\"2010-07-12T00:00:00\",\"2010-07-13T00:00:00\",\"2010-07-14T00:00:00\",\"2010-07-15T00:00:00\",\"2010-07-16T00:00:00\",\"2010-07-17T00:00:00\",\"2010-07-18T00:00:00\",\"2010-07-19T00:00:00\",\"2010-07-20T00:00:00\",\"2010-07-21T00:00:00\",\"2010-07-22T00:00:00\",\"2010-07-23T00:00:00\",\"2010-07-24T00:00:00\",\"2010-07-25T00:00:00\",\"2010-07-26T00:00:00\",\"2010-07-27T00:00:00\",\"2010-07-28T00:00:00\",\"2010-07-29T00:00:00\",\"2010-07-30T00:00:00\",\"2010-07-31T00:00:00\",\"2010-08-01T00:00:00\",\"2010-08-02T00:00:00\",\"2010-08-03T00:00:00\",\"2010-08-04T00:00:00\",\"2010-08-05T00:00:00\",\"2010-08-06T00:00:00\",\"2010-08-07T00:00:00\",\"2010-08-08T00:00:00\",\"2010-08-09T00:00:00\",\"2010-08-10T00:00:00\",\"2010-08-11T00:00:00\",\"2010-08-12T00:00:00\",\"2010-08-13T00:00:00\",\"2010-08-14T00:00:00\",\"2010-08-15T00:00:00\",\"2010-08-16T00:00:00\",\"2010-08-17T00:00:00\",\"2010-08-18T00:00:00\",\"2010-08-19T00:00:00\",\"2010-08-20T00:00:00\",\"2010-08-21T00:00:00\",\"2010-08-22T00:00:00\",\"2010-08-23T00:00:00\",\"2010-08-24T00:00:00\",\"2010-08-25T00:00:00\",\"2010-08-26T00:00:00\",\"2010-08-27T00:00:00\",\"2010-08-28T00:00:00\",\"2010-08-29T00:00:00\",\"2010-08-30T00:00:00\",\"2010-08-31T00:00:00\",\"2010-09-01T00:00:00\",\"2010-09-02T00:00:00\",\"2010-09-03T00:00:00\",\"2010-09-04T00:00:00\",\"2010-09-05T00:00:00\",\"2010-09-06T00:00:00\",\"2010-09-07T00:00:00\",\"2010-09-08T00:00:00\",\"2010-09-09T00:00:00\",\"2010-09-10T00:00:00\",\"2010-09-11T00:00:00\",\"2010-09-12T00:00:00\",\"2010-09-13T00:00:00\",\"2010-09-14T00:00:00\",\"2010-09-15T00:00:00\",\"2010-09-16T00:00:00\",\"2010-09-17T00:00:00\",\"2010-09-18T00:00:00\",\"2010-09-19T00:00:00\",\"2010-09-20T00:00:00\",\"2010-09-21T00:00:00\",\"2010-09-22T00:00:00\",\"2010-09-23T00:00:00\",\"2010-09-24T00:00:00\",\"2010-09-25T00:00:00\",\"2010-09-26T00:00:00\",\"2010-09-27T00:00:00\",\"2010-09-28T00:00:00\",\"2010-09-29T00:00:00\",\"2010-09-30T00:00:00\",\"2010-10-01T00:00:00\",\"2010-10-02T00:00:00\",\"2010-10-03T00:00:00\",\"2010-10-04T00:00:00\",\"2010-10-05T00:00:00\",\"2010-10-06T00:00:00\",\"2010-10-07T00:00:00\",\"2010-10-08T00:00:00\",\"2010-10-09T00:00:00\",\"2010-10-10T00:00:00\",\"2010-10-11T00:00:00\",\"2010-10-12T00:00:00\",\"2010-10-13T00:00:00\",\"2010-10-14T00:00:00\",\"2010-10-15T00:00:00\",\"2010-10-16T00:00:00\",\"2010-10-17T00:00:00\",\"2010-10-18T00:00:00\",\"2010-10-19T00:00:00\",\"2010-10-20T00:00:00\",\"2010-10-21T00:00:00\",\"2010-10-22T00:00:00\",\"2010-10-23T00:00:00\",\"2010-10-24T00:00:00\",\"2010-10-25T00:00:00\",\"2010-10-26T00:00:00\",\"2010-10-27T00:00:00\",\"2010-10-28T00:00:00\",\"2010-10-29T00:00:00\",\"2010-10-30T00:00:00\",\"2010-10-31T00:00:00\",\"2010-11-01T00:00:00\",\"2010-11-02T00:00:00\",\"2010-11-03T00:00:00\",\"2010-11-04T00:00:00\",\"2010-11-05T00:00:00\",\"2010-11-06T00:00:00\",\"2010-11-07T00:00:00\",\"2010-11-08T00:00:00\",\"2010-11-09T00:00:00\",\"2010-11-10T00:00:00\",\"2010-11-11T00:00:00\",\"2010-11-12T00:00:00\",\"2010-11-13T00:00:00\",\"2010-11-14T00:00:00\",\"2010-11-15T00:00:00\",\"2010-11-16T00:00:00\",\"2010-11-17T00:00:00\",\"2010-11-18T00:00:00\",\"2010-11-19T00:00:00\",\"2010-11-20T00:00:00\",\"2010-11-21T00:00:00\",\"2010-11-22T00:00:00\",\"2010-11-23T00:00:00\",\"2010-11-24T00:00:00\",\"2010-11-25T00:00:00\",\"2010-11-26T00:00:00\"],\"xaxis\":\"x\",\"y\":[12.43939393939394,9.264583333333333,9.734722222222222,4.303472222222222,9.765972222222222,7.245775621329334,7.729861111111111,10.22638888888889,4.785416666666666,4.024305555555555,10.402083333333334,4.844444444444444,6.372222222222222,7.867361111111111,8.675636732440445,4.5152777777777775,4.083333333333333,4.5569444444444445,3.3090277777777777,7.566666666666666,5.279166666666667,3.9430555555555555,8.895833333333334,12.185416666666667,6.798611111111111,7.647222222222222,8.621527777777779,5.747222222222222,7.875694444444444,9.014901699553556,10.529861111111112,4.571527777777778,11.155555555555555,9.36875,4.980555555555555,7.944444444444445,8.05486111111111,7.889583333333333,3.5145833333333334,8.155555555555555,7.804861111111111,5.720833333333333,8.593055555555555,8.369068366220223,10.593055555555555,5.659027777777778,10.452777777777778,9.128472222222221,7.873611111111111,12.384722222222223,10.05,5.450694444444444,3.1368055555555556,8.323611111111111,7.053472222222222,6.784722222222222,10.003472222222221,9.106944444444444,7.997916666666667,4.344444444444444,8.040972222222223,9.741666666666667,6.034027777777778,4.970138888888889,9.11736111111111,9.086805555555555,6.745138888888889,8.019444444444444,8.516608954662667,7.490277777777778,2.473611111111111,1.1527777777777777,1.9652777777777777,1.336111111111111,1.3701388888888888,1.375,1.367361111111111,3.192361111111111,6.533333333333333,6.9625,3.263888888888889,10.772916666666667,4.621527777777778,5.99375,7.624305555555556,6.597222222222222,8.578472222222222,3.696527777777778,5.977083333333334,7.663888888888889,3.7291666666666665,8.524305555555555,4.066666666666666,9.804166666666667,7.815972222222222,8.565972222222221,7.2652777777777775,5.811805555555556,11.376388888888888,6.503096143998001,6.316666666666666,2.567361111111111,9.644444444444444,7.447222222222222,5.70625,12.279166666666667,13.547916666666667,11.55625,5.303472222222222,10.241666666666667,7.307638888888889,6.365277777777778,4.113194444444445,2.4618055555555554,2.6395833333333334,1.7861111111111112,4.459027777777778,1.2625,1.3805555555555555,1.3944444444444444,2.009027777777778,3.2333333333333334,4.304861111111111,2.3819444444444446,3.9916666666666667,2.4298611111111112,7.728472222222222,7.709722222222222,4.170138888888889,4.638888888888889,6.1194444444444445,4.9743055555555555,3.3027777777777776,6.364261666495874,6.45844735712055,4.660485080938996,5.934722222222222,2.6069444444444443,5.441666666666666,2.7708333333333335,7.8493055555555555,7.010416666666667,6.550694444444445,6.095138888888889,6.579166666666667,2.2645833333333334,4.49375,7.227777777777778,6.220833333333333,3.83125,3.6930555555555555,6.303472222222222,5.3381944444444445,5.636111111111111,4.876388888888889,5.285416666666666,6.291666666666667,2.7666666666666666,5.638194444444444,3.2958333333333334,4.540972222222222,5.991666666666666,7.252777777777778,6.656944444444444,3.0083333333333333,5.419444444444444,2.466666666666667,5.3267072551091115,5.300694444444445,5.7875,3.1479166666666667,4.477777777777778,8.103790588442445,2.7493055555555554,7.902777777777778,4.746820138590681,4.154861111111111,3.7,2.7069444444444444,3.6222222222222222,4.898611111111111,3.157638888888889,7.713888888888889,6.065277777777778,2.9451388888888888,3.0346645102182226,3.5458333333333334,2.5770833333333334,2.4180555555555556,1.6680555555555556,2.395138888888889,3.3444444444444446,3.6326388888888888,5.048611111111111,6.625694444444444,4.724623921775778,5.816666666666666,3.2569444444444446,2.392361111111111,3.2604166666666665,3.911111111111111,2.759027777777778,2.78125,7.067361111111111,3.6645833333333333,6.518055555555556,3.2159722222222222,3.6694444444444443,4.457638888888889,3.0743055555555556,4.586111111111111,4.461526497517828,2.9,2.3159722222222223,3.213888888888889,2.173611111111111,3.3090277777777777,5.386111111111111,3.8676794773313334,2.671527777777778,3.8881944444444443,1.6201388888888888,3.0180555555555557,4.970138888888889,4.554861111111111,0.8944444444444445,1.7555555555555555,2.482638888888889,6.908074579513563,4.770138888888889,6.346527777777778,5.531944444444444,4.615972222222222,5.545138888888889,6.279166666666667,6.708333333333333,4.615277777777778,5.754861111111111,7.179861111111111,5.959722222222222,7.709027777777778,4.344444444444444,6.7965277777777775,5.191666666666666,5.395138888888889,1.2708333333333333,4.159027777777778,5.127083333333333,2.2888888888888888,5.028472222222222,3.709722222222222,6.910040588442445,3.9430555555555555,3.9291666666666667,4.405555555555556,3.807638888888889,3.425,2.93125,6.0680555555555555,6.759027777777778,6.115277777777778,3.696527777777778,6.820138888888889,4.65625,2.4034722222222222,6.519444444444445,6.363888888888889,6.4118055555555555,3.8979166666666667,4.022222222222222,5.385416666666667,2.6756944444444444,4.030555555555556,4.488888888888889,6.465277777777778,4.360416666666667,3.767361111111111,5.511805555555555,6.941666666666666,4.386111111111111,5.338888888888889,5.126388888888889,5.524305555555555,6.819444444444445,3.9402200657737785,5.086111111111111,6.911111111111111,5.6875,7.100694444444445,4.138888888888889,8.899305555555555,2.563888888888889,6.743055555555555,6.545138888888889,6.7125,7.559722222222222,3.529166666666667,6.451388888888889,2.3229166666666665,5.420833333333333,8.096527777777778,5.877083333333333,4.948611111111111,5.315277777777778,6.858333333333333,6.227777777777778,6.85,8.088888888888889,9.184027777777779,5.0784722222222225,9.046527777777778,7.425636732440445,6.329861111111111,5.128472222222222,4.004166666666666,6.214583333333334,1.2256944444444444,1.9090277777777778,2.9555555555555557,6.190972222222222,1.382638888888889,8.503472222222221,1.3444444444444446,4.908333333333333,4.571527777777778,7.423611111111111,4.426388888888889,4.513888888888889,10.677083333333334,9.560416666666667,4.183333333333334,9.222916666666666,7.691666666666666,11.350694444444445,5.210416666666666,9.419444444444444,10.409722222222221,4.906944444444444,7.465277777777778,7.656944444444444,6.570457255109112,6.250694444444444,9.503472222222221,9.340972222222222,3.9430555555555555,6.198611111111111,10.49375,5.423611111111111,6.128096143998001,9.44513888888889,12.39375,7.386111111111111,7.241666666666666,5.945138888888889,7.582638888888889,8.269444444444444,7.127083333333333,8.529861111111112,6.061111111111111,5.750694444444444,8.847222222222221,5.388194444444444,6.188194444444444,8.986805555555556,9.939583333333333,8.978472222222223,7.342679477331334,7.7034722222222225,8.110416666666667,9.438888888888888,8.50763888888889,8.800694444444444,8.306944444444444,9.965277777777779,6.308333333333334,6.583333333333333,5.527777777777778,10.988194444444444,10.35138888888889,9.364583333333334,9.771527777777777,8.57986111111111,6.240972222222222,4.632638888888889,8.161111111111111,10.13263888888889,5.433333333333334,7.148611111111111,6.800694444444445,6.2243055555555555,6.938888888888889,5.553472222222222,7.719444444444444,6.505873921775779,6.7625,10.077777777777778,6.521527777777778,6.011805555555555,10.404861111111112,5.565972222222222,3.4305555555555554,7.254861111111111,5.2444444444444445,9.277083333333334,4.121527777777778,7.922916666666667,10.8375,5.115972222222222,8.883333333333333,7.692361111111111,5.042361111111111,6.553472222222222,5.028472222222222,10.551707255109111,5.8694444444444445,6.61875,9.525694444444444,5.852777777777778,5.617361111111111,6.6409722222222225,7.147916666666666,7.033333333333333,6.201388888888889,8.429166666666667,5.2555555555555555,6.457638888888889,9.317361111111111,8.05486111111111,4.200694444444444,7.184027777777778,7.777777777777778,5.35,5.91875,7.014583333333333,6.9811922879960004,7.949305555555555,1.288888888888889,1.3979166666666667,2.0618055555555554,1.4083333333333334,5.598611111111111,1.8916666666666666,1.78125,1.21875,6.538194444444445,3.839583333333333,4.836805555555555,6.272916666666666,5.857638888888889,2.8854166666666665,6.013888888888889,8.983333333333333,7.668055555555555,3.7944444444444443,10.052777777777777,4.104166666666667,7.8375,6.490277777777778,8.71111111111111,4.273611111111111,4.631944444444445,9.21875,8.614583333333334,9.6375,4.871151699553556,9.370833333333334,5.240972222222222,6.2652777777777775,8.042361111111111,11.972222222222221,6.784027777777778,6.51875,10.07986111111111,5.547916666666667,4.792361111111111,9.198611111111111,9.475,5.2444444444444445,6.573611111111111,12.165972222222223,6.252083333333333,4.532638888888889,10.084722222222222,10.572916666666666,9.032638888888888,7.7756944444444445,6.856944444444444,7.8625,5.998611111111111,7.584027777777778,10.223611111111111,7.222916666666666,4.713888888888889,7.363194444444445,5.8375,3.6777777777777776,6.527777777777778,2.4902777777777776,3.811111111111111,1.9347222222222222,7.278472222222222,4.620138888888889,1.7958333333333334,6.032638888888889,4.538194444444445,3.7944444444444443,7.08125,8.472222222222221,4.617361111111111,8.83125,8.266666666666667,8.134722222222223,4.8125,8.30486111111111,5.8125,6.747222222222222,4.736111111111111,6.227720065773778,8.661111111111111,5.990277777777778,5.210416666666666,8.317361111111111,6.424305555555556,4.496527777777778,10.231944444444444,8.911805555555556,4.177777777777778,6.447222222222222,7.970833333333333,4.659027777777778,6.04375,7.845833333333333,8.234722222222222,7.852083333333334,4.403472222222222,6.434027777777778,4.519444444444445,6.097916666666666,5.465972222222222,10.134027777777778,6.758333333333334,5.500694444444444,6.2444444444444445,5.254166666666666,5.031944444444444,7.3176794773313345,7.417361111111111,8.047916666666667,6.9527777777777775,7.009722222222222,8.810416666666667,7.577083333333333,8.622916666666667,8.908333333333333,7.397222222222222,7.030555555555556,9.910416666666666,6.529166666666667,6.229861111111111,7.057638888888889,5.508333333333334,2.7055555555555557,4.735416666666667,5.826388888888889,4.8625,5.145833333333333,5.7652777777777775,5.809027777777778,5.233333333333333,4.964583333333334,5.272222222222222,5.105555555555555,5.684722222222222,6.424305555555556,5.021527777777778,4.9089700657737785,4.469444444444444,5.961805555555555,3.4569444444444444,5.75,6.430555555555555,5.330555555555556,3.7895833333333333,6.38125,3.3930555555555557,4.392361111111111,5.794444444444444,4.674305555555556,4.335416666666666,5.822916666666667,4.1409722222222225,4.029166666666667,4.3597222222222225,5.269444444444445,3.535416666666667,2.640972222222222,2.7263888888888888,3.066985032886889,4.9430555555555555,1.5381944444444444,1.6368055555555556,1.375,1.3208333333333333,1.3229166666666667,1.3055555555555556,1.2805555555555554,1.242361111111111,1.1395833333333334,1.1743055555555555,1.1722222222222223,1.1875,1.19375,1.1784722222222221,1.1291666666666667,1.0951388888888889,1.1208333333333333,1.03125,1.0576388888888888,0.9972222222222222,1.0645833333333334,1.06875,1.132638888888889,1.1104166666666666,1.1243055555555554,8.419068366220223,7.071527777777778,4.616666666666666,7.092361111111111,6.533333333333333,4.821527777777778,9.305555555555555,4.15,6.638194444444444,5.366666666666666,7.139583333333333,5.308333333333334,6.0680555555555555,8.199305555555556,4.540277777777778,7.168055555555555,5.728472222222222,6.507638888888889,5.549305555555556,8.588194444444444,8.664583333333333,5.7965277777777775,7.102083333333334,5.5,7.325,5.892361111111111,7.5625,8.811111111111112,7.8069444444444445,7.414583333333334,5.149305555555555,7.5055555555555555,6.291666666666667,6.55,8.73125,4.215972222222222,6.6402777777777775,6.580555555555556,8.090277777777779,8.091666666666667,8.365277777777777,7.897916666666666,4.979861111111111,6.585416666666666,6.902083333333334,6.933333333333334,5.8597222222222225,6.69375,8.434722222222222,3.1944444444444446,7.274305555555555,7.86875,5.89375,7.352083333333334,7.141666666666667,9.52132863635846,1.3979166666666667,1.3659722222222221,3.5347222222222223,2.7881944444444446,1.81875,7.279861111111111,1.3465277777777778,1.961111111111111,1.3138888888888889,2.8513888888888888,5.8069444444444445,4.676388888888889,7.236805555555556,4.214583333333334,9.963888888888889,7.169271308432447,10.174305555555556,6.55758117688489,4.385416666666667,6.895138888888889,10.85763888888889,6.211805555555555,7.354166666666667,7.780555555555556,6.044444444444444,5.3694444444444445,7.219444444444444,5.777777777777778,7.137818366220223,9.290277777777778,7.271527777777778,6.945833333333334,8.63888888888889,7.889583333333333,8.60138888888889,7.968055555555556,6.259027777777778,7.877083333333333,6.711111111111111,7.856944444444444,6.841666666666667,6.283333333333333,9.463194444444444,9.205555555555556,8.948611111111111,7.8757578576378044,5.540972222222222,8.440277777777778,6.438194444444444,3.7604166666666665,6.713888888888889,7.870833333333334,7.509027777777778,7.842361111111111,8.175694444444444,8.906568366220224,10.28888888888889,7.245138888888889,5.781944444444444,6.93125,2.498611111111111,5.413888888888889,8.478472222222223,3.6743055555555557,1.7222222222222223,4.961805555555555,8.23611111111111,1.9465277777777779,8.222916666666666,7.249305555555556,2.2534722222222223,6.006944444444445,8.654166666666667,6.929861111111111,6.996527777777778,6.447916666666667,8.707638888888889,4.0881944444444445,8.435416666666667,11.245833333333334,7.157957255109112,6.639583333333333,10.569444444444445,10.640277777777778,8.838194444444444,7.138194444444444,9.532638888888888,6.826388888888889,5.726388888888889,8.434722222222222,5.779166666666667,7.7868055555555555,6.820138888888889,4.588888888888889,9.92013888888889,6.247222222222222,8.435416666666667,10.63125,5.374597916368459,7.579861111111111,10.405555555555555,11.083333333333334,9.01875,8.136111111111111,12.411805555555556,10.5375,6.510416666666667,8.56875,8.46875,12.308333333333334,8.02361111111111,12.862442287996002,3.6347222222222224,4.886805555555555,2.833335233729787,3.7993055555555557,1.2472222222222222,6.088888888888889,2.765972222222222,4.9534722222222225,8.660416666666666,10.077777777777778,5.110416666666667,4.750694444444444,10.299305555555556,5.559722222222222,6.139207255109112,4.641666666666667,9.044444444444444,5.8284722222222225,6.315277777777778,8.372222222222222,8.411805555555556,8.813194444444445,7.177777777777778,8.0625,7.45625,9.48263888888889,7.268055555555556,12.525,5.800694444444445,6.444068366220223,8.555555555555555,8.403472222222222,6.5680555555555555,7.373611111111111,7.129166666666666,6.260416666666667,4.165972222222222,7.047916666666667,7.14375,5.969444444444444,6.907638888888889,8.489583333333334,6.598611111111111,6.875694444444444,8.998611111111112,5.075694444444444,9.375,5.941666666666666,11.285416666666666,4.5159722222222225,7.042361111111111,6.334027777777778,5.533333333333333,9.3625,9.602777777777778,12.661805555555556,8.659722222222221,4.320775621329334,6.581944444444445,3.665277777777778,6.811805555555556,5.315972222222222,7.429861111111111,5.616666666666666,7.275,5.125,9.211805555555555,3.8270833333333334,6.720138888888889,9.184027777777779,7.334027777777778,4.875694444444444,7.964583333333334,6.508333333333334,10.628472222222221,8.13125,6.777777777777778,5.018055555555556,7.898611111111111,7.059722222222222,6.290277777777778,5.55,10.7125,4.586805555555555,6.040596143998001,7.645138888888889,7.871527777777778,4.949305555555555,7.985416666666667,8.46875,8.51736111111111,4.977777777777778,6.229861111111111,7.625694444444444,6.576388888888889,8.724305555555556,5.6097222222222225,8.735416666666667,7.122222222222222,6.895833333333333,7.027343987549557,7.691666666666666,6.284027777777778,7.022222222222222,8.025694444444444,3.9722222222222223,7.889583333333333,5.480555555555555,8.039583333333333,4.795138888888889,8.690972222222221,7.36875,4.190277777777778,5.938194444444444,7.427083333333333,6.867361111111111,7.368055555555555,4.95625,6.378757481624983,6.45844735712055,5.972634407979063,9.50763888888889,4.995138888888889,7.79375,5.372916666666667,6.360416666666667,4.168055555555555,7.741666666666666,5.684722222222222,9.913194444444445,4.322222222222222,6.911111111111111,9.352777777777778,4.6819444444444445,4.4875,6.242361111111111,6.76875,5.5777777777777775,5.11875,4.715972222222222,5.565277777777778,4.959722222222222,3.9611111111111112,6.463888888888889,3.321527777777778,5.220717909325335,5.386111111111111,2.8194444444444446,2.6951388888888888,4.274305555555555,4.041666666666667,2.709722222222222,4.631944444444445,3.7423611111111112,3.5125,3.436111111111111,5.413194444444445,2.7534722222222223,6.294444444444444,2.8666666666666667,2.5805555555555557,2.6381944444444443,3.6125,3.0229166666666667,5.242361111111111,2.8055555555555554,4.376388888888889,4.338888888888889,2.457638888888889,2.6465277777777776,2.6881944444444446,2.8069444444444445,2.9118055555555555,2.938888888888889,2.842361111111111,3.5791666666666666,4.175,4.567361111111111,3.4659722222222222,5.182969857773896,3.2270833333333333,6.195833333333334,3.9520833333333334,4.347916666666666,4.391666666666667,4.197222222222222,4.2625,5.227083333333334,5.936805555555556,4.856944444444444,5.727083333333334,4.36875,5.458333333333333,2.9743055555555555,5.197916666666667,8.129861111111111,7.394444444444445,6.926388888888889,4.217361111111111,6.889583333333333,3.479861111111111,5.621527777777778,7.245138888888889,6.271527777777778,5.763194444444444,5.925694444444445,7.410416666666666,4.519444444444445,8.120138888888889,8.750694444444445,7.0669850328868895,6.313194444444444,6.002777777777778,9.294444444444444,6.743055555555555,6.354861111111111,10.309027777777779,8.288194444444445,7.530555555555556,5.904166666666667,8.947222222222223,7.204166666666667,6.731944444444444,10.125694444444445,5.940277777777778,7.497916666666667,5.084722222222222,6.395081176884889,6.550694444444445,7.043055555555555,10.055555555555555,6.236111111111111,5.54375,6.115277777777778,6.8805555555555555,8.033333333333333,7.4430555555555555,10.285416666666666,6.010040588442445,6.541666666666667,6.618055555555555,6.9534722222222225,6.695138888888889,7.733333333333333,12.72638888888889,7.738888888888889,5.7131944444444445,7.642361111111111,5.950694444444444,7.690277777777778,8.122222222222222,11.07013888888889,9.50763888888889,4.019444444444445,5.810416666666667,6.470833333333333,3.942361111111111,6.1305555555555555,10.164583333333333,8.48263888888889,5.201388888888889,6.267361111111111,8.504166666666666,6.852777777777778,7.865277777777778,6.954166666666667,10.327083333333333,5.296846143998001,8.186111111111112,7.7875,6.529861111111111,6.373611111111111,13.102777777777778,6.559722222222222,6.495833333333334,8.066666666666666,9.574305555555556,7.594444444444444,8.9,8.717361111111112,11.178472222222222,5.715277777777778,6.309722222222222,7.358333333333333,6.992361111111111,8.05486111111111,9.965277777777779,5.436111111111111,8.360416666666667,7.514583333333333,8.924305555555556,6.879166666666666,6.343055555555556,9.252777777777778,8.625,7.146527777777778,10.677777777777777,5.535416666666666,10.702720065773779,7.813194444444444,5.6930555555555555,9.151388888888889,7.459722222222222,9.780555555555555,5.627777777777778,9.996527777777779,7.9625,9.500694444444445,5.413194444444445,7.967361111111111,10.99236111111111,7.78125,10.554166666666667,9.922222222222222,11.14375,8.645833333333334,10.370833333333334,7.086805555555555,8.669444444444444,13.478472222222223,2.470833333333333,4.465596143998,6.995833333333334,7.508333333333334,11.436111111111112,7.888194444444444,8.983333333333333,8.702083333333333,10.231944444444444,9.797222222222222,7.138194444444444,9.09845187801732,6.45844735712055,6.43649089016088,9.406944444444445,9.480555555555556,10.447222222222223,9.014583333333333,13.410416666666666,10.113194444444444,11.424305555555556,10.077777777777778,11.130179477331334,7.670833333333333,11.205555555555556,11.279861111111112,12.606944444444444,10.407638888888888,12.542361111111111,12.424305555555556,8.728472222222223,10.154861111111112,14.955555555555556,14.67361111111111,16.488194444444446,12.505555555555556,12.400694444444444,3.8513888888888888,13.725,13.728472222222223,8.486429477331335,6.886111111111111,10.563194444444445,12.993055555555555,9.164207255109112,11.15625,8.902777777777779,7.014583333333333,10.33611111111111,10.099305555555556,10.04861111111111,11.863194444444444,7.054861111111111,6.115277777777778,9.940972222222221,10.5,10.292361111111111,9.970833333333333,2.05,4.940972222222222,2.5034722222222223,5.014583333333333,2.033333333333333,4.1097222222222225,2.7569444444444446,2.5548611111111112,11.090972222222222,7.564583333333333,10.358333333333333,10.906944444444445,9.775,12.48125,4.93125,10.453472222222222,7.002083333333333,9.100694444444445,7.53125,8.74375,6.090836394028905,6.228797489917868,9.624305555555555,9.102083333333333,8.900694444444444,9.58125,8.713194444444444,8.66875,4.9430555555555555,10.708333333333334,9.559027777777779,8.361805555555556,9.995138888888889,9.079166666666667,12.2875,8.810416666666667,3.821527777777778,8.66388888888889,7.8902777777777775,9.251388888888888,7.357638888888889,6.2034722222222225,6.150318366220223,8.297916666666667,9.050694444444444,6.384722222222222,10.879861111111111,8.765972222222222,8.729861111111111,8.715277777777779,9.356944444444444,11.575,8.959722222222222,8.675,7.625694444444444,5.710416666666666,5.274305555555555,5.302083333333333,5.929861111111111,4.190972222222222,5.626388888888889,4.839583333333334,4.688194444444444,10.0375,8.211805555555555,8.338194444444444,8.460416666666667,7.138888888888889,9.445833333333333,7.054166666666666,6.90625,8.953472222222222,7.929166666666666,11.3625,7.314901699553556,11.641666666666667,9.493055555555555,8.255555555555556,10.655555555555555,8.109027777777778,6.85,7.014583333333333,7.022916666666666,12.120833333333334,6.625694444444444,5.379166666666666,7.249305555555556,5.923611111111111,7.409027777777778,8.066666666666666,11.552083333333334,6.741666666666666,7.264583333333333,8.234722222222222,5.870833333333334,8.544444444444444,8.692361111111111,8.488194444444444,7.892361111111111,4.678472222222222,7.898611111111111,5.732638888888889,7.548611111111111,8.144444444444444,11.24337392177578,6.316666666666666,7.177777777777778,7.044444444444444,7.177777777777778,5.909722222222222,8.317361111111111,6.634722222222222,8.567361111111111,7.763194444444444,6.409722222222222,7.075,5.618055555555555,7.268055555555556,5.513194444444444,5.340277777777778,8.691666666666666,5.742679477331334,3.620833333333333,5.165277777777778,4.4006944444444445,4.271527777777778,4.58125,4.800694444444445,5.86875,4.001388888888889,5.874305555555556,3.7194444444444446,6.195138888888889,5.403472222222222,4.475,5.481944444444444,5.260416666666667,5.701012810664667,2.676388888888889,4.231944444444444,2.7381944444444444,4.239583333333333,3.595833333333333,4.290277777777778,3.8916666666666666,5.760416666666667,2.702777777777778,5.242361111111111,2.879861111111111,2.8069444444444445,5.022222222222222,2.8875,2.8381944444444445,2.966666666666667,2.9604166666666667,2.910416666666667,2.8444444444444446,2.8583333333333334,2.7868055555555555,2.740972222222222,2.7555555555555555,2.748611111111111,2.8069444444444445,2.8756944444444446,2.859722222222222,2.765277777777778,2.845138888888889,3.104861111111111,3.6680555555555556,5.088888888888889,4.609446964977401,6.45844735712055,6.45844735712055,6.45844735712055,6.45844735712055,5.985055691646713,4.240277777777778,3.966666666666667,6.221527777777778,3.526388888888889,8.824305555555556,9.015972222222222,9.09375,8.1875,5.526388888888889,9.715277777777779,8.184027777777779,6.76875,9.19513888888889,5.188194444444444,7.065277777777778,8.214583333333334,5.1930555555555555,4.872222222222222,7.48125,6.247222222222222,6.174305555555556,4.659722222222222,7.131944444444445,4.179166666666666,7.159722222222222,6.754861111111111,8.17986111111111,3.5805555555555557,9.209722222222222,5.534027777777778,8.172222222222222,8.334722222222222,6.018055555555556,6.022201818036904,6.45844735712055,6.45844735712055,5.797631807472218,9.060416666666667,5.5472222222222225,7.852083333333334,9.397222222222222,5.373611111111111,5.730555555555555,8.359027777777778,5.59375,8.795833333333333,6.89375,9.119444444444444,7.1506944444444445,6.065277777777778,6.813888888888889,11.522916666666667,9.888194444444444,7.490277777777778,5.316666666666666,3.2506944444444446,11.376388888888888,6.570138888888889,7.173611111111111,4.692361111111111,8.817361111111111,9.350694444444445,9.196846143998,4.686111111111111,3.464583333333333,5.742361111111111,6.310416666666667,2.7159722222222222,10.627083333333333,3.88125,6.073611111111111,4.016666666666667,4.534027777777778,7.143055555555556,8.756944444444445,6.807638888888889,4.821527777777778,9.054166666666667,8.680555555555555,9.241666666666667,4.346527777777778,7.158333333333333,9.620138888888889,6.081944444444445,6.1930555555555555,5.520138888888889,6.190972222222222,6.561805555555556,8.27361111111111,7.939583333333333,3.3180555555555555,7.038888888888889,5.285416666666666,8.488888888888889,3.522222222222222,7.908946951702296],\"yaxis\":\"y\",\"type\":\"scattergl\"}],                        {\"template\":{\"data\":{\"histogram2dcontour\":[{\"type\":\"histogram2dcontour\",\"colorbar\":{\"outlinewidth\":0,\"ticks\":\"\"},\"colorscale\":[[0.0,\"#0d0887\"],[0.1111111111111111,\"#46039f\"],[0.2222222222222222,\"#7201a8\"],[0.3333333333333333,\"#9c179e\"],[0.4444444444444444,\"#bd3786\"],[0.5555555555555556,\"#d8576b\"],[0.6666666666666666,\"#ed7953\"],[0.7777777777777778,\"#fb9f3a\"],[0.8888888888888888,\"#fdca26\"],[1.0,\"#f0f921\"]]}],\"choropleth\":[{\"type\":\"choropleth\",\"colorbar\":{\"outlinewidth\":0,\"ticks\":\"\"}}],\"histogram2d\":[{\"type\":\"histogram2d\",\"colorbar\":{\"outlinewidth\":0,\"ticks\":\"\"},\"colorscale\":[[0.0,\"#0d0887\"],[0.1111111111111111,\"#46039f\"],[0.2222222222222222,\"#7201a8\"],[0.3333333333333333,\"#9c179e\"],[0.4444444444444444,\"#bd3786\"],[0.5555555555555556,\"#d8576b\"],[0.6666666666666666,\"#ed7953\"],[0.7777777777777778,\"#fb9f3a\"],[0.8888888888888888,\"#fdca26\"],[1.0,\"#f0f921\"]]}],\"heatmap\":[{\"type\":\"heatmap\",\"colorbar\":{\"outlinewidth\":0,\"ticks\":\"\"},\"colorscale\":[[0.0,\"#0d0887\"],[0.1111111111111111,\"#46039f\"],[0.2222222222222222,\"#7201a8\"],[0.3333333333333333,\"#9c179e\"],[0.4444444444444444,\"#bd3786\"],[0.5555555555555556,\"#d8576b\"],[0.6666666666666666,\"#ed7953\"],[0.7777777777777778,\"#fb9f3a\"],[0.8888888888888888,\"#fdca26\"],[1.0,\"#f0f921\"]]}],\"heatmapgl\":[{\"type\":\"heatmapgl\",\"colorbar\":{\"outlinewidth\":0,\"ticks\":\"\"},\"colorscale\":[[0.0,\"#0d0887\"],[0.1111111111111111,\"#46039f\"],[0.2222222222222222,\"#7201a8\"],[0.3333333333333333,\"#9c179e\"],[0.4444444444444444,\"#bd3786\"],[0.5555555555555556,\"#d8576b\"],[0.6666666666666666,\"#ed7953\"],[0.7777777777777778,\"#fb9f3a\"],[0.8888888888888888,\"#fdca26\"],[1.0,\"#f0f921\"]]}],\"contourcarpet\":[{\"type\":\"contourcarpet\",\"colorbar\":{\"outlinewidth\":0,\"ticks\":\"\"}}],\"contour\":[{\"type\":\"contour\",\"colorbar\":{\"outlinewidth\":0,\"ticks\":\"\"},\"colorscale\":[[0.0,\"#0d0887\"],[0.1111111111111111,\"#46039f\"],[0.2222222222222222,\"#7201a8\"],[0.3333333333333333,\"#9c179e\"],[0.4444444444444444,\"#bd3786\"],[0.5555555555555556,\"#d8576b\"],[0.6666666666666666,\"#ed7953\"],[0.7777777777777778,\"#fb9f3a\"],[0.8888888888888888,\"#fdca26\"],[1.0,\"#f0f921\"]]}],\"surface\":[{\"type\":\"surface\",\"colorbar\":{\"outlinewidth\":0,\"ticks\":\"\"},\"colorscale\":[[0.0,\"#0d0887\"],[0.1111111111111111,\"#46039f\"],[0.2222222222222222,\"#7201a8\"],[0.3333333333333333,\"#9c179e\"],[0.4444444444444444,\"#bd3786\"],[0.5555555555555556,\"#d8576b\"],[0.6666666666666666,\"#ed7953\"],[0.7777777777777778,\"#fb9f3a\"],[0.8888888888888888,\"#fdca26\"],[1.0,\"#f0f921\"]]}],\"mesh3d\":[{\"type\":\"mesh3d\",\"colorbar\":{\"outlinewidth\":0,\"ticks\":\"\"}}],\"scatter\":[{\"fillpattern\":{\"fillmode\":\"overlay\",\"size\":10,\"solidity\":0.2},\"type\":\"scatter\"}],\"parcoords\":[{\"type\":\"parcoords\",\"line\":{\"colorbar\":{\"outlinewidth\":0,\"ticks\":\"\"}}}],\"scatterpolargl\":[{\"type\":\"scatterpolargl\",\"marker\":{\"colorbar\":{\"outlinewidth\":0,\"ticks\":\"\"}}}],\"bar\":[{\"error_x\":{\"color\":\"#2a3f5f\"},\"error_y\":{\"color\":\"#2a3f5f\"},\"marker\":{\"line\":{\"color\":\"#E5ECF6\",\"width\":0.5},\"pattern\":{\"fillmode\":\"overlay\",\"size\":10,\"solidity\":0.2}},\"type\":\"bar\"}],\"scattergeo\":[{\"type\":\"scattergeo\",\"marker\":{\"colorbar\":{\"outlinewidth\":0,\"ticks\":\"\"}}}],\"scatterpolar\":[{\"type\":\"scatterpolar\",\"marker\":{\"colorbar\":{\"outlinewidth\":0,\"ticks\":\"\"}}}],\"histogram\":[{\"marker\":{\"pattern\":{\"fillmode\":\"overlay\",\"size\":10,\"solidity\":0.2}},\"type\":\"histogram\"}],\"scattergl\":[{\"type\":\"scattergl\",\"marker\":{\"colorbar\":{\"outlinewidth\":0,\"ticks\":\"\"}}}],\"scatter3d\":[{\"type\":\"scatter3d\",\"line\":{\"colorbar\":{\"outlinewidth\":0,\"ticks\":\"\"}},\"marker\":{\"colorbar\":{\"outlinewidth\":0,\"ticks\":\"\"}}}],\"scattermapbox\":[{\"type\":\"scattermapbox\",\"marker\":{\"colorbar\":{\"outlinewidth\":0,\"ticks\":\"\"}}}],\"scatterternary\":[{\"type\":\"scatterternary\",\"marker\":{\"colorbar\":{\"outlinewidth\":0,\"ticks\":\"\"}}}],\"scattercarpet\":[{\"type\":\"scattercarpet\",\"marker\":{\"colorbar\":{\"outlinewidth\":0,\"ticks\":\"\"}}}],\"carpet\":[{\"aaxis\":{\"endlinecolor\":\"#2a3f5f\",\"gridcolor\":\"white\",\"linecolor\":\"white\",\"minorgridcolor\":\"white\",\"startlinecolor\":\"#2a3f5f\"},\"baxis\":{\"endlinecolor\":\"#2a3f5f\",\"gridcolor\":\"white\",\"linecolor\":\"white\",\"minorgridcolor\":\"white\",\"startlinecolor\":\"#2a3f5f\"},\"type\":\"carpet\"}],\"table\":[{\"cells\":{\"fill\":{\"color\":\"#EBF0F8\"},\"line\":{\"color\":\"white\"}},\"header\":{\"fill\":{\"color\":\"#C8D4E3\"},\"line\":{\"color\":\"white\"}},\"type\":\"table\"}],\"barpolar\":[{\"marker\":{\"line\":{\"color\":\"#E5ECF6\",\"width\":0.5},\"pattern\":{\"fillmode\":\"overlay\",\"size\":10,\"solidity\":0.2}},\"type\":\"barpolar\"}],\"pie\":[{\"automargin\":true,\"type\":\"pie\"}]},\"layout\":{\"autotypenumbers\":\"strict\",\"colorway\":[\"#636efa\",\"#EF553B\",\"#00cc96\",\"#ab63fa\",\"#FFA15A\",\"#19d3f3\",\"#FF6692\",\"#B6E880\",\"#FF97FF\",\"#FECB52\"],\"font\":{\"color\":\"#2a3f5f\"},\"hovermode\":\"closest\",\"hoverlabel\":{\"align\":\"left\"},\"paper_bgcolor\":\"white\",\"plot_bgcolor\":\"#E5ECF6\",\"polar\":{\"bgcolor\":\"#E5ECF6\",\"angularaxis\":{\"gridcolor\":\"white\",\"linecolor\":\"white\",\"ticks\":\"\"},\"radialaxis\":{\"gridcolor\":\"white\",\"linecolor\":\"white\",\"ticks\":\"\"}},\"ternary\":{\"bgcolor\":\"#E5ECF6\",\"aaxis\":{\"gridcolor\":\"white\",\"linecolor\":\"white\",\"ticks\":\"\"},\"baxis\":{\"gridcolor\":\"white\",\"linecolor\":\"white\",\"ticks\":\"\"},\"caxis\":{\"gridcolor\":\"white\",\"linecolor\":\"white\",\"ticks\":\"\"}},\"coloraxis\":{\"colorbar\":{\"outlinewidth\":0,\"ticks\":\"\"}},\"colorscale\":{\"sequential\":[[0.0,\"#0d0887\"],[0.1111111111111111,\"#46039f\"],[0.2222222222222222,\"#7201a8\"],[0.3333333333333333,\"#9c179e\"],[0.4444444444444444,\"#bd3786\"],[0.5555555555555556,\"#d8576b\"],[0.6666666666666666,\"#ed7953\"],[0.7777777777777778,\"#fb9f3a\"],[0.8888888888888888,\"#fdca26\"],[1.0,\"#f0f921\"]],\"sequentialminus\":[[0.0,\"#0d0887\"],[0.1111111111111111,\"#46039f\"],[0.2222222222222222,\"#7201a8\"],[0.3333333333333333,\"#9c179e\"],[0.4444444444444444,\"#bd3786\"],[0.5555555555555556,\"#d8576b\"],[0.6666666666666666,\"#ed7953\"],[0.7777777777777778,\"#fb9f3a\"],[0.8888888888888888,\"#fdca26\"],[1.0,\"#f0f921\"]],\"diverging\":[[0,\"#8e0152\"],[0.1,\"#c51b7d\"],[0.2,\"#de77ae\"],[0.3,\"#f1b6da\"],[0.4,\"#fde0ef\"],[0.5,\"#f7f7f7\"],[0.6,\"#e6f5d0\"],[0.7,\"#b8e186\"],[0.8,\"#7fbc41\"],[0.9,\"#4d9221\"],[1,\"#276419\"]]},\"xaxis\":{\"gridcolor\":\"white\",\"linecolor\":\"white\",\"ticks\":\"\",\"title\":{\"standoff\":15},\"zerolinecolor\":\"white\",\"automargin\":true,\"zerolinewidth\":2},\"yaxis\":{\"gridcolor\":\"white\",\"linecolor\":\"white\",\"ticks\":\"\",\"title\":{\"standoff\":15},\"zerolinecolor\":\"white\",\"automargin\":true,\"zerolinewidth\":2},\"scene\":{\"xaxis\":{\"backgroundcolor\":\"#E5ECF6\",\"gridcolor\":\"white\",\"linecolor\":\"white\",\"showbackground\":true,\"ticks\":\"\",\"zerolinecolor\":\"white\",\"gridwidth\":2},\"yaxis\":{\"backgroundcolor\":\"#E5ECF6\",\"gridcolor\":\"white\",\"linecolor\":\"white\",\"showbackground\":true,\"ticks\":\"\",\"zerolinecolor\":\"white\",\"gridwidth\":2},\"zaxis\":{\"backgroundcolor\":\"#E5ECF6\",\"gridcolor\":\"white\",\"linecolor\":\"white\",\"showbackground\":true,\"ticks\":\"\",\"zerolinecolor\":\"white\",\"gridwidth\":2}},\"shapedefaults\":{\"line\":{\"color\":\"#2a3f5f\"}},\"annotationdefaults\":{\"arrowcolor\":\"#2a3f5f\",\"arrowhead\":0,\"arrowwidth\":1},\"geo\":{\"bgcolor\":\"white\",\"landcolor\":\"#E5ECF6\",\"subunitcolor\":\"white\",\"showland\":true,\"showlakes\":true,\"lakecolor\":\"white\"},\"title\":{\"x\":0.05},\"mapbox\":{\"style\":\"light\"}}},\"xaxis\":{\"anchor\":\"y\",\"domain\":[0.0,1.0],\"title\":{\"text\":\"Date\"}},\"yaxis\":{\"anchor\":\"x\",\"domain\":[0.0,1.0],\"title\":{\"text\":\"Sub Metering 3\"}},\"legend\":{\"tracegroupgap\":0},\"title\":{\"text\":\"Sub Metering 3 Over Time (Daily)\",\"x\":0.5},\"font\":{\"color\":\"lightgray\"},\"plot_bgcolor\":\"rgb(35, 35, 35)\",\"paper_bgcolor\":\"rgb(25, 25, 25)\"},                        {\"responsive\": true}                    ).then(function(){\n",
              "                            \n",
              "var gd = document.getElementById('cafed401-1ec3-4cee-8dde-ac36c88f9ac4');\n",
              "var x = new MutationObserver(function (mutations, observer) {{\n",
              "        var display = window.getComputedStyle(gd).display;\n",
              "        if (!display || display === 'none') {{\n",
              "            console.log([gd, 'removed!']);\n",
              "            Plotly.purge(gd);\n",
              "            observer.disconnect();\n",
              "        }}\n",
              "}});\n",
              "\n",
              "// Listen for the removal of the full notebook cells\n",
              "var notebookContainer = gd.closest('#notebook-container');\n",
              "if (notebookContainer) {{\n",
              "    x.observe(notebookContainer, {childList: true});\n",
              "}}\n",
              "\n",
              "// Listen for the clearing of the current output cell\n",
              "var outputEl = gd.closest('.output');\n",
              "if (outputEl) {{\n",
              "    x.observe(outputEl, {childList: true});\n",
              "}}\n",
              "\n",
              "                        })                };                            </script>        </div>\n",
              "</body>\n",
              "</html>"
            ]
          },
          "metadata": {}
        }
      ]
    },
    {
      "cell_type": "markdown",
      "source": [
        "### Plotting Seasonal Decompositions"
      ],
      "metadata": {
        "id": "9fDHzA-KAo2B"
      }
    },
    {
      "cell_type": "markdown",
      "source": [
        "#### Plotting Additive Seasonal Decompositions with plotly"
      ],
      "metadata": {
        "id": "xrV6YuXf5NEF"
      }
    },
    {
      "cell_type": "code",
      "source": [
        "from statsmodels.tsa.seasonal import seasonal_decompose\n",
        "import plotly.graph_objects as go\n",
        "import plotly.subplots as sp\n",
        "\n",
        "# Perform seasonal decomposition\n",
        "result = seasonal_decompose(data['Global_active_power'], model='additive', period=12)\n",
        "\n",
        "# Plot the decomposed components\n",
        "fig = sp.make_subplots(rows=4, cols=1, shared_xaxes=True,\n",
        "                       subplot_titles=['Observed', 'Trend', 'Seasonal', 'Residual'])\n",
        "\n",
        "# Add traces for each component\n",
        "fig.add_trace(go.Scatter(x=data.index, y=result.observed, mode='lines', name='Observed'), row=1, col=1)\n",
        "fig.add_trace(go.Scatter(x=data.index, y=result.trend, mode='lines', name='Trend'), row=2, col=1)\n",
        "fig.add_trace(go.Scatter(x=data.index, y=result.seasonal, mode='lines', name='Seasonal'), row=3, col=1)\n",
        "fig.add_trace(go.Scatter(x=data.index, y=result.resid, mode='lines', name='Residual'), row=4, col=1)\n",
        "\n",
        "# Customize layout\n",
        "fig.update_layout(\n",
        "    plot_bgcolor='rgb(35, 35, 35)',    # Dark gray plot background\n",
        "    paper_bgcolor='rgb(25, 25, 25)',    # Very dark gray background\n",
        "    font=dict(color='lightgray'),      # Light gray font color\n",
        "    height=1000,                         # Set figure height\n",
        "    title='Additive Seasonal Decomposition of Global_active_power'  # Figure title\n",
        ")\n",
        "\n",
        "# Update subplot titles\n",
        "for i in range(1, 5):\n",
        "    fig.update_yaxes(title_text=result.observed.name if i == 1 else '', row=i, col=1)\n",
        "\n",
        "fig.show()"
      ],
      "metadata": {
        "id": "_Xug5GhR5P97"
      },
      "execution_count": null,
      "outputs": []
    },
    {
      "cell_type": "markdown",
      "source": [
        "#### Plotting Multiplicative Seasonal Decomposition plotly"
      ],
      "metadata": {
        "id": "SCM2IM9J-L60"
      }
    },
    {
      "cell_type": "code",
      "source": [
        "from statsmodels.tsa.seasonal import seasonal_decompose\n",
        "import plotly.graph_objects as go\n",
        "import plotly.subplots as sp\n",
        "\n",
        "# Perform seasonal decomposition\n",
        "result = seasonal_decompose(data['Global_active_power'], model='multiplicative', period=12)\n",
        "\n",
        "# Plot the decomposed components\n",
        "fig = sp.make_subplots(rows=4, cols=1, shared_xaxes=True,\n",
        "                       subplot_titles=['Observed', 'Trend', 'Seasonal', 'Residual'])\n",
        "\n",
        "# Add traces for each component\n",
        "fig.add_trace(go.Scatter(x=data.index, y=result.observed, mode='lines', name='Observed'), row=1, col=1)\n",
        "fig.add_trace(go.Scatter(x=data.index, y=result.trend, mode='lines', name='Trend'), row=2, col=1)\n",
        "fig.add_trace(go.Scatter(x=data.index, y=result.seasonal, mode='lines', name='Seasonal'), row=3, col=1)\n",
        "fig.add_trace(go.Scatter(x=data.index, y=result.resid, mode='lines', name='Residual'), row=4, col=1)\n",
        "\n",
        "# Customize layout\n",
        "fig.update_layout(\n",
        "    plot_bgcolor='rgb(35, 35, 35)',    # Dark gray plot background\n",
        "    paper_bgcolor='rgb(25, 25, 25)',    # Very dark gray background\n",
        "    font=dict(color='lightgray'),      # Light gray font color\n",
        "    height=1000,                         # Set figure height\n",
        "    title='Additive Seasonal Decomposition of Global_active_power'  # Figure title\n",
        ")\n",
        "\n",
        "# Update subplot titles\n",
        "for i in range(1, 5):\n",
        "    fig.update_yaxes(title_text=result.observed.name if i == 1 else '', row=i, col=1)\n",
        "\n",
        "fig.show()"
      ],
      "metadata": {
        "id": "m_ZwGYcU-PIG"
      },
      "execution_count": null,
      "outputs": []
    },
    {
      "cell_type": "markdown",
      "source": [
        "### Plotting All Features over time (Monthly)"
      ],
      "metadata": {
        "id": "RRiI8O2_BZPV"
      }
    },
    {
      "cell_type": "code",
      "source": [
        "import seaborn as sns\n",
        "import matplotlib.pyplot as plt\n",
        "\n",
        "# Set figure size and style\n",
        "plt.figure(figsize=(12, 15))\n",
        "sns.set_style('darkgrid')\n",
        "\n",
        "# Plotting features over time (month)\n",
        "plt.subplot(7, 1, 1)\n",
        "sns.lineplot(x='Month', y='Global_active_power', data=data, color='purple')\n",
        "plt.title('Global_active_power Over Month')\n",
        "\n",
        "plt.subplot(7, 1, 2)\n",
        "sns.lineplot(x='Month', y='Global_reactive_power', data=data, color='darkorange')\n",
        "plt.title('Global_reactive_power Over Month')\n",
        "\n",
        "plt.subplot(7, 1, 3)\n",
        "sns.lineplot(x='Month', y='Voltage', data=data, color='green')\n",
        "plt.title('Voltage Over Month')\n",
        "\n",
        "plt.subplot(7, 1, 4)\n",
        "sns.lineplot(x='Month', y='Global_intensity', data=data, color='darkcyan')\n",
        "plt.title('Global_intensity Over Month')\n",
        "\n",
        "\n",
        "plt.subplot(7, 1, 5)\n",
        "sns.lineplot(x='Month', y='Sub_metering_1', data=data, color='darkcyan')\n",
        "plt.title('Sub_metering_1 Over Month')\n",
        "\n",
        "plt.subplot(7, 1, 6)\n",
        "sns.lineplot(x='Month', y='Sub_metering_2', data=data, color='darkcyan')\n",
        "plt.title('Sub_metering_2 Over Month')\n",
        "\n",
        "plt.subplot(7, 1, 7)\n",
        "sns.lineplot(x='Month', y='Sub_metering_3', data=data, color='darkcyan')\n",
        "plt.title('Sub_metering_ Over Month')\n",
        "\n",
        "# Adjust layout\n",
        "plt.tight_layout()\n",
        "plt.show()"
      ],
      "metadata": {
        "id": "fkAvkiRjBoq1"
      },
      "execution_count": null,
      "outputs": []
    },
    {
      "cell_type": "markdown",
      "source": [
        "### Plotting Global_active_power over the years (by month)"
      ],
      "metadata": {
        "id": "rFDqtIRlColJ"
      }
    },
    {
      "cell_type": "code",
      "source": [
        "import seaborn as sns\n",
        "import matplotlib.pyplot as plt\n",
        "\n",
        "# Set figure size and style\n",
        "plt.figure(figsize=(20, 8))\n",
        "sns.set_style('darkgrid')\n",
        "\n",
        "# Plot Global_active_power over the years by month\n",
        "plt.title(\"Global_active_power Over the Years\")\n",
        "sns.lineplot(data=data, x='Month', y='Global_active_power', hue='Year', palette='plasma', ci=None)\n",
        "\n",
        "# Add labels\n",
        "plt.xlabel(\"Month\")\n",
        "plt.ylabel(\"Global_active_power\")\n",
        "\n",
        "# Show plot\n",
        "plt.show()"
      ],
      "metadata": {
        "id": "6LxtVEnYCqT9"
      },
      "execution_count": null,
      "outputs": []
    },
    {
      "cell_type": "markdown",
      "source": [
        "### Monthly Average (Global_active_power, Global_reactive_power, Voltage, Global_intensity, Sub_metering_1, Sub_metering_2, Sub_metering_3) Heatmap with Annotations for each year"
      ],
      "metadata": {
        "id": "0UOFGYTlDi06"
      }
    },
    {
      "cell_type": "code",
      "source": [
        "import plotly.graph_objects as go\n",
        "\n",
        "def create_heatmap_trace(data, feature):\n",
        "    data_filled = data.fillna(method='ffill')  # Forward fill missing values\n",
        "    heatmap_data = data_filled.pivot_table(values=feature, index='Year', columns='Month', aggfunc='mean')\n",
        "    heatmap_text = heatmap_data.round(2).astype(str).values\n",
        "\n",
        "    heatmap = go.Heatmap(\n",
        "        z=heatmap_data.values,\n",
        "        x=heatmap_data.columns,\n",
        "        y=heatmap_data.index,\n",
        "        colorscale='thermal',\n",
        "        text=heatmap_text,\n",
        "        hoverinfo='text'\n",
        "    )\n",
        "\n",
        "    annotations = []\n",
        "    for i in range(len(heatmap_data.index)):\n",
        "        for j in range(len(heatmap_data.columns)):\n",
        "            annotations.append(\n",
        "                go.layout.Annotation(\n",
        "                    x=heatmap_data.columns[j],\n",
        "                    y=heatmap_data.index[i],\n",
        "                    text=heatmap_text[i][j],\n",
        "                    showarrow=False,\n",
        "                    font=dict(color='white' if heatmap_data.values[i, j] < (heatmap_data.values.max() / 2) else 'black')\n",
        "                )\n",
        "            )\n",
        "\n",
        "    return heatmap, annotations"
      ],
      "metadata": {
        "id": "D7ovk4lIEkSc"
      },
      "execution_count": null,
      "outputs": []
    },
    {
      "cell_type": "code",
      "source": [
        "# Create heatmap traces and annotations for each feature\n",
        "features = ['Global_active_power', 'Global_reactive_power', 'Voltage', 'Global_intensity', 'Sub_metering_1', 'Sub_metering_2', 'Sub_metering_3']\n",
        "titles = ['Monthly Average Global_active_power', 'Monthly Average Global_reactive_power', 'Monthly Average Voltage', 'Monthly Average Global_intensity', 'Monthly Average Sub_metering_1', 'Monthly Average Sub_metering_2', 'Monthly Average Sub_metering_3']\n",
        "\n",
        "# Create empty lists to store heatmap traces and annotations\n",
        "heatmap_traces = []\n",
        "annotations_list = []\n",
        "\n",
        "# Iterate over each feature to create heatmap traces and annotations\n",
        "for feature, title in zip(features, titles):\n",
        "    heatmap, annotations = create_heatmap_trace(data, feature)\n",
        "    heatmap_traces.append(heatmap)\n",
        "    annotations_list.append(annotations)"
      ],
      "metadata": {
        "id": "Xs5pKZweFM2d"
      },
      "execution_count": null,
      "outputs": []
    },
    {
      "cell_type": "code",
      "source": [
        "# Initialize figure with all traces but only show the first one\n",
        "fig = go.Figure(data=heatmap_traces)\n",
        "\n",
        "# Set initial visibility\n",
        "for i, trace in enumerate(fig.data):\n",
        "    trace.visible = (i == 0)\n",
        "\n",
        "# Set layout properties\n",
        "fig.update_layout(\n",
        "    title=titles[0],\n",
        "    xaxis=dict(nticks=12, title='Month'),\n",
        "    yaxis=dict(title='Year'),\n",
        "    annotations=annotations_list[0],\n",
        "    updatemenus=[\n",
        "        dict(\n",
        "            buttons=[\n",
        "                dict(\n",
        "                    args=[{'visible': [j == i for j in range(len(features))]},\n",
        "                          {'annotations': annotations_list[i],\n",
        "                           'title': titles[i]}],\n",
        "                    label=titles[i],\n",
        "                    method='update'\n",
        "                )\n",
        "                for i in range(len(features))\n",
        "            ],\n",
        "            direction='down',\n",
        "            showactive=True,\n",
        "            x=1.15,  # Positioning the button to the right\n",
        "            y=1.15   # Positioning the button at the top\n",
        "        )\n",
        "    ]\n",
        ")\n",
        "\n",
        "fig.show()"
      ],
      "metadata": {
        "id": "5Fv5df7sGOp7"
      },
      "execution_count": null,
      "outputs": []
    },
    {
      "cell_type": "markdown",
      "source": [
        "### Heatmap with seaborn"
      ],
      "metadata": {
        "id": "-tjGHbcrHSTM"
      }
    },
    {
      "cell_type": "code",
      "source": [
        "# Set up the figure size\n",
        "plt.figure(figsize=(10, 8))\n",
        "\n",
        "# Compute the correlation matrix for numeric columns\n",
        "correlation_matrix = df.select_dtypes('number').corr()\n",
        "\n",
        "# Customize the heatmap\n",
        "sns.heatmap(correlation_matrix, cmap='coolwarm', annot=True, fmt='.2f',\n",
        "            linewidths=0.5, annot_kws={\"size\": 10}, cbar_kws={\"shrink\": 0.8})\n",
        "\n",
        "# Add title\n",
        "plt.title('Correlation Matrix of Numeric Features', fontsize=16)\n",
        "\n",
        "# Adjust tick labels rotation for better readability\n",
        "plt.xticks(rotation=45)\n",
        "plt.yticks(rotation=0)\n",
        "\n",
        "# Show plot\n",
        "plt.tight_layout()\n",
        "plt.show()"
      ],
      "metadata": {
        "id": "qSXKNoKTGvJJ"
      },
      "execution_count": null,
      "outputs": []
    },
    {
      "cell_type": "markdown",
      "source": [
        "### Correlation Barplot with Global_active_power feature"
      ],
      "metadata": {
        "id": "aR91dKoMHBZq"
      }
    },
    {
      "cell_type": "code",
      "source": [
        "# Set up the figure size and style\n",
        "plt.figure(figsize=(12, 6))\n",
        "sns.set_style('whitegrid')\n",
        "\n",
        "# Compute the correlation matrix for numeric columns\n",
        "correlation_matrix = round(df.select_dtypes('number').corr(), 2)\n",
        "\n",
        "# Sort correlations with meantemp in descending order\n",
        "correlation_with_trgt = correlation_matrix['Global_active_power'].sort_values(ascending=False)\n",
        "\n",
        "# Create the bar plot\n",
        "ax = sns.barplot(x=correlation_with_trgt.index, y=correlation_with_trgt, palette='coolwarm')\n",
        "\n",
        "# Title and axis labels\n",
        "plt.title('Correlation with Mean Temperature', size=16)\n",
        "plt.xlabel('Features', size=12)\n",
        "plt.ylabel('Correlation', size=12)\n",
        "\n",
        "# Add value annotations on top of bars\n",
        "for p in ax.patches:\n",
        "    ax.annotate(f'{p.get_height():.2f}', (p.get_x() + p.get_width() / 2., p.get_height()),\n",
        "                ha='center', va='center', xytext=(0, 5), textcoords='offset points', fontsize=10)\n",
        "\n",
        "# Rotate x-axis labels for better readability\n",
        "plt.xticks(rotation=45, ha='right')\n",
        "\n",
        "# Show plot\n",
        "plt.tight_layout()\n",
        "plt.show()"
      ],
      "metadata": {
        "id": "_B1lrl3PHInt"
      },
      "execution_count": null,
      "outputs": []
    },
    {
      "cell_type": "markdown",
      "source": [
        "### Monthly Distributions of features with Box Plots"
      ],
      "metadata": {
        "id": "wXoS8CgaHrjE"
      }
    },
    {
      "cell_type": "code",
      "source": [
        "import plotly.express as px\n",
        "\n",
        "# Create subplots for each feature\n",
        "fig = px.box(data, x='Month', y='Global_active_power', title='Monthly Distribution of Mean Global_active_power', template='plotly_dark')\n",
        "fig.update_xaxes(title_text='Month')\n",
        "fig.update_yaxes(title_text='Mean Global_active_power')\n",
        "\n",
        "fig2 = px.box(data, x='Month', y='Global_reactive_power', title='Monthly Distribution of Mean Global_reactive_power', template='plotly_dark')\n",
        "fig2.update_xaxes(title_text='Month')\n",
        "fig2.update_yaxes(title_text='Mean Global_reactive_power')\n",
        "\n",
        "fig3 = px.box(data, x='Month', y='Voltage', title='Monthly Distribution of Mean Voltage', template='plotly_dark')\n",
        "fig3.update_xaxes(title_text='Month')\n",
        "fig3.update_yaxes(title_text='Mean Voltage')\n",
        "\n",
        "fig4 = px.box(data, x='Month', y='Global_intensity', title='Monthly Distribution of Mean Global_intensity', template='plotly_dark')\n",
        "fig4.update_xaxes(title_text='Month')\n",
        "fig4.update_yaxes(title_text='Mean Global_intensity')\n",
        "\n",
        "fig5 = px.box(data, x='Month', y='Sub_metering_1', title='Monthly Distribution of Mean Sub_metering_1', template='plotly_dark')\n",
        "fig5.update_xaxes(title_text='Month')\n",
        "fig5.update_yaxes(title_text='Mean Sub_metering_1')\n",
        "\n",
        "fig6 = px.box(data, x='Month', y='Sub_metering_2', title='Monthly Distribution of Mean Sub_metering_2', template='plotly_dark')\n",
        "fig6.update_xaxes(title_text='Month')\n",
        "fig6.update_yaxes(title_text='Mean Sub_metering_2')\n",
        "\n",
        "fig7 = px.box(data, x='Month', y='Sub_metering_3', title='Monthly Distribution of Mean Sub_metering_3', template='plotly_dark')\n",
        "fig7.update_xaxes(title_text='Month')\n",
        "fig7.update_yaxes(title_text='Mean Sub_metering_3')\n",
        "\n",
        "# Arrange subplots in a grid\n",
        "fig.update_layout(\n",
        "    grid={'rows': 2, 'columns': 2, 'pattern': \"independent\"},\n",
        ")\n",
        "\n",
        "# Show plots\n",
        "fig.show()\n",
        "fig2.show()\n",
        "fig3.show()\n",
        "fig4.show()\n",
        "fig5.show()\n",
        "fig6.show()\n",
        "fig7.show()"
      ],
      "metadata": {
        "id": "mZmbIkiiHuw-"
      },
      "execution_count": null,
      "outputs": []
    },
    {
      "cell_type": "markdown",
      "source": [
        "### Scatterplots"
      ],
      "metadata": {
        "id": "-8aVMRlyJJwn"
      }
    },
    {
      "cell_type": "code",
      "source": [
        "import plotly.express as px\n",
        "\n",
        "# Create scatter matrix plot\n",
        "fig = px.scatter_matrix(data,\n",
        "                        dimensions=['Global_active_power', 'Global_reactive_power', 'Voltage', 'Global_intensity', 'Sub_metering_1', 'Sub_metering_2', 'Sub_metering_3', 'Year', 'Month', 'Day', 'Hour', 'DayOfWeek', 'Weekend'],\n",
        "                        title='Scatter Matrix of Weather Parameters')\n",
        "\n",
        "# Update layout to increase figure size and add outlines to dots\n",
        "fig.update_layout(\n",
        "    width=1500,  # Increased width of the figure\n",
        "    height=1000,  # Increased height of the figure\n",
        "    title_x=0.5,  # Title position\n",
        "    margin=dict(l=50, r=50, t=50, b=50),  # Margin around the plot\n",
        "    template='plotly_dark'\n",
        ")\n",
        "\n",
        "# Update marker properties to add outlines\n",
        "fig.update_traces(marker=dict(line=dict(width=1, color='black')))  # Add outlines to dots\n",
        "\n",
        "# Show the figure\n",
        "fig.show()"
      ],
      "metadata": {
        "id": "oWhNkIlaJfIX"
      },
      "execution_count": null,
      "outputs": []
    },
    {
      "cell_type": "markdown",
      "source": [
        "### Histograms"
      ],
      "metadata": {
        "id": "7sddbhvTG2Z2"
      }
    },
    {
      "cell_type": "code",
      "source": [
        "import plotly.graph_objects as go\n",
        "import plotly.express as px\n",
        "\n",
        "# List of features to create histograms for\n",
        "features = ['Global_active_power', 'Global_reactive_power', 'Voltage',\n",
        "            'Global_intensity', 'Sub_metering_1', 'Sub_metering_2',\n",
        "            'Sub_metering_3']\n",
        "\n",
        "# Create histograms for each feature\n",
        "histograms = []\n",
        "for feature in features:\n",
        "    fig = px.histogram(df, x=feature, marginal='rug', title=f'Histogram for {feature}')\n",
        "    fig.update_traces(marker=dict(line=dict(width=1, color='black')))  # Add outlines to bars\n",
        "    histograms.append(fig)\n",
        "\n",
        "# Create subplot layout\n",
        "fig = go.Figure()\n",
        "\n",
        "# Add traces to the subplot\n",
        "for histogram in histograms:\n",
        "    fig.add_trace(histogram['data'][0])\n",
        "\n",
        "# Define button list for toggling between plots\n",
        "buttons = []\n",
        "for i, feature in enumerate(features):\n",
        "    button = dict(label=feature, method='update', args=[{'visible': [idx == i for idx in range(len(features))]}])\n",
        "    buttons.append(button)\n",
        "\n",
        "# Add buttons to the figure\n",
        "fig.update_layout(\n",
        "    updatemenus=[dict(buttons=buttons, direction='down', showactive=True, x=1.0, y=1.15)],\n",
        "    title='Histograms with Outlines',\n",
        "    template='plotly_dark'\n",
        ")\n",
        "\n",
        "# Show the figure\n",
        "fig.show()\n"
      ],
      "metadata": {
        "id": "ElgAj8VIHbrA"
      },
      "execution_count": null,
      "outputs": []
    },
    {
      "cell_type": "markdown",
      "source": [
        "### Histograms with Seaborn\n"
      ],
      "metadata": {
        "id": "2kLxy5KTH13B"
      }
    },
    {
      "cell_type": "code",
      "source": [
        "# Reset seaborn style to default\n",
        "sns.set_style('darkgrid')\n",
        "\n",
        "# Create subplots\n",
        "fig, ax = plt.subplots(4, 3, figsize=(20, 20))\n",
        "\n",
        "# Plot histograms for each feature\n",
        "for i, feature in enumerate(['Global_active_power', 'Global_reactive_power', 'Voltage',\n",
        "                             'Global_intensity', 'Sub_metering_1', 'Sub_metering_2',\n",
        "                             'Sub_metering_3']):\n",
        "    row = i // 3\n",
        "    col = i % 3\n",
        "    sns.histplot(data=df, x=feature, ax=ax[row][col], color='skyblue', kde=True)\n",
        "    ax[row][col].set_title(f'Histogram for {feature}')\n",
        "\n",
        "# Remove empty subplots\n",
        "for i in range(1):\n",
        "    for j in range(3):\n",
        "        ax[3][j].remove()\n",
        "\n",
        "# Adjust layout\n",
        "plt.tight_layout()\n",
        "\n",
        "# Show the plot\n",
        "plt.show()"
      ],
      "metadata": {
        "id": "3LBYxR83H63F"
      },
      "execution_count": null,
      "outputs": []
    },
    {
      "cell_type": "markdown",
      "source": [
        "### Polar Plots"
      ],
      "metadata": {
        "id": "1T9TUCRZIfBP"
      }
    },
    {
      "cell_type": "code",
      "source": [
        "data.columns"
      ],
      "metadata": {
        "id": "eOZfWSS3LprR"
      },
      "execution_count": null,
      "outputs": []
    },
    {
      "cell_type": "code",
      "source": [
        "# Reset seaborn style to default\n",
        "sns.set_style('darkgrid')\n",
        "\n",
        "# Create a 4x2 grid of subplots\n",
        "fig, axs = plt.subplots(4, 2, subplot_kw={'projection': 'polar'}, figsize=(14, 20))\n",
        "\n",
        "# List of parameters and their titles\n",
        "parameters = ['Global_active_power', 'Global_reactive_power', 'Voltage',\n",
        "       'Global_intensity', 'Sub_metering_1', 'Sub_metering_2',\n",
        "       'Sub_metering_3']\n",
        "# Titles for each parameter\n",
        "titles = ['Global Active Power', 'Global Reactive Power', 'Voltage',\n",
        "          'Global Intensity', 'Sub Metering 1', 'Sub Metering 2',\n",
        "          'Sub Metering 3']\n",
        "\n",
        "# Define a color palette for better distinction between parameters\n",
        "# colors = ['skyblue', 'lightgreen', 'lightcoral', 'lightcoral',\n",
        "#           'lightskyblue', 'lightgreen', 'lightcoral']\n",
        "\n",
        "for ax, param, title in zip(axs.flatten(), parameters, titles):\n",
        "    # Grouping the data by month, calculating the average mean value for each month\n",
        "    monthly_average = data.groupby('Month')[param].mean()\n",
        "\n",
        "    # Polar Plot theta (angle) and radii (length) settings\n",
        "    theta = np.linspace(0, 2 * np.pi, len(monthly_average), endpoint=False)\n",
        "    radii = monthly_average.values\n",
        "\n",
        "    # Extend theta and radii to connect the circle\n",
        "    theta = np.append(theta, theta[0])\n",
        "    radii = np.append(radii, radii[0])\n",
        "\n",
        "    # Polar Plot\n",
        "    ax.plot(theta, radii, label=title)\n",
        "    ax.set_title(title, va='bottom')\n",
        "    ax.set_xticks(theta[:-1])\n",
        "    ax.set_xticklabels(['Jan', 'Feb', 'Mar', 'Apr', 'May',\n",
        "                        'Jun', 'Jul', 'Aug', 'Sep', 'Oct', 'Nov', 'Dec'])\n",
        "    ax.set_ylim(0, radii.max() + 10)\n",
        "    ax.legend(loc='upper right')\n",
        "\n",
        "plt.tight_layout()\n",
        "plt.show()"
      ],
      "metadata": {
        "id": "3zHesgUSIg8J"
      },
      "execution_count": null,
      "outputs": []
    },
    {
      "cell_type": "markdown",
      "source": [
        "## Feature Selection"
      ],
      "metadata": {
        "id": "IRMp965eKKox"
      }
    },
    {
      "cell_type": "markdown",
      "source": [
        "> Average Voltage is almost the same in every month and has almost no correlation with Global Active Power"
      ],
      "metadata": {
        "id": "g0IVJNxfNzzZ"
      }
    },
    {
      "cell_type": "code",
      "source": [
        "# Selecting the desired features for modeling\n",
        "data = data[['Global_active_power', 'Global_reactive_power', 'Voltage',\n",
        "            'Global_intensity', 'Sub_metering_1', 'Sub_metering_2',\n",
        "            'Sub_metering_3']]\n",
        "\n",
        "# Displaying the first few rows of the updated DataFrame\n",
        "print(data.head())"
      ],
      "metadata": {
        "colab": {
          "base_uri": "https://localhost:8080/"
        },
        "id": "H-7FBjZoKVh5",
        "outputId": "e57b9158-0102-4a2a-a126-ad8519e6ec3e"
      },
      "execution_count": null,
      "outputs": [
        {
          "output_type": "stream",
          "name": "stdout",
          "text": [
            "                     Global_active_power  Global_reactive_power  Voltage  \\\n",
            "Date_time                                                                  \n",
            "2006-12-16 17:24:00                4.216                  0.418  234.840   \n",
            "2006-12-16 17:25:00                5.360                  0.436  233.630   \n",
            "2006-12-16 17:26:00                5.374                  0.498  233.290   \n",
            "2006-12-16 17:27:00                5.388                  0.502  233.740   \n",
            "2006-12-16 17:28:00                3.666                  0.528  235.680   \n",
            "\n",
            "                     Global_intensity  Sub_metering_1  Sub_metering_2  \\\n",
            "Date_time                                                               \n",
            "2006-12-16 17:24:00            18.400           0.000           1.000   \n",
            "2006-12-16 17:25:00            23.000           0.000           1.000   \n",
            "2006-12-16 17:26:00            23.000           0.000           2.000   \n",
            "2006-12-16 17:27:00            23.000           0.000           1.000   \n",
            "2006-12-16 17:28:00            15.800           0.000           1.000   \n",
            "\n",
            "                     Sub_metering_3  \n",
            "Date_time                            \n",
            "2006-12-16 17:24:00          17.000  \n",
            "2006-12-16 17:25:00          16.000  \n",
            "2006-12-16 17:26:00          17.000  \n",
            "2006-12-16 17:27:00          17.000  \n",
            "2006-12-16 17:28:00          17.000  \n"
          ]
        }
      ]
    },
    {
      "cell_type": "code",
      "source": [
        "# Display information about the DataFrame\n",
        "print(data.info())"
      ],
      "metadata": {
        "colab": {
          "base_uri": "https://localhost:8080/"
        },
        "id": "6L-4u49Er-h7",
        "outputId": "0ff9df67-16ef-4778-98f3-7164fbcca1e8"
      },
      "execution_count": null,
      "outputs": [
        {
          "output_type": "stream",
          "name": "stdout",
          "text": [
            "<class 'pandas.core.frame.DataFrame'>\n",
            "DatetimeIndex: 2075259 entries, 2006-12-16 17:24:00 to 2010-11-26 21:02:00\n",
            "Data columns (total 7 columns):\n",
            " #   Column                 Dtype  \n",
            "---  ------                 -----  \n",
            " 0   Global_active_power    float64\n",
            " 1   Global_reactive_power  float64\n",
            " 2   Voltage                float64\n",
            " 3   Global_intensity       float64\n",
            " 4   Sub_metering_1         float64\n",
            " 5   Sub_metering_2         float64\n",
            " 6   Sub_metering_3         float64\n",
            "dtypes: float64(7)\n",
            "memory usage: 126.7 MB\n",
            "None\n"
          ]
        }
      ]
    },
    {
      "cell_type": "markdown",
      "source": [
        "## Machine Learning Models"
      ],
      "metadata": {
        "id": "_svoKY54sE7s"
      }
    },
    {
      "cell_type": "markdown",
      "source": [
        "### ARIMA-SARIMA Models"
      ],
      "metadata": {
        "id": "AeCRvDyJsF6T"
      }
    },
    {
      "cell_type": "markdown",
      "source": [
        "#### Data Preparation"
      ],
      "metadata": {
        "id": "--bOqu4qscOb"
      }
    },
    {
      "cell_type": "code",
      "source": [
        "# Creating a copy of the DataFrame\n",
        "data1 = data.copy()\n",
        "\n",
        "# Displaying the new DataFrame\n",
        "data1.head()"
      ],
      "metadata": {
        "colab": {
          "base_uri": "https://localhost:8080/",
          "height": 431
        },
        "id": "dTbP3NahsIaL",
        "outputId": "ae5f61ba-06c4-4983-e21e-4c292041bb7d"
      },
      "execution_count": null,
      "outputs": [
        {
          "output_type": "execute_result",
          "data": {
            "text/plain": [
              "                     Global_active_power  Global_reactive_power  Voltage  \\\n",
              "Date_time                                                                  \n",
              "2006-12-16 17:24:00                4.216                  0.418  234.840   \n",
              "2006-12-16 17:25:00                5.360                  0.436  233.630   \n",
              "2006-12-16 17:26:00                5.374                  0.498  233.290   \n",
              "2006-12-16 17:27:00                5.388                  0.502  233.740   \n",
              "2006-12-16 17:28:00                3.666                  0.528  235.680   \n",
              "\n",
              "                     Global_intensity  Sub_metering_1  Sub_metering_2  \\\n",
              "Date_time                                                               \n",
              "2006-12-16 17:24:00            18.400           0.000           1.000   \n",
              "2006-12-16 17:25:00            23.000           0.000           1.000   \n",
              "2006-12-16 17:26:00            23.000           0.000           2.000   \n",
              "2006-12-16 17:27:00            23.000           0.000           1.000   \n",
              "2006-12-16 17:28:00            15.800           0.000           1.000   \n",
              "\n",
              "                     Sub_metering_3  \n",
              "Date_time                            \n",
              "2006-12-16 17:24:00          17.000  \n",
              "2006-12-16 17:25:00          16.000  \n",
              "2006-12-16 17:26:00          17.000  \n",
              "2006-12-16 17:27:00          17.000  \n",
              "2006-12-16 17:28:00          17.000  "
            ],
            "text/html": [
              "\n",
              "  <div id=\"df-f4962ea1-342b-4ceb-952f-e4ffbfd36ea2\" class=\"colab-df-container\">\n",
              "    <div>\n",
              "<style scoped>\n",
              "    .dataframe tbody tr th:only-of-type {\n",
              "        vertical-align: middle;\n",
              "    }\n",
              "\n",
              "    .dataframe tbody tr th {\n",
              "        vertical-align: top;\n",
              "    }\n",
              "\n",
              "    .dataframe thead th {\n",
              "        text-align: right;\n",
              "    }\n",
              "</style>\n",
              "<table border=\"1\" class=\"dataframe\">\n",
              "  <thead>\n",
              "    <tr style=\"text-align: right;\">\n",
              "      <th></th>\n",
              "      <th>Global_active_power</th>\n",
              "      <th>Global_reactive_power</th>\n",
              "      <th>Voltage</th>\n",
              "      <th>Global_intensity</th>\n",
              "      <th>Sub_metering_1</th>\n",
              "      <th>Sub_metering_2</th>\n",
              "      <th>Sub_metering_3</th>\n",
              "    </tr>\n",
              "    <tr>\n",
              "      <th>Date_time</th>\n",
              "      <th></th>\n",
              "      <th></th>\n",
              "      <th></th>\n",
              "      <th></th>\n",
              "      <th></th>\n",
              "      <th></th>\n",
              "      <th></th>\n",
              "    </tr>\n",
              "  </thead>\n",
              "  <tbody>\n",
              "    <tr>\n",
              "      <th>2006-12-16 17:24:00</th>\n",
              "      <td>4.216</td>\n",
              "      <td>0.418</td>\n",
              "      <td>234.840</td>\n",
              "      <td>18.400</td>\n",
              "      <td>0.000</td>\n",
              "      <td>1.000</td>\n",
              "      <td>17.000</td>\n",
              "    </tr>\n",
              "    <tr>\n",
              "      <th>2006-12-16 17:25:00</th>\n",
              "      <td>5.360</td>\n",
              "      <td>0.436</td>\n",
              "      <td>233.630</td>\n",
              "      <td>23.000</td>\n",
              "      <td>0.000</td>\n",
              "      <td>1.000</td>\n",
              "      <td>16.000</td>\n",
              "    </tr>\n",
              "    <tr>\n",
              "      <th>2006-12-16 17:26:00</th>\n",
              "      <td>5.374</td>\n",
              "      <td>0.498</td>\n",
              "      <td>233.290</td>\n",
              "      <td>23.000</td>\n",
              "      <td>0.000</td>\n",
              "      <td>2.000</td>\n",
              "      <td>17.000</td>\n",
              "    </tr>\n",
              "    <tr>\n",
              "      <th>2006-12-16 17:27:00</th>\n",
              "      <td>5.388</td>\n",
              "      <td>0.502</td>\n",
              "      <td>233.740</td>\n",
              "      <td>23.000</td>\n",
              "      <td>0.000</td>\n",
              "      <td>1.000</td>\n",
              "      <td>17.000</td>\n",
              "    </tr>\n",
              "    <tr>\n",
              "      <th>2006-12-16 17:28:00</th>\n",
              "      <td>3.666</td>\n",
              "      <td>0.528</td>\n",
              "      <td>235.680</td>\n",
              "      <td>15.800</td>\n",
              "      <td>0.000</td>\n",
              "      <td>1.000</td>\n",
              "      <td>17.000</td>\n",
              "    </tr>\n",
              "  </tbody>\n",
              "</table>\n",
              "</div>\n",
              "    <div class=\"colab-df-buttons\">\n",
              "\n",
              "  <div class=\"colab-df-container\">\n",
              "    <button class=\"colab-df-convert\" onclick=\"convertToInteractive('df-f4962ea1-342b-4ceb-952f-e4ffbfd36ea2')\"\n",
              "            title=\"Convert this dataframe to an interactive table.\"\n",
              "            style=\"display:none;\">\n",
              "\n",
              "  <svg xmlns=\"http://www.w3.org/2000/svg\" height=\"24px\" viewBox=\"0 -960 960 960\">\n",
              "    <path d=\"M120-120v-720h720v720H120Zm60-500h600v-160H180v160Zm220 220h160v-160H400v160Zm0 220h160v-160H400v160ZM180-400h160v-160H180v160Zm440 0h160v-160H620v160ZM180-180h160v-160H180v160Zm440 0h160v-160H620v160Z\"/>\n",
              "  </svg>\n",
              "    </button>\n",
              "\n",
              "  <style>\n",
              "    .colab-df-container {\n",
              "      display:flex;\n",
              "      gap: 12px;\n",
              "    }\n",
              "\n",
              "    .colab-df-convert {\n",
              "      background-color: #E8F0FE;\n",
              "      border: none;\n",
              "      border-radius: 50%;\n",
              "      cursor: pointer;\n",
              "      display: none;\n",
              "      fill: #1967D2;\n",
              "      height: 32px;\n",
              "      padding: 0 0 0 0;\n",
              "      width: 32px;\n",
              "    }\n",
              "\n",
              "    .colab-df-convert:hover {\n",
              "      background-color: #E2EBFA;\n",
              "      box-shadow: 0px 1px 2px rgba(60, 64, 67, 0.3), 0px 1px 3px 1px rgba(60, 64, 67, 0.15);\n",
              "      fill: #174EA6;\n",
              "    }\n",
              "\n",
              "    .colab-df-buttons div {\n",
              "      margin-bottom: 4px;\n",
              "    }\n",
              "\n",
              "    [theme=dark] .colab-df-convert {\n",
              "      background-color: #3B4455;\n",
              "      fill: #D2E3FC;\n",
              "    }\n",
              "\n",
              "    [theme=dark] .colab-df-convert:hover {\n",
              "      background-color: #434B5C;\n",
              "      box-shadow: 0px 1px 3px 1px rgba(0, 0, 0, 0.15);\n",
              "      filter: drop-shadow(0px 1px 2px rgba(0, 0, 0, 0.3));\n",
              "      fill: #FFFFFF;\n",
              "    }\n",
              "  </style>\n",
              "\n",
              "    <script>\n",
              "      const buttonEl =\n",
              "        document.querySelector('#df-f4962ea1-342b-4ceb-952f-e4ffbfd36ea2 button.colab-df-convert');\n",
              "      buttonEl.style.display =\n",
              "        google.colab.kernel.accessAllowed ? 'block' : 'none';\n",
              "\n",
              "      async function convertToInteractive(key) {\n",
              "        const element = document.querySelector('#df-f4962ea1-342b-4ceb-952f-e4ffbfd36ea2');\n",
              "        const dataTable =\n",
              "          await google.colab.kernel.invokeFunction('convertToInteractive',\n",
              "                                                    [key], {});\n",
              "        if (!dataTable) return;\n",
              "\n",
              "        const docLinkHtml = 'Like what you see? Visit the ' +\n",
              "          '<a target=\"_blank\" href=https://colab.research.google.com/notebooks/data_table.ipynb>data table notebook</a>'\n",
              "          + ' to learn more about interactive tables.';\n",
              "        element.innerHTML = '';\n",
              "        dataTable['output_type'] = 'display_data';\n",
              "        await google.colab.output.renderOutput(dataTable, element);\n",
              "        const docLink = document.createElement('div');\n",
              "        docLink.innerHTML = docLinkHtml;\n",
              "        element.appendChild(docLink);\n",
              "      }\n",
              "    </script>\n",
              "  </div>\n",
              "\n",
              "\n",
              "<div id=\"df-54a01d53-10fa-474a-8423-c476f8a3830e\">\n",
              "  <button class=\"colab-df-quickchart\" onclick=\"quickchart('df-54a01d53-10fa-474a-8423-c476f8a3830e')\"\n",
              "            title=\"Suggest charts\"\n",
              "            style=\"display:none;\">\n",
              "\n",
              "<svg xmlns=\"http://www.w3.org/2000/svg\" height=\"24px\"viewBox=\"0 0 24 24\"\n",
              "     width=\"24px\">\n",
              "    <g>\n",
              "        <path d=\"M19 3H5c-1.1 0-2 .9-2 2v14c0 1.1.9 2 2 2h14c1.1 0 2-.9 2-2V5c0-1.1-.9-2-2-2zM9 17H7v-7h2v7zm4 0h-2V7h2v10zm4 0h-2v-4h2v4z\"/>\n",
              "    </g>\n",
              "</svg>\n",
              "  </button>\n",
              "\n",
              "<style>\n",
              "  .colab-df-quickchart {\n",
              "      --bg-color: #E8F0FE;\n",
              "      --fill-color: #1967D2;\n",
              "      --hover-bg-color: #E2EBFA;\n",
              "      --hover-fill-color: #174EA6;\n",
              "      --disabled-fill-color: #AAA;\n",
              "      --disabled-bg-color: #DDD;\n",
              "  }\n",
              "\n",
              "  [theme=dark] .colab-df-quickchart {\n",
              "      --bg-color: #3B4455;\n",
              "      --fill-color: #D2E3FC;\n",
              "      --hover-bg-color: #434B5C;\n",
              "      --hover-fill-color: #FFFFFF;\n",
              "      --disabled-bg-color: #3B4455;\n",
              "      --disabled-fill-color: #666;\n",
              "  }\n",
              "\n",
              "  .colab-df-quickchart {\n",
              "    background-color: var(--bg-color);\n",
              "    border: none;\n",
              "    border-radius: 50%;\n",
              "    cursor: pointer;\n",
              "    display: none;\n",
              "    fill: var(--fill-color);\n",
              "    height: 32px;\n",
              "    padding: 0;\n",
              "    width: 32px;\n",
              "  }\n",
              "\n",
              "  .colab-df-quickchart:hover {\n",
              "    background-color: var(--hover-bg-color);\n",
              "    box-shadow: 0 1px 2px rgba(60, 64, 67, 0.3), 0 1px 3px 1px rgba(60, 64, 67, 0.15);\n",
              "    fill: var(--button-hover-fill-color);\n",
              "  }\n",
              "\n",
              "  .colab-df-quickchart-complete:disabled,\n",
              "  .colab-df-quickchart-complete:disabled:hover {\n",
              "    background-color: var(--disabled-bg-color);\n",
              "    fill: var(--disabled-fill-color);\n",
              "    box-shadow: none;\n",
              "  }\n",
              "\n",
              "  .colab-df-spinner {\n",
              "    border: 2px solid var(--fill-color);\n",
              "    border-color: transparent;\n",
              "    border-bottom-color: var(--fill-color);\n",
              "    animation:\n",
              "      spin 1s steps(1) infinite;\n",
              "  }\n",
              "\n",
              "  @keyframes spin {\n",
              "    0% {\n",
              "      border-color: transparent;\n",
              "      border-bottom-color: var(--fill-color);\n",
              "      border-left-color: var(--fill-color);\n",
              "    }\n",
              "    20% {\n",
              "      border-color: transparent;\n",
              "      border-left-color: var(--fill-color);\n",
              "      border-top-color: var(--fill-color);\n",
              "    }\n",
              "    30% {\n",
              "      border-color: transparent;\n",
              "      border-left-color: var(--fill-color);\n",
              "      border-top-color: var(--fill-color);\n",
              "      border-right-color: var(--fill-color);\n",
              "    }\n",
              "    40% {\n",
              "      border-color: transparent;\n",
              "      border-right-color: var(--fill-color);\n",
              "      border-top-color: var(--fill-color);\n",
              "    }\n",
              "    60% {\n",
              "      border-color: transparent;\n",
              "      border-right-color: var(--fill-color);\n",
              "    }\n",
              "    80% {\n",
              "      border-color: transparent;\n",
              "      border-right-color: var(--fill-color);\n",
              "      border-bottom-color: var(--fill-color);\n",
              "    }\n",
              "    90% {\n",
              "      border-color: transparent;\n",
              "      border-bottom-color: var(--fill-color);\n",
              "    }\n",
              "  }\n",
              "</style>\n",
              "\n",
              "  <script>\n",
              "    async function quickchart(key) {\n",
              "      const quickchartButtonEl =\n",
              "        document.querySelector('#' + key + ' button');\n",
              "      quickchartButtonEl.disabled = true;  // To prevent multiple clicks.\n",
              "      quickchartButtonEl.classList.add('colab-df-spinner');\n",
              "      try {\n",
              "        const charts = await google.colab.kernel.invokeFunction(\n",
              "            'suggestCharts', [key], {});\n",
              "      } catch (error) {\n",
              "        console.error('Error during call to suggestCharts:', error);\n",
              "      }\n",
              "      quickchartButtonEl.classList.remove('colab-df-spinner');\n",
              "      quickchartButtonEl.classList.add('colab-df-quickchart-complete');\n",
              "    }\n",
              "    (() => {\n",
              "      let quickchartButtonEl =\n",
              "        document.querySelector('#df-54a01d53-10fa-474a-8423-c476f8a3830e button');\n",
              "      quickchartButtonEl.style.display =\n",
              "        google.colab.kernel.accessAllowed ? 'block' : 'none';\n",
              "    })();\n",
              "  </script>\n",
              "</div>\n",
              "\n",
              "    </div>\n",
              "  </div>\n"
            ],
            "application/vnd.google.colaboratory.intrinsic+json": {
              "type": "dataframe",
              "variable_name": "data1"
            }
          },
          "metadata": {},
          "execution_count": 29
        }
      ]
    },
    {
      "cell_type": "markdown",
      "source": [
        "#### Check Stationarity"
      ],
      "metadata": {
        "id": "FyK8aVXCsags"
      }
    },
    {
      "cell_type": "markdown",
      "source": [
        "##### ACF (Autocorrelation Function) & PACF (Partial Autocorrelation Function)"
      ],
      "metadata": {
        "id": "w0Z67FLotfxd"
      }
    },
    {
      "cell_type": "code",
      "source": [
        "from statsmodels.graphics.tsaplots import plot_acf, plot_pacf\n",
        "\n",
        "# Create subplots\n",
        "fig, axes = plt.subplots(1, 2, figsize=(16, 6))\n",
        "\n",
        "# Plot ACF\n",
        "plot_acf(data1['Global_active_power'], ax=axes[0], lags=40, title='Autocorrelation Function (ACF) for Global_active_power')\n",
        "\n",
        "# Plot PACF\n",
        "plot_pacf(data1['Global_active_power'], ax=axes[1], lags=40, title='Partial Autocorrelation Function (PACF) for Global_active_power')\n",
        "\n",
        "# Add some additional customization\n",
        "for ax in axes:\n",
        "    ax.tick_params(axis='x', labelsize=10)  # Adjust x-axis tick labels size\n",
        "    ax.tick_params(axis='y', labelsize=10)  # Adjust y-axis tick labels size\n",
        "    ax.grid(True)  # Add gridlines for better readability\n",
        "\n",
        "# Adjust layout\n",
        "plt.tight_layout()\n",
        "\n",
        "# Show the plot\n",
        "plt.show()"
      ],
      "metadata": {
        "id": "BzrwzTbKsm9d"
      },
      "execution_count": null,
      "outputs": []
    },
    {
      "cell_type": "markdown",
      "source": [
        "> The Series does not seem stationary, ACF has to become 0 at some point. But we are not certainly sure yet.\n",
        "\n",
        "Let's confirm with the ADF and KPSS tests"
      ],
      "metadata": {
        "id": "OxMCx1EytsH0"
      }
    },
    {
      "cell_type": "markdown",
      "source": [
        "##### Augmented Dickey-Fuller Test (ADF) & Kwiatkowski-Phillips-Schmidt-Shin Test (KPSS)"
      ],
      "metadata": {
        "id": "e47QDQn6tv8c"
      }
    },
    {
      "cell_type": "code",
      "source": [
        "import statsmodels.api as sm\n",
        "from statsmodels.tsa.stattools import adfuller, kpss\n",
        "\n",
        "def check_stationarity(series, alpha=0.05):\n",
        "    print(f'\\n___________________Checking Stationarity for: {series.name}___________________\\n')\n",
        "\n",
        "    # Handle missing values\n",
        "    series = series.dropna()\n",
        "\n",
        "    # ADF Test\n",
        "    adf_test = adfuller(series.values)\n",
        "    print('ADF Test:')\n",
        "    print(f'ADF Statistic: {adf_test[0]}')\n",
        "    print(f'p-value: {adf_test[1]}')\n",
        "    print('Critical Values:')\n",
        "    for key, value in adf_test[4].items():\n",
        "        print(f'\\t{key}: {value:.3f}')\n",
        "    if adf_test[1] <= alpha and adf_test[4]['5%'] > adf_test[0]:\n",
        "        print(\"\\x1b[32mSeries is Stationary (ADF Test)\\x1b[0m\")\n",
        "    else:\n",
        "        print(\"\\x1b[31mSeries is Non-stationary (ADF Test)\\x1b[0m\")\n",
        "\n",
        "    print('-' * 50)\n",
        "\n",
        "    # KPSS Test\n",
        "    kpss_test = kpss(series.values, regression='c', nlags='auto')\n",
        "    print('KPSS Test:')\n",
        "    print(f'KPSS Statistic: {kpss_test[0]}')\n",
        "    print(f'p-value: {kpss_test[1]}')\n",
        "    print('Critical Values:')\n",
        "    for key, value in kpss_test[3].items():\n",
        "        print(f'\\t{key}: {value:.3f}')\n",
        "    if kpss_test[1] > alpha:\n",
        "        print(\"\\x1b[32mSeries is Stationary (KPSS Test)\\x1b[0m\")\n",
        "    else:\n",
        "        print(\"\\x1b[31mSeries is Non-stationary (KPSS Test)\\x1b[0m\")"
      ],
      "metadata": {
        "id": "TxZ2mXeEt5lM"
      },
      "execution_count": null,
      "outputs": []
    },
    {
      "cell_type": "code",
      "source": [
        "# Check initial stationarity for each feature\n",
        "check_stationarity(data1['Global_active_power'])  # Target is non-stationary!!\n",
        "check_stationarity(data1['Global_reactive_power'])\n",
        "check_stationarity(data1['Global_intensity'])\n",
        "check_stationarity(data1['Sub_metering_1'])\n",
        "check_stationarity(data1['Sub_metering_2'])\n",
        "check_stationarity(data1['Sub_metering_3'])"
      ],
      "metadata": {
        "id": "a60Ntk1nuNxk"
      },
      "execution_count": null,
      "outputs": []
    },
    {
      "cell_type": "markdown",
      "source": [
        "##### Apply differencing to make the series stationary"
      ],
      "metadata": {
        "id": "QX4qBS9_u1K7"
      }
    },
    {
      "cell_type": "code",
      "source": [
        "def check_stationarity_after_diff(series, diff_degree=1, alpha=0.05, plot=True):\n",
        "    print('\\n\\n############################### After Differencing ###############################\\n\\n')\n",
        "\n",
        "    # Apply differencing\n",
        "    series_diff = series.diff(diff_degree).fillna(0)\n",
        "\n",
        "    # Check stationarity after differencing\n",
        "    check_stationarity(series_diff, alpha=alpha)\n",
        "\n",
        "    # Optionally plot original and differenced series\n",
        "    if plot:\n",
        "        plt.figure(figsize=(12, 6))\n",
        "        plt.plot(series, label='Original Series')\n",
        "        plt.plot(series_diff, label=f'Differenced Series (Degree={diff_degree})')\n",
        "        plt.title('Original vs. Differenced Time Series')\n",
        "        plt.xlabel('Index')\n",
        "        plt.ylabel('Value')\n",
        "        plt.legend()\n",
        "        plt.show()\n",
        "\n",
        "# Check initial stationarity for 'Global_active_power' series\n",
        "check_stationarity(data1['Global_active_power'])\n",
        "\n",
        "# Check stationarity after differencing for 'Global_active_power' series\n",
        "check_stationarity_after_diff(data1['Global_active_power'])"
      ],
      "metadata": {
        "id": "VhBpJZsQu37F",
        "colab": {
          "base_uri": "https://localhost:8080/"
        },
        "outputId": "52aecaf8-8ac4-4ef8-dbcd-d77ebc190c31"
      },
      "execution_count": null,
      "outputs": [
        {
          "output_type": "stream",
          "name": "stdout",
          "text": [
            "\n",
            "___________________Checking Stationarity for: Global_active_power___________________\n",
            "\n"
          ]
        }
      ]
    },
    {
      "cell_type": "markdown",
      "source": [
        "##### Plotting ACF and PACF before and after differencing"
      ],
      "metadata": {
        "id": "Zw7m7Uk2vsQN"
      }
    },
    {
      "cell_type": "code",
      "source": [
        "# Create 'Global_active_power_diff' column by differencing the 'Global_active_power' series\n",
        "data1['Global_active_power_diff'] = data1['Global_active_power'].diff().fillna(0)\n",
        "\n",
        "# Create subplots\n",
        "fig, ax = plt.subplots(nrows=2, ncols=2, figsize=(15, 8))\n",
        "\n",
        "# Plot ACF and PACF for non-stationary 'Global_active_power' series\n",
        "plot_acf(data1['Global_active_power'], lags=40, ax=ax[0, 0])\n",
        "ax[0, 0].set_title('ACF on Non-Stationary (Original)')\n",
        "plot_pacf(data1['Global_active_power'], lags=40, ax=ax[0, 1], method='ols')\n",
        "ax[0, 1].set_title('PACF on Non-Stationary (Original)')\n",
        "\n",
        "# Plot ACF and PACF for differenced/stationary 'Global_active_power' series\n",
        "plot_acf(data1['Global_active_power_diff'], lags=40, ax=ax[1, 0])\n",
        "ax[1, 0].set_title('ACF on Differenced/Stationary')\n",
        "plot_pacf(data1['Global_active_power_diff'], lags=40, ax=ax[1, 1], method='ols')\n",
        "ax[1, 1].set_title('PACF on Differenced/Stationary')\n",
        "\n",
        "# Adjust layout\n",
        "plt.tight_layout()\n",
        "\n",
        "# Show the plot\n",
        "plt.show()"
      ],
      "metadata": {
        "id": "XwE3FVYtv9Xu"
      },
      "execution_count": null,
      "outputs": []
    },
    {
      "cell_type": "markdown",
      "source": [
        "> After differencing, the series has become stationary"
      ],
      "metadata": {
        "id": "QdXzKWiCwUHX"
      }
    },
    {
      "cell_type": "markdown",
      "source": [
        "#### Spliting data for ARIMA-SARIMA Model"
      ],
      "metadata": {
        "id": "mpV0R-edwuBQ"
      }
    },
    {
      "cell_type": "code",
      "source": [
        "# Check DataFrame information\n",
        "data1.info()"
      ],
      "metadata": {
        "id": "LZcnlSJNwzNG"
      },
      "execution_count": null,
      "outputs": []
    },
    {
      "cell_type": "code",
      "source": [
        "# Split the data into training and testing sets\n",
        "train_size = int(len(data1) * 0.8)  # 80% training data, 20% testing data\n",
        "train, test = data1.iloc[:train_size], data1.iloc[train_size:]\n",
        "\n",
        "# Display training set information\n",
        "print(f'Train shape: {train.shape}')\n",
        "\n",
        "# Display testing set information\n",
        "print(f'Test shape: {test.shape}')"
      ],
      "metadata": {
        "id": "U0fHH1ex6I9G"
      },
      "execution_count": null,
      "outputs": []
    },
    {
      "cell_type": "code",
      "source": [
        "print(train.head())"
      ],
      "metadata": {
        "id": "hHo_Ukpt6Q_O"
      },
      "execution_count": null,
      "outputs": []
    },
    {
      "cell_type": "code",
      "source": [
        "print(test.head())"
      ],
      "metadata": {
        "id": "pDpuxl2S6VZ-"
      },
      "execution_count": null,
      "outputs": []
    },
    {
      "cell_type": "markdown",
      "source": [
        "#### ARIMA modeling process with Daily data"
      ],
      "metadata": {
        "id": "hbHU1PtM6n-Z"
      }
    },
    {
      "cell_type": "code",
      "source": [
        "from statsmodels.tsa.arima.model import ARIMA\n",
        "from sklearn.metrics import mean_squared_error, mean_absolute_error\n",
        "\n",
        "# Fit the ARIMA model\n",
        "arima_model = ARIMA(train['Global_active_power'], order=(1,1,1))  # ARIMA(p,d,q)\n",
        "arima_model_fit = arima_model.fit()"
      ],
      "metadata": {
        "id": "5aMFVsAh6xpb"
      },
      "execution_count": null,
      "outputs": []
    },
    {
      "cell_type": "code",
      "source": [
        "# Make predictions\n",
        "arima_pred = arima_model_fit.forecast(steps=len(test))"
      ],
      "metadata": {
        "id": "RxByo10f67re"
      },
      "execution_count": null,
      "outputs": []
    },
    {
      "cell_type": "code",
      "source": [
        "# Calculate error metrics\n",
        "mse = mean_squared_error(test['Global_active_power'], arima_pred)\n",
        "mae = mean_absolute_error(test['Global_active_power'], arima_pred)\n",
        "print('Test MSE: %.3f' % mse)\n",
        "print('Test MAE: %.3f' % mae)"
      ],
      "metadata": {
        "id": "g8NX8rcc7AaG"
      },
      "execution_count": null,
      "outputs": []
    },
    {
      "cell_type": "code",
      "source": [
        "# Plot the entire time series with forecast\n",
        "plt.figure(figsize=(12, 6))\n",
        "plt.plot(data1.index, data1['Global_active_power'], label='Actual')\n",
        "plt.plot(test.index, arima_pred, color='red', label='Forecast')\n",
        "plt.xlabel('Date')\n",
        "plt.ylabel('Mean Temperature')\n",
        "plt.title('ARIMA Forecast')\n",
        "plt.legend()\n",
        "plt.show()"
      ],
      "metadata": {
        "id": "tVOtwcHh7Dou"
      },
      "execution_count": null,
      "outputs": []
    },
    {
      "cell_type": "markdown",
      "source": [
        "> Simple ARIMA Model is not suitable for this data (There is seasonality in our data)"
      ],
      "metadata": {
        "id": "1pWnLg9p7Rf6"
      }
    },
    {
      "cell_type": "markdown",
      "source": [
        "#### SARIMAX modeling process Daily data"
      ],
      "metadata": {
        "id": "c4hKU4kn7TE_"
      }
    },
    {
      "cell_type": "code",
      "source": [
        "from statsmodels.tsa.statespace.sarimax import SARIMAX\n",
        "from sklearn.metrics import mean_squared_error, mean_absolute_error, r2_score\n",
        "\n",
        "# Define the SARIMA model parameters\n",
        "order = (1, 1, 6)  # Non-seasonal order (p, d, q)\n",
        "seasonal_order = (1, 1, 1, 7)  # Seasonal order (P, D, Q, S)\n",
        "\n",
        "# Fit the SARIMA model\n",
        "sarima_model = SARIMAX(endog=train['Global_active_power'], exog=train[['Global_reactive_power', 'Global_intensity', 'Sub_metering_1', 'Sub_metering_2', 'Sub_metering_3']],\n",
        "                       order=order, seasonal_order=seasonal_order)\n",
        "\n",
        "sarima_model_fit = sarima_model.fit()"
      ],
      "metadata": {
        "id": "bBwmKoG97XAl"
      },
      "execution_count": null,
      "outputs": []
    },
    {
      "cell_type": "code",
      "source": [
        "# Make predictions\n",
        "sarima_pred = sarima_model_fit.predict(start=test.index[0], end=test.index[-1],\n",
        "                                        exog=test[['Global_reactive_power', 'Global_intensity', 'Sub_metering_1', 'Sub_metering_2', 'Sub_metering_3']])"
      ],
      "metadata": {
        "id": "FHPS4lVF7b6L"
      },
      "execution_count": null,
      "outputs": []
    },
    {
      "cell_type": "code",
      "source": [
        "# Calculate error metrics\n",
        "mse = mean_squared_error(test['Global_active_power'], sarima_pred)\n",
        "mae = mean_absolute_error(test['Global_active_power'], sarima_pred)\n",
        "r2 = r2_score(test['Global_active_power'], sarima_pred)\n",
        "print('Test MSE:', mse)\n",
        "print('Test MAE:', mae)\n",
        "print('Test R²: %.3f' % r2)"
      ],
      "metadata": {
        "id": "R0Ohs4Oz7ey7"
      },
      "execution_count": null,
      "outputs": []
    },
    {
      "cell_type": "code",
      "source": [
        "# Plot the entire time series with forecast\n",
        "plt.figure(figsize=(12, 6))\n",
        "plt.plot(data1.index, data1['Global_active_power'], label='Actual')\n",
        "plt.plot(test.index, sarima_pred, color='red', label='SARIMA Forecast')\n",
        "plt.xlabel('Date')\n",
        "plt.ylabel('Global_active_power')\n",
        "plt.title('SARIMA Forecast')\n",
        "plt.legend()\n",
        "plt.show()"
      ],
      "metadata": {
        "id": "3__ur3Ku7iRi"
      },
      "execution_count": null,
      "outputs": []
    },
    {
      "cell_type": "markdown",
      "source": [
        "#### SARIMAX model with a differenced target"
      ],
      "metadata": {
        "id": "pUd20mi_7km4"
      }
    },
    {
      "cell_type": "code",
      "source": [
        "# Fit the SARIMA model with differenced target\n",
        "sarima_model = SARIMAX(endog=train['Global_active_power_diff'], exog=train[['Global_reactive_power', 'Global_intensity', 'Sub_metering_1', 'Sub_metering_2', 'Sub_metering_3']],\n",
        "                       order=order, seasonal_order=seasonal_order)\n",
        "\n",
        "sarima_model_fit = sarima_model.fit()"
      ],
      "metadata": {
        "id": "DNLVq0B07qG2"
      },
      "execution_count": null,
      "outputs": []
    },
    {
      "cell_type": "code",
      "source": [
        "# Make predictions\n",
        "sarima_pred_diff = sarima_model_fit.predict(start=test.index[0], end=test.index[-1],\n",
        "                                            exog=test[['Global_reactive_power', 'Global_intensity', 'Sub_metering_1', 'Sub_metering_2', 'Sub_metering_3']])"
      ],
      "metadata": {
        "id": "oHBDhZc-7vsW"
      },
      "execution_count": null,
      "outputs": []
    },
    {
      "cell_type": "code",
      "source": [
        "# Convert differenced predictions back to the original scale\n",
        "last_original_value = train['Global_active_power'].iloc[-1]\n",
        "sarima_pred = sarima_pred_diff.cumsum() + last_original_value"
      ],
      "metadata": {
        "id": "-4QGCd747yjF"
      },
      "execution_count": null,
      "outputs": []
    },
    {
      "cell_type": "code",
      "source": [
        "# Calculate error metrics\n",
        "mse = mean_squared_error(test['Global_active_power'], sarima_pred)\n",
        "mae = mean_absolute_error(test['Global_active_power'], sarima_pred)\n",
        "r2 = r2_score(test['Global_active_power'], sarima_pred)\n",
        "print('Test MSE:', mse)\n",
        "print('Test MAE:', mae)\n",
        "print('Test R²: %.3f' % r2)"
      ],
      "metadata": {
        "id": "FSvtwv_U9H_k"
      },
      "execution_count": null,
      "outputs": []
    },
    {
      "cell_type": "code",
      "source": [
        "# Plot the results\n",
        "plt.figure(figsize=(12, 6))\n",
        "plt.plot(test.index, test['Global_active_power'], label='Actual')\n",
        "plt.plot(test.index, sarima_pred, color='red', label='SARIMA Forecast')\n",
        "plt.xlabel('Date')\n",
        "plt.ylabel('Global_active_power')\n",
        "plt.title('SARIMA Forecast with Differenced Target')\n",
        "plt.legend()\n",
        "plt.show()"
      ],
      "metadata": {
        "id": "Jz9_Xvob9Msc"
      },
      "execution_count": null,
      "outputs": []
    },
    {
      "cell_type": "markdown",
      "source": [
        "#### ARIMA with Monthly data\n",
        "\n",
        "\n"
      ],
      "metadata": {
        "id": "uZ0WJRlj99pZ"
      }
    },
    {
      "cell_type": "code",
      "source": [
        "from statsmodels.tsa.arima.model import ARIMA\n",
        "from sklearn.metrics import mean_squared_error, mean_absolute_error\n",
        "\n",
        "# Resample the data to monthly frequency\n",
        "monthly_df = data1.resample('M').mean()\n",
        "\n",
        "# Split the data into training and testing sets\n",
        "from sklearn.model_selection import train_test_split\n",
        "m_train, m_test = train_test_split(monthly_df, test_size=0.2, shuffle=False)\n",
        "\n",
        "# Split the data into training and testing sets\n",
        "# train_size = int(len(monthly_df) * 0.8)\n",
        "# m_train = monthly_df.iloc[:train_size]\n",
        "# m_test = monthly_df.iloc[train_size:]"
      ],
      "metadata": {
        "id": "dyCEdnJN9-ni"
      },
      "execution_count": null,
      "outputs": []
    },
    {
      "cell_type": "code",
      "source": [
        "# Fit the ARIMA model\n",
        "arima_model = ARIMA(m_train['Global_active_power'], order=(1, 0, 0))  # ARIMA(p,d,q)\n",
        "arima_model_fit = arima_model.fit()"
      ],
      "metadata": {
        "id": "tM820uOD-MI3"
      },
      "execution_count": null,
      "outputs": []
    },
    {
      "cell_type": "code",
      "source": [
        "# Make predictions\n",
        "arima_pred_m = arima_model_fit.forecast(steps=len(m_test))"
      ],
      "metadata": {
        "id": "LmNtaX9t-ORv"
      },
      "execution_count": null,
      "outputs": []
    },
    {
      "cell_type": "code",
      "source": [
        "# Calculate error metrics\n",
        "mse = mean_squared_error(m_test['Global_active_power'], arima_pred_m)\n",
        "mae = mean_absolute_error(m_test['Global_active_power'], arima_pred_m)\n",
        "print('Test MSE: %.3f' % mse)\n",
        "print('Test MAE: %.3f' % mae)"
      ],
      "metadata": {
        "id": "rUD6pvvB-Rmv"
      },
      "execution_count": null,
      "outputs": []
    },
    {
      "cell_type": "code",
      "source": [
        "# Plot the results\n",
        "plt.figure(figsize=(12, 6))\n",
        "plt.plot(m_test.index, m_test['Global_active_power'], label='Actual')\n",
        "plt.plot(m_test.index, arima_pred_m, color='red', label='Forecast')\n",
        "plt.xlabel('Date')\n",
        "plt.ylabel('Global_active_power')\n",
        "plt.title('ARIMA Forecast (Monthly Data)')\n",
        "plt.legend()\n",
        "plt.show()"
      ],
      "metadata": {
        "id": "_jLEp5dc-T5n"
      },
      "execution_count": null,
      "outputs": []
    },
    {
      "cell_type": "markdown",
      "source": [
        "#### SARIMA with Monthly data\n"
      ],
      "metadata": {
        "id": "vqGBlcLk_Aga"
      }
    },
    {
      "cell_type": "code",
      "source": [
        "from statsmodels.tsa.statespace.sarimax import SARIMAX\n",
        "from sklearn.metrics import mean_squared_error, mean_absolute_error, r2_score\n",
        "\n",
        "# Define the SARIMA model parameters\n",
        "order = (1, 0, 0)  # Non-seasonal order (p, d, q)\n",
        "seasonal_order = (2, 1, 1, 12)  # Seasonal order (P, D, Q, S)\n",
        "\n",
        "# Fit the SARIMA model\n",
        "sarima_model = SARIMAX(endog=m_train['Global_active_power'], exog=m_train[['Global_active_power', 'Global_reactive_power', 'Voltage', 'Global_intensity', 'Sub_metering_1', 'Sub_metering_2', 'Sub_metering_3']],\n",
        "                       order=order, seasonal_order=seasonal_order)\n",
        "sarima_model_fit = sarima_model.fit()"
      ],
      "metadata": {
        "id": "dNr0-CTK_CGJ"
      },
      "execution_count": null,
      "outputs": []
    },
    {
      "cell_type": "code",
      "source": [
        "# Make predictions\n",
        "sarima_pred_m = sarima_model_fit.predict(start=m_test.index[0], end=m_test.index[-1],\n",
        "                                          exog=m_test[['Global_active_power', 'Global_reactive_power', 'Voltage', 'Global_intensity', 'Sub_metering_1', 'Sub_metering_2', 'Sub_metering_3']])"
      ],
      "metadata": {
        "id": "zMpL2ikb_Ncg"
      },
      "execution_count": null,
      "outputs": []
    },
    {
      "cell_type": "code",
      "source": [
        "# Calculate error metrics\n",
        "mse = mean_squared_error(m_test['Global_active_power'], sarima_pred_m)\n",
        "mae = mean_absolute_error(m_test['Global_active_power'], sarima_pred_m)\n",
        "r2 = r2_score(m_test['Global_active_power'], sarima_pred_m)\n",
        "print('Test MSE:', mse)\n",
        "print('Test MAE:', mae)\n",
        "print('Test R²: %.3f' % r2)"
      ],
      "metadata": {
        "id": "AdIhONsI_OJf"
      },
      "execution_count": null,
      "outputs": []
    },
    {
      "cell_type": "code",
      "source": [
        "# Plot the results\n",
        "plt.figure(figsize=(10, 5))\n",
        "plt.plot(m_test.index, m_test['Global_active_power'], label='Actual')\n",
        "plt.plot(m_test.index, sarima_pred_m, color='red', label='SARIMA Forecast')\n",
        "plt.xlabel('Date')\n",
        "plt.ylabel('Global_active_power')\n",
        "plt.title('SARIMA Forecast')\n",
        "plt.legend()\n",
        "plt.show()"
      ],
      "metadata": {
        "id": "K-H_PvaO_PtQ"
      },
      "execution_count": null,
      "outputs": []
    },
    {
      "cell_type": "markdown",
      "source": [
        "> I think figuring out the p, d, and q parameters are quite hard from ACF and PACF plots.\n",
        "\n",
        "So we will try forecasting with auto_arima"
      ],
      "metadata": {
        "id": "v4iz1Dvo_VHr"
      }
    },
    {
      "cell_type": "markdown",
      "source": [
        "#### Modeling with auto_arima (monthly prediction)"
      ],
      "metadata": {
        "id": "WTx3u9AgAPTU"
      }
    },
    {
      "cell_type": "code",
      "source": [
        "!pip install pmdarima"
      ],
      "metadata": {
        "id": "_sjDSKUZAQzD"
      },
      "execution_count": null,
      "outputs": []
    },
    {
      "cell_type": "code",
      "source": [
        "from pmdarima import auto_arima\n",
        "from sklearn.metrics import mean_squared_error, mean_absolute_error, r2_score\n",
        "\n",
        "# Fit the model on the training data with optimized settings for monthly seasonality\n",
        "model = auto_arima(\n",
        "    m_train['Global_active_power'],\n",
        "    seasonal=True,\n",
        "    m=12,\n",
        "    max_p=7,\n",
        "    max_d=1,\n",
        "    max_q=3,\n",
        "    max_P=3,\n",
        "    max_D=1,\n",
        "    max_Q=2,\n",
        "    trace=True,    # To print the progress of the fitting\n",
        "    error_action='ignore',  # Ignore potential errors\n",
        "    suppress_warnings=True,  # Suppress warnings\n",
        "    n_jobs=-1  # Use all available CPU cores\n",
        ")\n",
        "\n",
        "# Print model summary\n",
        "print(model.summary())"
      ],
      "metadata": {
        "id": "-bI9GswOAXuI"
      },
      "execution_count": null,
      "outputs": []
    },
    {
      "cell_type": "code",
      "source": [
        "# Make predictions\n",
        "n_periods = len(m_test)\n",
        "auto_arima_pred = model.predict(n_periods=n_periods)"
      ],
      "metadata": {
        "id": "aS1YFYaZAlJ4"
      },
      "execution_count": null,
      "outputs": []
    },
    {
      "cell_type": "code",
      "source": [
        "# Calculate evaluation metrics\n",
        "r2 = r2_score(m_test['Global_active_power'], auto_arima_pred)\n",
        "mse = mean_squared_error(m_test['Global_active_power'], auto_arima_pred)\n",
        "mae = mean_absolute_error(m_test['Global_active_power'], auto_arima_pred)\n",
        "\n",
        "print(f'R² score: {r2}')\n",
        "print(f'MSE: {mse}')\n",
        "print(f'MAE: {mae}')"
      ],
      "metadata": {
        "id": "UFIHVOP-AmT-"
      },
      "execution_count": null,
      "outputs": []
    },
    {
      "cell_type": "code",
      "source": [
        "# Plot the results\n",
        "plt.figure(figsize=(14, 7))\n",
        "plt.plot(m_train.index, m_train['Global_active_power'], label='Train')\n",
        "plt.plot(m_test.index, m_test['Global_active_power'], label='Test')\n",
        "plt.plot(m_test.index, auto_arima_pred, label='Predicted')\n",
        "plt.legend()\n",
        "plt.xlabel('Date')\n",
        "plt.ylabel('Global_active_power')\n",
        "plt.title('Global_active_power Prediction')\n",
        "plt.show()"
      ],
      "metadata": {
        "id": "BCLwDkMSAtzf"
      },
      "execution_count": null,
      "outputs": []
    },
    {
      "cell_type": "markdown",
      "source": [
        "### Prophet Model"
      ],
      "metadata": {
        "id": "pOYrHCFfA5yC"
      }
    },
    {
      "cell_type": "markdown",
      "source": [
        "#### Prophet Model with only Global_reactive_power features"
      ],
      "metadata": {
        "id": "6urlsXcf2TX0"
      }
    },
    {
      "cell_type": "code",
      "source": [
        "data.head()"
      ],
      "metadata": {
        "id": "5vJU3gtFA8Nq",
        "colab": {
          "base_uri": "https://localhost:8080/",
          "height": 431
        },
        "outputId": "7ae09ea1-b50b-434b-f86d-c6789b6c97d9"
      },
      "execution_count": null,
      "outputs": [
        {
          "output_type": "execute_result",
          "data": {
            "text/plain": [
              "                     Global_active_power  Global_reactive_power  Voltage  \\\n",
              "Date_time                                                                  \n",
              "2006-12-16 17:24:00                4.216                  0.418  234.840   \n",
              "2006-12-16 17:25:00                5.360                  0.436  233.630   \n",
              "2006-12-16 17:26:00                5.374                  0.498  233.290   \n",
              "2006-12-16 17:27:00                5.388                  0.502  233.740   \n",
              "2006-12-16 17:28:00                3.666                  0.528  235.680   \n",
              "\n",
              "                     Global_intensity  Sub_metering_1  Sub_metering_2  \\\n",
              "Date_time                                                               \n",
              "2006-12-16 17:24:00            18.400           0.000           1.000   \n",
              "2006-12-16 17:25:00            23.000           0.000           1.000   \n",
              "2006-12-16 17:26:00            23.000           0.000           2.000   \n",
              "2006-12-16 17:27:00            23.000           0.000           1.000   \n",
              "2006-12-16 17:28:00            15.800           0.000           1.000   \n",
              "\n",
              "                     Sub_metering_3  \n",
              "Date_time                            \n",
              "2006-12-16 17:24:00          17.000  \n",
              "2006-12-16 17:25:00          16.000  \n",
              "2006-12-16 17:26:00          17.000  \n",
              "2006-12-16 17:27:00          17.000  \n",
              "2006-12-16 17:28:00          17.000  "
            ],
            "text/html": [
              "\n",
              "  <div id=\"df-b78f8617-0434-4d45-a8f8-b9ad5a9a8f64\" class=\"colab-df-container\">\n",
              "    <div>\n",
              "<style scoped>\n",
              "    .dataframe tbody tr th:only-of-type {\n",
              "        vertical-align: middle;\n",
              "    }\n",
              "\n",
              "    .dataframe tbody tr th {\n",
              "        vertical-align: top;\n",
              "    }\n",
              "\n",
              "    .dataframe thead th {\n",
              "        text-align: right;\n",
              "    }\n",
              "</style>\n",
              "<table border=\"1\" class=\"dataframe\">\n",
              "  <thead>\n",
              "    <tr style=\"text-align: right;\">\n",
              "      <th></th>\n",
              "      <th>Global_active_power</th>\n",
              "      <th>Global_reactive_power</th>\n",
              "      <th>Voltage</th>\n",
              "      <th>Global_intensity</th>\n",
              "      <th>Sub_metering_1</th>\n",
              "      <th>Sub_metering_2</th>\n",
              "      <th>Sub_metering_3</th>\n",
              "    </tr>\n",
              "    <tr>\n",
              "      <th>Date_time</th>\n",
              "      <th></th>\n",
              "      <th></th>\n",
              "      <th></th>\n",
              "      <th></th>\n",
              "      <th></th>\n",
              "      <th></th>\n",
              "      <th></th>\n",
              "    </tr>\n",
              "  </thead>\n",
              "  <tbody>\n",
              "    <tr>\n",
              "      <th>2006-12-16 17:24:00</th>\n",
              "      <td>4.216</td>\n",
              "      <td>0.418</td>\n",
              "      <td>234.840</td>\n",
              "      <td>18.400</td>\n",
              "      <td>0.000</td>\n",
              "      <td>1.000</td>\n",
              "      <td>17.000</td>\n",
              "    </tr>\n",
              "    <tr>\n",
              "      <th>2006-12-16 17:25:00</th>\n",
              "      <td>5.360</td>\n",
              "      <td>0.436</td>\n",
              "      <td>233.630</td>\n",
              "      <td>23.000</td>\n",
              "      <td>0.000</td>\n",
              "      <td>1.000</td>\n",
              "      <td>16.000</td>\n",
              "    </tr>\n",
              "    <tr>\n",
              "      <th>2006-12-16 17:26:00</th>\n",
              "      <td>5.374</td>\n",
              "      <td>0.498</td>\n",
              "      <td>233.290</td>\n",
              "      <td>23.000</td>\n",
              "      <td>0.000</td>\n",
              "      <td>2.000</td>\n",
              "      <td>17.000</td>\n",
              "    </tr>\n",
              "    <tr>\n",
              "      <th>2006-12-16 17:27:00</th>\n",
              "      <td>5.388</td>\n",
              "      <td>0.502</td>\n",
              "      <td>233.740</td>\n",
              "      <td>23.000</td>\n",
              "      <td>0.000</td>\n",
              "      <td>1.000</td>\n",
              "      <td>17.000</td>\n",
              "    </tr>\n",
              "    <tr>\n",
              "      <th>2006-12-16 17:28:00</th>\n",
              "      <td>3.666</td>\n",
              "      <td>0.528</td>\n",
              "      <td>235.680</td>\n",
              "      <td>15.800</td>\n",
              "      <td>0.000</td>\n",
              "      <td>1.000</td>\n",
              "      <td>17.000</td>\n",
              "    </tr>\n",
              "  </tbody>\n",
              "</table>\n",
              "</div>\n",
              "    <div class=\"colab-df-buttons\">\n",
              "\n",
              "  <div class=\"colab-df-container\">\n",
              "    <button class=\"colab-df-convert\" onclick=\"convertToInteractive('df-b78f8617-0434-4d45-a8f8-b9ad5a9a8f64')\"\n",
              "            title=\"Convert this dataframe to an interactive table.\"\n",
              "            style=\"display:none;\">\n",
              "\n",
              "  <svg xmlns=\"http://www.w3.org/2000/svg\" height=\"24px\" viewBox=\"0 -960 960 960\">\n",
              "    <path d=\"M120-120v-720h720v720H120Zm60-500h600v-160H180v160Zm220 220h160v-160H400v160Zm0 220h160v-160H400v160ZM180-400h160v-160H180v160Zm440 0h160v-160H620v160ZM180-180h160v-160H180v160Zm440 0h160v-160H620v160Z\"/>\n",
              "  </svg>\n",
              "    </button>\n",
              "\n",
              "  <style>\n",
              "    .colab-df-container {\n",
              "      display:flex;\n",
              "      gap: 12px;\n",
              "    }\n",
              "\n",
              "    .colab-df-convert {\n",
              "      background-color: #E8F0FE;\n",
              "      border: none;\n",
              "      border-radius: 50%;\n",
              "      cursor: pointer;\n",
              "      display: none;\n",
              "      fill: #1967D2;\n",
              "      height: 32px;\n",
              "      padding: 0 0 0 0;\n",
              "      width: 32px;\n",
              "    }\n",
              "\n",
              "    .colab-df-convert:hover {\n",
              "      background-color: #E2EBFA;\n",
              "      box-shadow: 0px 1px 2px rgba(60, 64, 67, 0.3), 0px 1px 3px 1px rgba(60, 64, 67, 0.15);\n",
              "      fill: #174EA6;\n",
              "    }\n",
              "\n",
              "    .colab-df-buttons div {\n",
              "      margin-bottom: 4px;\n",
              "    }\n",
              "\n",
              "    [theme=dark] .colab-df-convert {\n",
              "      background-color: #3B4455;\n",
              "      fill: #D2E3FC;\n",
              "    }\n",
              "\n",
              "    [theme=dark] .colab-df-convert:hover {\n",
              "      background-color: #434B5C;\n",
              "      box-shadow: 0px 1px 3px 1px rgba(0, 0, 0, 0.15);\n",
              "      filter: drop-shadow(0px 1px 2px rgba(0, 0, 0, 0.3));\n",
              "      fill: #FFFFFF;\n",
              "    }\n",
              "  </style>\n",
              "\n",
              "    <script>\n",
              "      const buttonEl =\n",
              "        document.querySelector('#df-b78f8617-0434-4d45-a8f8-b9ad5a9a8f64 button.colab-df-convert');\n",
              "      buttonEl.style.display =\n",
              "        google.colab.kernel.accessAllowed ? 'block' : 'none';\n",
              "\n",
              "      async function convertToInteractive(key) {\n",
              "        const element = document.querySelector('#df-b78f8617-0434-4d45-a8f8-b9ad5a9a8f64');\n",
              "        const dataTable =\n",
              "          await google.colab.kernel.invokeFunction('convertToInteractive',\n",
              "                                                    [key], {});\n",
              "        if (!dataTable) return;\n",
              "\n",
              "        const docLinkHtml = 'Like what you see? Visit the ' +\n",
              "          '<a target=\"_blank\" href=https://colab.research.google.com/notebooks/data_table.ipynb>data table notebook</a>'\n",
              "          + ' to learn more about interactive tables.';\n",
              "        element.innerHTML = '';\n",
              "        dataTable['output_type'] = 'display_data';\n",
              "        await google.colab.output.renderOutput(dataTable, element);\n",
              "        const docLink = document.createElement('div');\n",
              "        docLink.innerHTML = docLinkHtml;\n",
              "        element.appendChild(docLink);\n",
              "      }\n",
              "    </script>\n",
              "  </div>\n",
              "\n",
              "\n",
              "<div id=\"df-1c7770ff-81f0-4be8-a50a-0d6333f312e3\">\n",
              "  <button class=\"colab-df-quickchart\" onclick=\"quickchart('df-1c7770ff-81f0-4be8-a50a-0d6333f312e3')\"\n",
              "            title=\"Suggest charts\"\n",
              "            style=\"display:none;\">\n",
              "\n",
              "<svg xmlns=\"http://www.w3.org/2000/svg\" height=\"24px\"viewBox=\"0 0 24 24\"\n",
              "     width=\"24px\">\n",
              "    <g>\n",
              "        <path d=\"M19 3H5c-1.1 0-2 .9-2 2v14c0 1.1.9 2 2 2h14c1.1 0 2-.9 2-2V5c0-1.1-.9-2-2-2zM9 17H7v-7h2v7zm4 0h-2V7h2v10zm4 0h-2v-4h2v4z\"/>\n",
              "    </g>\n",
              "</svg>\n",
              "  </button>\n",
              "\n",
              "<style>\n",
              "  .colab-df-quickchart {\n",
              "      --bg-color: #E8F0FE;\n",
              "      --fill-color: #1967D2;\n",
              "      --hover-bg-color: #E2EBFA;\n",
              "      --hover-fill-color: #174EA6;\n",
              "      --disabled-fill-color: #AAA;\n",
              "      --disabled-bg-color: #DDD;\n",
              "  }\n",
              "\n",
              "  [theme=dark] .colab-df-quickchart {\n",
              "      --bg-color: #3B4455;\n",
              "      --fill-color: #D2E3FC;\n",
              "      --hover-bg-color: #434B5C;\n",
              "      --hover-fill-color: #FFFFFF;\n",
              "      --disabled-bg-color: #3B4455;\n",
              "      --disabled-fill-color: #666;\n",
              "  }\n",
              "\n",
              "  .colab-df-quickchart {\n",
              "    background-color: var(--bg-color);\n",
              "    border: none;\n",
              "    border-radius: 50%;\n",
              "    cursor: pointer;\n",
              "    display: none;\n",
              "    fill: var(--fill-color);\n",
              "    height: 32px;\n",
              "    padding: 0;\n",
              "    width: 32px;\n",
              "  }\n",
              "\n",
              "  .colab-df-quickchart:hover {\n",
              "    background-color: var(--hover-bg-color);\n",
              "    box-shadow: 0 1px 2px rgba(60, 64, 67, 0.3), 0 1px 3px 1px rgba(60, 64, 67, 0.15);\n",
              "    fill: var(--button-hover-fill-color);\n",
              "  }\n",
              "\n",
              "  .colab-df-quickchart-complete:disabled,\n",
              "  .colab-df-quickchart-complete:disabled:hover {\n",
              "    background-color: var(--disabled-bg-color);\n",
              "    fill: var(--disabled-fill-color);\n",
              "    box-shadow: none;\n",
              "  }\n",
              "\n",
              "  .colab-df-spinner {\n",
              "    border: 2px solid var(--fill-color);\n",
              "    border-color: transparent;\n",
              "    border-bottom-color: var(--fill-color);\n",
              "    animation:\n",
              "      spin 1s steps(1) infinite;\n",
              "  }\n",
              "\n",
              "  @keyframes spin {\n",
              "    0% {\n",
              "      border-color: transparent;\n",
              "      border-bottom-color: var(--fill-color);\n",
              "      border-left-color: var(--fill-color);\n",
              "    }\n",
              "    20% {\n",
              "      border-color: transparent;\n",
              "      border-left-color: var(--fill-color);\n",
              "      border-top-color: var(--fill-color);\n",
              "    }\n",
              "    30% {\n",
              "      border-color: transparent;\n",
              "      border-left-color: var(--fill-color);\n",
              "      border-top-color: var(--fill-color);\n",
              "      border-right-color: var(--fill-color);\n",
              "    }\n",
              "    40% {\n",
              "      border-color: transparent;\n",
              "      border-right-color: var(--fill-color);\n",
              "      border-top-color: var(--fill-color);\n",
              "    }\n",
              "    60% {\n",
              "      border-color: transparent;\n",
              "      border-right-color: var(--fill-color);\n",
              "    }\n",
              "    80% {\n",
              "      border-color: transparent;\n",
              "      border-right-color: var(--fill-color);\n",
              "      border-bottom-color: var(--fill-color);\n",
              "    }\n",
              "    90% {\n",
              "      border-color: transparent;\n",
              "      border-bottom-color: var(--fill-color);\n",
              "    }\n",
              "  }\n",
              "</style>\n",
              "\n",
              "  <script>\n",
              "    async function quickchart(key) {\n",
              "      const quickchartButtonEl =\n",
              "        document.querySelector('#' + key + ' button');\n",
              "      quickchartButtonEl.disabled = true;  // To prevent multiple clicks.\n",
              "      quickchartButtonEl.classList.add('colab-df-spinner');\n",
              "      try {\n",
              "        const charts = await google.colab.kernel.invokeFunction(\n",
              "            'suggestCharts', [key], {});\n",
              "      } catch (error) {\n",
              "        console.error('Error during call to suggestCharts:', error);\n",
              "      }\n",
              "      quickchartButtonEl.classList.remove('colab-df-spinner');\n",
              "      quickchartButtonEl.classList.add('colab-df-quickchart-complete');\n",
              "    }\n",
              "    (() => {\n",
              "      let quickchartButtonEl =\n",
              "        document.querySelector('#df-1c7770ff-81f0-4be8-a50a-0d6333f312e3 button');\n",
              "      quickchartButtonEl.style.display =\n",
              "        google.colab.kernel.accessAllowed ? 'block' : 'none';\n",
              "    })();\n",
              "  </script>\n",
              "</div>\n",
              "\n",
              "    </div>\n",
              "  </div>\n"
            ],
            "application/vnd.google.colaboratory.intrinsic+json": {
              "type": "dataframe",
              "variable_name": "data"
            }
          },
          "metadata": {},
          "execution_count": 26
        }
      ]
    },
    {
      "cell_type": "code",
      "source": [
        "data.columns"
      ],
      "metadata": {
        "colab": {
          "base_uri": "https://localhost:8080/"
        },
        "id": "QnxZnUv_5uvg",
        "outputId": "3a0d153d-fd0d-4c89-e604-396af5635efc"
      },
      "execution_count": null,
      "outputs": [
        {
          "output_type": "execute_result",
          "data": {
            "text/plain": [
              "Index(['Global_active_power', 'Global_reactive_power', 'Voltage',\n",
              "       'Global_intensity', 'Sub_metering_1', 'Sub_metering_2',\n",
              "       'Sub_metering_3'],\n",
              "      dtype='object')"
            ]
          },
          "metadata": {},
          "execution_count": 27
        }
      ]
    },
    {
      "cell_type": "code",
      "source": [
        "from prophet import Prophet\n",
        "\n",
        "# Rename columns for Prophet\n",
        "df_prophet = data.reset_index().rename(columns={'Date_time': 'ds', 'Global_active_power': 'y'})\n",
        "\n",
        "# Split the data into training and testing sets\n",
        "train_size = int(len(df_prophet) * 0.8)\n",
        "p_train, p_test = df_prophet.iloc[:train_size], df_prophet.iloc[train_size:]\n",
        "\n",
        "# Initialize and fit the Prophet model\n",
        "prop_model = Prophet()\n",
        "prop_model.fit(p_train)\n",
        "\n",
        "# Make future dataframe\n",
        "future = prop_model.make_future_dataframe(periods=len(p_test), freq='D')"
      ],
      "metadata": {
        "colab": {
          "base_uri": "https://localhost:8080/",
          "height": 542
        },
        "collapsed": true,
        "id": "uuUz5VxV2pMI",
        "outputId": "e4c810ab-ff71-4576-a41a-bfa98958b71d"
      },
      "execution_count": null,
      "outputs": [
        {
          "output_type": "stream",
          "name": "stderr",
          "text": [
            "DEBUG:cmdstanpy:input tempfile: /tmp/tmpg4vw095r/h7qg6o_s.json\n",
            "DEBUG:cmdstanpy:input tempfile: /tmp/tmpg4vw095r/v_fujdqk.json\n",
            "DEBUG:cmdstanpy:idx 0\n",
            "DEBUG:cmdstanpy:running CmdStan, num_threads: None\n",
            "DEBUG:cmdstanpy:CmdStan args: ['/usr/local/lib/python3.10/dist-packages/prophet/stan_model/prophet_model.bin', 'random', 'seed=81146', 'data', 'file=/tmp/tmpg4vw095r/h7qg6o_s.json', 'init=/tmp/tmpg4vw095r/v_fujdqk.json', 'output', 'file=/tmp/tmpg4vw095r/prophet_modeleo9_6m82/prophet_model-20240605152409.csv', 'method=optimize', 'algorithm=lbfgs', 'iter=10000']\n",
            "15:24:09 - cmdstanpy - INFO - Chain [1] start processing\n",
            "INFO:cmdstanpy:Chain [1] start processing\n"
          ]
        },
        {
          "output_type": "error",
          "ename": "KeyboardInterrupt",
          "evalue": "",
          "traceback": [
            "\u001b[0;31m---------------------------------------------------------------------------\u001b[0m",
            "\u001b[0;31mKeyboardInterrupt\u001b[0m                         Traceback (most recent call last)",
            "\u001b[0;32m<ipython-input-36-67a0d5e30939>\u001b[0m in \u001b[0;36m<cell line: 12>\u001b[0;34m()\u001b[0m\n\u001b[1;32m     10\u001b[0m \u001b[0;31m# Initialize and fit the Prophet model\u001b[0m\u001b[0;34m\u001b[0m\u001b[0;34m\u001b[0m\u001b[0m\n\u001b[1;32m     11\u001b[0m \u001b[0mprop_model\u001b[0m \u001b[0;34m=\u001b[0m \u001b[0mProphet\u001b[0m\u001b[0;34m(\u001b[0m\u001b[0;34m)\u001b[0m\u001b[0;34m\u001b[0m\u001b[0;34m\u001b[0m\u001b[0m\n\u001b[0;32m---> 12\u001b[0;31m \u001b[0mprop_model\u001b[0m\u001b[0;34m.\u001b[0m\u001b[0mfit\u001b[0m\u001b[0;34m(\u001b[0m\u001b[0mp_train\u001b[0m\u001b[0;34m)\u001b[0m\u001b[0;34m\u001b[0m\u001b[0;34m\u001b[0m\u001b[0m\n\u001b[0m\u001b[1;32m     13\u001b[0m \u001b[0;34m\u001b[0m\u001b[0m\n\u001b[1;32m     14\u001b[0m \u001b[0;31m# Make future dataframe\u001b[0m\u001b[0;34m\u001b[0m\u001b[0;34m\u001b[0m\u001b[0m\n",
            "\u001b[0;32m/usr/local/lib/python3.10/dist-packages/prophet/forecaster.py\u001b[0m in \u001b[0;36mfit\u001b[0;34m(self, df, **kwargs)\u001b[0m\n\u001b[1;32m   1230\u001b[0m             \u001b[0mself\u001b[0m\u001b[0;34m.\u001b[0m\u001b[0mparams\u001b[0m \u001b[0;34m=\u001b[0m \u001b[0mself\u001b[0m\u001b[0;34m.\u001b[0m\u001b[0mstan_backend\u001b[0m\u001b[0;34m.\u001b[0m\u001b[0msampling\u001b[0m\u001b[0;34m(\u001b[0m\u001b[0mstan_init\u001b[0m\u001b[0;34m,\u001b[0m \u001b[0mdat\u001b[0m\u001b[0;34m,\u001b[0m \u001b[0mself\u001b[0m\u001b[0;34m.\u001b[0m\u001b[0mmcmc_samples\u001b[0m\u001b[0;34m,\u001b[0m \u001b[0;34m**\u001b[0m\u001b[0mkwargs\u001b[0m\u001b[0;34m)\u001b[0m\u001b[0;34m\u001b[0m\u001b[0;34m\u001b[0m\u001b[0m\n\u001b[1;32m   1231\u001b[0m         \u001b[0;32melse\u001b[0m\u001b[0;34m:\u001b[0m\u001b[0;34m\u001b[0m\u001b[0;34m\u001b[0m\u001b[0m\n\u001b[0;32m-> 1232\u001b[0;31m             \u001b[0mself\u001b[0m\u001b[0;34m.\u001b[0m\u001b[0mparams\u001b[0m \u001b[0;34m=\u001b[0m \u001b[0mself\u001b[0m\u001b[0;34m.\u001b[0m\u001b[0mstan_backend\u001b[0m\u001b[0;34m.\u001b[0m\u001b[0mfit\u001b[0m\u001b[0;34m(\u001b[0m\u001b[0mstan_init\u001b[0m\u001b[0;34m,\u001b[0m \u001b[0mdat\u001b[0m\u001b[0;34m,\u001b[0m \u001b[0;34m**\u001b[0m\u001b[0mkwargs\u001b[0m\u001b[0;34m)\u001b[0m\u001b[0;34m\u001b[0m\u001b[0;34m\u001b[0m\u001b[0m\n\u001b[0m\u001b[1;32m   1233\u001b[0m \u001b[0;34m\u001b[0m\u001b[0m\n\u001b[1;32m   1234\u001b[0m         \u001b[0mself\u001b[0m\u001b[0;34m.\u001b[0m\u001b[0mstan_fit\u001b[0m \u001b[0;34m=\u001b[0m \u001b[0mself\u001b[0m\u001b[0;34m.\u001b[0m\u001b[0mstan_backend\u001b[0m\u001b[0;34m.\u001b[0m\u001b[0mstan_fit\u001b[0m\u001b[0;34m\u001b[0m\u001b[0;34m\u001b[0m\u001b[0m\n",
            "\u001b[0;32m/usr/local/lib/python3.10/dist-packages/prophet/models.py\u001b[0m in \u001b[0;36mfit\u001b[0;34m(self, stan_init, stan_data, **kwargs)\u001b[0m\n\u001b[1;32m    119\u001b[0m \u001b[0;34m\u001b[0m\u001b[0m\n\u001b[1;32m    120\u001b[0m         \u001b[0;32mtry\u001b[0m\u001b[0;34m:\u001b[0m\u001b[0;34m\u001b[0m\u001b[0;34m\u001b[0m\u001b[0m\n\u001b[0;32m--> 121\u001b[0;31m             \u001b[0mself\u001b[0m\u001b[0;34m.\u001b[0m\u001b[0mstan_fit\u001b[0m \u001b[0;34m=\u001b[0m \u001b[0mself\u001b[0m\u001b[0;34m.\u001b[0m\u001b[0mmodel\u001b[0m\u001b[0;34m.\u001b[0m\u001b[0moptimize\u001b[0m\u001b[0;34m(\u001b[0m\u001b[0;34m**\u001b[0m\u001b[0margs\u001b[0m\u001b[0;34m)\u001b[0m\u001b[0;34m\u001b[0m\u001b[0;34m\u001b[0m\u001b[0m\n\u001b[0m\u001b[1;32m    122\u001b[0m         \u001b[0;32mexcept\u001b[0m \u001b[0mRuntimeError\u001b[0m \u001b[0;32mas\u001b[0m \u001b[0me\u001b[0m\u001b[0;34m:\u001b[0m\u001b[0;34m\u001b[0m\u001b[0;34m\u001b[0m\u001b[0m\n\u001b[1;32m    123\u001b[0m             \u001b[0;31m# Fall back on Newton\u001b[0m\u001b[0;34m\u001b[0m\u001b[0;34m\u001b[0m\u001b[0m\n",
            "\u001b[0;32m/usr/local/lib/python3.10/dist-packages/cmdstanpy/model.py\u001b[0m in \u001b[0;36moptimize\u001b[0;34m(self, data, seed, inits, output_dir, sig_figs, save_profile, algorithm, init_alpha, tol_obj, tol_rel_obj, tol_grad, tol_rel_grad, tol_param, history_size, iter, save_iterations, require_converged, show_console, refresh, time_fmt, timeout, jacobian)\u001b[0m\n\u001b[1;32m    642\u001b[0m             \u001b[0mdummy_chain_id\u001b[0m \u001b[0;34m=\u001b[0m \u001b[0;36m0\u001b[0m\u001b[0;34m\u001b[0m\u001b[0;34m\u001b[0m\u001b[0m\n\u001b[1;32m    643\u001b[0m             \u001b[0mrunset\u001b[0m \u001b[0;34m=\u001b[0m \u001b[0mRunSet\u001b[0m\u001b[0;34m(\u001b[0m\u001b[0margs\u001b[0m\u001b[0;34m=\u001b[0m\u001b[0margs\u001b[0m\u001b[0;34m,\u001b[0m \u001b[0mchains\u001b[0m\u001b[0;34m=\u001b[0m\u001b[0;36m1\u001b[0m\u001b[0;34m,\u001b[0m \u001b[0mtime_fmt\u001b[0m\u001b[0;34m=\u001b[0m\u001b[0mtime_fmt\u001b[0m\u001b[0;34m)\u001b[0m\u001b[0;34m\u001b[0m\u001b[0;34m\u001b[0m\u001b[0m\n\u001b[0;32m--> 644\u001b[0;31m             self._run_cmdstan(\n\u001b[0m\u001b[1;32m    645\u001b[0m                 \u001b[0mrunset\u001b[0m\u001b[0;34m,\u001b[0m\u001b[0;34m\u001b[0m\u001b[0;34m\u001b[0m\u001b[0m\n\u001b[1;32m    646\u001b[0m                 \u001b[0mdummy_chain_id\u001b[0m\u001b[0;34m,\u001b[0m\u001b[0;34m\u001b[0m\u001b[0;34m\u001b[0m\u001b[0m\n",
            "\u001b[0;32m/usr/local/lib/python3.10/dist-packages/cmdstanpy/model.py\u001b[0m in \u001b[0;36m_run_cmdstan\u001b[0;34m(self, runset, idx, show_progress, show_console, progress_hook, timeout)\u001b[0m\n\u001b[1;32m   2085\u001b[0m             \u001b[0;32mwhile\u001b[0m \u001b[0mproc\u001b[0m\u001b[0;34m.\u001b[0m\u001b[0mpoll\u001b[0m\u001b[0;34m(\u001b[0m\u001b[0;34m)\u001b[0m \u001b[0;32mis\u001b[0m \u001b[0;32mNone\u001b[0m\u001b[0;34m:\u001b[0m\u001b[0;34m\u001b[0m\u001b[0;34m\u001b[0m\u001b[0m\n\u001b[1;32m   2086\u001b[0m                 \u001b[0;32mif\u001b[0m \u001b[0mproc\u001b[0m\u001b[0;34m.\u001b[0m\u001b[0mstdout\u001b[0m \u001b[0;32mis\u001b[0m \u001b[0;32mnot\u001b[0m \u001b[0;32mNone\u001b[0m\u001b[0;34m:\u001b[0m\u001b[0;34m\u001b[0m\u001b[0;34m\u001b[0m\u001b[0m\n\u001b[0;32m-> 2087\u001b[0;31m                     \u001b[0mline\u001b[0m \u001b[0;34m=\u001b[0m \u001b[0mproc\u001b[0m\u001b[0;34m.\u001b[0m\u001b[0mstdout\u001b[0m\u001b[0;34m.\u001b[0m\u001b[0mreadline\u001b[0m\u001b[0;34m(\u001b[0m\u001b[0;34m)\u001b[0m\u001b[0;34m\u001b[0m\u001b[0;34m\u001b[0m\u001b[0m\n\u001b[0m\u001b[1;32m   2088\u001b[0m                     \u001b[0mfd_out\u001b[0m\u001b[0;34m.\u001b[0m\u001b[0mwrite\u001b[0m\u001b[0;34m(\u001b[0m\u001b[0mline\u001b[0m\u001b[0;34m)\u001b[0m\u001b[0;34m\u001b[0m\u001b[0;34m\u001b[0m\u001b[0m\n\u001b[1;32m   2089\u001b[0m                     \u001b[0mline\u001b[0m \u001b[0;34m=\u001b[0m \u001b[0mline\u001b[0m\u001b[0;34m.\u001b[0m\u001b[0mstrip\u001b[0m\u001b[0;34m(\u001b[0m\u001b[0;34m)\u001b[0m\u001b[0;34m\u001b[0m\u001b[0;34m\u001b[0m\u001b[0m\n",
            "\u001b[0;31mKeyboardInterrupt\u001b[0m: "
          ]
        }
      ]
    },
    {
      "cell_type": "code",
      "source": [
        "# Make predictions\n",
        "forecast = prop_model.predict(future)"
      ],
      "metadata": {
        "id": "6fQbHACi_YzC"
      },
      "execution_count": null,
      "outputs": []
    },
    {
      "cell_type": "code",
      "source": [
        "# Extract the forecasted values for the test period\n",
        "predicted = forecast[['ds', 'yhat']].set_index('ds').loc[p_test['ds']"
      ],
      "metadata": {
        "id": "7Uk2dlyC_a7g"
      },
      "execution_count": null,
      "outputs": []
    },
    {
      "cell_type": "code",
      "source": [
        "# Calculate error and R²\n",
        "mse = mean_squared_error(p_test['y'], predicted['yhat'])\n",
        "r2 = r2_score(p_test['y'], predicted['yhat'])\n",
        "print('Test MSE: %.3f' % mse)\n",
        "print('Test R²: %.3f' % r2)"
      ],
      "metadata": {
        "id": "rRhgandi_dvK"
      },
      "execution_count": null,
      "outputs": []
    },
    {
      "cell_type": "code",
      "source": [
        "# Plot the results\n",
        "plt.figure(figsize=(15, 5))\n",
        "plt.plot(df_prophet['ds'], df_prophet['y'], label='Actual')\n",
        "plt.plot(predicted.index, predicted['yhat'], color='red', label='Forecast')\n",
        "plt.xlabel('Date')\n",
        "plt.ylabel('Global_active_power')\n",
        "plt.title('Prophet Forecast')\n",
        "plt.legend()\n",
        "plt.show()"
      ],
      "metadata": {
        "id": "HWTJpGR0_8yP"
      },
      "execution_count": null,
      "outputs": []
    },
    {
      "cell_type": "markdown",
      "source": [
        "#### Prophet Model using the entire dataset"
      ],
      "metadata": {
        "id": "vzzG3iCXAh4O"
      }
    },
    {
      "cell_type": "code",
      "source": [
        "from prophet import Prophet\n",
        "\n",
        "# Rename columns for Prophet\n",
        "df_prophet = data.reset_index().rename(columns={'Date_time': 'ds', 'Global_active_power': 'y'})\n",
        "\n",
        "# Add additional features as regressors\n",
        "regressors = ['Global_reactive_power', 'Global_intensity', 'Sub_metering_1', 'Sub_metering_2', 'Sub_metering_3']\n",
        "for regressor in regressors:\n",
        "    df_prophet[regressor] = data[regressor].values"
      ],
      "metadata": {
        "id": "ZKSxEcq4AjyK"
      },
      "execution_count": null,
      "outputs": []
    },
    {
      "cell_type": "code",
      "source": [
        "# Split the data into training and testing sets\n",
        "train_size = int(len(df_prophet) * 0.8)\n",
        "p_train, p_test = df_prophet.iloc[:train_size], df_prophet.iloc[train_size:]"
      ],
      "metadata": {
        "id": "K_s69aYkBrQH"
      },
      "execution_count": null,
      "outputs": []
    },
    {
      "cell_type": "code",
      "source": [
        "# Initialize and fit the Prophet model\n",
        "prop_model = Prophet()\n",
        "\n",
        "# Initialize and fit the Prophet model\n",
        "prop_model = Prophet()\n",
        "for regressor in regressors:\n",
        "    prop_model.add_regressor(regressor)\n",
        "\n",
        "\n",
        "# Fit the model\n",
        "prop_model.fit(p_train)"
      ],
      "metadata": {
        "id": "87u31srFBosd"
      },
      "execution_count": null,
      "outputs": []
    },
    {
      "cell_type": "code",
      "source": [
        "# Make future dataframe\n",
        "future = prop_model.make_future_dataframe(periods=len(p_test), freq='D')\n",
        "\n",
        "# Add the regressors to the future dataframe\n",
        "for regressor in regressors:\n",
        "    future[regressor] = df_prophet[regressor]\n",
        "\n",
        "# Make predictions\n",
        "forecast = prop_model.predict(future)\n",
        "\n",
        "# Extract the forecasted values for the test period\n",
        "predicted = forecast[['ds', 'yhat']].set_index('ds').loc[p_test['ds']]"
      ],
      "metadata": {
        "id": "PFCrExkYCG6z"
      },
      "execution_count": null,
      "outputs": []
    },
    {
      "cell_type": "code",
      "source": [
        "# Calculate error and R²\n",
        "mse = mean_squared_error(p_test['y'], predicted['yhat'])\n",
        "r2 = r2_score(p_test['y'], predicted['yhat'])\n",
        "print('Test MSE: %.3f' % mse)\n",
        "print('Test R²: %.3f' % r2)"
      ],
      "metadata": {
        "id": "PCJTFltdCdFL"
      },
      "execution_count": null,
      "outputs": []
    },
    {
      "cell_type": "code",
      "source": [
        "# Plot the results\n",
        "plt.figure(figsize=(15, 5))\n",
        "plt.plot(df_prophet['ds'], df_prophet['y'], label='Actual')\n",
        "plt.plot(predicted.index, predicted['yhat'], color='red', label='Forecast')\n",
        "plt.xlabel('Date')\n",
        "plt.ylabel('Global_active_power')\n",
        "plt.title('Prophet Forecast')\n",
        "plt.legend()\n",
        "plt.show()"
      ],
      "metadata": {
        "id": "SwYGH7eVCgHk"
      },
      "execution_count": null,
      "outputs": []
    },
    {
      "cell_type": "markdown",
      "source": [
        "> The Prophet model achieved an R² score of ~91% when using the entire dataset with all features, indicating a high level of accuracy.\n",
        "\n",
        "> In contrast, the R² score dropped to 76% when the model was trained without the additional features."
      ],
      "metadata": {
        "id": "YkFllI2rCtqa"
      }
    },
    {
      "cell_type": "markdown",
      "source": [
        "#### Working with holiday for Prophet Model using the entire dataset\n",
        "\n",
        "\n",
        "\n"
      ],
      "metadata": {
        "id": "hKOIKw6OESL8"
      }
    },
    {
      "cell_type": "code",
      "source": [
        "import pandas as pd\n",
        "import matplotlib.pyplot as plt\n",
        "from sklearn.metrics import mean_squared_error, r2_score\n",
        "from prophet import Prophet\n",
        "\n",
        "# Prepare Data for Prophet\n",
        "df_prophet = data.reset_index().rename(columns={'Date_time': 'ds', 'Global_active_power': 'y'})\n",
        "\n",
        "# Add additional features as regressors\n",
        "regressors = ['Global_reactive_power', 'Global_intensity', 'Sub_metering_1', 'Sub_metering_2', 'Sub_metering_3']\n",
        "for regressor in regressors:\n",
        "    df_prophet[regressor] = data[regressor].values\n",
        "\n",
        "# Split the data into training and testing sets\n",
        "train_size = int(len(df_prophet) * 0.8)\n",
        "p_train, p_test = df_prophet.iloc[:train_size], df_prophet.iloc[train_size:]\n"
      ],
      "metadata": {
        "id": "ezuxWvcNER1J"
      },
      "execution_count": null,
      "outputs": []
    },
    {
      "cell_type": "code",
      "source": [
        "# Initialize and fit the Prophet model\n",
        "prop_model = Prophet()\n",
        "for regressor in regressors:\n",
        "    prop_model.add_regressor(regressor)\n",
        "\n",
        "# Add holidays\n",
        "prop_model.add_country_holidays(country_name='US')\n",
        "\n",
        "# Fit the model\n",
        "prop_model.fit(p_train)"
      ],
      "metadata": {
        "id": "PM7dQoBQHPih"
      },
      "execution_count": null,
      "outputs": []
    },
    {
      "cell_type": "code",
      "source": [
        "# Make future dataframe\n",
        "future = prop_model.make_future_dataframe(periods=len(p_test), freq='D')\n",
        "\n",
        "# Add the regressors to the future dataframe\n",
        "for regressor in regressors:\n",
        "    future[regressor] = df_prophet[regressor]"
      ],
      "metadata": {
        "id": "3_Mqa4n7HK0v"
      },
      "execution_count": null,
      "outputs": []
    },
    {
      "cell_type": "code",
      "source": [
        "# Make predictions\n",
        "forecast = prop_model.predict(future)\n",
        "\n",
        "# Extract the forecasted values for the test period\n",
        "predicted = forecast[['ds', 'yhat']].set_index('ds').loc[p_test['ds']]"
      ],
      "metadata": {
        "id": "U1zLcusjHIcH"
      },
      "execution_count": null,
      "outputs": []
    },
    {
      "cell_type": "code",
      "source": [
        "# Calculate error and R²\n",
        "mse = mean_squared_error(p_test['y'], predicted['yhat'])\n",
        "r2 = r2_score(p_test['y'], predicted['yhat'])\n",
        "print('Test MSE: %.3f' % mse)\n",
        "print('Test R²: %.3f' % r2)"
      ],
      "metadata": {
        "id": "2JatnlpXG7uX"
      },
      "execution_count": null,
      "outputs": []
    },
    {
      "cell_type": "code",
      "source": [
        "# Plot the results\n",
        "plt.figure(figsize=(15, 5))\n",
        "plt.plot(df_prophet['ds'], df_prophet['y'], label='Actual', color='blue')\n",
        "plt.plot(predicted.index, predicted['yhat'], color='red', label='Forecast', alpha=0.7)\n",
        "plt.fill_between(predicted.index, predicted['yhat_lower'], predicted['yhat_upper'], color='k', alpha=0.1, label='Confidence Interval')\n",
        "plt.xlabel('Date')\n",
        "plt.ylabel('Global Active Power')\n",
        "plt.title('Prophet Forecast with Holidays and Regressors')\n",
        "plt.legend()\n",
        "plt.show()"
      ],
      "metadata": {
        "id": "QOPkhcw1Gz1K"
      },
      "execution_count": null,
      "outputs": []
    },
    {
      "cell_type": "code",
      "source": [
        "# Plot the results\n",
        "plt.figure(figsize=(10, 5))\n",
        "plt.plot(p_test['ds'], p_test['y'], label='Actual')\n",
        "plt.plot(predicted.index, predicted['yhat'], color='red', label='Forecast', linestyle='--')\n",
        "plt.xlabel('Date')\n",
        "plt.ylabel('Global_active_power')\n",
        "plt.title('Prophet Forecast')\n",
        "plt.legend()\n",
        "\n",
        "# Add error metrics to the plot\n",
        "plt.text(0.05, 0.95, f'Test MSE: {mse:.3f}', transform=plt.gca().transAxes, fontsize=10,\n",
        "         verticalalignment='top', bbox=dict(boxstyle='round', facecolor='wheat', alpha=0.5))\n",
        "plt.text(0.05, 0.9, f'Test R²: {r2:.3f}', transform=plt.gca().transAxes, fontsize=10,\n",
        "         verticalalignment='top', bbox=dict(boxstyle='round', facecolor='wheat', alpha=0.5))\n",
        "\n",
        "plt.show()"
      ],
      "metadata": {
        "id": "5dLpq_9rCsxB"
      },
      "execution_count": null,
      "outputs": []
    },
    {
      "cell_type": "code",
      "source": [
        "print(df_prophet.head()) # actual data\n",
        "\n",
        "print(predicted.head()) # predicted values of p_test"
      ],
      "metadata": {
        "id": "uCGhWtHXDHDr"
      },
      "execution_count": null,
      "outputs": []
    },
    {
      "cell_type": "code",
      "source": [
        "forecast.head()"
      ],
      "metadata": {
        "id": "PNcUcAM9DKcD"
      },
      "execution_count": null,
      "outputs": []
    },
    {
      "cell_type": "code",
      "source": [
        "# Adding the actual temperature values to the forecast data\n",
        "forecast['Actual Global_active_power'] = df_prophet['y']\n",
        "forecast.rename(columns={'yhat': 'Forecast Global_active_power'}, inplace=False)\n",
        "forecast.head()"
      ],
      "metadata": {
        "id": "LgDqeWTjDNl3"
      },
      "execution_count": null,
      "outputs": []
    },
    {
      "cell_type": "code",
      "source": [
        "plt.figure(figsize=(22, 8))\n",
        "sns.lineplot(data=forecast[['ds', 'Actual Global_active_power', 'yhat_lower', 'yhat_upper']])\n",
        "plt.xlabel('Date')\n",
        "plt.ylabel('Global_active_power')\n",
        "plt.title('Actual vs Forecast Global_active_power with Confidence Intervals')\n",
        "plt.show()"
      ],
      "metadata": {
        "id": "h_zPzhlRDUqA"
      },
      "execution_count": null,
      "outputs": []
    },
    {
      "cell_type": "code",
      "source": [
        "from prophet.plot import plot_plotly\n",
        "import plotly.offline as py\n",
        "\n",
        "# Plot the forecast\n",
        "fig = plot_plotly(prop_model, forecast)\n",
        "\n",
        "# Customize the layout\n",
        "fig.update_layout(\n",
        "    title=\"Prophet Forecast with Actual vs Predicted Global_active_power\",\n",
        "    xaxis_title=\"Date\",\n",
        "    yaxis_title=\"Global_active_power\",\n",
        "    legend_title=\"\",\n",
        ")\n",
        "\n",
        "# Show the plot\n",
        "py.iplot(fig)"
      ],
      "metadata": {
        "id": "EVlJpCjsJDiM"
      },
      "execution_count": null,
      "outputs": []
    },
    {
      "cell_type": "code",
      "source": [
        "from prophet.plot import add_changepoints_to_plot\n",
        "import matplotlib.pyplot as plt\n",
        "\n",
        "# Plot the components of the forecast\n",
        "fig = prop_model.plot_components(forecast)\n",
        "\n",
        "# Customize the plots\n",
        "axes = fig.get_axes()\n",
        "\n",
        "# Trend plot\n",
        "axes[0].set_title('Trend')\n",
        "axes[0].set_xlabel('Date')\n",
        "axes[0].set_ylabel('Trend')\n",
        "\n",
        "# Weekly seasonality plot\n",
        "axes[1].set_title('Weekly Seasonality')\n",
        "axes[1].set_xlabel('Day of Week')\n",
        "axes[1].set_ylabel('Seasonal Effect')\n",
        "\n",
        "# Yearly seasonality plot\n",
        "axes[2].set_title('Yearly Seasonality')\n",
        "axes[2].set_xlabel('Day of Year')\n",
        "axes[2].set_ylabel('Seasonal Effect')\n",
        "\n",
        "# Add changepoints to the trend plot (if any)\n",
        "fig = add_changepoints_to_plot(fig.gca(), prop_model, forecast)\n",
        "\n",
        "# Display the plot\n",
        "plt.tight_layout()\n",
        "plt.show()"
      ],
      "metadata": {
        "id": "Y9Si9_oGJbtv"
      },
      "execution_count": null,
      "outputs": []
    },
    {
      "cell_type": "markdown",
      "source": [
        "#### Comparison of ARIMA, SARIMA & Prophet Model"
      ],
      "metadata": {
        "id": "uE6wkVjjJbYn"
      }
    },
    {
      "cell_type": "code",
      "source": [
        "# Predictions of ARIMA\n",
        "print(arima_pred)"
      ],
      "metadata": {
        "id": "x6NunwigJsJV"
      },
      "execution_count": null,
      "outputs": []
    },
    {
      "cell_type": "code",
      "source": [
        "# Predictions of SARIMA\n",
        "print(sarima_pred)"
      ],
      "metadata": {
        "id": "w76vyiP2JyBU"
      },
      "execution_count": null,
      "outputs": []
    },
    {
      "cell_type": "code",
      "source": [
        "# predictions of Prophet\n",
        "print(predicted)"
      ],
      "metadata": {
        "id": "t4byHMdiJ3Oo"
      },
      "execution_count": null,
      "outputs": []
    },
    {
      "cell_type": "code",
      "source": [
        "# Copying test data from arima/sarima models (for daily comparision)\n",
        "pred_df = test.copy()\n",
        "print(pred_df)"
      ],
      "metadata": {
        "id": "q0Nv7U1AKLX_"
      },
      "execution_count": null,
      "outputs": []
    },
    {
      "cell_type": "code",
      "source": [
        "# Display the first few rows of the monthly test data\n",
        "print(m_test.head())\n",
        "\n",
        "# Adding the predictions from ARIMA, SARIMA, and Auto ARIMA models to the test data\n",
        "m_test[\"arima_pred_m\"] = arima_pred_m.round(2)\n",
        "m_test[\"sarima_pred_m\"] = sarima_pred_m.round(2)\n",
        "m_test[\"auto_arima_pred\"] = auto_arima_pred.round(2)\n",
        "\n",
        "# Display the first few rows of the updated test data with predictions\n",
        "print(m_test.head())"
      ],
      "metadata": {
        "id": "jn88ySJFKQon"
      },
      "execution_count": null,
      "outputs": []
    },
    {
      "cell_type": "code",
      "source": [
        "# Adding predictions of ARIMA, SARIMA, and Prophet to the DataFrame\n",
        "pred_df[\"arima_pred\"] = arima_pred.values.round(2)\n",
        "pred_df[\"sarima_pred\"] = sarima_pred.values.round(2)\n",
        "pred_df[\"prophet_yhat\"] = predicted[\"yhat\"].values.round(2)\n",
        "\n",
        "# Display the first few rows of the DataFrame with predictions\n",
        "print(pred_df)"
      ],
      "metadata": {
        "id": "neZlJIGfKizM"
      },
      "execution_count": null,
      "outputs": []
    },
    {
      "cell_type": "markdown",
      "source": [
        "#### Comparison of Forecasting Models (Prophet, ARIMA, and SARIMA on Daily and Monthly)"
      ],
      "metadata": {
        "id": "HWLmaZnCKrvU"
      }
    },
    {
      "cell_type": "code",
      "source": [
        "from sklearn.metrics import mean_absolute_percentage_error, mean_squared_error, r2_score\n",
        "import math\n",
        "\n",
        "# Prophet model evaluation metrics\n",
        "prophet_mape = mean_absolute_percentage_error(pred_df[\"Global_active_power\"].values, pred_df[\"prophet_yhat\"].values)\n",
        "prophet_r = r2_score(pred_df[\"Global_active_power\"].values, pred_df[\"prophet_yhat\"].values)\n",
        "prophet_rmse = math.sqrt(mean_squared_error(pred_df[\"Global_active_power\"].values, pred_df[\"prophet_yhat\"].values))\n",
        "\n",
        "# ARIMA model evaluation metrics\n",
        "arima_mape = mean_absolute_percentage_error(pred_df[\"Global_active_power\"].values, pred_df[\"arima_pred\"].values)\n",
        "arima_r = r2_score(pred_df[\"Global_active_power\"].values, pred_df[\"arima_pred\"].values)\n",
        "arima_rmse = math.sqrt(mean_squared_error(pred_df[\"Global_active_power\"].values, pred_df[\"arima_pred\"].values))\n",
        "\n",
        "# SARIMA model evaluation metrics\n",
        "sarima_mape = mean_absolute_percentage_error(pred_df[\"Global_active_power\"].values, pred_df[\"sarima_pred\"].values)\n",
        "sarima_r = r2_score(pred_df[\"Global_active_power\"].values, pred_df[\"sarima_pred\"].values)\n",
        "sarima_rmse = math.sqrt(mean_squared_error(pred_df[\"Global_active_power\"].values, pred_df[\"sarima_pred\"].values))\n"
      ],
      "metadata": {
        "id": "7UTLNha7K0oZ"
      },
      "execution_count": null,
      "outputs": []
    },
    {
      "cell_type": "code",
      "source": [
        "# Monthly predictions evaluation metrics\n",
        "arima_mape_m = mean_absolute_percentage_error(m_test[\"Global_active_power\"].values, m_test[\"arima_pred_m\"].values)\n",
        "arima_r_m = r2_score(m_test[\"Global_active_power\"].values, m_test[\"arima_pred_m\"].values)\n",
        "arima_rmse_m = math.sqrt(mean_squared_error(m_test[\"Global_active_power\"].values, m_test[\"arima_pred_m\"].values))\n",
        "\n",
        "sarima_mape_m = mean_absolute_percentage_error(m_test[\"Global_active_power\"].values, m_test[\"sarima_pred_m\"].values)\n",
        "sarima_r_m = r2_score(m_test[\"Global_active_power\"].values, m_test[\"sarima_pred_m\"].values)\n",
        "sarima_rmse_m = math.sqrt(mean_squared_error(m_test[\"Global_active_power\"].values, m_test[\"sarima_pred_m\"].values))\n",
        "\n",
        "autoarima_mape_m = mean_absolute_percentage_error(m_test[\"Global_active_power\"].values, m_test[\"auto_arima_pred\"].values)\n",
        "autoarima_r_m = r2_score(m_test[\"Global_active_power\"].values, m_test[\"auto_arima_pred\"].values)\n",
        "autoarima_rmse_m = math.sqrt(mean_squared_error(m_test[\"Global_active_power\"].values, m_test[\"auto_arima_pred\"].values))\n"
      ],
      "metadata": {
        "id": "xPyjOaTuK93e"
      },
      "execution_count": null,
      "outputs": []
    },
    {
      "cell_type": "code",
      "source": [
        "# Creating a DataFrame to compare the metrics\n",
        "compare_df = {\n",
        "    'Prophet daily': [prophet_mape, prophet_rmse, prophet_r],\n",
        "    'ARIMA daily': [arima_mape, arima_rmse, arima_r],\n",
        "    'SARIMA daily': [sarima_mape, sarima_rmse, sarima_r],\n",
        "    'ARIMA Monthly': [arima_mape_m, arima_rmse_m, arima_r_m],\n",
        "    'SARIMA Monthly': [sarima_mape_m, sarima_rmse_m, sarima_r_m],\n",
        "    'autoARIMA Monthly': [autoarima_mape_m, autoarima_rmse_m, autoarima_r_m]\n",
        "}\n",
        "\n",
        "compare_df = pd.DataFrame(compare_df, index=['MAPE', 'RMSE', 'R2'])\n",
        "compare_df = compare_df.transpose()  # Transpose for better readability\n",
        "compare_df"
      ],
      "metadata": {
        "id": "y-h7myExLB_A"
      },
      "execution_count": null,
      "outputs": []
    },
    {
      "cell_type": "markdown",
      "source": [
        "## Deep Learning Models"
      ],
      "metadata": {
        "id": "QnQ-07KfMMWf"
      }
    },
    {
      "cell_type": "markdown",
      "source": [
        "### Data Preprocessing"
      ],
      "metadata": {
        "id": "rrkD41h2MPuS"
      }
    },
    {
      "cell_type": "code",
      "source": [
        "# Importing necessary libraries\n",
        "import gc  # Garbage collection for memory management"
      ],
      "metadata": {
        "id": "8Ge_i6TgMSpQ"
      },
      "execution_count": null,
      "outputs": []
    },
    {
      "cell_type": "code",
      "source": [
        "# Display the first few rows of the dataframe\n",
        "# data = data[['Global_active_power', 'Global_reactive_power', 'Global_intensity', 'Sub_metering_1', 'Sub_metering_2', 'Sub_metering_3']]\n",
        "data.head()"
      ],
      "metadata": {
        "colab": {
          "base_uri": "https://localhost:8080/",
          "height": 431
        },
        "id": "kJ73kAkg8rta",
        "outputId": "763f278d-9a9d-436f-da83-30293c5b8cea"
      },
      "execution_count": null,
      "outputs": [
        {
          "output_type": "execute_result",
          "data": {
            "text/plain": [
              "                     Global_active_power  Global_reactive_power  Voltage  \\\n",
              "Date_time                                                                  \n",
              "2006-12-16 17:24:00                4.216                  0.418  234.840   \n",
              "2006-12-16 17:25:00                5.360                  0.436  233.630   \n",
              "2006-12-16 17:26:00                5.374                  0.498  233.290   \n",
              "2006-12-16 17:27:00                5.388                  0.502  233.740   \n",
              "2006-12-16 17:28:00                3.666                  0.528  235.680   \n",
              "\n",
              "                     Global_intensity  Sub_metering_1  Sub_metering_2  \\\n",
              "Date_time                                                               \n",
              "2006-12-16 17:24:00            18.400           0.000           1.000   \n",
              "2006-12-16 17:25:00            23.000           0.000           1.000   \n",
              "2006-12-16 17:26:00            23.000           0.000           2.000   \n",
              "2006-12-16 17:27:00            23.000           0.000           1.000   \n",
              "2006-12-16 17:28:00            15.800           0.000           1.000   \n",
              "\n",
              "                     Sub_metering_3  \n",
              "Date_time                            \n",
              "2006-12-16 17:24:00          17.000  \n",
              "2006-12-16 17:25:00          16.000  \n",
              "2006-12-16 17:26:00          17.000  \n",
              "2006-12-16 17:27:00          17.000  \n",
              "2006-12-16 17:28:00          17.000  "
            ],
            "text/html": [
              "\n",
              "  <div id=\"df-ee849331-a8c7-483a-9ba1-b3f8a0a5380c\" class=\"colab-df-container\">\n",
              "    <div>\n",
              "<style scoped>\n",
              "    .dataframe tbody tr th:only-of-type {\n",
              "        vertical-align: middle;\n",
              "    }\n",
              "\n",
              "    .dataframe tbody tr th {\n",
              "        vertical-align: top;\n",
              "    }\n",
              "\n",
              "    .dataframe thead th {\n",
              "        text-align: right;\n",
              "    }\n",
              "</style>\n",
              "<table border=\"1\" class=\"dataframe\">\n",
              "  <thead>\n",
              "    <tr style=\"text-align: right;\">\n",
              "      <th></th>\n",
              "      <th>Global_active_power</th>\n",
              "      <th>Global_reactive_power</th>\n",
              "      <th>Voltage</th>\n",
              "      <th>Global_intensity</th>\n",
              "      <th>Sub_metering_1</th>\n",
              "      <th>Sub_metering_2</th>\n",
              "      <th>Sub_metering_3</th>\n",
              "    </tr>\n",
              "    <tr>\n",
              "      <th>Date_time</th>\n",
              "      <th></th>\n",
              "      <th></th>\n",
              "      <th></th>\n",
              "      <th></th>\n",
              "      <th></th>\n",
              "      <th></th>\n",
              "      <th></th>\n",
              "    </tr>\n",
              "  </thead>\n",
              "  <tbody>\n",
              "    <tr>\n",
              "      <th>2006-12-16 17:24:00</th>\n",
              "      <td>4.216</td>\n",
              "      <td>0.418</td>\n",
              "      <td>234.840</td>\n",
              "      <td>18.400</td>\n",
              "      <td>0.000</td>\n",
              "      <td>1.000</td>\n",
              "      <td>17.000</td>\n",
              "    </tr>\n",
              "    <tr>\n",
              "      <th>2006-12-16 17:25:00</th>\n",
              "      <td>5.360</td>\n",
              "      <td>0.436</td>\n",
              "      <td>233.630</td>\n",
              "      <td>23.000</td>\n",
              "      <td>0.000</td>\n",
              "      <td>1.000</td>\n",
              "      <td>16.000</td>\n",
              "    </tr>\n",
              "    <tr>\n",
              "      <th>2006-12-16 17:26:00</th>\n",
              "      <td>5.374</td>\n",
              "      <td>0.498</td>\n",
              "      <td>233.290</td>\n",
              "      <td>23.000</td>\n",
              "      <td>0.000</td>\n",
              "      <td>2.000</td>\n",
              "      <td>17.000</td>\n",
              "    </tr>\n",
              "    <tr>\n",
              "      <th>2006-12-16 17:27:00</th>\n",
              "      <td>5.388</td>\n",
              "      <td>0.502</td>\n",
              "      <td>233.740</td>\n",
              "      <td>23.000</td>\n",
              "      <td>0.000</td>\n",
              "      <td>1.000</td>\n",
              "      <td>17.000</td>\n",
              "    </tr>\n",
              "    <tr>\n",
              "      <th>2006-12-16 17:28:00</th>\n",
              "      <td>3.666</td>\n",
              "      <td>0.528</td>\n",
              "      <td>235.680</td>\n",
              "      <td>15.800</td>\n",
              "      <td>0.000</td>\n",
              "      <td>1.000</td>\n",
              "      <td>17.000</td>\n",
              "    </tr>\n",
              "  </tbody>\n",
              "</table>\n",
              "</div>\n",
              "    <div class=\"colab-df-buttons\">\n",
              "\n",
              "  <div class=\"colab-df-container\">\n",
              "    <button class=\"colab-df-convert\" onclick=\"convertToInteractive('df-ee849331-a8c7-483a-9ba1-b3f8a0a5380c')\"\n",
              "            title=\"Convert this dataframe to an interactive table.\"\n",
              "            style=\"display:none;\">\n",
              "\n",
              "  <svg xmlns=\"http://www.w3.org/2000/svg\" height=\"24px\" viewBox=\"0 -960 960 960\">\n",
              "    <path d=\"M120-120v-720h720v720H120Zm60-500h600v-160H180v160Zm220 220h160v-160H400v160Zm0 220h160v-160H400v160ZM180-400h160v-160H180v160Zm440 0h160v-160H620v160ZM180-180h160v-160H180v160Zm440 0h160v-160H620v160Z\"/>\n",
              "  </svg>\n",
              "    </button>\n",
              "\n",
              "  <style>\n",
              "    .colab-df-container {\n",
              "      display:flex;\n",
              "      gap: 12px;\n",
              "    }\n",
              "\n",
              "    .colab-df-convert {\n",
              "      background-color: #E8F0FE;\n",
              "      border: none;\n",
              "      border-radius: 50%;\n",
              "      cursor: pointer;\n",
              "      display: none;\n",
              "      fill: #1967D2;\n",
              "      height: 32px;\n",
              "      padding: 0 0 0 0;\n",
              "      width: 32px;\n",
              "    }\n",
              "\n",
              "    .colab-df-convert:hover {\n",
              "      background-color: #E2EBFA;\n",
              "      box-shadow: 0px 1px 2px rgba(60, 64, 67, 0.3), 0px 1px 3px 1px rgba(60, 64, 67, 0.15);\n",
              "      fill: #174EA6;\n",
              "    }\n",
              "\n",
              "    .colab-df-buttons div {\n",
              "      margin-bottom: 4px;\n",
              "    }\n",
              "\n",
              "    [theme=dark] .colab-df-convert {\n",
              "      background-color: #3B4455;\n",
              "      fill: #D2E3FC;\n",
              "    }\n",
              "\n",
              "    [theme=dark] .colab-df-convert:hover {\n",
              "      background-color: #434B5C;\n",
              "      box-shadow: 0px 1px 3px 1px rgba(0, 0, 0, 0.15);\n",
              "      filter: drop-shadow(0px 1px 2px rgba(0, 0, 0, 0.3));\n",
              "      fill: #FFFFFF;\n",
              "    }\n",
              "  </style>\n",
              "\n",
              "    <script>\n",
              "      const buttonEl =\n",
              "        document.querySelector('#df-ee849331-a8c7-483a-9ba1-b3f8a0a5380c button.colab-df-convert');\n",
              "      buttonEl.style.display =\n",
              "        google.colab.kernel.accessAllowed ? 'block' : 'none';\n",
              "\n",
              "      async function convertToInteractive(key) {\n",
              "        const element = document.querySelector('#df-ee849331-a8c7-483a-9ba1-b3f8a0a5380c');\n",
              "        const dataTable =\n",
              "          await google.colab.kernel.invokeFunction('convertToInteractive',\n",
              "                                                    [key], {});\n",
              "        if (!dataTable) return;\n",
              "\n",
              "        const docLinkHtml = 'Like what you see? Visit the ' +\n",
              "          '<a target=\"_blank\" href=https://colab.research.google.com/notebooks/data_table.ipynb>data table notebook</a>'\n",
              "          + ' to learn more about interactive tables.';\n",
              "        element.innerHTML = '';\n",
              "        dataTable['output_type'] = 'display_data';\n",
              "        await google.colab.output.renderOutput(dataTable, element);\n",
              "        const docLink = document.createElement('div');\n",
              "        docLink.innerHTML = docLinkHtml;\n",
              "        element.appendChild(docLink);\n",
              "      }\n",
              "    </script>\n",
              "  </div>\n",
              "\n",
              "\n",
              "<div id=\"df-2ff07ad2-7d0a-4856-8ed6-a4ad3c6cfbdb\">\n",
              "  <button class=\"colab-df-quickchart\" onclick=\"quickchart('df-2ff07ad2-7d0a-4856-8ed6-a4ad3c6cfbdb')\"\n",
              "            title=\"Suggest charts\"\n",
              "            style=\"display:none;\">\n",
              "\n",
              "<svg xmlns=\"http://www.w3.org/2000/svg\" height=\"24px\"viewBox=\"0 0 24 24\"\n",
              "     width=\"24px\">\n",
              "    <g>\n",
              "        <path d=\"M19 3H5c-1.1 0-2 .9-2 2v14c0 1.1.9 2 2 2h14c1.1 0 2-.9 2-2V5c0-1.1-.9-2-2-2zM9 17H7v-7h2v7zm4 0h-2V7h2v10zm4 0h-2v-4h2v4z\"/>\n",
              "    </g>\n",
              "</svg>\n",
              "  </button>\n",
              "\n",
              "<style>\n",
              "  .colab-df-quickchart {\n",
              "      --bg-color: #E8F0FE;\n",
              "      --fill-color: #1967D2;\n",
              "      --hover-bg-color: #E2EBFA;\n",
              "      --hover-fill-color: #174EA6;\n",
              "      --disabled-fill-color: #AAA;\n",
              "      --disabled-bg-color: #DDD;\n",
              "  }\n",
              "\n",
              "  [theme=dark] .colab-df-quickchart {\n",
              "      --bg-color: #3B4455;\n",
              "      --fill-color: #D2E3FC;\n",
              "      --hover-bg-color: #434B5C;\n",
              "      --hover-fill-color: #FFFFFF;\n",
              "      --disabled-bg-color: #3B4455;\n",
              "      --disabled-fill-color: #666;\n",
              "  }\n",
              "\n",
              "  .colab-df-quickchart {\n",
              "    background-color: var(--bg-color);\n",
              "    border: none;\n",
              "    border-radius: 50%;\n",
              "    cursor: pointer;\n",
              "    display: none;\n",
              "    fill: var(--fill-color);\n",
              "    height: 32px;\n",
              "    padding: 0;\n",
              "    width: 32px;\n",
              "  }\n",
              "\n",
              "  .colab-df-quickchart:hover {\n",
              "    background-color: var(--hover-bg-color);\n",
              "    box-shadow: 0 1px 2px rgba(60, 64, 67, 0.3), 0 1px 3px 1px rgba(60, 64, 67, 0.15);\n",
              "    fill: var(--button-hover-fill-color);\n",
              "  }\n",
              "\n",
              "  .colab-df-quickchart-complete:disabled,\n",
              "  .colab-df-quickchart-complete:disabled:hover {\n",
              "    background-color: var(--disabled-bg-color);\n",
              "    fill: var(--disabled-fill-color);\n",
              "    box-shadow: none;\n",
              "  }\n",
              "\n",
              "  .colab-df-spinner {\n",
              "    border: 2px solid var(--fill-color);\n",
              "    border-color: transparent;\n",
              "    border-bottom-color: var(--fill-color);\n",
              "    animation:\n",
              "      spin 1s steps(1) infinite;\n",
              "  }\n",
              "\n",
              "  @keyframes spin {\n",
              "    0% {\n",
              "      border-color: transparent;\n",
              "      border-bottom-color: var(--fill-color);\n",
              "      border-left-color: var(--fill-color);\n",
              "    }\n",
              "    20% {\n",
              "      border-color: transparent;\n",
              "      border-left-color: var(--fill-color);\n",
              "      border-top-color: var(--fill-color);\n",
              "    }\n",
              "    30% {\n",
              "      border-color: transparent;\n",
              "      border-left-color: var(--fill-color);\n",
              "      border-top-color: var(--fill-color);\n",
              "      border-right-color: var(--fill-color);\n",
              "    }\n",
              "    40% {\n",
              "      border-color: transparent;\n",
              "      border-right-color: var(--fill-color);\n",
              "      border-top-color: var(--fill-color);\n",
              "    }\n",
              "    60% {\n",
              "      border-color: transparent;\n",
              "      border-right-color: var(--fill-color);\n",
              "    }\n",
              "    80% {\n",
              "      border-color: transparent;\n",
              "      border-right-color: var(--fill-color);\n",
              "      border-bottom-color: var(--fill-color);\n",
              "    }\n",
              "    90% {\n",
              "      border-color: transparent;\n",
              "      border-bottom-color: var(--fill-color);\n",
              "    }\n",
              "  }\n",
              "</style>\n",
              "\n",
              "  <script>\n",
              "    async function quickchart(key) {\n",
              "      const quickchartButtonEl =\n",
              "        document.querySelector('#' + key + ' button');\n",
              "      quickchartButtonEl.disabled = true;  // To prevent multiple clicks.\n",
              "      quickchartButtonEl.classList.add('colab-df-spinner');\n",
              "      try {\n",
              "        const charts = await google.colab.kernel.invokeFunction(\n",
              "            'suggestCharts', [key], {});\n",
              "      } catch (error) {\n",
              "        console.error('Error during call to suggestCharts:', error);\n",
              "      }\n",
              "      quickchartButtonEl.classList.remove('colab-df-spinner');\n",
              "      quickchartButtonEl.classList.add('colab-df-quickchart-complete');\n",
              "    }\n",
              "    (() => {\n",
              "      let quickchartButtonEl =\n",
              "        document.querySelector('#df-2ff07ad2-7d0a-4856-8ed6-a4ad3c6cfbdb button');\n",
              "      quickchartButtonEl.style.display =\n",
              "        google.colab.kernel.accessAllowed ? 'block' : 'none';\n",
              "    })();\n",
              "  </script>\n",
              "</div>\n",
              "    </div>\n",
              "  </div>\n"
            ],
            "application/vnd.google.colaboratory.intrinsic+json": {
              "type": "dataframe",
              "variable_name": "data"
            }
          },
          "metadata": {},
          "execution_count": 24
        }
      ]
    },
    {
      "cell_type": "code",
      "source": [
        "## Scaling data\n",
        "from sklearn.preprocessing import MinMaxScaler\n",
        "\n",
        "# Define the scalers\n",
        "scaler = MinMaxScaler()\n",
        "target_transformer = MinMaxScaler() # For the target variable\n",
        "\n",
        "\n",
        "data[['Global_active_power', 'Global_reactive_power', 'Global_intensity', 'Sub_metering_1', 'Sub_metering_2', 'Sub_metering_3']] = scaler.fit_transform(\n",
        "    data[['Global_active_power', 'Global_reactive_power', 'Global_intensity', 'Sub_metering_1', 'Sub_metering_2', 'Sub_metering_3']]\n",
        ")"
      ],
      "metadata": {
        "id": "dnTx2ddOEZXp"
      },
      "execution_count": null,
      "outputs": []
    },
    {
      "cell_type": "code",
      "source": [
        "data.head()"
      ],
      "metadata": {
        "colab": {
          "base_uri": "https://localhost:8080/",
          "height": 431
        },
        "id": "pSOujhhr_kG4",
        "outputId": "dbbf3afc-a0d4-42a3-dd60-ceb48d20bbb2"
      },
      "execution_count": null,
      "outputs": [
        {
          "output_type": "execute_result",
          "data": {
            "text/plain": [
              "                     Global_active_power  Global_reactive_power  Voltage  \\\n",
              "Date_time                                                                  \n",
              "2006-12-16 17:24:00                0.375                  0.301  234.840   \n",
              "2006-12-16 17:25:00                0.478                  0.314  233.630   \n",
              "2006-12-16 17:26:00                0.480                  0.358  233.290   \n",
              "2006-12-16 17:27:00                0.481                  0.361  233.740   \n",
              "2006-12-16 17:28:00                0.325                  0.380  235.680   \n",
              "\n",
              "                     Global_intensity  Sub_metering_1  Sub_metering_2  \\\n",
              "Date_time                                                               \n",
              "2006-12-16 17:24:00             0.378           0.000           0.013   \n",
              "2006-12-16 17:25:00             0.473           0.000           0.013   \n",
              "2006-12-16 17:26:00             0.473           0.000           0.025   \n",
              "2006-12-16 17:27:00             0.473           0.000           0.013   \n",
              "2006-12-16 17:28:00             0.324           0.000           0.013   \n",
              "\n",
              "                     Sub_metering_3  \n",
              "Date_time                            \n",
              "2006-12-16 17:24:00           0.548  \n",
              "2006-12-16 17:25:00           0.516  \n",
              "2006-12-16 17:26:00           0.548  \n",
              "2006-12-16 17:27:00           0.548  \n",
              "2006-12-16 17:28:00           0.548  "
            ],
            "text/html": [
              "\n",
              "  <div id=\"df-986b2d03-2fe9-4bb7-b157-55496b4d3803\" class=\"colab-df-container\">\n",
              "    <div>\n",
              "<style scoped>\n",
              "    .dataframe tbody tr th:only-of-type {\n",
              "        vertical-align: middle;\n",
              "    }\n",
              "\n",
              "    .dataframe tbody tr th {\n",
              "        vertical-align: top;\n",
              "    }\n",
              "\n",
              "    .dataframe thead th {\n",
              "        text-align: right;\n",
              "    }\n",
              "</style>\n",
              "<table border=\"1\" class=\"dataframe\">\n",
              "  <thead>\n",
              "    <tr style=\"text-align: right;\">\n",
              "      <th></th>\n",
              "      <th>Global_active_power</th>\n",
              "      <th>Global_reactive_power</th>\n",
              "      <th>Voltage</th>\n",
              "      <th>Global_intensity</th>\n",
              "      <th>Sub_metering_1</th>\n",
              "      <th>Sub_metering_2</th>\n",
              "      <th>Sub_metering_3</th>\n",
              "    </tr>\n",
              "    <tr>\n",
              "      <th>Date_time</th>\n",
              "      <th></th>\n",
              "      <th></th>\n",
              "      <th></th>\n",
              "      <th></th>\n",
              "      <th></th>\n",
              "      <th></th>\n",
              "      <th></th>\n",
              "    </tr>\n",
              "  </thead>\n",
              "  <tbody>\n",
              "    <tr>\n",
              "      <th>2006-12-16 17:24:00</th>\n",
              "      <td>0.375</td>\n",
              "      <td>0.301</td>\n",
              "      <td>234.840</td>\n",
              "      <td>0.378</td>\n",
              "      <td>0.000</td>\n",
              "      <td>0.013</td>\n",
              "      <td>0.548</td>\n",
              "    </tr>\n",
              "    <tr>\n",
              "      <th>2006-12-16 17:25:00</th>\n",
              "      <td>0.478</td>\n",
              "      <td>0.314</td>\n",
              "      <td>233.630</td>\n",
              "      <td>0.473</td>\n",
              "      <td>0.000</td>\n",
              "      <td>0.013</td>\n",
              "      <td>0.516</td>\n",
              "    </tr>\n",
              "    <tr>\n",
              "      <th>2006-12-16 17:26:00</th>\n",
              "      <td>0.480</td>\n",
              "      <td>0.358</td>\n",
              "      <td>233.290</td>\n",
              "      <td>0.473</td>\n",
              "      <td>0.000</td>\n",
              "      <td>0.025</td>\n",
              "      <td>0.548</td>\n",
              "    </tr>\n",
              "    <tr>\n",
              "      <th>2006-12-16 17:27:00</th>\n",
              "      <td>0.481</td>\n",
              "      <td>0.361</td>\n",
              "      <td>233.740</td>\n",
              "      <td>0.473</td>\n",
              "      <td>0.000</td>\n",
              "      <td>0.013</td>\n",
              "      <td>0.548</td>\n",
              "    </tr>\n",
              "    <tr>\n",
              "      <th>2006-12-16 17:28:00</th>\n",
              "      <td>0.325</td>\n",
              "      <td>0.380</td>\n",
              "      <td>235.680</td>\n",
              "      <td>0.324</td>\n",
              "      <td>0.000</td>\n",
              "      <td>0.013</td>\n",
              "      <td>0.548</td>\n",
              "    </tr>\n",
              "  </tbody>\n",
              "</table>\n",
              "</div>\n",
              "    <div class=\"colab-df-buttons\">\n",
              "\n",
              "  <div class=\"colab-df-container\">\n",
              "    <button class=\"colab-df-convert\" onclick=\"convertToInteractive('df-986b2d03-2fe9-4bb7-b157-55496b4d3803')\"\n",
              "            title=\"Convert this dataframe to an interactive table.\"\n",
              "            style=\"display:none;\">\n",
              "\n",
              "  <svg xmlns=\"http://www.w3.org/2000/svg\" height=\"24px\" viewBox=\"0 -960 960 960\">\n",
              "    <path d=\"M120-120v-720h720v720H120Zm60-500h600v-160H180v160Zm220 220h160v-160H400v160Zm0 220h160v-160H400v160ZM180-400h160v-160H180v160Zm440 0h160v-160H620v160ZM180-180h160v-160H180v160Zm440 0h160v-160H620v160Z\"/>\n",
              "  </svg>\n",
              "    </button>\n",
              "\n",
              "  <style>\n",
              "    .colab-df-container {\n",
              "      display:flex;\n",
              "      gap: 12px;\n",
              "    }\n",
              "\n",
              "    .colab-df-convert {\n",
              "      background-color: #E8F0FE;\n",
              "      border: none;\n",
              "      border-radius: 50%;\n",
              "      cursor: pointer;\n",
              "      display: none;\n",
              "      fill: #1967D2;\n",
              "      height: 32px;\n",
              "      padding: 0 0 0 0;\n",
              "      width: 32px;\n",
              "    }\n",
              "\n",
              "    .colab-df-convert:hover {\n",
              "      background-color: #E2EBFA;\n",
              "      box-shadow: 0px 1px 2px rgba(60, 64, 67, 0.3), 0px 1px 3px 1px rgba(60, 64, 67, 0.15);\n",
              "      fill: #174EA6;\n",
              "    }\n",
              "\n",
              "    .colab-df-buttons div {\n",
              "      margin-bottom: 4px;\n",
              "    }\n",
              "\n",
              "    [theme=dark] .colab-df-convert {\n",
              "      background-color: #3B4455;\n",
              "      fill: #D2E3FC;\n",
              "    }\n",
              "\n",
              "    [theme=dark] .colab-df-convert:hover {\n",
              "      background-color: #434B5C;\n",
              "      box-shadow: 0px 1px 3px 1px rgba(0, 0, 0, 0.15);\n",
              "      filter: drop-shadow(0px 1px 2px rgba(0, 0, 0, 0.3));\n",
              "      fill: #FFFFFF;\n",
              "    }\n",
              "  </style>\n",
              "\n",
              "    <script>\n",
              "      const buttonEl =\n",
              "        document.querySelector('#df-986b2d03-2fe9-4bb7-b157-55496b4d3803 button.colab-df-convert');\n",
              "      buttonEl.style.display =\n",
              "        google.colab.kernel.accessAllowed ? 'block' : 'none';\n",
              "\n",
              "      async function convertToInteractive(key) {\n",
              "        const element = document.querySelector('#df-986b2d03-2fe9-4bb7-b157-55496b4d3803');\n",
              "        const dataTable =\n",
              "          await google.colab.kernel.invokeFunction('convertToInteractive',\n",
              "                                                    [key], {});\n",
              "        if (!dataTable) return;\n",
              "\n",
              "        const docLinkHtml = 'Like what you see? Visit the ' +\n",
              "          '<a target=\"_blank\" href=https://colab.research.google.com/notebooks/data_table.ipynb>data table notebook</a>'\n",
              "          + ' to learn more about interactive tables.';\n",
              "        element.innerHTML = '';\n",
              "        dataTable['output_type'] = 'display_data';\n",
              "        await google.colab.output.renderOutput(dataTable, element);\n",
              "        const docLink = document.createElement('div');\n",
              "        docLink.innerHTML = docLinkHtml;\n",
              "        element.appendChild(docLink);\n",
              "      }\n",
              "    </script>\n",
              "  </div>\n",
              "\n",
              "\n",
              "<div id=\"df-45a5f2d0-370d-4a90-ae6d-77c108513094\">\n",
              "  <button class=\"colab-df-quickchart\" onclick=\"quickchart('df-45a5f2d0-370d-4a90-ae6d-77c108513094')\"\n",
              "            title=\"Suggest charts\"\n",
              "            style=\"display:none;\">\n",
              "\n",
              "<svg xmlns=\"http://www.w3.org/2000/svg\" height=\"24px\"viewBox=\"0 0 24 24\"\n",
              "     width=\"24px\">\n",
              "    <g>\n",
              "        <path d=\"M19 3H5c-1.1 0-2 .9-2 2v14c0 1.1.9 2 2 2h14c1.1 0 2-.9 2-2V5c0-1.1-.9-2-2-2zM9 17H7v-7h2v7zm4 0h-2V7h2v10zm4 0h-2v-4h2v4z\"/>\n",
              "    </g>\n",
              "</svg>\n",
              "  </button>\n",
              "\n",
              "<style>\n",
              "  .colab-df-quickchart {\n",
              "      --bg-color: #E8F0FE;\n",
              "      --fill-color: #1967D2;\n",
              "      --hover-bg-color: #E2EBFA;\n",
              "      --hover-fill-color: #174EA6;\n",
              "      --disabled-fill-color: #AAA;\n",
              "      --disabled-bg-color: #DDD;\n",
              "  }\n",
              "\n",
              "  [theme=dark] .colab-df-quickchart {\n",
              "      --bg-color: #3B4455;\n",
              "      --fill-color: #D2E3FC;\n",
              "      --hover-bg-color: #434B5C;\n",
              "      --hover-fill-color: #FFFFFF;\n",
              "      --disabled-bg-color: #3B4455;\n",
              "      --disabled-fill-color: #666;\n",
              "  }\n",
              "\n",
              "  .colab-df-quickchart {\n",
              "    background-color: var(--bg-color);\n",
              "    border: none;\n",
              "    border-radius: 50%;\n",
              "    cursor: pointer;\n",
              "    display: none;\n",
              "    fill: var(--fill-color);\n",
              "    height: 32px;\n",
              "    padding: 0;\n",
              "    width: 32px;\n",
              "  }\n",
              "\n",
              "  .colab-df-quickchart:hover {\n",
              "    background-color: var(--hover-bg-color);\n",
              "    box-shadow: 0 1px 2px rgba(60, 64, 67, 0.3), 0 1px 3px 1px rgba(60, 64, 67, 0.15);\n",
              "    fill: var(--button-hover-fill-color);\n",
              "  }\n",
              "\n",
              "  .colab-df-quickchart-complete:disabled,\n",
              "  .colab-df-quickchart-complete:disabled:hover {\n",
              "    background-color: var(--disabled-bg-color);\n",
              "    fill: var(--disabled-fill-color);\n",
              "    box-shadow: none;\n",
              "  }\n",
              "\n",
              "  .colab-df-spinner {\n",
              "    border: 2px solid var(--fill-color);\n",
              "    border-color: transparent;\n",
              "    border-bottom-color: var(--fill-color);\n",
              "    animation:\n",
              "      spin 1s steps(1) infinite;\n",
              "  }\n",
              "\n",
              "  @keyframes spin {\n",
              "    0% {\n",
              "      border-color: transparent;\n",
              "      border-bottom-color: var(--fill-color);\n",
              "      border-left-color: var(--fill-color);\n",
              "    }\n",
              "    20% {\n",
              "      border-color: transparent;\n",
              "      border-left-color: var(--fill-color);\n",
              "      border-top-color: var(--fill-color);\n",
              "    }\n",
              "    30% {\n",
              "      border-color: transparent;\n",
              "      border-left-color: var(--fill-color);\n",
              "      border-top-color: var(--fill-color);\n",
              "      border-right-color: var(--fill-color);\n",
              "    }\n",
              "    40% {\n",
              "      border-color: transparent;\n",
              "      border-right-color: var(--fill-color);\n",
              "      border-top-color: var(--fill-color);\n",
              "    }\n",
              "    60% {\n",
              "      border-color: transparent;\n",
              "      border-right-color: var(--fill-color);\n",
              "    }\n",
              "    80% {\n",
              "      border-color: transparent;\n",
              "      border-right-color: var(--fill-color);\n",
              "      border-bottom-color: var(--fill-color);\n",
              "    }\n",
              "    90% {\n",
              "      border-color: transparent;\n",
              "      border-bottom-color: var(--fill-color);\n",
              "    }\n",
              "  }\n",
              "</style>\n",
              "\n",
              "  <script>\n",
              "    async function quickchart(key) {\n",
              "      const quickchartButtonEl =\n",
              "        document.querySelector('#' + key + ' button');\n",
              "      quickchartButtonEl.disabled = true;  // To prevent multiple clicks.\n",
              "      quickchartButtonEl.classList.add('colab-df-spinner');\n",
              "      try {\n",
              "        const charts = await google.colab.kernel.invokeFunction(\n",
              "            'suggestCharts', [key], {});\n",
              "      } catch (error) {\n",
              "        console.error('Error during call to suggestCharts:', error);\n",
              "      }\n",
              "      quickchartButtonEl.classList.remove('colab-df-spinner');\n",
              "      quickchartButtonEl.classList.add('colab-df-quickchart-complete');\n",
              "    }\n",
              "    (() => {\n",
              "      let quickchartButtonEl =\n",
              "        document.querySelector('#df-45a5f2d0-370d-4a90-ae6d-77c108513094 button');\n",
              "      quickchartButtonEl.style.display =\n",
              "        google.colab.kernel.accessAllowed ? 'block' : 'none';\n",
              "    })();\n",
              "  </script>\n",
              "</div>\n",
              "    </div>\n",
              "  </div>\n"
            ],
            "application/vnd.google.colaboratory.intrinsic+json": {
              "type": "dataframe",
              "variable_name": "data"
            }
          },
          "metadata": {},
          "execution_count": 26
        }
      ]
    },
    {
      "cell_type": "code",
      "source": [
        "# Split the data into training and testing sets\n",
        "train_size = int(len(data) * 0.8)  # 80% training data, 20% testing data\n",
        "d1_train, d1_test = data.iloc[:train_size], data.iloc[train_size:]\n",
        "\n",
        "# Display training set information\n",
        "print(f'Train shape: {d1_train.shape}')\n",
        "\n",
        "# Display testing set information\n",
        "print(f'Test shape: {d1_test.shape}')"
      ],
      "metadata": {
        "colab": {
          "base_uri": "https://localhost:8080/"
        },
        "id": "sRoBPAG18fcE",
        "outputId": "257eedbd-4481-4b64-8a94-91d0168c8350"
      },
      "execution_count": null,
      "outputs": [
        {
          "output_type": "stream",
          "name": "stdout",
          "text": [
            "Train shape: (1660207, 7)\n",
            "Test shape: (415052, 7)\n"
          ]
        }
      ]
    },
    {
      "cell_type": "code",
      "source": [
        "d1_train.head()"
      ],
      "metadata": {
        "colab": {
          "base_uri": "https://localhost:8080/",
          "height": 431
        },
        "id": "xr4aDq1_Df0p",
        "outputId": "292e7fdf-57b6-490e-db08-e66bc54c844a"
      },
      "execution_count": null,
      "outputs": [
        {
          "output_type": "execute_result",
          "data": {
            "text/plain": [
              "                     Global_active_power  Global_reactive_power  Voltage  \\\n",
              "Date_time                                                                  \n",
              "2006-12-16 17:24:00                0.375                  0.301  234.840   \n",
              "2006-12-16 17:25:00                0.478                  0.314  233.630   \n",
              "2006-12-16 17:26:00                0.480                  0.358  233.290   \n",
              "2006-12-16 17:27:00                0.481                  0.361  233.740   \n",
              "2006-12-16 17:28:00                0.325                  0.380  235.680   \n",
              "\n",
              "                     Global_intensity  Sub_metering_1  Sub_metering_2  \\\n",
              "Date_time                                                               \n",
              "2006-12-16 17:24:00             0.378           0.000           0.013   \n",
              "2006-12-16 17:25:00             0.473           0.000           0.013   \n",
              "2006-12-16 17:26:00             0.473           0.000           0.025   \n",
              "2006-12-16 17:27:00             0.473           0.000           0.013   \n",
              "2006-12-16 17:28:00             0.324           0.000           0.013   \n",
              "\n",
              "                     Sub_metering_3  \n",
              "Date_time                            \n",
              "2006-12-16 17:24:00           0.548  \n",
              "2006-12-16 17:25:00           0.516  \n",
              "2006-12-16 17:26:00           0.548  \n",
              "2006-12-16 17:27:00           0.548  \n",
              "2006-12-16 17:28:00           0.548  "
            ],
            "text/html": [
              "\n",
              "  <div id=\"df-00b5d22a-88c9-4e41-a74f-7acc69a199fb\" class=\"colab-df-container\">\n",
              "    <div>\n",
              "<style scoped>\n",
              "    .dataframe tbody tr th:only-of-type {\n",
              "        vertical-align: middle;\n",
              "    }\n",
              "\n",
              "    .dataframe tbody tr th {\n",
              "        vertical-align: top;\n",
              "    }\n",
              "\n",
              "    .dataframe thead th {\n",
              "        text-align: right;\n",
              "    }\n",
              "</style>\n",
              "<table border=\"1\" class=\"dataframe\">\n",
              "  <thead>\n",
              "    <tr style=\"text-align: right;\">\n",
              "      <th></th>\n",
              "      <th>Global_active_power</th>\n",
              "      <th>Global_reactive_power</th>\n",
              "      <th>Voltage</th>\n",
              "      <th>Global_intensity</th>\n",
              "      <th>Sub_metering_1</th>\n",
              "      <th>Sub_metering_2</th>\n",
              "      <th>Sub_metering_3</th>\n",
              "    </tr>\n",
              "    <tr>\n",
              "      <th>Date_time</th>\n",
              "      <th></th>\n",
              "      <th></th>\n",
              "      <th></th>\n",
              "      <th></th>\n",
              "      <th></th>\n",
              "      <th></th>\n",
              "      <th></th>\n",
              "    </tr>\n",
              "  </thead>\n",
              "  <tbody>\n",
              "    <tr>\n",
              "      <th>2006-12-16 17:24:00</th>\n",
              "      <td>0.375</td>\n",
              "      <td>0.301</td>\n",
              "      <td>234.840</td>\n",
              "      <td>0.378</td>\n",
              "      <td>0.000</td>\n",
              "      <td>0.013</td>\n",
              "      <td>0.548</td>\n",
              "    </tr>\n",
              "    <tr>\n",
              "      <th>2006-12-16 17:25:00</th>\n",
              "      <td>0.478</td>\n",
              "      <td>0.314</td>\n",
              "      <td>233.630</td>\n",
              "      <td>0.473</td>\n",
              "      <td>0.000</td>\n",
              "      <td>0.013</td>\n",
              "      <td>0.516</td>\n",
              "    </tr>\n",
              "    <tr>\n",
              "      <th>2006-12-16 17:26:00</th>\n",
              "      <td>0.480</td>\n",
              "      <td>0.358</td>\n",
              "      <td>233.290</td>\n",
              "      <td>0.473</td>\n",
              "      <td>0.000</td>\n",
              "      <td>0.025</td>\n",
              "      <td>0.548</td>\n",
              "    </tr>\n",
              "    <tr>\n",
              "      <th>2006-12-16 17:27:00</th>\n",
              "      <td>0.481</td>\n",
              "      <td>0.361</td>\n",
              "      <td>233.740</td>\n",
              "      <td>0.473</td>\n",
              "      <td>0.000</td>\n",
              "      <td>0.013</td>\n",
              "      <td>0.548</td>\n",
              "    </tr>\n",
              "    <tr>\n",
              "      <th>2006-12-16 17:28:00</th>\n",
              "      <td>0.325</td>\n",
              "      <td>0.380</td>\n",
              "      <td>235.680</td>\n",
              "      <td>0.324</td>\n",
              "      <td>0.000</td>\n",
              "      <td>0.013</td>\n",
              "      <td>0.548</td>\n",
              "    </tr>\n",
              "  </tbody>\n",
              "</table>\n",
              "</div>\n",
              "    <div class=\"colab-df-buttons\">\n",
              "\n",
              "  <div class=\"colab-df-container\">\n",
              "    <button class=\"colab-df-convert\" onclick=\"convertToInteractive('df-00b5d22a-88c9-4e41-a74f-7acc69a199fb')\"\n",
              "            title=\"Convert this dataframe to an interactive table.\"\n",
              "            style=\"display:none;\">\n",
              "\n",
              "  <svg xmlns=\"http://www.w3.org/2000/svg\" height=\"24px\" viewBox=\"0 -960 960 960\">\n",
              "    <path d=\"M120-120v-720h720v720H120Zm60-500h600v-160H180v160Zm220 220h160v-160H400v160Zm0 220h160v-160H400v160ZM180-400h160v-160H180v160Zm440 0h160v-160H620v160ZM180-180h160v-160H180v160Zm440 0h160v-160H620v160Z\"/>\n",
              "  </svg>\n",
              "    </button>\n",
              "\n",
              "  <style>\n",
              "    .colab-df-container {\n",
              "      display:flex;\n",
              "      gap: 12px;\n",
              "    }\n",
              "\n",
              "    .colab-df-convert {\n",
              "      background-color: #E8F0FE;\n",
              "      border: none;\n",
              "      border-radius: 50%;\n",
              "      cursor: pointer;\n",
              "      display: none;\n",
              "      fill: #1967D2;\n",
              "      height: 32px;\n",
              "      padding: 0 0 0 0;\n",
              "      width: 32px;\n",
              "    }\n",
              "\n",
              "    .colab-df-convert:hover {\n",
              "      background-color: #E2EBFA;\n",
              "      box-shadow: 0px 1px 2px rgba(60, 64, 67, 0.3), 0px 1px 3px 1px rgba(60, 64, 67, 0.15);\n",
              "      fill: #174EA6;\n",
              "    }\n",
              "\n",
              "    .colab-df-buttons div {\n",
              "      margin-bottom: 4px;\n",
              "    }\n",
              "\n",
              "    [theme=dark] .colab-df-convert {\n",
              "      background-color: #3B4455;\n",
              "      fill: #D2E3FC;\n",
              "    }\n",
              "\n",
              "    [theme=dark] .colab-df-convert:hover {\n",
              "      background-color: #434B5C;\n",
              "      box-shadow: 0px 1px 3px 1px rgba(0, 0, 0, 0.15);\n",
              "      filter: drop-shadow(0px 1px 2px rgba(0, 0, 0, 0.3));\n",
              "      fill: #FFFFFF;\n",
              "    }\n",
              "  </style>\n",
              "\n",
              "    <script>\n",
              "      const buttonEl =\n",
              "        document.querySelector('#df-00b5d22a-88c9-4e41-a74f-7acc69a199fb button.colab-df-convert');\n",
              "      buttonEl.style.display =\n",
              "        google.colab.kernel.accessAllowed ? 'block' : 'none';\n",
              "\n",
              "      async function convertToInteractive(key) {\n",
              "        const element = document.querySelector('#df-00b5d22a-88c9-4e41-a74f-7acc69a199fb');\n",
              "        const dataTable =\n",
              "          await google.colab.kernel.invokeFunction('convertToInteractive',\n",
              "                                                    [key], {});\n",
              "        if (!dataTable) return;\n",
              "\n",
              "        const docLinkHtml = 'Like what you see? Visit the ' +\n",
              "          '<a target=\"_blank\" href=https://colab.research.google.com/notebooks/data_table.ipynb>data table notebook</a>'\n",
              "          + ' to learn more about interactive tables.';\n",
              "        element.innerHTML = '';\n",
              "        dataTable['output_type'] = 'display_data';\n",
              "        await google.colab.output.renderOutput(dataTable, element);\n",
              "        const docLink = document.createElement('div');\n",
              "        docLink.innerHTML = docLinkHtml;\n",
              "        element.appendChild(docLink);\n",
              "      }\n",
              "    </script>\n",
              "  </div>\n",
              "\n",
              "\n",
              "<div id=\"df-b1ca88b7-ba1d-4c48-b6c1-93c757c28888\">\n",
              "  <button class=\"colab-df-quickchart\" onclick=\"quickchart('df-b1ca88b7-ba1d-4c48-b6c1-93c757c28888')\"\n",
              "            title=\"Suggest charts\"\n",
              "            style=\"display:none;\">\n",
              "\n",
              "<svg xmlns=\"http://www.w3.org/2000/svg\" height=\"24px\"viewBox=\"0 0 24 24\"\n",
              "     width=\"24px\">\n",
              "    <g>\n",
              "        <path d=\"M19 3H5c-1.1 0-2 .9-2 2v14c0 1.1.9 2 2 2h14c1.1 0 2-.9 2-2V5c0-1.1-.9-2-2-2zM9 17H7v-7h2v7zm4 0h-2V7h2v10zm4 0h-2v-4h2v4z\"/>\n",
              "    </g>\n",
              "</svg>\n",
              "  </button>\n",
              "\n",
              "<style>\n",
              "  .colab-df-quickchart {\n",
              "      --bg-color: #E8F0FE;\n",
              "      --fill-color: #1967D2;\n",
              "      --hover-bg-color: #E2EBFA;\n",
              "      --hover-fill-color: #174EA6;\n",
              "      --disabled-fill-color: #AAA;\n",
              "      --disabled-bg-color: #DDD;\n",
              "  }\n",
              "\n",
              "  [theme=dark] .colab-df-quickchart {\n",
              "      --bg-color: #3B4455;\n",
              "      --fill-color: #D2E3FC;\n",
              "      --hover-bg-color: #434B5C;\n",
              "      --hover-fill-color: #FFFFFF;\n",
              "      --disabled-bg-color: #3B4455;\n",
              "      --disabled-fill-color: #666;\n",
              "  }\n",
              "\n",
              "  .colab-df-quickchart {\n",
              "    background-color: var(--bg-color);\n",
              "    border: none;\n",
              "    border-radius: 50%;\n",
              "    cursor: pointer;\n",
              "    display: none;\n",
              "    fill: var(--fill-color);\n",
              "    height: 32px;\n",
              "    padding: 0;\n",
              "    width: 32px;\n",
              "  }\n",
              "\n",
              "  .colab-df-quickchart:hover {\n",
              "    background-color: var(--hover-bg-color);\n",
              "    box-shadow: 0 1px 2px rgba(60, 64, 67, 0.3), 0 1px 3px 1px rgba(60, 64, 67, 0.15);\n",
              "    fill: var(--button-hover-fill-color);\n",
              "  }\n",
              "\n",
              "  .colab-df-quickchart-complete:disabled,\n",
              "  .colab-df-quickchart-complete:disabled:hover {\n",
              "    background-color: var(--disabled-bg-color);\n",
              "    fill: var(--disabled-fill-color);\n",
              "    box-shadow: none;\n",
              "  }\n",
              "\n",
              "  .colab-df-spinner {\n",
              "    border: 2px solid var(--fill-color);\n",
              "    border-color: transparent;\n",
              "    border-bottom-color: var(--fill-color);\n",
              "    animation:\n",
              "      spin 1s steps(1) infinite;\n",
              "  }\n",
              "\n",
              "  @keyframes spin {\n",
              "    0% {\n",
              "      border-color: transparent;\n",
              "      border-bottom-color: var(--fill-color);\n",
              "      border-left-color: var(--fill-color);\n",
              "    }\n",
              "    20% {\n",
              "      border-color: transparent;\n",
              "      border-left-color: var(--fill-color);\n",
              "      border-top-color: var(--fill-color);\n",
              "    }\n",
              "    30% {\n",
              "      border-color: transparent;\n",
              "      border-left-color: var(--fill-color);\n",
              "      border-top-color: var(--fill-color);\n",
              "      border-right-color: var(--fill-color);\n",
              "    }\n",
              "    40% {\n",
              "      border-color: transparent;\n",
              "      border-right-color: var(--fill-color);\n",
              "      border-top-color: var(--fill-color);\n",
              "    }\n",
              "    60% {\n",
              "      border-color: transparent;\n",
              "      border-right-color: var(--fill-color);\n",
              "    }\n",
              "    80% {\n",
              "      border-color: transparent;\n",
              "      border-right-color: var(--fill-color);\n",
              "      border-bottom-color: var(--fill-color);\n",
              "    }\n",
              "    90% {\n",
              "      border-color: transparent;\n",
              "      border-bottom-color: var(--fill-color);\n",
              "    }\n",
              "  }\n",
              "</style>\n",
              "\n",
              "  <script>\n",
              "    async function quickchart(key) {\n",
              "      const quickchartButtonEl =\n",
              "        document.querySelector('#' + key + ' button');\n",
              "      quickchartButtonEl.disabled = true;  // To prevent multiple clicks.\n",
              "      quickchartButtonEl.classList.add('colab-df-spinner');\n",
              "      try {\n",
              "        const charts = await google.colab.kernel.invokeFunction(\n",
              "            'suggestCharts', [key], {});\n",
              "      } catch (error) {\n",
              "        console.error('Error during call to suggestCharts:', error);\n",
              "      }\n",
              "      quickchartButtonEl.classList.remove('colab-df-spinner');\n",
              "      quickchartButtonEl.classList.add('colab-df-quickchart-complete');\n",
              "    }\n",
              "    (() => {\n",
              "      let quickchartButtonEl =\n",
              "        document.querySelector('#df-b1ca88b7-ba1d-4c48-b6c1-93c757c28888 button');\n",
              "      quickchartButtonEl.style.display =\n",
              "        google.colab.kernel.accessAllowed ? 'block' : 'none';\n",
              "    })();\n",
              "  </script>\n",
              "</div>\n",
              "    </div>\n",
              "  </div>\n"
            ],
            "application/vnd.google.colaboratory.intrinsic+json": {
              "type": "dataframe",
              "variable_name": "d1_train"
            }
          },
          "metadata": {},
          "execution_count": 28
        }
      ]
    },
    {
      "cell_type": "code",
      "source": [
        "d1_test.head()"
      ],
      "metadata": {
        "colab": {
          "base_uri": "https://localhost:8080/",
          "height": 431
        },
        "id": "b57TTbYpExSY",
        "outputId": "cbd256e5-56db-419b-c233-b7b0d35b425f"
      },
      "execution_count": null,
      "outputs": [
        {
          "output_type": "execute_result",
          "data": {
            "text/plain": [
              "                     Global_active_power  Global_reactive_power  Voltage  \\\n",
              "Date_time                                                                  \n",
              "2010-02-11 15:31:00                0.024                  0.073  250.090   \n",
              "2010-02-11 15:32:00                0.023                  0.073  249.870   \n",
              "2010-02-11 15:33:00                0.023                  0.072  249.790   \n",
              "2010-02-11 15:34:00                0.024                  0.072  249.870   \n",
              "2010-02-11 15:35:00                0.023                  0.071  248.280   \n",
              "\n",
              "                     Global_intensity  Sub_metering_1  Sub_metering_2  \\\n",
              "Date_time                                                               \n",
              "2010-02-11 15:31:00             0.025           0.000           0.025   \n",
              "2010-02-11 15:32:00             0.025           0.000           0.013   \n",
              "2010-02-11 15:33:00             0.025           0.000           0.025   \n",
              "2010-02-11 15:34:00             0.025           0.000           0.013   \n",
              "2010-02-11 15:35:00             0.025           0.000           0.013   \n",
              "\n",
              "                     Sub_metering_3  \n",
              "Date_time                            \n",
              "2010-02-11 15:31:00           0.032  \n",
              "2010-02-11 15:32:00           0.032  \n",
              "2010-02-11 15:33:00           0.032  \n",
              "2010-02-11 15:34:00           0.000  \n",
              "2010-02-11 15:35:00           0.032  "
            ],
            "text/html": [
              "\n",
              "  <div id=\"df-d224c294-1fa2-4829-8716-97ddb9361e81\" class=\"colab-df-container\">\n",
              "    <div>\n",
              "<style scoped>\n",
              "    .dataframe tbody tr th:only-of-type {\n",
              "        vertical-align: middle;\n",
              "    }\n",
              "\n",
              "    .dataframe tbody tr th {\n",
              "        vertical-align: top;\n",
              "    }\n",
              "\n",
              "    .dataframe thead th {\n",
              "        text-align: right;\n",
              "    }\n",
              "</style>\n",
              "<table border=\"1\" class=\"dataframe\">\n",
              "  <thead>\n",
              "    <tr style=\"text-align: right;\">\n",
              "      <th></th>\n",
              "      <th>Global_active_power</th>\n",
              "      <th>Global_reactive_power</th>\n",
              "      <th>Voltage</th>\n",
              "      <th>Global_intensity</th>\n",
              "      <th>Sub_metering_1</th>\n",
              "      <th>Sub_metering_2</th>\n",
              "      <th>Sub_metering_3</th>\n",
              "    </tr>\n",
              "    <tr>\n",
              "      <th>Date_time</th>\n",
              "      <th></th>\n",
              "      <th></th>\n",
              "      <th></th>\n",
              "      <th></th>\n",
              "      <th></th>\n",
              "      <th></th>\n",
              "      <th></th>\n",
              "    </tr>\n",
              "  </thead>\n",
              "  <tbody>\n",
              "    <tr>\n",
              "      <th>2010-02-11 15:31:00</th>\n",
              "      <td>0.024</td>\n",
              "      <td>0.073</td>\n",
              "      <td>250.090</td>\n",
              "      <td>0.025</td>\n",
              "      <td>0.000</td>\n",
              "      <td>0.025</td>\n",
              "      <td>0.032</td>\n",
              "    </tr>\n",
              "    <tr>\n",
              "      <th>2010-02-11 15:32:00</th>\n",
              "      <td>0.023</td>\n",
              "      <td>0.073</td>\n",
              "      <td>249.870</td>\n",
              "      <td>0.025</td>\n",
              "      <td>0.000</td>\n",
              "      <td>0.013</td>\n",
              "      <td>0.032</td>\n",
              "    </tr>\n",
              "    <tr>\n",
              "      <th>2010-02-11 15:33:00</th>\n",
              "      <td>0.023</td>\n",
              "      <td>0.072</td>\n",
              "      <td>249.790</td>\n",
              "      <td>0.025</td>\n",
              "      <td>0.000</td>\n",
              "      <td>0.025</td>\n",
              "      <td>0.032</td>\n",
              "    </tr>\n",
              "    <tr>\n",
              "      <th>2010-02-11 15:34:00</th>\n",
              "      <td>0.024</td>\n",
              "      <td>0.072</td>\n",
              "      <td>249.870</td>\n",
              "      <td>0.025</td>\n",
              "      <td>0.000</td>\n",
              "      <td>0.013</td>\n",
              "      <td>0.000</td>\n",
              "    </tr>\n",
              "    <tr>\n",
              "      <th>2010-02-11 15:35:00</th>\n",
              "      <td>0.023</td>\n",
              "      <td>0.071</td>\n",
              "      <td>248.280</td>\n",
              "      <td>0.025</td>\n",
              "      <td>0.000</td>\n",
              "      <td>0.013</td>\n",
              "      <td>0.032</td>\n",
              "    </tr>\n",
              "  </tbody>\n",
              "</table>\n",
              "</div>\n",
              "    <div class=\"colab-df-buttons\">\n",
              "\n",
              "  <div class=\"colab-df-container\">\n",
              "    <button class=\"colab-df-convert\" onclick=\"convertToInteractive('df-d224c294-1fa2-4829-8716-97ddb9361e81')\"\n",
              "            title=\"Convert this dataframe to an interactive table.\"\n",
              "            style=\"display:none;\">\n",
              "\n",
              "  <svg xmlns=\"http://www.w3.org/2000/svg\" height=\"24px\" viewBox=\"0 -960 960 960\">\n",
              "    <path d=\"M120-120v-720h720v720H120Zm60-500h600v-160H180v160Zm220 220h160v-160H400v160Zm0 220h160v-160H400v160ZM180-400h160v-160H180v160Zm440 0h160v-160H620v160ZM180-180h160v-160H180v160Zm440 0h160v-160H620v160Z\"/>\n",
              "  </svg>\n",
              "    </button>\n",
              "\n",
              "  <style>\n",
              "    .colab-df-container {\n",
              "      display:flex;\n",
              "      gap: 12px;\n",
              "    }\n",
              "\n",
              "    .colab-df-convert {\n",
              "      background-color: #E8F0FE;\n",
              "      border: none;\n",
              "      border-radius: 50%;\n",
              "      cursor: pointer;\n",
              "      display: none;\n",
              "      fill: #1967D2;\n",
              "      height: 32px;\n",
              "      padding: 0 0 0 0;\n",
              "      width: 32px;\n",
              "    }\n",
              "\n",
              "    .colab-df-convert:hover {\n",
              "      background-color: #E2EBFA;\n",
              "      box-shadow: 0px 1px 2px rgba(60, 64, 67, 0.3), 0px 1px 3px 1px rgba(60, 64, 67, 0.15);\n",
              "      fill: #174EA6;\n",
              "    }\n",
              "\n",
              "    .colab-df-buttons div {\n",
              "      margin-bottom: 4px;\n",
              "    }\n",
              "\n",
              "    [theme=dark] .colab-df-convert {\n",
              "      background-color: #3B4455;\n",
              "      fill: #D2E3FC;\n",
              "    }\n",
              "\n",
              "    [theme=dark] .colab-df-convert:hover {\n",
              "      background-color: #434B5C;\n",
              "      box-shadow: 0px 1px 3px 1px rgba(0, 0, 0, 0.15);\n",
              "      filter: drop-shadow(0px 1px 2px rgba(0, 0, 0, 0.3));\n",
              "      fill: #FFFFFF;\n",
              "    }\n",
              "  </style>\n",
              "\n",
              "    <script>\n",
              "      const buttonEl =\n",
              "        document.querySelector('#df-d224c294-1fa2-4829-8716-97ddb9361e81 button.colab-df-convert');\n",
              "      buttonEl.style.display =\n",
              "        google.colab.kernel.accessAllowed ? 'block' : 'none';\n",
              "\n",
              "      async function convertToInteractive(key) {\n",
              "        const element = document.querySelector('#df-d224c294-1fa2-4829-8716-97ddb9361e81');\n",
              "        const dataTable =\n",
              "          await google.colab.kernel.invokeFunction('convertToInteractive',\n",
              "                                                    [key], {});\n",
              "        if (!dataTable) return;\n",
              "\n",
              "        const docLinkHtml = 'Like what you see? Visit the ' +\n",
              "          '<a target=\"_blank\" href=https://colab.research.google.com/notebooks/data_table.ipynb>data table notebook</a>'\n",
              "          + ' to learn more about interactive tables.';\n",
              "        element.innerHTML = '';\n",
              "        dataTable['output_type'] = 'display_data';\n",
              "        await google.colab.output.renderOutput(dataTable, element);\n",
              "        const docLink = document.createElement('div');\n",
              "        docLink.innerHTML = docLinkHtml;\n",
              "        element.appendChild(docLink);\n",
              "      }\n",
              "    </script>\n",
              "  </div>\n",
              "\n",
              "\n",
              "<div id=\"df-28410306-f554-4035-b1b0-936f1f6f8f16\">\n",
              "  <button class=\"colab-df-quickchart\" onclick=\"quickchart('df-28410306-f554-4035-b1b0-936f1f6f8f16')\"\n",
              "            title=\"Suggest charts\"\n",
              "            style=\"display:none;\">\n",
              "\n",
              "<svg xmlns=\"http://www.w3.org/2000/svg\" height=\"24px\"viewBox=\"0 0 24 24\"\n",
              "     width=\"24px\">\n",
              "    <g>\n",
              "        <path d=\"M19 3H5c-1.1 0-2 .9-2 2v14c0 1.1.9 2 2 2h14c1.1 0 2-.9 2-2V5c0-1.1-.9-2-2-2zM9 17H7v-7h2v7zm4 0h-2V7h2v10zm4 0h-2v-4h2v4z\"/>\n",
              "    </g>\n",
              "</svg>\n",
              "  </button>\n",
              "\n",
              "<style>\n",
              "  .colab-df-quickchart {\n",
              "      --bg-color: #E8F0FE;\n",
              "      --fill-color: #1967D2;\n",
              "      --hover-bg-color: #E2EBFA;\n",
              "      --hover-fill-color: #174EA6;\n",
              "      --disabled-fill-color: #AAA;\n",
              "      --disabled-bg-color: #DDD;\n",
              "  }\n",
              "\n",
              "  [theme=dark] .colab-df-quickchart {\n",
              "      --bg-color: #3B4455;\n",
              "      --fill-color: #D2E3FC;\n",
              "      --hover-bg-color: #434B5C;\n",
              "      --hover-fill-color: #FFFFFF;\n",
              "      --disabled-bg-color: #3B4455;\n",
              "      --disabled-fill-color: #666;\n",
              "  }\n",
              "\n",
              "  .colab-df-quickchart {\n",
              "    background-color: var(--bg-color);\n",
              "    border: none;\n",
              "    border-radius: 50%;\n",
              "    cursor: pointer;\n",
              "    display: none;\n",
              "    fill: var(--fill-color);\n",
              "    height: 32px;\n",
              "    padding: 0;\n",
              "    width: 32px;\n",
              "  }\n",
              "\n",
              "  .colab-df-quickchart:hover {\n",
              "    background-color: var(--hover-bg-color);\n",
              "    box-shadow: 0 1px 2px rgba(60, 64, 67, 0.3), 0 1px 3px 1px rgba(60, 64, 67, 0.15);\n",
              "    fill: var(--button-hover-fill-color);\n",
              "  }\n",
              "\n",
              "  .colab-df-quickchart-complete:disabled,\n",
              "  .colab-df-quickchart-complete:disabled:hover {\n",
              "    background-color: var(--disabled-bg-color);\n",
              "    fill: var(--disabled-fill-color);\n",
              "    box-shadow: none;\n",
              "  }\n",
              "\n",
              "  .colab-df-spinner {\n",
              "    border: 2px solid var(--fill-color);\n",
              "    border-color: transparent;\n",
              "    border-bottom-color: var(--fill-color);\n",
              "    animation:\n",
              "      spin 1s steps(1) infinite;\n",
              "  }\n",
              "\n",
              "  @keyframes spin {\n",
              "    0% {\n",
              "      border-color: transparent;\n",
              "      border-bottom-color: var(--fill-color);\n",
              "      border-left-color: var(--fill-color);\n",
              "    }\n",
              "    20% {\n",
              "      border-color: transparent;\n",
              "      border-left-color: var(--fill-color);\n",
              "      border-top-color: var(--fill-color);\n",
              "    }\n",
              "    30% {\n",
              "      border-color: transparent;\n",
              "      border-left-color: var(--fill-color);\n",
              "      border-top-color: var(--fill-color);\n",
              "      border-right-color: var(--fill-color);\n",
              "    }\n",
              "    40% {\n",
              "      border-color: transparent;\n",
              "      border-right-color: var(--fill-color);\n",
              "      border-top-color: var(--fill-color);\n",
              "    }\n",
              "    60% {\n",
              "      border-color: transparent;\n",
              "      border-right-color: var(--fill-color);\n",
              "    }\n",
              "    80% {\n",
              "      border-color: transparent;\n",
              "      border-right-color: var(--fill-color);\n",
              "      border-bottom-color: var(--fill-color);\n",
              "    }\n",
              "    90% {\n",
              "      border-color: transparent;\n",
              "      border-bottom-color: var(--fill-color);\n",
              "    }\n",
              "  }\n",
              "</style>\n",
              "\n",
              "  <script>\n",
              "    async function quickchart(key) {\n",
              "      const quickchartButtonEl =\n",
              "        document.querySelector('#' + key + ' button');\n",
              "      quickchartButtonEl.disabled = true;  // To prevent multiple clicks.\n",
              "      quickchartButtonEl.classList.add('colab-df-spinner');\n",
              "      try {\n",
              "        const charts = await google.colab.kernel.invokeFunction(\n",
              "            'suggestCharts', [key], {});\n",
              "      } catch (error) {\n",
              "        console.error('Error during call to suggestCharts:', error);\n",
              "      }\n",
              "      quickchartButtonEl.classList.remove('colab-df-spinner');\n",
              "      quickchartButtonEl.classList.add('colab-df-quickchart-complete');\n",
              "    }\n",
              "    (() => {\n",
              "      let quickchartButtonEl =\n",
              "        document.querySelector('#df-28410306-f554-4035-b1b0-936f1f6f8f16 button');\n",
              "      quickchartButtonEl.style.display =\n",
              "        google.colab.kernel.accessAllowed ? 'block' : 'none';\n",
              "    })();\n",
              "  </script>\n",
              "</div>\n",
              "    </div>\n",
              "  </div>\n"
            ],
            "application/vnd.google.colaboratory.intrinsic+json": {
              "type": "dataframe",
              "variable_name": "d1_test"
            }
          },
          "metadata": {},
          "execution_count": 29
        }
      ]
    },
    {
      "cell_type": "code",
      "source": [
        "## Visualize the distribution of features\n",
        "\n",
        "# Define the columns for which to plot boxplots\n",
        "f_columns = ['Global_active_power', 'Global_reactive_power', 'Global_intensity', 'Sub_metering_1', 'Sub_metering_2',\n",
        "       'Sub_metering_3']\n",
        "\n",
        "# Plot boxplots for each feature\n",
        "plt.figure(figsize=(15, 15))\n",
        "for i, column in enumerate(f_columns, 1):\n",
        "    plt.subplot(2, 3, i)\n",
        "    sns.boxplot(y=data[column])\n",
        "    plt.title(f'Boxplot of {column.capitalize()}')\n",
        "\n",
        "plt.tight_layout()\n",
        "plt.show()"
      ],
      "metadata": {
        "colab": {
          "base_uri": "https://localhost:8080/",
          "height": 393
        },
        "collapsed": true,
        "id": "u4ScLZdP-_ut",
        "outputId": "f439f908-d94c-4c04-e168-a264f289d156"
      },
      "execution_count": null,
      "outputs": [
        {
          "output_type": "error",
          "ename": "KeyboardInterrupt",
          "evalue": "",
          "traceback": [
            "\u001b[0;31m---------------------------------------------------------------------------\u001b[0m",
            "\u001b[0;31mKeyboardInterrupt\u001b[0m                         Traceback (most recent call last)",
            "\u001b[0;32m<ipython-input-30-dc0b50b7dcd6>\u001b[0m in \u001b[0;36m<cell line: 15>\u001b[0;34m()\u001b[0m\n\u001b[1;32m     13\u001b[0m \u001b[0;34m\u001b[0m\u001b[0m\n\u001b[1;32m     14\u001b[0m \u001b[0mplt\u001b[0m\u001b[0;34m.\u001b[0m\u001b[0mtight_layout\u001b[0m\u001b[0;34m(\u001b[0m\u001b[0;34m)\u001b[0m\u001b[0;34m\u001b[0m\u001b[0;34m\u001b[0m\u001b[0m\n\u001b[0;32m---> 15\u001b[0;31m \u001b[0mplt\u001b[0m\u001b[0;34m.\u001b[0m\u001b[0mshow\u001b[0m\u001b[0;34m(\u001b[0m\u001b[0;34m)\u001b[0m\u001b[0;34m\u001b[0m\u001b[0;34m\u001b[0m\u001b[0m\n\u001b[0m",
            "\u001b[0;32m/usr/local/lib/python3.10/dist-packages/matplotlib/pyplot.py\u001b[0m in \u001b[0;36mshow\u001b[0;34m(*args, **kwargs)\u001b[0m\n\u001b[1;32m    444\u001b[0m     \"\"\"\n\u001b[1;32m    445\u001b[0m     \u001b[0m_warn_if_gui_out_of_main_thread\u001b[0m\u001b[0;34m(\u001b[0m\u001b[0;34m)\u001b[0m\u001b[0;34m\u001b[0m\u001b[0;34m\u001b[0m\u001b[0m\n\u001b[0;32m--> 446\u001b[0;31m     \u001b[0;32mreturn\u001b[0m \u001b[0m_get_backend_mod\u001b[0m\u001b[0;34m(\u001b[0m\u001b[0;34m)\u001b[0m\u001b[0;34m.\u001b[0m\u001b[0mshow\u001b[0m\u001b[0;34m(\u001b[0m\u001b[0;34m*\u001b[0m\u001b[0margs\u001b[0m\u001b[0;34m,\u001b[0m \u001b[0;34m**\u001b[0m\u001b[0mkwargs\u001b[0m\u001b[0;34m)\u001b[0m\u001b[0;34m\u001b[0m\u001b[0;34m\u001b[0m\u001b[0m\n\u001b[0m\u001b[1;32m    447\u001b[0m \u001b[0;34m\u001b[0m\u001b[0m\n\u001b[1;32m    448\u001b[0m \u001b[0;34m\u001b[0m\u001b[0m\n",
            "\u001b[0;32m/usr/local/lib/python3.10/dist-packages/matplotlib_inline/backend_inline.py\u001b[0m in \u001b[0;36mshow\u001b[0;34m(close, block)\u001b[0m\n\u001b[1;32m     88\u001b[0m     \u001b[0;32mtry\u001b[0m\u001b[0;34m:\u001b[0m\u001b[0;34m\u001b[0m\u001b[0;34m\u001b[0m\u001b[0m\n\u001b[1;32m     89\u001b[0m         \u001b[0;32mfor\u001b[0m \u001b[0mfigure_manager\u001b[0m \u001b[0;32min\u001b[0m \u001b[0mGcf\u001b[0m\u001b[0;34m.\u001b[0m\u001b[0mget_all_fig_managers\u001b[0m\u001b[0;34m(\u001b[0m\u001b[0;34m)\u001b[0m\u001b[0;34m:\u001b[0m\u001b[0;34m\u001b[0m\u001b[0;34m\u001b[0m\u001b[0m\n\u001b[0;32m---> 90\u001b[0;31m             display(\n\u001b[0m\u001b[1;32m     91\u001b[0m                 \u001b[0mfigure_manager\u001b[0m\u001b[0;34m.\u001b[0m\u001b[0mcanvas\u001b[0m\u001b[0;34m.\u001b[0m\u001b[0mfigure\u001b[0m\u001b[0;34m,\u001b[0m\u001b[0;34m\u001b[0m\u001b[0;34m\u001b[0m\u001b[0m\n\u001b[1;32m     92\u001b[0m                 \u001b[0mmetadata\u001b[0m\u001b[0;34m=\u001b[0m\u001b[0m_fetch_figure_metadata\u001b[0m\u001b[0;34m(\u001b[0m\u001b[0mfigure_manager\u001b[0m\u001b[0;34m.\u001b[0m\u001b[0mcanvas\u001b[0m\u001b[0;34m.\u001b[0m\u001b[0mfigure\u001b[0m\u001b[0;34m)\u001b[0m\u001b[0;34m\u001b[0m\u001b[0;34m\u001b[0m\u001b[0m\n",
            "\u001b[0;32m/usr/local/lib/python3.10/dist-packages/IPython/core/display.py\u001b[0m in \u001b[0;36mdisplay\u001b[0;34m(include, exclude, metadata, transient, display_id, *objs, **kwargs)\u001b[0m\n\u001b[1;32m    318\u001b[0m             \u001b[0mpublish_display_data\u001b[0m\u001b[0;34m(\u001b[0m\u001b[0mdata\u001b[0m\u001b[0;34m=\u001b[0m\u001b[0mobj\u001b[0m\u001b[0;34m,\u001b[0m \u001b[0mmetadata\u001b[0m\u001b[0;34m=\u001b[0m\u001b[0mmetadata\u001b[0m\u001b[0;34m,\u001b[0m \u001b[0;34m**\u001b[0m\u001b[0mkwargs\u001b[0m\u001b[0;34m)\u001b[0m\u001b[0;34m\u001b[0m\u001b[0;34m\u001b[0m\u001b[0m\n\u001b[1;32m    319\u001b[0m         \u001b[0;32melse\u001b[0m\u001b[0;34m:\u001b[0m\u001b[0;34m\u001b[0m\u001b[0;34m\u001b[0m\u001b[0m\n\u001b[0;32m--> 320\u001b[0;31m             \u001b[0mformat_dict\u001b[0m\u001b[0;34m,\u001b[0m \u001b[0mmd_dict\u001b[0m \u001b[0;34m=\u001b[0m \u001b[0mformat\u001b[0m\u001b[0;34m(\u001b[0m\u001b[0mobj\u001b[0m\u001b[0;34m,\u001b[0m \u001b[0minclude\u001b[0m\u001b[0;34m=\u001b[0m\u001b[0minclude\u001b[0m\u001b[0;34m,\u001b[0m \u001b[0mexclude\u001b[0m\u001b[0;34m=\u001b[0m\u001b[0mexclude\u001b[0m\u001b[0;34m)\u001b[0m\u001b[0;34m\u001b[0m\u001b[0;34m\u001b[0m\u001b[0m\n\u001b[0m\u001b[1;32m    321\u001b[0m             \u001b[0;32mif\u001b[0m \u001b[0;32mnot\u001b[0m \u001b[0mformat_dict\u001b[0m\u001b[0;34m:\u001b[0m\u001b[0;34m\u001b[0m\u001b[0;34m\u001b[0m\u001b[0m\n\u001b[1;32m    322\u001b[0m                 \u001b[0;31m# nothing to display (e.g. _ipython_display_ took over)\u001b[0m\u001b[0;34m\u001b[0m\u001b[0;34m\u001b[0m\u001b[0m\n",
            "\u001b[0;32m/usr/local/lib/python3.10/dist-packages/IPython/core/formatters.py\u001b[0m in \u001b[0;36mformat\u001b[0;34m(self, obj, include, exclude)\u001b[0m\n\u001b[1;32m    178\u001b[0m             \u001b[0mmd\u001b[0m \u001b[0;34m=\u001b[0m \u001b[0;32mNone\u001b[0m\u001b[0;34m\u001b[0m\u001b[0;34m\u001b[0m\u001b[0m\n\u001b[1;32m    179\u001b[0m             \u001b[0;32mtry\u001b[0m\u001b[0;34m:\u001b[0m\u001b[0;34m\u001b[0m\u001b[0;34m\u001b[0m\u001b[0m\n\u001b[0;32m--> 180\u001b[0;31m                 \u001b[0mdata\u001b[0m \u001b[0;34m=\u001b[0m \u001b[0mformatter\u001b[0m\u001b[0;34m(\u001b[0m\u001b[0mobj\u001b[0m\u001b[0;34m)\u001b[0m\u001b[0;34m\u001b[0m\u001b[0;34m\u001b[0m\u001b[0m\n\u001b[0m\u001b[1;32m    181\u001b[0m             \u001b[0;32mexcept\u001b[0m\u001b[0;34m:\u001b[0m\u001b[0;34m\u001b[0m\u001b[0;34m\u001b[0m\u001b[0m\n\u001b[1;32m    182\u001b[0m                 \u001b[0;31m# FIXME: log the exception\u001b[0m\u001b[0;34m\u001b[0m\u001b[0;34m\u001b[0m\u001b[0m\n",
            "\u001b[0;32m<decorator-gen-2>\u001b[0m in \u001b[0;36m__call__\u001b[0;34m(self, obj)\u001b[0m\n",
            "\u001b[0;32m/usr/local/lib/python3.10/dist-packages/IPython/core/formatters.py\u001b[0m in \u001b[0;36mcatch_format_error\u001b[0;34m(method, self, *args, **kwargs)\u001b[0m\n\u001b[1;32m    222\u001b[0m     \u001b[0;34m\"\"\"show traceback on failed format call\"\"\"\u001b[0m\u001b[0;34m\u001b[0m\u001b[0;34m\u001b[0m\u001b[0m\n\u001b[1;32m    223\u001b[0m     \u001b[0;32mtry\u001b[0m\u001b[0;34m:\u001b[0m\u001b[0;34m\u001b[0m\u001b[0;34m\u001b[0m\u001b[0m\n\u001b[0;32m--> 224\u001b[0;31m         \u001b[0mr\u001b[0m \u001b[0;34m=\u001b[0m \u001b[0mmethod\u001b[0m\u001b[0;34m(\u001b[0m\u001b[0mself\u001b[0m\u001b[0;34m,\u001b[0m \u001b[0;34m*\u001b[0m\u001b[0margs\u001b[0m\u001b[0;34m,\u001b[0m \u001b[0;34m**\u001b[0m\u001b[0mkwargs\u001b[0m\u001b[0;34m)\u001b[0m\u001b[0;34m\u001b[0m\u001b[0;34m\u001b[0m\u001b[0m\n\u001b[0m\u001b[1;32m    225\u001b[0m     \u001b[0;32mexcept\u001b[0m \u001b[0mNotImplementedError\u001b[0m\u001b[0;34m:\u001b[0m\u001b[0;34m\u001b[0m\u001b[0;34m\u001b[0m\u001b[0m\n\u001b[1;32m    226\u001b[0m         \u001b[0;31m# don't warn on NotImplementedErrors\u001b[0m\u001b[0;34m\u001b[0m\u001b[0;34m\u001b[0m\u001b[0m\n",
            "\u001b[0;32m/usr/local/lib/python3.10/dist-packages/IPython/core/formatters.py\u001b[0m in \u001b[0;36m__call__\u001b[0;34m(self, obj)\u001b[0m\n\u001b[1;32m    339\u001b[0m                 \u001b[0;32mpass\u001b[0m\u001b[0;34m\u001b[0m\u001b[0;34m\u001b[0m\u001b[0m\n\u001b[1;32m    340\u001b[0m             \u001b[0;32melse\u001b[0m\u001b[0;34m:\u001b[0m\u001b[0;34m\u001b[0m\u001b[0;34m\u001b[0m\u001b[0m\n\u001b[0;32m--> 341\u001b[0;31m                 \u001b[0;32mreturn\u001b[0m \u001b[0mprinter\u001b[0m\u001b[0;34m(\u001b[0m\u001b[0mobj\u001b[0m\u001b[0;34m)\u001b[0m\u001b[0;34m\u001b[0m\u001b[0;34m\u001b[0m\u001b[0m\n\u001b[0m\u001b[1;32m    342\u001b[0m             \u001b[0;31m# Finally look for special method names\u001b[0m\u001b[0;34m\u001b[0m\u001b[0;34m\u001b[0m\u001b[0m\n\u001b[1;32m    343\u001b[0m             \u001b[0mmethod\u001b[0m \u001b[0;34m=\u001b[0m \u001b[0mget_real_method\u001b[0m\u001b[0;34m(\u001b[0m\u001b[0mobj\u001b[0m\u001b[0;34m,\u001b[0m \u001b[0mself\u001b[0m\u001b[0;34m.\u001b[0m\u001b[0mprint_method\u001b[0m\u001b[0;34m)\u001b[0m\u001b[0;34m\u001b[0m\u001b[0;34m\u001b[0m\u001b[0m\n",
            "\u001b[0;32m/usr/local/lib/python3.10/dist-packages/IPython/core/pylabtools.py\u001b[0m in \u001b[0;36mprint_figure\u001b[0;34m(fig, fmt, bbox_inches, base64, **kwargs)\u001b[0m\n\u001b[1;32m    149\u001b[0m         \u001b[0mFigureCanvasBase\u001b[0m\u001b[0;34m(\u001b[0m\u001b[0mfig\u001b[0m\u001b[0;34m)\u001b[0m\u001b[0;34m\u001b[0m\u001b[0;34m\u001b[0m\u001b[0m\n\u001b[1;32m    150\u001b[0m \u001b[0;34m\u001b[0m\u001b[0m\n\u001b[0;32m--> 151\u001b[0;31m     \u001b[0mfig\u001b[0m\u001b[0;34m.\u001b[0m\u001b[0mcanvas\u001b[0m\u001b[0;34m.\u001b[0m\u001b[0mprint_figure\u001b[0m\u001b[0;34m(\u001b[0m\u001b[0mbytes_io\u001b[0m\u001b[0;34m,\u001b[0m \u001b[0;34m**\u001b[0m\u001b[0mkw\u001b[0m\u001b[0;34m)\u001b[0m\u001b[0;34m\u001b[0m\u001b[0;34m\u001b[0m\u001b[0m\n\u001b[0m\u001b[1;32m    152\u001b[0m     \u001b[0mdata\u001b[0m \u001b[0;34m=\u001b[0m \u001b[0mbytes_io\u001b[0m\u001b[0;34m.\u001b[0m\u001b[0mgetvalue\u001b[0m\u001b[0;34m(\u001b[0m\u001b[0;34m)\u001b[0m\u001b[0;34m\u001b[0m\u001b[0;34m\u001b[0m\u001b[0m\n\u001b[1;32m    153\u001b[0m     \u001b[0;32mif\u001b[0m \u001b[0mfmt\u001b[0m \u001b[0;34m==\u001b[0m \u001b[0;34m'svg'\u001b[0m\u001b[0;34m:\u001b[0m\u001b[0;34m\u001b[0m\u001b[0;34m\u001b[0m\u001b[0m\n",
            "\u001b[0;32m/usr/local/lib/python3.10/dist-packages/matplotlib/backend_bases.py\u001b[0m in \u001b[0;36mprint_figure\u001b[0;34m(self, filename, dpi, facecolor, edgecolor, orientation, format, bbox_inches, pad_inches, bbox_extra_artists, backend, **kwargs)\u001b[0m\n\u001b[1;32m   2364\u001b[0m                 \u001b[0;31m# force the figure dpi to 72), so we need to set it again here.\u001b[0m\u001b[0;34m\u001b[0m\u001b[0;34m\u001b[0m\u001b[0m\n\u001b[1;32m   2365\u001b[0m                 \u001b[0;32mwith\u001b[0m \u001b[0mcbook\u001b[0m\u001b[0;34m.\u001b[0m\u001b[0m_setattr_cm\u001b[0m\u001b[0;34m(\u001b[0m\u001b[0mself\u001b[0m\u001b[0;34m.\u001b[0m\u001b[0mfigure\u001b[0m\u001b[0;34m,\u001b[0m \u001b[0mdpi\u001b[0m\u001b[0;34m=\u001b[0m\u001b[0mdpi\u001b[0m\u001b[0;34m)\u001b[0m\u001b[0;34m:\u001b[0m\u001b[0;34m\u001b[0m\u001b[0;34m\u001b[0m\u001b[0m\n\u001b[0;32m-> 2366\u001b[0;31m                     result = print_method(\n\u001b[0m\u001b[1;32m   2367\u001b[0m                         \u001b[0mfilename\u001b[0m\u001b[0;34m,\u001b[0m\u001b[0;34m\u001b[0m\u001b[0;34m\u001b[0m\u001b[0m\n\u001b[1;32m   2368\u001b[0m                         \u001b[0mfacecolor\u001b[0m\u001b[0;34m=\u001b[0m\u001b[0mfacecolor\u001b[0m\u001b[0;34m,\u001b[0m\u001b[0;34m\u001b[0m\u001b[0;34m\u001b[0m\u001b[0m\n",
            "\u001b[0;32m/usr/local/lib/python3.10/dist-packages/matplotlib/backend_bases.py\u001b[0m in \u001b[0;36m<lambda>\u001b[0;34m(*args, **kwargs)\u001b[0m\n\u001b[1;32m   2230\u001b[0m                 \"bbox_inches_restore\"}\n\u001b[1;32m   2231\u001b[0m             \u001b[0mskip\u001b[0m \u001b[0;34m=\u001b[0m \u001b[0moptional_kws\u001b[0m \u001b[0;34m-\u001b[0m \u001b[0;34m{\u001b[0m\u001b[0;34m*\u001b[0m\u001b[0minspect\u001b[0m\u001b[0;34m.\u001b[0m\u001b[0msignature\u001b[0m\u001b[0;34m(\u001b[0m\u001b[0mmeth\u001b[0m\u001b[0;34m)\u001b[0m\u001b[0;34m.\u001b[0m\u001b[0mparameters\u001b[0m\u001b[0;34m}\u001b[0m\u001b[0;34m\u001b[0m\u001b[0;34m\u001b[0m\u001b[0m\n\u001b[0;32m-> 2232\u001b[0;31m             print_method = functools.wraps(meth)(lambda *args, **kwargs: meth(\n\u001b[0m\u001b[1;32m   2233\u001b[0m                 *args, **{k: v for k, v in kwargs.items() if k not in skip}))\n\u001b[1;32m   2234\u001b[0m         \u001b[0;32melse\u001b[0m\u001b[0;34m:\u001b[0m  \u001b[0;31m# Let third-parties do as they see fit.\u001b[0m\u001b[0;34m\u001b[0m\u001b[0;34m\u001b[0m\u001b[0m\n",
            "\u001b[0;32m/usr/local/lib/python3.10/dist-packages/matplotlib/backends/backend_agg.py\u001b[0m in \u001b[0;36mprint_png\u001b[0;34m(self, filename_or_obj, metadata, pil_kwargs)\u001b[0m\n\u001b[1;32m    507\u001b[0m             \u001b[0;34m*\u001b[0m\u001b[0mmetadata\u001b[0m\u001b[0;34m*\u001b[0m\u001b[0;34m,\u001b[0m \u001b[0mincluding\u001b[0m \u001b[0mthe\u001b[0m \u001b[0mdefault\u001b[0m \u001b[0;34m'Software'\u001b[0m \u001b[0mkey\u001b[0m\u001b[0;34m.\u001b[0m\u001b[0;34m\u001b[0m\u001b[0;34m\u001b[0m\u001b[0m\n\u001b[1;32m    508\u001b[0m         \"\"\"\n\u001b[0;32m--> 509\u001b[0;31m         \u001b[0mself\u001b[0m\u001b[0;34m.\u001b[0m\u001b[0m_print_pil\u001b[0m\u001b[0;34m(\u001b[0m\u001b[0mfilename_or_obj\u001b[0m\u001b[0;34m,\u001b[0m \u001b[0;34m\"png\"\u001b[0m\u001b[0;34m,\u001b[0m \u001b[0mpil_kwargs\u001b[0m\u001b[0;34m,\u001b[0m \u001b[0mmetadata\u001b[0m\u001b[0;34m)\u001b[0m\u001b[0;34m\u001b[0m\u001b[0;34m\u001b[0m\u001b[0m\n\u001b[0m\u001b[1;32m    510\u001b[0m \u001b[0;34m\u001b[0m\u001b[0m\n\u001b[1;32m    511\u001b[0m     \u001b[0;32mdef\u001b[0m \u001b[0mprint_to_buffer\u001b[0m\u001b[0;34m(\u001b[0m\u001b[0mself\u001b[0m\u001b[0;34m)\u001b[0m\u001b[0;34m:\u001b[0m\u001b[0;34m\u001b[0m\u001b[0;34m\u001b[0m\u001b[0m\n",
            "\u001b[0;32m/usr/local/lib/python3.10/dist-packages/matplotlib/backends/backend_agg.py\u001b[0m in \u001b[0;36m_print_pil\u001b[0;34m(self, filename_or_obj, fmt, pil_kwargs, metadata)\u001b[0m\n\u001b[1;32m    455\u001b[0m         *pil_kwargs* and *metadata* are forwarded).\n\u001b[1;32m    456\u001b[0m         \"\"\"\n\u001b[0;32m--> 457\u001b[0;31m         \u001b[0mFigureCanvasAgg\u001b[0m\u001b[0;34m.\u001b[0m\u001b[0mdraw\u001b[0m\u001b[0;34m(\u001b[0m\u001b[0mself\u001b[0m\u001b[0;34m)\u001b[0m\u001b[0;34m\u001b[0m\u001b[0;34m\u001b[0m\u001b[0m\n\u001b[0m\u001b[1;32m    458\u001b[0m         mpl.image.imsave(\n\u001b[1;32m    459\u001b[0m             \u001b[0mfilename_or_obj\u001b[0m\u001b[0;34m,\u001b[0m \u001b[0mself\u001b[0m\u001b[0;34m.\u001b[0m\u001b[0mbuffer_rgba\u001b[0m\u001b[0;34m(\u001b[0m\u001b[0;34m)\u001b[0m\u001b[0;34m,\u001b[0m \u001b[0mformat\u001b[0m\u001b[0;34m=\u001b[0m\u001b[0mfmt\u001b[0m\u001b[0;34m,\u001b[0m \u001b[0morigin\u001b[0m\u001b[0;34m=\u001b[0m\u001b[0;34m\"upper\"\u001b[0m\u001b[0;34m,\u001b[0m\u001b[0;34m\u001b[0m\u001b[0;34m\u001b[0m\u001b[0m\n",
            "\u001b[0;32m/usr/local/lib/python3.10/dist-packages/matplotlib/backends/backend_agg.py\u001b[0m in \u001b[0;36mdraw\u001b[0;34m(self)\u001b[0m\n\u001b[1;32m    398\u001b[0m              (self.toolbar._wait_cursor_for_draw_cm() if self.toolbar\n\u001b[1;32m    399\u001b[0m               else nullcontext()):\n\u001b[0;32m--> 400\u001b[0;31m             \u001b[0mself\u001b[0m\u001b[0;34m.\u001b[0m\u001b[0mfigure\u001b[0m\u001b[0;34m.\u001b[0m\u001b[0mdraw\u001b[0m\u001b[0;34m(\u001b[0m\u001b[0mself\u001b[0m\u001b[0;34m.\u001b[0m\u001b[0mrenderer\u001b[0m\u001b[0;34m)\u001b[0m\u001b[0;34m\u001b[0m\u001b[0;34m\u001b[0m\u001b[0m\n\u001b[0m\u001b[1;32m    401\u001b[0m             \u001b[0;31m# A GUI class may be need to update a window using this draw, so\u001b[0m\u001b[0;34m\u001b[0m\u001b[0;34m\u001b[0m\u001b[0m\n\u001b[1;32m    402\u001b[0m             \u001b[0;31m# don't forget to call the superclass.\u001b[0m\u001b[0;34m\u001b[0m\u001b[0;34m\u001b[0m\u001b[0m\n",
            "\u001b[0;32m/usr/local/lib/python3.10/dist-packages/matplotlib/artist.py\u001b[0m in \u001b[0;36mdraw_wrapper\u001b[0;34m(artist, renderer, *args, **kwargs)\u001b[0m\n\u001b[1;32m     93\u001b[0m     \u001b[0;34m@\u001b[0m\u001b[0mwraps\u001b[0m\u001b[0;34m(\u001b[0m\u001b[0mdraw\u001b[0m\u001b[0;34m)\u001b[0m\u001b[0;34m\u001b[0m\u001b[0;34m\u001b[0m\u001b[0m\n\u001b[1;32m     94\u001b[0m     \u001b[0;32mdef\u001b[0m \u001b[0mdraw_wrapper\u001b[0m\u001b[0;34m(\u001b[0m\u001b[0martist\u001b[0m\u001b[0;34m,\u001b[0m \u001b[0mrenderer\u001b[0m\u001b[0;34m,\u001b[0m \u001b[0;34m*\u001b[0m\u001b[0margs\u001b[0m\u001b[0;34m,\u001b[0m \u001b[0;34m**\u001b[0m\u001b[0mkwargs\u001b[0m\u001b[0;34m)\u001b[0m\u001b[0;34m:\u001b[0m\u001b[0;34m\u001b[0m\u001b[0;34m\u001b[0m\u001b[0m\n\u001b[0;32m---> 95\u001b[0;31m         \u001b[0mresult\u001b[0m \u001b[0;34m=\u001b[0m \u001b[0mdraw\u001b[0m\u001b[0;34m(\u001b[0m\u001b[0martist\u001b[0m\u001b[0;34m,\u001b[0m \u001b[0mrenderer\u001b[0m\u001b[0;34m,\u001b[0m \u001b[0;34m*\u001b[0m\u001b[0margs\u001b[0m\u001b[0;34m,\u001b[0m \u001b[0;34m**\u001b[0m\u001b[0mkwargs\u001b[0m\u001b[0;34m)\u001b[0m\u001b[0;34m\u001b[0m\u001b[0;34m\u001b[0m\u001b[0m\n\u001b[0m\u001b[1;32m     96\u001b[0m         \u001b[0;32mif\u001b[0m \u001b[0mrenderer\u001b[0m\u001b[0;34m.\u001b[0m\u001b[0m_rasterizing\u001b[0m\u001b[0;34m:\u001b[0m\u001b[0;34m\u001b[0m\u001b[0;34m\u001b[0m\u001b[0m\n\u001b[1;32m     97\u001b[0m             \u001b[0mrenderer\u001b[0m\u001b[0;34m.\u001b[0m\u001b[0mstop_rasterizing\u001b[0m\u001b[0;34m(\u001b[0m\u001b[0;34m)\u001b[0m\u001b[0;34m\u001b[0m\u001b[0;34m\u001b[0m\u001b[0m\n",
            "\u001b[0;32m/usr/local/lib/python3.10/dist-packages/matplotlib/artist.py\u001b[0m in \u001b[0;36mdraw_wrapper\u001b[0;34m(artist, renderer)\u001b[0m\n\u001b[1;32m     70\u001b[0m                 \u001b[0mrenderer\u001b[0m\u001b[0;34m.\u001b[0m\u001b[0mstart_filter\u001b[0m\u001b[0;34m(\u001b[0m\u001b[0;34m)\u001b[0m\u001b[0;34m\u001b[0m\u001b[0;34m\u001b[0m\u001b[0m\n\u001b[1;32m     71\u001b[0m \u001b[0;34m\u001b[0m\u001b[0m\n\u001b[0;32m---> 72\u001b[0;31m             \u001b[0;32mreturn\u001b[0m \u001b[0mdraw\u001b[0m\u001b[0;34m(\u001b[0m\u001b[0martist\u001b[0m\u001b[0;34m,\u001b[0m \u001b[0mrenderer\u001b[0m\u001b[0;34m)\u001b[0m\u001b[0;34m\u001b[0m\u001b[0;34m\u001b[0m\u001b[0m\n\u001b[0m\u001b[1;32m     73\u001b[0m         \u001b[0;32mfinally\u001b[0m\u001b[0;34m:\u001b[0m\u001b[0;34m\u001b[0m\u001b[0;34m\u001b[0m\u001b[0m\n\u001b[1;32m     74\u001b[0m             \u001b[0;32mif\u001b[0m \u001b[0martist\u001b[0m\u001b[0;34m.\u001b[0m\u001b[0mget_agg_filter\u001b[0m\u001b[0;34m(\u001b[0m\u001b[0;34m)\u001b[0m \u001b[0;32mis\u001b[0m \u001b[0;32mnot\u001b[0m \u001b[0;32mNone\u001b[0m\u001b[0;34m:\u001b[0m\u001b[0;34m\u001b[0m\u001b[0;34m\u001b[0m\u001b[0m\n",
            "\u001b[0;32m/usr/local/lib/python3.10/dist-packages/matplotlib/figure.py\u001b[0m in \u001b[0;36mdraw\u001b[0;34m(self, renderer)\u001b[0m\n\u001b[1;32m   3138\u001b[0m \u001b[0;34m\u001b[0m\u001b[0m\n\u001b[1;32m   3139\u001b[0m             \u001b[0mself\u001b[0m\u001b[0;34m.\u001b[0m\u001b[0mpatch\u001b[0m\u001b[0;34m.\u001b[0m\u001b[0mdraw\u001b[0m\u001b[0;34m(\u001b[0m\u001b[0mrenderer\u001b[0m\u001b[0;34m)\u001b[0m\u001b[0;34m\u001b[0m\u001b[0;34m\u001b[0m\u001b[0m\n\u001b[0;32m-> 3140\u001b[0;31m             mimage._draw_list_compositing_images(\n\u001b[0m\u001b[1;32m   3141\u001b[0m                 renderer, self, artists, self.suppressComposite)\n\u001b[1;32m   3142\u001b[0m \u001b[0;34m\u001b[0m\u001b[0m\n",
            "\u001b[0;32m/usr/local/lib/python3.10/dist-packages/matplotlib/image.py\u001b[0m in \u001b[0;36m_draw_list_compositing_images\u001b[0;34m(renderer, parent, artists, suppress_composite)\u001b[0m\n\u001b[1;32m    129\u001b[0m     \u001b[0;32mif\u001b[0m \u001b[0mnot_composite\u001b[0m \u001b[0;32mor\u001b[0m \u001b[0;32mnot\u001b[0m \u001b[0mhas_images\u001b[0m\u001b[0;34m:\u001b[0m\u001b[0;34m\u001b[0m\u001b[0;34m\u001b[0m\u001b[0m\n\u001b[1;32m    130\u001b[0m         \u001b[0;32mfor\u001b[0m \u001b[0ma\u001b[0m \u001b[0;32min\u001b[0m \u001b[0martists\u001b[0m\u001b[0;34m:\u001b[0m\u001b[0;34m\u001b[0m\u001b[0;34m\u001b[0m\u001b[0m\n\u001b[0;32m--> 131\u001b[0;31m             \u001b[0ma\u001b[0m\u001b[0;34m.\u001b[0m\u001b[0mdraw\u001b[0m\u001b[0;34m(\u001b[0m\u001b[0mrenderer\u001b[0m\u001b[0;34m)\u001b[0m\u001b[0;34m\u001b[0m\u001b[0;34m\u001b[0m\u001b[0m\n\u001b[0m\u001b[1;32m    132\u001b[0m     \u001b[0;32melse\u001b[0m\u001b[0;34m:\u001b[0m\u001b[0;34m\u001b[0m\u001b[0;34m\u001b[0m\u001b[0m\n\u001b[1;32m    133\u001b[0m         \u001b[0;31m# Composite any adjacent images together\u001b[0m\u001b[0;34m\u001b[0m\u001b[0;34m\u001b[0m\u001b[0m\n",
            "\u001b[0;32m/usr/local/lib/python3.10/dist-packages/matplotlib/artist.py\u001b[0m in \u001b[0;36mdraw_wrapper\u001b[0;34m(artist, renderer)\u001b[0m\n\u001b[1;32m     70\u001b[0m                 \u001b[0mrenderer\u001b[0m\u001b[0;34m.\u001b[0m\u001b[0mstart_filter\u001b[0m\u001b[0;34m(\u001b[0m\u001b[0;34m)\u001b[0m\u001b[0;34m\u001b[0m\u001b[0;34m\u001b[0m\u001b[0m\n\u001b[1;32m     71\u001b[0m \u001b[0;34m\u001b[0m\u001b[0m\n\u001b[0;32m---> 72\u001b[0;31m             \u001b[0;32mreturn\u001b[0m \u001b[0mdraw\u001b[0m\u001b[0;34m(\u001b[0m\u001b[0martist\u001b[0m\u001b[0;34m,\u001b[0m \u001b[0mrenderer\u001b[0m\u001b[0;34m)\u001b[0m\u001b[0;34m\u001b[0m\u001b[0;34m\u001b[0m\u001b[0m\n\u001b[0m\u001b[1;32m     73\u001b[0m         \u001b[0;32mfinally\u001b[0m\u001b[0;34m:\u001b[0m\u001b[0;34m\u001b[0m\u001b[0;34m\u001b[0m\u001b[0m\n\u001b[1;32m     74\u001b[0m             \u001b[0;32mif\u001b[0m \u001b[0martist\u001b[0m\u001b[0;34m.\u001b[0m\u001b[0mget_agg_filter\u001b[0m\u001b[0;34m(\u001b[0m\u001b[0;34m)\u001b[0m \u001b[0;32mis\u001b[0m \u001b[0;32mnot\u001b[0m \u001b[0;32mNone\u001b[0m\u001b[0;34m:\u001b[0m\u001b[0;34m\u001b[0m\u001b[0;34m\u001b[0m\u001b[0m\n",
            "\u001b[0;32m/usr/local/lib/python3.10/dist-packages/matplotlib/axes/_base.py\u001b[0m in \u001b[0;36mdraw\u001b[0;34m(self, renderer)\u001b[0m\n\u001b[1;32m   3062\u001b[0m             \u001b[0m_draw_rasterized\u001b[0m\u001b[0;34m(\u001b[0m\u001b[0mself\u001b[0m\u001b[0;34m.\u001b[0m\u001b[0mfigure\u001b[0m\u001b[0;34m,\u001b[0m \u001b[0martists_rasterized\u001b[0m\u001b[0;34m,\u001b[0m \u001b[0mrenderer\u001b[0m\u001b[0;34m)\u001b[0m\u001b[0;34m\u001b[0m\u001b[0;34m\u001b[0m\u001b[0m\n\u001b[1;32m   3063\u001b[0m \u001b[0;34m\u001b[0m\u001b[0m\n\u001b[0;32m-> 3064\u001b[0;31m         mimage._draw_list_compositing_images(\n\u001b[0m\u001b[1;32m   3065\u001b[0m             renderer, self, artists, self.figure.suppressComposite)\n\u001b[1;32m   3066\u001b[0m \u001b[0;34m\u001b[0m\u001b[0m\n",
            "\u001b[0;32m/usr/local/lib/python3.10/dist-packages/matplotlib/image.py\u001b[0m in \u001b[0;36m_draw_list_compositing_images\u001b[0;34m(renderer, parent, artists, suppress_composite)\u001b[0m\n\u001b[1;32m    129\u001b[0m     \u001b[0;32mif\u001b[0m \u001b[0mnot_composite\u001b[0m \u001b[0;32mor\u001b[0m \u001b[0;32mnot\u001b[0m \u001b[0mhas_images\u001b[0m\u001b[0;34m:\u001b[0m\u001b[0;34m\u001b[0m\u001b[0;34m\u001b[0m\u001b[0m\n\u001b[1;32m    130\u001b[0m         \u001b[0;32mfor\u001b[0m \u001b[0ma\u001b[0m \u001b[0;32min\u001b[0m \u001b[0martists\u001b[0m\u001b[0;34m:\u001b[0m\u001b[0;34m\u001b[0m\u001b[0;34m\u001b[0m\u001b[0m\n\u001b[0;32m--> 131\u001b[0;31m             \u001b[0ma\u001b[0m\u001b[0;34m.\u001b[0m\u001b[0mdraw\u001b[0m\u001b[0;34m(\u001b[0m\u001b[0mrenderer\u001b[0m\u001b[0;34m)\u001b[0m\u001b[0;34m\u001b[0m\u001b[0;34m\u001b[0m\u001b[0m\n\u001b[0m\u001b[1;32m    132\u001b[0m     \u001b[0;32melse\u001b[0m\u001b[0;34m:\u001b[0m\u001b[0;34m\u001b[0m\u001b[0;34m\u001b[0m\u001b[0m\n\u001b[1;32m    133\u001b[0m         \u001b[0;31m# Composite any adjacent images together\u001b[0m\u001b[0;34m\u001b[0m\u001b[0;34m\u001b[0m\u001b[0m\n",
            "\u001b[0;32m/usr/local/lib/python3.10/dist-packages/matplotlib/artist.py\u001b[0m in \u001b[0;36mdraw_wrapper\u001b[0;34m(artist, renderer)\u001b[0m\n\u001b[1;32m     70\u001b[0m                 \u001b[0mrenderer\u001b[0m\u001b[0;34m.\u001b[0m\u001b[0mstart_filter\u001b[0m\u001b[0;34m(\u001b[0m\u001b[0;34m)\u001b[0m\u001b[0;34m\u001b[0m\u001b[0;34m\u001b[0m\u001b[0m\n\u001b[1;32m     71\u001b[0m \u001b[0;34m\u001b[0m\u001b[0m\n\u001b[0;32m---> 72\u001b[0;31m             \u001b[0;32mreturn\u001b[0m \u001b[0mdraw\u001b[0m\u001b[0;34m(\u001b[0m\u001b[0martist\u001b[0m\u001b[0;34m,\u001b[0m \u001b[0mrenderer\u001b[0m\u001b[0;34m)\u001b[0m\u001b[0;34m\u001b[0m\u001b[0;34m\u001b[0m\u001b[0m\n\u001b[0m\u001b[1;32m     73\u001b[0m         \u001b[0;32mfinally\u001b[0m\u001b[0;34m:\u001b[0m\u001b[0;34m\u001b[0m\u001b[0;34m\u001b[0m\u001b[0m\n\u001b[1;32m     74\u001b[0m             \u001b[0;32mif\u001b[0m \u001b[0martist\u001b[0m\u001b[0;34m.\u001b[0m\u001b[0mget_agg_filter\u001b[0m\u001b[0;34m(\u001b[0m\u001b[0;34m)\u001b[0m \u001b[0;32mis\u001b[0m \u001b[0;32mnot\u001b[0m \u001b[0;32mNone\u001b[0m\u001b[0;34m:\u001b[0m\u001b[0;34m\u001b[0m\u001b[0;34m\u001b[0m\u001b[0m\n",
            "\u001b[0;32m/usr/local/lib/python3.10/dist-packages/matplotlib/lines.py\u001b[0m in \u001b[0;36mdraw\u001b[0;34m(self, renderer)\u001b[0m\n\u001b[1;32m    862\u001b[0m                     \u001b[0;31m# Don't scale for pixels, and don't stroke them\u001b[0m\u001b[0;34m\u001b[0m\u001b[0;34m\u001b[0m\u001b[0m\n\u001b[1;32m    863\u001b[0m                     \u001b[0mmarker_trans\u001b[0m \u001b[0;34m=\u001b[0m \u001b[0mmarker_trans\u001b[0m\u001b[0;34m.\u001b[0m\u001b[0mscale\u001b[0m\u001b[0;34m(\u001b[0m\u001b[0mw\u001b[0m\u001b[0;34m)\u001b[0m\u001b[0;34m\u001b[0m\u001b[0;34m\u001b[0m\u001b[0m\n\u001b[0;32m--> 864\u001b[0;31m                 renderer.draw_markers(gc, marker_path, marker_trans,\n\u001b[0m\u001b[1;32m    865\u001b[0m                                       \u001b[0msubsampled\u001b[0m\u001b[0;34m,\u001b[0m \u001b[0maffine\u001b[0m\u001b[0;34m.\u001b[0m\u001b[0mfrozen\u001b[0m\u001b[0;34m(\u001b[0m\u001b[0;34m)\u001b[0m\u001b[0;34m,\u001b[0m\u001b[0;34m\u001b[0m\u001b[0;34m\u001b[0m\u001b[0m\n\u001b[1;32m    866\u001b[0m                                       fc_rgba)\n",
            "\u001b[0;31mKeyboardInterrupt\u001b[0m: "
          ]
        }
      ]
    },
    {
      "cell_type": "markdown",
      "source": [
        "### Simple RNN Model"
      ],
      "metadata": {
        "id": "Wz11V5XMCgL7"
      }
    },
    {
      "cell_type": "code",
      "source": [
        "## Creating a dataset suitable for RNN input\n",
        "def create_dataset(X, y, time_steps=1):\n",
        "    Xs, ys = [], []\n",
        "    for i in range(len(X) - time_steps):\n",
        "        v = X.iloc[i:(i + time_steps)].values\n",
        "        Xs.append(v)\n",
        "        ys.append(y.iloc[i + time_steps])\n",
        "    return np.array(Xs), np.array(ys)"
      ],
      "metadata": {
        "id": "HnBgxFJTCbYx"
      },
      "execution_count": null,
      "outputs": []
    },
    {
      "cell_type": "code",
      "source": [
        "d1_train.columns"
      ],
      "metadata": {
        "colab": {
          "base_uri": "https://localhost:8080/"
        },
        "id": "84N0UD9mF9hr",
        "outputId": "cb6be64b-bced-432a-b73c-7ca1d6a9ceb1"
      },
      "execution_count": null,
      "outputs": [
        {
          "output_type": "execute_result",
          "data": {
            "text/plain": [
              "Index(['Global_active_power', 'Global_reactive_power', 'Global_intensity',\n",
              "       'Sub_metering_1', 'Sub_metering_2', 'Sub_metering_3'],\n",
              "      dtype='object')"
            ]
          },
          "metadata": {},
          "execution_count": 73
        }
      ]
    },
    {
      "cell_type": "code",
      "source": [
        "## Manual Sequence Creation\n",
        "time_steps = 10 # Use the past 10 time steps to predict the value at the next time step\n",
        "\n",
        "X, y = d1_train[['Global_reactive_power',\n",
        "       'Global_intensity', 'Sub_metering_1', 'Sub_metering_2',\n",
        "       'Sub_metering_3']], d1_train['Global_active_power']\n",
        "\n",
        "X_train, y_train = create_dataset(X, y, time_steps)\n",
        "X_test, y_test = create_dataset(d1_test[['Global_reactive_power',\n",
        "       'Global_intensity', 'Sub_metering_1', 'Sub_metering_2',\n",
        "       'Sub_metering_3']], d1_test['Global_active_power'], time_steps)\n",
        "\n",
        "# Check the shape of the datasets\n",
        "print(f\"X_train shape: {X_train.shape}, y_train shape: {y_train.shape}\")\n",
        "print(f\"X_test shape: {X_test.shape}, y_test shape: {y_test.shape}\")"
      ],
      "metadata": {
        "colab": {
          "base_uri": "https://localhost:8080/"
        },
        "id": "do1CqDsUFMZ6",
        "outputId": "d30f7f2d-c387-4623-c383-c73938461f73"
      },
      "execution_count": null,
      "outputs": [
        {
          "output_type": "stream",
          "name": "stdout",
          "text": [
            "X_train shape: (1660197, 10, 5), y_train shape: (1660197,)\n",
            "X_test shape: (415042, 10, 5), y_test shape: (415042,)\n"
          ]
        }
      ]
    },
    {
      "cell_type": "code",
      "source": [
        "# ## Automated Sequence Creation\n",
        "# from keras.preprocessing.sequence import TimeseriesGenerator\n",
        "\n",
        "# # Define parameters\n",
        "# time_steps = 10  # Use the past 10 time steps to predict the value at the next time step\n",
        "# batch_size = 32  # Example batch size\n",
        "\n",
        "# # Prepare the training data\n",
        "# train_data = d1_train[['Global_reactive_power', 'Global_intensity', 'Sub_metering_1', 'Sub_metering_2', 'Sub_metering_3', 'Global_active_power']].values\n",
        "\n",
        "# # Separate features and target for training\n",
        "# X_train, y_train = train_data[:, :-1], train_data[:, -1]\n",
        "\n",
        "# # Create TimeseriesGenerator for training\n",
        "# train_generator = TimeseriesGenerator(X_train, y_train, length=time_steps, batch_size=batch_size)\n",
        "\n",
        "# # Prepare the test data\n",
        "# test_data = d1_test[['Global_reactive_power', 'Global_intensity', 'Sub_metering_1', 'Sub_metering_2', 'Sub_metering_3', 'Global_active_power']].values\n",
        "\n",
        "# # Separate features and target for testing\n",
        "# X_test, y_test = test_data[:, :-1], test_data[:, -1]\n",
        "\n",
        "# # Create TimeseriesGenerator for testing\n",
        "# test_generator = TimeseriesGenerator(X_test, y_test, length=time_steps, batch_size=batch_size)\n",
        "\n",
        "# # Check the shape of the first batch in the generators\n",
        "# X_train_batch, y_train_batch = train_generator[0]\n",
        "# X_test_batch, y_test_batch = test_generator[0]\n",
        "\n",
        "# print(f\"X_train batch shape: {X_train_batch.shape}, y_train batch shape: {y_train_batch.shape}\")\n",
        "# print(f\"X_test batch shape: {X_test_batch.shape}, y_test batch shape: {y_test_batch.shape}\")\n"
      ],
      "metadata": {
        "id": "1jzNSaKPIN10"
      },
      "execution_count": null,
      "outputs": []
    },
    {
      "cell_type": "code",
      "source": [
        "from tensorflow.keras.models import Sequential\n",
        "from tensorflow.keras.layers import SimpleRNN, Dense\n",
        "from tensorflow.keras.callbacks import EarlyStopping\n",
        "from sklearn.preprocessing import RobustScaler, MinMaxScaler\n",
        "import matplotlib.pyplot as plt\n",
        "\n",
        "# Build the RNN model\n",
        "rnn_model = Sequential()\n",
        "rnn_model.add(SimpleRNN(100, activation='tanh', input_shape=(time_steps, X_train.shape[2])))\n",
        "rnn_model.add(Dense(1))\n",
        "rnn_model.compile(optimizer='adam', loss='mse')\n",
        "\n",
        "# Define early stopping callback\n",
        "early_stopping = EarlyStopping(monitor='val_loss', patience=10, restore_best_weights=True)\n",
        "\n",
        "# Train the model with early stopping\n",
        "history = rnn_model.fit(X_train, y_train, epochs=10, validation_data=(X_test, y_test), batch_size=32, callbacks=[early_stopping])\n",
        "\n",
        "# Evaluate the model\n",
        "loss = rnn_model.evaluate(X_test, y_test)\n",
        "print(f'Validation Loss: {loss}')"
      ],
      "metadata": {
        "collapsed": true,
        "colab": {
          "base_uri": "https://localhost:8080/",
          "height": 449
        },
        "id": "LAIT44FWHBVG",
        "outputId": "36ab184c-fda3-4ef5-f875-c974ea01944e"
      },
      "execution_count": null,
      "outputs": [
        {
          "output_type": "stream",
          "name": "stdout",
          "text": [
            "Epoch 1/30\n",
            " 1000/51882 [..............................] - ETA: 8:21 - loss: 0.0013"
          ]
        },
        {
          "output_type": "error",
          "ename": "KeyboardInterrupt",
          "evalue": "",
          "traceback": [
            "\u001b[0;31m---------------------------------------------------------------------------\u001b[0m",
            "\u001b[0;31mKeyboardInterrupt\u001b[0m                         Traceback (most recent call last)",
            "\u001b[0;32m<ipython-input-75-da82b0350d74>\u001b[0m in \u001b[0;36m<cell line: 17>\u001b[0;34m()\u001b[0m\n\u001b[1;32m     15\u001b[0m \u001b[0;34m\u001b[0m\u001b[0m\n\u001b[1;32m     16\u001b[0m \u001b[0;31m# Train the model with early stopping\u001b[0m\u001b[0;34m\u001b[0m\u001b[0;34m\u001b[0m\u001b[0m\n\u001b[0;32m---> 17\u001b[0;31m \u001b[0mhistory\u001b[0m \u001b[0;34m=\u001b[0m \u001b[0mrnn_model\u001b[0m\u001b[0;34m.\u001b[0m\u001b[0mfit\u001b[0m\u001b[0;34m(\u001b[0m\u001b[0mX_train\u001b[0m\u001b[0;34m,\u001b[0m \u001b[0my_train\u001b[0m\u001b[0;34m,\u001b[0m \u001b[0mepochs\u001b[0m\u001b[0;34m=\u001b[0m\u001b[0;36m30\u001b[0m\u001b[0;34m,\u001b[0m \u001b[0mvalidation_data\u001b[0m\u001b[0;34m=\u001b[0m\u001b[0;34m(\u001b[0m\u001b[0mX_test\u001b[0m\u001b[0;34m,\u001b[0m \u001b[0my_test\u001b[0m\u001b[0;34m)\u001b[0m\u001b[0;34m,\u001b[0m \u001b[0mbatch_size\u001b[0m\u001b[0;34m=\u001b[0m\u001b[0;36m32\u001b[0m\u001b[0;34m,\u001b[0m \u001b[0mcallbacks\u001b[0m\u001b[0;34m=\u001b[0m\u001b[0;34m[\u001b[0m\u001b[0mearly_stopping\u001b[0m\u001b[0;34m]\u001b[0m\u001b[0;34m)\u001b[0m\u001b[0;34m\u001b[0m\u001b[0;34m\u001b[0m\u001b[0m\n\u001b[0m\u001b[1;32m     18\u001b[0m \u001b[0;34m\u001b[0m\u001b[0m\n\u001b[1;32m     19\u001b[0m \u001b[0;31m# Evaluate the model\u001b[0m\u001b[0;34m\u001b[0m\u001b[0;34m\u001b[0m\u001b[0m\n",
            "\u001b[0;32m/usr/local/lib/python3.10/dist-packages/keras/src/utils/traceback_utils.py\u001b[0m in \u001b[0;36merror_handler\u001b[0;34m(*args, **kwargs)\u001b[0m\n\u001b[1;32m     63\u001b[0m         \u001b[0mfiltered_tb\u001b[0m \u001b[0;34m=\u001b[0m \u001b[0;32mNone\u001b[0m\u001b[0;34m\u001b[0m\u001b[0;34m\u001b[0m\u001b[0m\n\u001b[1;32m     64\u001b[0m         \u001b[0;32mtry\u001b[0m\u001b[0;34m:\u001b[0m\u001b[0;34m\u001b[0m\u001b[0;34m\u001b[0m\u001b[0m\n\u001b[0;32m---> 65\u001b[0;31m             \u001b[0;32mreturn\u001b[0m \u001b[0mfn\u001b[0m\u001b[0;34m(\u001b[0m\u001b[0;34m*\u001b[0m\u001b[0margs\u001b[0m\u001b[0;34m,\u001b[0m \u001b[0;34m**\u001b[0m\u001b[0mkwargs\u001b[0m\u001b[0;34m)\u001b[0m\u001b[0;34m\u001b[0m\u001b[0;34m\u001b[0m\u001b[0m\n\u001b[0m\u001b[1;32m     66\u001b[0m         \u001b[0;32mexcept\u001b[0m \u001b[0mException\u001b[0m \u001b[0;32mas\u001b[0m \u001b[0me\u001b[0m\u001b[0;34m:\u001b[0m\u001b[0;34m\u001b[0m\u001b[0;34m\u001b[0m\u001b[0m\n\u001b[1;32m     67\u001b[0m             \u001b[0mfiltered_tb\u001b[0m \u001b[0;34m=\u001b[0m \u001b[0m_process_traceback_frames\u001b[0m\u001b[0;34m(\u001b[0m\u001b[0me\u001b[0m\u001b[0;34m.\u001b[0m\u001b[0m__traceback__\u001b[0m\u001b[0;34m)\u001b[0m\u001b[0;34m\u001b[0m\u001b[0;34m\u001b[0m\u001b[0m\n",
            "\u001b[0;32m/usr/local/lib/python3.10/dist-packages/keras/src/engine/training.py\u001b[0m in \u001b[0;36mfit\u001b[0;34m(self, x, y, batch_size, epochs, verbose, callbacks, validation_split, validation_data, shuffle, class_weight, sample_weight, initial_epoch, steps_per_epoch, validation_steps, validation_batch_size, validation_freq, max_queue_size, workers, use_multiprocessing)\u001b[0m\n\u001b[1;32m   1805\u001b[0m                         ):\n\u001b[1;32m   1806\u001b[0m                             \u001b[0mcallbacks\u001b[0m\u001b[0;34m.\u001b[0m\u001b[0mon_train_batch_begin\u001b[0m\u001b[0;34m(\u001b[0m\u001b[0mstep\u001b[0m\u001b[0;34m)\u001b[0m\u001b[0;34m\u001b[0m\u001b[0;34m\u001b[0m\u001b[0m\n\u001b[0;32m-> 1807\u001b[0;31m                             \u001b[0mtmp_logs\u001b[0m \u001b[0;34m=\u001b[0m \u001b[0mself\u001b[0m\u001b[0;34m.\u001b[0m\u001b[0mtrain_function\u001b[0m\u001b[0;34m(\u001b[0m\u001b[0miterator\u001b[0m\u001b[0;34m)\u001b[0m\u001b[0;34m\u001b[0m\u001b[0;34m\u001b[0m\u001b[0m\n\u001b[0m\u001b[1;32m   1808\u001b[0m                             \u001b[0;32mif\u001b[0m \u001b[0mdata_handler\u001b[0m\u001b[0;34m.\u001b[0m\u001b[0mshould_sync\u001b[0m\u001b[0;34m:\u001b[0m\u001b[0;34m\u001b[0m\u001b[0;34m\u001b[0m\u001b[0m\n\u001b[1;32m   1809\u001b[0m                                 \u001b[0mcontext\u001b[0m\u001b[0;34m.\u001b[0m\u001b[0masync_wait\u001b[0m\u001b[0;34m(\u001b[0m\u001b[0;34m)\u001b[0m\u001b[0;34m\u001b[0m\u001b[0;34m\u001b[0m\u001b[0m\n",
            "\u001b[0;32m/usr/local/lib/python3.10/dist-packages/tensorflow/python/util/traceback_utils.py\u001b[0m in \u001b[0;36merror_handler\u001b[0;34m(*args, **kwargs)\u001b[0m\n\u001b[1;32m    148\u001b[0m     \u001b[0mfiltered_tb\u001b[0m \u001b[0;34m=\u001b[0m \u001b[0;32mNone\u001b[0m\u001b[0;34m\u001b[0m\u001b[0;34m\u001b[0m\u001b[0m\n\u001b[1;32m    149\u001b[0m     \u001b[0;32mtry\u001b[0m\u001b[0;34m:\u001b[0m\u001b[0;34m\u001b[0m\u001b[0;34m\u001b[0m\u001b[0m\n\u001b[0;32m--> 150\u001b[0;31m       \u001b[0;32mreturn\u001b[0m \u001b[0mfn\u001b[0m\u001b[0;34m(\u001b[0m\u001b[0;34m*\u001b[0m\u001b[0margs\u001b[0m\u001b[0;34m,\u001b[0m \u001b[0;34m**\u001b[0m\u001b[0mkwargs\u001b[0m\u001b[0;34m)\u001b[0m\u001b[0;34m\u001b[0m\u001b[0;34m\u001b[0m\u001b[0m\n\u001b[0m\u001b[1;32m    151\u001b[0m     \u001b[0;32mexcept\u001b[0m \u001b[0mException\u001b[0m \u001b[0;32mas\u001b[0m \u001b[0me\u001b[0m\u001b[0;34m:\u001b[0m\u001b[0;34m\u001b[0m\u001b[0;34m\u001b[0m\u001b[0m\n\u001b[1;32m    152\u001b[0m       \u001b[0mfiltered_tb\u001b[0m \u001b[0;34m=\u001b[0m \u001b[0m_process_traceback_frames\u001b[0m\u001b[0;34m(\u001b[0m\u001b[0me\u001b[0m\u001b[0;34m.\u001b[0m\u001b[0m__traceback__\u001b[0m\u001b[0;34m)\u001b[0m\u001b[0;34m\u001b[0m\u001b[0;34m\u001b[0m\u001b[0m\n",
            "\u001b[0;32m/usr/local/lib/python3.10/dist-packages/tensorflow/python/eager/polymorphic_function/polymorphic_function.py\u001b[0m in \u001b[0;36m__call__\u001b[0;34m(self, *args, **kwds)\u001b[0m\n\u001b[1;32m    830\u001b[0m \u001b[0;34m\u001b[0m\u001b[0m\n\u001b[1;32m    831\u001b[0m       \u001b[0;32mwith\u001b[0m \u001b[0mOptionalXlaContext\u001b[0m\u001b[0;34m(\u001b[0m\u001b[0mself\u001b[0m\u001b[0;34m.\u001b[0m\u001b[0m_jit_compile\u001b[0m\u001b[0;34m)\u001b[0m\u001b[0;34m:\u001b[0m\u001b[0;34m\u001b[0m\u001b[0;34m\u001b[0m\u001b[0m\n\u001b[0;32m--> 832\u001b[0;31m         \u001b[0mresult\u001b[0m \u001b[0;34m=\u001b[0m \u001b[0mself\u001b[0m\u001b[0;34m.\u001b[0m\u001b[0m_call\u001b[0m\u001b[0;34m(\u001b[0m\u001b[0;34m*\u001b[0m\u001b[0margs\u001b[0m\u001b[0;34m,\u001b[0m \u001b[0;34m**\u001b[0m\u001b[0mkwds\u001b[0m\u001b[0;34m)\u001b[0m\u001b[0;34m\u001b[0m\u001b[0;34m\u001b[0m\u001b[0m\n\u001b[0m\u001b[1;32m    833\u001b[0m \u001b[0;34m\u001b[0m\u001b[0m\n\u001b[1;32m    834\u001b[0m       \u001b[0mnew_tracing_count\u001b[0m \u001b[0;34m=\u001b[0m \u001b[0mself\u001b[0m\u001b[0;34m.\u001b[0m\u001b[0mexperimental_get_tracing_count\u001b[0m\u001b[0;34m(\u001b[0m\u001b[0;34m)\u001b[0m\u001b[0;34m\u001b[0m\u001b[0;34m\u001b[0m\u001b[0m\n",
            "\u001b[0;32m/usr/local/lib/python3.10/dist-packages/tensorflow/python/eager/polymorphic_function/polymorphic_function.py\u001b[0m in \u001b[0;36m_call\u001b[0;34m(self, *args, **kwds)\u001b[0m\n\u001b[1;32m    866\u001b[0m       \u001b[0;31m# In this case we have created variables on the first call, so we run the\u001b[0m\u001b[0;34m\u001b[0m\u001b[0;34m\u001b[0m\u001b[0m\n\u001b[1;32m    867\u001b[0m       \u001b[0;31m# defunned version which is guaranteed to never create variables.\u001b[0m\u001b[0;34m\u001b[0m\u001b[0;34m\u001b[0m\u001b[0m\n\u001b[0;32m--> 868\u001b[0;31m       return tracing_compilation.call_function(\n\u001b[0m\u001b[1;32m    869\u001b[0m           \u001b[0margs\u001b[0m\u001b[0;34m,\u001b[0m \u001b[0mkwds\u001b[0m\u001b[0;34m,\u001b[0m \u001b[0mself\u001b[0m\u001b[0;34m.\u001b[0m\u001b[0m_no_variable_creation_config\u001b[0m\u001b[0;34m\u001b[0m\u001b[0;34m\u001b[0m\u001b[0m\n\u001b[1;32m    870\u001b[0m       )\n",
            "\u001b[0;32m/usr/local/lib/python3.10/dist-packages/tensorflow/python/eager/polymorphic_function/tracing_compilation.py\u001b[0m in \u001b[0;36mcall_function\u001b[0;34m(args, kwargs, tracing_options)\u001b[0m\n\u001b[1;32m    137\u001b[0m   \u001b[0mbound_args\u001b[0m \u001b[0;34m=\u001b[0m \u001b[0mfunction\u001b[0m\u001b[0;34m.\u001b[0m\u001b[0mfunction_type\u001b[0m\u001b[0;34m.\u001b[0m\u001b[0mbind\u001b[0m\u001b[0;34m(\u001b[0m\u001b[0;34m*\u001b[0m\u001b[0margs\u001b[0m\u001b[0;34m,\u001b[0m \u001b[0;34m**\u001b[0m\u001b[0mkwargs\u001b[0m\u001b[0;34m)\u001b[0m\u001b[0;34m\u001b[0m\u001b[0;34m\u001b[0m\u001b[0m\n\u001b[1;32m    138\u001b[0m   \u001b[0mflat_inputs\u001b[0m \u001b[0;34m=\u001b[0m \u001b[0mfunction\u001b[0m\u001b[0;34m.\u001b[0m\u001b[0mfunction_type\u001b[0m\u001b[0;34m.\u001b[0m\u001b[0munpack_inputs\u001b[0m\u001b[0;34m(\u001b[0m\u001b[0mbound_args\u001b[0m\u001b[0;34m)\u001b[0m\u001b[0;34m\u001b[0m\u001b[0;34m\u001b[0m\u001b[0m\n\u001b[0;32m--> 139\u001b[0;31m   return function._call_flat(  # pylint: disable=protected-access\n\u001b[0m\u001b[1;32m    140\u001b[0m       \u001b[0mflat_inputs\u001b[0m\u001b[0;34m,\u001b[0m \u001b[0mcaptured_inputs\u001b[0m\u001b[0;34m=\u001b[0m\u001b[0mfunction\u001b[0m\u001b[0;34m.\u001b[0m\u001b[0mcaptured_inputs\u001b[0m\u001b[0;34m\u001b[0m\u001b[0;34m\u001b[0m\u001b[0m\n\u001b[1;32m    141\u001b[0m   )\n",
            "\u001b[0;32m/usr/local/lib/python3.10/dist-packages/tensorflow/python/eager/polymorphic_function/concrete_function.py\u001b[0m in \u001b[0;36m_call_flat\u001b[0;34m(self, tensor_inputs, captured_inputs)\u001b[0m\n\u001b[1;32m   1321\u001b[0m         and executing_eagerly):\n\u001b[1;32m   1322\u001b[0m       \u001b[0;31m# No tape is watching; skip to running the function.\u001b[0m\u001b[0;34m\u001b[0m\u001b[0;34m\u001b[0m\u001b[0m\n\u001b[0;32m-> 1323\u001b[0;31m       \u001b[0;32mreturn\u001b[0m \u001b[0mself\u001b[0m\u001b[0;34m.\u001b[0m\u001b[0m_inference_function\u001b[0m\u001b[0;34m.\u001b[0m\u001b[0mcall_preflattened\u001b[0m\u001b[0;34m(\u001b[0m\u001b[0margs\u001b[0m\u001b[0;34m)\u001b[0m\u001b[0;34m\u001b[0m\u001b[0;34m\u001b[0m\u001b[0m\n\u001b[0m\u001b[1;32m   1324\u001b[0m     forward_backward = self._select_forward_and_backward_functions(\n\u001b[1;32m   1325\u001b[0m         \u001b[0margs\u001b[0m\u001b[0;34m,\u001b[0m\u001b[0;34m\u001b[0m\u001b[0;34m\u001b[0m\u001b[0m\n",
            "\u001b[0;32m/usr/local/lib/python3.10/dist-packages/tensorflow/python/eager/polymorphic_function/atomic_function.py\u001b[0m in \u001b[0;36mcall_preflattened\u001b[0;34m(self, args)\u001b[0m\n\u001b[1;32m    214\u001b[0m   \u001b[0;32mdef\u001b[0m \u001b[0mcall_preflattened\u001b[0m\u001b[0;34m(\u001b[0m\u001b[0mself\u001b[0m\u001b[0;34m,\u001b[0m \u001b[0margs\u001b[0m\u001b[0;34m:\u001b[0m \u001b[0mSequence\u001b[0m\u001b[0;34m[\u001b[0m\u001b[0mcore\u001b[0m\u001b[0;34m.\u001b[0m\u001b[0mTensor\u001b[0m\u001b[0;34m]\u001b[0m\u001b[0;34m)\u001b[0m \u001b[0;34m->\u001b[0m \u001b[0mAny\u001b[0m\u001b[0;34m:\u001b[0m\u001b[0;34m\u001b[0m\u001b[0;34m\u001b[0m\u001b[0m\n\u001b[1;32m    215\u001b[0m     \u001b[0;34m\"\"\"Calls with flattened tensor inputs and returns the structured output.\"\"\"\u001b[0m\u001b[0;34m\u001b[0m\u001b[0;34m\u001b[0m\u001b[0m\n\u001b[0;32m--> 216\u001b[0;31m     \u001b[0mflat_outputs\u001b[0m \u001b[0;34m=\u001b[0m \u001b[0mself\u001b[0m\u001b[0;34m.\u001b[0m\u001b[0mcall_flat\u001b[0m\u001b[0;34m(\u001b[0m\u001b[0;34m*\u001b[0m\u001b[0margs\u001b[0m\u001b[0;34m)\u001b[0m\u001b[0;34m\u001b[0m\u001b[0;34m\u001b[0m\u001b[0m\n\u001b[0m\u001b[1;32m    217\u001b[0m     \u001b[0;32mreturn\u001b[0m \u001b[0mself\u001b[0m\u001b[0;34m.\u001b[0m\u001b[0mfunction_type\u001b[0m\u001b[0;34m.\u001b[0m\u001b[0mpack_output\u001b[0m\u001b[0;34m(\u001b[0m\u001b[0mflat_outputs\u001b[0m\u001b[0;34m)\u001b[0m\u001b[0;34m\u001b[0m\u001b[0;34m\u001b[0m\u001b[0m\n\u001b[1;32m    218\u001b[0m \u001b[0;34m\u001b[0m\u001b[0m\n",
            "\u001b[0;32m/usr/local/lib/python3.10/dist-packages/tensorflow/python/eager/polymorphic_function/atomic_function.py\u001b[0m in \u001b[0;36mcall_flat\u001b[0;34m(self, *args)\u001b[0m\n\u001b[1;32m    249\u001b[0m         \u001b[0;32mwith\u001b[0m \u001b[0mrecord\u001b[0m\u001b[0;34m.\u001b[0m\u001b[0mstop_recording\u001b[0m\u001b[0;34m(\u001b[0m\u001b[0;34m)\u001b[0m\u001b[0;34m:\u001b[0m\u001b[0;34m\u001b[0m\u001b[0;34m\u001b[0m\u001b[0m\n\u001b[1;32m    250\u001b[0m           \u001b[0;32mif\u001b[0m \u001b[0mself\u001b[0m\u001b[0;34m.\u001b[0m\u001b[0m_bound_context\u001b[0m\u001b[0;34m.\u001b[0m\u001b[0mexecuting_eagerly\u001b[0m\u001b[0;34m(\u001b[0m\u001b[0;34m)\u001b[0m\u001b[0;34m:\u001b[0m\u001b[0;34m\u001b[0m\u001b[0;34m\u001b[0m\u001b[0m\n\u001b[0;32m--> 251\u001b[0;31m             outputs = self._bound_context.call_function(\n\u001b[0m\u001b[1;32m    252\u001b[0m                 \u001b[0mself\u001b[0m\u001b[0;34m.\u001b[0m\u001b[0mname\u001b[0m\u001b[0;34m,\u001b[0m\u001b[0;34m\u001b[0m\u001b[0;34m\u001b[0m\u001b[0m\n\u001b[1;32m    253\u001b[0m                 \u001b[0mlist\u001b[0m\u001b[0;34m(\u001b[0m\u001b[0margs\u001b[0m\u001b[0;34m)\u001b[0m\u001b[0;34m,\u001b[0m\u001b[0;34m\u001b[0m\u001b[0;34m\u001b[0m\u001b[0m\n",
            "\u001b[0;32m/usr/local/lib/python3.10/dist-packages/tensorflow/python/eager/context.py\u001b[0m in \u001b[0;36mcall_function\u001b[0;34m(self, name, tensor_inputs, num_outputs)\u001b[0m\n\u001b[1;32m   1484\u001b[0m     \u001b[0mcancellation_context\u001b[0m \u001b[0;34m=\u001b[0m \u001b[0mcancellation\u001b[0m\u001b[0;34m.\u001b[0m\u001b[0mcontext\u001b[0m\u001b[0;34m(\u001b[0m\u001b[0;34m)\u001b[0m\u001b[0;34m\u001b[0m\u001b[0;34m\u001b[0m\u001b[0m\n\u001b[1;32m   1485\u001b[0m     \u001b[0;32mif\u001b[0m \u001b[0mcancellation_context\u001b[0m \u001b[0;32mis\u001b[0m \u001b[0;32mNone\u001b[0m\u001b[0;34m:\u001b[0m\u001b[0;34m\u001b[0m\u001b[0;34m\u001b[0m\u001b[0m\n\u001b[0;32m-> 1486\u001b[0;31m       outputs = execute.execute(\n\u001b[0m\u001b[1;32m   1487\u001b[0m           \u001b[0mname\u001b[0m\u001b[0;34m.\u001b[0m\u001b[0mdecode\u001b[0m\u001b[0;34m(\u001b[0m\u001b[0;34m\"utf-8\"\u001b[0m\u001b[0;34m)\u001b[0m\u001b[0;34m,\u001b[0m\u001b[0;34m\u001b[0m\u001b[0;34m\u001b[0m\u001b[0m\n\u001b[1;32m   1488\u001b[0m           \u001b[0mnum_outputs\u001b[0m\u001b[0;34m=\u001b[0m\u001b[0mnum_outputs\u001b[0m\u001b[0;34m,\u001b[0m\u001b[0;34m\u001b[0m\u001b[0;34m\u001b[0m\u001b[0m\n",
            "\u001b[0;32m/usr/local/lib/python3.10/dist-packages/tensorflow/python/eager/execute.py\u001b[0m in \u001b[0;36mquick_execute\u001b[0;34m(op_name, num_outputs, inputs, attrs, ctx, name)\u001b[0m\n\u001b[1;32m     51\u001b[0m   \u001b[0;32mtry\u001b[0m\u001b[0;34m:\u001b[0m\u001b[0;34m\u001b[0m\u001b[0;34m\u001b[0m\u001b[0m\n\u001b[1;32m     52\u001b[0m     \u001b[0mctx\u001b[0m\u001b[0;34m.\u001b[0m\u001b[0mensure_initialized\u001b[0m\u001b[0;34m(\u001b[0m\u001b[0;34m)\u001b[0m\u001b[0;34m\u001b[0m\u001b[0;34m\u001b[0m\u001b[0m\n\u001b[0;32m---> 53\u001b[0;31m     tensors = pywrap_tfe.TFE_Py_Execute(ctx._handle, device_name, op_name,\n\u001b[0m\u001b[1;32m     54\u001b[0m                                         inputs, attrs, num_outputs)\n\u001b[1;32m     55\u001b[0m   \u001b[0;32mexcept\u001b[0m \u001b[0mcore\u001b[0m\u001b[0;34m.\u001b[0m\u001b[0m_NotOkStatusException\u001b[0m \u001b[0;32mas\u001b[0m \u001b[0me\u001b[0m\u001b[0;34m:\u001b[0m\u001b[0;34m\u001b[0m\u001b[0;34m\u001b[0m\u001b[0m\n",
            "\u001b[0;31mKeyboardInterrupt\u001b[0m: "
          ]
        }
      ]
    },
    {
      "cell_type": "code",
      "source": [
        "# Display the model summary\n",
        "rnn_model.summary()"
      ],
      "metadata": {
        "id": "YOLx8e9dJe8b"
      },
      "execution_count": null,
      "outputs": []
    },
    {
      "cell_type": "code",
      "source": [
        "# Plot training & validation loss values\n",
        "plt.figure(figsize=(15, 8))\n",
        "plt.plot(history.history['loss'], label='Train loss')\n",
        "plt.plot(history.history['val_loss'], label='Validation loss')\n",
        "plt.title('Model loss')\n",
        "plt.ylabel('Loss')\n",
        "plt.xlabel('Epoch')\n",
        "plt.legend(loc='upper right')\n",
        "plt.show()"
      ],
      "metadata": {
        "id": "WwuHlbY0JFoy"
      },
      "execution_count": null,
      "outputs": []
    },
    {
      "cell_type": "code",
      "source": [
        "# Make predictions\n",
        "rnn_pred = rnn_model.predict(X_test)\n",
        "\n",
        "# Inverse transform the predictions to the original scale\n",
        "rnn_pred = target_transformer.inverse_transform(rnn_pred)\n",
        "\n",
        "# Inverse transform the true values for comparison\n",
        "y_test = y_test.reshape(-1, 1)  # Ensure y_test is in the correct shape\n",
        "y_test = target_transformer.inverse_transform(y_test)\n",
        "\n",
        "# Display the first few predictions and actual values for comparison\n",
        "pred_df = pd.DataFrame({'Actual': y_test.flatten(), 'Predicted': rnn_pred.flatten()})\n",
        "print(pred_df.head())"
      ],
      "metadata": {
        "id": "B8xHFEpJJHqq"
      },
      "execution_count": null,
      "outputs": []
    },
    {
      "cell_type": "code",
      "source": [
        "from sklearn.metrics import mean_squared_error, mean_absolute_error, r2_score\n",
        "import matplotlib.pyplot as plt\n",
        "\n",
        "# Calculate evaluation metrics\n",
        "rnn_mse = mean_squared_error(y_test, rnn_pred)\n",
        "rnn_rmse = np.sqrt(rnn_mse)\n",
        "rnn_mae = mean_absolute_error(y_test, rnn_pred)\n",
        "rnn_r2 = r2_score(y_test, rnn_pred)\n",
        "\n",
        "# Print evaluation metrics\n",
        "print(f'RNN Model Performance:')\n",
        "# print(f'MSE: {rnn_mse:.3f}')\n",
        "print(f'RMSE: {rnn_rmse:.3f}')\n",
        "# print(f'MAE: {rnn_mae:.3f}')\n",
        "print(f'R²: {rnn_r2:.3f}')"
      ],
      "metadata": {
        "id": "ZkxK0OoHJT2r"
      },
      "execution_count": null,
      "outputs": []
    },
    {
      "cell_type": "code",
      "source": [
        "# Plotting the results\n",
        "plt.figure(figsize=(14, 7))\n",
        "plt.plot(df.index[-len(y_test):], y_test, label='True Values', color='blue')\n",
        "plt.plot(df.index[-len(y_test):], rnn_pred, label='Predictions', linestyle='dashed', color='red')\n",
        "plt.xlabel('Date')\n",
        "plt.ylabel('Mean Temperature')\n",
        "plt.title('Mean Temperature Predictions vs True Values')\n",
        "plt.legend()\n",
        "plt.show()"
      ],
      "metadata": {
        "id": "QYSJWoR-JWgC"
      },
      "execution_count": null,
      "outputs": []
    },
    {
      "cell_type": "code",
      "source": [
        "# Get training and validation losses from history\n",
        "training_loss = history.history['loss']\n",
        "validation_loss = history.history['val_loss']\n",
        "\n",
        "# Plot loss values over epochs\n",
        "plt.figure(figsize=(14, 7))\n",
        "plt.plot(training_loss, label='Training Loss')\n",
        "plt.plot(validation_loss, label='Validation Loss')\n",
        "plt.xlabel('Epoch')\n",
        "plt.ylabel('Loss (MSE)')\n",
        "plt.title('Training and Validation Loss')\n",
        "plt.legend()\n",
        "plt.grid(True)  # Add grid for better readability\n",
        "plt.show()\n"
      ],
      "metadata": {
        "id": "EMwl_eVlJz3r"
      },
      "execution_count": null,
      "outputs": []
    },
    {
      "cell_type": "markdown",
      "source": [
        "### LSTM Model"
      ],
      "metadata": {
        "id": "PAdAXNowJ2Y0"
      }
    },
    {
      "cell_type": "code",
      "source": [
        "import tensorflow as tf\n",
        "from tensorflow.keras.models import Sequential\n",
        "from tensorflow.keras.layers import LSTM, Dense\n",
        "from tensorflow.keras.preprocessing.sequence import TimeseriesGenerator\n",
        "\n",
        "# Define parameters\n",
        "time_steps = 10  # Use the past 10 time steps to predict the value at the next time step\n",
        "batch_size = 32  # Example batch size\n",
        "epochs = 5  # Number of epochs for training"
      ],
      "metadata": {
        "id": "qG_iITNKO31R"
      },
      "execution_count": null,
      "outputs": []
    },
    {
      "cell_type": "code",
      "source": [
        "# Prepare the training data\n",
        "train_data = d1_train[['Global_reactive_power', 'Global_intensity', 'Sub_metering_1', 'Sub_metering_2', 'Sub_metering_3', 'Global_active_power']].values\n",
        "\n",
        "# Separate features and target for training\n",
        "X_train, y_train = train_data[:, :-1], train_data[:, -1]\n",
        "\n",
        "# Create TimeseriesGenerator for training\n",
        "train_generator = TimeseriesGenerator(X_train, y_train, length=time_steps, batch_size=batch_size)\n"
      ],
      "metadata": {
        "id": "ujJU1FHLO-NB"
      },
      "execution_count": null,
      "outputs": []
    },
    {
      "cell_type": "code",
      "source": [
        "# Prepare the test data\n",
        "test_data = d1_test[['Global_reactive_power', 'Global_intensity', 'Sub_metering_1', 'Sub_metering_2', 'Sub_metering_3', 'Global_active_power']].values\n",
        "\n",
        "# Separate features and target for testing\n",
        "X_test, y_test = test_data[:, :-1], test_data[:, -1]\n",
        "\n",
        "# Create TimeseriesGenerator for testing\n",
        "test_generator = TimeseriesGenerator(X_test, y_test, length=time_steps, batch_size=batch_size)\n"
      ],
      "metadata": {
        "id": "OXrB6JdYPBmR"
      },
      "execution_count": null,
      "outputs": []
    },
    {
      "cell_type": "code",
      "source": [
        "X_train.shape\n",
        "# Number of Sequences (1660197)\n",
        "# Number of Time Steps (10)\n",
        "# Number of Features (5)"
      ],
      "metadata": {
        "colab": {
          "base_uri": "https://localhost:8080/"
        },
        "id": "YPB6dvjrPtTk",
        "outputId": "dff4f21a-9c31-4ebe-c7f7-cc03c0bd4cf5"
      },
      "execution_count": null,
      "outputs": [
        {
          "output_type": "execute_result",
          "data": {
            "text/plain": [
              "(1660207, 5)"
            ]
          },
          "metadata": {},
          "execution_count": 83
        }
      ]
    },
    {
      "cell_type": "markdown",
      "source": [
        "- Shape after Using TimeseriesGenerator\n",
        "When you use TimeseriesGenerator:\n",
        "\n",
        "`(num_sequences, time_steps, num_features).`\n",
        "\n",
        "- LSTM input_shape = `(10, 5)`"
      ],
      "metadata": {
        "id": "iHzxpFSDQ0LM"
      }
    },
    {
      "cell_type": "code",
      "source": [
        "# Define the LSTM model\n",
        "lstm_model = Sequential()\n",
        "lstm_model.add(LSTM(100, activation='tanh', return_sequences=True, input_shape=(time_steps, X_train.shape[1])))\n",
        "lstm_model.add(LSTM(50, activation='tanh'))\n",
        "lstm_model.add(Dense(1))\n",
        "lstm_model.compile(optimizer='adam', loss='mse')\n",
        "\n",
        "# Define early stopping callback\n",
        "early_stopping = EarlyStopping(monitor='val_loss', patience=10, restore_best_weights=True)\n",
        "\n",
        "# Train the model with early stopping\n",
        "history = lstm_model.fit(train_generator, epochs=epochs, validation_data=test_generator, batch_size=batch_size, callbacks=[early_stopping])\n",
        "\n",
        "# Evaluate the model\n",
        "loss = lstm_model.evaluate(test_generator)\n",
        "print(f'Validation Loss: {loss}')"
      ],
      "metadata": {
        "colab": {
          "base_uri": "https://localhost:8080/"
        },
        "id": "H7KHQSKjKN7i",
        "outputId": "862c05c3-6269-4bda-8938-aa927c70cb4e"
      },
      "execution_count": null,
      "outputs": [
        {
          "output_type": "stream",
          "name": "stdout",
          "text": [
            "Epoch 1/5\n",
            "51882/51882 [==============================] - 377s 7ms/step - loss: 6.2471e-04 - val_loss: 3.5812e-04\n",
            "Epoch 2/5\n",
            "51882/51882 [==============================] - 375s 7ms/step - loss: 5.3494e-04 - val_loss: 3.6001e-04\n",
            "Epoch 3/5\n",
            "51882/51882 [==============================] - 368s 7ms/step - loss: 5.0654e-04 - val_loss: 3.6580e-04\n",
            "Epoch 4/5\n",
            "51882/51882 [==============================] - 371s 7ms/step - loss: 4.8649e-04 - val_loss: 3.3450e-04\n",
            "Epoch 5/5\n",
            "51882/51882 [==============================] - 375s 7ms/step - loss: 4.7140e-04 - val_loss: 3.2428e-04\n",
            "12971/12971 [==============================] - 44s 3ms/step - loss: 3.2428e-04\n",
            "Validation Loss: 0.0003242813691031188\n"
          ]
        }
      ]
    },
    {
      "cell_type": "code",
      "source": [
        "lstm_model.summary()"
      ],
      "metadata": {
        "id": "4Tf3BbMH20cD"
      },
      "execution_count": null,
      "outputs": []
    },
    {
      "cell_type": "code",
      "source": [
        "# Make predictions\n",
        "lstm_pred = lstm_model.predict(test_generator)\n",
        "lstm_pred = target_transformer.inverse_transform(lstm_pred)  # Inverse transform to original scale"
      ],
      "metadata": {
        "id": "n8Wi60LCTWnr"
      },
      "execution_count": null,
      "outputs": []
    },
    {
      "cell_type": "code",
      "source": [
        "# Inverse transform the true values for comparison\n",
        "y_test = y_test.reshape(-1, 1)\n",
        "y_test = target_transformer.inverse_transform(y_test)"
      ],
      "metadata": {
        "id": "Jn0BwHZpTsyk"
      },
      "execution_count": null,
      "outputs": []
    },
    {
      "cell_type": "code",
      "source": [
        "# Calculate RMSE and R2 scores\n",
        "rmse = np.sqrt(mean_squared_error(y_test, lstm_pred))\n",
        "r2 = r2_score(y_test, lstm_pred)\n",
        "\n",
        "print(f'RMSE: {rmse}')\n",
        "print(f'R2 Score: {r2}')"
      ],
      "metadata": {
        "id": "3zVQst3uU7j8"
      },
      "execution_count": null,
      "outputs": []
    },
    {
      "cell_type": "code",
      "source": [
        "# Plot the results\n",
        "plt.figure(figsize=(14, 7))\n",
        "plt.plot(df.index[-len(y_test):], y_test, label='True Values')\n",
        "plt.plot(df.index[-len(y_test):], lstm_pred, label='Predictions', linestyle='dashed')\n",
        "plt.xlabel('Date')\n",
        "plt.ylabel('Global_reactive_power')\n",
        "plt.title('Global_reactive_power Predictions vs True Values')\n",
        "plt.legend()\n",
        "plt.show()"
      ],
      "metadata": {
        "id": "4MsmoUz2VEDL"
      },
      "execution_count": null,
      "outputs": []
    },
    {
      "cell_type": "code",
      "source": [
        "# Plotting training and validation loss\n",
        "training_loss = history.history['loss']\n",
        "validation_loss = history.history['val_loss']\n",
        "\n",
        "plt.figure(figsize=(10, 6))\n",
        "plt.plot(training_loss, label='Training Loss')\n",
        "plt.plot(validation_loss, label='Validation Loss')\n",
        "plt.xlabel('Epoch')\n",
        "plt.ylabel('Loss (MSE)')\n",
        "plt.title('Training and Validation Loss')\n",
        "plt.legend()\n",
        "plt.show()"
      ],
      "metadata": {
        "id": "PYj5gBx9VJ27"
      },
      "execution_count": null,
      "outputs": []
    },
    {
      "cell_type": "markdown",
      "source": [
        "### Bidirectional LSTM"
      ],
      "metadata": {
        "id": "HgjSxAcyVMFf"
      }
    },
    {
      "cell_type": "code",
      "source": [
        "import tensorflow as tf\n",
        "from tensorflow.keras.models import Sequential\n",
        "from tensorflow.keras.layers import LSTM, Bidirectional, Dense\n",
        "from tensorflow.keras.preprocessing.sequence import TimeseriesGenerator\n",
        "\n",
        "# Define parameters\n",
        "time_steps = 10  # Use the past 10 time steps to predict the value at the next time step\n",
        "batch_size = 32  # Example batch size\n",
        "epochs = 5  # Number of epochs for training"
      ],
      "metadata": {
        "id": "-fjYCGoTVOXj"
      },
      "execution_count": null,
      "outputs": []
    },
    {
      "cell_type": "code",
      "source": [
        "# Prepare the training data\n",
        "train_data = d1_train[['Global_reactive_power', 'Global_intensity', 'Sub_metering_1', 'Sub_metering_2', 'Sub_metering_3', 'Global_active_power']].values\n",
        "\n",
        "# Separate features and target for training\n",
        "X_train, y_train = train_data[:, :-1], train_data[:, -1]\n",
        "\n",
        "# Create TimeseriesGenerator for training\n",
        "train_generator = TimeseriesGenerator(X_train, y_train, length=time_steps, batch_size=batch_size)\n"
      ],
      "metadata": {
        "id": "ReLVJjhM1ngA"
      },
      "execution_count": null,
      "outputs": []
    },
    {
      "cell_type": "code",
      "source": [
        "# Prepare the test data\n",
        "test_data = d1_test[['Global_reactive_power', 'Global_intensity', 'Sub_metering_1', 'Sub_metering_2', 'Sub_metering_3', 'Global_active_power']].values\n",
        "\n",
        "# Separate features and target for testing\n",
        "X_test, y_test = test_data[:, :-1], test_data[:, -1]\n",
        "\n",
        "# Create TimeseriesGenerator for testing\n",
        "test_generator = TimeseriesGenerator(X_test, y_test, length=time_steps, batch_size=batch_size)\n"
      ],
      "metadata": {
        "id": "w5rbwMVj1pkg"
      },
      "execution_count": null,
      "outputs": []
    },
    {
      "cell_type": "code",
      "source": [
        "X_train.shape\n",
        "# Number of Sequences (1660197)\n",
        "# Number of Time Steps (10)\n",
        "# Number of Features (5)"
      ],
      "metadata": {
        "id": "6QTd4pcx1tTf"
      },
      "execution_count": null,
      "outputs": []
    },
    {
      "cell_type": "code",
      "source": [
        "# Define the LSTM model\n",
        "blstm_model = Sequential()\n",
        "blstm_model.add(Bidirectional(LSTM(100, activation='tanh', return_sequences=True, input_shape=(time_steps, X_train.shape[1]))))\n",
        "blstm_model.add(Dense(1))\n",
        "blstm_model.compile(optimizer='adam', loss='mse')\n",
        "\n",
        "# Define early stopping callback\n",
        "early_stopping = EarlyStopping(monitor='val_loss', patience=10, restore_best_weights=True)\n",
        "\n",
        "# Train the model with early stopping\n",
        "history = blstm_model.fit(train_generator, epochs=epochs, validation_data=test_generator, batch_size=batch_size, callbacks=[early_stopping])\n",
        "\n",
        "# Evaluate the model\n",
        "loss = blstm_model.evaluate(test_generator)\n",
        "print(f'Validation Loss: {loss}')"
      ],
      "metadata": {
        "id": "yZnSyjU32EdU"
      },
      "execution_count": null,
      "outputs": []
    },
    {
      "cell_type": "code",
      "source": [
        "blstm_model.summary()"
      ],
      "metadata": {
        "id": "pv_GEKiX2uge"
      },
      "execution_count": null,
      "outputs": []
    },
    {
      "cell_type": "code",
      "source": [
        "# Make predictions\n",
        "blstm_pred = lstm_model.predict(test_generator)\n",
        "blstm_pred = target_transformer.inverse_transform(blstm_pred)  # Inverse transform to original scale"
      ],
      "metadata": {
        "id": "4Ow1gCEq3AZa"
      },
      "execution_count": null,
      "outputs": []
    },
    {
      "cell_type": "code",
      "source": [
        "# Inverse transform the true values for comparison\n",
        "y_test = y_test.reshape(-1, 1)\n",
        "y_test = target_transformer.inverse_transform(y_test)"
      ],
      "metadata": {
        "id": "rNEW-IhJ470t"
      },
      "execution_count": null,
      "outputs": []
    },
    {
      "cell_type": "code",
      "source": [
        "# Calculate RMSE and R2 scores\n",
        "rmse = np.sqrt(mean_squared_error(y_test, blstm_pred))\n",
        "r2 = r2_score(y_test, blstm_pred)\n",
        "\n",
        "print(f'RMSE: {rmse}')\n",
        "print(f'R2 Score: {r2}')"
      ],
      "metadata": {
        "id": "joz7wZKh5JS9"
      },
      "execution_count": null,
      "outputs": []
    },
    {
      "cell_type": "code",
      "source": [
        "# Plot the results\n",
        "plt.figure(figsize=(14, 7))\n",
        "plt.plot(df.index[-len(y_test):], y_test, label='True Values')\n",
        "plt.plot(df.index[-len(y_test):], lstm_pred, label='Predictions', linestyle='dashed')\n",
        "plt.xlabel('Date')\n",
        "plt.ylabel('Mean Temperature')\n",
        "plt.title('Mean Temperature Predictions vs True Values')\n",
        "plt.legend()\n",
        "plt.show()"
      ],
      "metadata": {
        "id": "9sUy4Bdx5LmF"
      },
      "execution_count": null,
      "outputs": []
    },
    {
      "cell_type": "code",
      "source": [
        "# Plotting training and validation loss\n",
        "training_loss = history.history['loss']\n",
        "validation_loss = history.history['val_loss']\n",
        "\n",
        "plt.figure(figsize=(10, 6))\n",
        "plt.plot(training_loss, label='Training Loss')\n",
        "plt.plot(validation_loss, label='Validation Loss')\n",
        "plt.xlabel('Epoch')\n",
        "plt.ylabel('Loss (MSE)')\n",
        "plt.title('Training and Validation Loss')\n",
        "plt.legend()\n",
        "plt.show()"
      ],
      "metadata": {
        "id": "RVcEETb_5Oxt"
      },
      "execution_count": null,
      "outputs": []
    },
    {
      "cell_type": "markdown",
      "source": [
        "### GRU Model"
      ],
      "metadata": {
        "id": "r21riCeJ9lkR"
      }
    },
    {
      "cell_type": "code",
      "source": [
        "import tensorflow as tf\n",
        "from tensorflow.keras.models import Sequential\n",
        "from tensorflow.keras.layers import LSTM, Bidirectional, GRU, Dense\n",
        "from tensorflow.keras.callbacks import EarlyStopping\n",
        "from tensorflow.keras.preprocessing.sequence import TimeseriesGenerator\n",
        "\n",
        "# Define parameters\n",
        "time_steps = 10  # Use the past 10 time steps to predict the value at the next time step\n",
        "batch_size = 32  # Example batch size\n",
        "epochs = 1  # Number of epochs for training"
      ],
      "metadata": {
        "id": "NVumkuqf93fH"
      },
      "execution_count": null,
      "outputs": []
    },
    {
      "cell_type": "code",
      "source": [
        "# Fit a MinMaxScaler on the training data\n",
        "scaler = MinMaxScaler()\n",
        "\n",
        "scaler.fit_transform(d1_train)\n",
        "scaler.transform(d1_test)"
      ],
      "metadata": {
        "colab": {
          "base_uri": "https://localhost:8080/"
        },
        "id": "QrKUfjBYKRtw",
        "outputId": "fcd3fb9b-c5e8-460b-9bde-b35535ec1c1e"
      },
      "execution_count": null,
      "outputs": [
        {
          "output_type": "execute_result",
          "data": {
            "text/plain": [
              "array([[0.02353793, 0.07338129, 0.86882068, ..., 0.        , 0.025     ,\n",
              "        0.03225806],\n",
              "       [0.02335687, 0.07338129, 0.86171244, ..., 0.        , 0.0125    ,\n",
              "        0.03225806],\n",
              "       [0.02335687, 0.07194245, 0.85912763, ..., 0.        , 0.025     ,\n",
              "        0.03225806],\n",
              "       ...,\n",
              "       [0.0780373 , 0.        , 0.53699515, ..., 0.        , 0.        ,\n",
              "        0.        ],\n",
              "       [0.07767518, 0.        , 0.53311793, ..., 0.        , 0.        ,\n",
              "        0.        ],\n",
              "       [0.07749412, 0.        , 0.52827141, ..., 0.        , 0.        ,\n",
              "        0.        ]])"
            ]
          },
          "metadata": {},
          "execution_count": 45
        }
      ]
    },
    {
      "cell_type": "code",
      "source": [
        "# Prepare the training data\n",
        "train_data = d1_train[['Global_reactive_power', 'Global_intensity', 'Sub_metering_1', 'Sub_metering_2', 'Sub_metering_3', 'Global_active_power']].values\n",
        "\n",
        "# Separate features and target for training\n",
        "X_train, y_train = train_data[:, :-1], train_data[:, -1]\n",
        "\n",
        "# Create TimeseriesGenerator for training\n",
        "train_generator = TimeseriesGenerator(X_train, y_train, length=time_steps, batch_size=batch_size)\n"
      ],
      "metadata": {
        "id": "Bq891Fhy950e"
      },
      "execution_count": null,
      "outputs": []
    },
    {
      "cell_type": "code",
      "source": [
        "# Prepare the test data\n",
        "test_data = d1_test[['Global_reactive_power', 'Global_intensity', 'Sub_metering_1', 'Sub_metering_2', 'Sub_metering_3', 'Global_active_power']].values\n",
        "\n",
        "# Separate features and target for testing\n",
        "X_test, y_test = test_data[:, :-1], test_data[:, -1]\n",
        "\n",
        "# Create TimeseriesGenerator for testing\n",
        "test_generator = TimeseriesGenerator(X_test, y_test, length=time_steps, batch_size=batch_size)\n"
      ],
      "metadata": {
        "id": "Bih8XZTc-Ecf"
      },
      "execution_count": null,
      "outputs": []
    },
    {
      "cell_type": "code",
      "source": [
        "X_train.shape\n",
        "# Number of Sequences (1660197)\n",
        "# Number of Time Steps (10)\n",
        "# Number of Features (5)"
      ],
      "metadata": {
        "colab": {
          "base_uri": "https://localhost:8080/"
        },
        "id": "xsoEav6p-HVY",
        "outputId": "a85cb44d-86da-4999-b794-b3af4702ec7d"
      },
      "execution_count": null,
      "outputs": [
        {
          "output_type": "execute_result",
          "data": {
            "text/plain": [
              "(1660207, 5)"
            ]
          },
          "metadata": {},
          "execution_count": 48
        }
      ]
    },
    {
      "cell_type": "code",
      "source": [
        "# Define the LSTM model\n",
        "gru_model = Sequential()\n",
        "gru_model.add(Bidirectional(GRU(100, activation='tanh', return_sequences=True, input_shape=(time_steps, X_train.shape[1]))))\n",
        "gru_model.add(Dense(1))\n",
        "gru_model.compile(optimizer='adam', loss='mse')\n",
        "\n",
        "# Define early stopping callback\n",
        "early_stopping = EarlyStopping(monitor='val_loss', patience=10, restore_best_weights=True)\n",
        "\n",
        "# Train the model with early stopping\n",
        "history = gru_model.fit(train_generator, epochs=epochs, validation_data=test_generator, batch_size=batch_size, callbacks=[early_stopping])\n",
        "\n",
        "# Evaluate the model\n",
        "loss = gru_model.evaluate(test_generator)\n",
        "print(f'Validation Loss: {loss}')"
      ],
      "metadata": {
        "colab": {
          "base_uri": "https://localhost:8080/"
        },
        "id": "jhGE9CKB-NB3",
        "outputId": "775ccb8d-b665-4bbd-a86e-95406cd13d5e"
      },
      "execution_count": null,
      "outputs": [
        {
          "output_type": "stream",
          "name": "stdout",
          "text": [
            "43621/51882 [========================>.....] - ETA: 2:17 - loss: 0.0030"
          ]
        }
      ]
    },
    {
      "cell_type": "code",
      "source": [
        "gru_model.summary()"
      ],
      "metadata": {
        "colab": {
          "base_uri": "https://localhost:8080/"
        },
        "id": "6GrHA-fO-Pkn",
        "outputId": "91da8340-1c2e-4927-8936-40bbc68d706d"
      },
      "execution_count": null,
      "outputs": [
        {
          "output_type": "stream",
          "name": "stdout",
          "text": [
            "Model: \"sequential_2\"\n",
            "_________________________________________________________________\n",
            " Layer (type)                Output Shape              Param #   \n",
            "=================================================================\n",
            " bidirectional_2 (Bidirecti  (None, None, 200)         64200     \n",
            " onal)                                                           \n",
            "                                                                 \n",
            " dense_2 (Dense)             (None, None, 1)           201       \n",
            "                                                                 \n",
            "=================================================================\n",
            "Total params: 64401 (251.57 KB)\n",
            "Trainable params: 64401 (251.57 KB)\n",
            "Non-trainable params: 0 (0.00 Byte)\n",
            "_________________________________________________________________\n"
          ]
        }
      ]
    },
    {
      "cell_type": "code",
      "source": [
        "# Make predictions\n",
        "gru_model_pred = gru_model.predict(test_generator)\n",
        "gru_model_pred = target_transformer.inverse_transform(gru_model_pred)  # Inverse transform to original scale"
      ],
      "metadata": {
        "colab": {
          "base_uri": "https://localhost:8080/",
          "height": 412
        },
        "id": "pNQiq56B-Rz_",
        "outputId": "b4bdb1a4-8377-4f22-8baa-d3ba7a354b09"
      },
      "execution_count": null,
      "outputs": [
        {
          "output_type": "stream",
          "name": "stdout",
          "text": [
            "12971/12971 [==============================] - 83s 6ms/step\n"
          ]
        },
        {
          "output_type": "error",
          "ename": "NotFittedError",
          "evalue": "This MinMaxScaler instance is not fitted yet. Call 'fit' with appropriate arguments before using this estimator.",
          "traceback": [
            "\u001b[0;31m---------------------------------------------------------------------------\u001b[0m",
            "\u001b[0;31mNotFittedError\u001b[0m                            Traceback (most recent call last)",
            "\u001b[0;32m<ipython-input-49-40cd374aed78>\u001b[0m in \u001b[0;36m<cell line: 3>\u001b[0;34m()\u001b[0m\n\u001b[1;32m      1\u001b[0m \u001b[0;31m# Make predictions\u001b[0m\u001b[0;34m\u001b[0m\u001b[0;34m\u001b[0m\u001b[0m\n\u001b[1;32m      2\u001b[0m \u001b[0mgru_model_pred\u001b[0m \u001b[0;34m=\u001b[0m \u001b[0mgru_model\u001b[0m\u001b[0;34m.\u001b[0m\u001b[0mpredict\u001b[0m\u001b[0;34m(\u001b[0m\u001b[0mtest_generator\u001b[0m\u001b[0;34m)\u001b[0m\u001b[0;34m\u001b[0m\u001b[0;34m\u001b[0m\u001b[0m\n\u001b[0;32m----> 3\u001b[0;31m \u001b[0mgru_model_pred\u001b[0m \u001b[0;34m=\u001b[0m \u001b[0mtarget_transformer\u001b[0m\u001b[0;34m.\u001b[0m\u001b[0minverse_transform\u001b[0m\u001b[0;34m(\u001b[0m\u001b[0mgru_model_pred\u001b[0m\u001b[0;34m)\u001b[0m  \u001b[0;31m# Inverse transform to original scale\u001b[0m\u001b[0;34m\u001b[0m\u001b[0;34m\u001b[0m\u001b[0m\n\u001b[0m",
            "\u001b[0;32m/usr/local/lib/python3.10/dist-packages/sklearn/preprocessing/_data.py\u001b[0m in \u001b[0;36minverse_transform\u001b[0;34m(self, X)\u001b[0m\n\u001b[1;32m    533\u001b[0m             \u001b[0mTransformed\u001b[0m \u001b[0mdata\u001b[0m\u001b[0;34m.\u001b[0m\u001b[0;34m\u001b[0m\u001b[0;34m\u001b[0m\u001b[0m\n\u001b[1;32m    534\u001b[0m         \"\"\"\n\u001b[0;32m--> 535\u001b[0;31m         \u001b[0mcheck_is_fitted\u001b[0m\u001b[0;34m(\u001b[0m\u001b[0mself\u001b[0m\u001b[0;34m)\u001b[0m\u001b[0;34m\u001b[0m\u001b[0;34m\u001b[0m\u001b[0m\n\u001b[0m\u001b[1;32m    536\u001b[0m \u001b[0;34m\u001b[0m\u001b[0m\n\u001b[1;32m    537\u001b[0m         X = check_array(\n",
            "\u001b[0;32m/usr/local/lib/python3.10/dist-packages/sklearn/utils/validation.py\u001b[0m in \u001b[0;36mcheck_is_fitted\u001b[0;34m(estimator, attributes, msg, all_or_any)\u001b[0m\n\u001b[1;32m   1388\u001b[0m \u001b[0;34m\u001b[0m\u001b[0m\n\u001b[1;32m   1389\u001b[0m     \u001b[0;32mif\u001b[0m \u001b[0;32mnot\u001b[0m \u001b[0mfitted\u001b[0m\u001b[0;34m:\u001b[0m\u001b[0;34m\u001b[0m\u001b[0;34m\u001b[0m\u001b[0m\n\u001b[0;32m-> 1390\u001b[0;31m         \u001b[0;32mraise\u001b[0m \u001b[0mNotFittedError\u001b[0m\u001b[0;34m(\u001b[0m\u001b[0mmsg\u001b[0m \u001b[0;34m%\u001b[0m \u001b[0;34m{\u001b[0m\u001b[0;34m\"name\"\u001b[0m\u001b[0;34m:\u001b[0m \u001b[0mtype\u001b[0m\u001b[0;34m(\u001b[0m\u001b[0mestimator\u001b[0m\u001b[0;34m)\u001b[0m\u001b[0;34m.\u001b[0m\u001b[0m__name__\u001b[0m\u001b[0;34m}\u001b[0m\u001b[0;34m)\u001b[0m\u001b[0;34m\u001b[0m\u001b[0;34m\u001b[0m\u001b[0m\n\u001b[0m\u001b[1;32m   1391\u001b[0m \u001b[0;34m\u001b[0m\u001b[0m\n\u001b[1;32m   1392\u001b[0m \u001b[0;34m\u001b[0m\u001b[0m\n",
            "\u001b[0;31mNotFittedError\u001b[0m: This MinMaxScaler instance is not fitted yet. Call 'fit' with appropriate arguments before using this estimator."
          ]
        }
      ]
    },
    {
      "cell_type": "code",
      "source": [
        "# Inverse transform the true values for comparison\n",
        "y_test = y_test.reshape(-1, 1)\n",
        "y_test = target_transformer.inverse_transform(y_test)"
      ],
      "metadata": {
        "id": "U8-nh33p-U5H"
      },
      "execution_count": null,
      "outputs": []
    },
    {
      "cell_type": "code",
      "source": [
        "# Calculate RMSE and R2 scores\n",
        "rmse = np.sqrt(mean_squared_error(y_test, model_pred))\n",
        "r2 = r2_score(y_test, model_pred)\n",
        "\n",
        "print(f'RMSE: {rmse}')\n",
        "print(f'R2 Score: {r2}')"
      ],
      "metadata": {
        "id": "lK4sOUfu-XNP"
      },
      "execution_count": null,
      "outputs": []
    },
    {
      "cell_type": "code",
      "source": [
        "# Plot the results\n",
        "plt.figure(figsize=(14, 7))\n",
        "plt.plot(df.index[-len(y_test):], y_test, label='True Values')\n",
        "plt.plot(df.index[-len(y_test):], lstm_pred, label='Predictions', linestyle='dashed')\n",
        "plt.xlabel('Date')\n",
        "plt.ylabel('Global_reactive_power')\n",
        "plt.title('Global_reactive_power Predictions vs True Values')\n",
        "plt.legend()\n",
        "plt.show()"
      ],
      "metadata": {
        "id": "7Goic7ow-Zn4"
      },
      "execution_count": null,
      "outputs": []
    },
    {
      "cell_type": "code",
      "source": [
        "# Plotting training and validation loss\n",
        "training_loss = history.history['loss']\n",
        "validation_loss = history.history['val_loss']\n",
        "\n",
        "plt.figure(figsize=(10, 6))\n",
        "plt.plot(training_loss, label='Training Loss')\n",
        "plt.plot(validation_loss, label='Validation Loss')\n",
        "plt.xlabel('Epoch')\n",
        "plt.ylabel('Loss (MSE)')\n",
        "plt.title('Training and Validation Loss')\n",
        "plt.legend()\n",
        "plt.show()"
      ],
      "metadata": {
        "id": "EUlosM9V-b4Y"
      },
      "execution_count": null,
      "outputs": []
    },
    {
      "cell_type": "markdown",
      "source": [
        "### Compare Models (For daily forecast)"
      ],
      "metadata": {
        "id": "h5rV65AzD2dL"
      }
    },
    {
      "cell_type": "code",
      "source": [
        "import pandas as pd\n",
        "import numpy as np\n",
        "import math\n",
        "import matplotlib.pyplot as plt\n",
        "import seaborn as sns\n",
        "\n",
        "from sklearn.metrics import mean_absolute_percentage_error, mean_squared_error, r2_score"
      ],
      "metadata": {
        "id": "m3QhrWJWD34g"
      },
      "execution_count": null,
      "outputs": []
    },
    {
      "cell_type": "code",
      "source": [
        "print(pred_df.head())"
      ],
      "metadata": {
        "id": "gTRqFttaD7va"
      },
      "execution_count": null,
      "outputs": []
    },
    {
      "cell_type": "code",
      "source": [
        "print(compare_df.head())"
      ],
      "metadata": {
        "id": "9z0-RapBLVux"
      },
      "execution_count": null,
      "outputs": []
    },
    {
      "cell_type": "code",
      "source": [
        "# Calculate metrics for each model\n",
        "def calculate_metrics(true_values, predicted_values):\n",
        "    mape = mean_absolute_percentage_error(true_values, predicted_values)\n",
        "    r2 = r2_score(true_values, predicted_values)\n",
        "    rmse = math.sqrt(mean_squared_error(true_values, predicted_values))\n",
        "    return mape, rmse, r2\n",
        "\n",
        "# Metrics for each model\n",
        "rnn_mape, rnn_rmse, rnn_r = calculate_metrics(y_test, rnn_pred)\n",
        "lstm_mape, lstm_rmse, lstm_r = calculate_metrics(y_test, lstm_pred)\n",
        "bilstm_mape, bilstm_rmse, bilstm_r = calculate_metrics(y_test, blstm_pred)\n",
        "gru_mape, gru_rmse, gru_r = calculate_metrics(y_test, gru_pred)"
      ],
      "metadata": {
        "id": "mDMXrtCDLXyx"
      },
      "execution_count": null,
      "outputs": []
    },
    {
      "cell_type": "code",
      "source": [
        "# Dataframe for deep learning models comparison\n",
        "dl_compare = {\n",
        "    'RNN daily': [rnn_mape, rnn_rmse, rnn_r],\n",
        "    'LSTM daily': [lstm_mape, lstm_rmse, lstm_r],\n",
        "    'BiLSTM daily': [bilstm_mape, bilstm_rmse, bilstm_r],\n",
        "    'GRU daily': [gru_mape, gru_rmse, gru_r]\n",
        "}\n",
        "dl_compare_df = pd.DataFrame(dl_compare, index=['MAE', 'RMSE', 'R2'])\n",
        "\n",
        "# Concatenate with existing compare_df\n",
        "compare_models_df = pd.concat([compare_df, dl_compare_df], axis=1)\n",
        "compare_models_df"
      ],
      "metadata": {
        "id": "LggbiDEZLYbB"
      },
      "execution_count": null,
      "outputs": []
    },
    {
      "cell_type": "code",
      "source": [
        "# Data for comparison plot\n",
        "data = {\n",
        "    'Model': ['Prophet daily', 'ARIMA daily', 'SARIMA daily', 'RNN daily', 'LSTM daily', 'BiLSTM daily', 'GRU daily'],\n",
        "    'MAE': [0.052, 0.245, 0.143, rnn_mape, lstm_mape, bilstm_mape, gru_mape],\n",
        "    'RMSE': [1.718, 8.100, 4.803, rnn_rmse, lstm_rmse, bilstm_rmse, gru_rmse],\n",
        "    'R2': [0.908, -1.050, 0.279, rnn_r, lstm_r, bilstm_r, gru_r]\n",
        "}\n",
        "compare = pd.DataFrame(data)\n",
        "\n",
        "# Function to add labels to the bar plots\n",
        "def add_labels(ax):\n",
        "    for p in ax.patches:\n",
        "        width = p.get_width()\n",
        "        ax.text(width, p.get_y() + p.get_height() / 2, '{:.3f}'.format(width), ha='left', va='center')\n",
        "\n",
        "# Plotting\n",
        "plt.figure(figsize=(15, 14))\n",
        "\n",
        "plt.subplot(411)\n",
        "compare_sorted = compare.sort_values(by=\"R2\", ascending=False)\n",
        "ax = sns.barplot(x=\"R2\", y=\"Model\", data=compare_sorted, palette=\"Blues_d\")\n",
        "add_labels(ax)\n",
        "plt.title('R2 Scores')\n",
        "\n",
        "plt.subplot(412)\n",
        "compare_sorted = compare.sort_values(by=\"MAE\", ascending=False)\n",
        "ax = sns.barplot(x=\"MAE\", y=\"Model\", data=compare_sorted, palette=\"Blues_d\")\n",
        "add_labels(ax)\n",
        "plt.title('MAE Scores')\n",
        "\n",
        "plt.subplot(413)\n",
        "compare_sorted = compare.sort_values(by=\"RMSE\", ascending=False)\n",
        "ax = sns.barplot(x=\"RMSE\", y=\"Model\", data=compare_sorted, palette=\"Blues_d\")\n",
        "add_labels(ax)\n",
        "plt.title('RMSE Scores')\n",
        "\n",
        "plt.tight_layout()\n",
        "plt.show()"
      ],
      "metadata": {
        "id": "HtHuGvjaLaSm"
      },
      "execution_count": null,
      "outputs": []
    }
  ]
}