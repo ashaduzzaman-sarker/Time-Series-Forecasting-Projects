{
  "nbformat": 4,
  "nbformat_minor": 0,
  "metadata": {
    "colab": {
      "provenance": [],
      "authorship_tag": "ABX9TyNZAbdkmqgTPDrdNcSaz0QQ"
    },
    "kernelspec": {
      "name": "python3",
      "display_name": "Python 3"
    },
    "language_info": {
      "name": "python"
    }
  },
  "cells": [
    {
      "cell_type": "markdown",
      "source": [
        "# Stock Price Prediction using Time Series Analysis\n",
        "\n",
        "## Description:\n",
        "This project focuses on predicting stock prices using time series analysis techniques. Time series forecasting plays a crucial role in financial markets, assisting investors and traders in making informed decisions. In this project, we leverage historical stock market data of Bajaj Finance Ltd. (BAJFINANCE) to build an Auto ARIMA model for predicting the Volume-Weighted Average Price (VWAP) of the stock.\n",
        "\n",
        "The project consists of the following key steps:\n",
        "\n",
        "1. Data Acquisition: We obtain historical stock market data of Bajaj Finance Ltd. (BAJFINANCE) from a CSV file.\n",
        "\n",
        "2. Data Preprocessing: We preprocess the data by handling missing values and ensuring data consistency. This step is essential for preparing the data for analysis.\n",
        "\n",
        "3. Feature Engineering: We engineer lag features and rolling statistics such as rolling mean and rolling standard deviation. These features provide valuable insights into the trends and patterns in the data, which can improve the forecasting model's accuracy.\n",
        "\n",
        "4. Model Training: We split the preprocessed data into training and test sets. The training set is used to fit an Auto ARIMA model, a state-of-the-art algorithm for time series forecasting. We include exogenous variables such as lag features in the model to capture additional information that may influence stock prices.\n",
        "\n",
        "5. Model Evaluation: We evaluate the performance of the trained model using metrics such as Root Mean Squared Error (RMSE) and Mean Absolute Error (MAE). These metrics quantify the difference between the actual and predicted stock prices, providing insights into the model's accuracy.\n",
        "\n",
        "6. Results Visualization: We visualize the actual and predicted stock prices using line plots. This visual representation allows us to compare the model's predictions with the ground truth and assess its effectiveness in capturing the underlying patterns in the data.\n",
        "\n",
        "Overall, this project demonstrates the application of time series analysis techniques in predicting stock prices and provides a framework for building forecasting models that can assist investors and traders in making more informed decisions in financial markets."
      ],
      "metadata": {
        "id": "E-PXU-tWpleG"
      }
    },
    {
      "cell_type": "markdown",
      "source": [
        "# Data Acquisition"
      ],
      "metadata": {
        "id": "a4ygmCdprjba"
      }
    },
    {
      "cell_type": "code",
      "source": [
        "import pandas as pd\n",
        "import numpy as np\n",
        "import matplotlib.pyplot as plt"
      ],
      "metadata": {
        "id": "pHf_e3wpskNR"
      },
      "execution_count": null,
      "outputs": []
    },
    {
      "cell_type": "code",
      "source": [
        "# Read Data\n",
        "df = pd.read_csv('BAJFINANCE.csv')\n",
        "df.head(5)"
      ],
      "metadata": {
        "colab": {
          "base_uri": "https://localhost:8080/",
          "height": 330
        },
        "id": "l8BdGymdtesJ",
        "outputId": "7632ee01-3f8c-4696-af87-f235949a3793"
      },
      "execution_count": 2,
      "outputs": [
        {
          "output_type": "execute_result",
          "data": {
            "text/plain": [
              "         Date      Symbol Series  Prev Close   Open   High   Low   Last  \\\n",
              "0  2000-01-03  BAJAUTOFIN     EQ       46.95  49.45  50.75  46.5  50.75   \n",
              "1  2000-01-04  BAJAUTOFIN     EQ       50.75  53.20  53.20  47.9  48.00   \n",
              "2  2000-01-05  BAJAUTOFIN     EQ       48.10  46.55  47.40  44.6  44.60   \n",
              "3  2000-01-06  BAJAUTOFIN     EQ       44.60  43.50  46.00  42.1  46.00   \n",
              "4  2000-01-07  BAJAUTOFIN     EQ       45.25  48.00  48.00  42.0  42.90   \n",
              "\n",
              "   Close   VWAP  Volume      Turnover  Trades  Deliverable Volume  %Deliverble  \n",
              "0  50.75  50.05    7600  3.803800e+10     NaN                 NaN          NaN  \n",
              "1  48.10  48.56    5000  2.428000e+10     NaN                 NaN          NaN  \n",
              "2  44.60  45.47    3500  1.591450e+10     NaN                 NaN          NaN  \n",
              "3  45.25  44.43    6200  2.754750e+10     NaN                 NaN          NaN  \n",
              "4  42.90  44.44    3500  1.555550e+10     NaN                 NaN          NaN  "
            ],
            "text/html": [
              "\n",
              "  <div id=\"df-5ed8815a-b966-4025-ac40-bd6039e43b42\" class=\"colab-df-container\">\n",
              "    <div>\n",
              "<style scoped>\n",
              "    .dataframe tbody tr th:only-of-type {\n",
              "        vertical-align: middle;\n",
              "    }\n",
              "\n",
              "    .dataframe tbody tr th {\n",
              "        vertical-align: top;\n",
              "    }\n",
              "\n",
              "    .dataframe thead th {\n",
              "        text-align: right;\n",
              "    }\n",
              "</style>\n",
              "<table border=\"1\" class=\"dataframe\">\n",
              "  <thead>\n",
              "    <tr style=\"text-align: right;\">\n",
              "      <th></th>\n",
              "      <th>Date</th>\n",
              "      <th>Symbol</th>\n",
              "      <th>Series</th>\n",
              "      <th>Prev Close</th>\n",
              "      <th>Open</th>\n",
              "      <th>High</th>\n",
              "      <th>Low</th>\n",
              "      <th>Last</th>\n",
              "      <th>Close</th>\n",
              "      <th>VWAP</th>\n",
              "      <th>Volume</th>\n",
              "      <th>Turnover</th>\n",
              "      <th>Trades</th>\n",
              "      <th>Deliverable Volume</th>\n",
              "      <th>%Deliverble</th>\n",
              "    </tr>\n",
              "  </thead>\n",
              "  <tbody>\n",
              "    <tr>\n",
              "      <th>0</th>\n",
              "      <td>2000-01-03</td>\n",
              "      <td>BAJAUTOFIN</td>\n",
              "      <td>EQ</td>\n",
              "      <td>46.95</td>\n",
              "      <td>49.45</td>\n",
              "      <td>50.75</td>\n",
              "      <td>46.5</td>\n",
              "      <td>50.75</td>\n",
              "      <td>50.75</td>\n",
              "      <td>50.05</td>\n",
              "      <td>7600</td>\n",
              "      <td>3.803800e+10</td>\n",
              "      <td>NaN</td>\n",
              "      <td>NaN</td>\n",
              "      <td>NaN</td>\n",
              "    </tr>\n",
              "    <tr>\n",
              "      <th>1</th>\n",
              "      <td>2000-01-04</td>\n",
              "      <td>BAJAUTOFIN</td>\n",
              "      <td>EQ</td>\n",
              "      <td>50.75</td>\n",
              "      <td>53.20</td>\n",
              "      <td>53.20</td>\n",
              "      <td>47.9</td>\n",
              "      <td>48.00</td>\n",
              "      <td>48.10</td>\n",
              "      <td>48.56</td>\n",
              "      <td>5000</td>\n",
              "      <td>2.428000e+10</td>\n",
              "      <td>NaN</td>\n",
              "      <td>NaN</td>\n",
              "      <td>NaN</td>\n",
              "    </tr>\n",
              "    <tr>\n",
              "      <th>2</th>\n",
              "      <td>2000-01-05</td>\n",
              "      <td>BAJAUTOFIN</td>\n",
              "      <td>EQ</td>\n",
              "      <td>48.10</td>\n",
              "      <td>46.55</td>\n",
              "      <td>47.40</td>\n",
              "      <td>44.6</td>\n",
              "      <td>44.60</td>\n",
              "      <td>44.60</td>\n",
              "      <td>45.47</td>\n",
              "      <td>3500</td>\n",
              "      <td>1.591450e+10</td>\n",
              "      <td>NaN</td>\n",
              "      <td>NaN</td>\n",
              "      <td>NaN</td>\n",
              "    </tr>\n",
              "    <tr>\n",
              "      <th>3</th>\n",
              "      <td>2000-01-06</td>\n",
              "      <td>BAJAUTOFIN</td>\n",
              "      <td>EQ</td>\n",
              "      <td>44.60</td>\n",
              "      <td>43.50</td>\n",
              "      <td>46.00</td>\n",
              "      <td>42.1</td>\n",
              "      <td>46.00</td>\n",
              "      <td>45.25</td>\n",
              "      <td>44.43</td>\n",
              "      <td>6200</td>\n",
              "      <td>2.754750e+10</td>\n",
              "      <td>NaN</td>\n",
              "      <td>NaN</td>\n",
              "      <td>NaN</td>\n",
              "    </tr>\n",
              "    <tr>\n",
              "      <th>4</th>\n",
              "      <td>2000-01-07</td>\n",
              "      <td>BAJAUTOFIN</td>\n",
              "      <td>EQ</td>\n",
              "      <td>45.25</td>\n",
              "      <td>48.00</td>\n",
              "      <td>48.00</td>\n",
              "      <td>42.0</td>\n",
              "      <td>42.90</td>\n",
              "      <td>42.90</td>\n",
              "      <td>44.44</td>\n",
              "      <td>3500</td>\n",
              "      <td>1.555550e+10</td>\n",
              "      <td>NaN</td>\n",
              "      <td>NaN</td>\n",
              "      <td>NaN</td>\n",
              "    </tr>\n",
              "  </tbody>\n",
              "</table>\n",
              "</div>\n",
              "    <div class=\"colab-df-buttons\">\n",
              "\n",
              "  <div class=\"colab-df-container\">\n",
              "    <button class=\"colab-df-convert\" onclick=\"convertToInteractive('df-5ed8815a-b966-4025-ac40-bd6039e43b42')\"\n",
              "            title=\"Convert this dataframe to an interactive table.\"\n",
              "            style=\"display:none;\">\n",
              "\n",
              "  <svg xmlns=\"http://www.w3.org/2000/svg\" height=\"24px\" viewBox=\"0 -960 960 960\">\n",
              "    <path d=\"M120-120v-720h720v720H120Zm60-500h600v-160H180v160Zm220 220h160v-160H400v160Zm0 220h160v-160H400v160ZM180-400h160v-160H180v160Zm440 0h160v-160H620v160ZM180-180h160v-160H180v160Zm440 0h160v-160H620v160Z\"/>\n",
              "  </svg>\n",
              "    </button>\n",
              "\n",
              "  <style>\n",
              "    .colab-df-container {\n",
              "      display:flex;\n",
              "      gap: 12px;\n",
              "    }\n",
              "\n",
              "    .colab-df-convert {\n",
              "      background-color: #E8F0FE;\n",
              "      border: none;\n",
              "      border-radius: 50%;\n",
              "      cursor: pointer;\n",
              "      display: none;\n",
              "      fill: #1967D2;\n",
              "      height: 32px;\n",
              "      padding: 0 0 0 0;\n",
              "      width: 32px;\n",
              "    }\n",
              "\n",
              "    .colab-df-convert:hover {\n",
              "      background-color: #E2EBFA;\n",
              "      box-shadow: 0px 1px 2px rgba(60, 64, 67, 0.3), 0px 1px 3px 1px rgba(60, 64, 67, 0.15);\n",
              "      fill: #174EA6;\n",
              "    }\n",
              "\n",
              "    .colab-df-buttons div {\n",
              "      margin-bottom: 4px;\n",
              "    }\n",
              "\n",
              "    [theme=dark] .colab-df-convert {\n",
              "      background-color: #3B4455;\n",
              "      fill: #D2E3FC;\n",
              "    }\n",
              "\n",
              "    [theme=dark] .colab-df-convert:hover {\n",
              "      background-color: #434B5C;\n",
              "      box-shadow: 0px 1px 3px 1px rgba(0, 0, 0, 0.15);\n",
              "      filter: drop-shadow(0px 1px 2px rgba(0, 0, 0, 0.3));\n",
              "      fill: #FFFFFF;\n",
              "    }\n",
              "  </style>\n",
              "\n",
              "    <script>\n",
              "      const buttonEl =\n",
              "        document.querySelector('#df-5ed8815a-b966-4025-ac40-bd6039e43b42 button.colab-df-convert');\n",
              "      buttonEl.style.display =\n",
              "        google.colab.kernel.accessAllowed ? 'block' : 'none';\n",
              "\n",
              "      async function convertToInteractive(key) {\n",
              "        const element = document.querySelector('#df-5ed8815a-b966-4025-ac40-bd6039e43b42');\n",
              "        const dataTable =\n",
              "          await google.colab.kernel.invokeFunction('convertToInteractive',\n",
              "                                                    [key], {});\n",
              "        if (!dataTable) return;\n",
              "\n",
              "        const docLinkHtml = 'Like what you see? Visit the ' +\n",
              "          '<a target=\"_blank\" href=https://colab.research.google.com/notebooks/data_table.ipynb>data table notebook</a>'\n",
              "          + ' to learn more about interactive tables.';\n",
              "        element.innerHTML = '';\n",
              "        dataTable['output_type'] = 'display_data';\n",
              "        await google.colab.output.renderOutput(dataTable, element);\n",
              "        const docLink = document.createElement('div');\n",
              "        docLink.innerHTML = docLinkHtml;\n",
              "        element.appendChild(docLink);\n",
              "      }\n",
              "    </script>\n",
              "  </div>\n",
              "\n",
              "\n",
              "<div id=\"df-1711cfe0-4cb5-49b0-a1fc-c73d889b5ff7\">\n",
              "  <button class=\"colab-df-quickchart\" onclick=\"quickchart('df-1711cfe0-4cb5-49b0-a1fc-c73d889b5ff7')\"\n",
              "            title=\"Suggest charts\"\n",
              "            style=\"display:none;\">\n",
              "\n",
              "<svg xmlns=\"http://www.w3.org/2000/svg\" height=\"24px\"viewBox=\"0 0 24 24\"\n",
              "     width=\"24px\">\n",
              "    <g>\n",
              "        <path d=\"M19 3H5c-1.1 0-2 .9-2 2v14c0 1.1.9 2 2 2h14c1.1 0 2-.9 2-2V5c0-1.1-.9-2-2-2zM9 17H7v-7h2v7zm4 0h-2V7h2v10zm4 0h-2v-4h2v4z\"/>\n",
              "    </g>\n",
              "</svg>\n",
              "  </button>\n",
              "\n",
              "<style>\n",
              "  .colab-df-quickchart {\n",
              "      --bg-color: #E8F0FE;\n",
              "      --fill-color: #1967D2;\n",
              "      --hover-bg-color: #E2EBFA;\n",
              "      --hover-fill-color: #174EA6;\n",
              "      --disabled-fill-color: #AAA;\n",
              "      --disabled-bg-color: #DDD;\n",
              "  }\n",
              "\n",
              "  [theme=dark] .colab-df-quickchart {\n",
              "      --bg-color: #3B4455;\n",
              "      --fill-color: #D2E3FC;\n",
              "      --hover-bg-color: #434B5C;\n",
              "      --hover-fill-color: #FFFFFF;\n",
              "      --disabled-bg-color: #3B4455;\n",
              "      --disabled-fill-color: #666;\n",
              "  }\n",
              "\n",
              "  .colab-df-quickchart {\n",
              "    background-color: var(--bg-color);\n",
              "    border: none;\n",
              "    border-radius: 50%;\n",
              "    cursor: pointer;\n",
              "    display: none;\n",
              "    fill: var(--fill-color);\n",
              "    height: 32px;\n",
              "    padding: 0;\n",
              "    width: 32px;\n",
              "  }\n",
              "\n",
              "  .colab-df-quickchart:hover {\n",
              "    background-color: var(--hover-bg-color);\n",
              "    box-shadow: 0 1px 2px rgba(60, 64, 67, 0.3), 0 1px 3px 1px rgba(60, 64, 67, 0.15);\n",
              "    fill: var(--button-hover-fill-color);\n",
              "  }\n",
              "\n",
              "  .colab-df-quickchart-complete:disabled,\n",
              "  .colab-df-quickchart-complete:disabled:hover {\n",
              "    background-color: var(--disabled-bg-color);\n",
              "    fill: var(--disabled-fill-color);\n",
              "    box-shadow: none;\n",
              "  }\n",
              "\n",
              "  .colab-df-spinner {\n",
              "    border: 2px solid var(--fill-color);\n",
              "    border-color: transparent;\n",
              "    border-bottom-color: var(--fill-color);\n",
              "    animation:\n",
              "      spin 1s steps(1) infinite;\n",
              "  }\n",
              "\n",
              "  @keyframes spin {\n",
              "    0% {\n",
              "      border-color: transparent;\n",
              "      border-bottom-color: var(--fill-color);\n",
              "      border-left-color: var(--fill-color);\n",
              "    }\n",
              "    20% {\n",
              "      border-color: transparent;\n",
              "      border-left-color: var(--fill-color);\n",
              "      border-top-color: var(--fill-color);\n",
              "    }\n",
              "    30% {\n",
              "      border-color: transparent;\n",
              "      border-left-color: var(--fill-color);\n",
              "      border-top-color: var(--fill-color);\n",
              "      border-right-color: var(--fill-color);\n",
              "    }\n",
              "    40% {\n",
              "      border-color: transparent;\n",
              "      border-right-color: var(--fill-color);\n",
              "      border-top-color: var(--fill-color);\n",
              "    }\n",
              "    60% {\n",
              "      border-color: transparent;\n",
              "      border-right-color: var(--fill-color);\n",
              "    }\n",
              "    80% {\n",
              "      border-color: transparent;\n",
              "      border-right-color: var(--fill-color);\n",
              "      border-bottom-color: var(--fill-color);\n",
              "    }\n",
              "    90% {\n",
              "      border-color: transparent;\n",
              "      border-bottom-color: var(--fill-color);\n",
              "    }\n",
              "  }\n",
              "</style>\n",
              "\n",
              "  <script>\n",
              "    async function quickchart(key) {\n",
              "      const quickchartButtonEl =\n",
              "        document.querySelector('#' + key + ' button');\n",
              "      quickchartButtonEl.disabled = true;  // To prevent multiple clicks.\n",
              "      quickchartButtonEl.classList.add('colab-df-spinner');\n",
              "      try {\n",
              "        const charts = await google.colab.kernel.invokeFunction(\n",
              "            'suggestCharts', [key], {});\n",
              "      } catch (error) {\n",
              "        console.error('Error during call to suggestCharts:', error);\n",
              "      }\n",
              "      quickchartButtonEl.classList.remove('colab-df-spinner');\n",
              "      quickchartButtonEl.classList.add('colab-df-quickchart-complete');\n",
              "    }\n",
              "    (() => {\n",
              "      let quickchartButtonEl =\n",
              "        document.querySelector('#df-1711cfe0-4cb5-49b0-a1fc-c73d889b5ff7 button');\n",
              "      quickchartButtonEl.style.display =\n",
              "        google.colab.kernel.accessAllowed ? 'block' : 'none';\n",
              "    })();\n",
              "  </script>\n",
              "</div>\n",
              "    </div>\n",
              "  </div>\n"
            ],
            "application/vnd.google.colaboratory.intrinsic+json": {
              "type": "dataframe",
              "variable_name": "df",
              "summary": "{\n  \"name\": \"df\",\n  \"rows\": 5070,\n  \"fields\": [\n    {\n      \"column\": \"Date\",\n      \"properties\": {\n        \"dtype\": \"object\",\n        \"num_unique_values\": 5070,\n        \"samples\": [\n          \"2008-05-06\",\n          \"2007-08-13\",\n          \"2013-07-23\"\n        ],\n        \"semantic_type\": \"\",\n        \"description\": \"\"\n      }\n    },\n    {\n      \"column\": \"Symbol\",\n      \"properties\": {\n        \"dtype\": \"category\",\n        \"num_unique_values\": 2,\n        \"samples\": [\n          \"BAJFINANCE\",\n          \"BAJAUTOFIN\"\n        ],\n        \"semantic_type\": \"\",\n        \"description\": \"\"\n      }\n    },\n    {\n      \"column\": \"Series\",\n      \"properties\": {\n        \"dtype\": \"category\",\n        \"num_unique_values\": 1,\n        \"samples\": [\n          \"EQ\"\n        ],\n        \"semantic_type\": \"\",\n        \"description\": \"\"\n      }\n    },\n    {\n      \"column\": \"Prev Close\",\n      \"properties\": {\n        \"dtype\": \"number\",\n        \"std\": 1782.0131365636414,\n        \"min\": 24.5,\n        \"max\": 11393.3,\n        \"num_unique_values\": 4305,\n        \"samples\": [\n          63.4\n        ],\n        \"semantic_type\": \"\",\n        \"description\": \"\"\n      }\n    },\n    {\n      \"column\": \"Open\",\n      \"properties\": {\n        \"dtype\": \"number\",\n        \"std\": 1781.9559695406774,\n        \"min\": 25.2,\n        \"max\": 11300.0,\n        \"num_unique_values\": 3480,\n        \"samples\": [\n          4963.0\n        ],\n        \"semantic_type\": \"\",\n        \"description\": \"\"\n      }\n    },\n    {\n      \"column\": \"High\",\n      \"properties\": {\n        \"dtype\": \"number\",\n        \"std\": 1808.5044141738535,\n        \"min\": 25.2,\n        \"max\": 11770.0,\n        \"num_unique_values\": 3618,\n        \"samples\": [\n          4143.8\n        ],\n        \"semantic_type\": \"\",\n        \"description\": \"\"\n      }\n    },\n    {\n      \"column\": \"Low\",\n      \"properties\": {\n        \"dtype\": \"number\",\n        \"std\": 1753.704144562862,\n        \"min\": 24.5,\n        \"max\": 11294.0,\n        \"num_unique_values\": 3697,\n        \"samples\": [\n          321.25\n        ],\n        \"semantic_type\": \"\",\n        \"description\": \"\"\n      }\n    },\n    {\n      \"column\": \"Last\",\n      \"properties\": {\n        \"dtype\": \"number\",\n        \"std\": 1782.3934455200663,\n        \"min\": 24.5,\n        \"max\": 11386.7,\n        \"num_unique_values\": 3608,\n        \"samples\": [\n          1655.05\n        ],\n        \"semantic_type\": \"\",\n        \"description\": \"\"\n      }\n    },\n    {\n      \"column\": \"Close\",\n      \"properties\": {\n        \"dtype\": \"number\",\n        \"std\": 1782.1866592938998,\n        \"min\": 24.5,\n        \"max\": 11393.3,\n        \"num_unique_values\": 4306,\n        \"samples\": [\n          30.4\n        ],\n        \"semantic_type\": \"\",\n        \"description\": \"\"\n      }\n    },\n    {\n      \"column\": \"VWAP\",\n      \"properties\": {\n        \"dtype\": \"number\",\n        \"std\": 1781.8249538614377,\n        \"min\": 25.2,\n        \"max\": 11490.73,\n        \"num_unique_values\": 4828,\n        \"samples\": [\n          51.01\n        ],\n        \"semantic_type\": \"\",\n        \"description\": \"\"\n      }\n    },\n    {\n      \"column\": \"Volume\",\n      \"properties\": {\n        \"dtype\": \"number\",\n        \"std\": 1798886,\n        \"min\": 3,\n        \"max\": 25960105,\n        \"num_unique_values\": 4577,\n        \"samples\": [\n          50027\n        ],\n        \"semantic_type\": \"\",\n        \"description\": \"\"\n      }\n    },\n    {\n      \"column\": \"Turnover\",\n      \"properties\": {\n        \"dtype\": \"number\",\n        \"std\": 490671060066924.6,\n        \"min\": 10470000.0,\n        \"max\": 8787971866839998.0,\n        \"num_unique_values\": 5067,\n        \"samples\": [\n          538227008995000.0\n        ],\n        \"semantic_type\": \"\",\n        \"description\": \"\"\n      }\n    },\n    {\n      \"column\": \"Trades\",\n      \"properties\": {\n        \"dtype\": \"number\",\n        \"std\": 101514.25944381092,\n        \"min\": 21.0,\n        \"max\": 979111.0,\n        \"num_unique_values\": 2164,\n        \"samples\": [\n          633184.0\n        ],\n        \"semantic_type\": \"\",\n        \"description\": \"\"\n      }\n    },\n    {\n      \"column\": \"Deliverable Volume\",\n      \"properties\": {\n        \"dtype\": \"number\",\n        \"std\": 349589.5363690998,\n        \"min\": 6.0,\n        \"max\": 3690656.0,\n        \"num_unique_values\": 4324,\n        \"samples\": [\n          30578.0\n        ],\n        \"semantic_type\": \"\",\n        \"description\": \"\"\n      }\n    },\n    {\n      \"column\": \"%Deliverble\",\n      \"properties\": {\n        \"dtype\": \"number\",\n        \"std\": 0.23352199277133442,\n        \"min\": 0.0575,\n        \"max\": 1.0,\n        \"num_unique_values\": 3446,\n        \"samples\": [\n          0.7458\n        ],\n        \"semantic_type\": \"\",\n        \"description\": \"\"\n      }\n    }\n  ]\n}"
            }
          },
          "metadata": {},
          "execution_count": 2
        }
      ]
    },
    {
      "cell_type": "code",
      "source": [
        "df.set_index('Date', inplace=True)"
      ],
      "metadata": {
        "id": "KRzPRalJnWrf"
      },
      "execution_count": 3,
      "outputs": []
    },
    {
      "cell_type": "code",
      "source": [
        "# Plotting our target variable 'VWAP' over time\n",
        "df['VWAP'].plot()"
      ],
      "metadata": {
        "colab": {
          "base_uri": "https://localhost:8080/",
          "height": 471
        },
        "id": "OXJLtvQauQ6z",
        "outputId": "fd6a1ebc-dc89-4f87-dffb-cd2993a076e2"
      },
      "execution_count": 4,
      "outputs": [
        {
          "output_type": "execute_result",
          "data": {
            "text/plain": [
              "<Axes: xlabel='Date'>"
            ]
          },
          "metadata": {},
          "execution_count": 4
        },
        {
          "output_type": "display_data",
          "data": {
            "text/plain": [
              "<Figure size 640x480 with 1 Axes>"
            ],
            "image/png": "[encoded data removed]"
          },
          "metadata": {}
        }
      ]
    },
    {
      "cell_type": "markdown",
      "source": [
        "Here we can observe some kind of Seasonality"
      ],
      "metadata": {
        "id": "0ASGlZ4Pusif"
      }
    },
    {
      "cell_type": "markdown",
      "source": [
        "# Data Preprocessing"
      ],
      "metadata": {
        "id": "qudPCVr9r4XR"
      }
    },
    {
      "cell_type": "code",
      "source": [
        "df.shape"
      ],
      "metadata": {
        "colab": {
          "base_uri": "https://localhost:8080/"
        },
        "id": "oO8YcUNArkdN",
        "outputId": "c7e245aa-9108-4624-87fd-4f7828334b8c"
      },
      "execution_count": 5,
      "outputs": [
        {
          "output_type": "execute_result",
          "data": {
            "text/plain": [
              "(5070, 14)"
            ]
          },
          "metadata": {},
          "execution_count": 5
        }
      ]
    },
    {
      "cell_type": "code",
      "source": [
        "df.isna().sum()"
      ],
      "metadata": {
        "colab": {
          "base_uri": "https://localhost:8080/"
        },
        "id": "AgAiA8i5u-AH",
        "outputId": "1c0d58ca-17a3-4eb1-e4fc-52f61d05a411"
      },
      "execution_count": 6,
      "outputs": [
        {
          "output_type": "execute_result",
          "data": {
            "text/plain": [
              "Symbol                   0\n",
              "Series                   0\n",
              "Prev Close               0\n",
              "Open                     0\n",
              "High                     0\n",
              "Low                      0\n",
              "Last                     0\n",
              "Close                    0\n",
              "VWAP                     0\n",
              "Volume                   0\n",
              "Turnover                 0\n",
              "Trades                2779\n",
              "Deliverable Volume     446\n",
              "%Deliverble            446\n",
              "dtype: int64"
            ]
          },
          "metadata": {},
          "execution_count": 6
        }
      ]
    },
    {
      "cell_type": "code",
      "source": [
        "# Drop NaN values\n",
        "df.dropna(inplace=True)"
      ],
      "metadata": {
        "id": "7z7A7IYDu6NJ"
      },
      "execution_count": 7,
      "outputs": []
    },
    {
      "cell_type": "code",
      "source": [
        "df.isna().sum()"
      ],
      "metadata": {
        "colab": {
          "base_uri": "https://localhost:8080/"
        },
        "id": "uAe-WaZvvSbA",
        "outputId": "28358622-c502-47ef-c44f-2e15ab773161"
      },
      "execution_count": 8,
      "outputs": [
        {
          "output_type": "execute_result",
          "data": {
            "text/plain": [
              "Symbol                0\n",
              "Series                0\n",
              "Prev Close            0\n",
              "Open                  0\n",
              "High                  0\n",
              "Low                   0\n",
              "Last                  0\n",
              "Close                 0\n",
              "VWAP                  0\n",
              "Volume                0\n",
              "Turnover              0\n",
              "Trades                0\n",
              "Deliverable Volume    0\n",
              "%Deliverble           0\n",
              "dtype: int64"
            ]
          },
          "metadata": {},
          "execution_count": 8
        }
      ]
    },
    {
      "cell_type": "code",
      "source": [
        "df.shape"
      ],
      "metadata": {
        "colab": {
          "base_uri": "https://localhost:8080/"
        },
        "id": "-kimPZgnvgfr",
        "outputId": "b055f124-497f-4af2-ad61-ad69da3755a0"
      },
      "execution_count": 9,
      "outputs": [
        {
          "output_type": "execute_result",
          "data": {
            "text/plain": [
              "(2291, 14)"
            ]
          },
          "metadata": {},
          "execution_count": 9
        }
      ]
    },
    {
      "cell_type": "markdown",
      "source": [
        "# Feature Engineering"
      ],
      "metadata": {
        "id": "DWV5bIM1sEaq"
      }
    },
    {
      "cell_type": "code",
      "source": [
        "data = df.copy()"
      ],
      "metadata": {
        "id": "HKnzfkxEsIFx"
      },
      "execution_count": 10,
      "outputs": []
    },
    {
      "cell_type": "code",
      "source": [
        "data.dtypes"
      ],
      "metadata": {
        "colab": {
          "base_uri": "https://localhost:8080/"
        },
        "id": "mIjr3x5CwC7u",
        "outputId": "24ed39f5-6e30-4339-fec7-efcf8a6cbfe7"
      },
      "execution_count": 11,
      "outputs": [
        {
          "output_type": "execute_result",
          "data": {
            "text/plain": [
              "Symbol                 object\n",
              "Series                 object\n",
              "Prev Close            float64\n",
              "Open                  float64\n",
              "High                  float64\n",
              "Low                   float64\n",
              "Last                  float64\n",
              "Close                 float64\n",
              "VWAP                  float64\n",
              "Volume                  int64\n",
              "Turnover              float64\n",
              "Trades                float64\n",
              "Deliverable Volume    float64\n",
              "%Deliverble           float64\n",
              "dtype: object"
            ]
          },
          "metadata": {},
          "execution_count": 11
        }
      ]
    },
    {
      "cell_type": "code",
      "source": [
        "data.columns"
      ],
      "metadata": {
        "colab": {
          "base_uri": "https://localhost:8080/"
        },
        "id": "70oP0iznwJJ2",
        "outputId": "77329e5e-2963-49b8-dee2-0756f017b7c8"
      },
      "execution_count": 12,
      "outputs": [
        {
          "output_type": "execute_result",
          "data": {
            "text/plain": [
              "Index(['Symbol', 'Series', 'Prev Close', 'Open', 'High', 'Low', 'Last',\n",
              "       'Close', 'VWAP', 'Volume', 'Turnover', 'Trades', 'Deliverable Volume',\n",
              "       '%Deliverble'],\n",
              "      dtype='object')"
            ]
          },
          "metadata": {},
          "execution_count": 12
        }
      ]
    },
    {
      "cell_type": "code",
      "source": [
        "lag_features=['High','Low','Volume','Turnover','Trades']\n",
        "window1=3\n",
        "window2=7"
      ],
      "metadata": {
        "id": "B-laDJEuwME4"
      },
      "execution_count": 14,
      "outputs": []
    },
    {
      "cell_type": "code",
      "source": [
        "for feature in lag_features:\n",
        "  data[feature+'_rolling_mean_3']=data[feature].rolling(window=window1).mean()\n",
        "  data[feature+'_rolling_mean_7']=data[feature].rolling(window=window2).mean()"
      ],
      "metadata": {
        "id": "KicMFBMeoGWq"
      },
      "execution_count": 87,
      "outputs": []
    },
    {
      "cell_type": "code",
      "source": [
        "for feature in lag_features:\n",
        "  data[feature+'_rolling_std_3']=data[feature].rolling(window=window1).std()\n",
        "  data[feature+'_rolling_std_7']=data[feature].rolling(window=window2).std()"
      ],
      "metadata": {
        "id": "JU0B3TLOoJfd"
      },
      "execution_count": 88,
      "outputs": []
    },
    {
      "cell_type": "code",
      "source": [
        "data.head()"
      ],
      "metadata": {
        "id": "Zu8hd_9qoLav"
      },
      "execution_count": null,
      "outputs": []
    },
    {
      "cell_type": "code",
      "source": [
        "data.columns"
      ],
      "metadata": {
        "colab": {
          "base_uri": "https://localhost:8080/"
        },
        "id": "ziHwRVCgyE_T",
        "outputId": "d052759f-1bb0-4536-ed21-1a1cc29cbcda"
      },
      "execution_count": 91,
      "outputs": [
        {
          "output_type": "execute_result",
          "data": {
            "text/plain": [
              "Index(['Symbol', 'Series', 'Prev Close', 'Open', 'High', 'Low', 'Last',\n",
              "       'Close', 'VWAP', 'Volume', 'Turnover', 'Trades', 'Deliverable Volume',\n",
              "       '%Deliverble', 'High_rolling_mean_3', 'High_rolling_mean_7',\n",
              "       'Low_rolling_mean_3', 'Low_rolling_mean_7', 'Volume_rolling_mean_3',\n",
              "       'Volume_rolling_mean_7', 'Turnover_rolling_mean_3',\n",
              "       'Turnover_rolling_mean_7', 'Trades_rolling_mean_3',\n",
              "       'Trades_rolling_mean_7', 'High_rolling_std_3', 'High_rolling_std_7',\n",
              "       'Low_rolling_std_3', 'Low_rolling_std_7', 'Volume_rolling_std_3',\n",
              "       'Volume_rolling_std_7', 'Turnover_rolling_std_3',\n",
              "       'Turnover_rolling_std_7', 'Trades_rolling_std_3',\n",
              "       'Trades_rolling_std_7'],\n",
              "      dtype='object')"
            ]
          },
          "metadata": {},
          "execution_count": 91
        }
      ]
    },
    {
      "cell_type": "code",
      "source": [
        "data.shape"
      ],
      "metadata": {
        "colab": {
          "base_uri": "https://localhost:8080/"
        },
        "id": "y0tL7BMxyHsd",
        "outputId": "50926b06-f38c-441f-8366-ae699c4312c6"
      },
      "execution_count": 19,
      "outputs": [
        {
          "output_type": "execute_result",
          "data": {
            "text/plain": [
              "(2291, 34)"
            ]
          },
          "metadata": {},
          "execution_count": 19
        }
      ]
    },
    {
      "cell_type": "code",
      "source": [
        "data.isna().sum()"
      ],
      "metadata": {
        "colab": {
          "base_uri": "https://localhost:8080/"
        },
        "id": "G1CLFVIwyJg9",
        "outputId": "023ff03a-ac60-411a-f894-1f97f1f748ab"
      },
      "execution_count": 92,
      "outputs": [
        {
          "output_type": "execute_result",
          "data": {
            "text/plain": [
              "Symbol                     0\n",
              "Series                     0\n",
              "Prev Close                 0\n",
              "Open                       0\n",
              "High                       0\n",
              "Low                        0\n",
              "Last                       0\n",
              "Close                      0\n",
              "VWAP                       0\n",
              "Volume                     0\n",
              "Turnover                   0\n",
              "Trades                     0\n",
              "Deliverable Volume         0\n",
              "%Deliverble                0\n",
              "High_rolling_mean_3        2\n",
              "High_rolling_mean_7        6\n",
              "Low_rolling_mean_3         2\n",
              "Low_rolling_mean_7         6\n",
              "Volume_rolling_mean_3      2\n",
              "Volume_rolling_mean_7      6\n",
              "Turnover_rolling_mean_3    2\n",
              "Turnover_rolling_mean_7    6\n",
              "Trades_rolling_mean_3      2\n",
              "Trades_rolling_mean_7      6\n",
              "High_rolling_std_3         2\n",
              "High_rolling_std_7         6\n",
              "Low_rolling_std_3          2\n",
              "Low_rolling_std_7          6\n",
              "Volume_rolling_std_3       2\n",
              "Volume_rolling_std_7       6\n",
              "Turnover_rolling_std_3     2\n",
              "Turnover_rolling_std_7     6\n",
              "Trades_rolling_std_3       2\n",
              "Trades_rolling_std_7       6\n",
              "dtype: int64"
            ]
          },
          "metadata": {},
          "execution_count": 92
        }
      ]
    },
    {
      "cell_type": "code",
      "source": [
        "data.dropna(inplace=True)"
      ],
      "metadata": {
        "id": "tZfs6DavyOEg"
      },
      "execution_count": 93,
      "outputs": []
    },
    {
      "cell_type": "code",
      "source": [
        "data.isna().sum()"
      ],
      "metadata": {
        "colab": {
          "base_uri": "https://localhost:8080/"
        },
        "id": "t85rlnhrKKBh",
        "outputId": "b252501e-c3af-4c20-bc0d-52c2e47aed38"
      },
      "execution_count": 94,
      "outputs": [
        {
          "output_type": "execute_result",
          "data": {
            "text/plain": [
              "Symbol                     0\n",
              "Series                     0\n",
              "Prev Close                 0\n",
              "Open                       0\n",
              "High                       0\n",
              "Low                        0\n",
              "Last                       0\n",
              "Close                      0\n",
              "VWAP                       0\n",
              "Volume                     0\n",
              "Turnover                   0\n",
              "Trades                     0\n",
              "Deliverable Volume         0\n",
              "%Deliverble                0\n",
              "High_rolling_mean_3        0\n",
              "High_rolling_mean_7        0\n",
              "Low_rolling_mean_3         0\n",
              "Low_rolling_mean_7         0\n",
              "Volume_rolling_mean_3      0\n",
              "Volume_rolling_mean_7      0\n",
              "Turnover_rolling_mean_3    0\n",
              "Turnover_rolling_mean_7    0\n",
              "Trades_rolling_mean_3      0\n",
              "Trades_rolling_mean_7      0\n",
              "High_rolling_std_3         0\n",
              "High_rolling_std_7         0\n",
              "Low_rolling_std_3          0\n",
              "Low_rolling_std_7          0\n",
              "Volume_rolling_std_3       0\n",
              "Volume_rolling_std_7       0\n",
              "Turnover_rolling_std_3     0\n",
              "Turnover_rolling_std_7     0\n",
              "Trades_rolling_std_3       0\n",
              "Trades_rolling_std_7       0\n",
              "dtype: int64"
            ]
          },
          "metadata": {},
          "execution_count": 94
        }
      ]
    },
    {
      "cell_type": "code",
      "source": [
        "data.columns"
      ],
      "metadata": {
        "colab": {
          "base_uri": "https://localhost:8080/"
        },
        "id": "tDRldnaYyaQJ",
        "outputId": "cb583c27-daed-4db9-c6f9-6fe2b25c2415"
      },
      "execution_count": 95,
      "outputs": [
        {
          "output_type": "execute_result",
          "data": {
            "text/plain": [
              "Index(['Symbol', 'Series', 'Prev Close', 'Open', 'High', 'Low', 'Last',\n",
              "       'Close', 'VWAP', 'Volume', 'Turnover', 'Trades', 'Deliverable Volume',\n",
              "       '%Deliverble', 'High_rolling_mean_3', 'High_rolling_mean_7',\n",
              "       'Low_rolling_mean_3', 'Low_rolling_mean_7', 'Volume_rolling_mean_3',\n",
              "       'Volume_rolling_mean_7', 'Turnover_rolling_mean_3',\n",
              "       'Turnover_rolling_mean_7', 'Trades_rolling_mean_3',\n",
              "       'Trades_rolling_mean_7', 'High_rolling_std_3', 'High_rolling_std_7',\n",
              "       'Low_rolling_std_3', 'Low_rolling_std_7', 'Volume_rolling_std_3',\n",
              "       'Volume_rolling_std_7', 'Turnover_rolling_std_3',\n",
              "       'Turnover_rolling_std_7', 'Trades_rolling_std_3',\n",
              "       'Trades_rolling_std_7'],\n",
              "      dtype='object')"
            ]
          },
          "metadata": {},
          "execution_count": 95
        }
      ]
    },
    {
      "cell_type": "markdown",
      "source": [
        "# Model Training"
      ],
      "metadata": {
        "id": "KMH10TVHsJ8T"
      }
    },
    {
      "cell_type": "code",
      "source": [
        "# Split Data (2291, 34)\n",
        "train_size = 1800\n",
        "train_data = data[0:1800]\n",
        "test_data = data[1800:]"
      ],
      "metadata": {
        "id": "zPICK5SxsJL1"
      },
      "execution_count": 96,
      "outputs": []
    },
    {
      "cell_type": "code",
      "source": [
        "train_data"
      ],
      "metadata": {
        "id": "u2BeqrMGFZwU"
      },
      "execution_count": null,
      "outputs": []
    },
    {
      "cell_type": "code",
      "source": [
        "test_data"
      ],
      "metadata": {
        "id": "t8dA_chcFjj9"
      },
      "execution_count": null,
      "outputs": []
    },
    {
      "cell_type": "code",
      "source": [
        "import warnings\n",
        "warnings.filterwarnings('ignore')"
      ],
      "metadata": {
        "id": "D43Y7JR-zyxR"
      },
      "execution_count": 62,
      "outputs": []
    },
    {
      "cell_type": "code",
      "source": [
        "from pmdarima.arima import auto_arima"
      ],
      "metadata": {
        "id": "6siQ7DY70MC7"
      },
      "execution_count": 98,
      "outputs": []
    },
    {
      "cell_type": "code",
      "source": [
        "data.columns"
      ],
      "metadata": {
        "colab": {
          "base_uri": "https://localhost:8080/"
        },
        "id": "xP9fVwoT0jpB",
        "outputId": "1ad5707a-0f0d-48f2-b9af-7c8e2061e403"
      },
      "execution_count": 99,
      "outputs": [
        {
          "output_type": "execute_result",
          "data": {
            "text/plain": [
              "Index(['Symbol', 'Series', 'Prev Close', 'Open', 'High', 'Low', 'Last',\n",
              "       'Close', 'VWAP', 'Volume', 'Turnover', 'Trades', 'Deliverable Volume',\n",
              "       '%Deliverble', 'High_rolling_mean_3', 'High_rolling_mean_7',\n",
              "       'Low_rolling_mean_3', 'Low_rolling_mean_7', 'Volume_rolling_mean_3',\n",
              "       'Volume_rolling_mean_7', 'Turnover_rolling_mean_3',\n",
              "       'Turnover_rolling_mean_7', 'Trades_rolling_mean_3',\n",
              "       'Trades_rolling_mean_7', 'High_rolling_std_3', 'High_rolling_std_7',\n",
              "       'Low_rolling_std_3', 'Low_rolling_std_7', 'Volume_rolling_std_3',\n",
              "       'Volume_rolling_std_7', 'Turnover_rolling_std_3',\n",
              "       'Turnover_rolling_std_7', 'Trades_rolling_std_3',\n",
              "       'Trades_rolling_std_7'],\n",
              "      dtype='object')"
            ]
          },
          "metadata": {},
          "execution_count": 99
        }
      ]
    },
    {
      "cell_type": "code",
      "source": [
        "# Fit Model\n",
        "rolling_features = ['High_rolling_mean_3', 'High_rolling_mean_7',\n",
        "       'Low_rolling_mean_3', 'Low_rolling_mean_7', 'Volume_rolling_mean_3',\n",
        "       'Volume_rolling_mean_7', 'Turnover_rolling_mean_3',\n",
        "       'Turnover_rolling_mean_7', 'Trades_rolling_mean_3',\n",
        "       'Trades_rolling_mean_7', 'High_rolling_std_3', 'High_rolling_std_7',\n",
        "       'Low_rolling_std_3', 'Low_rolling_std_7', 'Volume_rolling_std_3',\n",
        "       'Volume_rolling_std_7', 'Turnover_rolling_std_3',\n",
        "       'Turnover_rolling_std_7', 'Trades_rolling_std_3',\n",
        "       'Trades_rolling_std_7']"
      ],
      "metadata": {
        "id": "PIaamOK5zdB3"
      },
      "execution_count": 100,
      "outputs": []
    },
    {
      "cell_type": "code",
      "source": [
        "# Building the ARIMA Model\n",
        "# model = auto_arima(y_train, exogenous=X_train)\n",
        "model = auto_arima(y=train_data['VWAP'], exogenous=train_data[rolling_features])"
      ],
      "metadata": {
        "id": "IUqFmV3NF0iI"
      },
      "execution_count": 101,
      "outputs": []
    },
    {
      "cell_type": "code",
      "source": [
        "# Fit the model with exogenous variables\n",
        "# model.fit(y_train, exogenous=X_train)\n",
        "model.fit(train_data['VWAP'], exogenous=train_data[rolling_features])"
      ],
      "metadata": {
        "id": "U7HwenjVGLBi",
        "colab": {
          "base_uri": "https://localhost:8080/",
          "height": 74
        },
        "outputId": "239282ba-8c4a-4bea-c164-efa035a0e546"
      },
      "execution_count": 102,
      "outputs": [
        {
          "output_type": "execute_result",
          "data": {
            "text/plain": [
              "ARIMA(order=(0, 1, 0), scoring_args={}, suppress_warnings=True,\n",
              "      with_intercept=False)"
            ],
            "text/html": [
              "<style>#sk-container-id-5 {color: black;background-color: white;}#sk-container-id-5 pre{padding: 0;}#sk-container-id-5 div.sk-toggleable {background-color: white;}#sk-container-id-5 label.sk-toggleable__label {cursor: pointer;display: block;width: 100%;margin-bottom: 0;padding: 0.3em;box-sizing: border-box;text-align: center;}#sk-container-id-5 label.sk-toggleable__label-arrow:before {content: \"▸\";float: left;margin-right: 0.25em;color: #696969;}#sk-container-id-5 label.sk-toggleable__label-arrow:hover:before {color: black;}#sk-container-id-5 div.sk-estimator:hover label.sk-toggleable__label-arrow:before {color: black;}#sk-container-id-5 div.sk-toggleable__content {max-height: 0;max-width: 0;overflow: hidden;text-align: left;background-color: #f0f8ff;}#sk-container-id-5 div.sk-toggleable__content pre {margin: 0.2em;color: black;border-radius: 0.25em;background-color: #f0f8ff;}#sk-container-id-5 input.sk-toggleable__control:checked~div.sk-toggleable__content {max-height: 200px;max-width: 100%;overflow: auto;}#sk-container-id-5 input.sk-toggleable__control:checked~label.sk-toggleable__label-arrow:before {content: \"▾\";}#sk-container-id-5 div.sk-estimator input.sk-toggleable__control:checked~label.sk-toggleable__label {background-color: #d4ebff;}#sk-container-id-5 div.sk-label input.sk-toggleable__control:checked~label.sk-toggleable__label {background-color: #d4ebff;}#sk-container-id-5 input.sk-hidden--visually {border: 0;clip: rect(1px 1px 1px 1px);clip: rect(1px, 1px, 1px, 1px);height: 1px;margin: -1px;overflow: hidden;padding: 0;position: absolute;width: 1px;}#sk-container-id-5 div.sk-estimator {font-family: monospace;background-color: #f0f8ff;border: 1px dotted black;border-radius: 0.25em;box-sizing: border-box;margin-bottom: 0.5em;}#sk-container-id-5 div.sk-estimator:hover {background-color: #d4ebff;}#sk-container-id-5 div.sk-parallel-item::after {content: \"\";width: 100%;border-bottom: 1px solid gray;flex-grow: 1;}#sk-container-id-5 div.sk-label:hover label.sk-toggleable__label {background-color: #d4ebff;}#sk-container-id-5 div.sk-serial::before {content: \"\";position: absolute;border-left: 1px solid gray;box-sizing: border-box;top: 0;bottom: 0;left: 50%;z-index: 0;}#sk-container-id-5 div.sk-serial {display: flex;flex-direction: column;align-items: center;background-color: white;padding-right: 0.2em;padding-left: 0.2em;position: relative;}#sk-container-id-5 div.sk-item {position: relative;z-index: 1;}#sk-container-id-5 div.sk-parallel {display: flex;align-items: stretch;justify-content: center;background-color: white;position: relative;}#sk-container-id-5 div.sk-item::before, #sk-container-id-5 div.sk-parallel-item::before {content: \"\";position: absolute;border-left: 1px solid gray;box-sizing: border-box;top: 0;bottom: 0;left: 50%;z-index: -1;}#sk-container-id-5 div.sk-parallel-item {display: flex;flex-direction: column;z-index: 1;position: relative;background-color: white;}#sk-container-id-5 div.sk-parallel-item:first-child::after {align-self: flex-end;width: 50%;}#sk-container-id-5 div.sk-parallel-item:last-child::after {align-self: flex-start;width: 50%;}#sk-container-id-5 div.sk-parallel-item:only-child::after {width: 0;}#sk-container-id-5 div.sk-dashed-wrapped {border: 1px dashed gray;margin: 0 0.4em 0.5em 0.4em;box-sizing: border-box;padding-bottom: 0.4em;background-color: white;}#sk-container-id-5 div.sk-label label {font-family: monospace;font-weight: bold;display: inline-block;line-height: 1.2em;}#sk-container-id-5 div.sk-label-container {text-align: center;}#sk-container-id-5 div.sk-container {/* jupyter's `normalize.less` sets `[hidden] { display: none; }` but bootstrap.min.css set `[hidden] { display: none !important; }` so we also need the `!important` here to be able to override the default hidden behavior on the sphinx rendered scikit-learn.org. See: https://github.com/scikit-learn/scikit-learn/issues/21755 */display: inline-block !important;position: relative;}#sk-container-id-5 div.sk-text-repr-fallback {display: none;}</style><div id=\"sk-container-id-5\" class=\"sk-top-container\"><div class=\"sk-text-repr-fallback\"><pre> ARIMA(0,1,0)(0,0,0)[0]          </pre><b>In a Jupyter environment, please rerun this cell to show the HTML representation or trust the notebook. <br />On GitHub, the HTML representation is unable to render, please try loading this page with nbviewer.org.</b></div><div class=\"sk-container\" hidden><div class=\"sk-item\"><div class=\"sk-estimator sk-toggleable\"><input class=\"sk-toggleable__control sk-hidden--visually\" id=\"sk-estimator-id-5\" type=\"checkbox\" checked><label for=\"sk-estimator-id-5\" class=\"sk-toggleable__label sk-toggleable__label-arrow\">ARIMA</label><div class=\"sk-toggleable__content\"><pre> ARIMA(0,1,0)(0,0,0)[0]          </pre></div></div></div></div></div>"
            ]
          },
          "metadata": {},
          "execution_count": 102
        }
      ]
    },
    {
      "cell_type": "code",
      "source": [
        "# Forecasting\n",
        "# forecast = model.predict(n_periods=len(X_test), exogenous=X_test)\n",
        "forecast = model.predict(n_periods=len(test_data[rolling_features]), exogenous=test_data[rolling_features])\n",
        "forecast"
      ],
      "metadata": {
        "colab": {
          "base_uri": "https://localhost:8080/"
        },
        "id": "BGUWoz4KL4UX",
        "outputId": "a6989f8f-fe19-407f-fe45-5da1f1a9b3d5"
      },
      "execution_count": 103,
      "outputs": [
        {
          "output_type": "execute_result",
          "data": {
            "text/plain": [
              "1800    2534.22\n",
              "1801    2534.22\n",
              "1802    2534.22\n",
              "1803    2534.22\n",
              "1804    2534.22\n",
              "         ...   \n",
              "2274    2534.22\n",
              "2275    2534.22\n",
              "2276    2534.22\n",
              "2277    2534.22\n",
              "2278    2534.22\n",
              "Length: 479, dtype: float64"
            ]
          },
          "metadata": {},
          "execution_count": 103
        }
      ]
    },
    {
      "cell_type": "markdown",
      "source": [
        "# Model Evaluation"
      ],
      "metadata": {
        "id": "iCCWUtvksNce"
      }
    },
    {
      "cell_type": "code",
      "source": [
        "# Ensure index alignment\n",
        "forecast.index = test_data.index"
      ],
      "metadata": {
        "id": "VTWZ8fAPNIvw"
      },
      "execution_count": 104,
      "outputs": []
    },
    {
      "cell_type": "code",
      "source": [
        "forecast.index"
      ],
      "metadata": {
        "colab": {
          "base_uri": "https://localhost:8080/"
        },
        "id": "kOhbg6rMNhZs",
        "outputId": "f7f7b690-e34f-47cc-ac53-745d8223e2be"
      },
      "execution_count": 105,
      "outputs": [
        {
          "output_type": "execute_result",
          "data": {
            "text/plain": [
              "Index(['2018-09-21', '2018-09-24', '2018-09-25', '2018-09-26', '2018-09-27',\n",
              "       '2018-09-28', '2018-10-01', '2018-10-03', '2018-10-04', '2018-10-05',\n",
              "       ...\n",
              "       '2020-08-18', '2020-08-19', '2020-08-20', '2020-08-21', '2020-08-24',\n",
              "       '2020-08-25', '2020-08-26', '2020-08-27', '2020-08-28', '2020-08-31'],\n",
              "      dtype='object', name='Date', length=479)"
            ]
          },
          "metadata": {},
          "execution_count": 105
        }
      ]
    },
    {
      "cell_type": "code",
      "source": [
        "# Assign forecasted values to 'Forecast_ARIMA' column\n",
        "test_data['Forecast_ARIMA'] = forecast"
      ],
      "metadata": {
        "id": "XkpFxW81NPmA"
      },
      "execution_count": 106,
      "outputs": []
    },
    {
      "cell_type": "code",
      "source": [
        "test_data['Forecast_ARIMA']"
      ],
      "metadata": {
        "colab": {
          "base_uri": "https://localhost:8080/"
        },
        "id": "uTNxBnHQNRU_",
        "outputId": "719e13a3-1536-4ac3-d894-7dd34f9f2370"
      },
      "execution_count": 107,
      "outputs": [
        {
          "output_type": "execute_result",
          "data": {
            "text/plain": [
              "Date\n",
              "2018-09-21    2534.22\n",
              "2018-09-24    2534.22\n",
              "2018-09-25    2534.22\n",
              "2018-09-26    2534.22\n",
              "2018-09-27    2534.22\n",
              "               ...   \n",
              "2020-08-25    2534.22\n",
              "2020-08-26    2534.22\n",
              "2020-08-27    2534.22\n",
              "2020-08-28    2534.22\n",
              "2020-08-31    2534.22\n",
              "Name: Forecast_ARIMA, Length: 479, dtype: float64"
            ]
          },
          "metadata": {},
          "execution_count": 107
        }
      ]
    },
    {
      "cell_type": "code",
      "source": [
        "# Calculate evaluation metrics to see Accuracy of our model\n",
        "from sklearn.metrics import mean_squared_error, mean_absolute_error\n",
        "\n",
        "rmse = np.sqrt(mean_squared_error(test_data['VWAP'], test_data['Forecast_ARIMA']))\n",
        "mae = mean_absolute_error(test_data['VWAP'], test_data['Forecast_ARIMA'])\n",
        "\n",
        "print('RMSE:', rmse)\n",
        "print('MAE:', mae)"
      ],
      "metadata": {
        "id": "jxE3lj-P1pZ8",
        "colab": {
          "base_uri": "https://localhost:8080/"
        },
        "outputId": "ccdeab37-8afe-4c2f-e5b8-7272e2f961ff"
      },
      "execution_count": 108,
      "outputs": [
        {
          "output_type": "stream",
          "name": "stdout",
          "text": [
            "RMSE: 979.4614621816197\n",
            "MAE: 770.6754070981214\n"
          ]
        }
      ]
    },
    {
      "cell_type": "markdown",
      "source": [
        "# Results Visualization"
      ],
      "metadata": {
        "id": "OH6oNB8wsQNZ"
      }
    },
    {
      "cell_type": "code",
      "source": [
        "# Plot actual vs forecasted values\n",
        "plt.figure(figsize=(14, 7))\n",
        "plt.plot(test_data['VWAP'], label='Actual')\n",
        "plt.plot(test_data['Forecast_ARIMA'], label='Forecast')\n",
        "plt.legend()\n",
        "plt.title('Actual vs Forecasted VWAP')\n",
        "plt.show()"
      ],
      "metadata": {
        "id": "KDrq6MHOsPRy",
        "colab": {
          "base_uri": "https://localhost:8080/",
          "height": 448
        },
        "outputId": "ef8321b0-6f25-4ba1-b9e2-f51792269e05"
      },
      "execution_count": 109,
      "outputs": [
        {
          "output_type": "display_data",
          "data": {
            "text/plain": [
              "<Figure size 1400x700 with 1 Axes>"
            ],
            "image/png": "[encoded data removed]"
          },
          "metadata": {}
        }
      ]
    },
    {
      "cell_type": "code",
      "source": [],
      "metadata": {
        "id": "qKPtAqDJN3fg"
      },
      "execution_count": null,
      "outputs": []
    }
  ]
}